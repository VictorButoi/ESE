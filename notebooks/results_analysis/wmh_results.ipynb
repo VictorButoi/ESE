{
 "cells": [
  {
   "cell_type": "code",
   "execution_count": null,
   "metadata": {},
   "outputs": [],
   "source": [
    "import sys\n",
    "sys.path.append('/storage/vbutoi/projects')\n",
    "sys.path.append('/storage/vbutoi/libraries')\n",
    "sys.path.append('/storage/vbutoi/projects/ESE')\n",
    "sys.path.append('/storage/vbutoi/projects/UniverSeg')\n",
    "\n",
    "import matplotlib.pyplot as plt\n",
    "import seaborn as sns\n",
    "sns.set_style(\"darkgrid\")\n",
    "\n",
    "import os \n",
    "os.environ['DATAPATH'] = ':'.join((\n",
    "       '/storage/vbutoi/datasets',\n",
    "))\n",
    "\n",
    "# Results loader object does everything\n",
    "from ionpy.analysis import ResultsLoader\n",
    "from pathlib import Path\n",
    "root = Path(\"/storage/vbutoi/scratch/ESE\")\n",
    "rs = ResultsLoader()\n",
    "\n",
    "# For using code without restarting.\n",
    "%load_ext autoreload\n",
    "%autoreload \n",
    "# For using yaml configs.\n",
    "%load_ext yamlmagic"
   ]
  },
  {
   "cell_type": "code",
   "execution_count": null,
   "metadata": {},
   "outputs": [],
   "source": [
    "%%yaml results_cfg \n",
    "\n",
    "log:\n",
    "    load_pixel_meters: True\n",
    "    root: /storage/vbutoi/scratch/ESE/inference\n",
    "    remove_shared_columns: True\n",
    "    inference_paths:\n",
    "        - \"01_12_24_PixelStats/WMH_Individual_Uncalibrated\"\n",
    "        - \"01_12_24_PixelStats/WMH_Individual_TempScaling\"\n",
    "        - \"01_12_24_PixelStats/WMH_Individual_VectorScaling\"\n",
    "        - \"01_12_24_PixelStats/WMH_Individual_DirichletScaling\"\n",
    "        - \"01_12_24_PixelStats/WMH_Individual_LTS\"\n",
    "        - \"01_12_24_PixelStats/WMH_Ensemble_Uncalibrated\"\n",
    "        - \"01_12_24_PixelStats/WMH_Ensemble_TempScaling\"\n",
    "        - \"01_12_24_PixelStats/WMH_Ensemble_VectorScaling\"\n",
    "        - \"01_12_24_PixelStats/WMH_Ensemble_DirichletScaling\"\n",
    "        - \"01_12_24_PixelStats/WMH_Ensemble_LTS\"\n",
    "    \n",
    "calibration:\n",
    "    conf_interval:\n",
    "        - 0.5\n",
    "        - 1.\n",
    "    num_bins: 10\n",
    "    square_diff: False \n",
    "    neighborhood_width: 3\n",
    "\n",
    "cal_metrics:\n",
    "    - ECE:\n",
    "        _fn: ese.experiment.metrics.ece.ece_loss\n",
    "    - CW_ECE:\n",
    "        _fn: ese.experiment.metrics.ece.cw_ece_loss\n",
    "    - Edge_ECE:\n",
    "        _fn: ese.experiment.metrics.ece.edge_ece_loss\n",
    "    - ELM:\n",
    "        _fn: ese.experiment.metrics.elm.elm_loss\n",
    "    - Foreground_ECE:\n",
    "        _fn: ese.experiment.metrics.ece.ece_loss\n",
    "        ignore_index: 0\n",
    "    - Foreground_CW_ECE:\n",
    "        _fn: ese.experiment.metrics.ece.cw_ece_loss\n",
    "        ignore_index: 0\n",
    "    - Foreground_Edge_ECE:\n",
    "        _fn: ese.experiment.metrics.ece.edge_ece_loss\n",
    "        ignore_index: 0       \n",
    "    - Foreground_ELM:\n",
    "        _fn: ese.experiment.metrics.elm.elm_loss\n",
    "        ignore_index: 0"
   ]
  },
  {
   "cell_type": "code",
   "execution_count": null,
   "metadata": {},
   "outputs": [],
   "source": [
    "from ese.experiment.analysis.inference import load_cal_inference_stats\n",
    "\n",
    "inference_df = load_cal_inference_stats(\n",
    "    results_cfg=results_cfg\n",
    ")"
   ]
  },
  {
   "cell_type": "code",
   "execution_count": null,
   "metadata": {},
   "outputs": [],
   "source": [
    "inference_df.keys()"
   ]
  },
  {
   "cell_type": "code",
   "execution_count": null,
   "metadata": {},
   "outputs": [],
   "source": [
    "len(inference_df)"
   ]
  },
  {
   "cell_type": "markdown",
   "metadata": {},
   "source": [
    "## We are going to remove the case where there are very few pixels, cause unrealistic outliers."
   ]
  },
  {
   "cell_type": "code",
   "execution_count": null,
   "metadata": {},
   "outputs": [],
   "source": [
    "# Keep all of the columns where 'num_lab_1_pixels' is greater than 100.\n",
    "pix_threshold = 100\n",
    "thresholded_pix_df = inference_df[inference_df['num_lab_1_pixels'] > pix_threshold]"
   ]
  },
  {
   "cell_type": "code",
   "execution_count": null,
   "metadata": {},
   "outputs": [],
   "source": [
    "g = sns.histplot(inference_df['num_lab_1_pixels'])\n",
    "g.set_title(\"Histogram of number foreground pixels per image\")"
   ]
  },
  {
   "cell_type": "markdown",
   "metadata": {},
   "source": [
    "## A few of the rows ofr HD95 are NaN, but not too many (about 5%)."
   ]
  },
  {
   "cell_type": "code",
   "execution_count": null,
   "metadata": {},
   "outputs": [],
   "source": [
    "# Get percent of rows with HD95 as the qual matric that have None for qual_score\n",
    "total_hd_records = thresholded_pix_df[thresholded_pix_df['qual_metric'] == 'HD95']\n",
    "num_hd_records = len(total_hd_records)\n",
    "num_nan_hd__records = total_hd_records['qual_score'].isna().sum()\n",
    "print(\"Total HD95 records: \", num_hd_records)\n",
    "print(\"Total HD95 records with None qual_score: \", num_nan_hd__records)\n",
    "print(\"Percent of HD95 records with None qual_score: \", num_nan_hd__records / num_hd_records)"
   ]
  },
  {
   "cell_type": "code",
   "execution_count": null,
   "metadata": {},
   "outputs": [],
   "source": [
    "# Drop the rows of raw_image_info_df that have None for qual_score\n",
    "de_naned_image_info_df = thresholded_pix_df.dropna(subset=['qual_score'])\n",
    "# Fill the rest of the NaN values with 'None'\n",
    "image_info_df = de_naned_image_info_df.fillna('None')"
   ]
  },
  {
   "cell_type": "code",
   "execution_count": null,
   "metadata": {},
   "outputs": [],
   "source": [
    "image_info_df[\"ensemble\"] = image_info_df[\"model.ensemble\"]\n",
    "image_info_df[\"pre_softmax\"] = image_info_df[\"model.ensemble_pre_softmax\"]\n",
    "image_info_df[\"combine_fn\"] = image_info_df[\"model.ensemble_combine_fn\"]\n",
    "\n",
    "image_info_df[\"pretrained_seed\"] = image_info_df[\"experiment.pretrained_seed\"]\n",
    "\n",
    "image_info_df[\"model_class\"] = image_info_df[\"model._class\"]\n",
    "image_info_df[\"pretrained_model_class\"] = image_info_df[\"model._pretrained_class\"]\n",
    "\n",
    "def method_name(model_class, pretrained_model_class, pretrained_seed, ensemble, pre_softmax, combine_fn):\n",
    "    if ensemble:\n",
    "        softmax_modifier = \"pre\" if pre_softmax else \"post\"\n",
    "        method_name_string = f\"Ensemble ({combine_fn}, {softmax_modifier})\" \n",
    "    else:\n",
    "        if pretrained_model_class == \"None\":\n",
    "            method_name_string = f\"{model_class.split('.')[-1]} (seed={pretrained_seed})\"\n",
    "        else:\n",
    "            method_name_string = f\"{pretrained_model_class.split('.')[-1]} (seed={pretrained_seed})\"\n",
    "\n",
    "    return method_name_string\n",
    "\n",
    "def model_class(model_class):\n",
    "    if \"UNet\" in model_class:\n",
    "        return \"Uncalibrated\"\n",
    "    else:\n",
    "        return model_class.split('.')[-1]\n",
    "\n",
    "def configuration(method_name, model_class):\n",
    "    return f\"{method_name}_{model_class}\"\n",
    "\n",
    "image_info_df.augment(method_name)\n",
    "image_info_df.augment(model_class)\n",
    "image_info_df.augment(configuration)"
   ]
  },
  {
   "cell_type": "markdown",
   "metadata": {},
   "source": [
    "## Let's looks at the calibration scores of our models."
   ]
  },
  {
   "cell_type": "code",
   "execution_count": null,
   "metadata": {},
   "outputs": [],
   "source": [
    "g = sns.catplot(\n",
    "    data=image_info_df,\n",
    "    x=\"model_class\",\n",
    "    y=\"ECE\",\n",
    "    hue=\"method_name\",\n",
    "    kind=\"bar\",\n",
    "    height=4,\n",
    "    aspect=2\n",
    ")"
   ]
  },
  {
   "cell_type": "code",
   "execution_count": null,
   "metadata": {},
   "outputs": [],
   "source": [
    "g = sns.catplot(\n",
    "    data=image_info_df,\n",
    "    x=\"model_class\",\n",
    "    y=\"CW_ECE\",\n",
    "    hue=\"method_name\",\n",
    "    kind=\"bar\",\n",
    "    height=4,\n",
    "    aspect=2\n",
    ")"
   ]
  },
  {
   "cell_type": "code",
   "execution_count": null,
   "metadata": {},
   "outputs": [],
   "source": [
    "g = sns.catplot(\n",
    "    data=image_info_df,\n",
    "    x=\"model_class\",\n",
    "    y=\"Edge_ECE\",\n",
    "    hue=\"method_name\",\n",
    "    kind=\"bar\",\n",
    "    height=4,\n",
    "    aspect=2\n",
    ")"
   ]
  },
  {
   "cell_type": "code",
   "execution_count": null,
   "metadata": {},
   "outputs": [],
   "source": [
    "g = sns.catplot(\n",
    "    data=image_info_df,\n",
    "    x=\"model_class\",\n",
    "    y=\"ELM\",\n",
    "    hue=\"method_name\",\n",
    "    kind=\"bar\",\n",
    "    height=4,\n",
    "    aspect=2\n",
    ")"
   ]
  },
  {
   "cell_type": "markdown",
   "metadata": {},
   "source": [
    "## Now we can look at the quality averages themselves, first looking slice-wise."
   ]
  },
  {
   "cell_type": "code",
   "execution_count": null,
   "metadata": {},
   "outputs": [],
   "source": [
    "# table_df = image_info_df.groupby([\"method_name\", \"model_class\", \"qual_metric\", \"ensemble\"])['qual_score'].mean().reset_index()\n",
    "# dice_table = image_info_df[image_info_df[\"qual_metric\"] == \"Dice\"]\n",
    "# hd95_table = image_info_df[image_info_df[\"qual_metric\"] == \"HD95\"]"
   ]
  },
  {
   "cell_type": "code",
   "execution_count": null,
   "metadata": {},
   "outputs": [],
   "source": [
    "# g = sns.catplot(\n",
    "#     data=hd95_table,\n",
    "#     x=\"model_class\",\n",
    "#     y=\"qual_score\",\n",
    "#     hue=\"method_name\",\n",
    "#     kind=\"bar\",\n",
    "#     height=4,\n",
    "#     aspect=2\n",
    "# )\n",
    "# # Set the title of the bar plot\n",
    "# g.fig.suptitle(\"Hausdorff Distance for Different Calibration Methods (Per Slice)\")\n",
    "# # Give the title a bit of spacing from the plot\n",
    "# g.fig.subplots_adjust(top=0.90)\n",
    "# # Set the y axis to be between 4 and 8\n",
    "# g.set(ylim=(4, 10))"
   ]
  },
  {
   "cell_type": "code",
   "execution_count": null,
   "metadata": {},
   "outputs": [],
   "source": [
    "# g = sns.catplot(\n",
    "#     data=dice_table,\n",
    "#     x=\"model_class\",\n",
    "#     y=\"qual_score\",\n",
    "#     hue=\"method_name\",\n",
    "#     kind=\"bar\",\n",
    "#     height=4,\n",
    "#     aspect=2\n",
    "# )\n",
    "# # Set the title of the bar plot\n",
    "# g.fig.suptitle(\"Dice Score for Different Calibration Methods (Per Slice)\")\n",
    "# # Give the title a bit of spacing from the plot\n",
    "# g.fig.subplots_adjust(top=0.90)\n",
    "# # Set the y axis to be between 0.5 and 1.0\n",
    "# g.set(ylim=(0.6, 0.9))"
   ]
  },
  {
   "cell_type": "markdown",
   "metadata": {},
   "source": [
    "## Now we want to consider these averaged within subjects."
   ]
  },
  {
   "cell_type": "code",
   "execution_count": null,
   "metadata": {},
   "outputs": [],
   "source": [
    "# subj_image_info_df = image_info_df.groupby([\"method_name\", \"model_class\", \"qual_metric\", \"ensemble\", \"data_id\"])['qual_score'].mean().reset_index()\n",
    "\n",
    "# subject_dice_table = subj_image_info_df[subj_image_info_df[\"qual_metric\"] == \"Dice\"]\n",
    "# subject_hd95_table = subj_image_info_df[subj_image_info_df[\"qual_metric\"] == \"HD95\"]"
   ]
  },
  {
   "cell_type": "code",
   "execution_count": null,
   "metadata": {},
   "outputs": [],
   "source": [
    "# g = sns.catplot(\n",
    "#     data=subject_hd95_table,\n",
    "#     x=\"model_class\",\n",
    "#     y=\"qual_score\",\n",
    "#     hue=\"method_name\",\n",
    "#     kind=\"bar\",\n",
    "#     height=4,\n",
    "#     aspect=2\n",
    "# )\n",
    "# # Set the title of the bar plot\n",
    "# g.fig.suptitle(\"Hausdorff Distance for Different Calibration Methods (Per Subject)\")\n",
    "# # Give the title a bit of spacing from the plot\n",
    "# g.fig.subplots_adjust(top=0.90)\n",
    "# # Set the y axis to be between 4 and 8\n",
    "# g.set(ylim=(4, 14))"
   ]
  },
  {
   "cell_type": "code",
   "execution_count": null,
   "metadata": {},
   "outputs": [],
   "source": [
    "# g = sns.catplot(\n",
    "#     data=subject_dice_table,\n",
    "#     x=\"model_class\",\n",
    "#     y=\"qual_score\",\n",
    "#     hue=\"method_name\",\n",
    "#     kind=\"bar\",\n",
    "#     height=4,\n",
    "#     aspect=2\n",
    "# )\n",
    "# # Set the title of the bar plot\n",
    "# g.fig.suptitle(\"Dice Score for Different Calibration Methods (Per Subject)\")\n",
    "# # Give the title a bit of spacing from the plot\n",
    "# g.fig.subplots_adjust(top=0.90)\n",
    "# # Set the y axis to be between 0.5 and 1.0\n",
    "# g.set(ylim=(0.6, 0.9))"
   ]
  },
  {
   "cell_type": "markdown",
   "metadata": {},
   "source": [
    "## Make some tables to show these relationships in"
   ]
  },
  {
   "cell_type": "code",
   "execution_count": null,
   "metadata": {},
   "outputs": [],
   "source": [
    "# # Custom formatting function to display 3 significant digits\n",
    "# def format_sigfigs(x, num_sigfigs):\n",
    "#     if isinstance(x, (int, float)):\n",
    "#         format_str = '{:.' + str(num_sigfigs) + 'g}'\n",
    "#         return format_str.format(x)  # Using format to display in scientific notation with specified significant digits\n",
    "#     else:\n",
    "#         return x  # Return the value as is if it's not numeric\n",
    "\n",
    "# # Applying the formatting function to the pivot table\n",
    "# formatted_dice_table = dice_table.applymap(format_sigfigs, num_sigfigs=3)\n",
    "# # Applying the formatting function to the pivot table\n",
    "# formatted_hd95_table = hd95_table.applymap(format_sigfigs, num_sigfigs=4)"
   ]
  },
  {
   "cell_type": "code",
   "execution_count": null,
   "metadata": {},
   "outputs": [],
   "source": [
    "# formatted_dice_table.pivot(index='method_name', columns='model_class', values='qual_score')"
   ]
  },
  {
   "cell_type": "code",
   "execution_count": null,
   "metadata": {},
   "outputs": [],
   "source": [
    "# formatted_hd95_table.pivot(index='method_name', columns='model_class', values='qual_score')"
   ]
  },
  {
   "cell_type": "markdown",
   "metadata": {},
   "source": [
    "## Let's look first at the distribution of errors per configuration."
   ]
  },
  {
   "cell_type": "code",
   "execution_count": null,
   "metadata": {},
   "outputs": [],
   "source": [
    "# dice_image_df = image_info_df[image_info_df['qual_metric'] == 'Dice']\n",
    "# # Use seaborn to create KDE plot for each configuration\n",
    "# g = sns.displot(\n",
    "#     data=dice_image_df.sort_values('configuration'), \n",
    "#     x='qual_score', \n",
    "#     hue='configuration', \n",
    "#     kind='kde',\n",
    "#     palette=build_ensemble_vs_individual_cmap(dice_image_df),\n",
    "#     alpha=0.8\n",
    "#     )"
   ]
  },
  {
   "cell_type": "code",
   "execution_count": null,
   "metadata": {},
   "outputs": [],
   "source": [
    "# dice_image_subject_df = dice_image_df.groupby(['configuration', 'data_id'])['qual_score'].mean().reset_index()\n",
    "# g = sns.displot(\n",
    "#     data=dice_image_subject_df.sort_values('configuration'), \n",
    "#     x='qual_score', \n",
    "#     hue='configuration', \n",
    "#     kind='kde',\n",
    "#     palette=build_ensemble_vs_individual_cmap(dice_image_df),\n",
    "#     alpha=0.8\n",
    "#     )"
   ]
  }
 ],
 "metadata": {
  "kernelspec": {
   "display_name": "UniverSegTF",
   "language": "python",
   "name": "universegtf"
  },
  "language_info": {
   "codemirror_mode": {
    "name": "ipython",
    "version": 3
   },
   "file_extension": ".py",
   "mimetype": "text/x-python",
   "name": "python",
   "nbconvert_exporter": "python",
   "pygments_lexer": "ipython3",
   "version": "3.9.16"
  },
  "orig_nbformat": 4
 },
 "nbformat": 4,
 "nbformat_minor": 2
}
