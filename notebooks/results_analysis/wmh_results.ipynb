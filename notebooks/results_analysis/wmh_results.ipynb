{
 "cells": [
  {
   "cell_type": "code",
   "execution_count": null,
   "metadata": {},
   "outputs": [],
   "source": [
    "import sys\n",
    "sys.path.append('/storage/vbutoi/projects')\n",
    "sys.path.append('/storage/vbutoi/libraries')\n",
    "sys.path.append('/storage/vbutoi/projects/ESE')\n",
    "sys.path.append('/storage/vbutoi/projects/UniverSeg')\n",
    "\n",
    "import matplotlib.pyplot as plt\n",
    "import seaborn as sns\n",
    "sns.set_style(\"darkgrid\")\n",
    "\n",
    "import os \n",
    "os.environ['DATAPATH'] = ':'.join((\n",
    "       '/storage/vbutoi/datasets',\n",
    "))\n",
    "\n",
    "# Results loader object does everything\n",
    "from ionpy.analysis import ResultsLoader\n",
    "from pathlib import Path\n",
    "root = Path(\"/storage/vbutoi/scratch/ESE\")\n",
    "rs = ResultsLoader()\n",
    "\n",
    "# For using code without restarting.\n",
    "%load_ext autoreload\n",
    "%autoreload \n",
    "# For using yaml configs.\n",
    "%load_ext yamlmagic"
   ]
  },
  {
   "cell_type": "code",
   "execution_count": null,
   "metadata": {},
   "outputs": [],
   "source": [
    "from ese.experiment.analysis.inference import load_cal_inference_stats\n",
    "\n",
    "inference_paths = [\n",
    "    root / \"inference/01_09_24_ExpandedMetrics/WMH_Individual_Uncalibrated\",\n",
    "    root / \"inference/01_09_24_ExpandedMetrics/WMH_Individual_TempScaling\",\n",
    "    root / \"inference/01_09_24_ExpandedMetrics/WMH_Individual_VectorScaling\",\n",
    "    root / \"inference/01_09_24_ExpandedMetrics/WMH_Individual_DirichletScaling\",\n",
    "    root / \"inference/01_09_24_ExpandedMetrics/WMH_Individual_LTS\",\n",
    "    root / \"inference/01_09_24_ExpandedMetrics/WMH_Ensemble_Uncalibrated\",\n",
    "    root / \"inference/01_09_24_ExpandedMetrics/WMH_Ensemble_TempScaling\",\n",
    "    root / \"inference/01_09_24_ExpandedMetrics/WMH_Ensemble_VectorScaling\",\n",
    "    root / \"inference/01_09_24_ExpandedMetrics/WMH_Ensemble_DirichletScaling\",\n",
    "    root / \"inference/01_09_24_ExpandedMetrics/WMH_Ensemble_LTS\"\n",
    "]\n",
    "\n",
    "inference_info_dict = load_cal_inference_stats(\n",
    "    log_dirs=inference_paths,\n",
    "    load_image_df=True,\n",
    "    load_pixel_meters_dict=False\n",
    ")\n",
    "image_info_df = inference_info_dict['image_info_df']\n",
    "image_info_df = image_info_df.fillna('None')"
   ]
  },
  {
   "cell_type": "code",
   "execution_count": null,
   "metadata": {},
   "outputs": [],
   "source": [
    "image_info_df['model._class'].unique()"
   ]
  },
  {
   "cell_type": "code",
   "execution_count": null,
   "metadata": {},
   "outputs": [],
   "source": [
    "image_info_df[image_info_df['model._class'] == \"ese.experiment.models.calibrators.Temperature_Scaling\"]"
   ]
  },
  {
   "cell_type": "code",
   "execution_count": null,
   "metadata": {},
   "outputs": [],
   "source": [
    "image_info_df['model._pretrained_class'].iloc[0]"
   ]
  },
  {
   "cell_type": "code",
   "execution_count": null,
   "metadata": {},
   "outputs": [],
   "source": [
    "image_info_df.head(10)"
   ]
  },
  {
   "cell_type": "code",
   "execution_count": null,
   "metadata": {},
   "outputs": [],
   "source": [
    "image_info_df[\"ensemble\"] = image_info_df[\"model.ensemble\"]\n",
    "image_info_df[\"pre_softmax\"] = image_info_df[\"model.ensemble_pre_softmax\"]\n",
    "image_info_df[\"combine_fn\"] = image_info_df[\"model.ensemble_combine_fn\"]\n",
    "\n",
    "image_info_df[\"pretrained_seed\"] = image_info_df[\"experiment.pretrained_seed\"]\n",
    "\n",
    "image_info_df[\"model_class\"] = image_info_df[\"model._class\"]\n",
    "image_info_df[\"pretrained_model_class\"] = image_info_df[\"model._pretrained_class\"]\n",
    "\n",
    "def method_name(model_class, pretrained_model_class, pretrained_seed, ensemble, pre_softmax, combine_fn):\n",
    "    if ensemble:\n",
    "        method_name_string = f\"Ensemble (combined_fn={combine_fn}, pre_softmax={pre_softmax})\" \n",
    "    else:\n",
    "        if pretrained_model_class == \"None\":\n",
    "            method_name_string = f\"{model_class.split('.')[-1]} (seed={pretrained_seed})\"\n",
    "        else:\n",
    "            method_name_string = f\"{pretrained_model_class.split('.')[-1]} (seed={pretrained_seed})\"\n",
    "\n",
    "    return method_name_string\n",
    "\n",
    "def model_class(model_class):\n",
    "    if \"UNet\" in model_class:\n",
    "        return \"Uncalibrated\"\n",
    "    else:\n",
    "        return model_class\n",
    "\n",
    "image_info_df.augment(method_name)\n",
    "image_info_df.augment(model_class)"
   ]
  },
  {
   "cell_type": "code",
   "execution_count": null,
   "metadata": {},
   "outputs": [],
   "source": [
    "table_df = image_info_df.groupby([\"method_name\", \"model_class\", \"qual_metric\"])['qual_score'].mean().reset_index()\n",
    "dice_table = table_df[table_df[\"qual_metric\"] == \"Dice\"]\n",
    "hd95_table = table_df[table_df[\"qual_metric\"] == \"HD95\"]"
   ]
  },
  {
   "cell_type": "code",
   "execution_count": null,
   "metadata": {},
   "outputs": [],
   "source": [
    "dice_table.pivot(index='method_name', columns='model_class', values='qual_score')"
   ]
  }
 ],
 "metadata": {
  "kernelspec": {
   "display_name": "UniverSegTF",
   "language": "python",
   "name": "universegtf"
  },
  "language_info": {
   "codemirror_mode": {
    "name": "ipython",
    "version": 3
   },
   "file_extension": ".py",
   "mimetype": "text/x-python",
   "name": "python",
   "nbconvert_exporter": "python",
   "pygments_lexer": "ipython3",
   "version": "3.9.16"
  },
  "orig_nbformat": 4
 },
 "nbformat": 4,
 "nbformat_minor": 2
}
