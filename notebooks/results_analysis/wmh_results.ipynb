{
 "cells": [
  {
   "cell_type": "code",
   "execution_count": 1,
   "metadata": {},
   "outputs": [],
   "source": [
    "import sys\n",
    "sys.path.append('/storage/vbutoi/projects')\n",
    "sys.path.append('/storage/vbutoi/libraries')\n",
    "sys.path.append('/storage/vbutoi/projects/ESE')\n",
    "sys.path.append('/storage/vbutoi/projects/UniverSeg')\n",
    "\n",
    "import matplotlib.pyplot as plt\n",
    "import seaborn as sns\n",
    "sns.set_style(\"darkgrid\")\n",
    "\n",
    "import os \n",
    "os.environ['DATAPATH'] = ':'.join((\n",
    "       '/storage/vbutoi/datasets',\n",
    "))\n",
    "\n",
    "# Results loader object does everything\n",
    "from ionpy.analysis import ResultsLoader\n",
    "from pathlib import Path\n",
    "root = Path(\"/storage/vbutoi/scratch/ESE\")\n",
    "rs = ResultsLoader()\n",
    "\n",
    "# For using code without restarting.\n",
    "%load_ext autoreload\n",
    "%autoreload \n",
    "# For using yaml configs.\n",
    "%load_ext yamlmagic"
   ]
  },
  {
   "cell_type": "code",
   "execution_count": 2,
   "metadata": {},
   "outputs": [
    {
     "data": {
      "application/javascript": "\n            require(\n                [\n                    \"notebook/js/codecell\",\n                    \"codemirror/mode/yaml/yaml\"\n                ],\n                function(cc){\n                    cc.CodeCell.options_default.highlight_modes.magic_yaml = {\n                        reg: [\"^%%yaml\"]\n                    }\n                }\n            );\n            ",
      "text/plain": [
       "<IPython.core.display.Javascript object>"
      ]
     },
     "metadata": {},
     "output_type": "display_data"
    }
   ],
   "source": [
    "%%yaml results_cfg \n",
    "\n",
    "# EXPERIMENT SETS:\n",
    "# - Calibration (no weighting): 01_18_24_All_Metrics\n",
    "# - Only Foreground Loss: 01_21_24_Foreground_Calibrators\n",
    "# - Balanced Loss: 01_21_24_Balanced_CE_Calibrators\n",
    "\n",
    "log:\n",
    "    root: /storage/vbutoi/scratch/ESE/inference\n",
    "    load_pixel_meters: True \n",
    "    remove_shared_columns: True\n",
    "    drop_nan_metric_rows: True\n",
    "    min_fg_pixels: 100\n",
    "    inference_paths:\n",
    "        - \"01_21_24_Foreground_Calibrators/WMH_Individual_Uncalibrated\"\n",
    "        - \"01_21_24_Foreground_Calibrators/WMH_Individual_TempScaling\"\n",
    "        - \"01_21_24_Foreground_Calibrators/WMH_Individual_VectorScaling\"\n",
    "        - \"01_21_24_Foreground_Calibrators/WMH_Individual_DirichletScaling\"\n",
    "        - \"01_21_24_Foreground_Calibrators/WMH_Individual_LTS\"\n",
    "        - \"01_21_24_Foreground_Calibrators/WMH_Individual_NectarScaling\"\n",
    "        - \"01_21_24_Foreground_Calibrators/WMH_Ensemble_Uncalibrated\"\n",
    "        - \"01_21_24_Foreground_Calibrators/WMH_Ensemble_TempScaling\"\n",
    "        - \"01_21_24_Foreground_Calibrators/WMH_Ensemble_VectorScaling\"\n",
    "        - \"01_21_24_Foreground_Calibrators/WMH_Ensemble_DirichletScaling\"\n",
    "        - \"01_21_24_Foreground_Calibrators/WMH_Ensemble_LTS\"\n",
    "        - \"01_21_24_Foreground_Calibrators/WMH_Ensemble_NectarScaling\"\n",
    "    \n",
    "calibration:\n",
    "    conf_interval:\n",
    "        - 0.5\n",
    "        - 1.\n",
    "    num_bins: 10\n",
    "    square_diff: False \n",
    "    neighborhood_width: 3\n",
    "\n",
    "cal_metrics:\n",
    "    - ECE:\n",
    "        _fn: ese.experiment.metrics.ece.ece_loss\n",
    "    - CW_ECE:\n",
    "        _fn: ese.experiment.metrics.ece.cw_ece_loss\n",
    "    - Edge_ECE:\n",
    "        _fn: ese.experiment.metrics.ece.edge_ece_loss\n",
    "    - ELM:\n",
    "        _fn: ese.experiment.metrics.elm.elm_loss\n",
    "    - Foreground_ECE:\n",
    "        _fn: ese.experiment.metrics.ece.ece_loss\n",
    "        ignore_index: 0\n",
    "    - Foreground_CW_ECE:\n",
    "        _fn: ese.experiment.metrics.ece.cw_ece_loss\n",
    "        ignore_index: 0\n",
    "    - Foreground_Edge_ECE:\n",
    "        _fn: ese.experiment.metrics.ece.edge_ece_loss\n",
    "        ignore_index: 0       \n",
    "    - Foreground_ELM:\n",
    "        _fn: ese.experiment.metrics.elm.elm_loss\n",
    "        ignore_index: 0"
   ]
  },
  {
   "cell_type": "code",
   "execution_count": 7,
   "metadata": {},
   "outputs": [
    {
     "name": "stdout",
     "output_type": "stream",
     "text": [
      "Dropping NaN metric rows. Started with 137592 rows.\n",
      "Dropping rows with NaN metric score. Dropped to 137588 rows.\n",
      "Finished loading inference stats.\n",
      "Log amounts: log.root                                                                                               log_set                                              \n",
      "/storage/vbutoi/scratch/ESE/inference/01_21_24_Foreground_Calibrators/WMH_Ensemble_DirichletScaling    20240121_204347-ZFCG-010b6351ac41abec9e24ef71dfbb0408    5880\n",
      "                                                                                                       20240121_204351-YCZ4-0fb1ebd6b1636fd7660e1a34952f219d    5880\n",
      "/storage/vbutoi/scratch/ESE/inference/01_21_24_Foreground_Calibrators/WMH_Ensemble_LTS                 20240121_213421-ZFF0-ee240399f60946ca81df7c2eb72e4fa8    5880\n",
      "                                                                                                       20240121_213425-0Z7E-793ebbf6d709fb9f2325f197a3eed8ea    5880\n",
      "/storage/vbutoi/scratch/ESE/inference/01_21_24_Foreground_Calibrators/WMH_Ensemble_NectarScaling       20240121_205316-L6CT-ecf55988aae314b8584a68141cb6e406    5880\n",
      "                                                                                                       20240121_205320-0M9A-625c81f4f823450b48702b2433f9ed46    5880\n",
      "/storage/vbutoi/scratch/ESE/inference/01_21_24_Foreground_Calibrators/WMH_Ensemble_TempScaling         20240121_204035-646X-6b19e4baed7a0dc48c97d99b853269fb    5880\n",
      "                                                                                                       20240121_204039-X07T-5f7f3d01852189a120fc94c611e75129    5880\n",
      "/storage/vbutoi/scratch/ESE/inference/01_21_24_Foreground_Calibrators/WMH_Ensemble_Uncalibrated        20240121_204008-ZRUP-2bcde2f95b4a5d444367d816e237ea59    5880\n",
      "                                                                                                       20240121_204012-SDKL-eca3189ebb84960572120429c03ce5ae    5880\n",
      "/storage/vbutoi/scratch/ESE/inference/01_21_24_Foreground_Calibrators/WMH_Ensemble_VectorScaling       20240121_204253-5RDL-d6748bd600ffede9eadbd23086f1b7c5    5880\n",
      "                                                                                                       20240121_204257-RQ3A-5a4099efca211080fc304e03c47fb744    5880\n",
      "/storage/vbutoi/scratch/ESE/inference/01_21_24_Foreground_Calibrators/WMH_Individual_DirichletScaling  20240121_203625-0FQ3-b64f9d73ba3df012502141390e9e16e1    5880\n",
      "                                                                                                       20240121_203629-DGLB-5a7869438285e97a5365e68fdf4d2888    5880\n",
      "                                                                                                       20240121_203634-0JEH-5b7b7ebe06bd705ed3079b6e4a1c2a80    5880\n",
      "                                                                                                       20240121_203636-NPIH-c65202edf09db92e0d7b7a3d68c1ee05    5880\n",
      "/storage/vbutoi/scratch/ESE/inference/01_21_24_Foreground_Calibrators/WMH_Individual_LTS               20240121_203727-HBZO-539d61278c07b17b267e0b9e8efbb010    5880\n",
      "                                                                                                       20240121_203729-QPWZ-12bfc1b60fded1cc6de73178a4215d1d    5880\n",
      "                                                                                                       20240121_203734-GJTA-8266495142ee273cf6c89c92f9a955e8    5880\n",
      "                                                                                                       20240121_203738-JSO1-bc191dd6769139770e47a87b64ec2195    5880\n",
      "/storage/vbutoi/scratch/ESE/inference/01_21_24_Foreground_Calibrators/WMH_Individual_NectarScaling     20240121_203913-8YRW-15607122d421a0897a6a7563154a6841    5880\n",
      "                                                                                                       20240121_203917-EVTK-d32e0d0bde90cfa0f4bba1a1bc1f9654    5880\n",
      "                                                                                                       20240121_203924-IOJJ-c3db65267a8f0df463d6ef14965d8f10    5880\n",
      "                                                                                                       20240121_203930-BN2J-5d8c936cd3b030cc4fa0e78c087d36ac    5880\n",
      "/storage/vbutoi/scratch/ESE/inference/01_21_24_Foreground_Calibrators/WMH_Individual_TempScaling       20240121_192024-28U5-ed64a0f42db61c87df4d9e34fe21aab8    5880\n",
      "                                                                                                       20240121_192028-M77T-b8ab2525334dd3738443b32f2c38db93    5880\n",
      "                                                                                                       20240121_192032-GGMN-0a0b3ccf6bd5f5dfe1961d5f8787d582    5880\n",
      "                                                                                                       20240121_192034-QGC3-4dbeff32cc0856e6a0e11b3d5e7ba2a0    5880\n",
      "/storage/vbutoi/scratch/ESE/inference/01_21_24_Foreground_Calibrators/WMH_Individual_Uncalibrated      20240121_191647-N9XP-dbb88c64424c27eadef139ca4511a1e9    5880\n",
      "                                                                                                       20240121_191650-3UQ4-c08ba85dd423c0965bcf4490927d0d4b    5880\n",
      "                                                                                                       20240121_191656-BN1C-0a1f44ec4dce7f4773a35cebcc11f2a6    5880\n",
      "                                                                                                       20240121_191700-I1V5-3769a7fe95f25ed3a02d6216c0e47ef0    5880\n",
      "/storage/vbutoi/scratch/ESE/inference/01_21_24_Foreground_Calibrators/WMH_Individual_VectorScaling     20240121_192131-8NGZ-0d4f8bcf04a9b0779cd41c3c37922001    5880\n",
      "                                                                                                       20240121_192135-YQZD-c5133cf93f5094532c584d3bd06e3cf2    5880\n",
      "                                                                                                       20240121_192138-L4GD-0c9a56a62d94da457de86356e71f6a6c    5880\n",
      "                                                                                                       20240121_192142-BPNV-b863f645ad4719126e6f280f3c592b55    5880\n",
      "dtype: int64\n"
     ]
    }
   ],
   "source": [
    "from ese.experiment.analysis.inference import load_cal_inference_stats\n",
    "\n",
    "image_info_df = load_cal_inference_stats(\n",
    "    results_cfg=results_cfg\n",
    ")"
   ]
  },
  {
   "cell_type": "code",
   "execution_count": 8,
   "metadata": {},
   "outputs": [
    {
     "data": {
      "text/plain": [
       "array(['ese.experiment.models.UNet',\n",
       "       'ese.experiment.models.calibrators.Temperature_Scaling',\n",
       "       'ese.experiment.models.calibrators.Vector_Scaling',\n",
       "       'ese.experiment.models.calibrators.Dirichlet_Scaling',\n",
       "       'ese.experiment.models.calibrators.LTS',\n",
       "       'ese.experiment.models.calibrators.NECTAR_Scaling',\n",
       "       'ese.experiment.models.unet.UNet'], dtype=object)"
      ]
     },
     "execution_count": 8,
     "metadata": {},
     "output_type": "execute_result"
    }
   ],
   "source": [
    "image_info_df['model_class'].unique()"
   ]
  },
  {
   "cell_type": "markdown",
   "metadata": {},
   "source": [
    "## We are going to remove the case where there are very few pixels, cause unrealistic outliers."
   ]
  },
  {
   "cell_type": "code",
   "execution_count": 4,
   "metadata": {},
   "outputs": [
    {
     "ename": "ValueError",
     "evalue": "items in new_categories are not the same as in old categories",
     "output_type": "error",
     "traceback": [
      "\u001b[0;31m---------------------------------------------------------------------------\u001b[0m",
      "\u001b[0;31mValueError\u001b[0m                                Traceback (most recent call last)",
      "Cell \u001b[0;32mIn[4], line 5\u001b[0m\n\u001b[1;32m      3\u001b[0m \u001b[38;5;66;03m# Make sure that the model_class 'Uncalibrated' is first\u001b[39;00m\n\u001b[1;32m      4\u001b[0m image_info_df[\u001b[38;5;124m'\u001b[39m\u001b[38;5;124mmodel_class\u001b[39m\u001b[38;5;124m'\u001b[39m] \u001b[38;5;241m=\u001b[39m image_info_df[\u001b[38;5;124m'\u001b[39m\u001b[38;5;124mmodel_class\u001b[39m\u001b[38;5;124m'\u001b[39m]\u001b[38;5;241m.\u001b[39mastype(\u001b[38;5;124m'\u001b[39m\u001b[38;5;124mcategory\u001b[39m\u001b[38;5;124m'\u001b[39m)\n\u001b[0;32m----> 5\u001b[0m image_info_df[\u001b[38;5;124m'\u001b[39m\u001b[38;5;124mmodel_class\u001b[39m\u001b[38;5;124m'\u001b[39m] \u001b[38;5;241m=\u001b[39m \u001b[43mimage_info_df\u001b[49m\u001b[43m[\u001b[49m\u001b[38;5;124;43m'\u001b[39;49m\u001b[38;5;124;43mmodel_class\u001b[39;49m\u001b[38;5;124;43m'\u001b[39;49m\u001b[43m]\u001b[49m\u001b[38;5;241;43m.\u001b[39;49m\u001b[43mcat\u001b[49m\u001b[38;5;241;43m.\u001b[39;49m\u001b[43mreorder_categories\u001b[49m\u001b[43m(\u001b[49m\u001b[43m[\u001b[49m\u001b[38;5;124;43m'\u001b[39;49m\u001b[38;5;124;43mUncalibrated\u001b[39;49m\u001b[38;5;124;43m'\u001b[39;49m\u001b[43m,\u001b[49m\u001b[43m \u001b[49m\u001b[38;5;124;43m'\u001b[39;49m\u001b[38;5;124;43mTemperature_Scaling\u001b[39;49m\u001b[38;5;124;43m'\u001b[39;49m\u001b[43m,\u001b[49m\u001b[43m \u001b[49m\u001b[38;5;124;43m'\u001b[39;49m\u001b[38;5;124;43mVector_Scaling\u001b[39;49m\u001b[38;5;124;43m'\u001b[39;49m\u001b[43m,\u001b[49m\u001b[43m \u001b[49m\u001b[38;5;124;43m'\u001b[39;49m\u001b[38;5;124;43mDirichlet_Scaling\u001b[39;49m\u001b[38;5;124;43m'\u001b[39;49m\u001b[43m,\u001b[49m\u001b[43m \u001b[49m\u001b[38;5;124;43m'\u001b[39;49m\u001b[38;5;124;43mLTS\u001b[39;49m\u001b[38;5;124;43m'\u001b[39;49m\u001b[43m,\u001b[49m\u001b[43m \u001b[49m\u001b[38;5;124;43m'\u001b[39;49m\u001b[38;5;124;43mNECTAR_Scaling\u001b[39;49m\u001b[38;5;124;43m'\u001b[39;49m\u001b[43m]\u001b[49m\u001b[43m)\u001b[49m\n",
      "File \u001b[0;32m~/envs/UniverSegTF/lib/python3.9/site-packages/pandas/core/accessor.py:94\u001b[0m, in \u001b[0;36mPandasDelegate._add_delegate_accessors.<locals>._create_delegator_method.<locals>.f\u001b[0;34m(self, *args, **kwargs)\u001b[0m\n\u001b[1;32m     93\u001b[0m \u001b[38;5;28;01mdef\u001b[39;00m \u001b[38;5;21mf\u001b[39m(\u001b[38;5;28mself\u001b[39m, \u001b[38;5;241m*\u001b[39margs, \u001b[38;5;241m*\u001b[39m\u001b[38;5;241m*\u001b[39mkwargs):\n\u001b[0;32m---> 94\u001b[0m     \u001b[38;5;28;01mreturn\u001b[39;00m \u001b[38;5;28;43mself\u001b[39;49m\u001b[38;5;241;43m.\u001b[39;49m\u001b[43m_delegate_method\u001b[49m\u001b[43m(\u001b[49m\u001b[43mname\u001b[49m\u001b[43m,\u001b[49m\u001b[43m \u001b[49m\u001b[38;5;241;43m*\u001b[39;49m\u001b[43margs\u001b[49m\u001b[43m,\u001b[49m\u001b[43m \u001b[49m\u001b[38;5;241;43m*\u001b[39;49m\u001b[38;5;241;43m*\u001b[39;49m\u001b[43mkwargs\u001b[49m\u001b[43m)\u001b[49m\n",
      "File \u001b[0;32m~/envs/UniverSegTF/lib/python3.9/site-packages/pandas/core/arrays/categorical.py:2879\u001b[0m, in \u001b[0;36mCategoricalAccessor._delegate_method\u001b[0;34m(self, name, *args, **kwargs)\u001b[0m\n\u001b[1;32m   2876\u001b[0m \u001b[38;5;28;01mfrom\u001b[39;00m \u001b[38;5;21;01mpandas\u001b[39;00m \u001b[38;5;28;01mimport\u001b[39;00m Series\n\u001b[1;32m   2878\u001b[0m method \u001b[38;5;241m=\u001b[39m \u001b[38;5;28mgetattr\u001b[39m(\u001b[38;5;28mself\u001b[39m\u001b[38;5;241m.\u001b[39m_parent, name)\n\u001b[0;32m-> 2879\u001b[0m res \u001b[38;5;241m=\u001b[39m \u001b[43mmethod\u001b[49m\u001b[43m(\u001b[49m\u001b[38;5;241;43m*\u001b[39;49m\u001b[43margs\u001b[49m\u001b[43m,\u001b[49m\u001b[43m \u001b[49m\u001b[38;5;241;43m*\u001b[39;49m\u001b[38;5;241;43m*\u001b[39;49m\u001b[43mkwargs\u001b[49m\u001b[43m)\u001b[49m\n\u001b[1;32m   2880\u001b[0m \u001b[38;5;28;01mif\u001b[39;00m res \u001b[38;5;129;01mis\u001b[39;00m \u001b[38;5;129;01mnot\u001b[39;00m \u001b[38;5;28;01mNone\u001b[39;00m:\n\u001b[1;32m   2881\u001b[0m     \u001b[38;5;28;01mreturn\u001b[39;00m Series(res, index\u001b[38;5;241m=\u001b[39m\u001b[38;5;28mself\u001b[39m\u001b[38;5;241m.\u001b[39m_index, name\u001b[38;5;241m=\u001b[39m\u001b[38;5;28mself\u001b[39m\u001b[38;5;241m.\u001b[39m_name)\n",
      "File \u001b[0;32m~/envs/UniverSegTF/lib/python3.9/site-packages/pandas/core/arrays/categorical.py:1199\u001b[0m, in \u001b[0;36mCategorical.reorder_categories\u001b[0;34m(self, new_categories, ordered, inplace)\u001b[0m\n\u001b[1;32m   1197\u001b[0m inplace \u001b[38;5;241m=\u001b[39m validate_bool_kwarg(inplace, \u001b[38;5;124m\"\u001b[39m\u001b[38;5;124minplace\u001b[39m\u001b[38;5;124m\"\u001b[39m)\n\u001b[1;32m   1198\u001b[0m \u001b[38;5;28;01mif\u001b[39;00m \u001b[38;5;28mset\u001b[39m(\u001b[38;5;28mself\u001b[39m\u001b[38;5;241m.\u001b[39mdtype\u001b[38;5;241m.\u001b[39mcategories) \u001b[38;5;241m!=\u001b[39m \u001b[38;5;28mset\u001b[39m(new_categories):\n\u001b[0;32m-> 1199\u001b[0m     \u001b[38;5;28;01mraise\u001b[39;00m \u001b[38;5;167;01mValueError\u001b[39;00m(\n\u001b[1;32m   1200\u001b[0m         \u001b[38;5;124m\"\u001b[39m\u001b[38;5;124mitems in new_categories are not the same as in old categories\u001b[39m\u001b[38;5;124m\"\u001b[39m\n\u001b[1;32m   1201\u001b[0m     )\n\u001b[1;32m   1203\u001b[0m \u001b[38;5;28;01mwith\u001b[39;00m catch_warnings():\n\u001b[1;32m   1204\u001b[0m     simplefilter(\u001b[38;5;124m\"\u001b[39m\u001b[38;5;124mignore\u001b[39m\u001b[38;5;124m\"\u001b[39m)\n",
      "\u001b[0;31mValueError\u001b[0m: items in new_categories are not the same as in old categories"
     ]
    }
   ],
   "source": [
    "# Sort the image_info_df by method name, so everything appears nicely\n",
    "image_info_df = image_info_df.sort_values(by=['method_name', 'calibrator'])\n",
    "# Make sure that the model_class 'Uncalibrated' is first\n",
    "image_info_df['calibrator'] = image_info_df['calibrator'].astype('category')\n",
    "image_info_df['calibrator'] = image_info_df['calibrator'].cat.reorder_categories(['Uncalibrated', 'Temperature_Scaling', 'Vector_Scaling', 'Dirichlet_Scaling', 'LTS', 'NECTAR_Scaling'])"
   ]
  },
  {
   "cell_type": "markdown",
   "metadata": {},
   "source": [
    "## Let's looks at the calibration scores of our models."
   ]
  },
  {
   "cell_type": "code",
   "execution_count": null,
   "metadata": {},
   "outputs": [],
   "source": [
    "g = sns.catplot(\n",
    "    data=image_info_df,\n",
    "    x=\"calibrator\",\n",
    "    y=\"ECE\",\n",
    "    hue=\"method_name\",\n",
    "    kind=\"bar\",\n",
    "    height=5,\n",
    "    aspect=2\n",
    ")\n",
    "# Set column spacingj\n",
    "g.fig.subplots_adjust(wspace=0.5)\n",
    "# # Set the y-axis limits\n",
    "# g.set(ylim=(0.0, 0.25))\n",
    "# Set the title of the plot\n",
    "g.fig.suptitle(\"ECE by Calibration Method and Model Class\")\n",
    "# Move the title slightly up\n",
    "g.fig.subplots_adjust(top=0.9)"
   ]
  },
  {
   "cell_type": "code",
   "execution_count": null,
   "metadata": {},
   "outputs": [],
   "source": [
    "g = sns.catplot(\n",
    "    data=image_info_df,\n",
    "    x=\"calibrator\",\n",
    "    y=\"Foreground_ECE\",\n",
    "    hue=\"method_name\",\n",
    "    kind=\"bar\",\n",
    "    height=5,\n",
    "    aspect=2\n",
    ")\n",
    "# Set column spacing\n",
    "# # Set the y-axis limits\n",
    "# g.set(ylim=(0.0, 0.25))\n",
    "# Set the title of the plot\n",
    "g.fig.suptitle(\"Foreground ECE by Calibration Method and Model Class\")\n",
    "# Move the title slightly up\n",
    "g.fig.subplots_adjust(top=0.9)"
   ]
  },
  {
   "cell_type": "code",
   "execution_count": null,
   "metadata": {},
   "outputs": [],
   "source": [
    "g = sns.catplot(\n",
    "    data=image_info_df,\n",
    "    x=\"calibrator\",\n",
    "    y=\"CW_ECE\",\n",
    "    hue=\"method_name\",\n",
    "    kind=\"bar\",\n",
    "    height=5,\n",
    "    aspect=2\n",
    ")\n",
    "# Set column spacing\n",
    "# # Set the y-axis limits\n",
    "# g.set(ylim=(0.0, 0.25))\n",
    "g.fig.suptitle(\"CW ECE by Calibration Method and Model Class\")\n",
    "# Move the title slightly up\n",
    "g.fig.subplots_adjust(top=0.9)"
   ]
  },
  {
   "cell_type": "code",
   "execution_count": null,
   "metadata": {},
   "outputs": [],
   "source": [
    "g = sns.catplot(\n",
    "    data=image_info_df,\n",
    "    x=\"model_class\",\n",
    "    y=\"Edge_ECE\",\n",
    "    hue=\"method_name\",\n",
    "    kind=\"bar\",\n",
    "    height=5,\n",
    "    aspect=2\n",
    ")\n",
    "# Set column spacing\n",
    "# # Set the y-axis limits\n",
    "# g.set(ylim=(0.0, 0.25))\n",
    "g.fig.suptitle(\"Edge ECE by Calibration Method and Model Class\")\n",
    "# Move the title slightly up\n",
    "g.fig.subplots_adjust(top=0.9)"
   ]
  },
  {
   "cell_type": "code",
   "execution_count": null,
   "metadata": {},
   "outputs": [],
   "source": [
    "g = sns.catplot(\n",
    "    data=image_info_df,\n",
    "    x=\"calibrator\",\n",
    "    y=\"ELM\",\n",
    "    hue=\"method_name\",\n",
    "    kind=\"bar\",\n",
    "    height=5,\n",
    "    aspect=2\n",
    ")\n",
    "# Set column spacing\n",
    "# # Set the y-axis limits\n",
    "# g.set(ylim=(0.0, 0.25))\n",
    "g.fig.suptitle(\"ELM by Calibration Method and Model Class\")\n",
    "# Move the title slightly up\n",
    "g.fig.subplots_adjust(top=0.9)"
   ]
  },
  {
   "cell_type": "markdown",
   "metadata": {},
   "source": [
    "## Now we can look at the quality averages themselves, first looking slice-wise."
   ]
  },
  {
   "cell_type": "code",
   "execution_count": null,
   "metadata": {},
   "outputs": [],
   "source": [
    "table_df = image_info_df.groupby([\"method_name\", \"calibrator\", \"image_metric\", \"ensemble\"])['metric_score'].mean().reset_index()\n",
    "dice_table = image_info_df[image_info_df[\"image_metric\"] == \"Dice\"]\n",
    "hd95_table = image_info_df[image_info_df[\"image_metric\"] == \"HD95\"]\n",
    "# Sort these by method name so they are consistent in the figures\n",
    "dice_table = dice_table.sort_values(by=['method_name'])\n",
    "hd95_table = hd95_table.sort_values(by=['method_name'])"
   ]
  },
  {
   "cell_type": "code",
   "execution_count": null,
   "metadata": {},
   "outputs": [],
   "source": [
    "g = sns.catplot(\n",
    "    data=hd95_table,\n",
    "    x=\"model_class\",\n",
    "    y=\"metric_score\",\n",
    "    hue=\"method_name\",\n",
    "    kind=\"bar\",\n",
    "    height=5,\n",
    "    aspect=2\n",
    ")\n",
    "# Set the title of the bar plot\n",
    "g.fig.suptitle(\"Hausdorff Distance for Different Calibration Methods (Per Slice)\")\n",
    "# Give the title a bit of spacing from the plot\n",
    "g.fig.subplots_adjust(top=0.90)\n",
    "# Set the y axis to be between 4 and 8\n",
    "g.set(ylim=(4, 9))"
   ]
  },
  {
   "cell_type": "code",
   "execution_count": null,
   "metadata": {},
   "outputs": [],
   "source": [
    "g = sns.catplot(\n",
    "    data=dice_table,\n",
    "    x=\"model_class\",\n",
    "    y=\"metric_score\",\n",
    "    hue=\"method_name\",\n",
    "    kind=\"bar\",\n",
    "    height=5,\n",
    "    aspect=2\n",
    ")\n",
    "# Set the title of the bar plot\n",
    "g.fig.suptitle(\"Dice Score for Different Calibration Methods (Per Slice)\")\n",
    "# Give the title a bit of spacing from the plot\n",
    "g.fig.subplots_adjust(top=0.90)\n",
    "# Set the y axis to be between 0.5 and 1.0\n",
    "g.set(ylim=(0.7, 0.8))"
   ]
  },
  {
   "cell_type": "markdown",
   "metadata": {},
   "source": [
    "## Now we want to consider these averaged within subjects."
   ]
  },
  {
   "cell_type": "code",
   "execution_count": null,
   "metadata": {},
   "outputs": [],
   "source": [
    "# subj_image_info_df = image_info_df.groupby([\"method_name\", \"model_class\", \"qual_metric\", \"ensemble\", \"data_id\"])['qual_score'].mean().reset_index()\n",
    "\n",
    "# subject_dice_table = subj_image_info_df[subj_image_info_df[\"qual_metric\"] == \"Dice\"]\n",
    "# subject_hd95_table = subj_image_info_df[subj_image_info_df[\"qual_metric\"] == \"HD95\"]\n",
    "# # sort these by method name so they are consistent in the tables\n",
    "# subject_dice_table = subject_dice_table.sort_values(by=['method_name'])\n",
    "# subject_hd95_table = subject_hd95_table.sort_values(by=['method_name'])"
   ]
  },
  {
   "cell_type": "code",
   "execution_count": null,
   "metadata": {},
   "outputs": [],
   "source": [
    "# g = sns.catplot(\n",
    "#     data=subject_hd95_table,\n",
    "#     x=\"model_class\",\n",
    "#     y=\"qual_score\",\n",
    "#     hue=\"method_name\",\n",
    "#     kind=\"bar\",\n",
    "#     height=4,\n",
    "#     aspect=2\n",
    "# )\n",
    "# # Set the title of the bar plot\n",
    "# g.fig.suptitle(\"Hausdorff Distance for Different Calibration Methods (Per Subject)\")\n",
    "# # Give the title a bit of spacing from the plot\n",
    "# g.fig.subplots_adjust(top=0.90)\n",
    "# # Set the y axis to be between 4 and 8\n",
    "# g.set(ylim=(4, 14))"
   ]
  },
  {
   "cell_type": "code",
   "execution_count": null,
   "metadata": {},
   "outputs": [],
   "source": [
    "# g = sns.catplot(\n",
    "#     data=subject_dice_table,\n",
    "#     x=\"model_class\",\n",
    "#     y=\"qual_score\",\n",
    "#     hue=\"method_name\",\n",
    "#     kind=\"bar\",\n",
    "#     height=4,\n",
    "#     aspect=2\n",
    "# )\n",
    "# # Set the title of the bar plot\n",
    "# g.fig.suptitle(\"Dice Score for Different Calibration Methods (Per Subject)\")\n",
    "# # Give the title a bit of spacing from the plot\n",
    "# g.fig.subplots_adjust(top=0.90)\n",
    "# # Set the y axis to be between 0.5 and 1.0\n",
    "# g.set(ylim=(0.6, 0.9))"
   ]
  },
  {
   "cell_type": "markdown",
   "metadata": {},
   "source": [
    "## Make some tables to show these relationships in"
   ]
  },
  {
   "cell_type": "code",
   "execution_count": null,
   "metadata": {},
   "outputs": [],
   "source": [
    "# # Custom formatting function to display 3 significant digits\n",
    "# def format_sigfigs(x, num_sigfigs):\n",
    "#     if isinstance(x, (int, float)):\n",
    "#         format_str = '{:.' + str(num_sigfigs) + 'g}'\n",
    "#         return format_str.format(x)  # Using format to display in scientific notation with specified significant digits\n",
    "#     else:\n",
    "#         return x  # Return the value as is if it's not numeric\n",
    "\n",
    "# # Applying the formatting function to the pivot table\n",
    "# formatted_dice_table = dice_table.applymap(format_sigfigs, num_sigfigs=3)\n",
    "# # Applying the formatting function to the pivot table\n",
    "# formatted_hd95_table = hd95_table.applymap(format_sigfigs, num_sigfigs=4)"
   ]
  },
  {
   "cell_type": "code",
   "execution_count": null,
   "metadata": {},
   "outputs": [],
   "source": [
    "# formatted_dice_table.pivot(index='method_name', columns='model_class', values='qual_score')"
   ]
  },
  {
   "cell_type": "code",
   "execution_count": null,
   "metadata": {},
   "outputs": [],
   "source": [
    "# formatted_hd95_table.pivot(index='method_name', columns='model_class', values='qual_score')"
   ]
  },
  {
   "cell_type": "markdown",
   "metadata": {},
   "source": [
    "## Let's look first at the distribution of errors per configuration."
   ]
  },
  {
   "cell_type": "code",
   "execution_count": null,
   "metadata": {},
   "outputs": [],
   "source": [
    "# from ese.experiment.analysis.plot_utils import build_ensemble_vs_individual_cmap"
   ]
  },
  {
   "cell_type": "code",
   "execution_count": null,
   "metadata": {},
   "outputs": [],
   "source": [
    "# dice_image_df = image_info_df[image_info_df['qual_metric'] == 'Dice']\n",
    "# # Use seaborn to create KDE plot for each configuration\n",
    "# g = sns.displot(\n",
    "#     data=dice_image_df.sort_values('configuration'), \n",
    "#     x='qual_score', \n",
    "#     hue='configuration', \n",
    "#     kind='kde',\n",
    "#     palette=build_ensemble_vs_individual_cmap(dice_image_df),\n",
    "#     alpha=0.8\n",
    "#     )"
   ]
  },
  {
   "cell_type": "code",
   "execution_count": null,
   "metadata": {},
   "outputs": [],
   "source": [
    "# dice_image_subject_df = dice_image_df.groupby(['configuration', 'data_id'])['qual_score'].mean().reset_index()\n",
    "# g = sns.displot(\n",
    "#     data=dice_image_subject_df.sort_values('configuration'), \n",
    "#     x='qual_score', \n",
    "#     hue='configuration', \n",
    "#     kind='kde',\n",
    "#     palette=build_ensemble_vs_individual_cmap(dice_image_df),\n",
    "#     alpha=0.8\n",
    "#     )"
   ]
  }
 ],
 "metadata": {
  "kernelspec": {
   "display_name": "UniverSegTF",
   "language": "python",
   "name": "universegtf"
  },
  "language_info": {
   "codemirror_mode": {
    "name": "ipython",
    "version": 3
   },
   "file_extension": ".py",
   "mimetype": "text/x-python",
   "name": "python",
   "nbconvert_exporter": "python",
   "pygments_lexer": "ipython3",
   "version": "3.9.16"
  },
  "orig_nbformat": 4
 },
 "nbformat": 4,
 "nbformat_minor": 2
}
