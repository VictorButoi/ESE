{
 "cells": [
  {
   "cell_type": "code",
   "execution_count": null,
   "metadata": {},
   "outputs": [],
   "source": [
    "import sys\n",
    "sys.path.append('/storage/vbutoi/projects')\n",
    "sys.path.append('/storage/vbutoi/libraries')\n",
    "sys.path.append('/storage/vbutoi/projects/ESE')\n",
    "sys.path.append('/storage/vbutoi/projects/UniverSeg')\n",
    "\n",
    "import matplotlib.pyplot as plt\n",
    "import seaborn as sns\n",
    "sns.set_style(\"darkgrid\")\n",
    "\n",
    "import os \n",
    "os.environ['DATAPATH'] = ':'.join((\n",
    "       '/storage/vbutoi/datasets',\n",
    "))\n",
    "\n",
    "# Results loader object does everything\n",
    "from ionpy.analysis import ResultsLoader\n",
    "from pathlib import Path\n",
    "root = Path(\"/storage/vbutoi/scratch/ESE\")\n",
    "rs = ResultsLoader()\n",
    "\n",
    "# For using code without restarting.\n",
    "%load_ext autoreload\n",
    "%autoreload \n",
    "# For using yaml configs.\n",
    "%load_ext yamlmagic"
   ]
  },
  {
   "cell_type": "code",
   "execution_count": null,
   "metadata": {},
   "outputs": [],
   "source": [
    "from ese.experiment.analysis.inference import load_cal_inference_stats\n",
    "\n",
    "inference_path = root / \"inference/01_07_24_WMH_UncalibratedEnsemble\"\n",
    "\n",
    "inference_info_dict = load_cal_inference_stats(\n",
    "    log_dir=inference_path,\n",
    "    load_image_df=True,\n",
    "    load_pixel_meters_dict=False\n",
    ")"
   ]
  },
  {
   "cell_type": "code",
   "execution_count": null,
   "metadata": {},
   "outputs": [],
   "source": [
    "metadata_df = inference_info_dict['metadata_df']"
   ]
  },
  {
   "cell_type": "code",
   "execution_count": null,
   "metadata": {},
   "outputs": [],
   "source": [
    "metadata_df.head()"
   ]
  },
  {
   "cell_type": "code",
   "execution_count": null,
   "metadata": {},
   "outputs": [],
   "source": [
    "image_info_df = inference_info_dict['image_info_df']"
   ]
  },
  {
   "cell_type": "code",
   "execution_count": null,
   "metadata": {},
   "outputs": [],
   "source": [
    "image_info_df.head()"
   ]
  },
  {
   "cell_type": "code",
   "execution_count": null,
   "metadata": {},
   "outputs": [],
   "source": [
    "g = sns.catplot(\n",
    "    image_info_df, \n",
    "    x=\"log_set\", \n",
    "    y=\"qual_score\", \n",
    "    kind=\"box\"\n",
    ")\n",
    "# g.set(xlim=(0, 1), ylim=(0, 1))\n",
    "g.tight_layout()\n",
    "plt.show()"
   ]
  },
  {
   "cell_type": "code",
   "execution_count": null,
   "metadata": {},
   "outputs": [],
   "source": [
    "def gather_log_set_stats(\n",
    "        stats_df, \n",
    "        target_metric\n",
    "        ):\n",
    "    unique_log_sets = stats_df['log_set'].unique()\n",
    "    for log_set in unique_log_sets:\n",
    "        log_set_df = stats_df[stats_df['log_set'] == log_set]\n",
    "        qual_metric_df = log_set_df[log_set_df['qual_metric'] == target_metric]\n",
    "        # Calculate basic statistics of performance.\n",
    "        log_set_mean = qual_metric_df['qual_score'].mean()\n",
    "        log_set_std = qual_metric_df['qual_score'].std()\n",
    "        log_set_min = qual_metric_df['qual_score'].min()\n",
    "        log_set_max = qual_metric_df['qual_score'].max()\n",
    "        print(f\"{log_set} | {target_metric} : {log_set_mean:.3f} +- {log_set_std:.3f} [{log_set_min:.3f}, {log_set_max:.3f}]\")"
   ]
  },
  {
   "cell_type": "code",
   "execution_count": null,
   "metadata": {},
   "outputs": [],
   "source": [
    "gather_log_set_stats(image_info_df, 'Dice')"
   ]
  }
 ],
 "metadata": {
  "kernelspec": {
   "display_name": "UniverSegTF",
   "language": "python",
   "name": "universegtf"
  },
  "language_info": {
   "codemirror_mode": {
    "name": "ipython",
    "version": 3
   },
   "file_extension": ".py",
   "mimetype": "text/x-python",
   "name": "python",
   "nbconvert_exporter": "python",
   "pygments_lexer": "ipython3",
   "version": "3.9.16"
  },
  "orig_nbformat": 4
 },
 "nbformat": 4,
 "nbformat_minor": 2
}
