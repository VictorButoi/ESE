{
 "cells": [
  {
   "cell_type": "code",
   "execution_count": null,
   "metadata": {},
   "outputs": [],
   "source": [
    "import sys\n",
    "sys.path.append('/storage/vbutoi/projects')\n",
    "sys.path.append('/storage/vbutoi/libraries')\n",
    "sys.path.append('/storage/vbutoi/projects/ESE')\n",
    "sys.path.append('/storage/vbutoi/projects/UniverSeg')\n",
    "\n",
    "import matplotlib.pyplot as plt\n",
    "import seaborn as sns\n",
    "sns.set_style(\"darkgrid\")\n",
    "\n",
    "import os \n",
    "os.environ['DATAPATH'] = ':'.join((\n",
    "       '/storage/vbutoi/datasets',\n",
    "))\n",
    "\n",
    "# Results loader object does everything\n",
    "from ionpy.analysis import ResultsLoader\n",
    "from pathlib import Path\n",
    "root = Path(\"/storage/vbutoi/scratch/ESE\")\n",
    "rs = ResultsLoader()\n",
    "\n",
    "# For using code without restarting.\n",
    "%load_ext autoreload\n",
    "%autoreload \n",
    "# For using yaml configs.\n",
    "%load_ext yamlmagic"
   ]
  },
  {
   "cell_type": "code",
   "execution_count": null,
   "metadata": {},
   "outputs": [],
   "source": [
    "exp_base = \"01_10_24_wLabAmounts\"\n",
    "# exp_base = \"01_14_24_EnsembleAnalysis\""
   ]
  },
  {
   "cell_type": "code",
   "execution_count": null,
   "metadata": {},
   "outputs": [],
   "source": [
    "%%yaml results_cfg \n",
    "\n",
    "log:\n",
    "    root: /storage/vbutoi/scratch/ESE/inference\n",
    "    load_pixel_meters: True \n",
    "    remove_shared_columns: True\n",
    "    # inference_paths:\n",
    "    #     - \"01_10_24_wLabAmounts/WMH_Individual_Uncalibrated\"\n",
    "    #     - \"01_10_24_wLabAmounts/WMH_Individual_TempScaling\"\n",
    "    #     - \"01_10_24_wLabAmounts/WMH_Individual_VectorScaling\"\n",
    "    #     - \"01_10_24_wLabAmounts/WMH_Individual_DirichletScaling\"\n",
    "    #     - \"01_10_24_wLabAmounts/WMH_Individual_LTS\"\n",
    "    #     - \"01_10_24_wLabAmounts/WMH_Ensemble_Uncalibrated\"\n",
    "    #     - \"01_10_24_wLabAmounts/WMH_Ensemble_TempScaling\"\n",
    "    #     - \"01_10_24_wLabAmounts/WMH_Ensemble_VectorScaling\"\n",
    "    #     - \"01_10_24_wLabAmounts/WMH_Ensemble_DirichletScaling\"\n",
    "    #     - \"01_10_24_wLabAmounts/WMH_Ensemble_LTS\"\n",
    "    inference_paths:\n",
    "        - \"01_14_24_EnsembleAnalysis/WMH_Individual_Uncalibrated\"\n",
    "        - \"01_14_24_EnsembleAnalysis/WMH_Individual_TempScaling\"\n",
    "        - \"01_14_24_EnsembleAnalysis/WMH_Individual_VectorScaling\"\n",
    "        - \"01_14_24_EnsembleAnalysis/WMH_Individual_DirichletScaling\"\n",
    "        - \"01_14_24_EnsembleAnalysis/WMH_Individual_LTS\"\n",
    "        - \"01_14_24_EnsembleAnalysis/WMH_Ensemble_Uncalibrated\"\n",
    "        - \"01_14_24_EnsembleAnalysis/WMH_Ensemble_TempScaling\"\n",
    "        - \"01_14_24_EnsembleAnalysis/WMH_Ensemble_VectorScaling\"\n",
    "        - \"01_14_24_EnsembleAnalysis/WMH_Ensemble_DirichletScaling\"\n",
    "        - \"01_14_24_EnsembleAnalysis/WMH_Ensemble_LTS\"\n",
    "    \n",
    "calibration:\n",
    "    conf_interval:\n",
    "        - 0.5\n",
    "        - 1.\n",
    "    num_bins: 10\n",
    "    square_diff: False \n",
    "    neighborhood_width: 3\n",
    "\n",
    "cal_metrics:\n",
    "    - ECE:\n",
    "        _fn: ese.experiment.metrics.ece.ece_loss\n",
    "    - CW_ECE:\n",
    "        _fn: ese.experiment.metrics.ece.cw_ece_loss\n",
    "    - Edge_ECE:\n",
    "        _fn: ese.experiment.metrics.ece.edge_ece_loss\n",
    "    - ELM:\n",
    "        _fn: ese.experiment.metrics.elm.elm_loss\n",
    "    - Foreground_ECE:\n",
    "        _fn: ese.experiment.metrics.ece.ece_loss\n",
    "        ignore_index: 0\n",
    "    - Foreground_CW_ECE:\n",
    "        _fn: ese.experiment.metrics.ece.cw_ece_loss\n",
    "        ignore_index: 0\n",
    "    - Foreground_Edge_ECE:\n",
    "        _fn: ese.experiment.metrics.ece.edge_ece_loss\n",
    "        ignore_index: 0       \n",
    "    - Foreground_ELM:\n",
    "        _fn: ese.experiment.metrics.elm.elm_loss\n",
    "        ignore_index: 0"
   ]
  },
  {
   "cell_type": "code",
   "execution_count": null,
   "metadata": {},
   "outputs": [],
   "source": [
    "from ese.experiment.analysis.inference import load_cal_inference_stats\n",
    "\n",
    "inference_df = load_cal_inference_stats(\n",
    "    results_cfg=results_cfg\n",
    ")"
   ]
  },
  {
   "cell_type": "markdown",
   "metadata": {},
   "source": [
    "## We are going to do the same standardization for our df. "
   ]
  },
  {
   "cell_type": "code",
   "execution_count": null,
   "metadata": {},
   "outputs": [],
   "source": [
    "# Get rid of namn rows\n",
    "####################################################################\n",
    "\n",
    "# Keep all of the columns where 'num_lab_1_pixels' is greater than 100.\n",
    "pix_threshold = 100\n",
    "thresholded_pix_df = inference_df[inference_df['num_lab_1_pixels'] > pix_threshold].reset_index(drop=True)\n",
    "# Drop the rows of raw_image_info_df that have None for qual_score\n",
    "de_naned_image_info_df = thresholded_pix_df.dropna(subset=['metric_score'])\n",
    "# Fill the rest of the NaN values with 'None'\n",
    "image_info_df = de_naned_image_info_df.fillna('None')\n",
    "\n",
    "# Add extra variable names.\n",
    "####################################################################\n",
    "\n",
    "image_info_df[\"ensemble\"] = image_info_df[\"model.ensemble\"]\n",
    "image_info_df[\"pre_softmax\"] = image_info_df[\"model.ensemble_pre_softmax\"]\n",
    "image_info_df[\"combine_fn\"] = image_info_df[\"model.ensemble_combine_fn\"]\n",
    "\n",
    "image_info_df[\"pretrained_seed\"] = image_info_df[\"experiment.pretrained_seed\"]\n",
    "\n",
    "image_info_df[\"model_class\"] = image_info_df[\"model._class\"]\n",
    "image_info_df[\"pretrained_model_class\"] = image_info_df[\"model._pretrained_class\"]\n",
    "\n",
    "def method_name(model_class, pretrained_model_class, pretrained_seed, ensemble, pre_softmax, combine_fn):\n",
    "    if ensemble:\n",
    "        softmax_modifier = \"pre\" if pre_softmax else \"post\"\n",
    "        method_name_string = f\"Ensemble ({combine_fn}, {softmax_modifier})\" \n",
    "    else:\n",
    "        if pretrained_model_class == \"None\":\n",
    "            method_name_string = f\"{model_class.split('.')[-1]} (seed={pretrained_seed})\"\n",
    "        else:\n",
    "            method_name_string = f\"{pretrained_model_class.split('.')[-1]} (seed={pretrained_seed})\"\n",
    "\n",
    "    return method_name_string\n",
    "\n",
    "def model_class(model_class):\n",
    "    if \"UNet\" in model_class:\n",
    "        return \"Uncalibrated\"\n",
    "    else:\n",
    "        return model_class.split('.')[-1]\n",
    "\n",
    "def configuration(method_name, model_class):\n",
    "    return f\"{method_name}_{model_class}\"\n",
    "\n",
    "image_info_df.augment(method_name)\n",
    "image_info_df.augment(model_class)\n",
    "image_info_df.augment(configuration)\n",
    "\n",
    "# Sorting for plotting.\n",
    "####################################################################\n",
    "\n",
    "# Sort the image_info_df by method name, so everything appears nicely\n",
    "image_info_df = image_info_df.sort_values(by=['method_name', 'model_class'])\n",
    "# Make sure that the model_class 'Uncalibrated' is first\n",
    "image_info_df['model_class'] = image_info_df['model_class'].astype('category')\n",
    "image_info_df['model_class'].cat.reorder_categories(['Uncalibrated', 'Temperature_Scaling', 'Vector_Scaling', 'Dirichlet_Scaling', 'LTS'], inplace=True)"
   ]
  },
  {
   "cell_type": "markdown",
   "metadata": {},
   "source": [
    "## Let's try to see if there is any hope with having better ECE/ELM makes better ensembles. Note that this isn't a conclusive result just because the number of samples per images that are used to calculate ECE/ELM are not sufficient to get actual statistical quantities."
   ]
  },
  {
   "cell_type": "markdown",
   "metadata": {},
   "source": [
    "### First thing we have to do is calculate per slice per model configuration, the delta in performance that each configuration has between that configuration's slice performance and the average un-calibrated UNet performance on that slice."
   ]
  },
  {
   "cell_type": "code",
   "execution_count": null,
   "metadata": {},
   "outputs": [],
   "source": [
    "# "
   ]
  },
  {
   "cell_type": "markdown",
   "metadata": {},
   "source": [
    "## Now we want to consider these averaged within subjects."
   ]
  },
  {
   "cell_type": "code",
   "execution_count": null,
   "metadata": {},
   "outputs": [],
   "source": [
    "subj_image_info_df = image_info_df.groupby([\"method_name\", \"model_class\", \"qual_metric\", \"ensemble\", \"data_id\"])['qual_score'].mean().reset_index()"
   ]
  }
 ],
 "metadata": {
  "kernelspec": {
   "display_name": "UniverSegTF",
   "language": "python",
   "name": "universegtf"
  },
  "language_info": {
   "codemirror_mode": {
    "name": "ipython",
    "version": 3
   },
   "file_extension": ".py",
   "mimetype": "text/x-python",
   "name": "python",
   "nbconvert_exporter": "python",
   "pygments_lexer": "ipython3",
   "version": "3.9.16"
  },
  "orig_nbformat": 4
 },
 "nbformat": 4,
 "nbformat_minor": 2
}
