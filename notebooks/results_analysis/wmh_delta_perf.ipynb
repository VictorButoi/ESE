{
 "cells": [
  {
   "cell_type": "code",
   "execution_count": 1,
   "metadata": {},
   "outputs": [],
   "source": [
    "import sys\n",
    "sys.path.append('/storage/vbutoi/projects')\n",
    "sys.path.append('/storage/vbutoi/libraries')\n",
    "sys.path.append('/storage/vbutoi/projects/ESE')\n",
    "sys.path.append('/storage/vbutoi/projects/UniverSeg')\n",
    "\n",
    "import pandas as pd\n",
    "import matplotlib.pyplot as plt\n",
    "import seaborn as sns\n",
    "sns.set_style(\"darkgrid\")\n",
    "\n",
    "import os \n",
    "os.environ['DATAPATH'] = ':'.join((\n",
    "       '/storage/vbutoi/datasets',\n",
    "))\n",
    "\n",
    "# Results loader object does everything\n",
    "from ionpy.analysis import ResultsLoader\n",
    "from pathlib import Path\n",
    "root = Path(\"/storage/vbutoi/scratch/ESE\")\n",
    "rs = ResultsLoader()\n",
    "\n",
    "# For using code without restarting.\n",
    "%load_ext autoreload\n",
    "%autoreload \n",
    "# For using yaml configs.\n",
    "%load_ext yamlmagic"
   ]
  },
  {
   "cell_type": "code",
   "execution_count": 2,
   "metadata": {},
   "outputs": [],
   "source": [
    "exp_base = \"01_10_24_wLabAmounts\"\n",
    "# exp_base = \"01_14_24_EnsembleAnalysis\""
   ]
  },
  {
   "cell_type": "code",
   "execution_count": 3,
   "metadata": {},
   "outputs": [],
   "source": [
    "def sort_by_calibrator(image_info_df):\n",
    "    # Sort the image_info_df by method name, so everything appears nicely\n",
    "    image_info_df = image_info_df.sort_values(by=['method_name', 'calibrator'])\n",
    "    # Make sure that the model_class 'Uncalibrated' is first\n",
    "    image_info_df['calibrator'] = image_info_df['calibrator'].astype('category')\n",
    "    image_info_df['calibrator'].cat.reorder_categories(['Uncalibrated', 'Temperature_Scaling', 'Vector_Scaling', 'Dirichlet_Scaling', 'LTS'])\n",
    "    # Make the category normal again\n",
    "    image_info_df['calibrator'] = image_info_df['calibrator'].astype('object')\n",
    "    return image_info_df"
   ]
  },
  {
   "cell_type": "code",
   "execution_count": 4,
   "metadata": {},
   "outputs": [
    {
     "data": {
      "application/javascript": "\n            require(\n                [\n                    \"notebook/js/codecell\",\n                    \"codemirror/mode/yaml/yaml\"\n                ],\n                function(cc){\n                    cc.CodeCell.options_default.highlight_modes.magic_yaml = {\n                        reg: [\"^%%yaml\"]\n                    }\n                }\n            );\n            ",
      "text/plain": [
       "<IPython.core.display.Javascript object>"
      ]
     },
     "metadata": {},
     "output_type": "display_data"
    }
   ],
   "source": [
    "%%yaml results_cfg \n",
    "\n",
    "log:\n",
    "    root: /storage/vbutoi/scratch/ESE/inference\n",
    "    load_pixel_meters: True \n",
    "    remove_shared_columns: True\n",
    "    drop_nan_metric_rows: True\n",
    "    min_fg_pixels: 100\n",
    "    inference_paths:\n",
    "        - \"01_14_24_EnsembleAnalysis/WMH_Individual_Uncalibrated\"\n",
    "        - \"01_14_24_EnsembleAnalysis/WMH_Individual_TempScaling\"\n",
    "        - \"01_14_24_EnsembleAnalysis/WMH_Individual_VectorScaling\"\n",
    "        - \"01_14_24_EnsembleAnalysis/WMH_Individual_DirichletScaling\"\n",
    "        - \"01_14_24_EnsembleAnalysis/WMH_Individual_LTS\"\n",
    "        - \"01_14_24_EnsembleAnalysis/WMH_Ensemble_Uncalibrated\"\n",
    "        - \"01_14_24_EnsembleAnalysis/WMH_Ensemble_TempScaling\"\n",
    "        - \"01_14_24_EnsembleAnalysis/WMH_Ensemble_VectorScaling\"\n",
    "        - \"01_14_24_EnsembleAnalysis/WMH_Ensemble_DirichletScaling\"\n",
    "        - \"01_14_24_EnsembleAnalysis/WMH_Ensemble_LTS\"\n",
    "    \n",
    "calibration:\n",
    "    conf_interval:\n",
    "        - 0.5\n",
    "        - 1.\n",
    "    num_bins: 10\n",
    "    square_diff: False \n",
    "    neighborhood_width: 3\n",
    "\n",
    "cal_metrics:\n",
    "    - ECE:\n",
    "        _fn: ese.experiment.metrics.ece.ece_loss\n",
    "    - CW_ECE:\n",
    "        _fn: ese.experiment.metrics.ece.cw_ece_loss\n",
    "    - Edge_ECE:\n",
    "        _fn: ese.experiment.metrics.ece.edge_ece_loss\n",
    "    - ELM:\n",
    "        _fn: ese.experiment.metrics.elm.elm_loss\n",
    "    - Foreground_ECE:\n",
    "        _fn: ese.experiment.metrics.ece.ece_loss\n",
    "        ignore_index: 0\n",
    "    - Foreground_CW_ECE:\n",
    "        _fn: ese.experiment.metrics.ece.cw_ece_loss\n",
    "        ignore_index: 0\n",
    "    - Foreground_Edge_ECE:\n",
    "        _fn: ese.experiment.metrics.ece.edge_ece_loss\n",
    "        ignore_index: 0       \n",
    "    - Foreground_ELM:\n",
    "        _fn: ese.experiment.metrics.elm.elm_loss\n",
    "        ignore_index: 0"
   ]
  },
  {
   "cell_type": "code",
   "execution_count": 5,
   "metadata": {},
   "outputs": [],
   "source": [
    "from ese.experiment.analysis.inference import load_cal_inference_stats\n",
    "\n",
    "image_info_df = load_cal_inference_stats(\n",
    "    results_cfg=results_cfg\n",
    ")"
   ]
  },
  {
   "cell_type": "markdown",
   "metadata": {},
   "source": [
    "## We are going to do the same standardization for our df. "
   ]
  },
  {
   "cell_type": "code",
   "execution_count": 6,
   "metadata": {},
   "outputs": [],
   "source": [
    "# Add extra variable names.\n",
    "####################################################################\n",
    "\n",
    "image_info_df[\"ensemble\"] = image_info_df[\"model.ensemble\"]\n",
    "image_info_df[\"pre_softmax\"] = image_info_df[\"model.ensemble_pre_softmax\"]\n",
    "image_info_df[\"combine_fn\"] = image_info_df[\"model.ensemble_combine_fn\"]\n",
    "image_info_df[\"pretrained_seed\"] = image_info_df[\"experiment.pretrained_seed\"]\n",
    "image_info_df[\"model_class\"] = image_info_df[\"model._class\"]\n",
    "image_info_df[\"pretrained_model_class\"] = image_info_df[\"model._pretrained_class\"]\n",
    "\n",
    "def method_name(model_class, pretrained_model_class, pretrained_seed, ensemble, pre_softmax, combine_fn):\n",
    "    if ensemble:\n",
    "        softmax_modifier = \"pre\" if pre_softmax else \"post\"\n",
    "        method_name_string = f\"Ensemble ({combine_fn}, {softmax_modifier})\" \n",
    "    else:\n",
    "        if pretrained_model_class == \"None\":\n",
    "            method_name_string = f\"{model_class.split('.')[-1]} (seed={pretrained_seed})\"\n",
    "        else:\n",
    "            method_name_string = f\"{pretrained_model_class.split('.')[-1]} (seed={pretrained_seed})\"\n",
    "\n",
    "    return method_name_string\n",
    "\n",
    "def calibrator(model_class):\n",
    "    if \"UNet\" in model_class:\n",
    "        return \"Uncalibrated\"\n",
    "    else:\n",
    "        return model_class.split('.')[-1]\n",
    "\n",
    "def configuration(method_name, calibrator):\n",
    "    return f\"{method_name}_{calibrator}\"\n",
    "\n",
    "def model_type(ensemble):\n",
    "    return 'group' if ensemble else 'individual'\n",
    "\n",
    "image_info_df.augment(method_name)\n",
    "image_info_df.augment(calibrator)\n",
    "image_info_df.augment(configuration)\n",
    "image_info_df.augment(model_type)\n",
    "\n",
    "# Sorting for plotting.\n",
    "####################################################################\n",
    "image_info_df = sort_by_calibrator(image_info_df)"
   ]
  },
  {
   "cell_type": "code",
   "execution_count": 7,
   "metadata": {},
   "outputs": [
    {
     "data": {
      "text/html": [
       "<div>\n",
       "<style scoped>\n",
       "    .dataframe tbody tr th:only-of-type {\n",
       "        vertical-align: middle;\n",
       "    }\n",
       "\n",
       "    .dataframe tbody tr th {\n",
       "        vertical-align: top;\n",
       "    }\n",
       "\n",
       "    .dataframe thead th {\n",
       "        text-align: right;\n",
       "    }\n",
       "</style>\n",
       "<table border=\"1\" class=\"dataframe\">\n",
       "  <thead>\n",
       "    <tr style=\"text-align: right;\">\n",
       "      <th></th>\n",
       "      <th>data_id</th>\n",
       "      <th>slice_idx</th>\n",
       "      <th>image_metric</th>\n",
       "      <th>metric_score</th>\n",
       "      <th>num_lab_0_pixels</th>\n",
       "      <th>num_lab_1_pixels</th>\n",
       "      <th>num_bins</th>\n",
       "      <th>neighborhood_width</th>\n",
       "      <th>square_diff</th>\n",
       "      <th>log_set</th>\n",
       "      <th>...</th>\n",
       "      <th>ensemble</th>\n",
       "      <th>pre_softmax</th>\n",
       "      <th>combine_fn</th>\n",
       "      <th>pretrained_seed</th>\n",
       "      <th>model_class</th>\n",
       "      <th>pretrained_model_class</th>\n",
       "      <th>method_name</th>\n",
       "      <th>calibrator</th>\n",
       "      <th>configuration</th>\n",
       "      <th>model_type</th>\n",
       "    </tr>\n",
       "  </thead>\n",
       "  <tbody>\n",
       "    <tr>\n",
       "      <th>92815</th>\n",
       "      <td>103</td>\n",
       "      <td>18</td>\n",
       "      <td>Image_ECE</td>\n",
       "      <td>0.001084</td>\n",
       "      <td>65395</td>\n",
       "      <td>141</td>\n",
       "      <td>10</td>\n",
       "      <td>3</td>\n",
       "      <td>False</td>\n",
       "      <td>20240114_172155-V6G8-57101eef185e4d2f57011bee8...</td>\n",
       "      <td>...</td>\n",
       "      <td>True</td>\n",
       "      <td>False</td>\n",
       "      <td>max</td>\n",
       "      <td>42</td>\n",
       "      <td>ese.experiment.models.calibrators.Dirichlet_Sc...</td>\n",
       "      <td>ese.experiment.models.unet.UNet</td>\n",
       "      <td>Ensemble (max, post)</td>\n",
       "      <td>Dirichlet_Scaling</td>\n",
       "      <td>Ensemble (max, post)_Dirichlet_Scaling</td>\n",
       "      <td>group</td>\n",
       "    </tr>\n",
       "    <tr>\n",
       "      <th>92816</th>\n",
       "      <td>103</td>\n",
       "      <td>18</td>\n",
       "      <td>Image_Edge-ECE</td>\n",
       "      <td>0.038892</td>\n",
       "      <td>65395</td>\n",
       "      <td>141</td>\n",
       "      <td>10</td>\n",
       "      <td>3</td>\n",
       "      <td>False</td>\n",
       "      <td>20240114_172155-V6G8-57101eef185e4d2f57011bee8...</td>\n",
       "      <td>...</td>\n",
       "      <td>True</td>\n",
       "      <td>False</td>\n",
       "      <td>max</td>\n",
       "      <td>42</td>\n",
       "      <td>ese.experiment.models.calibrators.Dirichlet_Sc...</td>\n",
       "      <td>ese.experiment.models.unet.UNet</td>\n",
       "      <td>Ensemble (max, post)</td>\n",
       "      <td>Dirichlet_Scaling</td>\n",
       "      <td>Ensemble (max, post)_Dirichlet_Scaling</td>\n",
       "      <td>group</td>\n",
       "    </tr>\n",
       "    <tr>\n",
       "      <th>92817</th>\n",
       "      <td>103</td>\n",
       "      <td>18</td>\n",
       "      <td>Image_CW-ECE</td>\n",
       "      <td>0.267799</td>\n",
       "      <td>65395</td>\n",
       "      <td>141</td>\n",
       "      <td>10</td>\n",
       "      <td>3</td>\n",
       "      <td>False</td>\n",
       "      <td>20240114_172155-V6G8-57101eef185e4d2f57011bee8...</td>\n",
       "      <td>...</td>\n",
       "      <td>True</td>\n",
       "      <td>False</td>\n",
       "      <td>max</td>\n",
       "      <td>42</td>\n",
       "      <td>ese.experiment.models.calibrators.Dirichlet_Sc...</td>\n",
       "      <td>ese.experiment.models.unet.UNet</td>\n",
       "      <td>Ensemble (max, post)</td>\n",
       "      <td>Dirichlet_Scaling</td>\n",
       "      <td>Ensemble (max, post)_Dirichlet_Scaling</td>\n",
       "      <td>group</td>\n",
       "    </tr>\n",
       "    <tr>\n",
       "      <th>92818</th>\n",
       "      <td>103</td>\n",
       "      <td>18</td>\n",
       "      <td>Image_ELM</td>\n",
       "      <td>0.001391</td>\n",
       "      <td>65395</td>\n",
       "      <td>141</td>\n",
       "      <td>10</td>\n",
       "      <td>3</td>\n",
       "      <td>False</td>\n",
       "      <td>20240114_172155-V6G8-57101eef185e4d2f57011bee8...</td>\n",
       "      <td>...</td>\n",
       "      <td>True</td>\n",
       "      <td>False</td>\n",
       "      <td>max</td>\n",
       "      <td>42</td>\n",
       "      <td>ese.experiment.models.calibrators.Dirichlet_Sc...</td>\n",
       "      <td>ese.experiment.models.unet.UNet</td>\n",
       "      <td>Ensemble (max, post)</td>\n",
       "      <td>Dirichlet_Scaling</td>\n",
       "      <td>Ensemble (max, post)_Dirichlet_Scaling</td>\n",
       "      <td>group</td>\n",
       "    </tr>\n",
       "    <tr>\n",
       "      <th>92819</th>\n",
       "      <td>103</td>\n",
       "      <td>18</td>\n",
       "      <td>Image_Foreground-ECE</td>\n",
       "      <td>0.534777</td>\n",
       "      <td>65395</td>\n",
       "      <td>141</td>\n",
       "      <td>10</td>\n",
       "      <td>3</td>\n",
       "      <td>False</td>\n",
       "      <td>20240114_172155-V6G8-57101eef185e4d2f57011bee8...</td>\n",
       "      <td>...</td>\n",
       "      <td>True</td>\n",
       "      <td>False</td>\n",
       "      <td>max</td>\n",
       "      <td>42</td>\n",
       "      <td>ese.experiment.models.calibrators.Dirichlet_Sc...</td>\n",
       "      <td>ese.experiment.models.unet.UNet</td>\n",
       "      <td>Ensemble (max, post)</td>\n",
       "      <td>Dirichlet_Scaling</td>\n",
       "      <td>Ensemble (max, post)_Dirichlet_Scaling</td>\n",
       "      <td>group</td>\n",
       "    </tr>\n",
       "  </tbody>\n",
       "</table>\n",
       "<p>5 rows × 42 columns</p>\n",
       "</div>"
      ],
      "text/plain": [
       "      data_id  slice_idx          image_metric  metric_score   \n",
       "92815     103         18             Image_ECE      0.001084  \\\n",
       "92816     103         18        Image_Edge-ECE      0.038892   \n",
       "92817     103         18          Image_CW-ECE      0.267799   \n",
       "92818     103         18             Image_ELM      0.001391   \n",
       "92819     103         18  Image_Foreground-ECE      0.534777   \n",
       "\n",
       "       num_lab_0_pixels  num_lab_1_pixels  num_bins  neighborhood_width   \n",
       "92815             65395               141        10                   3  \\\n",
       "92816             65395               141        10                   3   \n",
       "92817             65395               141        10                   3   \n",
       "92818             65395               141        10                   3   \n",
       "92819             65395               141        10                   3   \n",
       "\n",
       "       square_diff                                            log_set  ...   \n",
       "92815        False  20240114_172155-V6G8-57101eef185e4d2f57011bee8...  ...  \\\n",
       "92816        False  20240114_172155-V6G8-57101eef185e4d2f57011bee8...  ...   \n",
       "92817        False  20240114_172155-V6G8-57101eef185e4d2f57011bee8...  ...   \n",
       "92818        False  20240114_172155-V6G8-57101eef185e4d2f57011bee8...  ...   \n",
       "92819        False  20240114_172155-V6G8-57101eef185e4d2f57011bee8...  ...   \n",
       "\n",
       "       ensemble pre_softmax combine_fn pretrained_seed   \n",
       "92815      True       False        max              42  \\\n",
       "92816      True       False        max              42   \n",
       "92817      True       False        max              42   \n",
       "92818      True       False        max              42   \n",
       "92819      True       False        max              42   \n",
       "\n",
       "                                             model_class   \n",
       "92815  ese.experiment.models.calibrators.Dirichlet_Sc...  \\\n",
       "92816  ese.experiment.models.calibrators.Dirichlet_Sc...   \n",
       "92817  ese.experiment.models.calibrators.Dirichlet_Sc...   \n",
       "92818  ese.experiment.models.calibrators.Dirichlet_Sc...   \n",
       "92819  ese.experiment.models.calibrators.Dirichlet_Sc...   \n",
       "\n",
       "                pretrained_model_class           method_name   \n",
       "92815  ese.experiment.models.unet.UNet  Ensemble (max, post)  \\\n",
       "92816  ese.experiment.models.unet.UNet  Ensemble (max, post)   \n",
       "92817  ese.experiment.models.unet.UNet  Ensemble (max, post)   \n",
       "92818  ese.experiment.models.unet.UNet  Ensemble (max, post)   \n",
       "92819  ese.experiment.models.unet.UNet  Ensemble (max, post)   \n",
       "\n",
       "              calibrator                           configuration model_type  \n",
       "92815  Dirichlet_Scaling  Ensemble (max, post)_Dirichlet_Scaling      group  \n",
       "92816  Dirichlet_Scaling  Ensemble (max, post)_Dirichlet_Scaling      group  \n",
       "92817  Dirichlet_Scaling  Ensemble (max, post)_Dirichlet_Scaling      group  \n",
       "92818  Dirichlet_Scaling  Ensemble (max, post)_Dirichlet_Scaling      group  \n",
       "92819  Dirichlet_Scaling  Ensemble (max, post)_Dirichlet_Scaling      group  \n",
       "\n",
       "[5 rows x 42 columns]"
      ]
     },
     "execution_count": 7,
     "metadata": {},
     "output_type": "execute_result"
    }
   ],
   "source": [
    "image_info_df.head()"
   ]
  },
  {
   "cell_type": "code",
   "execution_count": 8,
   "metadata": {},
   "outputs": [
    {
     "data": {
      "text/plain": [
       "Index(['data_id', 'slice_idx', 'image_metric', 'metric_score',\n",
       "       'num_lab_0_pixels', 'num_lab_1_pixels', 'num_bins',\n",
       "       'neighborhood_width', 'square_diff', 'log_set',\n",
       "       'experiment.pretrained_seed', 'log.root', 'model._class',\n",
       "       'model.checkpoint', 'model.convs_per_block', 'model.ensemble',\n",
       "       'model.ensemble_combine_fn', 'model.ensemble_pre_softmax',\n",
       "       'model.in_channels', 'model.out_channels', 'model.pretrained_exp_root',\n",
       "       'model._pretrained_class', 'model.image_channels', 'model.num_classes',\n",
       "       'ECE', 'CW_ECE', 'Edge_ECE', 'ELM', 'Foreground_ECE',\n",
       "       'Foreground_CW_ECE', 'Foreground_Edge_ECE', 'Foreground_ELM',\n",
       "       'ensemble', 'pre_softmax', 'combine_fn', 'pretrained_seed',\n",
       "       'model_class', 'pretrained_model_class', 'method_name', 'calibrator',\n",
       "       'configuration', 'model_type'],\n",
       "      dtype='object')"
      ]
     },
     "execution_count": 8,
     "metadata": {},
     "output_type": "execute_result"
    }
   ],
   "source": [
    "image_info_df.keys()"
   ]
  },
  {
   "cell_type": "markdown",
   "metadata": {},
   "source": [
    "## Let's try to see if there is any hope with having better ECE/ELM makes better ensembles. Note that this isn't a conclusive result just because the number of samples per images that are used to calculate ECE/ELM are not sufficient to get actual statistical quantities."
   ]
  },
  {
   "cell_type": "markdown",
   "metadata": {},
   "source": [
    "### First thing we have to do is calculate per slice per model configuration, the delta in performance that each configuration has between that configuration's slice performance and the average un-calibrated UNet performance on that slice."
   ]
  },
  {
   "cell_type": "code",
   "execution_count": 9,
   "metadata": {},
   "outputs": [],
   "source": [
    "unet_info_df = image_info_df[image_info_df['ensemble'] == False].reset_index(drop=True)\n",
    "# Group everything we need. \n",
    "group_keys = ['data_id', 'slice_idx', 'image_metric', 'calibrator', 'model_class', 'pretrained_model_class'] \n",
    "average_unet_group = unet_info_df.groupby(group_keys).agg({'metric_score': 'mean', 'num_lab_0_pixels': 'mean', 'num_lab_1_pixels': 'mean'}).reset_index()\n",
    "average_unet_group['pretrained_seed'] = 'Average'\n",
    "average_unet_group['model_type'] = 'group'"
   ]
  },
  {
   "cell_type": "code",
   "execution_count": 10,
   "metadata": {},
   "outputs": [
    {
     "data": {
      "text/plain": [
       "54595"
      ]
     },
     "execution_count": 10,
     "metadata": {},
     "output_type": "execute_result"
    }
   ],
   "source": [
    "len(unet_info_df)"
   ]
  },
  {
   "cell_type": "code",
   "execution_count": 11,
   "metadata": {},
   "outputs": [
    {
     "data": {
      "text/plain": [
       "13650"
      ]
     },
     "execution_count": 11,
     "metadata": {},
     "output_type": "execute_result"
    }
   ],
   "source": [
    "len(average_unet_group)"
   ]
  },
  {
   "cell_type": "code",
   "execution_count": 12,
   "metadata": {},
   "outputs": [],
   "source": [
    "def method_name(pretrained_model_class, model_class):\n",
    "    if pretrained_model_class == \"None\":\n",
    "        return f\"{model_class.split('.')[-1]} (seed=Average)\"\n",
    "    else:\n",
    "        return f\"{pretrained_model_class.split('.')[-1]} (seed=Average)\"\n",
    "\n",
    "def configuration(method_name, calibrator):\n",
    "    return f\"{method_name}_{calibrator}\"\n",
    "\n",
    "average_unet_group.augment(method_name)\n",
    "average_unet_group.augment(configuration)"
   ]
  },
  {
   "cell_type": "code",
   "execution_count": 13,
   "metadata": {},
   "outputs": [],
   "source": [
    "# Add this unet group back to image info df\n",
    "image_info_df = pd.concat([image_info_df, average_unet_group], axis=0, ignore_index=True)\n",
    "image_info_df = sort_by_calibrator(image_info_df)"
   ]
  },
  {
   "cell_type": "code",
   "execution_count": 14,
   "metadata": {},
   "outputs": [
    {
     "data": {
      "text/plain": [
       "array(['Ensemble (max, post)_Dirichlet_Scaling',\n",
       "       'Ensemble (max, post)_LTS',\n",
       "       'Ensemble (max, post)_Temperature_Scaling',\n",
       "       'Ensemble (max, post)_Uncalibrated',\n",
       "       'Ensemble (max, post)_Vector_Scaling',\n",
       "       'Ensemble (max, pre)_Dirichlet_Scaling', 'Ensemble (max, pre)_LTS',\n",
       "       'Ensemble (max, pre)_Temperature_Scaling',\n",
       "       'Ensemble (max, pre)_Uncalibrated',\n",
       "       'Ensemble (max, pre)_Vector_Scaling',\n",
       "       'Ensemble (mean, post)_Dirichlet_Scaling',\n",
       "       'Ensemble (mean, post)_LTS',\n",
       "       'Ensemble (mean, post)_Temperature_Scaling',\n",
       "       'Ensemble (mean, post)_Uncalibrated',\n",
       "       'Ensemble (mean, post)_Vector_Scaling',\n",
       "       'Ensemble (mean, pre)_Dirichlet_Scaling',\n",
       "       'Ensemble (mean, pre)_LTS',\n",
       "       'Ensemble (mean, pre)_Temperature_Scaling',\n",
       "       'Ensemble (mean, pre)_Uncalibrated',\n",
       "       'Ensemble (mean, pre)_Vector_Scaling',\n",
       "       'UNet (seed=40)_Dirichlet_Scaling', 'UNet (seed=40)_LTS',\n",
       "       'UNet (seed=40)_Temperature_Scaling',\n",
       "       'UNet (seed=40)_Uncalibrated', 'UNet (seed=40)_Vector_Scaling',\n",
       "       'UNet (seed=41)_Dirichlet_Scaling', 'UNet (seed=41)_LTS',\n",
       "       'UNet (seed=41)_Temperature_Scaling',\n",
       "       'UNet (seed=41)_Uncalibrated', 'UNet (seed=41)_Vector_Scaling',\n",
       "       'UNet (seed=42)_Dirichlet_Scaling', 'UNet (seed=42)_LTS',\n",
       "       'UNet (seed=42)_Temperature_Scaling',\n",
       "       'UNet (seed=42)_Uncalibrated', 'UNet (seed=42)_Vector_Scaling',\n",
       "       'UNet (seed=43)_Dirichlet_Scaling', 'UNet (seed=43)_LTS',\n",
       "       'UNet (seed=43)_Temperature_Scaling',\n",
       "       'UNet (seed=43)_Uncalibrated', 'UNet (seed=43)_Vector_Scaling',\n",
       "       'UNet (seed=Average)_Dirichlet_Scaling', 'UNet (seed=Average)_LTS',\n",
       "       'UNet (seed=Average)_Temperature_Scaling',\n",
       "       'UNet (seed=Average)_Uncalibrated',\n",
       "       'UNet (seed=Average)_Vector_Scaling'], dtype=object)"
      ]
     },
     "execution_count": 14,
     "metadata": {},
     "output_type": "execute_result"
    }
   ],
   "source": [
    "image_info_df['configuration'].unique()"
   ]
  },
  {
   "cell_type": "markdown",
   "metadata": {},
   "source": [
    "### Now we have to add to each row a column that is the difference betweeen the row's metric_score and the metric_score corresponding to the same image metric as mean uncalibrated UNet performance. "
   ]
  },
  {
   "cell_type": "code",
   "execution_count": 15,
   "metadata": {},
   "outputs": [],
   "source": [
    "# Step 1: Filter the dataframe\n",
    "average_unet_row = image_info_df[(image_info_df['pretrained_seed'] == 'Average') & (image_info_df['calibrator'] == 'Uncalibrated')]\n",
    "# assert that for the same data_id, slice_idx, and image_metric, there is only one row\n",
    "merge_unet_cols = average_unet_row.groupby(['data_id', 'slice_idx', 'image_metric']).size()\n",
    "assert merge_unet_cols.max() == 1,\\\n",
    "    f\"There should be only one row for each data_id, slice_idx, and image_metric combination, got {merge_unet_cols}.\""
   ]
  },
  {
   "cell_type": "code",
   "execution_count": 16,
   "metadata": {},
   "outputs": [],
   "source": [
    "# Step 2: Merge based on 'image_metric', 'subject_id', and 'slice_idx'\n",
    "merge_columns = ['image_metric', 'data_id', 'slice_idx']\n",
    "merged_df = pd.merge(image_info_df, average_unet_row[merge_columns + ['metric_score']], on=merge_columns, how='left', suffixes=('', '_average_unet'))"
   ]
  },
  {
   "cell_type": "code",
   "execution_count": 17,
   "metadata": {},
   "outputs": [],
   "source": [
    "# Step 3: Calculate the difference\n",
    "merged_df['delta_from_base'] = merged_df['metric_score'] - merged_df['metric_score_average_unet']\n",
    "# Drop unnecessary columns from the merged dataframe\n",
    "image_info_df = merged_df.drop(['metric_score_average_unet'], axis=1)"
   ]
  },
  {
   "cell_type": "code",
   "execution_count": 18,
   "metadata": {},
   "outputs": [],
   "source": [
    "# Assert here that the delta from base from the unet group is 0\n",
    "base_rows = image_info_df[(image_info_df['pretrained_seed'] == 'Average') & (image_info_df['calibrator'] == 'Uncalibrated')]\n",
    "assert (base_rows['delta_from_base'] == 0).all(),\\\n",
    "    f\"Delta from base should be 0 for the unet group, got {base_rows['delta_from_base']}.\""
   ]
  },
  {
   "cell_type": "markdown",
   "metadata": {},
   "source": [
    "## Now we can look at trends! We want to make some scatterplots to look at relationships between calibration scores and their relative improvement over the baseline.   "
   ]
  },
  {
   "cell_type": "code",
   "execution_count": 19,
   "metadata": {},
   "outputs": [],
   "source": [
    "def metric_type(image_metric):\n",
    "    if 'ECE' in image_metric or 'ELM' in image_metric:\n",
    "        return 'calibration'\n",
    "    else:\n",
    "        return 'quality'\n",
    "    \n",
    "image_info_df.augment(metric_type)"
   ]
  },
  {
   "cell_type": "code",
   "execution_count": 20,
   "metadata": {},
   "outputs": [
    {
     "data": {
      "text/plain": [
       "122843"
      ]
     },
     "execution_count": 20,
     "metadata": {},
     "output_type": "execute_result"
    }
   ],
   "source": [
    "len(image_info_df)"
   ]
  },
  {
   "cell_type": "code",
   "execution_count": 21,
   "metadata": {},
   "outputs": [
    {
     "name": "stdout",
     "output_type": "stream",
     "text": [
      "Num quality metrics: 2\n",
      "Num calibration metrics: 8\n",
      "Original df size: 122843\n"
     ]
    }
   ],
   "source": [
    "# Filter rows with 'quality' and 'calibration' metric types\n",
    "quality_metric_df = image_info_df[image_info_df['metric_type'] == 'quality']\n",
    "calibration_metric_df = image_info_df[image_info_df['metric_type'] == 'calibration']\n",
    "# Drop the metric_type columns\n",
    "quality_metric_df = quality_metric_df.drop(['metric_type'], axis=1)\n",
    "calibration_metric_df = calibration_metric_df.drop(['metric_type'], axis=1)\n",
    "\n",
    "df_size = len(image_info_df)\n",
    "num_qual_metrics = len(quality_metric_df['image_metric'].unique())\n",
    "num_cal_metrics = len(calibration_metric_df['image_metric'].unique())\n",
    "print('Num quality metrics:', num_qual_metrics) \n",
    "print('Num calibration metrics:', num_cal_metrics)\n",
    "print('Original df size:', df_size)"
   ]
  },
  {
   "cell_type": "code",
   "execution_count": 22,
   "metadata": {},
   "outputs": [
    {
     "ename": "AssertionError",
     "evalue": "Combined df should have 1965488 rows, got 196504.",
     "output_type": "error",
     "traceback": [
      "\u001b[0;31m---------------------------------------------------------------------------\u001b[0m",
      "\u001b[0;31mAssertionError\u001b[0m                            Traceback (most recent call last)",
      "Cell \u001b[0;32mIn[22], line 12\u001b[0m\n\u001b[1;32m      5\u001b[0m \u001b[38;5;66;03m# Rename the newly added colums\u001b[39;00m\n\u001b[1;32m      6\u001b[0m combined_metric_df \u001b[38;5;241m=\u001b[39m combined_metric_df\u001b[38;5;241m.\u001b[39mrename(columns\u001b[38;5;241m=\u001b[39m{\n\u001b[1;32m      7\u001b[0m     \u001b[38;5;124m'\u001b[39m\u001b[38;5;124mimage_metric\u001b[39m\u001b[38;5;124m'\u001b[39m: \u001b[38;5;124m'\u001b[39m\u001b[38;5;124mquality_metric\u001b[39m\u001b[38;5;124m'\u001b[39m, \n\u001b[1;32m      8\u001b[0m     \u001b[38;5;124m'\u001b[39m\u001b[38;5;124mmetric_score\u001b[39m\u001b[38;5;124m'\u001b[39m: \u001b[38;5;124m'\u001b[39m\u001b[38;5;124mquality_score\u001b[39m\u001b[38;5;124m'\u001b[39m,\n\u001b[1;32m      9\u001b[0m     \u001b[38;5;124m'\u001b[39m\u001b[38;5;124mimage_metric_calibration\u001b[39m\u001b[38;5;124m'\u001b[39m: \u001b[38;5;124m'\u001b[39m\u001b[38;5;124mcalibration_metric\u001b[39m\u001b[38;5;124m'\u001b[39m, \n\u001b[1;32m     10\u001b[0m     \u001b[38;5;124m'\u001b[39m\u001b[38;5;124mmetric_score_calibration\u001b[39m\u001b[38;5;124m'\u001b[39m: \u001b[38;5;124m'\u001b[39m\u001b[38;5;124mcalibration_score\u001b[39m\u001b[38;5;124m'\u001b[39m\n\u001b[1;32m     11\u001b[0m     })\n\u001b[0;32m---> 12\u001b[0m \u001b[38;5;28;01massert\u001b[39;00m \u001b[38;5;28mlen\u001b[39m(combined_metric_df) \u001b[38;5;241m==\u001b[39m (df_size \u001b[38;5;241m*\u001b[39m (num_cal_metrics, num_qual_metrics)),\\\n\u001b[1;32m     13\u001b[0m     \u001b[38;5;124mf\u001b[39m\u001b[38;5;124m\"\u001b[39m\u001b[38;5;124mCombined df should have \u001b[39m\u001b[38;5;132;01m{\u001b[39;00mdf_size\u001b[38;5;250m \u001b[39m\u001b[38;5;241m*\u001b[39m\u001b[38;5;250m \u001b[39m(num_cal_metrics\u001b[38;5;250m \u001b[39m\u001b[38;5;241m*\u001b[39m\u001b[38;5;250m \u001b[39mnum_qual_metrics)\u001b[38;5;132;01m}\u001b[39;00m\u001b[38;5;124m rows, got \u001b[39m\u001b[38;5;132;01m{\u001b[39;00m\u001b[38;5;28mlen\u001b[39m(combined_metric_df)\u001b[38;5;132;01m}\u001b[39;00m\u001b[38;5;124m.\u001b[39m\u001b[38;5;124m\"\u001b[39m\n",
      "\u001b[0;31mAssertionError\u001b[0m: Combined df should have 1965488 rows, got 196504."
     ]
    }
   ],
   "source": [
    "merge_cols = ['configuration', 'data_id', 'slice_idx']\n",
    "\n",
    "# Merge the two dataframes on other common columns\n",
    "combined_metric_df = pd.merge(quality_metric_df, calibration_metric_df[merge_cols + ['image_metric', 'metric_score']], on=merge_cols, suffixes=('', '_calibration'))\n",
    "# Rename the newly added colums\n",
    "combined_metric_df = combined_metric_df.rename(columns={\n",
    "    'image_metric': 'quality_metric', \n",
    "    'metric_score': 'quality_score',\n",
    "    'image_metric_calibration': 'calibration_metric', \n",
    "    'metric_score_calibration': 'calibration_score'\n",
    "    })\n",
    "assert len(combined_metric_df) == (df_size * (num_cal_metrics, num_qual_metrics)),\\\n",
    "    f\"Combined df should have {df_size * (num_cal_metrics * num_qual_metrics)} rows, got {len(combined_metric_df)}.\""
   ]
  },
  {
   "cell_type": "code",
   "execution_count": null,
   "metadata": {},
   "outputs": [],
   "source": [
    "combined_metric_df.keys()"
   ]
  },
  {
   "cell_type": "code",
   "execution_count": null,
   "metadata": {},
   "outputs": [],
   "source": [
    "len(combined_metric_df)"
   ]
  },
  {
   "cell_type": "code",
   "execution_count": null,
   "metadata": {},
   "outputs": [],
   "source": [
    "combined_metric_df"
   ]
  },
  {
   "cell_type": "code",
   "execution_count": null,
   "metadata": {},
   "outputs": [],
   "source": [
    "sns.scatterplot(data=image_info_df, \n",
    "                x='calibration_score', \n",
    "                y='delta_from_base', \n",
    "                col='calibration_metric',\n",
    "                row='quality_metric',\n",
    "                hue='calibrator', \n",
    "                style='model_type', \n",
    "                alpha=0.5\n",
    "                )"
   ]
  }
 ],
 "metadata": {
  "kernelspec": {
   "display_name": "UniverSegTF",
   "language": "python",
   "name": "universegtf"
  },
  "language_info": {
   "codemirror_mode": {
    "name": "ipython",
    "version": 3
   },
   "file_extension": ".py",
   "mimetype": "text/x-python",
   "name": "python",
   "nbconvert_exporter": "python",
   "pygments_lexer": "ipython3",
   "version": "3.9.16"
  },
  "orig_nbformat": 4
 },
 "nbformat": 4,
 "nbformat_minor": 2
}
