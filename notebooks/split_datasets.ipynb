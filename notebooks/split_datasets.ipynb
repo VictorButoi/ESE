{
 "cells": [
  {
   "cell_type": "code",
   "execution_count": 28,
   "metadata": {},
   "outputs": [],
   "source": [
    "import os\n",
    "import pathlib"
   ]
  },
  {
   "cell_type": "code",
   "execution_count": 29,
   "metadata": {},
   "outputs": [],
   "source": [
    "def is_integer(s):\n",
    "    try:\n",
    "        int(s)\n",
    "        return True\n",
    "    except ValueError:\n",
    "        return False"
   ]
  },
  {
   "cell_type": "code",
   "execution_count": 30,
   "metadata": {},
   "outputs": [
    {
     "name": "stdout",
     "output_type": "stream",
     "text": [
      "/storage/vbutoi/datasets/WMH/training/Amsterdam\n",
      "/storage/vbutoi/datasets/WMH/training/Amsterdam/GE3T\n",
      "/storage/vbutoi/datasets/WMH/training/Singapore\n",
      "/storage/vbutoi/datasets/WMH/training/Utrecht\n",
      "/storage/vbutoi/datasets/WMH/test/Utrecht\n",
      "/storage/vbutoi/datasets/WMH/test/Amsterdam\n",
      "/storage/vbutoi/datasets/WMH/test/Amsterdam/GE3T\n",
      "/storage/vbutoi/datasets/WMH/test/Amsterdam/GE1T5\n",
      "/storage/vbutoi/datasets/WMH/test/Amsterdam/PHILLIPS\n",
      "/storage/vbutoi/datasets/WMH/test/Singapore\n",
      "/storage/vbutoi/datasets/WMH/additional_annotations/observer_o3\n",
      "/storage/vbutoi/datasets/WMH/additional_annotations/observer_o3/training\n",
      "/storage/vbutoi/datasets/WMH/additional_annotations/observer_o3/training/Amsterdam\n",
      "/storage/vbutoi/datasets/WMH/additional_annotations/observer_o3/training/Amsterdam/GE3T\n",
      "/storage/vbutoi/datasets/WMH/additional_annotations/observer_o3/training/Singapore\n",
      "/storage/vbutoi/datasets/WMH/additional_annotations/observer_o3/training/Utrecht\n",
      "/storage/vbutoi/datasets/WMH/additional_annotations/observer_o4\n",
      "/storage/vbutoi/datasets/WMH/additional_annotations/observer_o4/training\n",
      "/storage/vbutoi/datasets/WMH/additional_annotations/observer_o4/training/Amsterdam\n",
      "/storage/vbutoi/datasets/WMH/additional_annotations/observer_o4/training/Amsterdam/GE3T\n",
      "/storage/vbutoi/datasets/WMH/additional_annotations/observer_o4/training/Singapore\n",
      "/storage/vbutoi/datasets/WMH/additional_annotations/observer_o4/training/Utrecht\n"
     ]
    }
   ],
   "source": [
    "root = pathlib.Path(\"/storage/vbutoi/datasets/WMH\")\n",
    "splits = [\"training\", \"test\", \"additional_annotations\"]\n",
    "\n",
    "all_dirs = []\n",
    "\n",
    "for split in splits:\n",
    "    split_path = root / split\n",
    "    for subdir in split_path.iterdir():\n",
    "        print(subdir)\n",
    "        all_dirs.append(subdir)\n",
    "        for l3_dir in subdir.iterdir():\n",
    "            if not is_integer(str(l3_dir.name)):\n",
    "                print(l3_dir)\n",
    "                all_dirs.append(l3_dir)\n",
    "                for l4_dir in l3_dir.iterdir():\n",
    "                    if not is_integer(str(l4_dir.name)):\n",
    "                        print(l4_dir)\n",
    "                        all_dirs.append(l4_dir)\n",
    "                        for l5_dir in l4_dir.iterdir():\n",
    "                            if not is_integer(str(l5_dir.name)):\n",
    "                                print(l5_dir)\n",
    "                                all_dirs.append(l5_dir)"
   ]
  },
  {
   "cell_type": "code",
   "execution_count": 31,
   "metadata": {},
   "outputs": [],
   "source": [
    "unique_dirs = all_dirs.copy()\n",
    "for path in unique_dirs:\n",
    "    all_other_dirs = [p for p in unique_dirs if p != path]\n",
    "    for other_path in all_other_dirs:\n",
    "        if path in other_path.parents:\n",
    "            unique_dirs.remove(path)\n",
    "            break"
   ]
  },
  {
   "cell_type": "code",
   "execution_count": 32,
   "metadata": {},
   "outputs": [
    {
     "data": {
      "text/plain": [
       "[PosixPath('/storage/vbutoi/datasets/WMH/training/Amsterdam/GE3T'),\n",
       " PosixPath('/storage/vbutoi/datasets/WMH/training/Singapore'),\n",
       " PosixPath('/storage/vbutoi/datasets/WMH/training/Utrecht'),\n",
       " PosixPath('/storage/vbutoi/datasets/WMH/test/Utrecht'),\n",
       " PosixPath('/storage/vbutoi/datasets/WMH/test/Amsterdam/GE3T'),\n",
       " PosixPath('/storage/vbutoi/datasets/WMH/test/Amsterdam/GE1T5'),\n",
       " PosixPath('/storage/vbutoi/datasets/WMH/test/Amsterdam/PHILLIPS'),\n",
       " PosixPath('/storage/vbutoi/datasets/WMH/test/Singapore'),\n",
       " PosixPath('/storage/vbutoi/datasets/WMH/additional_annotations/observer_o3/training'),\n",
       " PosixPath('/storage/vbutoi/datasets/WMH/additional_annotations/observer_o3/training/Amsterdam/GE3T'),\n",
       " PosixPath('/storage/vbutoi/datasets/WMH/additional_annotations/observer_o3/training/Singapore'),\n",
       " PosixPath('/storage/vbutoi/datasets/WMH/additional_annotations/observer_o3/training/Utrecht'),\n",
       " PosixPath('/storage/vbutoi/datasets/WMH/additional_annotations/observer_o4/training'),\n",
       " PosixPath('/storage/vbutoi/datasets/WMH/additional_annotations/observer_o4/training/Amsterdam/GE3T'),\n",
       " PosixPath('/storage/vbutoi/datasets/WMH/additional_annotations/observer_o4/training/Singapore'),\n",
       " PosixPath('/storage/vbutoi/datasets/WMH/additional_annotations/observer_o4/training/Utrecht')]"
      ]
     },
     "execution_count": 32,
     "metadata": {},
     "output_type": "execute_result"
    }
   ],
   "source": [
    "unique_dirs"
   ]
  }
 ],
 "metadata": {
  "kernelspec": {
   "display_name": "SAM",
   "language": "python",
   "name": "sam"
  },
  "language_info": {
   "codemirror_mode": {
    "name": "ipython",
    "version": 3
   },
   "file_extension": ".py",
   "mimetype": "text/x-python",
   "name": "python",
   "nbconvert_exporter": "python",
   "pygments_lexer": "ipython3",
   "version": "3.9.17"
  },
  "orig_nbformat": 4
 },
 "nbformat": 4,
 "nbformat_minor": 2
}
