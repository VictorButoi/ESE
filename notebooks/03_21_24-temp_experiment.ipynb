{
 "cells": [
  {
   "cell_type": "code",
   "execution_count": 1,
   "metadata": {},
   "outputs": [],
   "source": [
    "import sys\n",
    "sys.path.append('/storage/vbutoi/projects')\n",
    "sys.path.append('/storage/vbutoi/libraries')\n",
    "sys.path.append('/storage/vbutoi/projects/ESE')\n",
    "sys.path.append('/storage/vbutoi/projects/UniverSeg')\n",
    "\n",
    "import matplotlib.pyplot as plt\n",
    "import seaborn as sns\n",
    "sns.set_style(\"darkgrid\")\n",
    "sns.set_context(\"talk\")\n",
    "\n",
    "import os \n",
    "os.environ['DATAPATH'] = ':'.join((\n",
    "       '/storage/vbutoi/datasets',\n",
    "))\n",
    "\n",
    "# Results loader object does everything\n",
    "from ionpy.analysis import ResultsLoader\n",
    "from pathlib import Path\n",
    "root = Path(\"/storage/vbutoi/scratch/ESE\")\n",
    "rs = ResultsLoader()\n",
    "\n",
    "# For using code without restarting.\n",
    "%load_ext autoreload\n",
    "%autoreload 2\n",
    "# For using yaml configs.\n",
    "%load_ext yamlmagic"
   ]
  },
  {
   "cell_type": "code",
   "execution_count": 2,
   "metadata": {},
   "outputs": [
    {
     "data": {
      "application/javascript": "\n            require(\n                [\n                    \"notebook/js/codecell\",\n                    \"codemirror/mode/yaml/yaml\"\n                ],\n                function(cc){\n                    cc.CodeCell.options_default.highlight_modes.magic_yaml = {\n                        reg: [\"^%%yaml\"]\n                    }\n                }\n            );\n            ",
      "text/plain": [
       "<IPython.core.display.Javascript object>"
      ]
     },
     "metadata": {},
     "output_type": "display_data"
    }
   ],
   "source": [
    "%%yaml results_cfg \n",
    "\n",
    "log:\n",
    "    root: /storage/vbutoi/scratch/ESE/inference\n",
    "    inference_groups: \n",
    "        - \"03_21_24_RandomCircles_RandomMiscalibratedEnsembles\"\n",
    "    \n",
    "calibration:\n",
    "    metric_cfg_file: \"/storage/vbutoi/projects/ESE/ese/experiment/configs/inference/Calibration_Metrics.yaml\"\n",
    "\n",
    "options:\n",
    "    add_baseline_rows: False \n",
    "    load_pixel_meters: False \n",
    "    add_dice_loss_rows: True\n",
    "    drop_nan_metric_rows: True \n",
    "    load_groupavg_metrics: False\n",
    "    remove_shared_columns: False\n",
    "    equal_rows_per_cfg_assert: True "
   ]
  },
  {
   "cell_type": "code",
   "execution_count": 3,
   "metadata": {},
   "outputs": [
    {
     "name": "stderr",
     "output_type": "stream",
     "text": [
      "/local/vbutoi/envs/UniverSegTF/lib/python3.9/site-packages/pydantic/_internal/_fields.py:149: UserWarning: Field \"model_outputs\" has conflict with protected namespace \"model_\".\n",
      "\n",
      "You may be able to resolve this warning by setting `model_config['protected_namespaces'] = ()`.\n",
      "  warnings.warn(\n"
     ]
    },
    {
     "name": "stdout",
     "output_type": "stream",
     "text": [
      "Dropping (datapoint, metric) pairs with NaN metric score. Dropped from 92340 -> 92340 rows.\n",
      "Finished loading inference stats.\n",
      "Log amounts: log.root                                                                                                                log_set                                              \n",
      "/storage/vbutoi/scratch/ESE/inference/03_21_24_RandomCircles_RandomMiscalibratedEnsembles/Shapes_Ensemble_Uncalibrated  20240321_172845-8VPT-da548ec0c9d006986cddb3da7c103b64    1620\n",
      "                                                                                                                        20240321_172849-PYU7-eb5c251928c87b3e63a71a72e14b2292    1620\n",
      "                                                                                                                        20240321_172852-U5LW-af10b5ba648a9bc317b64f91a4aed108    1620\n",
      "                                                                                                                        20240321_172854-9HKT-2e46d5416d4810b6b2face2d0e603227    1620\n",
      "                                                                                                                        20240321_172858-GSZL-d29e90dafe1c90dbca3a391db2b25553    1620\n",
      "                                                                                                                        20240321_172901-BWKZ-d5c5135d597e8cf5918693b0cf83410d    1620\n",
      "                                                                                                                        20240321_172904-CX8M-7cc3ea271efad3b34305f62e4a5c4f03    1620\n",
      "                                                                                                                        20240321_172907-QL1A-1a982ec82c23f29e25f141dc9eb39194    1620\n",
      "                                                                                                                        20240321_172910-NA5A-85cc6e791610cb4522b937354726d416    1620\n",
      "                                                                                                                        20240321_172913-15E1-5984b03400fab1552021d1e0ef39a397    1620\n",
      "                                                                                                                        20240321_172916-4SZ9-6a646986fe830e30a4988e0c97ad3dbe    1620\n",
      "                                                                                                                        20240321_172919-MN3D-37af6aaf0240703f19cb702d01ef49ee    1620\n",
      "                                                                                                                        20240321_172922-CKXQ-4f6e8de704dc8244c8fab4f6000078ac    1620\n",
      "                                                                                                                        20240321_172926-8UI8-05e8dadf7a02832387ed5d81a3c2d3dd    1620\n",
      "                                                                                                                        20240321_172928-PKIT-ac98b2a44542354bda0b96fcfe0208d1    1620\n",
      "                                                                                                                        20240321_172931-VYTW-4a7645c30c5f342ec4669844fa365829    1620\n",
      "                                                                                                                        20240321_172934-XHW3-86578d7727fa6360f20f875a93471c33    1620\n",
      "                                                                                                                        20240321_172937-0IR3-a61746a99664b6b3eec2da4f51255a40    1620\n",
      "                                                                                                                        20240321_172940-YAQ2-ff465ffc44545e31b1d3c48d2cd0bbb9    1620\n",
      "                                                                                                                        20240321_172944-RGGE-b6b7e4d369b38c5ae5323a27eacbdc1d    1620\n",
      "                                                                                                                        20240321_172946-D3MT-229f7aec7646a9416c08faadcf6328be    1620\n",
      "                                                                                                                        20240321_172950-B7NT-6ac88f03538422044ef67cac3157e819    1620\n",
      "                                                                                                                        20240321_172953-6JKB-49bd58e213149ccecaa63fcad2c7b051    1620\n",
      "                                                                                                                        20240321_172956-S2MI-f5ea39ccbb4e5ae213d897a1cfb9e31e    1620\n",
      "                                                                                                                        20240321_172958-627E-07f7057c159953d41e504355a54d44de    1620\n",
      "                                                                                                                        20240321_173002-SXLJ-46227ec08fe99313e9467b448579bcd9    1620\n",
      "                                                                                                                        20240321_173005-Z7O6-e31e5eaaa7609aee3e51705f8a086d2d    1620\n",
      "                                                                                                                        20240321_173008-QH0D-8d4094dc5e31b8f1af8f23c2a5aa1fa5    1620\n",
      "                                                                                                                        20240321_173011-KXKN-110c197881ad8775fdd3c056360222c0    1620\n",
      "                                                                                                                        20240321_173014-3AZ9-831d51a1c57b6fd4813e94f885ed5bef    1620\n",
      "                                                                                                                        20240321_173018-MVXA-4038d7191da71dbb162141cc62b7a02d    1620\n",
      "                                                                                                                        20240321_173021-Z55V-7076a7e4e555efc9234b2c0a78803ff0    1620\n",
      "                                                                                                                        20240321_173024-GOC3-67535c5f1aef1bb42397dc1494fe7c0d    1620\n",
      "                                                                                                                        20240321_173026-MD3O-8c9adbadfb9038af7aac43cb1c4d0961    1620\n",
      "                                                                                                                        20240321_173030-P34E-d9116f39eb95824107463da7406bd06b    1620\n",
      "                                                                                                                        20240321_173033-0S31-4780bbc37e9e6400570816a025d91f66    1620\n",
      "                                                                                                                        20240321_173036-K32Z-71a33047b5e11f03844cd706a80806e1    1620\n",
      "                                                                                                                        20240321_173038-ZEEX-8d156adec1ccea27f3b949a64cef7418    1620\n",
      "                                                                                                                        20240321_173042-N2KE-a38d389470e0d1d1562fe38b89c6db94    1620\n",
      "                                                                                                                        20240321_173046-MESG-7fbe4f0f0302fe85d7c906ad3e8b44e5    1620\n",
      "                                                                                                                        20240321_173049-4OOZ-0e5e418c1ff2775a0a2a9123de4897d4    1620\n",
      "                                                                                                                        20240321_173053-VDQZ-6f2dd401ed7f834428455f050d0bf214    1620\n",
      "                                                                                                                        20240321_173055-G393-936039db2746929dd406c79de3af4840    1620\n",
      "                                                                                                                        20240321_173058-D3LX-d6d682e6b852ff510433a2a4dd7a31fe    1620\n",
      "                                                                                                                        20240321_173102-VDUQ-6bb42e39eb551c74a5f27b7b950ed5bf    1620\n",
      "                                                                                                                        20240321_173105-IV70-3b9c64ce3ce8efe7686418bcedec1509    1620\n",
      "                                                                                                                        20240321_173108-J7KA-61332072f84829c453cd222f11a6e88d    1620\n",
      "                                                                                                                        20240321_173110-71H7-d780cb65632efbf5e32dc15267a4ba42    1620\n",
      "                                                                                                                        20240321_173114-RBL6-ec55645a921253f6d3eb8fe4dff2254f    1620\n",
      "                                                                                                                        20240321_173118-ITMV-7735045511a9096975df100421cf7e0d    1620\n",
      "                                                                                                                        20240321_173121-REBO-99c771bece0c6219c6881bd80517c291    1620\n",
      "                                                                                                                        20240321_173123-DOCG-d2d480a06516bf5e865c5318e92c5a3e    1620\n",
      "                                                                                                                        20240321_173127-34WX-a648b7be0431fd7f9eb6af9edd423805    1620\n",
      "                                                                                                                        20240321_173130-I9OK-5747ce6006fb387b5c67f5763f39c890    1620\n",
      "                                                                                                                        20240321_173133-55DA-940a5499ede2b806a76d035fee680097    1620\n",
      "                                                                                                                        20240321_173136-GI4B-7e20737b93c894909c0a324a1beb1c64    1620\n",
      "                                                                                                                        20240321_173139-2RQ0-71cd99a53f8325ac451ce970f8388ebe    1620\n",
      "                                                                                                                        20240321_173143-7E6S-a5fed8f9c30ec4de0e863453e50db88a    1620\n",
      "                                                                                                                        20240321_173146-RHY1-c471dda2993f44ca529fde4f022de07e    1620\n",
      "                                                                                                                        20240321_173149-JS35-27e21c8c1ebe71d24311e8f4da8acdd0    1620\n",
      "dtype: int64\n"
     ]
    }
   ],
   "source": [
    "from ese.experiment.analysis.analyze_inf import load_cal_inference_stats\n",
    "\n",
    "image_info_df = load_cal_inference_stats(\n",
    "    results_cfg=results_cfg,\n",
    "    load_cached=False,\n",
    ")"
   ]
  },
  {
   "cell_type": "code",
   "execution_count": 5,
   "metadata": {},
   "outputs": [],
   "source": [
    "import ast\n",
    "import numpy as np\n",
    "\n",
    "# def temp_1(member_temps):\n",
    "#     return ast.literal_eval(member_temps)[0]\n",
    "# def temp_2(member_temps):\n",
    "#     return ast.literal_eval(member_temps)[1]\n",
    "\n",
    "def temp_mean(member_temps):\n",
    "    return np.mean(ast.literal_eval(member_temps))\n",
    "\n",
    "def temp_variance(member_temps):\n",
    "    return np.var(ast.literal_eval(member_temps))\n",
    "\n",
    "image_info_df.augment(temp_mean)\n",
    "image_info_df.augment(temp_variance)"
   ]
  },
  {
   "cell_type": "code",
   "execution_count": 6,
   "metadata": {},
   "outputs": [],
   "source": [
    "# Select only the rows corresponding to group methods\n",
    "image_info_df = image_info_df[image_info_df['model_type'] == 'group']\n",
    "\n",
    "image_info_df['method_name'] = image_info_df['method_name'].astype('category')\n",
    "image_info_df['method_name'] = image_info_df['method_name'].cat.reorder_categories([\n",
    "    'Ensemble (mean, probs)', \n",
    "])\n",
    "\n",
    "image_info_df['split'] = image_info_df['split'].astype('category')\n",
    "image_info_df['split'] = image_info_df['split'].cat.reorder_categories([\n",
    "    'val',\n",
    "    'cal'\n",
    "])"
   ]
  },
  {
   "cell_type": "code",
   "execution_count": 11,
   "metadata": {},
   "outputs": [
    {
     "data": {
      "text/plain": [
       "<seaborn.axisgrid.FacetGrid at 0x7f33ae112850>"
      ]
     },
     "execution_count": 11,
     "metadata": {},
     "output_type": "execute_result"
    },
    {
     "data": {
      "image/png": "[encoded data removed]",
      "text/plain": [
       "<Figure size 864x576 with 1 Axes>"
      ]
     },
     "metadata": {
      "needs_background": "light"
     },
     "output_type": "display_data"
    }
   ],
   "source": [
    "sns.relplot(\n",
    "    data=image_info_df[image_info_df['image_metric'] == 'ECE'],\n",
    "    x='temp_mean',\n",
    "    y='temp_variance',\n",
    "    hue='metric_score',\n",
    "    col='split',\n",
    "    kind='scatter',\n",
    "    height=8,\n",
    "    aspect=1.5,\n",
    "    s=100,\n",
    "    alpha=0.7,\n",
    ")"
   ]
  },
  {
   "cell_type": "markdown",
   "metadata": {},
   "source": [
    "# Let's looks at how the dice score varies as a function of the two temperatures."
   ]
  },
  {
   "cell_type": "code",
   "execution_count": 7,
   "metadata": {},
   "outputs": [],
   "source": [
    "# def group_by_config(in_df):\n",
    "#     grouped_df = in_df.groupby([\n",
    "#         'ensemble_hash',\n",
    "#         'method_name',\n",
    "#         'calibrator',\n",
    "#         'split',\n",
    "#         'member_temps',\n",
    "#         'temp_1',\n",
    "#         'temp_2',\n",
    "#         'num_ensemble_members',\n",
    "#     ])\n",
    "#     # Mean over the metric_score columns\n",
    "#     meaned_groups =  grouped_df.agg({'metric_score': 'mean'}).reset_index()\n",
    "#     # Drop the NaN rows\n",
    "#     grouped_cfg = meaned_groups.dropna().reset_index(drop=True)\n",
    "#     return grouped_cfg\n",
    "\n",
    "# metric_df_dict = {\n",
    "#     \"val_dice\": group_by_config(image_info_df.select(\n",
    "#         image_metric='Dice',\n",
    "#         split='val'\n",
    "#     )),\n",
    "#     \"cal_dice\": group_by_config(image_info_df.select(\n",
    "#         image_metric='Dice',\n",
    "#         split='cal'\n",
    "#     )),\n",
    "#     \"val_hd\": group_by_config(image_info_df.select(\n",
    "#         image_metric='HD95',\n",
    "#         split='val'\n",
    "#     )),\n",
    "#     \"cal_hd\": group_by_config(image_info_df.select(\n",
    "#         image_metric='HD95',\n",
    "#         split='cal'\n",
    "#     )),\n",
    "#     \"val_image_ece\": group_by_config(image_info_df.select(\n",
    "#         image_metric='Image_ECE',\n",
    "#         split='val'\n",
    "#     )),\n",
    "#     \"cal_image_ece\": group_by_config(image_info_df.select(\n",
    "#         image_metric='Image_ECE',\n",
    "#         split='cal'\n",
    "#     ))\n",
    "# }"
   ]
  },
  {
   "cell_type": "code",
   "execution_count": 8,
   "metadata": {},
   "outputs": [],
   "source": [
    "# pivot_df_dict = {\n",
    "#     metric_class: metric_df.pivot_table(\n",
    "#     index='temp_1',\n",
    "#     columns='temp_2',\n",
    "#     values='metric_score',\n",
    "#     aggfunc='mean'\n",
    "# )\n",
    "# for metric_class, metric_df in metric_df_dict.items()\n",
    "# }"
   ]
  },
  {
   "cell_type": "code",
   "execution_count": 9,
   "metadata": {},
   "outputs": [],
   "source": [
    "# plt.figure(figsize=(15, 12))  # Adjust the size of the figure as desired\n",
    "\n",
    "# g = sns.heatmap(\n",
    "#     data=pivot_df_dict['val_dice'],\n",
    "#     annot=True,\n",
    "#     cmap='coolwarm_r',\n",
    "#     fmt='.3f'\n",
    "# )\n",
    "\n",
    "# g.set_title('Validation Dice Score vs Temp 1 vs Temp 2')"
   ]
  }
 ],
 "metadata": {
  "kernelspec": {
   "display_name": "UniverSegTF",
   "language": "python",
   "name": "universegtf"
  },
  "language_info": {
   "codemirror_mode": {
    "name": "ipython",
    "version": 3
   },
   "file_extension": ".py",
   "mimetype": "text/x-python",
   "name": "python",
   "nbconvert_exporter": "python",
   "pygments_lexer": "ipython3",
   "version": "3.9.16"
  },
  "orig_nbformat": 4
 },
 "nbformat": 4,
 "nbformat_minor": 2
}
