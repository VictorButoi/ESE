{
 "cells": [
  {
   "cell_type": "code",
   "execution_count": null,
   "id": "7885da88",
   "metadata": {},
   "outputs": [],
   "source": [
    "import sys\n",
    "sys.path.append(\"/storage/vbutoi/projects/\")\n",
    "sys.path.append(\"/storage/vbutoi/libraries/\")\n",
    "sys.path.append(\"/storage/vbutoi/projects/UniverSeg/\")\n",
    "sys.path.append(\"/storage/vbutoi/projects/DiSeg/\")\n",
    "\n",
    "from IonPy.analysis import ResultsLoader\n",
    "import seaborn as sns\n",
    "\n",
    "sns.set_style(\"darkgrid\")\n",
    "\n",
    "\n",
    "import os \n",
    "os.environ['DATAPATH'] = ':'.join((\n",
    "       '/storage',\n",
    "       '/storage/megamedical'\n",
    "))\n",
    "\n",
    "# Results loader object does everything\n",
    "rs = ResultsLoader()\n",
    "root = \"/storage/vbutoi/scratch\""
   ]
  },
  {
   "attachments": {},
   "cell_type": "markdown",
   "id": "0e101132",
   "metadata": {},
   "source": [
    "Get the random baseline number for our model."
   ]
  },
  {
   "cell_type": "code",
   "execution_count": null,
   "id": "e7a812ba",
   "metadata": {},
   "outputs": [],
   "source": [
    "from DiSeg.diseg.experiment.analysis.plot import load_baseline_and_bounds, insert_baseline_and_bounds\n",
    "\n",
    "b_and_b = load_baseline_and_bounds(task=\"WBC_CV_0\", use_cached=True)\n",
    "\n",
    "graph_config = {\n",
    "    #\"x_lim\": [0, 2950],\n",
    "    #\"y_lim\": [0.5, 0.93],\n",
    "    \"b_and_b\": b_and_b,\n",
    "    \"colors\":{\n",
    "        'random': 'cyan',\n",
    "        'xx': 'red',\n",
    "        'yy': 'green',\n",
    "        'upper-bound': 'purple',\n",
    "    }\n",
    "}"
   ]
  },
  {
   "cell_type": "code",
   "execution_count": null,
   "id": "28aa10b8",
   "metadata": {},
   "outputs": [],
   "source": [
    "import pandas as pd\n",
    "\n",
    "path = f\"{root}/05-30-23_WeDontNeedNoEducation\"\n",
    "\n",
    "dfc = rs.load_configs(\n",
    "    path,\n",
    "    properties=False,\n",
    ")\n",
    "df = rs.load_metrics(dfc)\n",
    "smooth_df = df.loc[df['epoch'] % 50 == 0].copy()\n",
    "smooth_df = smooth_df.where(pd.notna(smooth_df), None)\n",
    "\n",
    "def query_split(phase):\n",
    "    if phase == \"train\":\n",
    "        return \"val\"\n",
    "    else:\n",
    "        return \"test\"\n",
    "    \n",
    "smooth_df.augment(query_split)\n",
    "\n",
    "g = sns.relplot(\n",
    "    data=smooth_df,\n",
    "    x='epoch',\n",
    "    y='dice_score',\n",
    "    col='query_split',\n",
    "    hue='use_label',\n",
    "    kind='line',\n",
    "    height=12,\n",
    "    )\n",
    "\n",
    "# Set column spacing\n",
    "g.fig.subplots_adjust(wspace=0.05)\n",
    "insert_baseline_and_bounds(graph=g, **graph_config)"
   ]
  }
 ],
 "metadata": {
  "kernelspec": {
   "display_name": "Python 3",
   "language": "python",
   "name": "python3"
  },
  "language_info": {
   "codemirror_mode": {
    "name": "ipython",
    "version": 3
   },
   "file_extension": ".py",
   "mimetype": "text/x-python",
   "name": "python",
   "nbconvert_exporter": "python",
   "pygments_lexer": "ipython3",
   "version": "3.9.16"
  }
 },
 "nbformat": 4,
 "nbformat_minor": 5
}
