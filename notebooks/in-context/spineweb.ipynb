{
 "cells": [
  {
   "cell_type": "code",
   "execution_count": null,
   "metadata": {},
   "outputs": [],
   "source": [
    "from universeg.experiment.datasets import Segment2D\n",
    "import os \n",
    "os.environ['DATAPATH'] = ':'.join((\n",
    "       '/storage/vbutoi/datasets',\n",
    "       '/storage'\n",
    "))"
   ]
  },
  {
   "cell_type": "code",
   "execution_count": null,
   "metadata": {},
   "outputs": [],
   "source": [
    "target_lab_dataset = Segment2D(\n",
    "    task='SpineWeb/Dataset7/MR/0',\n",
    "    resolution=128,\n",
    "    split='train',\n",
    "    label=0,\n",
    "    slicing=\"midslice\",\n",
    "    version=\"v4.2\",\n",
    "    min_label_density=0.0,\n",
    ")"
   ]
  },
  {
   "cell_type": "code",
   "execution_count": null,
   "metadata": {},
   "outputs": [],
   "source": [
    "len(target_lab_dataset)"
   ]
  },
  {
   "cell_type": "code",
   "execution_count": null,
   "metadata": {},
   "outputs": [],
   "source": [
    "target_lab_dataset = Segment2D(\n",
    "    task='SpineWeb/Dataset7/MR/0',\n",
    "    resolution=128,\n",
    "    split='val',\n",
    "    label=0,\n",
    "    slicing=\"midslice\",\n",
    "    version=\"v4.2\",\n",
    "    min_label_density=0.0,\n",
    ")"
   ]
  },
  {
   "cell_type": "code",
   "execution_count": null,
   "metadata": {},
   "outputs": [],
   "source": [
    "len(target_lab_dataset)"
   ]
  },
  {
   "cell_type": "code",
   "execution_count": null,
   "metadata": {},
   "outputs": [],
   "source": [
    "target_lab_dataset = Segment2D(\n",
    "    task='SpineWeb/Dataset7/MR/0',\n",
    "    resolution=128,\n",
    "    split='test',\n",
    "    label=0,\n",
    "    slicing=\"midslice\",\n",
    "    version=\"v4.2\",\n",
    "    min_label_density=0.0,\n",
    ")"
   ]
  },
  {
   "cell_type": "code",
   "execution_count": null,
   "metadata": {},
   "outputs": [],
   "source": [
    "len(target_lab_dataset)"
   ]
  }
 ],
 "metadata": {
  "kernelspec": {
   "display_name": "UniverSegTF",
   "language": "python",
   "name": "universegtf"
  },
  "language_info": {
   "codemirror_mode": {
    "name": "ipython",
    "version": 3
   },
   "file_extension": ".py",
   "mimetype": "text/x-python",
   "name": "python",
   "nbconvert_exporter": "python",
   "pygments_lexer": "ipython3",
   "version": "3.9.16"
  }
 },
 "nbformat": 4,
 "nbformat_minor": 2
}
