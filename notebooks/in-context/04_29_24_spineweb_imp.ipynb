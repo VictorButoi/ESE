{
 "cells": [
  {
   "cell_type": "code",
   "execution_count": null,
   "metadata": {},
   "outputs": [],
   "source": [
    "import sys\n",
    "sys.path.append('/storage/vbutoi/projects')\n",
    "sys.path.append('/storage/vbutoi/libraries')\n",
    "sys.path.append('/storage/vbutoi/projects/ESE')\n",
    "sys.path.append('/storage/vbutoi/projects/UniverSeg')\n",
    "\n",
    "import matplotlib.pyplot as plt\n",
    "import pandas as pd\n",
    "import seaborn as sns\n",
    "sns.set_style(\"darkgrid\")\n",
    "sns.set_context(\"talk\")\n",
    "\n",
    "import os \n",
    "os.environ['DATAPATH'] = ':'.join((\n",
    "       '/storage/vbutoi/datasets',\n",
    "))\n",
    "\n",
    "# Results loader object does everything\n",
    "from ionpy.analysis import ResultsLoader\n",
    "from pathlib import Path\n",
    "root = Path(\"/storage/vbutoi/scratch/ESE\")\n",
    "rs = ResultsLoader()\n",
    "\n",
    "# For using code without restarting.\n",
    "%load_ext autoreload\n",
    "%autoreload 2\n",
    "# For using yaml configs.\n",
    "%load_ext yamlmagic"
   ]
  },
  {
   "cell_type": "code",
   "execution_count": null,
   "metadata": {},
   "outputs": [],
   "source": [
    "%%yaml results_cfg \n",
    "\n",
    "log:\n",
    "    root: /storage/vbutoi/scratch/ESE/inference\n",
    "    inference_groups: \n",
    "        - '04_29_24_SpineWeb_ExampleImportance'\n",
    "    \n",
    "calibration:\n",
    "    metric_cfg_file: \"/storage/vbutoi/projects/ESE/ese/experiment/configs/inference/Calibration_Metrics.yaml\"\n",
    "\n",
    "options:\n",
    "    add_dice_loss_rows: True\n",
    "    drop_nan_metric_rows: True \n",
    "    remove_shared_columns: False\n",
    "    equal_rows_per_cfg_assert: False "
   ]
  },
  {
   "cell_type": "code",
   "execution_count": null,
   "metadata": {},
   "outputs": [],
   "source": [
    "from ese.experiment.analysis.analyze_inf import load_cal_inference_stats\n",
    "\n",
    "image_info_df = load_cal_inference_stats(\n",
    "    results_cfg=results_cfg,\n",
    "    load_cached=False,\n",
    ")"
   ]
  },
  {
   "cell_type": "code",
   "execution_count": null,
   "metadata": {},
   "outputs": [],
   "source": [
    "image_info_df['support_data_ids']"
   ]
  },
  {
   "cell_type": "markdown",
   "metadata": {},
   "source": [
    "## Experiment 1: Is there a critical example determining performance?"
   ]
  },
  {
   "cell_type": "code",
   "execution_count": null,
   "metadata": {},
   "outputs": [],
   "source": [
    "# import ast \n",
    "\n",
    "# # First we need to get all of the unique support data ids by going through the unique values of the column and assembling a list.\n",
    "# unique_supports = image_info_df['support_data_ids'].unique()\n",
    "# unique_ids = []\n",
    "# for support in unique_supports:\n",
    "#     support_list = list(support)\n",
    "#     unique_ids = list(set(unique_ids).union(support_list))\n",
    "# # Sort the list just for aesthetics.\n",
    "# unique_ids.sort()"
   ]
  },
  {
   "cell_type": "code",
   "execution_count": null,
   "metadata": {},
   "outputs": [],
   "source": [
    "# unique_ids"
   ]
  },
  {
   "cell_type": "code",
   "execution_count": null,
   "metadata": {},
   "outputs": [],
   "source": [
    "# # Iterate through each of the subjects, making a duplicate of the original dataframe, and marking\n",
    "# # each row prediction with a 'includes' or 'excludes' based on the support data ids and the subject id.\n",
    "# subject_dfs = {}\n",
    "# for subject_id in unique_ids:\n",
    "#     subject_df = image_info_df.copy()\n",
    "#     subject_df['subject_id'] = subject_id\n",
    "#     subject_df['includes'] = subject_df['support_data_ids'].apply(lambda x: subject_id in x)\n",
    "#     subject_dfs[subject_id] = subject_df\n",
    "# # Combine all of the dataframes into a single one.\n",
    "# combined_df = pd.concat(subject_dfs.values(), ignore_index=True)"
   ]
  },
  {
   "cell_type": "code",
   "execution_count": null,
   "metadata": {},
   "outputs": [],
   "source": [
    "# combined_df['includes'] = combined_df['includes'].astype('category')\n",
    "# combined_df['includes'] = combined_df['includes'].cat.reorder_categories([\n",
    "#     True,\n",
    "#     False\n",
    "# ])"
   ]
  },
  {
   "cell_type": "code",
   "execution_count": null,
   "metadata": {},
   "outputs": [],
   "source": [
    "# combined_df"
   ]
  },
  {
   "cell_type": "code",
   "execution_count": null,
   "metadata": {},
   "outputs": [],
   "source": [
    "# # We want to compare how Dice relates to ECE, this means we need to pivot our dataframe\n",
    "# df_pivot = combined_df.pivot(index=['experiment.seed', 'data_id', 'sup_idx', 'subject_id', 'includes'], columns='image_metric', values='metric_score').reset_index()"
   ]
  },
  {
   "cell_type": "code",
   "execution_count": null,
   "metadata": {},
   "outputs": [],
   "source": [
    "# sns.catplot(\n",
    "#     data=df_pivot,\n",
    "#     x='subject_id',\n",
    "#     y='Dice',\n",
    "#     row='data_id',\n",
    "#     hue='includes',\n",
    "#     kind='boxen',\n",
    "#     aspect=3,\n",
    "#     height=6,\n",
    "#     palette='Set2',\n",
    "# )"
   ]
  },
  {
   "cell_type": "code",
   "execution_count": null,
   "metadata": {},
   "outputs": [],
   "source": [
    "# sns.catplot(\n",
    "#     data=df_pivot,\n",
    "#     x='subject_id',\n",
    "#     y='Image_ECE',\n",
    "#     row='data_id',\n",
    "#     hue='includes',\n",
    "#     kind='boxen',\n",
    "#     aspect=3,\n",
    "#     height=6,\n",
    "#     palette='Set2',\n",
    "# )"
   ]
  },
  {
   "cell_type": "markdown",
   "metadata": {},
   "source": [
    "## Experiment 2: Does the number of times this critical example appear matter?"
   ]
  },
  {
   "cell_type": "code",
   "execution_count": null,
   "metadata": {},
   "outputs": [],
   "source": [
    "outlier_df = image_info_df[image_info_df['data_id'] == 'Subject14'].copy()"
   ]
  },
  {
   "cell_type": "code",
   "execution_count": null,
   "metadata": {},
   "outputs": [],
   "source": [
    "# We want to compare how Dice relates to ECE, this means we need to pivot our dataframe\n",
    "outlier_df = outlier_df.pivot(index=['experiment.seed', 'sup_idx', 'support_data_ids'], columns='image_metric', values='metric_score').reset_index()"
   ]
  },
  {
   "cell_type": "code",
   "execution_count": null,
   "metadata": {},
   "outputs": [],
   "source": [
    "def num_appearances(support_data_ids):\n",
    "    return int(support_data_ids.count('Subject11'))"
   ]
  },
  {
   "cell_type": "code",
   "execution_count": null,
   "metadata": {},
   "outputs": [],
   "source": [
    "outlier_df.augment(num_appearances)"
   ]
  },
  {
   "cell_type": "code",
   "execution_count": null,
   "metadata": {},
   "outputs": [],
   "source": [
    "outlier_df['num_appearances'].unique()"
   ]
  },
  {
   "cell_type": "code",
   "execution_count": null,
   "metadata": {},
   "outputs": [],
   "source": [
    "outlier_df['num_appearances']"
   ]
  },
  {
   "cell_type": "code",
   "execution_count": null,
   "metadata": {},
   "outputs": [],
   "source": [
    "# Assuming outlier_df is your DataFrame\n",
    "# Vjj\n",
    "# sns.set(style=\"whitegrid\")  # Set the style of the plot\n",
    "\n",
    "# Plotting\n",
    "plt.figure(figsize=(10, 6))\n",
    "sns.lineplot(x=\"num_appearances\", y=\"Dice\", data=outlier_df)\n",
    "\n",
    "# Adding title and labels\n",
    "plt.title('#Appearences of Subject11 in Support vs Dice')\n",
    "plt.xlabel('#Appearences')\n",
    "plt.ylabel('Dice Score')\n",
    "\n",
    "# Show the plot\n",
    "plt.show()"
   ]
  }
 ],
 "metadata": {
  "kernelspec": {
   "display_name": "UniverSegTF",
   "language": "python",
   "name": "universegtf"
  },
  "language_info": {
   "codemirror_mode": {
    "name": "ipython",
    "version": 3
   },
   "file_extension": ".py",
   "mimetype": "text/x-python",
   "name": "python",
   "nbconvert_exporter": "python",
   "pygments_lexer": "ipython3",
   "version": "3.9.16"
  },
  "orig_nbformat": 4
 },
 "nbformat": 4,
 "nbformat_minor": 2
}
