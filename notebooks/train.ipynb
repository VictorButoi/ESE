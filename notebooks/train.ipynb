{
 "cells": [
  {
   "cell_type": "code",
   "execution_count": 1,
   "id": "9b121a30",
   "metadata": {},
   "outputs": [],
   "source": [
    "# Random Imports\n",
    "import os\n",
    "import sys\n",
    "sys.path.append('/storage/vbutoi/projects')\n",
    "sys.path.append('/storage/vbutoi/projects/ESE')\n",
    "\n",
    "# Regular schema dictates that we put DATAPATH\n",
    "os.environ['DATAPATH'] = ':'.join((\n",
    "       '/storage/vbutoi/datasets',\n",
    "))\n",
    "log_root_dir = '/storage/vbutoi/scratch/ESE'\n",
    "\n",
    "%load_ext autoreload\n",
    "%autoreload 2\n",
    "%load_ext yamlmagic"
   ]
  },
  {
   "cell_type": "code",
   "execution_count": 2,
   "id": "b163e853",
   "metadata": {},
   "outputs": [],
   "source": [
    "from ionpy.util.config import check_missing\n",
    "\n",
    "def validate_cfg(cfg):\n",
    "    # It's usually a good idea to do a sanity check of\n",
    "    # inter-related settings or force them manually\n",
    "    check_missing(cfg)        \n",
    "    return cfg"
   ]
  },
  {
   "cell_type": "code",
   "execution_count": 3,
   "id": "ed8ce121",
   "metadata": {},
   "outputs": [
    {
     "data": {
      "application/javascript": "\n            require(\n                [\n                    \"notebook/js/codecell\",\n                    \"codemirror/mode/yaml/yaml\"\n                ],\n                function(cc){\n                    cc.CodeCell.options_default.highlight_modes.magic_yaml = {\n                        reg: [\"^%%yaml\"]\n                    }\n                }\n            );\n            ",
      "text/plain": [
       "<IPython.core.display.Javascript object>"
      ]
     },
     "metadata": {},
     "output_type": "display_data"
    }
   ],
   "source": [
    "%%yaml default_cfg \n",
    "\n",
    "experiment:\n",
    "  seed: 42\n",
    "    \n",
    "dataloader:\n",
    "  batch_size: 4\n",
    "  num_workers: 0\n",
    "  pin_memory: False \n",
    "\n",
    "optim: \n",
    "  _class: torch.optim.Adam\n",
    "  lr: 3.0e-4\n",
    "  \n",
    "train:\n",
    "  epochs: 100 # With heavy aug, you need a lot of epochs, without, only 1000\n",
    "  eval_freq: 10\n",
    "  \n",
    "log:\n",
    "  checkpoint_freq: 100 \n",
    "  root: '?'\n",
    "  metrics:\n",
    "    dice_score:\n",
    "      _fn: ionpy.metrics.dice_score\n",
    "      from_logits: True\n",
    "      batch_reduction: 'mean' \n",
    "\n",
    "loss_func: \n",
    "  _class: ionpy.loss.SoftDiceLoss\n",
    "  from_logits: True\n",
    "  batch_reduction: 'mean' "
   ]
  },
  {
   "cell_type": "code",
   "execution_count": 4,
   "id": "e2ac20c6",
   "metadata": {},
   "outputs": [
    {
     "data": {
      "application/javascript": "\n            require(\n                [\n                    \"notebook/js/codecell\",\n                    \"codemirror/mode/yaml/yaml\"\n                ],\n                function(cc){\n                    cc.CodeCell.options_default.highlight_modes.magic_yaml = {\n                        reg: [\"^%%yaml\"]\n                    }\n                }\n            );\n            ",
      "text/plain": [
       "<IPython.core.display.Javascript object>"
      ]
     },
     "metadata": {},
     "output_type": "display_data"
    }
   ],
   "source": [
    "%%yaml model_cfg  \n",
    "\n",
    "model:\n",
    "  _class: ese.experiment.models.UNet\n",
    "  in_channels: 1\n",
    "  out_channels: 1\n",
    "  filters: [64, 64, 64, 64]\n",
    "  convs_per_block: 2"
   ]
  },
  {
   "cell_type": "code",
   "execution_count": 5,
   "id": "07ee95bd",
   "metadata": {},
   "outputs": [
    {
     "data": {
      "application/javascript": "\n            require(\n                [\n                    \"notebook/js/codecell\",\n                    \"codemirror/mode/yaml/yaml\"\n                ],\n                function(cc){\n                    cc.CodeCell.options_default.highlight_modes.magic_yaml = {\n                        reg: [\"^%%yaml\"]\n                    }\n                }\n            );\n            ",
      "text/plain": [
       "<IPython.core.display.Javascript object>"
      ]
     },
     "metadata": {},
     "output_type": "display_data"
    }
   ],
   "source": [
    "%%yaml dataset_cfg \n",
    "\n",
    "data:\n",
    "  _class: ese.experiment.datasets.WMH\n",
    "  annotator: observer_o12\n",
    "  axis: 0\n",
    "  dataset: WMH\n",
    "  slice_batch_size: 1\n",
    "  slicing: dense\n",
    "  task: Amsterdam "
   ]
  },
  {
   "cell_type": "code",
   "execution_count": 6,
   "id": "01c7ad0b",
   "metadata": {},
   "outputs": [
    {
     "data": {
      "application/javascript": "\n            require(\n                [\n                    \"notebook/js/codecell\",\n                    \"codemirror/mode/yaml/yaml\"\n                ],\n                function(cc){\n                    cc.CodeCell.options_default.highlight_modes.magic_yaml = {\n                        reg: [\"^%%yaml\"]\n                    }\n                }\n            );\n            ",
      "text/plain": [
       "<IPython.core.display.Javascript object>"
      ]
     },
     "metadata": {},
     "output_type": "display_data"
    }
   ],
   "source": [
    "%%yaml callbacks_cfg\n",
    "\n",
    "callbacks:\n",
    "  step:\n",
    "    - ese.experiment.callbacks.ShowPredictions\n",
    "  epoch:\n",
    "    - ionpy.callbacks.ETA\n",
    "    - ionpy.callbacks.JobProgress\n",
    "    - ionpy.callbacks.TerminateOnNaN\n",
    "    - ionpy.callbacks.PrintLogged\n",
    "    - ionpy.callbacks.ModelCheckpoint:\n",
    "        monitor: dice_score\n",
    "        phase: val"
   ]
  },
  {
   "cell_type": "code",
   "execution_count": 7,
   "id": "6f4270fd",
   "metadata": {},
   "outputs": [],
   "source": [
    "# Need to define the experiment name\n",
    "exp_name = 'WMH_Runs'\n",
    "\n",
    "# Create the ablation options\n",
    "options = {\n",
    "    'log.root': [f'{log_root_dir}/{exp_name}'],\n",
    "    'data.slice_batch_size': [1, 4, 8, 16],\n",
    "    'log.root': [1, 4, 8, 16],\n",
    "    'model.filters': [[32, 32, 32, 32], [64, 64, 64, 64]],\n",
    "}"
   ]
  },
  {
   "cell_type": "code",
   "execution_count": 8,
   "id": "7cfcd8dd",
   "metadata": {
    "scrolled": true
   },
   "outputs": [],
   "source": [
    "from ionpy.util import dict_product, Config\n",
    "\n",
    "# Assemble base config\n",
    "base_cfg = Config(default_cfg).update(model_cfg).update(dataset_cfg).update(callbacks_cfg)\n",
    "\n",
    "cfgs = []\n",
    "for cfg_update in dict_product(options):\n",
    "    cfg = base_cfg.update(cfg_update)\n",
    "    cfg = validate_cfg(cfg)\n",
    "    cfgs.append(cfg)"
   ]
  },
  {
   "cell_type": "code",
   "execution_count": 9,
   "id": "7d277dd1",
   "metadata": {},
   "outputs": [
    {
     "data": {
      "text/plain": [
       "32"
      ]
     },
     "execution_count": 9,
     "metadata": {},
     "output_type": "execute_result"
    }
   ],
   "source": [
    "len(cfgs)"
   ]
  },
  {
   "attachments": {},
   "cell_type": "markdown",
   "id": "c052b816",
   "metadata": {},
   "source": [
    "## Run the jobs"
   ]
  },
  {
   "cell_type": "code",
   "execution_count": 10,
   "id": "9dd675fa",
   "metadata": {},
   "outputs": [],
   "source": [
    "# Submit cell\n",
    "from ese.experiment.experiment.ese_exp import CalibrationExperiment \n",
    "from ionpy.slite import SliteRunner\n",
    "\n",
    "# List the available gpus for a machine\n",
    "available_gpus = ['0', '1', '2', '3'] \n",
    "\n",
    "# Configure Slite Object\n",
    "srunner = SliteRunner(\n",
    "    task_type=CalibrationExperiment, \n",
    "    exp_name=exp_name, \n",
    "    available_gpus=available_gpus\n",
    "    )"
   ]
  },
  {
   "attachments": {},
   "cell_type": "markdown",
   "id": "b506f2fe",
   "metadata": {},
   "source": [
    "## Debug Station"
   ]
  },
  {
   "cell_type": "code",
   "execution_count": 11,
   "id": "edbdcf3d",
   "metadata": {},
   "outputs": [],
   "source": [
    "# srunner.run_exp(cfgs[0])"
   ]
  },
  {
   "attachments": {},
   "cell_type": "markdown",
   "id": "079f8a19",
   "metadata": {},
   "source": [
    "## Submit Config to Long Term Jobs"
   ]
  },
  {
   "cell_type": "code",
   "execution_count": 12,
   "id": "28478b07",
   "metadata": {},
   "outputs": [
    {
     "name": "stdout",
     "output_type": "stream",
     "text": [
      "Submitted job 462178 with 8 configs.\n",
      "Submitted job 462199 with 8 configs.\n",
      "Submitted job 462218 with 8 configs.\n",
      "Submitted job 462236 with 8 configs.\n"
     ]
    }
   ],
   "source": [
    "srunner.submit_exps(cfgs)"
   ]
  },
  {
   "cell_type": "code",
   "execution_count": 14,
   "id": "6802a73b",
   "metadata": {},
   "outputs": [
    {
     "name": "stdout",
     "output_type": "stream",
     "text": [
      "submitit ERROR (2023-08-16 23:52:47,195) - Submitted job triggered an exception\n",
      "Traceback (most recent call last):\n",
      "  File \"/local/vbutoi/envs/UniverSegTF/lib/python3.9/runpy.py\", line 197, in _run_module_as_main\n",
      "    return _run_code(code, main_globals, None,\n",
      "  File \"/local/vbutoi/envs/UniverSegTF/lib/python3.9/runpy.py\", line 87, in _run_code\n",
      "    exec(code, run_globals)\n",
      "  File \"/local/vbutoi/envs/UniverSegTF/lib/python3.9/site-packages/submitit/core/_submit.py\", line 11, in <module>\n",
      "    submitit_main()\n",
      "  File \"/local/vbutoi/envs/UniverSegTF/lib/python3.9/site-packages/submitit/core/submission.py\", line 72, in submitit_main\n",
      "    process_job(args.folder)\n",
      "  File \"/local/vbutoi/envs/UniverSegTF/lib/python3.9/site-packages/submitit/core/submission.py\", line 65, in process_job\n",
      "    raise error\n",
      "  File \"/local/vbutoi/envs/UniverSegTF/lib/python3.9/site-packages/submitit/core/submission.py\", line 51, in process_job\n",
      "    delayed = utils.DelayedSubmission.load(paths.submitted_pickle)\n",
      "  File \"/local/vbutoi/envs/UniverSegTF/lib/python3.9/site-packages/submitit/core/utils.py\", line 149, in load\n",
      "    obj = pickle_load(filepath)\n",
      "  File \"/local/vbutoi/envs/UniverSegTF/lib/python3.9/site-packages/submitit/core/utils.py\", line 226, in pickle_load\n",
      "    return pickle.load(ifile)\n",
      "ModuleNotFoundError: No module named 'ionpy'\n",
      "\n"
     ]
    }
   ],
   "source": [
    "print(srunner.jobs[0].stderr())"
   ]
  }
 ],
 "metadata": {
  "kernelspec": {
   "display_name": "UniverSegTF",
   "language": "python",
   "name": "universegtf"
  },
  "language_info": {
   "codemirror_mode": {
    "name": "ipython",
    "version": 3
   },
   "file_extension": ".py",
   "mimetype": "text/x-python",
   "name": "python",
   "nbconvert_exporter": "python",
   "pygments_lexer": "ipython3",
   "version": "3.9.16"
  }
 },
 "nbformat": 4,
 "nbformat_minor": 5
}
