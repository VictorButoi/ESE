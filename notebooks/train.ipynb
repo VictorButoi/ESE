{
 "cells": [
  {
   "cell_type": "code",
   "execution_count": 1,
   "id": "9b121a30",
   "metadata": {},
   "outputs": [],
   "source": [
    "# Random Imports\n",
    "import os\n",
    "import sys\n",
    "sys.path.append('/storage/vbutoi/projects')\n",
    "sys.path.append('/storage/vbutoi/libraries')\n",
    "sys.path.append('/storage/vbutoi/projects/ESE')\n",
    "sys.path.append('/storage/vbutoi/projects/UniverSeg')\n",
    "\n",
    "# Regular schema dictates that we put DATAPATH\n",
    "os.environ['DATAPATH'] = ':'.join((\n",
    "       '/storage/vbutoi/datasets',\n",
    "))\n",
    "os.environ['WANDB_NOTEBOOK_NAME'] = 'train.ipynb'\n",
    "\n",
    "%load_ext yamlmagic\n",
    "%load_ext autoreload\n",
    "%autoreload 2"
   ]
  },
  {
   "cell_type": "markdown",
   "id": "933335cf",
   "metadata": {},
   "source": [
    "## Define said jobs"
   ]
  },
  {
   "cell_type": "code",
   "execution_count": 2,
   "id": "ed8ce121",
   "metadata": {},
   "outputs": [
    {
     "data": {
      "application/javascript": "\n            require(\n                [\n                    \"notebook/js/codecell\",\n                    \"codemirror/mode/yaml/yaml\"\n                ],\n                function(cc){\n                    cc.CodeCell.options_default.highlight_modes.magic_yaml = {\n                        reg: [\"^%%yaml\"]\n                    }\n                }\n            );\n            ",
      "text/plain": [
       "<IPython.core.display.Javascript object>"
      ]
     },
     "metadata": {},
     "output_type": "display_data"
    }
   ],
   "source": [
    "%%yaml default_cfg \n",
    "\n",
    "experiment:\n",
    "  seed: 42\n",
    "    \n",
    "dataloader:\n",
    "  batch_size: 1 \n",
    "  num_workers: 2 \n",
    "  pin_memory: False \n",
    "\n",
    "optim: \n",
    "  _class: torch.optim.Adam\n",
    "  lr: 3.0e-4\n",
    "  weight_decay: 0.0 \n",
    "  \n",
    "# For MultiClass\n",
    "train:\n",
    "  epochs: 100 \n",
    "  eval_freq: 5\n",
    "\n",
    "log:\n",
    "  checkpoint_freq: 5 \n",
    "  root: '?'\n",
    "  metrics:\n",
    "    dice_score:\n",
    "      _fn: ionpy.metrics.dice_score\n",
    "      from_logits: True\n",
    "      batch_reduction: 'mean' \n",
    "      ignore_index: 0\n",
    "\n",
    "loss_func: \n",
    "  _class: ionpy.loss.SoftDiceLoss\n",
    "  from_logits: True\n",
    "  batch_reduction: 'mean' \n",
    "  ignore_index: 0 # Make sure to ignore the background class\n",
    "\n",
    "\n",
    "# For Binary\n",
    "\n",
    "# train:\n",
    "#   epochs: 500 \n",
    "#   eval_freq: 50\n",
    "\n",
    "# log:\n",
    "#   checkpoint_freq: 50 \n",
    "#   root: '?'\n",
    "#   metrics:\n",
    "#     dice_score:\n",
    "#       _fn: ionpy.metrics.dice_score\n",
    "#       from_logits: True\n",
    "#       batch_reduction: 'mean' \n",
    "\n",
    "# loss_func: \n",
    "#   _class: ionpy.loss.SoftDiceLoss\n",
    "#   from_logits: True\n",
    "#   batch_reduction: 'mean' "
   ]
  },
  {
   "cell_type": "code",
   "execution_count": 3,
   "id": "e2ac20c6",
   "metadata": {},
   "outputs": [
    {
     "data": {
      "application/javascript": "\n            require(\n                [\n                    \"notebook/js/codecell\",\n                    \"codemirror/mode/yaml/yaml\"\n                ],\n                function(cc){\n                    cc.CodeCell.options_default.highlight_modes.magic_yaml = {\n                        reg: [\"^%%yaml\"]\n                    }\n                }\n            );\n            ",
      "text/plain": [
       "<IPython.core.display.Javascript object>"
      ]
     },
     "metadata": {},
     "output_type": "display_data"
    }
   ],
   "source": [
    "%%yaml model_cfg  \n",
    "\n",
    "model:\n",
    "  _class: ese.experiment.models.UNet\n",
    "  filters: '?'\n",
    "  convs_per_block: 3"
   ]
  },
  {
   "cell_type": "code",
   "execution_count": 4,
   "id": "07ee95bd",
   "metadata": {},
   "outputs": [
    {
     "data": {
      "application/javascript": "\n            require(\n                [\n                    \"notebook/js/codecell\",\n                    \"codemirror/mode/yaml/yaml\"\n                ],\n                function(cc){\n                    cc.CodeCell.options_default.highlight_modes.magic_yaml = {\n                        reg: [\"^%%yaml\"]\n                    }\n                }\n            );\n            ",
      "text/plain": [
       "<IPython.core.display.Javascript object>"
      ]
     },
     "metadata": {},
     "output_type": "display_data"
    }
   ],
   "source": [
    "%%yaml dataset_cfg \n",
    "\n",
    "# data:\n",
    "#   _class: ese.experiment.datasets.WMH\n",
    "#   annotator: observer_o12\n",
    "#   axis: 0\n",
    "#   preload: False \n",
    "#   in_channels: 1\n",
    "#   out_channels: 1 \n",
    "#   num_slices: 1\n",
    "#   task: Amsterdam \n",
    "#   version: 0.2\n",
    "\n",
    "data:\n",
    "  _class: ese.experiment.datasets.COCO \n",
    "  in_channels: 3\n",
    "  out_channels: 80"
   ]
  },
  {
   "cell_type": "code",
   "execution_count": 5,
   "id": "289c8e7f",
   "metadata": {},
   "outputs": [
    {
     "data": {
      "application/javascript": "\n            require(\n                [\n                    \"notebook/js/codecell\",\n                    \"codemirror/mode/yaml/yaml\"\n                ],\n                function(cc){\n                    cc.CodeCell.options_default.highlight_modes.magic_yaml = {\n                        reg: [\"^%%yaml\"]\n                    }\n                }\n            );\n            ",
      "text/plain": [
       "<IPython.core.display.Javascript object>"
      ]
     },
     "metadata": {},
     "output_type": "display_data"
    }
   ],
   "source": [
    "%%yaml lite_aug_cfg\n",
    "\n",
    "- RandomAffine:\n",
    "    p: 0.5\n",
    "    degrees: [0, 360]\n",
    "    translate: [0, 0.2]\n",
    "    scale: [0.8, 1.1]\n",
    "- RandomVariableElasticTransform:\n",
    "    p: 0.75\n",
    "    alpha: [1, 2] \n",
    "    sigma: [7, 9]\n",
    "- RandomHorizontalFlip:\n",
    "    p: 0.5\n",
    "- RandomVerticalFlip:\n",
    "    p: 0.5"
   ]
  },
  {
   "cell_type": "code",
   "execution_count": 6,
   "id": "01c7ad0b",
   "metadata": {},
   "outputs": [
    {
     "data": {
      "application/javascript": "\n            require(\n                [\n                    \"notebook/js/codecell\",\n                    \"codemirror/mode/yaml/yaml\"\n                ],\n                function(cc){\n                    cc.CodeCell.options_default.highlight_modes.magic_yaml = {\n                        reg: [\"^%%yaml\"]\n                    }\n                }\n            );\n            ",
      "text/plain": [
       "<IPython.core.display.Javascript object>"
      ]
     },
     "metadata": {},
     "output_type": "display_data"
    }
   ],
   "source": [
    "%%yaml callbacks_cfg\n",
    "\n",
    "callbacks:\n",
    "  # step:\n",
    "  #   - ese.experiment.callbacks.ShowPredictions:\n",
    "  #       label_cmap: tab10 \n",
    "  epoch:\n",
    "    - ese.experiment.callbacks.WandbLogger\n",
    "    - ionpy.callbacks.ETA\n",
    "    - ionpy.callbacks.JobProgress\n",
    "    - ionpy.callbacks.TerminateOnNaN\n",
    "    - ionpy.callbacks.PrintLogged\n",
    "    - ionpy.callbacks.ModelCheckpoint:\n",
    "        monitor: dice_score\n",
    "        phase: val"
   ]
  },
  {
   "cell_type": "code",
   "execution_count": 7,
   "id": "7cfcd8dd",
   "metadata": {
    "scrolled": true
   },
   "outputs": [],
   "source": [
    "from ionpy.util import Config\n",
    "import pickle\n",
    "import copy\n",
    "\n",
    "# Assemble base config\n",
    "base_cfg = Config(default_cfg).update(model_cfg).update(dataset_cfg).update(callbacks_cfg)\n",
    "\n",
    "# Save the base cfg and the lite aug cfg\n",
    "with open('/storage/vbutoi/projects/ESE/configs/base.pkl', 'wb') as base_config_file:\n",
    "    pickle.dump(base_cfg, base_config_file)\n",
    "    \n",
    "with open('/storage/vbutoi/projects/ESE/configs/lite_aug.pkl', 'wb') as aug_config_file:\n",
    "    pickle.dump(sum([copy.deepcopy(lite_aug_cfg)], start=[]), aug_config_file)"
   ]
  },
  {
   "attachments": {},
   "cell_type": "markdown",
   "id": "b506f2fe",
   "metadata": {},
   "source": [
    "## Debug Station"
   ]
  },
  {
   "cell_type": "code",
   "execution_count": 8,
   "id": "6f4270fd",
   "metadata": {},
   "outputs": [],
   "source": [
    "# Need to define the experiment name\n",
    "exp_name = 'COCO_runs'\n",
    "# exp_name = 'debug'\n",
    "\n",
    "# Create the ablation options\n",
    "option_set = [\n",
    "    {\n",
    "        'log.root': [f'/storage/vbutoi/scratch/ESE/{exp_name}'],\n",
    "        'dataloader.batch_size': [1],\n",
    "        'optim.lr': [1e-3, 3.0e-4],\n",
    "        'model.filters': [[64, 64, 64, 64, 64], [128, 128, 128, 128, 128]],\n",
    "    },\n",
    "]"
   ]
  },
  {
   "cell_type": "code",
   "execution_count": 9,
   "id": "e0e2e8b5",
   "metadata": {},
   "outputs": [],
   "source": [
    "from ese.scripts.utils import get_option_product\n",
    "\n",
    "# Get the configs\n",
    "cfgs = get_option_product(exp_name, option_set, base_cfg)\n",
    "\n",
    "# Add Augmentations\n",
    "# for cfg_idx in range(len(cfgs)):\n",
    "#     for add_aug in [False]:\n",
    "#         if add_aug:\n",
    "#             cfgs[cfg_idx] = cfgs[cfg_idx].set('augmentations', sum([copy.deepcopy(lite_aug_cfg)], start=[]))"
   ]
  },
  {
   "cell_type": "code",
   "execution_count": 10,
   "id": "d7904470",
   "metadata": {},
   "outputs": [
    {
     "data": {
      "text/plain": [
       "4"
      ]
     },
     "execution_count": 10,
     "metadata": {},
     "output_type": "execute_result"
    }
   ],
   "source": [
    "len(cfgs)"
   ]
  },
  {
   "cell_type": "markdown",
   "id": "2225fe62",
   "metadata": {},
   "source": [
    "## Running Jobs"
   ]
  },
  {
   "cell_type": "code",
   "execution_count": 11,
   "id": "45e2fbb5",
   "metadata": {},
   "outputs": [],
   "source": [
    "# Submit cell\n",
    "from ionpy import slite\n",
    "from ese.experiment.experiment.ese_exp import CalibrationExperiment "
   ]
  },
  {
   "cell_type": "code",
   "execution_count": 12,
   "id": "edbdcf3d",
   "metadata": {},
   "outputs": [],
   "source": [
    "# slite.run_exp(\n",
    "#     config=cfgs[0], \n",
    "#     exp_class=CalibrationExperiment,\n",
    "#     gpu='0'\n",
    "# )"
   ]
  },
  {
   "cell_type": "code",
   "execution_count": 13,
   "id": "05938b03",
   "metadata": {},
   "outputs": [
    {
     "ename": "AssertionError",
     "evalue": "Cannot launch debug jobs large-scale.",
     "output_type": "error",
     "traceback": [
      "\u001b[0;31m---------------------------------------------------------------------------\u001b[0m",
      "\u001b[0;31mAssertionError\u001b[0m                            Traceback (most recent call last)",
      "\u001b[1;32m/storage/vbutoi/projects/ESE/notebooks/train.ipynb Cell 16\u001b[0m line \u001b[0;36m2\n\u001b[1;32m      <a href='vscode-notebook-cell://ssh-remote%2Btwix/storage/vbutoi/projects/ESE/notebooks/train.ipynb#X22sdnNjb2RlLXJlbW90ZQ%3D%3D?line=0'>1</a>\u001b[0m \u001b[39m# Submit the experiments\u001b[39;00m\n\u001b[0;32m----> <a href='vscode-notebook-cell://ssh-remote%2Btwix/storage/vbutoi/projects/ESE/notebooks/train.ipynb#X22sdnNjb2RlLXJlbW90ZQ%3D%3D?line=1'>2</a>\u001b[0m jobs \u001b[39m=\u001b[39m slite\u001b[39m.\u001b[39;49msubmit_exps(\n\u001b[1;32m      <a href='vscode-notebook-cell://ssh-remote%2Btwix/storage/vbutoi/projects/ESE/notebooks/train.ipynb#X22sdnNjb2RlLXJlbW90ZQ%3D%3D?line=2'>3</a>\u001b[0m     project\u001b[39m=\u001b[39;49m\u001b[39m\"\u001b[39;49m\u001b[39mESE\u001b[39;49m\u001b[39m\"\u001b[39;49m,\n\u001b[1;32m      <a href='vscode-notebook-cell://ssh-remote%2Btwix/storage/vbutoi/projects/ESE/notebooks/train.ipynb#X22sdnNjb2RlLXJlbW90ZQ%3D%3D?line=3'>4</a>\u001b[0m     exp_name\u001b[39m=\u001b[39;49mexp_name,\n\u001b[1;32m      <a href='vscode-notebook-cell://ssh-remote%2Btwix/storage/vbutoi/projects/ESE/notebooks/train.ipynb#X22sdnNjb2RlLXJlbW90ZQ%3D%3D?line=4'>5</a>\u001b[0m     exp_class\u001b[39m=\u001b[39;49mCalibrationExperiment,\n\u001b[1;32m      <a href='vscode-notebook-cell://ssh-remote%2Btwix/storage/vbutoi/projects/ESE/notebooks/train.ipynb#X22sdnNjb2RlLXJlbW90ZQ%3D%3D?line=5'>6</a>\u001b[0m     available_gpus\u001b[39m=\u001b[39;49m[\u001b[39m'\u001b[39;49m\u001b[39m0\u001b[39;49m\u001b[39m'\u001b[39;49m, \u001b[39m'\u001b[39;49m\u001b[39m1\u001b[39;49m\u001b[39m'\u001b[39;49m, \u001b[39m'\u001b[39;49m\u001b[39m2\u001b[39;49m\u001b[39m'\u001b[39;49m, \u001b[39m'\u001b[39;49m\u001b[39m3\u001b[39;49m\u001b[39m'\u001b[39;49m],\n\u001b[1;32m      <a href='vscode-notebook-cell://ssh-remote%2Btwix/storage/vbutoi/projects/ESE/notebooks/train.ipynb#X22sdnNjb2RlLXJlbW90ZQ%3D%3D?line=6'>7</a>\u001b[0m     config_list\u001b[39m=\u001b[39;49mcfgs\n\u001b[1;32m      <a href='vscode-notebook-cell://ssh-remote%2Btwix/storage/vbutoi/projects/ESE/notebooks/train.ipynb#X22sdnNjb2RlLXJlbW90ZQ%3D%3D?line=7'>8</a>\u001b[0m )\n",
      "File \u001b[0;32m/storage/vbutoi/projects/ionpy/slite/submit.py:12\u001b[0m, in \u001b[0;36msubmit_exps\u001b[0;34m(project, exp_name, exp_class, available_gpus, config_list)\u001b[0m\n\u001b[1;32m      5\u001b[0m \u001b[39mdef\u001b[39;00m \u001b[39msubmit_exps\u001b[39m(\n\u001b[1;32m      6\u001b[0m     project: \u001b[39mstr\u001b[39m,\n\u001b[1;32m      7\u001b[0m     exp_name: \u001b[39mstr\u001b[39m,\n\u001b[0;32m   (...)\u001b[0m\n\u001b[1;32m     10\u001b[0m     config_list: List[Any]\n\u001b[1;32m     11\u001b[0m ):\n\u001b[0;32m---> 12\u001b[0m     \u001b[39massert\u001b[39;00m exp_name \u001b[39m!=\u001b[39m \u001b[39m\"\u001b[39m\u001b[39mdebug\u001b[39m\u001b[39m\"\u001b[39m, \u001b[39m\"\u001b[39m\u001b[39mCannot launch debug jobs large-scale.\u001b[39m\u001b[39m\"\u001b[39m\n\u001b[1;32m     14\u001b[0m     \u001b[39m# Create a runner\u001b[39;00m\n\u001b[1;32m     15\u001b[0m     runner \u001b[39m=\u001b[39m SliteRunner(\n\u001b[1;32m     16\u001b[0m         project\u001b[39m=\u001b[39mproject,\n\u001b[1;32m     17\u001b[0m         exp_class\u001b[39m=\u001b[39mexp_class,\n\u001b[1;32m     18\u001b[0m         available_gpus\u001b[39m=\u001b[39mavailable_gpus,\n\u001b[1;32m     19\u001b[0m         exp_name\u001b[39m=\u001b[39mexp_name\n\u001b[1;32m     20\u001b[0m     )\n",
      "\u001b[0;31mAssertionError\u001b[0m: Cannot launch debug jobs large-scale."
     ]
    }
   ],
   "source": [
    "# Submit the experiments\n",
    "jobs = slite.submit_exps(\n",
    "    project=\"ESE\",\n",
    "    exp_name=exp_name,\n",
    "    exp_class=CalibrationExperiment,\n",
    "    available_gpus=['0', '1', '2', '3'],\n",
    "    config_list=cfgs\n",
    ")"
   ]
  },
  {
   "cell_type": "code",
   "execution_count": null,
   "id": "a2b1e02a",
   "metadata": {},
   "outputs": [],
   "source": [
    "print(jobs[0].stderr())"
   ]
  }
 ],
 "metadata": {
  "kernelspec": {
   "display_name": "UniverSegTF",
   "language": "python",
   "name": "universegtf"
  },
  "language_info": {
   "codemirror_mode": {
    "name": "ipython",
    "version": 3
   },
   "file_extension": ".py",
   "mimetype": "text/x-python",
   "name": "python",
   "nbconvert_exporter": "python",
   "pygments_lexer": "ipython3",
   "version": "3.9.16"
  }
 },
 "nbformat": 4,
 "nbformat_minor": 5
}
