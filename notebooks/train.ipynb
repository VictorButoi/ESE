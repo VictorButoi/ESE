{
 "cells": [
  {
   "cell_type": "code",
   "execution_count": 1,
   "id": "9b121a30",
   "metadata": {},
   "outputs": [],
   "source": [
    "# Random Imports\n",
    "import os\n",
    "import sys\n",
    "sys.path.append('/storage/vbutoi/projects')\n",
    "sys.path.append('/storage/vbutoi/libraries')\n",
    "sys.path.append('/storage/vbutoi/projects/ESE')\n",
    "sys.path.append('/storage/vbutoi/projects/UniverSeg')\n",
    "\n",
    "# Regular schema dictates that we put DATAPATH\n",
    "os.environ['DATAPATH'] = ':'.join((\n",
    "       '/storage/vbutoi/datasets',\n",
    "))\n",
    "\n",
    "%load_ext yamlmagic\n",
    "%load_ext autoreload\n",
    "%autoreload 2"
   ]
  },
  {
   "cell_type": "markdown",
   "id": "bdbc865d",
   "metadata": {},
   "source": [
    "## Initialize the runner used to run jobs."
   ]
  },
  {
   "cell_type": "code",
   "execution_count": 2,
   "id": "7e7502ac",
   "metadata": {},
   "outputs": [
    {
     "name": "stdout",
     "output_type": "stream",
     "text": [
      "Initalized SliteRunner\n"
     ]
    }
   ],
   "source": [
    "# Submit cell\n",
    "from ese.experiment.experiment.ese_exp import CalibrationExperiment \n",
    "from ionpy.slite import SliteRunner\n",
    "\n",
    "# List the available gpus for a machine\n",
    "available_gpus = ['0', '1', '2', '3']\n",
    "\n",
    "# Configure Slite Object\n",
    "srunner = SliteRunner(\n",
    "    project='ESE',\n",
    "    exp_name='debug',\n",
    "    task_type=CalibrationExperiment, \n",
    "    available_gpus=available_gpus\n",
    "    )"
   ]
  },
  {
   "cell_type": "markdown",
   "id": "933335cf",
   "metadata": {},
   "source": [
    "## Define said jobs"
   ]
  },
  {
   "cell_type": "code",
   "execution_count": 3,
   "id": "b163e853",
   "metadata": {},
   "outputs": [],
   "source": [
    "from ionpy.util.config import check_missing\n",
    "\n",
    "def validate_cfg(cfg):\n",
    "    # It's usually a good idea to do a sanity check of\n",
    "    # inter-related settings or force them manually\n",
    "    check_missing(cfg)        \n",
    "    return cfg"
   ]
  },
  {
   "cell_type": "code",
   "execution_count": 4,
   "id": "ed8ce121",
   "metadata": {},
   "outputs": [
    {
     "data": {
      "application/javascript": "\n            require(\n                [\n                    \"notebook/js/codecell\",\n                    \"codemirror/mode/yaml/yaml\"\n                ],\n                function(cc){\n                    cc.CodeCell.options_default.highlight_modes.magic_yaml = {\n                        reg: [\"^%%yaml\"]\n                    }\n                }\n            );\n            ",
      "text/plain": [
       "<IPython.core.display.Javascript object>"
      ]
     },
     "metadata": {},
     "output_type": "display_data"
    }
   ],
   "source": [
    "%%yaml default_cfg \n",
    "\n",
    "experiment:\n",
    "  seed: 42\n",
    "    \n",
    "dataloader:\n",
    "  batch_size: 1 \n",
    "  num_workers: 4 \n",
    "  pin_memory: False \n",
    "\n",
    "optim: \n",
    "  _class: torch.optim.Adam\n",
    "  lr: 3.0e-4\n",
    "  weight_decay: 0.0 \n",
    "  \n",
    "train:\n",
    "  epochs: 500 \n",
    "  eval_freq: 50\n",
    "  \n",
    "log:\n",
    "  checkpoint_freq: 50 \n",
    "  root: '?'\n",
    "  metrics:\n",
    "    dice_score:\n",
    "      _fn: ionpy.metrics.dice_score\n",
    "      from_logits: True\n",
    "      batch_reduction: 'mean' \n",
    "\n",
    "loss_func: \n",
    "  _class: ionpy.loss.SoftDiceLoss\n",
    "  from_logits: True\n",
    "  batch_reduction: 'mean' "
   ]
  },
  {
   "cell_type": "code",
   "execution_count": 5,
   "id": "e2ac20c6",
   "metadata": {},
   "outputs": [
    {
     "data": {
      "application/javascript": "\n            require(\n                [\n                    \"notebook/js/codecell\",\n                    \"codemirror/mode/yaml/yaml\"\n                ],\n                function(cc){\n                    cc.CodeCell.options_default.highlight_modes.magic_yaml = {\n                        reg: [\"^%%yaml\"]\n                    }\n                }\n            );\n            ",
      "text/plain": [
       "<IPython.core.display.Javascript object>"
      ]
     },
     "metadata": {},
     "output_type": "display_data"
    }
   ],
   "source": [
    "%%yaml model_cfg  \n",
    "\n",
    "model:\n",
    "  _class: ese.experiment.models.UNet\n",
    "  in_channels: 3\n",
    "  out_channels: 1\n",
    "  filters: '?'\n",
    "  convs_per_block: 3"
   ]
  },
  {
   "cell_type": "code",
   "execution_count": 6,
   "id": "07ee95bd",
   "metadata": {},
   "outputs": [
    {
     "data": {
      "application/javascript": "\n            require(\n                [\n                    \"notebook/js/codecell\",\n                    \"codemirror/mode/yaml/yaml\"\n                ],\n                function(cc){\n                    cc.CodeCell.options_default.highlight_modes.magic_yaml = {\n                        reg: [\"^%%yaml\"]\n                    }\n                }\n            );\n            ",
      "text/plain": [
       "<IPython.core.display.Javascript object>"
      ]
     },
     "metadata": {},
     "output_type": "display_data"
    }
   ],
   "source": [
    "%%yaml dataset_cfg \n",
    "\n",
    "# data:\n",
    "#   _class: ese.experiment.datasets.WMH\n",
    "#   annotator: observer_o12\n",
    "#   axis: 0\n",
    "#   preload: False \n",
    "#   num_slices: 1\n",
    "#   task: Amsterdam \n",
    "#   version: 0.2\n",
    "\n",
    "data:\n",
    "  _class: ese.experiment.datasets.COCO "
   ]
  },
  {
   "cell_type": "code",
   "execution_count": 7,
   "id": "289c8e7f",
   "metadata": {},
   "outputs": [
    {
     "data": {
      "application/javascript": "\n            require(\n                [\n                    \"notebook/js/codecell\",\n                    \"codemirror/mode/yaml/yaml\"\n                ],\n                function(cc){\n                    cc.CodeCell.options_default.highlight_modes.magic_yaml = {\n                        reg: [\"^%%yaml\"]\n                    }\n                }\n            );\n            ",
      "text/plain": [
       "<IPython.core.display.Javascript object>"
      ]
     },
     "metadata": {},
     "output_type": "display_data"
    }
   ],
   "source": [
    "%%yaml lite_aug_cfg\n",
    "\n",
    "- RandomAffine:\n",
    "    p: 0.5\n",
    "    degrees: [0, 360]\n",
    "    translate: [0, 0.2]\n",
    "    scale: [0.8, 1.1]\n",
    "- RandomVariableElasticTransform:\n",
    "    p: 0.75\n",
    "    alpha: [1, 2] \n",
    "    sigma: [7, 9]\n",
    "- RandomHorizontalFlip:\n",
    "    p: 0.5\n",
    "- RandomVerticalFlip:\n",
    "    p: 0.5"
   ]
  },
  {
   "cell_type": "code",
   "execution_count": 8,
   "id": "01c7ad0b",
   "metadata": {},
   "outputs": [
    {
     "data": {
      "application/javascript": "\n            require(\n                [\n                    \"notebook/js/codecell\",\n                    \"codemirror/mode/yaml/yaml\"\n                ],\n                function(cc){\n                    cc.CodeCell.options_default.highlight_modes.magic_yaml = {\n                        reg: [\"^%%yaml\"]\n                    }\n                }\n            );\n            ",
      "text/plain": [
       "<IPython.core.display.Javascript object>"
      ]
     },
     "metadata": {},
     "output_type": "display_data"
    }
   ],
   "source": [
    "%%yaml callbacks_cfg\n",
    "\n",
    "callbacks:\n",
    "  step:\n",
    "    - ese.experiment.callbacks.ShowPredictions\n",
    "  epoch:\n",
    "    - ese.experiment.callbacks.WandbLogger\n",
    "    - ionpy.callbacks.ETA\n",
    "    - ionpy.callbacks.JobProgress\n",
    "    - ionpy.callbacks.TerminateOnNaN\n",
    "    - ionpy.callbacks.PrintLogged\n",
    "    - ionpy.callbacks.ModelCheckpoint:\n",
    "        monitor: dice_score\n",
    "        phase: val"
   ]
  },
  {
   "cell_type": "code",
   "execution_count": 9,
   "id": "7cfcd8dd",
   "metadata": {
    "scrolled": true
   },
   "outputs": [],
   "source": [
    "from ionpy.util import Config\n",
    "import pickle\n",
    "import copy\n",
    "\n",
    "# Assemble base config\n",
    "base_cfg = Config(default_cfg).update(model_cfg).update(dataset_cfg).update(callbacks_cfg)\n",
    "\n",
    "# Save the base cfg and the lite aug cfg\n",
    "with open('/storage/vbutoi/projects/ESE/configs/base.pkl', 'wb') as base_config_file:\n",
    "    pickle.dump(base_cfg, base_config_file)\n",
    "    \n",
    "with open('/storage/vbutoi/projects/ESE/configs/lite_aug.pkl', 'wb') as aug_config_file:\n",
    "    pickle.dump(sum([copy.deepcopy(lite_aug_cfg)], start=[]), aug_config_file)"
   ]
  },
  {
   "attachments": {},
   "cell_type": "markdown",
   "id": "b506f2fe",
   "metadata": {},
   "source": [
    "## Debug Station"
   ]
  },
  {
   "cell_type": "code",
   "execution_count": 10,
   "id": "6f4270fd",
   "metadata": {},
   "outputs": [],
   "source": [
    "# Need to define the experiment name\n",
    "exp_name = 'debug'\n",
    "\n",
    "# Create the ablation options\n",
    "option_set = [\n",
    "    {\n",
    "        'log.root': ['/storage/vbutoi/scratch/ESE/debug'],\n",
    "        'dataloader.batch_size': [1],\n",
    "        'model.filters': [[128, 128, 128, 128, 128]],\n",
    "    },\n",
    "]"
   ]
  },
  {
   "cell_type": "code",
   "execution_count": 11,
   "id": "e0e2e8b5",
   "metadata": {},
   "outputs": [],
   "source": [
    "from ese.scripts.utils import get_option_product\n",
    "import copy\n",
    "\n",
    "# Get the configs\n",
    "cfgs = get_option_product(exp_name, option_set, base_cfg)\n",
    "\n",
    "# Add Augmentations\n",
    "for cfg_idx in range(len(cfgs)):\n",
    "    for add_aug in [False]:\n",
    "        if add_aug:\n",
    "            cfgs[cfg_idx] = cfgs[cfg_idx].set('augmentations', sum([copy.deepcopy(lite_aug_cfg)], start=[]))"
   ]
  },
  {
   "cell_type": "code",
   "execution_count": 12,
   "id": "edbdcf3d",
   "metadata": {},
   "outputs": [
    {
     "name": "stdout",
     "output_type": "stream",
     "text": [
      "loading annotations into memory...\n",
      "Done (t=16.14s)\n",
      "creating index...\n",
      "index created!\n",
      "loading annotations into memory...\n",
      "Done (t=0.53s)\n",
      "creating index...\n",
      "index created!\n",
      "loading annotations into memory...\n",
      "Done (t=0.45s)\n",
      "creating index...\n",
      "index created!\n",
      "Running CalibrationExperiment(\"/storage/vbutoi/scratch/ESE/debug/20230907_221722-ZRRC-9e086af149b1e77cabb19a8bd48939ef\")\n",
      "---\n",
      "callbacks:\n",
      "  epoch:\n",
      "  - ese.experiment.callbacks.WandbLogger\n",
      "  - ionpy.callbacks.ETA\n",
      "  - ionpy.callbacks.JobProgress\n",
      "  - ionpy.callbacks.TerminateOnNaN\n",
      "  - ionpy.callbacks.PrintLogged\n",
      "  - ionpy.callbacks.ModelCheckpoint:\n",
      "      monitor: dice_score\n",
      "      phase: val\n",
      "  step:\n",
      "  - ese.experiment.callbacks.ShowPredictions\n",
      "data:\n",
      "  _class: ese.experiment.datasets.COCO\n",
      "dataloader:\n",
      "  batch_size: 1\n",
      "  num_workers: 4\n",
      "  pin_memory: false\n",
      "experiment:\n",
      "  seed: 42\n",
      "log:\n",
      "  checkpoint_freq: 50\n",
      "  metrics:\n",
      "    dice_score:\n",
      "      _fn: ionpy.metrics.dice_score\n",
      "      batch_reduction: mean\n",
      "      from_logits: true\n",
      "  root: /storage/vbutoi/scratch/ESE/debug\n",
      "  wandb_string: exp_name:debug-batch_size:1-filters:[128,128,128,128,128]\n",
      "loss_func:\n",
      "  _class: ionpy.loss.SoftDiceLoss\n",
      "  batch_reduction: mean\n",
      "  from_logits: true\n",
      "model:\n",
      "  _class: ese.experiment.models.UNet\n",
      "  convs_per_block: 3\n",
      "  filters:\n",
      "  - 128\n",
      "  - 128\n",
      "  - 128\n",
      "  - 128\n",
      "  - 128\n",
      "  in_channels: 3\n",
      "  out_channels: 1\n",
      "optim:\n",
      "  _class: torch.optim.Adam\n",
      "  lr: 0.0003\n",
      "  weight_decay: 0.0\n",
      "train:\n",
      "  epochs: 500\n",
      "  eval_freq: 50\n",
      "\n"
     ]
    },
    {
     "name": "stderr",
     "output_type": "stream",
     "text": [
      "Failed to detect the name of this notebook, you can set it manually with the WANDB_NOTEBOOK_NAME environment variable to enable code saving.\n",
      "\u001b[34m\u001b[1mwandb\u001b[0m: Currently logged in as: \u001b[33mvbutoi\u001b[0m. Use \u001b[1m`wandb login --relogin`\u001b[0m to force relogin\n"
     ]
    },
    {
     "data": {
      "text/html": [
       "wandb version 0.15.10 is available!  To upgrade, please run:\n",
       " $ pip install wandb --upgrade"
      ],
      "text/plain": [
       "<IPython.core.display.HTML object>"
      ]
     },
     "metadata": {},
     "output_type": "display_data"
    },
    {
     "data": {
      "text/html": [
       "Tracking run with wandb version 0.15.8"
      ],
      "text/plain": [
       "<IPython.core.display.HTML object>"
      ]
     },
     "metadata": {},
     "output_type": "display_data"
    },
    {
     "data": {
      "text/html": [
       "Run data is saved locally in <code>/storage/vbutoi/scratch/ESE/debug/wandb/run-20230907_221745-cvlpqoke</code>"
      ],
      "text/plain": [
       "<IPython.core.display.HTML object>"
      ]
     },
     "metadata": {},
     "output_type": "display_data"
    },
    {
     "data": {
      "text/html": [
       "Syncing run <strong><a href='https://wandb.ai/vbutoi/SemanticCalibration/runs/cvlpqoke' target=\"_blank\">earthy-water-84</a></strong> to <a href='https://wandb.ai/vbutoi/SemanticCalibration' target=\"_blank\">Weights & Biases</a> (<a href='https://wandb.me/run' target=\"_blank\">docs</a>)<br/>"
      ],
      "text/plain": [
       "<IPython.core.display.HTML object>"
      ]
     },
     "metadata": {},
     "output_type": "display_data"
    },
    {
     "data": {
      "text/html": [
       " View project at <a href='https://wandb.ai/vbutoi/SemanticCalibration' target=\"_blank\">https://wandb.ai/vbutoi/SemanticCalibration</a>"
      ],
      "text/plain": [
       "<IPython.core.display.HTML object>"
      ]
     },
     "metadata": {},
     "output_type": "display_data"
    },
    {
     "data": {
      "text/html": [
       " View run at <a href='https://wandb.ai/vbutoi/SemanticCalibration/runs/cvlpqoke' target=\"_blank\">https://wandb.ai/vbutoi/SemanticCalibration/runs/cvlpqoke</a>"
      ],
      "text/plain": [
       "<IPython.core.display.HTML object>"
      ]
     },
     "metadata": {},
     "output_type": "display_data"
    },
    {
     "name": "stdout",
     "output_type": "stream",
     "text": [
      "Start epoch 0\n"
     ]
    },
    {
     "ename": "RuntimeError",
     "evalue": "one_hot is only applicable to index tensor.",
     "output_type": "error",
     "traceback": [
      "\u001b[0;31m---------------------------------------------------------------------------\u001b[0m",
      "\u001b[0;31mRuntimeError\u001b[0m                              Traceback (most recent call last)",
      "Cell \u001b[0;32mIn[12], line 1\u001b[0m\n\u001b[0;32m----> 1\u001b[0m srunner\u001b[39m.\u001b[39;49mrun_exp(cfgs[\u001b[39m0\u001b[39;49m])\n",
      "File \u001b[0;32m/storage/vbutoi/projects/ionpy/slite/runner.py:60\u001b[0m, in \u001b[0;36mSliteRunner.run_exp\u001b[0;34m(self, cfg)\u001b[0m\n\u001b[1;32m     58\u001b[0m \u001b[39m# Run experiment\u001b[39;00m\n\u001b[1;32m     59\u001b[0m exp \u001b[39m=\u001b[39m \u001b[39mself\u001b[39m\u001b[39m.\u001b[39mtask_type\u001b[39m.\u001b[39mfrom_config(cfg)\n\u001b[0;32m---> 60\u001b[0m exp\u001b[39m.\u001b[39;49mrun()\n",
      "File \u001b[0;32m/storage/vbutoi/projects/ESE/ese/experiment/experiment/ese_exp.py:70\u001b[0m, in \u001b[0;36mCalibrationExperiment.run\u001b[0;34m(self)\u001b[0m\n\u001b[1;32m     69\u001b[0m \u001b[39mdef\u001b[39;00m \u001b[39mrun\u001b[39m(\u001b[39mself\u001b[39m):\n\u001b[0;32m---> 70\u001b[0m     \u001b[39msuper\u001b[39;49m()\u001b[39m.\u001b[39;49mrun()\n",
      "File \u001b[0;32m/storage/vbutoi/projects/ionpy/experiment/train.py:175\u001b[0m, in \u001b[0;36mTrainExperiment.run\u001b[0;34m(self)\u001b[0m\n\u001b[1;32m    173\u001b[0m \u001b[39mprint\u001b[39m(\u001b[39mf\u001b[39m\u001b[39m\"\u001b[39m\u001b[39mStart epoch \u001b[39m\u001b[39m{\u001b[39;00mepoch\u001b[39m}\u001b[39;00m\u001b[39m\"\u001b[39m)\n\u001b[1;32m    174\u001b[0m \u001b[39mself\u001b[39m\u001b[39m.\u001b[39m_epoch \u001b[39m=\u001b[39m epoch\n\u001b[0;32m--> 175\u001b[0m \u001b[39mself\u001b[39;49m\u001b[39m.\u001b[39;49mrun_phase(\u001b[39m\"\u001b[39;49m\u001b[39mtrain\u001b[39;49m\u001b[39m\"\u001b[39;49m, epoch)\n\u001b[1;32m    176\u001b[0m \u001b[39mif\u001b[39;00m eval_freq \u001b[39m>\u001b[39m \u001b[39m0\u001b[39m \u001b[39mand\u001b[39;00m (epoch \u001b[39m%\u001b[39m eval_freq \u001b[39m==\u001b[39m \u001b[39m0\u001b[39m \u001b[39mor\u001b[39;00m epoch \u001b[39m==\u001b[39m epochs \u001b[39m-\u001b[39m \u001b[39m1\u001b[39m):\n\u001b[1;32m    177\u001b[0m     \u001b[39mself\u001b[39m\u001b[39m.\u001b[39mrun_phase(\u001b[39m\"\u001b[39m\u001b[39mval\u001b[39m\u001b[39m\"\u001b[39m, epoch)\n",
      "File \u001b[0;32m/storage/vbutoi/projects/ionpy/experiment/train.py:201\u001b[0m, in \u001b[0;36mTrainExperiment.run_phase\u001b[0;34m(self, phase, epoch)\u001b[0m\n\u001b[1;32m    198\u001b[0m \u001b[39mwith\u001b[39;00m torch\u001b[39m.\u001b[39mset_grad_enabled(grad_enabled):\n\u001b[1;32m    199\u001b[0m     \u001b[39m# with torch.inference_mode(not grad_enabled):\u001b[39;00m\n\u001b[1;32m    200\u001b[0m     \u001b[39mfor\u001b[39;00m batch_idx, batch \u001b[39min\u001b[39;00m \u001b[39menumerate\u001b[39m(dl):\n\u001b[0;32m--> 201\u001b[0m         outputs \u001b[39m=\u001b[39m \u001b[39mself\u001b[39;49m\u001b[39m.\u001b[39;49mrun_step(\n\u001b[1;32m    202\u001b[0m             batch_idx\u001b[39m=\u001b[39;49mbatch_idx,\n\u001b[1;32m    203\u001b[0m             batch\u001b[39m=\u001b[39;49mbatch,\n\u001b[1;32m    204\u001b[0m             backward\u001b[39m=\u001b[39;49mgrad_enabled,\n\u001b[1;32m    205\u001b[0m             augmentation\u001b[39m=\u001b[39;49maugmentation,\n\u001b[1;32m    206\u001b[0m             epoch\u001b[39m=\u001b[39;49mepoch,\n\u001b[1;32m    207\u001b[0m             phase\u001b[39m=\u001b[39;49mphase\n\u001b[1;32m    208\u001b[0m         )\n\u001b[1;32m    209\u001b[0m         metrics \u001b[39m=\u001b[39m \u001b[39mself\u001b[39m\u001b[39m.\u001b[39mcompute_metrics(outputs)\n\u001b[1;32m    210\u001b[0m         meters\u001b[39m.\u001b[39mupdate(metrics)\n",
      "File \u001b[0;32m/storage/vbutoi/projects/ESE/ese/experiment/experiment/ese_exp.py:49\u001b[0m, in \u001b[0;36mCalibrationExperiment.run_step\u001b[0;34m(self, batch_idx, batch, backward, augmentation, epoch, phase)\u001b[0m\n\u001b[1;32m     46\u001b[0m         x, y \u001b[39m=\u001b[39m \u001b[39mself\u001b[39m\u001b[39m.\u001b[39maug_pipeline(x, y)\n\u001b[1;32m     48\u001b[0m yhat \u001b[39m=\u001b[39m \u001b[39mself\u001b[39m\u001b[39m.\u001b[39mmodel(x)\n\u001b[0;32m---> 49\u001b[0m loss \u001b[39m=\u001b[39m \u001b[39mself\u001b[39;49m\u001b[39m.\u001b[39;49mloss_func(yhat, y)\n\u001b[1;32m     51\u001b[0m \u001b[39mif\u001b[39;00m backward:\n\u001b[1;32m     52\u001b[0m     loss\u001b[39m.\u001b[39mbackward()\n",
      "File \u001b[0;32m~/envs/UniverSegTF/lib/python3.9/site-packages/torch/nn/modules/module.py:1194\u001b[0m, in \u001b[0;36mModule._call_impl\u001b[0;34m(self, *input, **kwargs)\u001b[0m\n\u001b[1;32m   1190\u001b[0m \u001b[39m# If we don't have any hooks, we want to skip the rest of the logic in\u001b[39;00m\n\u001b[1;32m   1191\u001b[0m \u001b[39m# this function, and just call forward.\u001b[39;00m\n\u001b[1;32m   1192\u001b[0m \u001b[39mif\u001b[39;00m \u001b[39mnot\u001b[39;00m (\u001b[39mself\u001b[39m\u001b[39m.\u001b[39m_backward_hooks \u001b[39mor\u001b[39;00m \u001b[39mself\u001b[39m\u001b[39m.\u001b[39m_forward_hooks \u001b[39mor\u001b[39;00m \u001b[39mself\u001b[39m\u001b[39m.\u001b[39m_forward_pre_hooks \u001b[39mor\u001b[39;00m _global_backward_hooks\n\u001b[1;32m   1193\u001b[0m         \u001b[39mor\u001b[39;00m _global_forward_hooks \u001b[39mor\u001b[39;00m _global_forward_pre_hooks):\n\u001b[0;32m-> 1194\u001b[0m     \u001b[39mreturn\u001b[39;00m forward_call(\u001b[39m*\u001b[39;49m\u001b[39minput\u001b[39;49m, \u001b[39m*\u001b[39;49m\u001b[39m*\u001b[39;49mkwargs)\n\u001b[1;32m   1195\u001b[0m \u001b[39m# Do not call functions when jit is used\u001b[39;00m\n\u001b[1;32m   1196\u001b[0m full_backward_hooks, non_full_backward_hooks \u001b[39m=\u001b[39m [], []\n",
      "File \u001b[0;32m/storage/vbutoi/projects/ionpy/loss/util.py:19\u001b[0m, in \u001b[0;36m_loss_module_from_func.<locals>._LossWrapper.forward\u001b[0;34m(self, y_pred, y_true)\u001b[0m\n\u001b[1;32m     18\u001b[0m \u001b[39mdef\u001b[39;00m \u001b[39mforward\u001b[39m(\u001b[39mself\u001b[39m, y_pred, y_true):\n\u001b[0;32m---> 19\u001b[0m     \u001b[39mreturn\u001b[39;00m loss_func(y_pred, y_true, \u001b[39m*\u001b[39;49m\u001b[39m*\u001b[39;49m\u001b[39mself\u001b[39;49m\u001b[39m.\u001b[39;49m_func_kwargs)\n",
      "File \u001b[0;32m~/envs/UniverSegTF/lib/python3.9/site-packages/pydantic/decorator.py:40\u001b[0m, in \u001b[0;36mpydantic.decorator.validate_arguments.validate.wrapper_function\u001b[0;34m()\u001b[0m\n",
      "File \u001b[0;32m~/envs/UniverSegTF/lib/python3.9/site-packages/pydantic/decorator.py:134\u001b[0m, in \u001b[0;36mpydantic.decorator.ValidatedFunction.call\u001b[0;34m()\u001b[0m\n",
      "File \u001b[0;32m~/envs/UniverSegTF/lib/python3.9/site-packages/pydantic/decorator.py:206\u001b[0m, in \u001b[0;36mpydantic.decorator.ValidatedFunction.execute\u001b[0;34m()\u001b[0m\n",
      "File \u001b[0;32m/storage/vbutoi/projects/ionpy/loss/segmentation.py:30\u001b[0m, in \u001b[0;36msoft_dice_loss\u001b[0;34m(y_pred, y_true, mode, reduction, batch_reduction, weights, ignore_index, from_logits, smooth, eps, square_denom, log_loss)\u001b[0m\n\u001b[1;32m     14\u001b[0m \u001b[39m@validate_arguments\u001b[39m(config\u001b[39m=\u001b[39m\u001b[39mdict\u001b[39m(arbitrary_types_allowed\u001b[39m=\u001b[39m\u001b[39mTrue\u001b[39;00m))\n\u001b[1;32m     15\u001b[0m \u001b[39mdef\u001b[39;00m \u001b[39msoft_dice_loss\u001b[39m(\n\u001b[1;32m     16\u001b[0m     y_pred: Tensor,\n\u001b[0;32m   (...)\u001b[0m\n\u001b[1;32m     27\u001b[0m     log_loss: \u001b[39mbool\u001b[39m \u001b[39m=\u001b[39m \u001b[39mFalse\u001b[39;00m,\n\u001b[1;32m     28\u001b[0m ) \u001b[39m-\u001b[39m\u001b[39m>\u001b[39m Tensor:\n\u001b[0;32m---> 30\u001b[0m     score \u001b[39m=\u001b[39m soft_dice_score(\n\u001b[1;32m     31\u001b[0m         y_pred,\n\u001b[1;32m     32\u001b[0m         y_true,\n\u001b[1;32m     33\u001b[0m         mode\u001b[39m=\u001b[39;49mmode,\n\u001b[1;32m     34\u001b[0m         reduction\u001b[39m=\u001b[39;49mreduction,\n\u001b[1;32m     35\u001b[0m         batch_reduction\u001b[39m=\u001b[39;49mbatch_reduction,\n\u001b[1;32m     36\u001b[0m         weights\u001b[39m=\u001b[39;49mweights,\n\u001b[1;32m     37\u001b[0m         ignore_index\u001b[39m=\u001b[39;49mignore_index,\n\u001b[1;32m     38\u001b[0m         from_logits\u001b[39m=\u001b[39;49mfrom_logits,\n\u001b[1;32m     39\u001b[0m         smooth\u001b[39m=\u001b[39;49msmooth,\n\u001b[1;32m     40\u001b[0m         eps\u001b[39m=\u001b[39;49meps,\n\u001b[1;32m     41\u001b[0m         square_denom\u001b[39m=\u001b[39;49msquare_denom,\n\u001b[1;32m     42\u001b[0m     )\n\u001b[1;32m     44\u001b[0m     \u001b[39mif\u001b[39;00m log_loss:\n\u001b[1;32m     45\u001b[0m         loss \u001b[39m=\u001b[39m \u001b[39m-\u001b[39mtorch\u001b[39m.\u001b[39mlog(score\u001b[39m.\u001b[39mclamp_min(eps))\n",
      "File \u001b[0;32m~/envs/UniverSegTF/lib/python3.9/site-packages/pydantic/decorator.py:40\u001b[0m, in \u001b[0;36mpydantic.decorator.validate_arguments.validate.wrapper_function\u001b[0;34m()\u001b[0m\n",
      "File \u001b[0;32m~/envs/UniverSegTF/lib/python3.9/site-packages/pydantic/decorator.py:134\u001b[0m, in \u001b[0;36mpydantic.decorator.ValidatedFunction.call\u001b[0;34m()\u001b[0m\n",
      "File \u001b[0;32m~/envs/UniverSegTF/lib/python3.9/site-packages/pydantic/decorator.py:206\u001b[0m, in \u001b[0;36mpydantic.decorator.ValidatedFunction.execute\u001b[0;34m()\u001b[0m\n",
      "File \u001b[0;32m/storage/vbutoi/projects/ionpy/metrics/segmentation.py:148\u001b[0m, in \u001b[0;36msoft_dice_score\u001b[0;34m(y_pred, y_true, mode, smooth, eps, square_denom, reduction, batch_reduction, weights, ignore_index, from_logits)\u001b[0m\n\u001b[1;32m    134\u001b[0m \u001b[39m@validate_arguments\u001b[39m(config\u001b[39m=\u001b[39m\u001b[39mdict\u001b[39m(arbitrary_types_allowed\u001b[39m=\u001b[39m\u001b[39mTrue\u001b[39;00m))\n\u001b[1;32m    135\u001b[0m \u001b[39mdef\u001b[39;00m \u001b[39msoft_dice_score\u001b[39m(\n\u001b[1;32m    136\u001b[0m     y_pred: Tensor,\n\u001b[0;32m   (...)\u001b[0m\n\u001b[1;32m    146\u001b[0m     from_logits: \u001b[39mbool\u001b[39m \u001b[39m=\u001b[39m \u001b[39mFalse\u001b[39;00m,\n\u001b[1;32m    147\u001b[0m ) \u001b[39m-\u001b[39m\u001b[39m>\u001b[39m Tensor:\n\u001b[0;32m--> 148\u001b[0m     y_pred, y_true \u001b[39m=\u001b[39m _inputs_as_onehot(\n\u001b[1;32m    149\u001b[0m         y_pred, y_true, mode\u001b[39m=\u001b[39;49mmode, from_logits\u001b[39m=\u001b[39;49mfrom_logits\n\u001b[1;32m    150\u001b[0m     )\n\u001b[1;32m    151\u001b[0m     \u001b[39massert\u001b[39;00m y_pred\u001b[39m.\u001b[39mshape \u001b[39m==\u001b[39m y_true\u001b[39m.\u001b[39mshape\n\u001b[1;32m    153\u001b[0m     intersection \u001b[39m=\u001b[39m torch\u001b[39m.\u001b[39msum(y_pred \u001b[39m*\u001b[39m y_true, dim\u001b[39m=\u001b[39m\u001b[39m-\u001b[39m\u001b[39m1\u001b[39m)\n",
      "File \u001b[0;32m~/envs/UniverSegTF/lib/python3.9/site-packages/pydantic/decorator.py:40\u001b[0m, in \u001b[0;36mpydantic.decorator.validate_arguments.validate.wrapper_function\u001b[0;34m()\u001b[0m\n",
      "File \u001b[0;32m~/envs/UniverSegTF/lib/python3.9/site-packages/pydantic/decorator.py:134\u001b[0m, in \u001b[0;36mpydantic.decorator.ValidatedFunction.call\u001b[0;34m()\u001b[0m\n",
      "File \u001b[0;32m~/envs/UniverSegTF/lib/python3.9/site-packages/pydantic/decorator.py:206\u001b[0m, in \u001b[0;36mpydantic.decorator.ValidatedFunction.execute\u001b[0;34m()\u001b[0m\n",
      "File \u001b[0;32m/storage/vbutoi/projects/ionpy/metrics/util.py:82\u001b[0m, in \u001b[0;36m_inputs_as_onehot\u001b[0;34m(y_pred, y_true, mode, from_logits, discretize)\u001b[0m\n\u001b[1;32m     80\u001b[0m     y_pred \u001b[39m=\u001b[39m y_pred\u001b[39m.\u001b[39mreshape(batch_size, num_classes, \u001b[39m-\u001b[39m\u001b[39m1\u001b[39m)\n\u001b[1;32m     81\u001b[0m     y_true \u001b[39m=\u001b[39m y_true\u001b[39m.\u001b[39mreshape(batch_size, \u001b[39m-\u001b[39m\u001b[39m1\u001b[39m)\n\u001b[0;32m---> 82\u001b[0m     y_true \u001b[39m=\u001b[39m F\u001b[39m.\u001b[39;49mone_hot(y_true, num_classes)\u001b[39m.\u001b[39mpermute(\u001b[39m0\u001b[39m, \u001b[39m2\u001b[39m, \u001b[39m1\u001b[39m)\n\u001b[1;32m     84\u001b[0m \u001b[39massert\u001b[39;00m y_pred\u001b[39m.\u001b[39mshape \u001b[39m==\u001b[39m y_true\u001b[39m.\u001b[39mshape\n\u001b[1;32m     85\u001b[0m \u001b[39mreturn\u001b[39;00m y_pred\u001b[39m.\u001b[39mfloat(), y_true\u001b[39m.\u001b[39mfloat()\n",
      "\u001b[0;31mRuntimeError\u001b[0m: one_hot is only applicable to index tensor."
     ]
    }
   ],
   "source": [
    "srunner.run_exp(cfgs[0])"
   ]
  }
 ],
 "metadata": {
  "kernelspec": {
   "display_name": "UniverSegTF",
   "language": "python",
   "name": "universegtf"
  },
  "language_info": {
   "codemirror_mode": {
    "name": "ipython",
    "version": 3
   },
   "file_extension": ".py",
   "mimetype": "text/x-python",
   "name": "python",
   "nbconvert_exporter": "python",
   "pygments_lexer": "ipython3",
   "version": "3.9.16"
  }
 },
 "nbformat": 4,
 "nbformat_minor": 5
}
