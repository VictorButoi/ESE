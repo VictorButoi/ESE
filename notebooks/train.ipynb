{
 "cells": [
  {
   "cell_type": "code",
   "execution_count": null,
   "id": "9b121a30",
   "metadata": {},
   "outputs": [],
   "source": [
    "# Random Imports\n",
    "import os\n",
    "import sys\n",
    "import yaml\n",
    "from pathlib import Path\n",
    "sys.path.append('/storage/vbutoi/projects')\n",
    "sys.path.append('/storage/vbutoi/libraries')\n",
    "sys.path.append('/storage/vbutoi/projects/ESE')\n",
    "sys.path.append('/storage/vbutoi/projects/UniverSeg')\n",
    "\n",
    "# Regular schema dictates that we put DATAPATH\n",
    "os.environ['DATAPATH'] = ':'.join((\n",
    "       '/storage/vbutoi/datasets',\n",
    "))\n",
    "os.environ['WANDB_NOTEBOOK_NAME'] = 'train.ipynb'\n",
    "\n",
    "from ionpy.util import Config\n",
    "from ese.scripts.utils import get_option_product\n",
    "\n",
    "from datetime import datetime\n",
    "# Get today's date\n",
    "today_date = datetime.now()\n",
    "# Format the date as MM_DD_YY\n",
    "formatted_date = today_date.strftime(\"%m_%d_%y\")\n",
    "\n",
    "# Setup direcrtories\n",
    "root = Path(\"/storage/vbutoi/scratch/ESE\")\n",
    "scratch_root = Path(\"/storage/vbutoi/scratch/ESE\")\n",
    "code_root = Path(\"/storage/vbutoi/projects/ESE\")\n",
    "\n",
    "%load_ext yamlmagic\n",
    "%load_ext autoreload\n",
    "%autoreload 2"
   ]
  },
  {
   "cell_type": "markdown",
   "id": "933335cf",
   "metadata": {},
   "source": [
    "## Define said jobs"
   ]
  },
  {
   "cell_type": "code",
   "execution_count": null,
   "id": "ed8ce121",
   "metadata": {},
   "outputs": [],
   "source": [
    "%%yaml default_cfg \n",
    "\n",
    "experiment:\n",
    "  seed: '?' \n",
    "    \n",
    "dataloader:\n",
    "  batch_size: '?' \n",
    "  num_workers: '?' \n",
    "  pin_memory: True \n",
    "\n",
    "optim: \n",
    "  _class: torch.optim.Adam\n",
    "  lr: 1.0e-4\n",
    "  weight_decay: 0.0 \n",
    "  \n",
    "train:\n",
    "  epochs: 1000 \n",
    "  eval_freq: 5 \n",
    "\n",
    "# Used for additional data experiment.\n",
    "data:\n",
    "  train_splits: train\n",
    "  val_splits: val"
   ]
  },
  {
   "cell_type": "code",
   "execution_count": null,
   "id": "e2ac20c6",
   "metadata": {},
   "outputs": [],
   "source": [
    "%%yaml model_cfg  \n",
    "\n",
    "model:\n",
    "  _class: ese.experiment.models.unet.UNet\n",
    "  filters: [64, 64, 64, 64, 64]\n",
    "  convs_per_block: '?' "
   ]
  },
  {
   "cell_type": "code",
   "execution_count": null,
   "id": "01c7ad0b",
   "metadata": {},
   "outputs": [],
   "source": [
    "%%yaml callbacks_cfg\n",
    "\n",
    "callbacks:\n",
    "  step:\n",
    "    - ese.experiment.callbacks.ShowPredictions\n",
    "  epoch:\n",
    "    - ese.experiment.callbacks.WandbLogger\n",
    "    - ionpy.callbacks.ETA\n",
    "    - ionpy.callbacks.JobProgress\n",
    "    - ionpy.callbacks.TerminateOnNaN\n",
    "    - ionpy.callbacks.PrintLogged\n",
    "    - ionpy.callbacks.ModelCheckpoint:\n",
    "        monitor: dice_score\n",
    "        phase: val"
   ]
  },
  {
   "attachments": {},
   "cell_type": "markdown",
   "id": "b506f2fe",
   "metadata": {},
   "source": [
    "## Debug Station"
   ]
  },
  {
   "cell_type": "code",
   "execution_count": null,
   "id": "6f4270fd",
   "metadata": {},
   "outputs": [],
   "source": [
    "# Setup the root.\n",
    "dset = \"DRIVE\"\n",
    "exp_name = f'06_14_24_{dset}_Pilot'\n",
    "\n",
    "exp_root = str(root / 'training' / exp_name)\n",
    "\n",
    "# Create the ablation options\n",
    "option_set = [\n",
    "    {\n",
    "        'log.root': [exp_root],\n",
    "        'experiment.seed': [40 + seed_idx],\n",
    "    }\n",
    "    for seed_idx in range(5)\n",
    "]"
   ]
  },
  {
   "cell_type": "code",
   "execution_count": null,
   "id": "e0e2e8b5",
   "metadata": {},
   "outputs": [],
   "source": [
    "# Load the inference cfg from local.\n",
    "##################################################\n",
    "cal_cfg_root = code_root / \"ese\" / \"experiment\" / \"configs\" / \"training\"\n",
    "##################################################\n",
    "with open(cal_cfg_root / f\"{dset}.yaml\", 'r') as file:\n",
    "    dataset_cfg = yaml.safe_load(file)"
   ]
  },
  {
   "cell_type": "code",
   "execution_count": null,
   "id": "042fa75a",
   "metadata": {},
   "outputs": [],
   "source": [
    "# Assemble base config\n",
    "base_cfg = Config(default_cfg).update([model_cfg, dataset_cfg, callbacks_cfg])\n",
    "\n",
    "# Get the configs\n",
    "cfgs = get_option_product(exp_name, option_set, base_cfg)"
   ]
  },
  {
   "cell_type": "code",
   "execution_count": null,
   "id": "d7904470",
   "metadata": {},
   "outputs": [],
   "source": [
    "len(cfgs)"
   ]
  },
  {
   "cell_type": "markdown",
   "id": "2225fe62",
   "metadata": {},
   "source": [
    "## Running Jobs"
   ]
  },
  {
   "cell_type": "code",
   "execution_count": null,
   "id": "edbdcf3d",
   "metadata": {},
   "outputs": [],
   "source": [
    "# ######## FOR DEBUGGING\n",
    "# from ese.experiment.experiment import run_ese_exp, CalibrationExperiment\n",
    "\n",
    "# run_ese_exp(\n",
    "#     config=cfgs[0], \n",
    "#     experiment_class=CalibrationExperiment,\n",
    "#     gpu='0',\n",
    "#     run_name='debug',\n",
    "#     show_examples=True,\n",
    "#     track_wandb=False\n",
    "# )"
   ]
  },
  {
   "cell_type": "code",
   "execution_count": null,
   "id": "05938b03",
   "metadata": {},
   "outputs": [],
   "source": [
    "# FOR SUBMISSION\n",
    "from ese.experiment.experiment import submit_ese_exps, CalibrationExperiment \n",
    "\n",
    "submit_ese_exps(\n",
    "    config_list=cfgs,\n",
    "    experiment_class=CalibrationExperiment,\n",
    "    available_gpus=['0', '1', '2', '3'],\n",
    "    track_wandb=True\n",
    ")"
   ]
  }
 ],
 "metadata": {
  "kernelspec": {
   "display_name": "UniverSegTF",
   "language": "python",
   "name": "universegtf"
  },
  "language_info": {
   "codemirror_mode": {
    "name": "ipython",
    "version": 3
   },
   "file_extension": ".py",
   "mimetype": "text/x-python",
   "name": "python",
   "nbconvert_exporter": "python",
   "pygments_lexer": "ipython3",
   "version": "3.9.16"
  }
 },
 "nbformat": 4,
 "nbformat_minor": 5
}
