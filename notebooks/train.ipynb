{
 "cells": [
  {
   "cell_type": "code",
   "execution_count": 1,
   "id": "9b121a30",
   "metadata": {},
   "outputs": [],
   "source": [
    "# Random Imports\n",
    "import os\n",
    "import sys\n",
    "sys.path.append('/storage/vbutoi/projects')\n",
    "sys.path.append('/storage/vbutoi/projects/ESE')\n",
    "\n",
    "# Regular schema dictates that we put DATAPATH\n",
    "os.environ['DATAPATH'] = ':'.join((\n",
    "       '/storage/vbutoi/datasets',\n",
    "))\n",
    "log_root_dir = '/storage/vbutoi/scratch/ESE'\n",
    "\n",
    "%load_ext autoreload\n",
    "%autoreload 2\n",
    "%load_ext yamlmagic"
   ]
  },
  {
   "cell_type": "code",
   "execution_count": 2,
   "id": "b163e853",
   "metadata": {},
   "outputs": [],
   "source": [
    "from ionpy.util.config import check_missing\n",
    "\n",
    "def validate_cfg(cfg):\n",
    "    # It's usually a good idea to do a sanity check of\n",
    "    # inter-related settings or force them manually\n",
    "    check_missing(cfg)        \n",
    "    return cfg"
   ]
  },
  {
   "cell_type": "code",
   "execution_count": 3,
   "id": "ed8ce121",
   "metadata": {},
   "outputs": [
    {
     "data": {
      "application/javascript": "\n            require(\n                [\n                    \"notebook/js/codecell\",\n                    \"codemirror/mode/yaml/yaml\"\n                ],\n                function(cc){\n                    cc.CodeCell.options_default.highlight_modes.magic_yaml = {\n                        reg: [\"^%%yaml\"]\n                    }\n                }\n            );\n            ",
      "text/plain": [
       "<IPython.core.display.Javascript object>"
      ]
     },
     "metadata": {},
     "output_type": "display_data"
    }
   ],
   "source": [
    "%%yaml default_cfg \n",
    "\n",
    "experiment:\n",
    "  seed: 42\n",
    "    \n",
    "dataloader:\n",
    "  batch_size: 1\n",
    "  num_workers: 0\n",
    "  pin_memory: False \n",
    "\n",
    "optim: \n",
    "  _class: torch.optim.Adam\n",
    "  lr: 1.0e-5\n",
    "  \n",
    "train:\n",
    "  epochs: 10000 # With heavy aug, you need a lot of epochs, without, only 1000\n",
    "  eval_freq: 100\n",
    "  \n",
    "log:\n",
    "  checkpoint_freq: 100 \n",
    "  root: '?'\n",
    "  metrics:\n",
    "    dice_score:\n",
    "      _fn: ionpy.metrics.dice_score\n",
    "      from_logits: True\n",
    "      batch_reduction: 'mean' \n",
    "\n",
    "loss_func: \n",
    "  _class: ionpy.loss.SoftDiceLoss\n",
    "  from_logits: True\n",
    "  batch_reduction: 'mean' "
   ]
  },
  {
   "cell_type": "code",
   "execution_count": 4,
   "id": "e2ac20c6",
   "metadata": {},
   "outputs": [
    {
     "data": {
      "application/javascript": "\n            require(\n                [\n                    \"notebook/js/codecell\",\n                    \"codemirror/mode/yaml/yaml\"\n                ],\n                function(cc){\n                    cc.CodeCell.options_default.highlight_modes.magic_yaml = {\n                        reg: [\"^%%yaml\"]\n                    }\n                }\n            );\n            ",
      "text/plain": [
       "<IPython.core.display.Javascript object>"
      ]
     },
     "metadata": {},
     "output_type": "display_data"
    }
   ],
   "source": [
    "%%yaml model_cfg  \n",
    "\n",
    "model:\n",
    "  _class: ese.experiment.models.UNet\n",
    "  in_channels: 1\n",
    "  out_channels: 1\n",
    "  filters: [32, 64, 128, 256, 512]"
   ]
  },
  {
   "cell_type": "code",
   "execution_count": 5,
   "id": "07ee95bd",
   "metadata": {},
   "outputs": [
    {
     "data": {
      "application/javascript": "\n            require(\n                [\n                    \"notebook/js/codecell\",\n                    \"codemirror/mode/yaml/yaml\"\n                ],\n                function(cc){\n                    cc.CodeCell.options_default.highlight_modes.magic_yaml = {\n                        reg: [\"^%%yaml\"]\n                    }\n                }\n            );\n            ",
      "text/plain": [
       "<IPython.core.display.Javascript object>"
      ]
     },
     "metadata": {},
     "output_type": "display_data"
    }
   ],
   "source": [
    "%%yaml dataset_cfg \n",
    "\n",
    "data:\n",
    "  _class: ese.experiment.datasets.Segment2D \n",
    "  task: \"Amsterdam\""
   ]
  },
  {
   "cell_type": "code",
   "execution_count": 6,
   "id": "01c7ad0b",
   "metadata": {},
   "outputs": [
    {
     "data": {
      "application/javascript": "\n            require(\n                [\n                    \"notebook/js/codecell\",\n                    \"codemirror/mode/yaml/yaml\"\n                ],\n                function(cc){\n                    cc.CodeCell.options_default.highlight_modes.magic_yaml = {\n                        reg: [\"^%%yaml\"]\n                    }\n                }\n            );\n            ",
      "text/plain": [
       "<IPython.core.display.Javascript object>"
      ]
     },
     "metadata": {},
     "output_type": "display_data"
    }
   ],
   "source": [
    "%%yaml callbacks_cfg\n",
    "\n",
    "callbacks:\n",
    "  epoch:\n",
    "    - ionpy.callbacks.ETA\n",
    "    - ionpy.callbacks.JobProgress\n",
    "    - ionpy.callbacks.TerminateOnNaN\n",
    "    - ionpy.callbacks.ModelCheckpoint:\n",
    "        monitor: dice_score\n",
    "        phase: val"
   ]
  },
  {
   "cell_type": "code",
   "execution_count": 7,
   "id": "6f4270fd",
   "metadata": {},
   "outputs": [],
   "source": [
    "# Need to define the experiment name\n",
    "exp_name = 'debugging'\n",
    "\n",
    "# Create the ablation options\n",
    "options = {\n",
    "    'log.root': [f'{log_root_dir}/{exp_name}'],\n",
    "}"
   ]
  },
  {
   "cell_type": "code",
   "execution_count": 8,
   "id": "7cfcd8dd",
   "metadata": {
    "scrolled": true
   },
   "outputs": [],
   "source": [
    "from ionpy.util import dict_product, Config\n",
    "\n",
    "# Assemble base config\n",
    "base_cfg = Config(default_cfg).update(model_cfg).update(dataset_cfg).update(callbacks_cfg)\n",
    "\n",
    "cfgs = []\n",
    "for cfg_update in dict_product(options):\n",
    "    cfg = base_cfg.update(cfg_update)\n",
    "    cfg = validate_cfg(cfg)\n",
    "    cfgs.append(cfg)"
   ]
  },
  {
   "cell_type": "code",
   "execution_count": 9,
   "id": "7d277dd1",
   "metadata": {},
   "outputs": [
    {
     "data": {
      "text/plain": [
       "1"
      ]
     },
     "execution_count": 9,
     "metadata": {},
     "output_type": "execute_result"
    }
   ],
   "source": [
    "len(cfgs)"
   ]
  },
  {
   "attachments": {},
   "cell_type": "markdown",
   "id": "c052b816",
   "metadata": {},
   "source": [
    "## Run the jobs"
   ]
  },
  {
   "cell_type": "code",
   "execution_count": 10,
   "id": "9dd675fa",
   "metadata": {},
   "outputs": [],
   "source": [
    "# Submit cell\n",
    "from ese.experiment.experiment.ese_exp import CalibrationExperiment \n",
    "from ionpy.slite import SliteRunner\n",
    "\n",
    "# List the available gpus for a machine\n",
    "available_gpus = ['0', '1'] \n",
    "\n",
    "# Configure Slite Object\n",
    "srunner = SliteRunner(task_type=CalibrationExperiment, \n",
    "                      exp_name=exp_name, \n",
    "                      available_gpus=available_gpus)"
   ]
  },
  {
   "attachments": {},
   "cell_type": "markdown",
   "id": "b506f2fe",
   "metadata": {},
   "source": [
    "## Debug Station"
   ]
  },
  {
   "cell_type": "code",
   "execution_count": 11,
   "id": "edbdcf3d",
   "metadata": {},
   "outputs": [
    {
     "ename": "ModuleNotFoundError",
     "evalue": "No module named 'IonPy'",
     "output_type": "error",
     "traceback": [
      "\u001b[0;31m---------------------------------------------------------------------------\u001b[0m",
      "\u001b[0;31mModuleNotFoundError\u001b[0m                       Traceback (most recent call last)",
      "Cell \u001b[0;32mIn[11], line 1\u001b[0m\n\u001b[0;32m----> 1\u001b[0m srunner\u001b[39m.\u001b[39;49mrun_exp(cfgs[\u001b[39m0\u001b[39;49m])\n",
      "File \u001b[0;32m/storage/vbutoi/projects/ionpy/slite/runner.py:43\u001b[0m, in \u001b[0;36mSliteRunner.run_exp\u001b[0;34m(self, cfg)\u001b[0m\n\u001b[1;32m     41\u001b[0m os\u001b[39m.\u001b[39menviron[\u001b[39m\"\u001b[39m\u001b[39mCUDA_VISIBLE_DEVICES\u001b[39m\u001b[39m\"\u001b[39m] \u001b[39m=\u001b[39m gpu_list\n\u001b[1;32m     42\u001b[0m \u001b[39m# Run experiment\u001b[39;00m\n\u001b[0;32m---> 43\u001b[0m exp \u001b[39m=\u001b[39m \u001b[39mself\u001b[39;49m\u001b[39m.\u001b[39;49mtask_type\u001b[39m.\u001b[39;49mfrom_config(cfg)\n\u001b[1;32m     44\u001b[0m exp\u001b[39m.\u001b[39mrun()\n",
      "File \u001b[0;32m/storage/vbutoi/projects/ionpy/experiment/base.py:73\u001b[0m, in \u001b[0;36mBaseExperiment.from_config\u001b[0;34m(cls, config)\u001b[0m\n\u001b[1;32m     70\u001b[0m autosave(metadata, path \u001b[39m/\u001b[39m \u001b[39m\"\u001b[39m\u001b[39mmetadata.json\u001b[39m\u001b[39m\"\u001b[39m)\n\u001b[1;32m     72\u001b[0m autosave(config, path \u001b[39m/\u001b[39m \u001b[39m\"\u001b[39m\u001b[39mconfig.yml\u001b[39m\u001b[39m\"\u001b[39m)\n\u001b[0;32m---> 73\u001b[0m \u001b[39mreturn\u001b[39;00m \u001b[39mcls\u001b[39;49m(\u001b[39mstr\u001b[39;49m(path\u001b[39m.\u001b[39;49mabsolute()))\n",
      "File \u001b[0;32m/storage/vbutoi/projects/ionpy/experiment/train.py:24\u001b[0m, in \u001b[0;36mTrainExperiment.__init__\u001b[0;34m(self, path)\u001b[0m\n\u001b[1;32m     22\u001b[0m \u001b[39msuper\u001b[39m()\u001b[39m.\u001b[39m\u001b[39m__init__\u001b[39m(path)\n\u001b[1;32m     23\u001b[0m \u001b[39mself\u001b[39m\u001b[39m.\u001b[39mdevice \u001b[39m=\u001b[39m torch\u001b[39m.\u001b[39mdevice(\u001b[39m\"\u001b[39m\u001b[39mcuda\u001b[39m\u001b[39m\"\u001b[39m \u001b[39mif\u001b[39;00m torch\u001b[39m.\u001b[39mcuda\u001b[39m.\u001b[39mis_available() \u001b[39melse\u001b[39;00m \u001b[39m\"\u001b[39m\u001b[39mcpu\u001b[39m\u001b[39m\"\u001b[39m)\n\u001b[0;32m---> 24\u001b[0m \u001b[39mself\u001b[39;49m\u001b[39m.\u001b[39;49mbuild_data()\n\u001b[1;32m     25\u001b[0m \u001b[39mself\u001b[39m\u001b[39m.\u001b[39mbuild_model()\n\u001b[1;32m     26\u001b[0m \u001b[39mself\u001b[39m\u001b[39m.\u001b[39mbuild_optim()\n",
      "File \u001b[0;32m/storage/vbutoi/projects/ESE/ese/experiment/experiment/ese_exp.py:14\u001b[0m, in \u001b[0;36mCalibrationExperiment.build_data\u001b[0;34m(self)\u001b[0m\n\u001b[1;32m     12\u001b[0m \u001b[39mdef\u001b[39;00m \u001b[39mbuild_data\u001b[39m(\u001b[39mself\u001b[39m):\n\u001b[1;32m     13\u001b[0m     dl_cfg \u001b[39m=\u001b[39m \u001b[39mself\u001b[39m\u001b[39m.\u001b[39mconfig[\u001b[39m\"\u001b[39m\u001b[39mdata\u001b[39m\u001b[39m\"\u001b[39m]\u001b[39m.\u001b[39mto_dict()\n\u001b[0;32m---> 14\u001b[0m     dataset_cls \u001b[39m=\u001b[39m absolute_import(dl_cfg\u001b[39m.\u001b[39;49mpop(\u001b[39m\"\u001b[39;49m\u001b[39m_class\u001b[39;49m\u001b[39m\"\u001b[39;49m))\n\u001b[1;32m     16\u001b[0m     \u001b[39mself\u001b[39m\u001b[39m.\u001b[39mtrain_dataset \u001b[39m=\u001b[39m dataset_cls(split\u001b[39m=\u001b[39m\u001b[39m\"\u001b[39m\u001b[39mtrain\u001b[39m\u001b[39m\"\u001b[39m)\n\u001b[1;32m     17\u001b[0m     \u001b[39mself\u001b[39m\u001b[39m.\u001b[39mval_dataset \u001b[39m=\u001b[39m dataset_cls(split\u001b[39m=\u001b[39m\u001b[39m\"\u001b[39m\u001b[39mval\u001b[39m\u001b[39m\"\u001b[39m)\n",
      "File \u001b[0;32m/storage/vbutoi/projects/ionpy/experiment/util.py:36\u001b[0m, in \u001b[0;36mabsolute_import\u001b[0;34m(reference)\u001b[0m\n\u001b[1;32m     34\u001b[0m module, _, attr \u001b[39m=\u001b[39m reference\u001b[39m.\u001b[39mrpartition(\u001b[39m\"\u001b[39m\u001b[39m.\u001b[39m\u001b[39m\"\u001b[39m)\n\u001b[1;32m     35\u001b[0m \u001b[39mif\u001b[39;00m importlib\u001b[39m.\u001b[39mutil\u001b[39m.\u001b[39mfind_spec(module) \u001b[39mis\u001b[39;00m \u001b[39mnot\u001b[39;00m \u001b[39mNone\u001b[39;00m:\n\u001b[0;32m---> 36\u001b[0m     module \u001b[39m=\u001b[39m importlib\u001b[39m.\u001b[39;49mimport_module(module)\n\u001b[1;32m     37\u001b[0m     \u001b[39mif\u001b[39;00m \u001b[39mhasattr\u001b[39m(module, attr):\n\u001b[1;32m     38\u001b[0m         \u001b[39mreturn\u001b[39;00m \u001b[39mgetattr\u001b[39m(module, attr)\n",
      "File \u001b[0;32m~/envs/SAM/lib/python3.9/importlib/__init__.py:127\u001b[0m, in \u001b[0;36mimport_module\u001b[0;34m(name, package)\u001b[0m\n\u001b[1;32m    125\u001b[0m             \u001b[39mbreak\u001b[39;00m\n\u001b[1;32m    126\u001b[0m         level \u001b[39m+\u001b[39m\u001b[39m=\u001b[39m \u001b[39m1\u001b[39m\n\u001b[0;32m--> 127\u001b[0m \u001b[39mreturn\u001b[39;00m _bootstrap\u001b[39m.\u001b[39;49m_gcd_import(name[level:], package, level)\n",
      "File \u001b[0;32m<frozen importlib._bootstrap>:1030\u001b[0m, in \u001b[0;36m_gcd_import\u001b[0;34m(name, package, level)\u001b[0m\n",
      "File \u001b[0;32m<frozen importlib._bootstrap>:1007\u001b[0m, in \u001b[0;36m_find_and_load\u001b[0;34m(name, import_)\u001b[0m\n",
      "File \u001b[0;32m<frozen importlib._bootstrap>:986\u001b[0m, in \u001b[0;36m_find_and_load_unlocked\u001b[0;34m(name, import_)\u001b[0m\n",
      "File \u001b[0;32m<frozen importlib._bootstrap>:680\u001b[0m, in \u001b[0;36m_load_unlocked\u001b[0;34m(spec)\u001b[0m\n",
      "File \u001b[0;32m<frozen importlib._bootstrap_external>:850\u001b[0m, in \u001b[0;36mexec_module\u001b[0;34m(self, module)\u001b[0m\n",
      "File \u001b[0;32m<frozen importlib._bootstrap>:228\u001b[0m, in \u001b[0;36m_call_with_frames_removed\u001b[0;34m(f, *args, **kwds)\u001b[0m\n",
      "File \u001b[0;32m/storage/vbutoi/projects/ESE/ese/experiment/datasets/__init__.py:2\u001b[0m\n\u001b[1;32m      1\u001b[0m \u001b[39mfrom\u001b[39;00m \u001b[39m.\u001b[39;00m\u001b[39made\u001b[39;00m \u001b[39mimport\u001b[39;00m ADE20kDataset\n\u001b[0;32m----> 2\u001b[0m \u001b[39mfrom\u001b[39;00m \u001b[39m.\u001b[39;00m\u001b[39msegment2d\u001b[39;00m \u001b[39mimport\u001b[39;00m Segment2D\n",
      "File \u001b[0;32m/storage/vbutoi/projects/ESE/ese/experiment/datasets/segment2d.py:12\u001b[0m\n\u001b[1;32m      9\u001b[0m \u001b[39mfrom\u001b[39;00m \u001b[39mparse\u001b[39;00m \u001b[39mimport\u001b[39;00m parse\n\u001b[1;32m     10\u001b[0m \u001b[39mfrom\u001b[39;00m \u001b[39mpydantic\u001b[39;00m \u001b[39mimport\u001b[39;00m validate_arguments\n\u001b[0;32m---> 12\u001b[0m \u001b[39mfrom\u001b[39;00m \u001b[39mionpy\u001b[39;00m\u001b[39m.\u001b[39;00m\u001b[39mdatasets\u001b[39;00m\u001b[39m.\u001b[39;00m\u001b[39mpath\u001b[39;00m \u001b[39mimport\u001b[39;00m DatapathMixin\n\u001b[1;32m     13\u001b[0m \u001b[39mfrom\u001b[39;00m \u001b[39mionpy\u001b[39;00m\u001b[39m.\u001b[39;00m\u001b[39mdatasets\u001b[39;00m\u001b[39m.\u001b[39;00m\u001b[39mthunder\u001b[39;00m \u001b[39mimport\u001b[39;00m ThunderDataset\n\u001b[1;32m     14\u001b[0m \u001b[39mfrom\u001b[39;00m \u001b[39mionpy\u001b[39;00m\u001b[39m.\u001b[39;00m\u001b[39mutil\u001b[39;00m\u001b[39m.\u001b[39;00m\u001b[39mthunder\u001b[39;00m \u001b[39mimport\u001b[39;00m UniqueThunderReader\n",
      "File \u001b[0;32m/storage/vbutoi/projects/ionpy/datasets/__init__.py:11\u001b[0m\n\u001b[1;32m      9\u001b[0m \u001b[39mfrom\u001b[39;00m \u001b[39m.\u001b[39;00m\u001b[39msubset\u001b[39;00m \u001b[39mimport\u001b[39;00m subset_dataset\n\u001b[1;32m     10\u001b[0m \u001b[39mfrom\u001b[39;00m \u001b[39m.\u001b[39;00m\u001b[39mselfsuper\u001b[39;00m \u001b[39mimport\u001b[39;00m SelfsuperDataset, self_supervised\n\u001b[0;32m---> 11\u001b[0m \u001b[39mfrom\u001b[39;00m \u001b[39m.\u001b[39;00m\u001b[39mvision\u001b[39;00m \u001b[39mimport\u001b[39;00m \u001b[39m*\u001b[39m\n\u001b[1;32m     12\u001b[0m \u001b[39mfrom\u001b[39;00m \u001b[39m.\u001b[39;00m\u001b[39mimage_folder_tar\u001b[39;00m \u001b[39mimport\u001b[39;00m ImageFolderTar\n\u001b[1;32m     13\u001b[0m \u001b[39mfrom\u001b[39;00m \u001b[39m.\u001b[39;00m\u001b[39mcuda\u001b[39;00m \u001b[39mimport\u001b[39;00m CUDACachedDataset\n",
      "File \u001b[0;32m/storage/vbutoi/projects/ionpy/datasets/vision/__init__.py:2\u001b[0m\n\u001b[1;32m      1\u001b[0m \u001b[39mfrom\u001b[39;00m \u001b[39m.\u001b[39;00m\u001b[39mmain\u001b[39;00m \u001b[39mimport\u001b[39;00m \u001b[39m*\u001b[39m\n\u001b[0;32m----> 2\u001b[0m \u001b[39mfrom\u001b[39;00m \u001b[39m.\u001b[39;00m\u001b[39mnist\u001b[39;00m \u001b[39mimport\u001b[39;00m \u001b[39m*\u001b[39m\n\u001b[1;32m      3\u001b[0m \u001b[39mfrom\u001b[39;00m \u001b[39m.\u001b[39;00m\u001b[39mpascal\u001b[39;00m \u001b[39mimport\u001b[39;00m PascalVOC2012\n\u001b[1;32m      4\u001b[0m \u001b[39mfrom\u001b[39;00m \u001b[39m.\u001b[39;00m\u001b[39moxfordpets\u001b[39;00m \u001b[39mimport\u001b[39;00m OxfordPets\n",
      "File \u001b[0;32m/storage/vbutoi/projects/ionpy/datasets/vision/nist.py:18\u001b[0m\n\u001b[1;32m     16\u001b[0m \u001b[39mfrom\u001b[39;00m \u001b[39m.\u001b[39;00m\u001b[39memnist\u001b[39;00m \u001b[39mimport\u001b[39;00m EMNIST\n\u001b[1;32m     17\u001b[0m \u001b[39mfrom\u001b[39;00m \u001b[39m.\u001b[39;00m\u001b[39musps28\u001b[39;00m \u001b[39mimport\u001b[39;00m USPS28\n\u001b[0;32m---> 18\u001b[0m \u001b[39mfrom\u001b[39;00m \u001b[39m.\u001b[39;00m\u001b[39mnotmnist\u001b[39;00m \u001b[39mimport\u001b[39;00m notMNIST, notMNISTLarge\n\u001b[1;32m     21\u001b[0m __all__ \u001b[39m=\u001b[39m [\n\u001b[1;32m     22\u001b[0m     \u001b[39m\"\u001b[39m\u001b[39mMNIST\u001b[39m\u001b[39m\"\u001b[39m,\n\u001b[1;32m     23\u001b[0m     \u001b[39m\"\u001b[39m\u001b[39mEMNIST\u001b[39m\u001b[39m\"\u001b[39m,\n\u001b[0;32m   (...)\u001b[0m\n\u001b[1;32m     28\u001b[0m     \u001b[39m\"\u001b[39m\u001b[39mnotMNISTLarge\u001b[39m\u001b[39m\"\u001b[39m,\n\u001b[1;32m     29\u001b[0m ]\n\u001b[1;32m     31\u001b[0m DATASET_CONSTRUCTOR \u001b[39m=\u001b[39m {\n\u001b[1;32m     32\u001b[0m     \u001b[39m\"\u001b[39m\u001b[39mMNIST\u001b[39m\u001b[39m\"\u001b[39m: TD\u001b[39m.\u001b[39mMNIST,\n\u001b[1;32m     33\u001b[0m     \u001b[39m\"\u001b[39m\u001b[39mKMNIST\u001b[39m\u001b[39m\"\u001b[39m: TD\u001b[39m.\u001b[39mKMNIST,\n\u001b[0;32m   (...)\u001b[0m\n\u001b[1;32m     45\u001b[0m     \u001b[39m\"\u001b[39m\u001b[39mTinyImageNet\u001b[39m\u001b[39m\"\u001b[39m: IndexedImageDataset,\n\u001b[1;32m     46\u001b[0m }\n",
      "File \u001b[0;32m/storage/vbutoi/projects/ionpy/datasets/vision/notmnist.py:13\u001b[0m\n\u001b[1;32m      9\u001b[0m \u001b[39mfrom\u001b[39;00m \u001b[39mtorchvision\u001b[39;00m\u001b[39m.\u001b[39;00m\u001b[39mdatasets\u001b[39;00m \u001b[39mimport\u001b[39;00m ImageFolder, MNIST\n\u001b[1;32m     11\u001b[0m \u001b[39mfrom\u001b[39;00m \u001b[39mtqdm\u001b[39;00m\u001b[39m.\u001b[39;00m\u001b[39mauto\u001b[39;00m \u001b[39mimport\u001b[39;00m tqdm\n\u001b[0;32m---> 13\u001b[0m \u001b[39mfrom\u001b[39;00m \u001b[39mIonPy\u001b[39;00m\u001b[39m.\u001b[39;00m\u001b[39mdatasets\u001b[39;00m \u001b[39mimport\u001b[39;00m DatapathMixin, IndexedImageFolder\n\u001b[1;32m     15\u001b[0m \u001b[39m# Download and untar\u001b[39;00m\n\u001b[1;32m     16\u001b[0m \u001b[39m# http://yaroslavvb.com/upload/notMNIST/notMNIST_large.tar.gz\u001b[39;00m\n\u001b[1;32m     17\u001b[0m \u001b[39m# http://yaroslavvb.com/upload/notMNIST/notMNIST_small.tar.gz\u001b[39;00m\n\u001b[1;32m     18\u001b[0m \n\u001b[1;32m     19\u001b[0m \u001b[39m# NOTE:\u001b[39;00m\n\u001b[1;32m     20\u001b[0m \u001b[39m# There are invalid images that need to be deleted, and the Index might need to be recreated several times\u001b[39;00m\n\u001b[1;32m     23\u001b[0m \u001b[39mdef\u001b[39;00m \u001b[39m_load_sample\u001b[39m(path):\n\u001b[1;32m     24\u001b[0m     \u001b[39m#     try:\u001b[39;00m\n",
      "\u001b[0;31mModuleNotFoundError\u001b[0m: No module named 'IonPy'"
     ]
    }
   ],
   "source": [
    "srunner.run_exp(cfgs[0])"
   ]
  },
  {
   "attachments": {},
   "cell_type": "markdown",
   "id": "079f8a19",
   "metadata": {},
   "source": [
    "## Submit Config to Long Term Jobs"
   ]
  },
  {
   "cell_type": "code",
   "execution_count": null,
   "id": "22892be7",
   "metadata": {},
   "outputs": [],
   "source": [
    "#srunner.submit_exps(cfgs)"
   ]
  },
  {
   "cell_type": "code",
   "execution_count": null,
   "id": "6802a73b",
   "metadata": {},
   "outputs": [],
   "source": [
    "# print(srunner.jobs[0].stderr())"
   ]
  }
 ],
 "metadata": {
  "kernelspec": {
   "display_name": "SAM",
   "language": "python",
   "name": "sam"
  },
  "language_info": {
   "codemirror_mode": {
    "name": "ipython",
    "version": 3
   },
   "file_extension": ".py",
   "mimetype": "text/x-python",
   "name": "python",
   "nbconvert_exporter": "python",
   "pygments_lexer": "ipython3",
   "version": "3.9.17"
  }
 },
 "nbformat": 4,
 "nbformat_minor": 5
}
