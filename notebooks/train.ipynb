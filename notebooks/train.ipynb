{
 "cells": [
  {
   "cell_type": "code",
   "execution_count": 1,
   "id": "9b121a30",
   "metadata": {},
   "outputs": [],
   "source": [
    "# Random Imports\n",
    "import os\n",
    "import sys\n",
    "sys.path.append('/storage/vbutoi/projects')\n",
    "sys.path.append('/storage/vbutoi/projects/ESE')\n",
    "\n",
    "# Regular schema dictates that we put DATAPATH\n",
    "os.environ['DATAPATH'] = ':'.join((\n",
    "       '/storage/vbutoi/datasets',\n",
    "))\n",
    "log_root_dir = '/storage/vbutoi/scratch/ESE'\n",
    "\n",
    "%load_ext autoreload\n",
    "%autoreload 2\n",
    "%load_ext yamlmagic"
   ]
  },
  {
   "cell_type": "code",
   "execution_count": 2,
   "id": "b163e853",
   "metadata": {},
   "outputs": [],
   "source": [
    "from ionpy.util.config import check_missing\n",
    "\n",
    "def validate_cfg(cfg):\n",
    "    # It's usually a good idea to do a sanity check of\n",
    "    # inter-related settings or force them manually\n",
    "    check_missing(cfg)        \n",
    "    return cfg"
   ]
  },
  {
   "cell_type": "code",
   "execution_count": 3,
   "id": "ed8ce121",
   "metadata": {},
   "outputs": [
    {
     "data": {
      "application/javascript": "\n            require(\n                [\n                    \"notebook/js/codecell\",\n                    \"codemirror/mode/yaml/yaml\"\n                ],\n                function(cc){\n                    cc.CodeCell.options_default.highlight_modes.magic_yaml = {\n                        reg: [\"^%%yaml\"]\n                    }\n                }\n            );\n            ",
      "text/plain": [
       "<IPython.core.display.Javascript object>"
      ]
     },
     "metadata": {},
     "output_type": "display_data"
    }
   ],
   "source": [
    "%%yaml default_cfg \n",
    "\n",
    "experiment:\n",
    "  seed: 42\n",
    "    \n",
    "dataloader:\n",
    "  batch_size: 1\n",
    "  num_workers: 0\n",
    "  pin_memory: False \n",
    "\n",
    "optim: \n",
    "  _class: torch.optim.Adam\n",
    "  lr: 3.0e-4\n",
    "  \n",
    "train:\n",
    "  epochs: 10000 # With heavy aug, you need a lot of epochs, without, only 1000\n",
    "  eval_freq: 100\n",
    "  \n",
    "log:\n",
    "  checkpoint_freq: 100 \n",
    "  root: '?'\n",
    "  metrics:\n",
    "    dice_score:\n",
    "      _fn: ionpy.metrics.dice_score\n",
    "      from_logits: True\n",
    "      batch_reduction: 'mean' \n",
    "\n",
    "loss_func: \n",
    "  _class: ionpy.loss.SoftDiceLoss\n",
    "  from_logits: True\n",
    "  batch_reduction: 'mean' "
   ]
  },
  {
   "cell_type": "code",
   "execution_count": 4,
   "id": "e2ac20c6",
   "metadata": {},
   "outputs": [
    {
     "data": {
      "application/javascript": "\n            require(\n                [\n                    \"notebook/js/codecell\",\n                    \"codemirror/mode/yaml/yaml\"\n                ],\n                function(cc){\n                    cc.CodeCell.options_default.highlight_modes.magic_yaml = {\n                        reg: [\"^%%yaml\"]\n                    }\n                }\n            );\n            ",
      "text/plain": [
       "<IPython.core.display.Javascript object>"
      ]
     },
     "metadata": {},
     "output_type": "display_data"
    }
   ],
   "source": [
    "%%yaml model_cfg  \n",
    "\n",
    "model:\n",
    "  _class: ese.experiment.models.UNet\n",
    "  in_channels: 1\n",
    "  out_channels: 1\n",
    "  filters: [64, 64, 64, 64]\n",
    "  convs_per_block: 2"
   ]
  },
  {
   "cell_type": "code",
   "execution_count": 5,
   "id": "07ee95bd",
   "metadata": {},
   "outputs": [
    {
     "data": {
      "application/javascript": "\n            require(\n                [\n                    \"notebook/js/codecell\",\n                    \"codemirror/mode/yaml/yaml\"\n                ],\n                function(cc){\n                    cc.CodeCell.options_default.highlight_modes.magic_yaml = {\n                        reg: [\"^%%yaml\"]\n                    }\n                }\n            );\n            ",
      "text/plain": [
       "<IPython.core.display.Javascript object>"
      ]
     },
     "metadata": {},
     "output_type": "display_data"
    }
   ],
   "source": [
    "%%yaml dataset_cfg \n",
    "\n",
    "data:\n",
    "  _class: ese.experiment.datasets.WMH\n",
    "  annotator: observer_o12\n",
    "  axis: 0\n",
    "  dataset: WMH\n",
    "  slicing: dense\n",
    "  task: Amsterdam "
   ]
  },
  {
   "cell_type": "code",
   "execution_count": 6,
   "id": "01c7ad0b",
   "metadata": {},
   "outputs": [
    {
     "data": {
      "application/javascript": "\n            require(\n                [\n                    \"notebook/js/codecell\",\n                    \"codemirror/mode/yaml/yaml\"\n                ],\n                function(cc){\n                    cc.CodeCell.options_default.highlight_modes.magic_yaml = {\n                        reg: [\"^%%yaml\"]\n                    }\n                }\n            );\n            ",
      "text/plain": [
       "<IPython.core.display.Javascript object>"
      ]
     },
     "metadata": {},
     "output_type": "display_data"
    }
   ],
   "source": [
    "%%yaml callbacks_cfg\n",
    "\n",
    "callbacks:\n",
    "  epoch:\n",
    "    - ese.experiment.callbacks.ShowPredictions\n",
    "    - ionpy.callbacks.ETA\n",
    "    - ionpy.callbacks.JobProgress\n",
    "    - ionpy.callbacks.TerminateOnNaN\n",
    "    - ionpy.callbacks.PrintLogged\n",
    "    - ionpy.callbacks.ModelCheckpoint:\n",
    "        monitor: dice_score\n",
    "        phase: val"
   ]
  },
  {
   "cell_type": "code",
   "execution_count": 7,
   "id": "6f4270fd",
   "metadata": {},
   "outputs": [],
   "source": [
    "# Need to define the experiment name\n",
    "exp_name = 'debugging'\n",
    "\n",
    "# Create the ablation options\n",
    "options = {\n",
    "    'log.root': [f'{log_root_dir}/{exp_name}'],\n",
    "}"
   ]
  },
  {
   "cell_type": "code",
   "execution_count": 8,
   "id": "7cfcd8dd",
   "metadata": {
    "scrolled": true
   },
   "outputs": [],
   "source": [
    "from ionpy.util import dict_product, Config\n",
    "\n",
    "# Assemble base config\n",
    "base_cfg = Config(default_cfg).update(model_cfg).update(dataset_cfg).update(callbacks_cfg)\n",
    "\n",
    "cfgs = []\n",
    "for cfg_update in dict_product(options):\n",
    "    cfg = base_cfg.update(cfg_update)\n",
    "    cfg = validate_cfg(cfg)\n",
    "    cfgs.append(cfg)"
   ]
  },
  {
   "cell_type": "code",
   "execution_count": 9,
   "id": "7d277dd1",
   "metadata": {},
   "outputs": [
    {
     "data": {
      "text/plain": [
       "1"
      ]
     },
     "execution_count": 9,
     "metadata": {},
     "output_type": "execute_result"
    }
   ],
   "source": [
    "len(cfgs)"
   ]
  },
  {
   "attachments": {},
   "cell_type": "markdown",
   "id": "c052b816",
   "metadata": {},
   "source": [
    "## Run the jobs"
   ]
  },
  {
   "cell_type": "code",
   "execution_count": 10,
   "id": "9dd675fa",
   "metadata": {},
   "outputs": [],
   "source": [
    "# Submit cell\n",
    "from ese.experiment.experiment.ese_exp import CalibrationExperiment \n",
    "from ionpy.slite import SliteRunner\n",
    "\n",
    "# List the available gpus for a machine\n",
    "available_gpus = ['0', '1', '2', '3'] \n",
    "\n",
    "# Configure Slite Object\n",
    "srunner = SliteRunner(\n",
    "    task_type=CalibrationExperiment, \n",
    "    exp_name=exp_name, \n",
    "    available_gpus=available_gpus\n",
    "    )"
   ]
  },
  {
   "attachments": {},
   "cell_type": "markdown",
   "id": "b506f2fe",
   "metadata": {},
   "source": [
    "## Debug Station"
   ]
  },
  {
   "cell_type": "code",
   "execution_count": 11,
   "id": "edbdcf3d",
   "metadata": {},
   "outputs": [
    {
     "name": "stderr",
     "output_type": "stream",
     "text": [
      "/storage/vbutoi/projects/ionpy/util/libcheck.py:57: UserWarning: Using slow Pillow instead of Pillow-SIMD\n",
      "  warn(\"Using slow Pillow instead of Pillow-SIMD\")\n"
     ]
    },
    {
     "name": "stdout",
     "output_type": "stream",
     "text": [
      "Running CalibrationExperiment(\"/storage/vbutoi/scratch/ESE/debugging/20230816_230101-NZ7V-2e6e883cf35334f9ab41cf85793c778d\")\n",
      "---\n",
      "callbacks:\n",
      "  epoch:\n",
      "  - ese.experiment.callbacks.ShowPredictions\n",
      "  - ionpy.callbacks.ETA\n",
      "  - ionpy.callbacks.JobProgress\n",
      "  - ionpy.callbacks.TerminateOnNaN\n",
      "  - ionpy.callbacks.PrintLogged\n",
      "  - ionpy.callbacks.ModelCheckpoint:\n",
      "      monitor: dice_score\n",
      "      phase: val\n",
      "data:\n",
      "  _class: ese.experiment.datasets.WMH\n",
      "  annotator: observer_o12\n",
      "  axis: 0\n",
      "  dataset: WMH\n",
      "  slicing: dense\n",
      "  task: Amsterdam\n",
      "dataloader:\n",
      "  batch_size: 1\n",
      "  num_workers: 0\n",
      "  pin_memory: false\n",
      "experiment:\n",
      "  seed: 42\n",
      "log:\n",
      "  checkpoint_freq: 100\n",
      "  metrics:\n",
      "    dice_score:\n",
      "      _fn: ionpy.metrics.dice_score\n",
      "      batch_reduction: mean\n",
      "      from_logits: true\n",
      "  root: /storage/vbutoi/scratch/ESE/debugging\n",
      "loss_func:\n",
      "  _class: ionpy.loss.SoftDiceLoss\n",
      "  batch_reduction: mean\n",
      "  from_logits: true\n",
      "model:\n",
      "  _class: ese.experiment.models.UNet\n",
      "  convs_per_block: 2\n",
      "  filters:\n",
      "  - 64\n",
      "  - 64\n",
      "  - 64\n",
      "  - 64\n",
      "  in_channels: 1\n",
      "  out_channels: 1\n",
      "optim:\n",
      "  _class: torch.optim.Adam\n",
      "  lr: 0.0003\n",
      "train:\n",
      "  epochs: 10000\n",
      "  eval_freq: 100\n",
      "\n"
     ]
    },
    {
     "ename": "ImportError",
     "evalue": "Could not import ese.experiment.callbacks.ShowPredictions",
     "output_type": "error",
     "traceback": [
      "\u001b[0;31m---------------------------------------------------------------------------\u001b[0m",
      "\u001b[0;31mImportError\u001b[0m                               Traceback (most recent call last)",
      "Cell \u001b[0;32mIn[11], line 1\u001b[0m\n\u001b[0;32m----> 1\u001b[0m srunner\u001b[39m.\u001b[39;49mrun_exp(cfgs[\u001b[39m0\u001b[39;49m])\n",
      "File \u001b[0;32m/storage/vbutoi/projects/ionpy/slite/runner.py:44\u001b[0m, in \u001b[0;36mSliteRunner.run_exp\u001b[0;34m(self, cfg)\u001b[0m\n\u001b[1;32m     42\u001b[0m \u001b[39m# Run experiment\u001b[39;00m\n\u001b[1;32m     43\u001b[0m exp \u001b[39m=\u001b[39m \u001b[39mself\u001b[39m\u001b[39m.\u001b[39mtask_type\u001b[39m.\u001b[39mfrom_config(cfg)\n\u001b[0;32m---> 44\u001b[0m exp\u001b[39m.\u001b[39;49mrun()\n",
      "File \u001b[0;32m/storage/vbutoi/projects/ESE/ese/experiment/experiment/ese_exp.py:55\u001b[0m, in \u001b[0;36mCalibrationExperiment.run\u001b[0;34m(self)\u001b[0m\n\u001b[1;32m     54\u001b[0m \u001b[39mdef\u001b[39;00m \u001b[39mrun\u001b[39m(\u001b[39mself\u001b[39m):\n\u001b[0;32m---> 55\u001b[0m     \u001b[39msuper\u001b[39;49m()\u001b[39m.\u001b[39;49mrun()\n",
      "File \u001b[0;32m/storage/vbutoi/projects/ionpy/experiment/train.py:156\u001b[0m, in \u001b[0;36mTrainExperiment.run\u001b[0;34m(self)\u001b[0m\n\u001b[1;32m    154\u001b[0m \u001b[39mself\u001b[39m\u001b[39m.\u001b[39mto_device()\n\u001b[1;32m    155\u001b[0m \u001b[39mself\u001b[39m\u001b[39m.\u001b[39mbuild_dataloader()\n\u001b[0;32m--> 156\u001b[0m \u001b[39mself\u001b[39;49m\u001b[39m.\u001b[39;49mbuild_callbacks()\n\u001b[1;32m    158\u001b[0m last_epoch: \u001b[39mint\u001b[39m \u001b[39m=\u001b[39m \u001b[39mself\u001b[39m\u001b[39m.\u001b[39mproperties\u001b[39m.\u001b[39mget(\u001b[39m\"\u001b[39m\u001b[39mepoch\u001b[39m\u001b[39m\"\u001b[39m, \u001b[39m-\u001b[39m\u001b[39m1\u001b[39m)\n\u001b[1;32m    159\u001b[0m \u001b[39mif\u001b[39;00m last_epoch \u001b[39m>\u001b[39m\u001b[39m=\u001b[39m \u001b[39m0\u001b[39m:\n",
      "File \u001b[0;32m/storage/vbutoi/projects/ionpy/experiment/base.py:98\u001b[0m, in \u001b[0;36mBaseExperiment.build_callbacks\u001b[0;34m(self)\u001b[0m\n\u001b[1;32m     96\u001b[0m \u001b[39mself\u001b[39m\u001b[39m.\u001b[39mcallbacks \u001b[39m=\u001b[39m {}\n\u001b[1;32m     97\u001b[0m \u001b[39mif\u001b[39;00m \u001b[39m\"\u001b[39m\u001b[39mcallbacks\u001b[39m\u001b[39m\"\u001b[39m \u001b[39min\u001b[39;00m \u001b[39mself\u001b[39m\u001b[39m.\u001b[39mconfig:\n\u001b[0;32m---> 98\u001b[0m     \u001b[39mself\u001b[39m\u001b[39m.\u001b[39mcallbacks \u001b[39m=\u001b[39m eval_callbacks(\u001b[39mself\u001b[39;49m\u001b[39m.\u001b[39;49mconfig[\u001b[39m\"\u001b[39;49m\u001b[39mcallbacks\u001b[39;49m\u001b[39m\"\u001b[39;49m], \u001b[39mself\u001b[39;49m)\n",
      "File \u001b[0;32m/storage/vbutoi/projects/ionpy/experiment/base.py:23\u001b[0m, in \u001b[0;36meval_callbacks\u001b[0;34m(all_callbacks, experiment)\u001b[0m\n\u001b[1;32m     21\u001b[0m \u001b[39mfor\u001b[39;00m callback \u001b[39min\u001b[39;00m callbacks:\n\u001b[1;32m     22\u001b[0m     \u001b[39mif\u001b[39;00m \u001b[39misinstance\u001b[39m(callback, \u001b[39mstr\u001b[39m):\n\u001b[0;32m---> 23\u001b[0m         cb \u001b[39m=\u001b[39m absolute_import(callback)(experiment)\n\u001b[1;32m     24\u001b[0m     \u001b[39melif\u001b[39;00m \u001b[39misinstance\u001b[39m(callback, \u001b[39mdict\u001b[39m):\n\u001b[1;32m     25\u001b[0m         \u001b[39massert\u001b[39;00m \u001b[39mlen\u001b[39m(callback) \u001b[39m==\u001b[39m \u001b[39m1\u001b[39m, \u001b[39m\"\u001b[39m\u001b[39mCallback must have length 1\u001b[39m\u001b[39m\"\u001b[39m\n",
      "File \u001b[0;32m/storage/vbutoi/projects/ionpy/experiment/util.py:40\u001b[0m, in \u001b[0;36mabsolute_import\u001b[0;34m(reference)\u001b[0m\n\u001b[1;32m     37\u001b[0m     \u001b[39mif\u001b[39;00m \u001b[39mhasattr\u001b[39m(module, attr):\n\u001b[1;32m     38\u001b[0m         \u001b[39mreturn\u001b[39;00m \u001b[39mgetattr\u001b[39m(module, attr)\n\u001b[0;32m---> 40\u001b[0m \u001b[39mraise\u001b[39;00m \u001b[39mImportError\u001b[39;00m(\u001b[39mf\u001b[39m\u001b[39m\"\u001b[39m\u001b[39mCould not import \u001b[39m\u001b[39m{\u001b[39;00mreference\u001b[39m}\u001b[39;00m\u001b[39m\"\u001b[39m)\n",
      "\u001b[0;31mImportError\u001b[0m: Could not import ese.experiment.callbacks.ShowPredictions"
     ]
    }
   ],
   "source": [
    "srunner.run_exp(cfgs[0])"
   ]
  },
  {
   "attachments": {},
   "cell_type": "markdown",
   "id": "079f8a19",
   "metadata": {},
   "source": [
    "## Submit Config to Long Term Jobs"
   ]
  },
  {
   "cell_type": "code",
   "execution_count": null,
   "id": "22892be7",
   "metadata": {},
   "outputs": [],
   "source": [
    "#srunner.submit_exps(cfgs)"
   ]
  },
  {
   "cell_type": "code",
   "execution_count": null,
   "id": "6802a73b",
   "metadata": {},
   "outputs": [],
   "source": [
    "# print(srunner.jobs[0].stderr())"
   ]
  }
 ],
 "metadata": {
  "kernelspec": {
   "display_name": "UniverSegTF",
   "language": "python",
   "name": "universegtf"
  },
  "language_info": {
   "codemirror_mode": {
    "name": "ipython",
    "version": 3
   },
   "file_extension": ".py",
   "mimetype": "text/x-python",
   "name": "python",
   "nbconvert_exporter": "python",
   "pygments_lexer": "ipython3",
   "version": "3.9.16"
  }
 },
 "nbformat": 4,
 "nbformat_minor": 5
}
