{
 "cells": [
  {
   "cell_type": "code",
   "execution_count": 1,
   "id": "9b121a30",
   "metadata": {},
   "outputs": [],
   "source": [
    "# Random Imports\n",
    "import os\n",
    "import sys\n",
    "sys.path.append('/storage/vbutoi/projects')\n",
    "sys.path.append('/storage/vbutoi/libraries')\n",
    "sys.path.append('/storage/vbutoi/projects/ESE')\n",
    "sys.path.append('/storage/vbutoi/projects/UniverSeg')\n",
    "\n",
    "# Regular schema dictates that we put DATAPATH\n",
    "os.environ['DATAPATH'] = ':'.join((\n",
    "       '/storage/vbutoi/datasets',\n",
    "))\n",
    "log_root_dir = '/storage/vbutoi/scratch/ESE'\n",
    "\n",
    "%load_ext yamlmagic\n",
    "%load_ext autoreload\n",
    "%autoreload 2"
   ]
  },
  {
   "cell_type": "markdown",
   "id": "bdbc865d",
   "metadata": {},
   "source": [
    "## Initialize the runner used to run jobs."
   ]
  },
  {
   "cell_type": "code",
   "execution_count": 2,
   "id": "7e7502ac",
   "metadata": {},
   "outputs": [],
   "source": [
    "# Submit cell\n",
    "from ese.experiment.experiment.ese_exp import CalibrationExperiment \n",
    "from ionpy.slite import SliteRunner\n",
    "\n",
    "# List the available gpus for a machine\n",
    "available_gpus = ['0', '1', '2', '3']\n",
    "\n",
    "# Configure Slite Object\n",
    "srunner = SliteRunner(\n",
    "    project='ESE',\n",
    "    task_type=CalibrationExperiment, \n",
    "    available_gpus=available_gpus\n",
    "    )"
   ]
  },
  {
   "cell_type": "markdown",
   "id": "933335cf",
   "metadata": {},
   "source": [
    "## Define said jobs"
   ]
  },
  {
   "cell_type": "code",
   "execution_count": 3,
   "id": "b163e853",
   "metadata": {},
   "outputs": [],
   "source": [
    "from ionpy.util.config import check_missing\n",
    "\n",
    "def validate_cfg(cfg):\n",
    "    # It's usually a good idea to do a sanity check of\n",
    "    # inter-related settings or force them manually\n",
    "    check_missing(cfg)        \n",
    "    return cfg"
   ]
  },
  {
   "cell_type": "code",
   "execution_count": 4,
   "id": "ed8ce121",
   "metadata": {},
   "outputs": [
    {
     "data": {
      "application/javascript": "\n            require(\n                [\n                    \"notebook/js/codecell\",\n                    \"codemirror/mode/yaml/yaml\"\n                ],\n                function(cc){\n                    cc.CodeCell.options_default.highlight_modes.magic_yaml = {\n                        reg: [\"^%%yaml\"]\n                    }\n                }\n            );\n            ",
      "text/plain": [
       "<IPython.core.display.Javascript object>"
      ]
     },
     "metadata": {},
     "output_type": "display_data"
    }
   ],
   "source": [
    "%%yaml default_cfg \n",
    "\n",
    "experiment:\n",
    "  seed: 42\n",
    "    \n",
    "dataloader:\n",
    "  batch_size: '?' \n",
    "  num_workers: 4 \n",
    "  pin_memory: False \n",
    "\n",
    "optim: \n",
    "  _class: torch.optim.Adam\n",
    "  lr: 3.0e-4\n",
    "  weight_decay: 0.0 \n",
    "  \n",
    "train:\n",
    "  epochs: 300\n",
    "  eval_freq: 50\n",
    "  \n",
    "log:\n",
    "  checkpoint_freq: 50 \n",
    "  root: '?'\n",
    "  metrics:\n",
    "    dice_score:\n",
    "      _fn: ionpy.metrics.dice_score\n",
    "      from_logits: True\n",
    "      batch_reduction: 'mean' \n",
    "\n",
    "loss_func: \n",
    "  _class: ionpy.loss.SoftDiceLoss\n",
    "  from_logits: True\n",
    "  batch_reduction: 'mean' "
   ]
  },
  {
   "cell_type": "code",
   "execution_count": 5,
   "id": "e2ac20c6",
   "metadata": {},
   "outputs": [
    {
     "data": {
      "application/javascript": "\n            require(\n                [\n                    \"notebook/js/codecell\",\n                    \"codemirror/mode/yaml/yaml\"\n                ],\n                function(cc){\n                    cc.CodeCell.options_default.highlight_modes.magic_yaml = {\n                        reg: [\"^%%yaml\"]\n                    }\n                }\n            );\n            ",
      "text/plain": [
       "<IPython.core.display.Javascript object>"
      ]
     },
     "metadata": {},
     "output_type": "display_data"
    }
   ],
   "source": [
    "%%yaml model_cfg  \n",
    "\n",
    "model:\n",
    "  _class: ese.experiment.models.UNet\n",
    "  in_channels: 1\n",
    "  out_channels: 1\n",
    "  filters: [64, 64, 64, 64, 64]\n",
    "  convs_per_block: 3"
   ]
  },
  {
   "cell_type": "code",
   "execution_count": 6,
   "id": "07ee95bd",
   "metadata": {},
   "outputs": [
    {
     "data": {
      "application/javascript": "\n            require(\n                [\n                    \"notebook/js/codecell\",\n                    \"codemirror/mode/yaml/yaml\"\n                ],\n                function(cc){\n                    cc.CodeCell.options_default.highlight_modes.magic_yaml = {\n                        reg: [\"^%%yaml\"]\n                    }\n                }\n            );\n            ",
      "text/plain": [
       "<IPython.core.display.Javascript object>"
      ]
     },
     "metadata": {},
     "output_type": "display_data"
    }
   ],
   "source": [
    "%%yaml dataset_cfg \n",
    "\n",
    "data:\n",
    "  _class: ese.experiment.datasets.WMH\n",
    "  annotator: observer_o12\n",
    "  axis: 0\n",
    "  dataset: WMH  \n",
    "  preload: False \n",
    "  num_slices: 1\n",
    "  task: Amsterdam \n",
    "  version: 0.2"
   ]
  },
  {
   "cell_type": "code",
   "execution_count": 7,
   "id": "289c8e7f",
   "metadata": {},
   "outputs": [
    {
     "data": {
      "application/javascript": "\n            require(\n                [\n                    \"notebook/js/codecell\",\n                    \"codemirror/mode/yaml/yaml\"\n                ],\n                function(cc){\n                    cc.CodeCell.options_default.highlight_modes.magic_yaml = {\n                        reg: [\"^%%yaml\"]\n                    }\n                }\n            );\n            ",
      "text/plain": [
       "<IPython.core.display.Javascript object>"
      ]
     },
     "metadata": {},
     "output_type": "display_data"
    }
   ],
   "source": [
    "%%yaml lite_aug_cfg\n",
    "\n",
    "- RandomAffine:\n",
    "    p: 0.5\n",
    "    degrees: [0, 360]\n",
    "    translate: [0, 0.2]\n",
    "    scale: [0.8, 1.1]\n",
    "- RandomVariableElasticTransform:\n",
    "    p: 0.75\n",
    "    alpha: [1, 2] \n",
    "    sigma: [7, 9]\n",
    "- RandomHorizontalFlip:\n",
    "    p: 0.5\n",
    "- RandomVerticalFlip:\n",
    "    p: 0.5"
   ]
  },
  {
   "cell_type": "code",
   "execution_count": 8,
   "id": "01c7ad0b",
   "metadata": {},
   "outputs": [
    {
     "data": {
      "application/javascript": "\n            require(\n                [\n                    \"notebook/js/codecell\",\n                    \"codemirror/mode/yaml/yaml\"\n                ],\n                function(cc){\n                    cc.CodeCell.options_default.highlight_modes.magic_yaml = {\n                        reg: [\"^%%yaml\"]\n                    }\n                }\n            );\n            ",
      "text/plain": [
       "<IPython.core.display.Javascript object>"
      ]
     },
     "metadata": {},
     "output_type": "display_data"
    }
   ],
   "source": [
    "%%yaml callbacks_cfg\n",
    "\n",
    "callbacks:\n",
    "  # step:\n",
    "  #   - ese.experiment.callbacks.ShowPredictions\n",
    "  epoch:\n",
    "    - ese.experiment.callbacks.WandbLogger\n",
    "    - ionpy.callbacks.ETA\n",
    "    - ionpy.callbacks.JobProgress\n",
    "    - ionpy.callbacks.TerminateOnNaN\n",
    "    - ionpy.callbacks.PrintLogged\n",
    "    - ionpy.callbacks.ModelCheckpoint:\n",
    "        monitor: dice_score\n",
    "        phase: val"
   ]
  },
  {
   "cell_type": "code",
   "execution_count": 9,
   "id": "6f4270fd",
   "metadata": {},
   "outputs": [],
   "source": [
    "# Need to define the experiment name\n",
    "exp_name = 'SizeAblation'\n",
    "\n",
    "# Create the ablation options\n",
    "option_set = [\n",
    "    # {\n",
    "    #     'log.root': [f'{log_root_dir}/debug'],\n",
    "    #     'dataloader.batch_size': [4],\n",
    "    #     'data.num_slices' : [1],\n",
    "    # },\n",
    "    {\n",
    "        'log.root': [f'{log_root_dir}/{exp_name}'],\n",
    "        'dataloader.batch_size': [1],\n",
    "        'data.num_slices' : [4],\n",
    "        'model.filters': [\n",
    "                    [128, 128, 128, 128, 128],\n",
    "                    [256, 256, 256, 256, 256],\n",
    "                    [512, 512, 512, 512, 512],\n",
    "                ],\n",
    "        'optim.weight_decay': [0, 0.00001, 0.0001],\n",
    "        'dataloader.num_workers': [2]\n",
    "    }\n",
    "]"
   ]
  },
  {
   "cell_type": "code",
   "execution_count": 10,
   "id": "7cfcd8dd",
   "metadata": {
    "scrolled": true
   },
   "outputs": [
    {
     "name": "stdout",
     "output_type": "stream",
     "text": [
      "Initalized SliteRunner\n"
     ]
    }
   ],
   "source": [
    "from ionpy.util import dict_product, Config\n",
    "import copy\n",
    "\n",
    "def proc_exp_name(exp_name, cfg):\n",
    "    params = []\n",
    "    params.append(\"exp_name:\" + exp_name)\n",
    "    for key, value in cfg.items():\n",
    "        if key != \"log.root\":\n",
    "            key_name = key.split(\".\")[-1]\n",
    "            short_value = str(value).replace(\" \", \"\")\n",
    "            params.append(f\"{key_name}:{short_value}\")\n",
    "    wandb_string = \"-\".join(params)\n",
    "    return {\"log.wandb_string\": wandb_string}\n",
    "\n",
    "# Assemble base config\n",
    "light_augmentations = sum([copy.deepcopy(lite_aug_cfg)], start=[])\n",
    "base_cfg = Config(default_cfg).update(model_cfg).update(dataset_cfg).update(callbacks_cfg)\n",
    "\n",
    "cfgs = []\n",
    "for option_dict in option_set:\n",
    "    for add_aug in [True, False]:\n",
    "        for cfg_update in dict_product(option_dict):\n",
    "            cfg = base_cfg.update(cfg_update)\n",
    "            cfg = cfg.update(proc_exp_name(exp_name, cfg_update))\n",
    "            if add_aug:\n",
    "                cfg = cfg.set('augmentations', light_augmentations)\n",
    "            cfg = validate_cfg(cfg)\n",
    "            cfgs.append(cfg)\n",
    "\n",
    "srunner.set_exp_name(exp_name)"
   ]
  },
  {
   "cell_type": "code",
   "execution_count": 11,
   "id": "976615ff",
   "metadata": {},
   "outputs": [],
   "source": [
    "# Save the base cfg and the lite aug cfg\n",
    "import pickle\n",
    "with open('/storage/vbutoi/projects/ESE/configs/base.pkl', 'wb') as config_file:\n",
    "    pickle.dump(base_cfg, config_file)\n",
    "with open('/storage/vbutoi/projects/ESE/configs/lite_aug.pkl', 'wb') as config_file:\n",
    "    pickle.dump(light_augmentations, config_file)"
   ]
  },
  {
   "attachments": {},
   "cell_type": "markdown",
   "id": "c052b816",
   "metadata": {},
   "source": [
    "## Run the jobs"
   ]
  },
  {
   "attachments": {},
   "cell_type": "markdown",
   "id": "b506f2fe",
   "metadata": {},
   "source": [
    "## Debug Station"
   ]
  },
  {
   "cell_type": "code",
   "execution_count": 12,
   "id": "edbdcf3d",
   "metadata": {},
   "outputs": [],
   "source": [
    "# srunner.run_exp(cfgs[0])"
   ]
  },
  {
   "attachments": {},
   "cell_type": "markdown",
   "id": "079f8a19",
   "metadata": {},
   "source": [
    "## Submit Config to Long Term Jobs"
   ]
  },
  {
   "cell_type": "code",
   "execution_count": 13,
   "id": "28478b07",
   "metadata": {},
   "outputs": [],
   "source": [
    "# srunner.submit_exps(cfgs)"
   ]
  },
  {
   "cell_type": "code",
   "execution_count": 14,
   "id": "6802a73b",
   "metadata": {},
   "outputs": [],
   "source": [
    "#print(srunner.jobs[3].stderr())"
   ]
  }
 ],
 "metadata": {
  "kernelspec": {
   "display_name": "UniverSegTF",
   "language": "python",
   "name": "universegtf"
  },
  "language_info": {
   "codemirror_mode": {
    "name": "ipython",
    "version": 3
   },
   "file_extension": ".py",
   "mimetype": "text/x-python",
   "name": "python",
   "nbconvert_exporter": "python",
   "pygments_lexer": "ipython3",
   "version": "3.9.16"
  }
 },
 "nbformat": 4,
 "nbformat_minor": 5
}
