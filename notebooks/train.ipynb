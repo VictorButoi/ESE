{
 "cells": [
  {
   "cell_type": "code",
   "execution_count": 1,
   "id": "9b121a30",
   "metadata": {},
   "outputs": [],
   "source": [
    "# Random Imports\n",
    "import os\n",
    "import sys\n",
    "import yaml\n",
    "from pathlib import Path\n",
    "sys.path.append('/storage/vbutoi/projects')\n",
    "sys.path.append('/storage/vbutoi/libraries')\n",
    "sys.path.append('/storage/vbutoi/projects/ESE')\n",
    "sys.path.append('/storage/vbutoi/projects/UniverSeg')\n",
    "\n",
    "# Regular schema dictates that we put DATAPATH\n",
    "os.environ['DATAPATH'] = ':'.join((\n",
    "       '/storage/vbutoi/datasets',\n",
    "))\n",
    "os.environ['WANDB_NOTEBOOK_NAME'] = 'train.ipynb'\n",
    "\n",
    "from ionpy.util import Config\n",
    "\n",
    "# Setup direcrtories\n",
    "root = Path(\"/storage/vbutoi/scratch/ESE\")\n",
    "scratch_root = Path(\"/storage/vbutoi/scratch/ESE\")\n",
    "code_root = Path(\"/storage/vbutoi/projects/ESE\")\n",
    "\n",
    "%load_ext yamlmagic\n",
    "%load_ext autoreload\n",
    "%autoreload 2"
   ]
  },
  {
   "cell_type": "code",
   "execution_count": 2,
   "id": "ed8ce121",
   "metadata": {},
   "outputs": [
    {
     "data": {
      "application/javascript": "\n            require(\n                [\n                    \"notebook/js/codecell\",\n                    \"codemirror/mode/yaml/yaml\"\n                ],\n                function(cc){\n                    cc.CodeCell.options_default.highlight_modes.magic_yaml = {\n                        reg: [\"^%%yaml\"]\n                    }\n                }\n            );\n            ",
      "text/plain": [
       "<IPython.core.display.Javascript object>"
      ]
     },
     "metadata": {},
     "output_type": "display_data"
    }
   ],
   "source": [
    "%%yaml default_cfg \n",
    "\n",
    "experiment:\n",
    "  seed: '?' \n",
    "    \n",
    "dataloader:\n",
    "  batch_size: '?' \n",
    "  num_workers: '?' \n",
    "  pin_memory: True \n",
    "\n",
    "optim: \n",
    "  _class: torch.optim.Adam\n",
    "  lr: 1.0e-4\n",
    "  weight_decay: 0.0 \n",
    "  \n",
    "train:\n",
    "  epochs: '?' \n",
    "  eval_freq: '?' \n",
    "\n",
    "# Used for additional data experiment.\n",
    "data:\n",
    "  train_splits: train\n",
    "  val_splits: val\n",
    "  \n",
    "loss_func: \n",
    "  _class: '?'\n",
    "  from_logits: True\n",
    "  batch_reduction: 'mean' \n",
    "\n",
    "# loss_func: \n",
    "#   classes:\n",
    "#   - _class: ese.experiment.losses.SoftDiceLoss\n",
    "#     from_logits: True\n",
    "#     batch_reduction: 'mean' \n",
    "#   - _class: ese.experiment.losses.PixelCELoss\n",
    "#     from_logits: True\n",
    "#     batch_reduction: 'mean' \n",
    "#   weights:\n",
    "#   - 1.0\n",
    "#   - 1.0"
   ]
  },
  {
   "cell_type": "code",
   "execution_count": 3,
   "id": "e2ac20c6",
   "metadata": {},
   "outputs": [
    {
     "data": {
      "application/javascript": "\n            require(\n                [\n                    \"notebook/js/codecell\",\n                    \"codemirror/mode/yaml/yaml\"\n                ],\n                function(cc){\n                    cc.CodeCell.options_default.highlight_modes.magic_yaml = {\n                        reg: [\"^%%yaml\"]\n                    }\n                }\n            );\n            ",
      "text/plain": [
       "<IPython.core.display.Javascript object>"
      ]
     },
     "metadata": {},
     "output_type": "display_data"
    }
   ],
   "source": [
    "%%yaml model_cfg  \n",
    "\n",
    "model:\n",
    "  _class: ese.experiment.models.unet.UNet\n",
    "  filters: [64, 64, 64, 64, 64]\n",
    "  convs_per_block: '?' "
   ]
  },
  {
   "cell_type": "code",
   "execution_count": 4,
   "id": "01c7ad0b",
   "metadata": {},
   "outputs": [
    {
     "data": {
      "application/javascript": "\n            require(\n                [\n                    \"notebook/js/codecell\",\n                    \"codemirror/mode/yaml/yaml\"\n                ],\n                function(cc){\n                    cc.CodeCell.options_default.highlight_modes.magic_yaml = {\n                        reg: [\"^%%yaml\"]\n                    }\n                }\n            );\n            ",
      "text/plain": [
       "<IPython.core.display.Javascript object>"
      ]
     },
     "metadata": {},
     "output_type": "display_data"
    }
   ],
   "source": [
    "%%yaml callbacks_cfg\n",
    "\n",
    "callbacks:\n",
    "  step:\n",
    "    - ese.experiment.callbacks.ShowPredictions\n",
    "  epoch:\n",
    "    - ese.experiment.callbacks.WandbLogger\n",
    "    - ionpy.callbacks.ETA\n",
    "    - ionpy.callbacks.JobProgress\n",
    "    - ionpy.callbacks.TerminateOnNaN\n",
    "    - ionpy.callbacks.PrintLogged\n",
    "    - ionpy.callbacks.ModelCheckpoint:\n",
    "        monitor: dice_score\n",
    "        phase: val"
   ]
  },
  {
   "cell_type": "code",
   "execution_count": 5,
   "id": "738b1c2e",
   "metadata": {},
   "outputs": [
    {
     "data": {
      "application/javascript": "\n            require(\n                [\n                    \"notebook/js/codecell\",\n                    \"codemirror/mode/yaml/yaml\"\n                ],\n                function(cc){\n                    cc.CodeCell.options_default.highlight_modes.magic_yaml = {\n                        reg: [\"^%%yaml\"]\n                    }\n                }\n            );\n            ",
      "text/plain": [
       "<IPython.core.display.Javascript object>"
      ]
     },
     "metadata": {},
     "output_type": "display_data"
    }
   ],
   "source": [
    "%%yaml experiment_cfg \n",
    "\n",
    "# name: \"ACDC_SoftDiceLoss\"\n",
    "# name: \"ACDC_PixelCELoss\"\n",
    "# name: \"ACDC_SoftDiceLoss_wSVLS\"\n",
    "name: \"ACDC_PixelCELoss_wSVLS\"\n",
    "\n",
    "## SVLS \n",
    "augmentations:\n",
    "    train:\n",
    "        - ese.experiment.augmentation.SVLS:\n",
    "            ksize: 3\n",
    "            sigma: 1\n",
    "            always_apply: True\n",
    "            include_center: True \n",
    "\n",
    "# Stndard segmentation data augmentation.\n",
    "# augmentations:\n",
    "#     train:\n",
    "#         - albumentations.ElasticTransform:\n",
    "#             alpha: 90 \n",
    "#             sigma: 7 \n",
    "#             alpha_affine: 0 \n",
    "#             p: 0.5\n",
    "#             always_apply: True\n",
    "#         - albumentations.Flip:\n",
    "#             p: 0.5\n",
    "#         - ese.experiment.augmentation.SVLS: # SVLS\n",
    "#             ksize: 3\n",
    "#             sigma: 1\n",
    "#             always_apply: True\n",
    "#             include_center: True \n",
    "\n",
    "experiment:\n",
    "    seed: 40\n",
    "    seed_range: 8\n",
    "\n",
    "data:\n",
    "    _class: \"ese.experiment.datasets.ACDC\"\n",
    "    label_threshold: 0.5\n",
    "    version: 0.1\n",
    "\n",
    "loss_func:\n",
    "    # _class: ese.experiment.losses.SoftDiceLoss\n",
    "    _class: ese.experiment.losses.PixelCELoss"
   ]
  },
  {
   "cell_type": "code",
   "execution_count": 6,
   "id": "8769a35d",
   "metadata": {},
   "outputs": [],
   "source": [
    "# Local imports\n",
    "from ese.experiment.analysis.analysis_utils.submit_utils import get_ese_training_configs \n",
    "\n",
    "# Get the configs for the different runs.\n",
    "base_cfg = Config(default_cfg).update([model_cfg, callbacks_cfg])\n",
    "\n",
    "# Get the different experiment cfg yamls.\n",
    "train_cfgs = get_ese_training_configs(\n",
    "    exp_cfg=experiment_cfg, \n",
    "    base_cfg=base_cfg\n",
    ")"
   ]
  },
  {
   "cell_type": "code",
   "execution_count": 7,
   "id": "d7904470",
   "metadata": {},
   "outputs": [
    {
     "data": {
      "text/plain": [
       "8"
      ]
     },
     "execution_count": 7,
     "metadata": {},
     "output_type": "execute_result"
    }
   ],
   "source": [
    "len(train_cfgs)"
   ]
  },
  {
   "cell_type": "markdown",
   "id": "2225fe62",
   "metadata": {},
   "source": [
    "## Running Jobs"
   ]
  },
  {
   "cell_type": "code",
   "execution_count": 8,
   "id": "edbdcf3d",
   "metadata": {},
   "outputs": [],
   "source": [
    "# ######## FOR DEBUGGIN\n",
    "# from ese.experiment.experiment import run_ese_exp, CalibrationExperiment\n",
    "\n",
    "# run_ese_exp(\n",
    "#     config=train_cfgs[0], \n",
    "#     experiment_class=CalibrationExperiment,\n",
    "#     gpu='0',\n",
    "#     # gpu='4',\n",
    "#     run_name='debug',\n",
    "#     show_examples=True,\n",
    "#     track_wandb=False\n",
    "# )"
   ]
  },
  {
   "cell_type": "code",
   "execution_count": 9,
   "id": "05938b03",
   "metadata": {},
   "outputs": [
    {
     "name": "stderr",
     "output_type": "stream",
     "text": [
      "/local/vbutoi/envs/UniverSegTF/lib/python3.9/site-packages/pydantic/_internal/_fields.py:149: UserWarning: Field \"model_outputs\" has conflict with protected namespace \"model_\".\n",
      "\n",
      "You may be able to resolve this warning by setting `model_config['protected_namespaces'] = ()`.\n",
      "  warnings.warn(\n"
     ]
    },
    {
     "name": "stdout",
     "output_type": "stream",
     "text": [
      "Submitted job id: 1073739 on gpu: 4.\n",
      "Submitted job id: 1074248 on gpu: 5.\n",
      "Submitted job id: 1074367 on gpu: 6.\n",
      "Submitted job id: 1074640 on gpu: 7.\n",
      "Submitted job id: 1074950 on gpu: 4.\n",
      "Submitted job id: 1075334 on gpu: 5.\n",
      "Submitted job id: 1076076 on gpu: 6.\n",
      "Submitted job id: 1076374 on gpu: 7.\n"
     ]
    }
   ],
   "source": [
    "# FOR SUBMISSION\n",
    "from ese.experiment.experiment import submit_ese_exps, CalibrationExperiment \n",
    "\n",
    "submit_ese_exps(\n",
    "    config_list=train_cfgs,\n",
    "    experiment_class=CalibrationExperiment,\n",
    "    # available_gpus=['0', '1', '2', '3'],\n",
    "    available_gpus=['4', '5', '6', '7'],\n",
    "    track_wandb=True\n",
    ")"
   ]
  }
 ],
 "metadata": {
  "kernelspec": {
   "display_name": "UniverSegTF",
   "language": "python",
   "name": "universegtf"
  },
  "language_info": {
   "codemirror_mode": {
    "name": "ipython",
    "version": 3
   },
   "file_extension": ".py",
   "mimetype": "text/x-python",
   "name": "python",
   "nbconvert_exporter": "python",
   "pygments_lexer": "ipython3",
   "version": "3.9.16"
  }
 },
 "nbformat": 4,
 "nbformat_minor": 5
}
