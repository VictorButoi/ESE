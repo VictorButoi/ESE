{
 "cells": [
  {
   "cell_type": "code",
   "execution_count": null,
   "id": "9b121a30",
   "metadata": {},
   "outputs": [],
   "source": [
    "# Random Imports\n",
    "import os\n",
    "import sys\n",
    "sys.path.append('/storage/vbutoi/projects')\n",
    "sys.path.append('/storage/vbutoi/libraries')\n",
    "sys.path.append('/storage/vbutoi/projects/ESE')\n",
    "sys.path.append('/storage/vbutoi/projects/UniverSeg')\n",
    "\n",
    "# Regular schema dictates that we put DATAPATH\n",
    "os.environ['DATAPATH'] = ':'.join((\n",
    "       '/storage/vbutoi/datasets',\n",
    "))\n",
    "os.environ['WANDB_NOTEBOOK_NAME'] = 'train.ipynb'\n",
    "\n",
    "%load_ext yamlmagic\n",
    "%load_ext autoreload\n",
    "%autoreload 2"
   ]
  },
  {
   "cell_type": "markdown",
   "id": "933335cf",
   "metadata": {},
   "source": [
    "## Define said jobs"
   ]
  },
  {
   "cell_type": "code",
   "execution_count": null,
   "id": "ed8ce121",
   "metadata": {},
   "outputs": [],
   "source": [
    "%%yaml default_cfg \n",
    "\n",
    "experiment:\n",
    "  seed: 42\n",
    "    \n",
    "dataloader:\n",
    "  batch_size: 1 \n",
    "  num_workers: 2 \n",
    "  pin_memory: False \n",
    "\n",
    "optim: \n",
    "  _class: torch.optim.Adam\n",
    "  lr: 3.0e-4\n",
    "  weight_decay: 0.0 \n",
    "  \n",
    "# For MultiClass\n",
    "train:\n",
    "  epochs: 100 \n",
    "  eval_freq: 5\n",
    "  augmentations: None\n",
    "\n",
    "log:\n",
    "  checkpoint_freq: 5 \n",
    "  root: '?'\n",
    "  metrics:\n",
    "    dice_score:\n",
    "      _fn: ionpy.metrics.dice_score\n",
    "      from_logits: True\n",
    "      batch_reduction: 'mean' \n",
    "      ignore_index: 0\n",
    "\n",
    "loss_func: \n",
    "  _class: ionpy.loss.SoftDiceLoss\n",
    "  from_logits: True\n",
    "  batch_reduction: 'mean' \n",
    "  ignore_index: 0 # Make sure to ignore the background class\n",
    "\n",
    "# For Binary\n",
    "\n",
    "# train:\n",
    "#   epochs: 500 \n",
    "#   eval_freq: 50\n",
    "\n",
    "# log:\n",
    "#   checkpoint_freq: 50 \n",
    "#   root: '?'\n",
    "#   metrics:\n",
    "#     dice_score:\n",
    "#       _fn: ionpy.metrics.dice_score\n",
    "#       from_logits: True\n",
    "#       batch_reduction: 'mean' \n",
    "\n",
    "# loss_func: \n",
    "#   _class: ionpy.loss.SoftDiceLoss\n",
    "#   from_logits: True\n",
    "#   batch_reduction: 'mean' "
   ]
  },
  {
   "cell_type": "code",
   "execution_count": null,
   "id": "e2ac20c6",
   "metadata": {},
   "outputs": [],
   "source": [
    "%%yaml model_cfg  \n",
    "\n",
    "model:\n",
    "  _class: ese.experiment.models.UNet\n",
    "  filters: '?'\n",
    "  convs_per_block: 3"
   ]
  },
  {
   "cell_type": "code",
   "execution_count": null,
   "id": "07ee95bd",
   "metadata": {},
   "outputs": [],
   "source": [
    "%%yaml dataset_cfg \n",
    "\n",
    "# data:\n",
    "#   _class: ese.experiment.datasets.WMH\n",
    "#   annotator: observer_o12\n",
    "#   axis: 0\n",
    "#   preload: False \n",
    "#   in_channels: 1\n",
    "#   out_channels: 1 \n",
    "#   num_slices: 1\n",
    "#   task: Amsterdam \n",
    "#   version: 0.2\n",
    "\n",
    "data:\n",
    "  _class: ese.experiment.datasets.COCO \n",
    "  in_channels: 3\n",
    "  out_channels: 80"
   ]
  },
  {
   "cell_type": "code",
   "execution_count": null,
   "id": "289c8e7f",
   "metadata": {},
   "outputs": [],
   "source": [
    "%%yaml lite_aug_cfg\n",
    "\n",
    "- RandomAffine:\n",
    "    p: 0.5\n",
    "    degrees: [0, 360]\n",
    "    translate: [0, 0.2]\n",
    "    scale: [0.8, 1.1]\n",
    "- RandomVariableElasticTransform:\n",
    "    p: 0.75\n",
    "    alpha: [1, 2] \n",
    "    sigma: [7, 9]\n",
    "- RandomHorizontalFlip:\n",
    "    p: 0.5\n",
    "- RandomVerticalFlip:\n",
    "    p: 0.5"
   ]
  },
  {
   "cell_type": "code",
   "execution_count": null,
   "id": "ecda7353",
   "metadata": {},
   "outputs": [],
   "source": [
    "%%yaml standard_aug_cfg \n",
    "\n",
    "- RandomCrop:\n",
    "    _class: ese.experiment.augmentation.transforms.RandomCropSegmentation\n",
    "    size: [256, 256]"
   ]
  },
  {
   "cell_type": "code",
   "execution_count": null,
   "id": "01c7ad0b",
   "metadata": {},
   "outputs": [],
   "source": [
    "%%yaml callbacks_cfg\n",
    "\n",
    "callbacks:\n",
    "  step:\n",
    "    - ese.experiment.callbacks.ShowPredictions:\n",
    "        label_cmap: tab10 \n",
    "  epoch:\n",
    "    - ese.experiment.callbacks.WandbLogger\n",
    "    - ionpy.callbacks.ETA\n",
    "    - ionpy.callbacks.JobProgress\n",
    "    - ionpy.callbacks.TerminateOnNaN\n",
    "    - ionpy.callbacks.PrintLogged\n",
    "    - ionpy.callbacks.ModelCheckpoint:\n",
    "        monitor: dice_score\n",
    "        phase: val"
   ]
  },
  {
   "attachments": {},
   "cell_type": "markdown",
   "id": "b506f2fe",
   "metadata": {},
   "source": [
    "## Debug Station"
   ]
  },
  {
   "cell_type": "code",
   "execution_count": null,
   "id": "6f4270fd",
   "metadata": {},
   "outputs": [],
   "source": [
    "# Need to define the experiment name\n",
    "# exp_name = 'COCO_runs'\n",
    "exp_name = 'debug'\n",
    "\n",
    "# Create the ablation options\n",
    "option_set = [\n",
    "    {\n",
    "        'log.root': [f'/storage/vbutoi/scratch/ESE/{exp_name}'],\n",
    "        'dataloader.batch_size': [1],\n",
    "        'optim.lr': [3.0e-4],\n",
    "        'model.filters': [[128, 128, 128, 128, 128]]\n",
    "    },\n",
    "]"
   ]
  },
  {
   "cell_type": "code",
   "execution_count": null,
   "id": "e0e2e8b5",
   "metadata": {},
   "outputs": [],
   "source": [
    "from ese.scripts.utils import get_option_product\n",
    "from ionpy.util import Config\n",
    "\n",
    "\n",
    "# Assemble base config\n",
    "#base_cfg = Config(default_cfg).update(model_cfg).update(dataset_cfg).update(transforms_cfg).update(callbacks_cfg)\n",
    "base_cfg = Config(default_cfg).update([model_cfg, dataset_cfg, callbacks_cfg])\n",
    "\n",
    "# Get the configs\n",
    "cfgs = get_option_product(exp_name, option_set, base_cfg)"
   ]
  },
  {
   "cell_type": "code",
   "execution_count": null,
   "id": "d7904470",
   "metadata": {},
   "outputs": [],
   "source": [
    "len(cfgs)"
   ]
  },
  {
   "cell_type": "markdown",
   "id": "2225fe62",
   "metadata": {},
   "source": [
    "## Running Jobs"
   ]
  },
  {
   "cell_type": "code",
   "execution_count": null,
   "id": "45e2fbb5",
   "metadata": {},
   "outputs": [],
   "source": [
    "# Submit cell\n",
    "from ionpy import slite\n",
    "from ese.experiment.experiment.ese_exp import CalibrationExperiment "
   ]
  },
  {
   "cell_type": "code",
   "execution_count": 12,
   "id": "edbdcf3d",
   "metadata": {},
   "outputs": [
    {
     "ename": "KeyboardInterrupt",
     "evalue": "",
     "output_type": "error",
     "traceback": [
      "\u001b[0;31m---------------------------------------------------------------------------\u001b[0m",
      "\u001b[0;31mKeyboardInterrupt\u001b[0m                         Traceback (most recent call last)",
      "\u001b[1;32m/local/vbutoi/projects/ESE/notebooks/train.ipynb Cell 15\u001b[0m line \u001b[0;36m1\n\u001b[0;32m----> <a href='vscode-notebook-cell://ssh-remote%2Boreo/local/vbutoi/projects/ESE/notebooks/train.ipynb#X20sdnNjb2RlLXJlbW90ZQ%3D%3D?line=0'>1</a>\u001b[0m slite\u001b[39m.\u001b[39;49mrun_exp(\n\u001b[1;32m      <a href='vscode-notebook-cell://ssh-remote%2Boreo/local/vbutoi/projects/ESE/notebooks/train.ipynb#X20sdnNjb2RlLXJlbW90ZQ%3D%3D?line=1'>2</a>\u001b[0m     config\u001b[39m=\u001b[39;49mcfgs[\u001b[39m0\u001b[39;49m], \n\u001b[1;32m      <a href='vscode-notebook-cell://ssh-remote%2Boreo/local/vbutoi/projects/ESE/notebooks/train.ipynb#X20sdnNjb2RlLXJlbW90ZQ%3D%3D?line=2'>3</a>\u001b[0m     exp_class\u001b[39m=\u001b[39;49mCalibrationExperiment,\n\u001b[1;32m      <a href='vscode-notebook-cell://ssh-remote%2Boreo/local/vbutoi/projects/ESE/notebooks/train.ipynb#X20sdnNjb2RlLXJlbW90ZQ%3D%3D?line=3'>4</a>\u001b[0m     gpu\u001b[39m=\u001b[39;49m\u001b[39m'\u001b[39;49m\u001b[39m3\u001b[39;49m\u001b[39m'\u001b[39;49m\n\u001b[1;32m      <a href='vscode-notebook-cell://ssh-remote%2Boreo/local/vbutoi/projects/ESE/notebooks/train.ipynb#X20sdnNjb2RlLXJlbW90ZQ%3D%3D?line=4'>5</a>\u001b[0m )\n",
      "File \u001b[0;32m/storage/vbutoi/projects/ionpy/slite/runner.py:24\u001b[0m, in \u001b[0;36mrun_exp\u001b[0;34m(config, exp_class, gpu)\u001b[0m\n\u001b[1;32m     21\u001b[0m exp \u001b[39m=\u001b[39m exp_class\u001b[39m.\u001b[39mfrom_config(config)\n\u001b[1;32m     23\u001b[0m \u001b[39m# Run the experiment.\u001b[39;00m\n\u001b[0;32m---> 24\u001b[0m exp\u001b[39m.\u001b[39;49mrun()\n",
      "File \u001b[0;32m/storage/vbutoi/projects/ESE/ese/experiment/experiment/ese_exp.py:109\u001b[0m, in \u001b[0;36mCalibrationExperiment.run\u001b[0;34m(self)\u001b[0m\n\u001b[1;32m    108\u001b[0m \u001b[39mdef\u001b[39;00m \u001b[39mrun\u001b[39m(\u001b[39mself\u001b[39m):\n\u001b[0;32m--> 109\u001b[0m     \u001b[39msuper\u001b[39;49m()\u001b[39m.\u001b[39;49mrun()\n",
      "File \u001b[0;32m/storage/vbutoi/projects/ionpy/experiment/train.py:175\u001b[0m, in \u001b[0;36mTrainExperiment.run\u001b[0;34m(self)\u001b[0m\n\u001b[1;32m    173\u001b[0m \u001b[39mprint\u001b[39m(\u001b[39mf\u001b[39m\u001b[39m\"\u001b[39m\u001b[39mStart epoch \u001b[39m\u001b[39m{\u001b[39;00mepoch\u001b[39m}\u001b[39;00m\u001b[39m\"\u001b[39m)\n\u001b[1;32m    174\u001b[0m \u001b[39mself\u001b[39m\u001b[39m.\u001b[39m_epoch \u001b[39m=\u001b[39m epoch\n\u001b[0;32m--> 175\u001b[0m \u001b[39mself\u001b[39;49m\u001b[39m.\u001b[39;49mrun_phase(\u001b[39m\"\u001b[39;49m\u001b[39mtrain\u001b[39;49m\u001b[39m\"\u001b[39;49m, epoch)\n\u001b[1;32m    176\u001b[0m \u001b[39mif\u001b[39;00m eval_freq \u001b[39m>\u001b[39m \u001b[39m0\u001b[39m \u001b[39mand\u001b[39;00m (epoch \u001b[39m%\u001b[39m eval_freq \u001b[39m==\u001b[39m \u001b[39m0\u001b[39m \u001b[39mor\u001b[39;00m epoch \u001b[39m==\u001b[39m epochs \u001b[39m-\u001b[39m \u001b[39m1\u001b[39m):\n\u001b[1;32m    177\u001b[0m     \u001b[39mself\u001b[39m\u001b[39m.\u001b[39mrun_phase(\u001b[39m\"\u001b[39m\u001b[39mval\u001b[39m\u001b[39m\"\u001b[39m, epoch)\n",
      "File \u001b[0;32m/storage/vbutoi/projects/ionpy/experiment/train.py:201\u001b[0m, in \u001b[0;36mTrainExperiment.run_phase\u001b[0;34m(self, phase, epoch)\u001b[0m\n\u001b[1;32m    198\u001b[0m \u001b[39mwith\u001b[39;00m torch\u001b[39m.\u001b[39mset_grad_enabled(grad_enabled):\n\u001b[1;32m    199\u001b[0m     \u001b[39m# with torch.inference_mode(not grad_enabled):\u001b[39;00m\n\u001b[1;32m    200\u001b[0m     \u001b[39mfor\u001b[39;00m batch_idx, batch \u001b[39min\u001b[39;00m \u001b[39menumerate\u001b[39m(dl):\n\u001b[0;32m--> 201\u001b[0m         outputs \u001b[39m=\u001b[39m \u001b[39mself\u001b[39;49m\u001b[39m.\u001b[39;49mrun_step(\n\u001b[1;32m    202\u001b[0m             batch_idx\u001b[39m=\u001b[39;49mbatch_idx,\n\u001b[1;32m    203\u001b[0m             batch\u001b[39m=\u001b[39;49mbatch,\n\u001b[1;32m    204\u001b[0m             backward\u001b[39m=\u001b[39;49mgrad_enabled,\n\u001b[1;32m    205\u001b[0m             augmentation\u001b[39m=\u001b[39;49maugmentation,\n\u001b[1;32m    206\u001b[0m             epoch\u001b[39m=\u001b[39;49mepoch,\n\u001b[1;32m    207\u001b[0m             phase\u001b[39m=\u001b[39;49mphase\n\u001b[1;32m    208\u001b[0m         )\n\u001b[1;32m    209\u001b[0m         metrics \u001b[39m=\u001b[39m \u001b[39mself\u001b[39m\u001b[39m.\u001b[39mcompute_metrics(outputs)\n\u001b[1;32m    210\u001b[0m         meters\u001b[39m.\u001b[39mupdate(metrics)\n",
      "File \u001b[0;32m/storage/vbutoi/projects/ESE/ese/experiment/experiment/ese_exp.py:91\u001b[0m, in \u001b[0;36mCalibrationExperiment.run_step\u001b[0;34m(self, batch_idx, batch, backward, augmentation, epoch, phase)\u001b[0m\n\u001b[1;32m     88\u001b[0m \u001b[39mprint\u001b[39m(loss)\n\u001b[1;32m     90\u001b[0m \u001b[39mif\u001b[39;00m backward:\n\u001b[0;32m---> 91\u001b[0m     loss\u001b[39m.\u001b[39;49mbackward()\n\u001b[1;32m     92\u001b[0m     \u001b[39mself\u001b[39m\u001b[39m.\u001b[39moptim\u001b[39m.\u001b[39mstep()\n\u001b[1;32m     93\u001b[0m     \u001b[39mself\u001b[39m\u001b[39m.\u001b[39moptim\u001b[39m.\u001b[39mzero_grad()\n",
      "File \u001b[0;32m~/envs/UniverSegTF/lib/python3.9/site-packages/torch/_tensor.py:488\u001b[0m, in \u001b[0;36mTensor.backward\u001b[0;34m(self, gradient, retain_graph, create_graph, inputs)\u001b[0m\n\u001b[1;32m    478\u001b[0m \u001b[39mif\u001b[39;00m has_torch_function_unary(\u001b[39mself\u001b[39m):\n\u001b[1;32m    479\u001b[0m     \u001b[39mreturn\u001b[39;00m handle_torch_function(\n\u001b[1;32m    480\u001b[0m         Tensor\u001b[39m.\u001b[39mbackward,\n\u001b[1;32m    481\u001b[0m         (\u001b[39mself\u001b[39m,),\n\u001b[0;32m   (...)\u001b[0m\n\u001b[1;32m    486\u001b[0m         inputs\u001b[39m=\u001b[39minputs,\n\u001b[1;32m    487\u001b[0m     )\n\u001b[0;32m--> 488\u001b[0m torch\u001b[39m.\u001b[39;49mautograd\u001b[39m.\u001b[39;49mbackward(\n\u001b[1;32m    489\u001b[0m     \u001b[39mself\u001b[39;49m, gradient, retain_graph, create_graph, inputs\u001b[39m=\u001b[39;49minputs\n\u001b[1;32m    490\u001b[0m )\n",
      "File \u001b[0;32m~/envs/UniverSegTF/lib/python3.9/site-packages/torch/autograd/__init__.py:197\u001b[0m, in \u001b[0;36mbackward\u001b[0;34m(tensors, grad_tensors, retain_graph, create_graph, grad_variables, inputs)\u001b[0m\n\u001b[1;32m    192\u001b[0m     retain_graph \u001b[39m=\u001b[39m create_graph\n\u001b[1;32m    194\u001b[0m \u001b[39m# The reason we repeat same the comment below is that\u001b[39;00m\n\u001b[1;32m    195\u001b[0m \u001b[39m# some Python versions print out the first line of a multi-line function\u001b[39;00m\n\u001b[1;32m    196\u001b[0m \u001b[39m# calls in the traceback and some print out the last line\u001b[39;00m\n\u001b[0;32m--> 197\u001b[0m Variable\u001b[39m.\u001b[39;49m_execution_engine\u001b[39m.\u001b[39;49mrun_backward(  \u001b[39m# Calls into the C++ engine to run the backward pass\u001b[39;49;00m\n\u001b[1;32m    198\u001b[0m     tensors, grad_tensors_, retain_graph, create_graph, inputs,\n\u001b[1;32m    199\u001b[0m     allow_unreachable\u001b[39m=\u001b[39;49m\u001b[39mTrue\u001b[39;49;00m, accumulate_grad\u001b[39m=\u001b[39;49m\u001b[39mTrue\u001b[39;49;00m)\n",
      "\u001b[0;31mKeyboardInterrupt\u001b[0m: "
     ]
    }
   ],
   "source": [
    "slite.run_exp(\n",
    "    config=cfgs[0], \n",
    "    exp_class=CalibrationExperiment,\n",
    "    gpu='3'\n",
    ")"
   ]
  },
  {
   "cell_type": "code",
   "execution_count": null,
   "id": "05938b03",
   "metadata": {},
   "outputs": [],
   "source": [
    "# Submit the experiments\n",
    "# slite.submit_exps(\n",
    "#     project=\"ESE\",\n",
    "#     exp_name=exp_name,\n",
    "#     exp_class=CalibrationExperiment,\n",
    "#     available_gpus=['0', '1', '2', '3'],\n",
    "#     config_list=cfgs\n",
    "# )"
   ]
  }
 ],
 "metadata": {
  "kernelspec": {
   "display_name": "Python 3",
   "language": "python",
   "name": "python3"
  },
  "language_info": {
   "codemirror_mode": {
    "name": "ipython",
    "version": 3
   },
   "file_extension": ".py",
   "mimetype": "text/x-python",
   "name": "python",
   "nbconvert_exporter": "python",
   "pygments_lexer": "ipython3",
   "version": "3.9.16"
  }
 },
 "nbformat": 4,
 "nbformat_minor": 5
}
