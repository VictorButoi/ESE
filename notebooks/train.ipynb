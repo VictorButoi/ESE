{
 "cells": [
  {
   "cell_type": "code",
   "execution_count": 1,
   "id": "9b121a30",
   "metadata": {},
   "outputs": [],
   "source": [
    "# Random Imports\n",
    "import os\n",
    "import sys\n",
    "sys.path.append('/storage/vbutoi/projects')\n",
    "sys.path.append('/storage/vbutoi/libraries')\n",
    "sys.path.append('/storage/vbutoi/projects/ESE')\n",
    "sys.path.append('/storage/vbutoi/projects/UniverSeg')\n",
    "\n",
    "# Regular schema dictates that we put DATAPATH\n",
    "os.environ['DATAPATH'] = ':'.join((\n",
    "       '/storage/vbutoi/datasets',\n",
    "))\n",
    "os.environ['WANDB_NOTEBOOK_NAME'] = 'train.ipynb'\n",
    "\n",
    "%load_ext yamlmagic\n",
    "%load_ext autoreload\n",
    "%autoreload 2"
   ]
  },
  {
   "cell_type": "markdown",
   "id": "933335cf",
   "metadata": {},
   "source": [
    "## Define said jobs"
   ]
  },
  {
   "cell_type": "code",
   "execution_count": 2,
   "id": "ed8ce121",
   "metadata": {},
   "outputs": [
    {
     "data": {
      "application/javascript": "\n            require(\n                [\n                    \"notebook/js/codecell\",\n                    \"codemirror/mode/yaml/yaml\"\n                ],\n                function(cc){\n                    cc.CodeCell.options_default.highlight_modes.magic_yaml = {\n                        reg: [\"^%%yaml\"]\n                    }\n                }\n            );\n            ",
      "text/plain": [
       "<IPython.core.display.Javascript object>"
      ]
     },
     "metadata": {},
     "output_type": "display_data"
    }
   ],
   "source": [
    "%%yaml default_cfg \n",
    "\n",
    "experiment:\n",
    "  seed: 42\n",
    "    \n",
    "dataloader:\n",
    "  batch_size: 1 \n",
    "  num_workers: 2 \n",
    "  pin_memory: False \n",
    "\n",
    "optim: \n",
    "  _class: torch.optim.Adam\n",
    "  lr: 3.0e-4\n",
    "  weight_decay: 0.0 \n",
    "  \n",
    "# For MultiClass\n",
    "train:\n",
    "  epochs: 100 \n",
    "  eval_freq: 5\n",
    "  augmentations: None\n",
    "\n",
    "log:\n",
    "  checkpoint_freq: 5 \n",
    "  root: '?'\n",
    "  metrics:\n",
    "    dice_score:\n",
    "      _fn: ionpy.metrics.dice_score\n",
    "      from_logits: True\n",
    "      batch_reduction: 'mean' \n",
    "      ignore_index: 0\n",
    "\n",
    "loss_func: \n",
    "  _class: ionpy.loss.SoftDiceLoss\n",
    "  from_logits: True\n",
    "  batch_reduction: 'mean' \n",
    "  ignore_index: 0 # Make sure to ignore the background class\n",
    "\n",
    "# For Binary\n",
    "\n",
    "# train:\n",
    "#   epochs: 500 \n",
    "#   eval_freq: 50\n",
    "\n",
    "# log:\n",
    "#   checkpoint_freq: 50 \n",
    "#   root: '?'\n",
    "#   metrics:\n",
    "#     dice_score:\n",
    "#       _fn: ionpy.metrics.dice_score\n",
    "#       from_logits: True\n",
    "#       batch_reduction: 'mean' \n",
    "\n",
    "# loss_func: \n",
    "#   _class: ionpy.loss.SoftDiceLoss\n",
    "#   from_logits: True\n",
    "#   batch_reduction: 'mean' "
   ]
  },
  {
   "cell_type": "code",
   "execution_count": 3,
   "id": "e2ac20c6",
   "metadata": {},
   "outputs": [
    {
     "data": {
      "application/javascript": "\n            require(\n                [\n                    \"notebook/js/codecell\",\n                    \"codemirror/mode/yaml/yaml\"\n                ],\n                function(cc){\n                    cc.CodeCell.options_default.highlight_modes.magic_yaml = {\n                        reg: [\"^%%yaml\"]\n                    }\n                }\n            );\n            ",
      "text/plain": [
       "<IPython.core.display.Javascript object>"
      ]
     },
     "metadata": {},
     "output_type": "display_data"
    }
   ],
   "source": [
    "%%yaml model_cfg  \n",
    "\n",
    "model:\n",
    "  _class: ese.experiment.models.UNet\n",
    "  filters: '?'\n",
    "  convs_per_block: 3"
   ]
  },
  {
   "cell_type": "code",
   "execution_count": 4,
   "id": "07ee95bd",
   "metadata": {},
   "outputs": [
    {
     "data": {
      "application/javascript": "\n            require(\n                [\n                    \"notebook/js/codecell\",\n                    \"codemirror/mode/yaml/yaml\"\n                ],\n                function(cc){\n                    cc.CodeCell.options_default.highlight_modes.magic_yaml = {\n                        reg: [\"^%%yaml\"]\n                    }\n                }\n            );\n            ",
      "text/plain": [
       "<IPython.core.display.Javascript object>"
      ]
     },
     "metadata": {},
     "output_type": "display_data"
    }
   ],
   "source": [
    "%%yaml dataset_cfg \n",
    "\n",
    "# data:\n",
    "#   _class: ese.experiment.datasets.WMH\n",
    "#   annotator: observer_o12\n",
    "#   axis: 0\n",
    "#   preload: False \n",
    "#   num_slices: 1\n",
    "#   task: Amsterdam \n",
    "#   version: 0.2\n",
    "#   in_channels: 1\n",
    "#   out_channels: 1 \n",
    "\n",
    "# data:\n",
    "#   _class: ese.experiment.datasets.COCO \n",
    "#   in_channels: 3\n",
    "#   out_channels: 80\n",
    "\n",
    "data:\n",
    "  _class: ese.experiment.datasets.OxfordPets\n",
    "  preload: True\n",
    "  version: 0.1\n",
    "  in_channels: 3\n",
    "  out_channels: 1"
   ]
  },
  {
   "cell_type": "code",
   "execution_count": 5,
   "id": "289c8e7f",
   "metadata": {},
   "outputs": [],
   "source": [
    "# %%yaml lite_aug_cfg\n",
    "\n",
    "# - RandomAffine:\n",
    "#     p: 0.5\n",
    "#     degrees: [0, 360]\n",
    "#     translate: [0, 0.2]\n",
    "#     scale: [0.8, 1.1]\n",
    "# - RandomVariableElasticTransform:\n",
    "#     p: 0.75\n",
    "#     alpha: [1, 2] \n",
    "#     sigma: [7, 9]\n",
    "# - RandomHorizontalFlip:\n",
    "#     p: 0.5\n",
    "# - RandomVerticalFlip:\n",
    "#     p: 0.5"
   ]
  },
  {
   "cell_type": "code",
   "execution_count": 6,
   "id": "ecda7353",
   "metadata": {},
   "outputs": [
    {
     "data": {
      "application/javascript": "\n            require(\n                [\n                    \"notebook/js/codecell\",\n                    \"codemirror/mode/yaml/yaml\"\n                ],\n                function(cc){\n                    cc.CodeCell.options_default.highlight_modes.magic_yaml = {\n                        reg: [\"^%%yaml\"]\n                    }\n                }\n            );\n            ",
      "text/plain": [
       "<IPython.core.display.Javascript object>"
      ]
     },
     "metadata": {},
     "output_type": "display_data"
    }
   ],
   "source": [
    "%%yaml standard_aug_cfg \n",
    "\n",
    "- RandomCrop:\n",
    "    _class: ese.experiment.augmentation.transforms.RandomCropSegmentation\n",
    "    size: [256, 256]"
   ]
  },
  {
   "cell_type": "code",
   "execution_count": 7,
   "id": "01c7ad0b",
   "metadata": {},
   "outputs": [
    {
     "data": {
      "application/javascript": "\n            require(\n                [\n                    \"notebook/js/codecell\",\n                    \"codemirror/mode/yaml/yaml\"\n                ],\n                function(cc){\n                    cc.CodeCell.options_default.highlight_modes.magic_yaml = {\n                        reg: [\"^%%yaml\"]\n                    }\n                }\n            );\n            ",
      "text/plain": [
       "<IPython.core.display.Javascript object>"
      ]
     },
     "metadata": {},
     "output_type": "display_data"
    }
   ],
   "source": [
    "%%yaml callbacks_cfg\n",
    "\n",
    "callbacks:\n",
    "  step:\n",
    "    - ese.experiment.callbacks.ShowPredictions:\n",
    "        label_cmap: tab10 \n",
    "  epoch:\n",
    "    - ese.experiment.callbacks.WandbLogger\n",
    "    - ionpy.callbacks.ETA\n",
    "    - ionpy.callbacks.JobProgress\n",
    "    - ionpy.callbacks.TerminateOnNaN\n",
    "    - ionpy.callbacks.PrintLogged\n",
    "    - ionpy.callbacks.ModelCheckpoint:\n",
    "        monitor: dice_score\n",
    "        phase: val"
   ]
  },
  {
   "attachments": {},
   "cell_type": "markdown",
   "id": "b506f2fe",
   "metadata": {},
   "source": [
    "## Debug Station"
   ]
  },
  {
   "cell_type": "code",
   "execution_count": 8,
   "id": "6f4270fd",
   "metadata": {},
   "outputs": [],
   "source": [
    "# Need to define the experiment name\n",
    "# exp_name = 'COCO_runs'\n",
    "exp_name = 'debug'\n",
    "\n",
    "# Create the ablation options\n",
    "option_set = [\n",
    "    {\n",
    "        'log.root': [f'/storage/vbutoi/scratch/ESE/{exp_name}'],\n",
    "        # 'augmentations': [standard_aug_cfg],\n",
    "        'dataloader.batch_size': [1],\n",
    "        'optim.lr': [3.0e-4],\n",
    "        'model.filters': [[128, 128, 128, 128, 128]]\n",
    "    },\n",
    "]"
   ]
  },
  {
   "cell_type": "code",
   "execution_count": 9,
   "id": "e0e2e8b5",
   "metadata": {},
   "outputs": [],
   "source": [
    "from ese.scripts.utils import get_option_product\n",
    "from ionpy.util import Config\n",
    "\n",
    "\n",
    "# Assemble base config\n",
    "#base_cfg = Config(default_cfg).update(model_cfg).update(dataset_cfg).update(transforms_cfg).update(callbacks_cfg)\n",
    "base_cfg = Config(default_cfg).update([model_cfg, dataset_cfg, callbacks_cfg])\n",
    "\n",
    "# Get the configs\n",
    "cfgs = get_option_product(exp_name, option_set, base_cfg)"
   ]
  },
  {
   "cell_type": "code",
   "execution_count": 10,
   "id": "d7904470",
   "metadata": {},
   "outputs": [
    {
     "data": {
      "text/plain": [
       "1"
      ]
     },
     "execution_count": 10,
     "metadata": {},
     "output_type": "execute_result"
    }
   ],
   "source": [
    "len(cfgs)"
   ]
  },
  {
   "cell_type": "markdown",
   "id": "2225fe62",
   "metadata": {},
   "source": [
    "## Running Jobs"
   ]
  },
  {
   "cell_type": "code",
   "execution_count": 11,
   "id": "45e2fbb5",
   "metadata": {},
   "outputs": [],
   "source": [
    "# Submit cell\n",
    "from ionpy import slite\n",
    "from ese.experiment.experiment.ese_exp import CalibrationExperiment "
   ]
  },
  {
   "cell_type": "code",
   "execution_count": 12,
   "id": "edbdcf3d",
   "metadata": {},
   "outputs": [
    {
     "ename": "TypeError",
     "evalue": "__init__() got an unexpected keyword argument '_class'",
     "output_type": "error",
     "traceback": [
      "\u001b[0;31m---------------------------------------------------------------------------\u001b[0m",
      "\u001b[0;31mTypeError\u001b[0m                                 Traceback (most recent call last)",
      "\u001b[1;32m/local/vbutoi/projects/ESE/notebooks/train.ipynb Cell 15\u001b[0m line \u001b[0;36m1\n\u001b[0;32m----> <a href='vscode-notebook-cell://ssh-remote%2Boreo/local/vbutoi/projects/ESE/notebooks/train.ipynb#X20sdnNjb2RlLXJlbW90ZQ%3D%3D?line=0'>1</a>\u001b[0m slite\u001b[39m.\u001b[39;49mrun_exp(\n\u001b[1;32m      <a href='vscode-notebook-cell://ssh-remote%2Boreo/local/vbutoi/projects/ESE/notebooks/train.ipynb#X20sdnNjb2RlLXJlbW90ZQ%3D%3D?line=1'>2</a>\u001b[0m     config\u001b[39m=\u001b[39;49mcfgs[\u001b[39m0\u001b[39;49m], \n\u001b[1;32m      <a href='vscode-notebook-cell://ssh-remote%2Boreo/local/vbutoi/projects/ESE/notebooks/train.ipynb#X20sdnNjb2RlLXJlbW90ZQ%3D%3D?line=2'>3</a>\u001b[0m     exp_class\u001b[39m=\u001b[39;49mCalibrationExperiment,\n\u001b[1;32m      <a href='vscode-notebook-cell://ssh-remote%2Boreo/local/vbutoi/projects/ESE/notebooks/train.ipynb#X20sdnNjb2RlLXJlbW90ZQ%3D%3D?line=3'>4</a>\u001b[0m     gpu\u001b[39m=\u001b[39;49m\u001b[39m'\u001b[39;49m\u001b[39m3\u001b[39;49m\u001b[39m'\u001b[39;49m\n\u001b[1;32m      <a href='vscode-notebook-cell://ssh-remote%2Boreo/local/vbutoi/projects/ESE/notebooks/train.ipynb#X20sdnNjb2RlLXJlbW90ZQ%3D%3D?line=4'>5</a>\u001b[0m )\n",
      "File \u001b[0;32m/storage/vbutoi/projects/ionpy/slite/runner.py:21\u001b[0m, in \u001b[0;36mrun_exp\u001b[0;34m(config, exp_class, gpu)\u001b[0m\n\u001b[1;32m     18\u001b[0m os\u001b[39m.\u001b[39menviron[\u001b[39m\"\u001b[39m\u001b[39mCUDA_VISIBLE_DEVICES\u001b[39m\u001b[39m\"\u001b[39m] \u001b[39m=\u001b[39m \u001b[39mstr\u001b[39m(gpu)\n\u001b[1;32m     20\u001b[0m \u001b[39m# Setup the experiment.\u001b[39;00m\n\u001b[0;32m---> 21\u001b[0m exp \u001b[39m=\u001b[39m exp_class\u001b[39m.\u001b[39;49mfrom_config(config)\n\u001b[1;32m     23\u001b[0m \u001b[39m# Run the experiment.\u001b[39;00m\n\u001b[1;32m     24\u001b[0m exp\u001b[39m.\u001b[39mrun()\n",
      "File \u001b[0;32m/storage/vbutoi/projects/ionpy/experiment/base.py:74\u001b[0m, in \u001b[0;36mBaseExperiment.from_config\u001b[0;34m(cls, config)\u001b[0m\n\u001b[1;32m     71\u001b[0m autosave(metadata, path \u001b[39m/\u001b[39m \u001b[39m\"\u001b[39m\u001b[39mmetadata.json\u001b[39m\u001b[39m\"\u001b[39m)\n\u001b[1;32m     73\u001b[0m autosave(config, path \u001b[39m/\u001b[39m \u001b[39m\"\u001b[39m\u001b[39mconfig.yml\u001b[39m\u001b[39m\"\u001b[39m)\n\u001b[0;32m---> 74\u001b[0m \u001b[39mreturn\u001b[39;00m \u001b[39mcls\u001b[39;49m(\u001b[39mstr\u001b[39;49m(path\u001b[39m.\u001b[39;49mabsolute()))\n",
      "File \u001b[0;32m/storage/vbutoi/projects/ionpy/experiment/train.py:29\u001b[0m, in \u001b[0;36mTrainExperiment.__init__\u001b[0;34m(self, path)\u001b[0m\n\u001b[1;32m     27\u001b[0m \u001b[39mself\u001b[39m\u001b[39m.\u001b[39mbuild_loss()\n\u001b[1;32m     28\u001b[0m \u001b[39mself\u001b[39m\u001b[39m.\u001b[39mbuild_metrics()\n\u001b[0;32m---> 29\u001b[0m \u001b[39mself\u001b[39;49m\u001b[39m.\u001b[39;49mbuild_augmentations()\n",
      "File \u001b[0;32m/storage/vbutoi/projects/ESE/ese/experiment/experiment/ese_exp.py:27\u001b[0m, in \u001b[0;36mCalibrationExperiment.build_augmentations\u001b[0;34m(self)\u001b[0m\n\u001b[1;32m     24\u001b[0m \u001b[39mif\u001b[39;00m \u001b[39m\"\u001b[39m\u001b[39maugmentations\u001b[39m\u001b[39m\"\u001b[39m \u001b[39min\u001b[39;00m \u001b[39mself\u001b[39m\u001b[39m.\u001b[39mconfig:\n\u001b[1;32m     26\u001b[0m     aug_cfg \u001b[39m=\u001b[39m \u001b[39mself\u001b[39m\u001b[39m.\u001b[39mconfig\u001b[39m.\u001b[39mto_dict()[\u001b[39m\"\u001b[39m\u001b[39maugmentations\u001b[39m\u001b[39m\"\u001b[39m]\n\u001b[0;32m---> 27\u001b[0m     \u001b[39mself\u001b[39m\u001b[39m.\u001b[39maug_pipeline \u001b[39m=\u001b[39m augmentations_from_config(aug_cfg)\n\u001b[1;32m     29\u001b[0m     \u001b[39mself\u001b[39m\u001b[39m.\u001b[39mproperties[\u001b[39m\"\u001b[39m\u001b[39maug_digest\u001b[39m\u001b[39m\"\u001b[39m] \u001b[39m=\u001b[39m json_digest(\u001b[39mself\u001b[39m\u001b[39m.\u001b[39mconfig[\u001b[39m\"\u001b[39m\u001b[39maugmentations\u001b[39m\u001b[39m\"\u001b[39m])[\n\u001b[1;32m     30\u001b[0m         :\u001b[39m8\u001b[39m\n\u001b[1;32m     31\u001b[0m     ]\n",
      "File \u001b[0;32m/storage/vbutoi/projects/ESE/ese/experiment/augmentation/transforms.py:22\u001b[0m, in \u001b[0;36maugmentations_from_config\u001b[0;34m(config)\u001b[0m\n\u001b[1;32m     20\u001b[0m             random_apply \u001b[39m=\u001b[39m params\n\u001b[1;32m     21\u001b[0m         \u001b[39melse\u001b[39;00m:\n\u001b[0;32m---> 22\u001b[0m             augmentations\u001b[39m.\u001b[39mappend(\u001b[39mgetattr\u001b[39;49m(paired, name)(\u001b[39m*\u001b[39;49m\u001b[39m*\u001b[39;49mparams))\n\u001b[1;32m     24\u001b[0m \u001b[39mreturn\u001b[39;00m SegmentationSequential(\u001b[39m*\u001b[39maugmentations, random_apply\u001b[39m=\u001b[39mrandom_apply)\n",
      "File \u001b[0;32m/storage/vbutoi/projects/ESE/ese/experiment/augmentation/paired.py:49\u001b[0m, in \u001b[0;36m_from_individual_aug.<locals>.Wrapper.__init__\u001b[0;34m(self, *args, **kwargs)\u001b[0m\n\u001b[1;32m     47\u001b[0m \u001b[39mdef\u001b[39;00m \u001b[39m__init__\u001b[39m(\u001b[39mself\u001b[39m, \u001b[39m*\u001b[39margs, \u001b[39m*\u001b[39m\u001b[39m*\u001b[39mkwargs):\n\u001b[1;32m     48\u001b[0m     \u001b[39msuper\u001b[39m()\u001b[39m.\u001b[39m\u001b[39m__init__\u001b[39m()\n\u001b[0;32m---> 49\u001b[0m     \u001b[39mself\u001b[39m\u001b[39m.\u001b[39maug \u001b[39m=\u001b[39m module(\u001b[39m*\u001b[39;49margs, \u001b[39m*\u001b[39;49m\u001b[39m*\u001b[39;49mkwargs)\n",
      "\u001b[0;31mTypeError\u001b[0m: __init__() got an unexpected keyword argument '_class'"
     ]
    }
   ],
   "source": [
    "slite.run_exp(\n",
    "    config=cfgs[0], \n",
    "    exp_class=CalibrationExperiment,\n",
    "    gpu='3'\n",
    ")"
   ]
  },
  {
   "cell_type": "code",
   "execution_count": null,
   "id": "05938b03",
   "metadata": {},
   "outputs": [],
   "source": [
    "# Submit the experiments\n",
    "# slite.submit_exps(\n",
    "#     project=\"ESE\",\n",
    "#     exp_name=exp_name,\n",
    "#     exp_class=CalibrationExperiment,\n",
    "#     available_gpus=['0', '1', '2', '3'],\n",
    "#     config_list=cfgs\n",
    "# )"
   ]
  }
 ],
 "metadata": {
  "kernelspec": {
   "display_name": "Python 3",
   "language": "python",
   "name": "python3"
  },
  "language_info": {
   "codemirror_mode": {
    "name": "ipython",
    "version": 3
   },
   "file_extension": ".py",
   "mimetype": "text/x-python",
   "name": "python",
   "nbconvert_exporter": "python",
   "pygments_lexer": "ipython3",
   "version": "3.9.16"
  }
 },
 "nbformat": 4,
 "nbformat_minor": 5
}
