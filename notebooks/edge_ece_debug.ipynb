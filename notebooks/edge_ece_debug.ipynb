{
 "cells": [
  {
   "cell_type": "code",
   "execution_count": 1,
   "metadata": {},
   "outputs": [
    {
     "name": "stderr",
     "output_type": "stream",
     "text": [
      "/local/vbutoi/envs/UniverSegTF/lib/python3.9/site-packages/pydantic/_internal/_fields.py:149: UserWarning: Field \"model_outputs\" has conflict with protected namespace \"model_\".\n",
      "\n",
      "You may be able to resolve this warning by setting `model_config['protected_namespaces'] = ()`.\n",
      "  warnings.warn(\n"
     ]
    }
   ],
   "source": [
    "import yaml\n",
    "from pathlib import Path\n",
    "from ese.experiment.analysis.analysis_utils.inference_utils import preload_calibration_metrics\n",
    "\n",
    "code_root = Path(\"/storage/vbutoi/projects/ESE\")\n",
    "scratch_root = Path(\"/storage/vbutoi/scratch/ESE/inference/02_19_24_WMH_SmoothNectar\")\n",
    "\n",
    "# For using code without restarting.\n",
    "%load_ext autoreload\n",
    "%autoreload 2\n",
    "# For using yaml configs.\n",
    "%load_ext yamlmagic"
   ]
  },
  {
   "cell_type": "code",
   "execution_count": 2,
   "metadata": {},
   "outputs": [
    {
     "data": {
      "application/javascript": "\n            require(\n                [\n                    \"notebook/js/codecell\",\n                    \"codemirror/mode/yaml/yaml\"\n                ],\n                function(cc){\n                    cc.CodeCell.options_default.highlight_modes.magic_yaml = {\n                        reg: [\"^%%yaml\"]\n                    }\n                }\n            );\n            ",
      "text/plain": [
       "<IPython.core.display.Javascript object>"
      ]
     },
     "metadata": {},
     "output_type": "display_data"
    }
   ],
   "source": [
    "%%yaml cal_cfg \n",
    "\n",
    "global_calibration:\n",
    "    num_prob_bins: 15\n",
    "    num_classes: 2\n",
    "    neighborhood_width: 3\n",
    "    square_diff: False "
   ]
  },
  {
   "cell_type": "code",
   "execution_count": 3,
   "metadata": {},
   "outputs": [],
   "source": [
    "# Load the inference cfg from local.\n",
    "##################################################\n",
    "inf_cfg_root = code_root / \"ese\" / \"experiment\" / \"configs\" / \"inference\"\n",
    "##################################################\n",
    "with open(inf_cfg_root / \"Debug_Metrics.yaml\", 'r') as file:\n",
    "    cal_metrics_cfg = yaml.safe_load(file)\n",
    "\n",
    "cal_metrics_cfg[\"global_cal_metrics\"] = preload_calibration_metrics(\n",
    "    base_cal_cfg=cal_cfg[\"global_calibration\"],\n",
    "    cal_metrics_dict=cal_metrics_cfg[\"global_cal_metrics\"]\n",
    ")"
   ]
  },
  {
   "cell_type": "markdown",
   "metadata": {},
   "source": [
    "## Pick the product of the probs. "
   ]
  },
  {
   "cell_type": "code",
   "execution_count": 4,
   "metadata": {},
   "outputs": [],
   "source": [
    "import pickle \n",
    "\n",
    "def load_pkl(f_name):\n",
    "    with open(f_name, 'rb') as f:\n",
    "       return pickle.load(f)"
   ]
  },
  {
   "cell_type": "code",
   "execution_count": 5,
   "metadata": {},
   "outputs": [],
   "source": [
    "ind_tl_uncalibrated_dir = scratch_root / \"WMH_Individual_Uncalibrated\" / \"20240219_104110-WJRG-edd491052db5c8a6e51df561e715e271\" / \"tl_pixel_meter_dict.pkl\"\n",
    "ind_tl_nectar_scaling_dir = scratch_root / \"WMH_Individual_NectarScaling\" / \"20240218_111136-SAL0-ee42c17246fe42ced961b717f000d4a9\" / \"tl_pixel_meter_dict.pkl\"\n",
    "ind_tl_hard_nectar_binning_dir = scratch_root / \"WMH_Individual_NectarBinning\" / \"20240219_123236-QKA7-11bdebd0a8159f669a5aa7cac80ca92f\" / \"tl_pixel_meter_dict.pkl\"\n",
    "ind_tl_soft_nectar_binning_dir = scratch_root / \"WMH_Individual_SoftNectarBinning\" / \"20240219_123301-3E9G-70144130c84b525b784f83f67e37b067\"/ \"tl_pixel_meter_dict.pkl\" \n",
    "\n",
    "ind_classwise_uncalibrated_dir = scratch_root / \"WMH_Individual_Uncalibrated\" / \"20240219_104110-WJRG-edd491052db5c8a6e51df561e715e271\" / \"cw_pixel_meter_dict.pkl\"\n",
    "ind_classwise_nectar_scaling_dir = scratch_root / \"WMH_Individual_NectarScaling\" / \"20240218_111136-SAL0-ee42c17246fe42ced961b717f000d4a9\" / \"cw_pixel_meter_dict.pkl\"\n",
    "ind_classwise_hard_nectar_binning_dir = scratch_root / \"WMH_Individual_NectarBinning\" / \"20240219_123236-QKA7-11bdebd0a8159f669a5aa7cac80ca92f\" / \"cw_pixel_meter_dict.pkl\"\n",
    "ind_classwise_soft_nectar_binning_dir = scratch_root / \"WMH_Individual_SoftNectarBinning\" / \"20240219_123301-3E9G-70144130c84b525b784f83f67e37b067\"/ \"cw_pixel_meter_dict.pkl\" "
   ]
  },
  {
   "cell_type": "code",
   "execution_count": 6,
   "metadata": {},
   "outputs": [],
   "source": [
    "ind_calibrator_dict = {\n",
    "    \"Uncalibrated\": {\n",
    "        \"top_label\": load_pkl(ind_tl_uncalibrated_dir),\n",
    "        \"classwise\": load_pkl(ind_classwise_uncalibrated_dir)\n",
    "    },\n",
    "    \"NectarScaling\": {\n",
    "        \"top_label\": load_pkl(ind_tl_nectar_scaling_dir),\n",
    "        \"classwise\": load_pkl(ind_classwise_nectar_scaling_dir)\n",
    "    },\n",
    "    \"HardNectarBinning\": {\n",
    "        \"top_label\": load_pkl(ind_tl_hard_nectar_binning_dir),\n",
    "        \"classwise\": load_pkl(ind_classwise_hard_nectar_binning_dir)\n",
    "    },\n",
    "    \"SoftNectarBinning\": {\n",
    "        \"top_label\": load_pkl(ind_tl_soft_nectar_binning_dir),\n",
    "        \"classwise\": load_pkl(ind_classwise_soft_nectar_binning_dir)\n",
    "    },\n",
    "}"
   ]
  },
  {
   "cell_type": "code",
   "execution_count": 7,
   "metadata": {},
   "outputs": [],
   "source": [
    "# # Loop through the calibration metrics and add them to the dataframe.\n",
    "# for cal_metric_name, cal_metric_dict in cal_metrics_cfg[\"global_cal_metrics\"].items():\n",
    "#     for calibrator in ind_calibrator_dict:\n",
    "#         for split in [\"cal\"]:\n",
    "#             cal_type = cal_metric_dict['cal_type']\n",
    "#             if cal_type in [\"classwise\", \"toplabel\"]:\n",
    "#                 print(f\"CALIBRATOR:{calibrator}\")\n",
    "#                 if cal_type == 'classwise':\n",
    "#                     cal_info = cal_metric_dict['_fn'](\n",
    "#                         pixel_meters_dict=ind_calibrator_dict[calibrator][\"classwise\"][split],\n",
    "#                         return_dict=True\n",
    "#                     )\n",
    "#                 else:\n",
    "#                     cal_info = cal_metric_dict['_fn'](\n",
    "#                         pixel_meters_dict=ind_calibrator_dict[calibrator][\"top_label\"][split],\n",
    "#                         return_dict=True\n",
    "#                     )\n",
    "#                 print(f\"Global Bin counts: (Total: {cal_info['bin_amounts'].sum()})\")\n",
    "#                 print(cal_info[\"bin_amounts\"])\n",
    "#                 print()\n",
    "#                 print(\"Global Freqs:\")\n",
    "#                 print(cal_info[\"bin_freqs\"])\n",
    "#                 print()\n",
    "#                 print(\"Global Confs:\")\n",
    "#                 print(cal_info[\"bin_confs\"])\n",
    "#                 print()\n",
    "#                 print(\"Global Bin cal errors:\")\n",
    "#                 print(cal_info[\"bin_cal_errors\"])\n",
    "#                 print()\n",
    "#                 print(\"SPLIT:{} | CALIBRATION METRIC:{} | LOSS:{}\".format(\n",
    "#                     split, cal_metric_name, cal_info['cal_error']\n",
    "#                 ))\n",
    "#                 print()\n",
    "#                 print()\n",
    "#             else:\n",
    "#                 raise ValueError(f\"Calibration type {cal_metric_dict['cal_type']} not recognized.\")"
   ]
  },
  {
   "cell_type": "markdown",
   "metadata": {},
   "source": [
    "## Looking at the Ensemble Methods."
   ]
  },
  {
   "cell_type": "code",
   "execution_count": 8,
   "metadata": {},
   "outputs": [],
   "source": [
    "ens_tl_uncalibrated_dir = scratch_root / \"WMH_Ensemble_Uncalibrated\" / \"20240219_104201-BKCC-a7f56d80c4bf65f817a1cb4dc10d85b2\" / \"tl_pixel_meter_dict.pkl\"\n",
    "ens_tl_nectar_scaling_dir = scratch_root / \"WMH_Ensemble_NectarScaling\" / \"20240218_111255-UBCH-995007dddba34d84eb7ae0aa6406373c\" / \"tl_pixel_meter_dict.pkl\"\n",
    "ens_tl_hard_nectar_binning_dir = scratch_root / \"WMH_Ensemble_NectarBinning\" / \"20240219_123424-J8FG-669764637a558a02fa9f296ad0470121\" / \"tl_pixel_meter_dict.pkl\"\n",
    "ens_tl_soft_nectar_binning_dir = scratch_root / \"WMH_Ensemble_SoftNectarBinning\" / \"20240219_123443-KR38-006b299497cfbed50526e828ad1d123a\"/ \"tl_pixel_meter_dict.pkl\" \n",
    "\n",
    "ens_classwise_uncalibrated_dir = scratch_root / \"WMH_Ensemble_Uncalibrated\" / \"20240219_104201-BKCC-a7f56d80c4bf65f817a1cb4dc10d85b2\" / \"cw_pixel_meter_dict.pkl\"\n",
    "ens_classwise_nectar_scaling_dir = scratch_root / \"WMH_Ensemble_NectarScaling\" / \"20240218_111255-UBCH-995007dddba34d84eb7ae0aa6406373c\" / \"cw_pixel_meter_dict.pkl\"\n",
    "ens_classwise_hard_nectar_binning_dir = scratch_root / \"WMH_Ensemble_NectarBinning\" / \"20240219_123424-J8FG-669764637a558a02fa9f296ad0470121\" / \"cw_pixel_meter_dict.pkl\"\n",
    "ens_classwise_soft_nectar_binning_dir = scratch_root / \"WMH_Ensemble_SoftNectarBinning\" / \"20240219_123443-KR38-006b299497cfbed50526e828ad1d123a\"/ \"cw_pixel_meter_dict.pkl\" "
   ]
  },
  {
   "cell_type": "code",
   "execution_count": 9,
   "metadata": {},
   "outputs": [],
   "source": [
    "ensemble_calibrator_dict = {\n",
    "    \"Uncalibrated\": {\n",
    "        \"top_label\": load_pkl(ens_tl_uncalibrated_dir),\n",
    "        \"classwise\": load_pkl(ens_classwise_uncalibrated_dir)\n",
    "    },\n",
    "    \"NectarScaling\": {\n",
    "        \"top_label\": load_pkl(ens_tl_nectar_scaling_dir),\n",
    "        \"classwise\": load_pkl(ens_classwise_nectar_scaling_dir)\n",
    "    },\n",
    "    \"HardNectarBinning\": {\n",
    "        \"top_label\": load_pkl(ens_tl_hard_nectar_binning_dir),\n",
    "        \"classwise\": load_pkl(ens_classwise_hard_nectar_binning_dir)\n",
    "    },\n",
    "    \"SoftNectarBinning\": {\n",
    "        \"top_label\": load_pkl(ens_tl_soft_nectar_binning_dir),\n",
    "        \"classwise\": load_pkl(ens_classwise_soft_nectar_binning_dir)\n",
    "    },\n",
    "}"
   ]
  },
  {
   "cell_type": "code",
   "execution_count": 10,
   "metadata": {},
   "outputs": [
    {
     "name": "stdout",
     "output_type": "stream",
     "text": [
      "CALIBRATOR:Uncalibrated\n",
      "Global Bin counts: (Total: 172527.0)\n",
      "tensor([10341.,  4479.,  4503.,  4504.,  4727.,  4858.,  5176.,  5512.,  5935.,\n",
      "         6610.,  7482.,  8851., 10782., 16202., 72565.], dtype=torch.float64)\n",
      "\n",
      "Global Freqs:\n",
      "tensor([0.5306, 0.5490, 0.5587, 0.5564, 0.5949, 0.5955, 0.6148, 0.6386, 0.6492,\n",
      "        0.6871, 0.6921, 0.7233, 0.7468, 0.7802, 0.8572], dtype=torch.float64)\n",
      "\n",
      "Global Confs:\n",
      "tensor([0.4797, 0.5498, 0.5835, 0.6166, 0.6501, 0.6833, 0.7169, 0.7501, 0.7835,\n",
      "        0.8168, 0.8506, 0.8838, 0.9174, 0.9514, 0.9915], dtype=torch.float64)\n",
      "\n",
      "Global Bin cal errors:\n",
      "tensor([0.0509, 0.0008, 0.0248, 0.0602, 0.0552, 0.0878, 0.1022, 0.1115, 0.1343,\n",
      "        0.1296, 0.1585, 0.1604, 0.1706, 0.1712, 0.1343], dtype=torch.float64)\n",
      "\n",
      "SPLIT:cal | CALIBRATION METRIC:Edge-ECE | LOSS:0.12381500538003261\n",
      "\n",
      "\n",
      "CALIBRATOR:NectarScaling\n",
      "Global Bin counts: (Total: 172527.0)\n",
      "tensor([11042.,  6230.,  7012.,  8415.,  9912., 11522., 12633., 13589., 14191.,\n",
      "        14443., 15296., 16757., 16591., 11381.,  3513.], dtype=torch.float64)\n",
      "\n",
      "Global Freqs:\n",
      "tensor([0.5455, 0.5520, 0.5783, 0.5939, 0.6317, 0.6670, 0.7073, 0.7499, 0.7765,\n",
      "        0.8024, 0.8253, 0.8433, 0.8770, 0.9095, 0.8921], dtype=torch.float64)\n",
      "\n",
      "Global Confs:\n",
      "tensor([0.4975, 0.5502, 0.5837, 0.6171, 0.6506, 0.6836, 0.7169, 0.7501, 0.7836,\n",
      "        0.8168, 0.8502, 0.8836, 0.9162, 0.9481, 0.9804], dtype=torch.float64)\n",
      "\n",
      "Global Bin cal errors:\n",
      "tensor([0.0480, 0.0018, 0.0054, 0.0232, 0.0190, 0.0166, 0.0097, 0.0002, 0.0071,\n",
      "        0.0144, 0.0249, 0.0403, 0.0392, 0.0386, 0.0883], dtype=torch.float64)\n",
      "\n",
      "SPLIT:cal | CALIBRATION METRIC:Edge-ECE | LOSS:0.023417419836835165\n",
      "\n",
      "\n",
      "CALIBRATOR:HardNectarBinning\n",
      "Global Bin counts: (Total: 172527.0)\n",
      "tensor([10492.,  7866.,  7605.,  7717.,  7657.,  7795.,  8058.,  8073.,  9047.,\n",
      "         8842.,  9128., 10007., 11117., 17849., 41274.], dtype=torch.float64)\n",
      "\n",
      "Global Freqs:\n",
      "tensor([0.5182, 0.5378, 0.5649, 0.6000, 0.6192, 0.6484, 0.6752, 0.7043, 0.7395,\n",
      "        0.7581, 0.7863, 0.7972, 0.8160, 0.8499, 0.8516], dtype=torch.float64)\n",
      "\n",
      "Global Confs:\n",
      "tensor([0.5067, 0.5501, 0.5833, 0.6168, 0.6499, 0.6835, 0.7168, 0.7498, 0.7833,\n",
      "        0.8168, 0.8502, 0.8830, 0.9180, 0.9487, 0.9954], dtype=torch.float64)\n",
      "\n",
      "Global Bin cal errors:\n",
      "tensor([0.0115, 0.0124, 0.0184, 0.0168, 0.0307, 0.0352, 0.0416, 0.0455, 0.0439,\n",
      "        0.0587, 0.0639, 0.0858, 0.1020, 0.0988, 0.1438], dtype=torch.float64)\n",
      "\n",
      "SPLIT:cal | CALIBRATION METRIC:Edge-ECE | LOSS:0.07470664302105906\n",
      "\n",
      "\n",
      "CALIBRATOR:SoftNectarBinning\n",
      "Global Bin counts: (Total: 172527.0)\n",
      "tensor([10536.,  7675.,  7757.,  7767.,  7681.,  7922.,  8250.,  8318.,  8677.,\n",
      "         9277.,  9770.,  9298., 12381., 18143., 39075.], dtype=torch.float64)\n",
      "\n",
      "Global Freqs:\n",
      "tensor([0.5174, 0.5432, 0.5572, 0.5998, 0.6196, 0.6507, 0.6796, 0.7051, 0.7380,\n",
      "        0.7602, 0.7870, 0.7877, 0.8293, 0.8462, 0.8532], dtype=torch.float64)\n",
      "\n",
      "Global Confs:\n",
      "tensor([0.5073, 0.5501, 0.5832, 0.6168, 0.6499, 0.6833, 0.7168, 0.7503, 0.7833,\n",
      "        0.8165, 0.8510, 0.8840, 0.9169, 0.9516, 0.9965], dtype=torch.float64)\n",
      "\n",
      "Global Bin cal errors:\n",
      "tensor([0.0101, 0.0069, 0.0260, 0.0170, 0.0303, 0.0326, 0.0372, 0.0452, 0.0452,\n",
      "        0.0564, 0.0640, 0.0963, 0.0875, 0.1054, 0.1434], dtype=torch.float64)\n",
      "\n",
      "SPLIT:cal | CALIBRATION METRIC:Edge-ECE | LOSS:0.07361911289873714\n",
      "\n",
      "\n"
     ]
    }
   ],
   "source": [
    "# Loop through the calibration metrics and add them to the dataframe.\n",
    "for cal_metric_name, cal_metric_dict in cal_metrics_cfg[\"global_cal_metrics\"].items():\n",
    "    for calibrator in ensemble_calibrator_dict:\n",
    "        for split in [\"cal\"]:\n",
    "            cal_type = cal_metric_dict['cal_type']\n",
    "            if cal_type in [\"classwise\", \"toplabel\"]:\n",
    "                print(f\"CALIBRATOR:{calibrator}\")\n",
    "                if cal_type == 'classwise':\n",
    "                    cal_info = cal_metric_dict['_fn'](\n",
    "                        pixel_meters_dict=ensemble_calibrator_dict[calibrator][\"classwise\"][split],\n",
    "                        return_dict=True\n",
    "                    )\n",
    "                else:\n",
    "                    cal_info = cal_metric_dict['_fn'](\n",
    "                        pixel_meters_dict=ensemble_calibrator_dict[calibrator][\"top_label\"][split],\n",
    "                        return_dict=True\n",
    "                    )\n",
    "                print(f\"Global Bin counts: (Total: {cal_info['bin_amounts'].sum()})\")\n",
    "                print(cal_info[\"bin_amounts\"])\n",
    "                print()\n",
    "                print(\"Global Freqs:\")\n",
    "                print(cal_info[\"bin_freqs\"])\n",
    "                print()\n",
    "                print(\"Global Confs:\")\n",
    "                print(cal_info[\"bin_confs\"])\n",
    "                print()\n",
    "                print(\"Global Bin cal errors:\")\n",
    "                print(cal_info[\"bin_cal_errors\"])\n",
    "                print()\n",
    "                print(\"SPLIT:{} | CALIBRATION METRIC:{} | LOSS:{}\".format(\n",
    "                    split, cal_metric_name, cal_info['cal_error']\n",
    "                ))\n",
    "                print()\n",
    "                print()\n",
    "            else:\n",
    "                raise ValueError(f\"Calibration type {cal_metric_dict['cal_type']} not recognized.\")"
   ]
  }
 ],
 "metadata": {
  "kernelspec": {
   "display_name": "UniverSegTF",
   "language": "python",
   "name": "universegtf"
  },
  "language_info": {
   "codemirror_mode": {
    "name": "ipython",
    "version": 3
   },
   "file_extension": ".py",
   "mimetype": "text/x-python",
   "name": "python",
   "nbconvert_exporter": "python",
   "pygments_lexer": "ipython3",
   "version": "3.9.16"
  }
 },
 "nbformat": 4,
 "nbformat_minor": 2
}
