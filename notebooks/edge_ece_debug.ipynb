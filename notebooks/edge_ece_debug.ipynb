{
 "cells": [
  {
   "cell_type": "code",
   "execution_count": null,
   "metadata": {},
   "outputs": [],
   "source": [
    "import yaml\n",
    "import torch\n",
    "from pathlib import Path\n",
    "from ese.experiment.analysis.analysis_utils.inference_utils import preload_calibration_metrics\n",
    "\n",
    "code_root = Path(\"/storage/vbutoi/projects/ESE\")\n",
    "scratch_root = Path(\"/storage/vbutoi/scratch/ESE/inference/02_19_24_WMH_SmoothNectar\")\n",
    "\n",
    "torch.set_printoptions(sci_mode=False, precision=3)\n",
    "# For using code without restarting.\n",
    "%load_ext autoreload\n",
    "%autoreload 2\n",
    "# For using yaml configs.\n",
    "%load_ext yamlmagic"
   ]
  },
  {
   "cell_type": "code",
   "execution_count": null,
   "metadata": {},
   "outputs": [],
   "source": [
    "%%yaml cal_cfg \n",
    "\n",
    "global_calibration:\n",
    "    num_prob_bins: 15\n",
    "    num_classes: 2\n",
    "    neighborhood_width: 3\n",
    "    square_diff: False "
   ]
  },
  {
   "cell_type": "code",
   "execution_count": null,
   "metadata": {},
   "outputs": [],
   "source": [
    "# Load the inference cfg from local.\n",
    "##################################################\n",
    "inf_cfg_root = code_root / \"ese\" / \"experiment\" / \"configs\" / \"inference\"\n",
    "##################################################\n",
    "with open(inf_cfg_root / \"Debug_Metrics.yaml\", 'r') as file:\n",
    "    cal_metrics_cfg = yaml.safe_load(file)\n",
    "\n",
    "cal_metrics_cfg[\"global_cal_metrics\"] = preload_calibration_metrics(\n",
    "    base_cal_cfg=cal_cfg[\"global_calibration\"],\n",
    "    cal_metrics_dict=cal_metrics_cfg[\"global_cal_metrics\"]\n",
    ")"
   ]
  },
  {
   "cell_type": "markdown",
   "metadata": {},
   "source": [
    "## Pick the product of the probs. "
   ]
  },
  {
   "cell_type": "code",
   "execution_count": null,
   "metadata": {},
   "outputs": [],
   "source": [
    "import pickle \n",
    "\n",
    "def load_pkl(f_name):\n",
    "    with open(f_name, 'rb') as f:\n",
    "       return pickle.load(f)"
   ]
  },
  {
   "cell_type": "code",
   "execution_count": null,
   "metadata": {},
   "outputs": [],
   "source": [
    "ind_tl_uncalibrated_dir = scratch_root / \"WMH_Individual_Uncalibrated\" / \"20240219_104110-WJRG-edd491052db5c8a6e51df561e715e271\" / \"tl_pixel_meter_dict.pkl\"\n",
    "ind_tl_nectar_scaling_dir = scratch_root / \"WMH_Individual_NectarScaling\" / \"20240218_111136-SAL0-ee42c17246fe42ced961b717f000d4a9\" / \"tl_pixel_meter_dict.pkl\"\n",
    "ind_tl_hard_nectar_binning_dir = scratch_root / \"WMH_Individual_NectarBinning\" / \"20240219_123236-QKA7-11bdebd0a8159f669a5aa7cac80ca92f\" / \"tl_pixel_meter_dict.pkl\"\n",
    "ind_tl_soft_nectar_binning_dir = scratch_root / \"WMH_Individual_SoftNectarBinning\" / \"20240219_123301-3E9G-70144130c84b525b784f83f67e37b067\"/ \"tl_pixel_meter_dict.pkl\" \n",
    "\n",
    "ind_classwise_uncalibrated_dir = scratch_root / \"WMH_Individual_Uncalibrated\" / \"20240219_104110-WJRG-edd491052db5c8a6e51df561e715e271\" / \"cw_pixel_meter_dict.pkl\"\n",
    "ind_classwise_nectar_scaling_dir = scratch_root / \"WMH_Individual_NectarScaling\" / \"20240218_111136-SAL0-ee42c17246fe42ced961b717f000d4a9\" / \"cw_pixel_meter_dict.pkl\"\n",
    "ind_classwise_hard_nectar_binning_dir = scratch_root / \"WMH_Individual_NectarBinning\" / \"20240219_123236-QKA7-11bdebd0a8159f669a5aa7cac80ca92f\" / \"cw_pixel_meter_dict.pkl\"\n",
    "ind_classwise_soft_nectar_binning_dir = scratch_root / \"WMH_Individual_SoftNectarBinning\" / \"20240219_123301-3E9G-70144130c84b525b784f83f67e37b067\"/ \"cw_pixel_meter_dict.pkl\" "
   ]
  },
  {
   "cell_type": "code",
   "execution_count": null,
   "metadata": {},
   "outputs": [],
   "source": [
    "ind_calibrator_dict = {\n",
    "    \"Uncalibrated\": {\n",
    "        \"top_label\": load_pkl(ind_tl_uncalibrated_dir),\n",
    "        \"classwise\": load_pkl(ind_classwise_uncalibrated_dir)\n",
    "    },\n",
    "    \"NectarScaling\": {\n",
    "        \"top_label\": load_pkl(ind_tl_nectar_scaling_dir),\n",
    "        \"classwise\": load_pkl(ind_classwise_nectar_scaling_dir)\n",
    "    },\n",
    "    \"HardNectarBinning\": {\n",
    "        \"top_label\": load_pkl(ind_tl_hard_nectar_binning_dir),\n",
    "        \"classwise\": load_pkl(ind_classwise_hard_nectar_binning_dir)\n",
    "    },\n",
    "    \"SoftNectarBinning\": {\n",
    "        \"top_label\": load_pkl(ind_tl_soft_nectar_binning_dir),\n",
    "        \"classwise\": load_pkl(ind_classwise_soft_nectar_binning_dir)\n",
    "    },\n",
    "}"
   ]
  },
  {
   "cell_type": "code",
   "execution_count": null,
   "metadata": {},
   "outputs": [],
   "source": [
    "# Let's build a dataframe to store the calibration metrics.\n",
    "rows = []\n",
    "# Loop through the calibration metrics and add them to the dataframe.\n",
    "for cal_metric_name, cal_metric_dict in cal_metrics_cfg[\"global_cal_metrics\"].items():\n",
    "    for calibrator in ind_calibrator_dict:\n",
    "        for split in [\"cal\"]:\n",
    "            cal_type = cal_metric_dict['cal_type']\n",
    "            if cal_type in [\"classwise\", \"toplabel\"]:\n",
    "                print(f\"CALIBRATOR:{calibrator}\")\n",
    "                if cal_type == 'classwise':\n",
    "                    cal_info = cal_metric_dict['_fn'](\n",
    "                        pixel_meters_dict=ind_calibrator_dict[calibrator][\"classwise\"][split],\n",
    "                        return_dict=True\n",
    "                    )\n",
    "                else:\n",
    "                    cal_info = cal_metric_dict['_fn'](\n",
    "                        pixel_meters_dict=ind_calibrator_dict[calibrator][\"top_label\"][split],\n",
    "                        return_dict=True\n",
    "                    )\n",
    "                \n",
    "                print(f\"Global Bin counts: (Total: {cal_info['bin_amounts'].sum()})\")\n",
    "                print(cal_info[\"bin_amounts\"])\n",
    "                print()\n",
    "                print(\"Global Freqs:\")\n",
    "                print(cal_info[\"bin_freqs\"])\n",
    "                print()\n",
    "                print(\"Global Confs:\")\n",
    "                print(cal_info[\"bin_confs\"])\n",
    "                print()\n",
    "                print(\"Global Bin cal errors:\")\n",
    "                print(cal_info[\"bin_cal_errors\"])\n",
    "                print()\n",
    "                print(\"SPLIT:{} | CALIBRATION METRIC:{} | LOSS:{}\".format(\n",
    "                    split, cal_metric_name, cal_info['cal_error']\n",
    "                ))\n",
    "                print()\n",
    "                print()\n",
    "            else:\n",
    "                raise ValueError(f\"Calibration type {cal_metric_dict['cal_type']} not recognized.\")"
   ]
  },
  {
   "cell_type": "markdown",
   "metadata": {},
   "source": [
    "## Looking at the Ensemble Methods."
   ]
  },
  {
   "cell_type": "code",
   "execution_count": null,
   "metadata": {},
   "outputs": [],
   "source": [
    "ens_tl_uncalibrated_dir = scratch_root / \"WMH_Ensemble_Uncalibrated\" / \"20240219_104201-BKCC-a7f56d80c4bf65f817a1cb4dc10d85b2\" / \"tl_pixel_meter_dict.pkl\"\n",
    "ens_tl_nectar_scaling_dir = scratch_root / \"WMH_Ensemble_NectarScaling\" / \"20240218_111255-UBCH-995007dddba34d84eb7ae0aa6406373c\" / \"tl_pixel_meter_dict.pkl\"\n",
    "ens_tl_hard_nectar_binning_dir = scratch_root / \"WMH_Ensemble_NectarBinning\" / \"20240219_123424-J8FG-669764637a558a02fa9f296ad0470121\" / \"tl_pixel_meter_dict.pkl\"\n",
    "ens_tl_soft_nectar_binning_dir = scratch_root / \"WMH_Ensemble_SoftNectarBinning\" / \"20240219_123443-KR38-006b299497cfbed50526e828ad1d123a\"/ \"tl_pixel_meter_dict.pkl\" \n",
    "\n",
    "ens_classwise_uncalibrated_dir = scratch_root / \"WMH_Ensemble_Uncalibrated\" / \"20240219_104201-BKCC-a7f56d80c4bf65f817a1cb4dc10d85b2\" / \"cw_pixel_meter_dict.pkl\"\n",
    "ens_classwise_nectar_scaling_dir = scratch_root / \"WMH_Ensemble_NectarScaling\" / \"20240218_111255-UBCH-995007dddba34d84eb7ae0aa6406373c\" / \"cw_pixel_meter_dict.pkl\"\n",
    "ens_classwise_hard_nectar_binning_dir = scratch_root / \"WMH_Ensemble_NectarBinning\" / \"20240219_123424-J8FG-669764637a558a02fa9f296ad0470121\" / \"cw_pixel_meter_dict.pkl\"\n",
    "ens_classwise_soft_nectar_binning_dir = scratch_root / \"WMH_Ensemble_SoftNectarBinning\" / \"20240219_123443-KR38-006b299497cfbed50526e828ad1d123a\"/ \"cw_pixel_meter_dict.pkl\" "
   ]
  },
  {
   "cell_type": "code",
   "execution_count": null,
   "metadata": {},
   "outputs": [],
   "source": [
    "ensemble_calibrator_dict = {\n",
    "    \"Uncalibrated\": {\n",
    "        \"top_label\": load_pkl(ens_tl_uncalibrated_dir),\n",
    "        \"classwise\": load_pkl(ens_classwise_uncalibrated_dir)\n",
    "    },\n",
    "    \"NectarScaling\": {\n",
    "        \"top_label\": load_pkl(ens_tl_nectar_scaling_dir),\n",
    "        \"classwise\": load_pkl(ens_classwise_nectar_scaling_dir)\n",
    "    },\n",
    "    \"HardNectarBinning\": {\n",
    "        \"top_label\": load_pkl(ens_tl_hard_nectar_binning_dir),\n",
    "        \"classwise\": load_pkl(ens_classwise_hard_nectar_binning_dir)\n",
    "    },\n",
    "    \"SoftNectarBinning\": {\n",
    "        \"top_label\": load_pkl(ens_tl_soft_nectar_binning_dir),\n",
    "        \"classwise\": load_pkl(ens_classwise_soft_nectar_binning_dir)\n",
    "    },\n",
    "}"
   ]
  },
  {
   "cell_type": "code",
   "execution_count": null,
   "metadata": {},
   "outputs": [],
   "source": [
    "# Loop through the calibration metrics and add them to the dataframe.\n",
    "for cal_metric_name, cal_metric_dict in cal_metrics_cfg[\"global_cal_metrics\"].items():\n",
    "    for calibrator in ensemble_calibrator_dict:\n",
    "        for split in [\"cal\"]:\n",
    "            cal_type = cal_metric_dict['cal_type']\n",
    "            if cal_type in [\"classwise\", \"toplabel\"]:\n",
    "                print(f\"CALIBRATOR:{calibrator}\")\n",
    "                if cal_type == 'classwise':\n",
    "                    cal_info = cal_metric_dict['_fn'](\n",
    "                        pixel_meters_dict=ensemble_calibrator_dict[calibrator][\"classwise\"][split],\n",
    "                        return_dict=True\n",
    "                    )\n",
    "                else:\n",
    "                    cal_info = cal_metric_dict['_fn'](\n",
    "                        pixel_meters_dict=ensemble_calibrator_dict[calibrator][\"top_label\"][split],\n",
    "                        return_dict=True\n",
    "                    )\n",
    "                print(f\"Global Bin counts: (Total: {cal_info['bin_amounts'].sum()})\")\n",
    "                print(cal_info[\"bin_amounts\"])\n",
    "                print()\n",
    "                print(\"Global Freqs:\")\n",
    "                print(cal_info[\"bin_freqs\"])\n",
    "                print()\n",
    "                print(\"Global Confs:\")\n",
    "                print(cal_info[\"bin_confs\"])\n",
    "                print()\n",
    "                print(\"Global Bin cal errors:\")\n",
    "                print(cal_info[\"bin_cal_errors\"])\n",
    "                print()\n",
    "                print(\"SPLIT:{} | CALIBRATION METRIC:{} | LOSS:{}\".format(\n",
    "                    split, cal_metric_name, cal_info['cal_error']\n",
    "                ))\n",
    "                print()\n",
    "                print()\n",
    "            else:\n",
    "                raise ValueError(f\"Calibration type {cal_metric_dict['cal_type']} not recognized.\")"
   ]
  }
 ],
 "metadata": {
  "kernelspec": {
   "display_name": "UniverSegTF",
   "language": "python",
   "name": "universegtf"
  },
  "language_info": {
   "codemirror_mode": {
    "name": "ipython",
    "version": 3
   },
   "file_extension": ".py",
   "mimetype": "text/x-python",
   "name": "python",
   "nbconvert_exporter": "python",
   "pygments_lexer": "ipython3",
   "version": "3.9.16"
  }
 },
 "nbformat": 4,
 "nbformat_minor": 2
}
