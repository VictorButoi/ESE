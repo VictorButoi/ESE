{
 "cells": [
  {
   "cell_type": "code",
   "execution_count": null,
   "metadata": {},
   "outputs": [],
   "source": [
    "import sys\n",
    "sys.path.append('/storage/vbutoi/projects')\n",
    "sys.path.append('/storage/vbutoi/libraries')\n",
    "sys.path.append('/storage/vbutoi/projects/ESE')\n",
    "sys.path.append('/storage/vbutoi/projects/UniverSeg')\n",
    "\n",
    "import matplotlib.pyplot as plt\n",
    "import seaborn as sns\n",
    "sns.set_style(\"darkgrid\")\n",
    "sns.set_context(\"talk\")\n",
    "\n",
    "import os \n",
    "os.environ['DATAPATH'] = ':'.join((\n",
    "       '/storage/vbutoi/datasets',\n",
    "))\n",
    "\n",
    "# Results loader object does everything\n",
    "from ionpy.analysis import ResultsLoader\n",
    "from pathlib import Path\n",
    "root = Path(\"/storage/vbutoi/scratch/ESE\")\n",
    "rs = ResultsLoader()\n",
    "\n",
    "# For using code without restarting.\n",
    "%load_ext autoreload\n",
    "%autoreload 2\n",
    "# For using yaml configs.\n",
    "%load_ext yamlmagic"
   ]
  },
  {
   "cell_type": "code",
   "execution_count": null,
   "metadata": {},
   "outputs": [],
   "source": [
    "%%yaml results_cfg \n",
    "\n",
    "log:\n",
    "    root: /storage/vbutoi/scratch/ESE/inference\n",
    "    inference_groups: \n",
    "        - \"04_24_24_UniverSeg_Inference\"\n",
    "    \n",
    "calibration:\n",
    "    metric_cfg_file: \"/storage/vbutoi/projects/ESE/ese/experiment/configs/inference/Calibration_Metrics.yaml\"\n",
    "\n",
    "options:\n",
    "    add_dice_loss_rows: True\n",
    "    drop_nan_metric_rows: True \n",
    "    remove_shared_columns: False\n",
    "    equal_rows_per_cfg_assert: False "
   ]
  },
  {
   "cell_type": "code",
   "execution_count": null,
   "metadata": {},
   "outputs": [],
   "source": [
    "from ese.experiment.analysis.analyze_inf import load_cal_inference_stats\n",
    "\n",
    "image_info_df = load_cal_inference_stats(\n",
    "    results_cfg=results_cfg,\n",
    "    load_cached=False,\n",
    ")"
   ]
  },
  {
   "cell_type": "code",
   "execution_count": null,
   "metadata": {},
   "outputs": [],
   "source": [
    "image_info_df.keys()"
   ]
  },
  {
   "cell_type": "code",
   "execution_count": null,
   "metadata": {},
   "outputs": [],
   "source": [
    "def task(dataset_name, label_idx):\n",
    "    return f\"{dataset_name}_{label_idx}\"\n",
    "\n",
    "image_info_df.augment(task)"
   ]
  },
  {
   "cell_type": "code",
   "execution_count": null,
   "metadata": {},
   "outputs": [],
   "source": [
    "image_info_df['task'].unique()"
   ]
  },
  {
   "cell_type": "code",
   "execution_count": null,
   "metadata": {},
   "outputs": [],
   "source": [
    "image_info_df['task'] = image_info_df['task'].astype('category')\n",
    "image_info_df['task'] = image_info_df['task'].cat.reorder_categories([\n",
    "    'PanDental_Jaw_0',\n",
    "    'PanDental_Mandible_0',\n",
    "    'SpineWeb_0',\n",
    "    'STARE_0',\n",
    "    'WBC_1',\n",
    "    'WBC_0',\n",
    "    'ACDC_2',\n",
    "    'ACDC_1',\n",
    "    'ACDC_0'\n",
    "])\n"
   ]
  },
  {
   "cell_type": "code",
   "execution_count": null,
   "metadata": {},
   "outputs": [],
   "source": [
    "# Set the figsize\n",
    "g = sns.catplot(\n",
    "    data=image_info_df[image_info_df['image_metric'] == 'Dice'],\n",
    "    x='task',\n",
    "    y='metric_score',\n",
    "    kind='boxen',\n",
    "    hue='dataset_name',\n",
    "    aspect=2,\n",
    "    height=8,\n",
    ")\n",
    "# Set the y axis label to be Dice Score\n",
    "g.set_xticklabels(rotation=45)\n",
    "g.set(ylabel=\"Dice Score\")\n",
    "\n",
    "g.fig.suptitle(\"Dice Score per Held-out Task (#Samp per Subj=5, #Support=8)\", fontsize=25)\n",
    "g.fig.subplots_adjust(top=0.9)\n",
    "# Give the title a bit of space from the plot\n"
   ]
  },
  {
   "cell_type": "code",
   "execution_count": null,
   "metadata": {},
   "outputs": [],
   "source": [
    "# set the figsize\n",
    "g = sns.catplot(\n",
    "    data=image_info_df[image_info_df['image_metric'] == 'Image_ECE'],\n",
    "    x='task',\n",
    "    y='metric_score',\n",
    "    kind='boxen',\n",
    "    hue='dataset_name',\n",
    "    aspect=2,\n",
    "    height=8,\n",
    ")\n",
    "# set the y axis label to be dice score\n",
    "g.set_xticklabels(rotation=45)\n",
    "g.set(ylabel=\"Image ECE\")\n",
    "\n",
    "g.fig.suptitle(\"Image ECE per held-out task (#samp per subj=5, #support=8)\", fontsize=25)\n",
    "g.fig.subplots_adjust(top=0.9)\n",
    "# give the title a bit of space from the plot\n"
   ]
  },
  {
   "cell_type": "code",
   "execution_count": null,
   "metadata": {},
   "outputs": [],
   "source": [
    "# We want to compare how Dice relates to ECE, this means we need to pivot our dataframe\n",
    "df_pivot = image_info_df.pivot(index=['data_id', 'sup_idx', 'task', 'dataset_name'], columns='image_metric', values='metric_score').reset_index()"
   ]
  },
  {
   "cell_type": "code",
   "execution_count": null,
   "metadata": {},
   "outputs": [],
   "source": [
    "# set the figsize\n",
    "g = sns.catplot(\n",
    "    data=df_pivot,\n",
    "    x='data_id',\n",
    "    y='Dice',\n",
    "    hue='dataset_name',\n",
    "    col=\"task\",\n",
    "    col_wrap=3,\n",
    "    height=6,\n",
    "    kind='box',\n",
    "    sharex=False,\n",
    "    sharey=False\n",
    ")\n",
    "# set the y axis label to be dice score\n",
    "g.fig.subplots_adjust(wspace=0.25, hspace=0.2)\n",
    "\n",
    "g.fig.suptitle(\"Dice-per-Subject Across Samples, Per Task (#samp per subj=5, #support=8)\", fontsize=25)\n",
    "g.fig.subplots_adjust(top=0.9)\n",
    "# Drop the x tick labels\n",
    "for ax in g.axes.flatten():\n",
    "    ax.set_xticklabels([])"
   ]
  },
  {
   "cell_type": "code",
   "execution_count": null,
   "metadata": {},
   "outputs": [],
   "source": [
    "# set the figsize\n",
    "g = sns.catplot(\n",
    "    data=df_pivot,\n",
    "    x='data_id',\n",
    "    y='Image_ECE',\n",
    "    hue='dataset_name',\n",
    "    col=\"task\",\n",
    "    col_wrap=3,\n",
    "    height=6,\n",
    "    kind='box',\n",
    "    sharex=False,\n",
    "    sharey=False\n",
    ")\n",
    "# set the y axis label to be dice score\n",
    "g.fig.subplots_adjust(wspace=0.25, hspace=0.2)\n",
    "\n",
    "g.fig.suptitle(\"Image_ECE-per-Subject Across Samples, Per Task (#samp per subj=5, #support=8)\", fontsize=25)\n",
    "g.fig.subplots_adjust(top=0.9)\n",
    "# Drop the x tick labels\n",
    "for ax in g.axes.flatten():\n",
    "    ax.set_xticklabels([])"
   ]
  },
  {
   "cell_type": "code",
   "execution_count": null,
   "metadata": {},
   "outputs": [],
   "source": [
    "from scipy.stats import pearsonr\n",
    "\n",
    "# Function to calculate r^2 value\n",
    "def calculate_r_squared(x, y):\n",
    "    correlation_matrix = pearsonr(x, y)\n",
    "    r_squared = correlation_matrix[0] ** 2\n",
    "    return r_squared\n",
    "\n",
    "# set the figsize\n",
    "g = sns.relplot(\n",
    "    data=df_pivot,\n",
    "    x='Dice',\n",
    "    y='Image_ECE',\n",
    "    kind='scatter',\n",
    "    hue='dataset_name',\n",
    "    col=\"task\",\n",
    "    col_wrap=3,\n",
    "    height=6,\n",
    "    facet_kws={\n",
    "        \"sharex\":False,\n",
    "        \"sharey\":False\n",
    "    }\n",
    ")\n",
    "# set the y axis label to be dice score\n",
    "g.fig.subplots_adjust(wspace=0.25, hspace=0.2)\n",
    "\n",
    "g.fig.suptitle(\"Dice vs Image ECE per held-out task (#samp per subj=5, #support=8)\", fontsize=25)\n",
    "g.fig.subplots_adjust(top=0.9)\n",
    "\n",
    "# Calculate and annotate r^2 value on each subplot\n",
    "for ax in g.axes.flatten():\n",
    "    x_data = ax.collections[0].get_offsets()[:, 0]\n",
    "    y_data = ax.collections[0].get_offsets()[:, 1]\n",
    "    r_squared = calculate_r_squared(x_data, y_data)\n",
    "    ax.annotate(f\"$r^2$ = {r_squared:.2f}\", xy=(0.7, 0.85), xycoords='axes fraction', color='red', fontsize=16)\n",
    "\n",
    "plt.show()"
   ]
  }
 ],
 "metadata": {
  "kernelspec": {
   "display_name": "Python 3",
   "language": "python",
   "name": "python3"
  },
  "language_info": {
   "codemirror_mode": {
    "name": "ipython",
    "version": 3
   },
   "file_extension": ".py",
   "mimetype": "text/x-python",
   "name": "python",
   "nbconvert_exporter": "python",
   "pygments_lexer": "ipython3",
   "version": "3.9.16"
  },
  "orig_nbformat": 4
 },
 "nbformat": 4,
 "nbformat_minor": 2
}
