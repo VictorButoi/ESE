{
 "cells": [
  {
   "cell_type": "code",
   "execution_count": null,
   "metadata": {},
   "outputs": [],
   "source": [
    "import os\n",
    "import pathlib\n",
    "%load_ext autoreload\n",
    "%autoreload 2"
   ]
  },
  {
   "cell_type": "code",
   "execution_count": null,
   "metadata": {},
   "outputs": [],
   "source": [
    "def is_integer(s):\n",
    "    try:\n",
    "        int(s)\n",
    "        return True\n",
    "    except ValueError:\n",
    "        return False"
   ]
  },
  {
   "cell_type": "code",
   "execution_count": null,
   "metadata": {},
   "outputs": [],
   "source": [
    "root = pathlib.Path(\"/storage/vbutoi/datasets/WMH\")\n",
    "splits = [\"training\", \"test\", \"additional_annotations\"]\n",
    "\n",
    "all_dirs = []\n",
    "\n",
    "for split in splits:\n",
    "    split_path = root / split\n",
    "    for subdir in split_path.iterdir():\n",
    "        print(subdir)\n",
    "        all_dirs.append(subdir)\n",
    "        for l3_dir in subdir.iterdir():\n",
    "            if not is_integer(str(l3_dir.name)):\n",
    "                print(l3_dir)\n",
    "                all_dirs.append(l3_dir)\n",
    "                for l4_dir in l3_dir.iterdir():\n",
    "                    if not is_integer(str(l4_dir.name)):\n",
    "                        print(l4_dir)\n",
    "                        all_dirs.append(l4_dir)\n",
    "                        for l5_dir in l4_dir.iterdir():\n",
    "                            if not is_integer(str(l5_dir.name)):\n",
    "                                print(l5_dir)\n",
    "                                all_dirs.append(l5_dir)"
   ]
  },
  {
   "cell_type": "code",
   "execution_count": null,
   "metadata": {},
   "outputs": [],
   "source": [
    "unique_dirs_with_additional = []\n",
    "for path in all_dirs:\n",
    "    all_other_dirs = [p for p in all_dirs if p != path]\n",
    "    is_subdir = False\n",
    "    for other_path in all_other_dirs:\n",
    "        if path in other_path.parents:\n",
    "            is_subdir = True\n",
    "            break\n",
    "    if not is_subdir:\n",
    "        unique_dirs_with_additional.append(path)"
   ]
  },
  {
   "cell_type": "code",
   "execution_count": null,
   "metadata": {},
   "outputs": [],
   "source": [
    "unique_dirs_with_additional"
   ]
  },
  {
   "cell_type": "code",
   "execution_count": null,
   "metadata": {},
   "outputs": [],
   "source": [
    "unique_dirs = [ud for ud in unique_dirs_with_additional if \"additional_annotations\" not in str(ud)]"
   ]
  },
  {
   "cell_type": "code",
   "execution_count": null,
   "metadata": {},
   "outputs": [],
   "source": [
    "unique_dirs"
   ]
  },
  {
   "cell_type": "code",
   "execution_count": null,
   "metadata": {},
   "outputs": [],
   "source": [
    "import sys\n",
    "sys.path.append(\"/storage/vbutoi/projects/ESE\")\n",
    "sys.path.append(\"/storage/vbutoi/projects\")\n",
    "sys.path.append(\"/storage/vbutoi/libraries\")\n",
    "from ese.experiment.datasets.utils.build_wmh import proc_WMH\n",
    "\n",
    "proc_WMH(\n",
    "    unique_dirs, \n",
    "    show=True,\n",
    "    save=False\n",
    "    )"
   ]
  }
 ],
 "metadata": {
  "kernelspec": {
   "display_name": "SAM",
   "language": "python",
   "name": "sam"
  },
  "language_info": {
   "codemirror_mode": {
    "name": "ipython",
    "version": 3
   },
   "file_extension": ".py",
   "mimetype": "text/x-python",
   "name": "python",
   "nbconvert_exporter": "python",
   "pygments_lexer": "ipython3",
   "version": "3.9.17"
  },
  "orig_nbformat": 4
 },
 "nbformat": 4,
 "nbformat_minor": 2
}
