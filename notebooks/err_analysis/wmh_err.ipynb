{
 "cells": [
  {
   "cell_type": "code",
   "execution_count": null,
   "metadata": {},
   "outputs": [],
   "source": [
    "import sys\n",
    "sys.path.append('/storage/vbutoi/projects')\n",
    "sys.path.append('/storage/vbutoi/libraries')\n",
    "sys.path.append('/storage/vbutoi/projects/ESE')\n",
    "sys.path.append('/storage/vbutoi/projects/UniverSeg')\n",
    "\n",
    "import seaborn as sns\n",
    "from ionpy.analysis import ResultsLoader\n",
    "sns.set_style(\"darkgrid\")\n",
    "\n",
    "import os \n",
    "os.environ['DATAPATH'] = ':'.join((\n",
    "       '/storage/vbutoi/datasets',\n",
    "))\n",
    "\n",
    "# Results loader object does everything\n",
    "rs = ResultsLoader()\n",
    "root = \"/storage/vbutoi/scratch/ESE/inference/\"\n",
    "\n",
    "%load_ext yamlmagic\n",
    "%load_ext autoreload\n",
    "%autoreload 2"
   ]
  },
  {
   "cell_type": "code",
   "execution_count": null,
   "metadata": {},
   "outputs": [],
   "source": [
    "from ese.experiment.analysis.inference import load_cal_inference_stats\n",
    "\n",
    "path = f\"{root}/11_04_23_WMH_Fixed_Metrics_Inference\"\n",
    "\n",
    "cal_inference_info = load_cal_inference_stats(\n",
    "    path,\n",
    "    pixel_stats=False,\n",
    "    image_stats=True,\n",
    "    return_metadata=True\n",
    ")"
   ]
  },
  {
   "cell_type": "code",
   "execution_count": null,
   "metadata": {},
   "outputs": [],
   "source": [
    "cal_inference_info['metadata']['log_set']"
   ]
  },
  {
   "cell_type": "code",
   "execution_count": null,
   "metadata": {},
   "outputs": [],
   "source": [
    "# Get the pixel preds out\n",
    "# pixel_preds_dict = pix_inference_dicts[metadata_df['log_set'][0]]"
   ]
  },
  {
   "cell_type": "markdown",
   "metadata": {},
   "source": [
    "## Pixel-level Analysis"
   ]
  },
  {
   "cell_type": "code",
   "execution_count": null,
   "metadata": {},
   "outputs": [],
   "source": [
    "# from ese.experiment.analysis.err_diagrams import viz_accuracy_vs_confidence\n",
    "\n",
    "# viz_accuracy_vs_confidence(\n",
    "#     pixel_preds_dict,\n",
    "#     title=\"WMH Confidence vs Accuracy per (Bin and Predicted Label)\",\n",
    "#     x=\"pred_label\",\n",
    "#     hue=\"measure\",\n",
    "#     col=\"bin_num\",\n",
    "#     kind=\"bar\",\n",
    "#     add_average=True,\n",
    "#     add_proportion=True,\n",
    "#     facet_kws={'sharey': False, 'sharex': False}\n",
    "#     )"
   ]
  },
  {
   "cell_type": "code",
   "execution_count": null,
   "metadata": {},
   "outputs": [],
   "source": [
    "# from ese.experiment.analysis.err_diagrams import viz_accuracy_vs_confidence\n",
    "\n",
    "# viz_accuracy_vs_confidence(\n",
    "#     pixel_preds_dict,\n",
    "#     title=\"WMH Confidence vs Accuracy per (Bin and Num Neighbors)\",\n",
    "#     x=\"num_neighbors\",\n",
    "#     hue=\"measure\",\n",
    "#     col=\"bin_num\",\n",
    "#     kind=\"bar\",\n",
    "#     add_average=True,\n",
    "#     add_proportion=True,\n",
    "#     facet_kws={'sharey': False, 'sharex': False},\n",
    "#     )"
   ]
  },
  {
   "cell_type": "markdown",
   "metadata": {},
   "source": [
    "## Image-level Analysis"
   ]
  },
  {
   "cell_type": "code",
   "execution_count": null,
   "metadata": {},
   "outputs": [],
   "source": [
    "image_info_df = cal_inference_info['image_info_df']"
   ]
  },
  {
   "cell_type": "code",
   "execution_count": null,
   "metadata": {},
   "outputs": [],
   "source": [
    "image_info_df.head()"
   ]
  },
  {
   "cell_type": "code",
   "execution_count": null,
   "metadata": {},
   "outputs": [],
   "source": [
    "# Now using seaborn's FacetGrid to create the KDE plots for the 'accuracy' column for each 'split'.\n",
    "g = sns.FacetGrid(image_info_df, col=\"split\", col_wrap=3, sharex=True, sharey=True)\n",
    "g = g.map(sns.kdeplot, \"accuracy\", fill=True)\n",
    "\n",
    "# Adjusting the layout\n",
    "g.fig.tight_layout()"
   ]
  },
  {
   "cell_type": "code",
   "execution_count": null,
   "metadata": {},
   "outputs": [],
   "source": [
    "# Now using seaborn's FacetGrid to create the KDE plots for the 'accuracy' column for each 'split'.\n",
    "g = sns.FacetGrid(image_info_df, col=\"split\", col_wrap=3, sharex=True, sharey=True)\n",
    "g = g.map(sns.kdeplot, \"dice\", fill=True)\n",
    "\n",
    "# Adjusting the layout\n",
    "g.fig.tight_layout()"
   ]
  },
  {
   "cell_type": "code",
   "execution_count": null,
   "metadata": {},
   "outputs": [],
   "source": [
    "from ese.experiment.analysis.err_diagrams import viz_cal_metric_corr\n",
    "\n",
    "viz_cal_metric_corr(\n",
    "    image_info_df,\n",
    "    title=\"WMH Calibration Metric Correlation\",\n",
    "    col=\"split\"\n",
    "    )"
   ]
  }
 ],
 "metadata": {
  "kernelspec": {
   "display_name": "UniverSegTF",
   "language": "python",
   "name": "universegtf"
  },
  "language_info": {
   "codemirror_mode": {
    "name": "ipython",
    "version": 3
   },
   "file_extension": ".py",
   "mimetype": "text/x-python",
   "name": "python",
   "nbconvert_exporter": "python",
   "pygments_lexer": "ipython3",
   "version": "3.9.16"
  },
  "orig_nbformat": 4
 },
 "nbformat": 4,
 "nbformat_minor": 2
}
