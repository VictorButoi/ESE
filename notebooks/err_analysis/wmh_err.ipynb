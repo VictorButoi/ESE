{
 "cells": [
  {
   "cell_type": "code",
   "execution_count": 1,
   "metadata": {},
   "outputs": [],
   "source": [
    "import sys\n",
    "sys.path.append('/storage/vbutoi/projects')\n",
    "sys.path.append('/storage/vbutoi/libraries')\n",
    "sys.path.append('/storage/vbutoi/projects/ESE')\n",
    "sys.path.append('/storage/vbutoi/projects/UniverSeg')\n",
    "\n",
    "import seaborn as sns\n",
    "from ionpy.analysis import ResultsLoader\n",
    "sns.set_style(\"darkgrid\")\n",
    "\n",
    "import os \n",
    "os.environ['DATAPATH'] = ':'.join((\n",
    "       '/storage/vbutoi/datasets',\n",
    "))\n",
    "\n",
    "# Results loader object does everything\n",
    "rs = ResultsLoader()\n",
    "root = \"/storage/vbutoi/scratch/ESE/\"\n",
    "\n",
    "%load_ext yamlmagic\n",
    "%load_ext autoreload\n",
    "%autoreload 2"
   ]
  },
  {
   "cell_type": "code",
   "execution_count": 2,
   "metadata": {},
   "outputs": [],
   "source": [
    "from ese.experiment.analysis.inference import load_cal_inference_stats\n",
    "\n",
    "inference_path = f\"{root}/inference/11_16_23_WMH_Label0_Cal\"\n",
    "\n",
    "cal_inference_info = load_cal_inference_stats(\n",
    "    log_dir=inference_path,\n",
    ")"
   ]
  },
  {
   "cell_type": "code",
   "execution_count": 3,
   "metadata": {},
   "outputs": [
    {
     "data": {
      "text/plain": [
       "dict_keys(['pixel_info_dicts', 'image_info_df', 'metadata'])"
      ]
     },
     "execution_count": 3,
     "metadata": {},
     "output_type": "execute_result"
    }
   ],
   "source": [
    "cal_inference_info.keys()"
   ]
  },
  {
   "cell_type": "code",
   "execution_count": 4,
   "metadata": {},
   "outputs": [],
   "source": [
    "metadata = cal_inference_info['metadata']"
   ]
  },
  {
   "cell_type": "code",
   "execution_count": 5,
   "metadata": {},
   "outputs": [
    {
     "data": {
      "text/plain": [
       "Index(['calibration.conf_interval_end', 'calibration.conf_interval_start',\n",
       "       'calibration.num_bins', 'dataset._class', 'dataset.annotator',\n",
       "       'dataset.axis', 'dataset.num_slices', 'dataset.preload',\n",
       "       'dataset.slicing', 'dataset.split', 'dataset.task', 'dataset.version',\n",
       "       'log.log_interval', 'log.root', 'log.save_calbration_error_maps',\n",
       "       'log.track_image_level', 'log.track_pixel_level', 'model.exp_root',\n",
       "       'model.num_workers', 'score.ignore_index', 'log_set'],\n",
       "      dtype='object')"
      ]
     },
     "execution_count": 5,
     "metadata": {},
     "output_type": "execute_result"
    }
   ],
   "source": [
    "metadata.keys()"
   ]
  },
  {
   "cell_type": "markdown",
   "metadata": {},
   "source": [
    "## Pixel-level Analysis"
   ]
  },
  {
   "cell_type": "code",
   "execution_count": 6,
   "metadata": {},
   "outputs": [
    {
     "ename": "AssertionError",
     "evalue": "Total uniform samples: 131317.0 and Total weighted samples: 15499264 should be ~basically the same.",
     "output_type": "error",
     "traceback": [
      "\u001b[0;31m---------------------------------------------------------------------------\u001b[0m",
      "\u001b[0;31mAssertionError\u001b[0m                            Traceback (most recent call last)",
      "\u001b[1;32m/storage/vbutoi/projects/ESE/notebooks/err_analysis/wmh_err.ipynb Cell 7\u001b[0m line \u001b[0;36m1\n\u001b[1;32m      <a href='vscode-notebook-cell://ssh-remote%2Btwix/storage/vbutoi/projects/ESE/notebooks/err_analysis/wmh_err.ipynb#W6sdnNjb2RlLXJlbW90ZQ%3D%3D?line=4'>5</a>\u001b[0m split_preds_dict \u001b[39m=\u001b[39m select_pixel_dict(\n\u001b[1;32m      <a href='vscode-notebook-cell://ssh-remote%2Btwix/storage/vbutoi/projects/ESE/notebooks/err_analysis/wmh_err.ipynb#W6sdnNjb2RlLXJlbW90ZQ%3D%3D?line=5'>6</a>\u001b[0m     pixel_meter_logdict\u001b[39m=\u001b[39mcal_inference_info[\u001b[39m\"\u001b[39m\u001b[39mpixel_info_dicts\u001b[39m\u001b[39m\"\u001b[39m], \n\u001b[1;32m      <a href='vscode-notebook-cell://ssh-remote%2Btwix/storage/vbutoi/projects/ESE/notebooks/err_analysis/wmh_err.ipynb#W6sdnNjb2RlLXJlbW90ZQ%3D%3D?line=6'>7</a>\u001b[0m     metadata\u001b[39m=\u001b[39mcal_inference_info[\u001b[39m\"\u001b[39m\u001b[39mmetadata\u001b[39m\u001b[39m\"\u001b[39m],\n\u001b[1;32m      <a href='vscode-notebook-cell://ssh-remote%2Btwix/storage/vbutoi/projects/ESE/notebooks/err_analysis/wmh_err.ipynb#W6sdnNjb2RlLXJlbW90ZQ%3D%3D?line=7'>8</a>\u001b[0m     kwargs\u001b[39m=\u001b[39m{\u001b[39m\"\u001b[39m\u001b[39mdataset.split\u001b[39m\u001b[39m\"\u001b[39m: split}\n\u001b[1;32m      <a href='vscode-notebook-cell://ssh-remote%2Btwix/storage/vbutoi/projects/ESE/notebooks/err_analysis/wmh_err.ipynb#W6sdnNjb2RlLXJlbW90ZQ%3D%3D?line=8'>9</a>\u001b[0m ) \n\u001b[1;32m     <a href='vscode-notebook-cell://ssh-remote%2Btwix/storage/vbutoi/projects/ESE/notebooks/err_analysis/wmh_err.ipynb#W6sdnNjb2RlLXJlbW90ZQ%3D%3D?line=9'>10</a>\u001b[0m \u001b[39m# Plot the accuracy vs confidence for this split.\u001b[39;00m\n\u001b[0;32m---> <a href='vscode-notebook-cell://ssh-remote%2Btwix/storage/vbutoi/projects/ESE/notebooks/err_analysis/wmh_err.ipynb#W6sdnNjb2RlLXJlbW90ZQ%3D%3D?line=10'>11</a>\u001b[0m viz_accuracy_vs_confidence(\n\u001b[1;32m     <a href='vscode-notebook-cell://ssh-remote%2Btwix/storage/vbutoi/projects/ESE/notebooks/err_analysis/wmh_err.ipynb#W6sdnNjb2RlLXJlbW90ZQ%3D%3D?line=11'>12</a>\u001b[0m     split_preds_dict,\n\u001b[1;32m     <a href='vscode-notebook-cell://ssh-remote%2Btwix/storage/vbutoi/projects/ESE/notebooks/err_analysis/wmh_err.ipynb#W6sdnNjb2RlLXJlbW90ZQ%3D%3D?line=12'>13</a>\u001b[0m     title\u001b[39m=\u001b[39;49m\u001b[39mf\u001b[39;49m\u001b[39m\"\u001b[39;49m\u001b[39mWMH Confidence vs Accuracy per (Bin and Predicted Label, \u001b[39;49m\u001b[39m{\u001b[39;49;00msplit\u001b[39m}\u001b[39;49;00m\u001b[39m split)\u001b[39;49m\u001b[39m\"\u001b[39;49m,\n\u001b[1;32m     <a href='vscode-notebook-cell://ssh-remote%2Btwix/storage/vbutoi/projects/ESE/notebooks/err_analysis/wmh_err.ipynb#W6sdnNjb2RlLXJlbW90ZQ%3D%3D?line=13'>14</a>\u001b[0m     x\u001b[39m=\u001b[39;49m\u001b[39m\"\u001b[39;49m\u001b[39mpred_label\u001b[39;49m\u001b[39m\"\u001b[39;49m,\n\u001b[1;32m     <a href='vscode-notebook-cell://ssh-remote%2Btwix/storage/vbutoi/projects/ESE/notebooks/err_analysis/wmh_err.ipynb#W6sdnNjb2RlLXJlbW90ZQ%3D%3D?line=14'>15</a>\u001b[0m     col\u001b[39m=\u001b[39;49m\u001b[39m\"\u001b[39;49m\u001b[39mbin_num\u001b[39;49m\u001b[39m\"\u001b[39;49m,\n\u001b[1;32m     <a href='vscode-notebook-cell://ssh-remote%2Btwix/storage/vbutoi/projects/ESE/notebooks/err_analysis/wmh_err.ipynb#W6sdnNjb2RlLXJlbW90ZQ%3D%3D?line=15'>16</a>\u001b[0m     kind\u001b[39m=\u001b[39;49m\u001b[39m\"\u001b[39;49m\u001b[39mbar\u001b[39;49m\u001b[39m\"\u001b[39;49m,\n\u001b[1;32m     <a href='vscode-notebook-cell://ssh-remote%2Btwix/storage/vbutoi/projects/ESE/notebooks/err_analysis/wmh_err.ipynb#W6sdnNjb2RlLXJlbW90ZQ%3D%3D?line=16'>17</a>\u001b[0m     add_avg\u001b[39m=\u001b[39;49m\u001b[39mFalse\u001b[39;49;00m,\n\u001b[1;32m     <a href='vscode-notebook-cell://ssh-remote%2Btwix/storage/vbutoi/projects/ESE/notebooks/err_analysis/wmh_err.ipynb#W6sdnNjb2RlLXJlbW90ZQ%3D%3D?line=17'>18</a>\u001b[0m     facet_kws\u001b[39m=\u001b[39;49m{\u001b[39m'\u001b[39;49m\u001b[39msharey\u001b[39;49m\u001b[39m'\u001b[39;49m: \u001b[39mFalse\u001b[39;49;00m, \u001b[39m'\u001b[39;49m\u001b[39msharex\u001b[39;49m\u001b[39m'\u001b[39;49m: \u001b[39mFalse\u001b[39;49;00m}\n\u001b[1;32m     <a href='vscode-notebook-cell://ssh-remote%2Btwix/storage/vbutoi/projects/ESE/notebooks/err_analysis/wmh_err.ipynb#W6sdnNjb2RlLXJlbW90ZQ%3D%3D?line=18'>19</a>\u001b[0m     )\n",
      "File \u001b[0;32m~/envs/UniverSegTF/lib/python3.9/site-packages/pydantic/decorator.py:40\u001b[0m, in \u001b[0;36mpydantic.decorator.validate_arguments.validate.wrapper_function\u001b[0;34m()\u001b[0m\n",
      "File \u001b[0;32m~/envs/UniverSegTF/lib/python3.9/site-packages/pydantic/decorator.py:134\u001b[0m, in \u001b[0;36mpydantic.decorator.ValidatedFunction.call\u001b[0;34m()\u001b[0m\n",
      "File \u001b[0;32m~/envs/UniverSegTF/lib/python3.9/site-packages/pydantic/decorator.py:206\u001b[0m, in \u001b[0;36mpydantic.decorator.ValidatedFunction.execute\u001b[0;34m()\u001b[0m\n",
      "File \u001b[0;32m/storage/vbutoi/projects/ESE/ese/experiment/analysis/err_diagrams.py:203\u001b[0m, in \u001b[0;36mviz_accuracy_vs_confidence\u001b[0;34m(pixel_preds, title, x, kind, add_avg, add_proportion, x_labels, col, facet_kws)\u001b[0m\n\u001b[1;32m    201\u001b[0m total_uniform \u001b[39m=\u001b[39m \u001b[39msum\u001b[39m(bin_samples[\u001b[39m\"\u001b[39m\u001b[39muniform\u001b[39m\u001b[39m\"\u001b[39m]\u001b[39m.\u001b[39mvalues())\n\u001b[1;32m    202\u001b[0m total_weighted \u001b[39m=\u001b[39m \u001b[39mint\u001b[39m(\u001b[39msum\u001b[39m(bin_samples[\u001b[39m\"\u001b[39m\u001b[39mweighted\u001b[39m\u001b[39m\"\u001b[39m]\u001b[39m.\u001b[39mvalues()))\n\u001b[0;32m--> 203\u001b[0m \u001b[39massert\u001b[39;00m np\u001b[39m.\u001b[39mabs(total_uniform \u001b[39m-\u001b[39m total_weighted) \u001b[39m<\u001b[39m \u001b[39m5\u001b[39m,\\\n\u001b[1;32m    204\u001b[0m     \u001b[39mf\u001b[39m\u001b[39m\"\u001b[39m\u001b[39mTotal uniform samples: \u001b[39m\u001b[39m{\u001b[39;00mtotal_uniform\u001b[39m}\u001b[39;00m\u001b[39m and Total weighted samples: \u001b[39m\u001b[39m{\u001b[39;00mtotal_weighted\u001b[39m}\u001b[39;00m\u001b[39m should be ~basically the same.\u001b[39m\u001b[39m\"\u001b[39m\n\u001b[1;32m    205\u001b[0m \u001b[39m# Loop through every bin and x_var\u001b[39;00m\n\u001b[1;32m    206\u001b[0m \u001b[39mfor\u001b[39;00m bin_num, x_var_set \u001b[39min\u001b[39;00m avg_data_dict\u001b[39m.\u001b[39mitems():\n",
      "\u001b[0;31mAssertionError\u001b[0m: Total uniform samples: 131317.0 and Total weighted samples: 15499264 should be ~basically the same."
     ]
    }
   ],
   "source": [
    "from ese.experiment.analysis.err_diagrams import viz_accuracy_vs_confidence\n",
    "from ese.experiment.analysis.utils import select_pixel_dict\n",
    "\n",
    "for split in [\"cal\"]: \n",
    "    split_preds_dict = select_pixel_dict(\n",
    "        pixel_meter_logdict=cal_inference_info[\"pixel_info_dicts\"], \n",
    "        metadata=cal_inference_info[\"metadata\"],\n",
    "        kwargs={\"dataset.split\": split}\n",
    "    ) \n",
    "    # Plot the accuracy vs confidence for this split.\n",
    "    viz_accuracy_vs_confidence(\n",
    "        split_preds_dict,\n",
    "        title=f\"WMH Confidence vs Accuracy per (Bin and Predicted Label, {split} split)\",\n",
    "        x=\"pred_label\",\n",
    "        col=\"bin_num\",\n",
    "        kind=\"bar\",\n",
    "        add_avg=False,\n",
    "        facet_kws={'sharey': False, 'sharex': False}\n",
    "        )"
   ]
  },
  {
   "cell_type": "code",
   "execution_count": null,
   "metadata": {},
   "outputs": [],
   "source": [
    "from ese.experiment.analysis.err_diagrams import viz_accuracy_vs_confidence\n",
    "from ese.experiment.analysis.utils import select_pixel_dict\n",
    "\n",
    "for split in [\"cal\"]: \n",
    "    split_preds_dict = select_pixel_dict(\n",
    "        pixel_meter_logdict=cal_inference_info[\"pixel_info_dicts\"], \n",
    "        metadata=cal_inference_info[\"metadata\"],\n",
    "        kwargs={\"dataset.split\": split}\n",
    "    ) \n",
    "    # Plot the accuracy vs confidence for this split.\n",
    "    viz_accuracy_vs_confidence(\n",
    "        split_preds_dict,\n",
    "        title=f\"WMH Confidence vs Accuracy per (Bin and Num Neighbors, split: {split})\",\n",
    "        x=\"num_neighbors\",\n",
    "        col=\"bin_num\",\n",
    "        kind=\"bar\",\n",
    "        add_avg=False,\n",
    "        add_proportion=True,\n",
    "        facet_kws={'sharey': False, 'sharex': False},\n",
    "        )"
   ]
  },
  {
   "cell_type": "markdown",
   "metadata": {},
   "source": [
    "## Image-level Analysis"
   ]
  },
  {
   "cell_type": "code",
   "execution_count": null,
   "metadata": {},
   "outputs": [],
   "source": [
    "image_info_df = cal_inference_info['image_info_df']"
   ]
  },
  {
   "cell_type": "code",
   "execution_count": null,
   "metadata": {},
   "outputs": [],
   "source": [
    "from ese.experiment.analysis.utils import reorder_splits\n",
    "\n",
    "unique_image_df = reorder_splits(image_info_df.drop_constant())"
   ]
  },
  {
   "cell_type": "code",
   "execution_count": null,
   "metadata": {},
   "outputs": [],
   "source": [
    "from ese.experiment.analysis.err_diagrams import viz_quality_metric_distributions\n",
    "\n",
    "viz_quality_metric_distributions(\n",
    "    unique_image_df, \n",
    "    title=\"WMH Quality Metric Distributions\",\n",
    "    col_wrap=3\n",
    ")"
   ]
  },
  {
   "cell_type": "code",
   "execution_count": null,
   "metadata": {},
   "outputs": [],
   "source": [
    "from ese.experiment.analysis.err_diagrams import viz_calibration_metric_distributions\n",
    "\n",
    "viz_calibration_metric_distributions(\n",
    "    unique_image_df, \n",
    "    title=\"WMH Calibration Metric Score Distributions\",\n",
    "    col_wrap=3\n",
    ")"
   ]
  },
  {
   "cell_type": "code",
   "execution_count": null,
   "metadata": {},
   "outputs": [],
   "source": [
    "from ese.experiment.analysis.err_diagrams import viz_cal_metric_corr\n",
    "\n",
    "viz_cal_metric_corr(\n",
    "    unique_image_df,\n",
    "    title=\"WMH Calibration Metric Score Correlation\",\n",
    "    heatmap_row=\"qual_metric\",\n",
    "    heatmap_col=\"cal_metric\",\n",
    "    col=\"cal_metric_type\",\n",
    "    height=7\n",
    ")"
   ]
  },
  {
   "cell_type": "code",
   "execution_count": null,
   "metadata": {},
   "outputs": [],
   "source": [
    "df_qm_sorted = unique_image_df.sort_values(by=[\"qual_metric\", \"cal_metric_type\"])\n",
    "g = sns.relplot(\n",
    "    df_qm_sorted, \n",
    "    x=\"cal_m_score\", \n",
    "    y=\"qual_score\", \n",
    "    hue=\"cal_metric\", \n",
    "    col=\"cal_metric\", \n",
    "    row=\"qual_metric\", \n",
    "    height=4, \n",
    "    aspect=1\n",
    "    )\n",
    "g.set(xlim=(0, 1), ylim=(0, 1))\n",
    "g.tight_layout()"
   ]
  }
 ],
 "metadata": {
  "kernelspec": {
   "display_name": "UniverSegTF",
   "language": "python",
   "name": "universegtf"
  },
  "language_info": {
   "codemirror_mode": {
    "name": "ipython",
    "version": 3
   },
   "file_extension": ".py",
   "mimetype": "text/x-python",
   "name": "python",
   "nbconvert_exporter": "python",
   "pygments_lexer": "ipython3",
   "version": "3.9.16"
  },
  "orig_nbformat": 4
 },
 "nbformat": 4,
 "nbformat_minor": 2
}
