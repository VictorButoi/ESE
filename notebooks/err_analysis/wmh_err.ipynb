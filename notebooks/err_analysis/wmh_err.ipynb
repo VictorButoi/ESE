{
 "cells": [
  {
   "cell_type": "code",
   "execution_count": 1,
   "metadata": {},
   "outputs": [],
   "source": [
    "import sys\n",
    "sys.path.append('/storage/vbutoi/projects')\n",
    "sys.path.append('/storage/vbutoi/libraries')\n",
    "sys.path.append('/storage/vbutoi/projects/ESE')\n",
    "sys.path.append('/storage/vbutoi/projects/UniverSeg')\n",
    "\n",
    "import seaborn as sns\n",
    "sns.set_style(\"darkgrid\")\n",
    "\n",
    "import os \n",
    "os.environ['DATAPATH'] = ':'.join((\n",
    "       '/storage/vbutoi/datasets',\n",
    "))\n",
    "\n",
    "# Results loader object does everything\n",
    "from ionpy.analysis import ResultsLoader\n",
    "from pathlib import Path\n",
    "root = Path(\"/storage/vbutoi/scratch/ESE\")\n",
    "rs = ResultsLoader()\n",
    "\n",
    "# For using code without restarting.\n",
    "%load_ext autoreload\n",
    "%autoreload \n",
    "# For using yaml configs.\n",
    "%load_ext yamlmagic"
   ]
  },
  {
   "cell_type": "code",
   "execution_count": 2,
   "metadata": {},
   "outputs": [
    {
     "data": {
      "application/vnd.jupyter.widget-view+json": {
       "model_id": "72eb7a7fc28a4ed5aa88bd9ec7221751",
       "version_major": 2,
       "version_minor": 0
      },
      "text/plain": [
       "  0%|          | 0/4 [00:00<?, ?it/s]"
      ]
     },
     "metadata": {},
     "output_type": "display_data"
    }
   ],
   "source": [
    "train_dfc = rs.load_configs(\n",
    "    root / \"training/10_23_23_Dense_WMH\",\n",
    "    properties=False,\n",
    ")"
   ]
  },
  {
   "cell_type": "code",
   "execution_count": 3,
   "metadata": {},
   "outputs": [
    {
     "data": {
      "text/html": [
       "<div>\n",
       "<style scoped>\n",
       "    .dataframe tbody tr th:only-of-type {\n",
       "        vertical-align: middle;\n",
       "    }\n",
       "\n",
       "    .dataframe tbody tr th {\n",
       "        vertical-align: top;\n",
       "    }\n",
       "\n",
       "    .dataframe thead th {\n",
       "        text-align: right;\n",
       "    }\n",
       "</style>\n",
       "<table border=\"1\" class=\"dataframe\">\n",
       "  <thead>\n",
       "    <tr style=\"text-align: right;\">\n",
       "      <th></th>\n",
       "      <th>augmentations</th>\n",
       "      <th>data</th>\n",
       "      <th>annotator</th>\n",
       "      <th>axis</th>\n",
       "      <th>in_channels</th>\n",
       "      <th>num_slices</th>\n",
       "      <th>out_channels</th>\n",
       "      <th>preload</th>\n",
       "      <th>slicing</th>\n",
       "      <th>task</th>\n",
       "      <th>...</th>\n",
       "      <th>convs_per_block</th>\n",
       "      <th>filters</th>\n",
       "      <th>optim</th>\n",
       "      <th>lr</th>\n",
       "      <th>weight_decay</th>\n",
       "      <th>train_augmentations</th>\n",
       "      <th>epochs</th>\n",
       "      <th>eval_freq</th>\n",
       "      <th>pretrained_dir</th>\n",
       "      <th>path</th>\n",
       "    </tr>\n",
       "  </thead>\n",
       "  <tbody>\n",
       "    <tr>\n",
       "      <th>0</th>\n",
       "      <td>null</td>\n",
       "      <td>ese.experiment.datasets.WMH</td>\n",
       "      <td>observer_o12</td>\n",
       "      <td>0</td>\n",
       "      <td>1</td>\n",
       "      <td>1</td>\n",
       "      <td>2</td>\n",
       "      <td>False</td>\n",
       "      <td>dense</td>\n",
       "      <td>Amsterdam</td>\n",
       "      <td>...</td>\n",
       "      <td>3</td>\n",
       "      <td>(64, 64, 64, 64, 64)</td>\n",
       "      <td>torch.optim.Adam</td>\n",
       "      <td>0.0003</td>\n",
       "      <td>0.0</td>\n",
       "      <td>None</td>\n",
       "      <td>1000</td>\n",
       "      <td>10</td>\n",
       "      <td>None</td>\n",
       "      <td>/storage/vbutoi/scratch/ESE/training/10_23_23_...</td>\n",
       "    </tr>\n",
       "    <tr>\n",
       "      <th>1</th>\n",
       "      <td>[{\"RandomAffine\": {\"degrees\": [0, 360], \"p\": 0...</td>\n",
       "      <td>ese.experiment.datasets.WMH</td>\n",
       "      <td>observer_o12</td>\n",
       "      <td>0</td>\n",
       "      <td>1</td>\n",
       "      <td>1</td>\n",
       "      <td>2</td>\n",
       "      <td>False</td>\n",
       "      <td>dense</td>\n",
       "      <td>Amsterdam</td>\n",
       "      <td>...</td>\n",
       "      <td>3</td>\n",
       "      <td>(64, 64, 64, 64, 64)</td>\n",
       "      <td>torch.optim.Adam</td>\n",
       "      <td>0.0003</td>\n",
       "      <td>0.0</td>\n",
       "      <td>None</td>\n",
       "      <td>1000</td>\n",
       "      <td>10</td>\n",
       "      <td>None</td>\n",
       "      <td>/storage/vbutoi/scratch/ESE/training/10_23_23_...</td>\n",
       "    </tr>\n",
       "  </tbody>\n",
       "</table>\n",
       "<p>2 rows × 31 columns</p>\n",
       "</div>"
      ],
      "text/plain": [
       "                                       augmentations  \\\n",
       "0                                               null   \n",
       "1  [{\"RandomAffine\": {\"degrees\": [0, 360], \"p\": 0...   \n",
       "\n",
       "                          data     annotator  axis  in_channels  num_slices  \\\n",
       "0  ese.experiment.datasets.WMH  observer_o12     0            1           1   \n",
       "1  ese.experiment.datasets.WMH  observer_o12     0            1           1   \n",
       "\n",
       "   out_channels  preload slicing       task  ...  convs_per_block  \\\n",
       "0             2    False   dense  Amsterdam  ...                3   \n",
       "1             2    False   dense  Amsterdam  ...                3   \n",
       "\n",
       "                filters             optim      lr  weight_decay  \\\n",
       "0  (64, 64, 64, 64, 64)  torch.optim.Adam  0.0003           0.0   \n",
       "1  (64, 64, 64, 64, 64)  torch.optim.Adam  0.0003           0.0   \n",
       "\n",
       "  train_augmentations epochs  eval_freq  pretrained_dir  \\\n",
       "0                None   1000         10            None   \n",
       "1                None   1000         10            None   \n",
       "\n",
       "                                                path  \n",
       "0  /storage/vbutoi/scratch/ESE/training/10_23_23_...  \n",
       "1  /storage/vbutoi/scratch/ESE/training/10_23_23_...  \n",
       "\n",
       "[2 rows x 31 columns]"
      ]
     },
     "execution_count": 3,
     "metadata": {},
     "output_type": "execute_result"
    }
   ],
   "source": [
    "train_dfc"
   ]
  },
  {
   "cell_type": "code",
   "execution_count": 4,
   "metadata": {},
   "outputs": [
    {
     "ename": "FileNotFoundError",
     "evalue": "[Errno 2] No such file or directory: '/storage/vbutoi/scratch/ESE/inference/12_06_23_WMH_Binarization'",
     "output_type": "error",
     "traceback": [
      "\u001b[0;31m---------------------------------------------------------------------------\u001b[0m",
      "\u001b[0;31mFileNotFoundError\u001b[0m                         Traceback (most recent call last)",
      "\u001b[1;32m/storage/vbutoi/projects/ESE/notebooks/err_analysis/wmh_err.ipynb Cell 4\u001b[0m line \u001b[0;36m6\n\u001b[1;32m      <a href='vscode-notebook-cell://ssh-remote%2Btwix/storage/vbutoi/projects/ESE/notebooks/err_analysis/wmh_err.ipynb#W3sdnNjb2RlLXJlbW90ZQ%3D%3D?line=2'>3</a>\u001b[0m inference_path \u001b[39m=\u001b[39m root \u001b[39m/\u001b[39m \u001b[39m\"\u001b[39m\u001b[39minference/12_06_23_WMH_Binarization\u001b[39m\u001b[39m\"\u001b[39m\n\u001b[1;32m      <a href='vscode-notebook-cell://ssh-remote%2Btwix/storage/vbutoi/projects/ESE/notebooks/err_analysis/wmh_err.ipynb#W3sdnNjb2RlLXJlbW90ZQ%3D%3D?line=3'>4</a>\u001b[0m dataset \u001b[39m=\u001b[39m \u001b[39m\"\u001b[39m\u001b[39mWMH\u001b[39m\u001b[39m\"\u001b[39m\n\u001b[0;32m----> <a href='vscode-notebook-cell://ssh-remote%2Btwix/storage/vbutoi/projects/ESE/notebooks/err_analysis/wmh_err.ipynb#W3sdnNjb2RlLXJlbW90ZQ%3D%3D?line=5'>6</a>\u001b[0m cal_inference_info \u001b[39m=\u001b[39m load_cal_inference_stats(\n\u001b[1;32m      <a href='vscode-notebook-cell://ssh-remote%2Btwix/storage/vbutoi/projects/ESE/notebooks/err_analysis/wmh_err.ipynb#W3sdnNjb2RlLXJlbW90ZQ%3D%3D?line=6'>7</a>\u001b[0m     log_dir\u001b[39m=\u001b[39;49minference_path,\n\u001b[1;32m      <a href='vscode-notebook-cell://ssh-remote%2Btwix/storage/vbutoi/projects/ESE/notebooks/err_analysis/wmh_err.ipynb#W3sdnNjb2RlLXJlbW90ZQ%3D%3D?line=7'>8</a>\u001b[0m )\n",
      "File \u001b[0;32m~/envs/UniverSegTF/lib/python3.9/site-packages/pydantic/decorator.py:40\u001b[0m, in \u001b[0;36mpydantic.decorator.validate_arguments.validate.wrapper_function\u001b[0;34m()\u001b[0m\n",
      "File \u001b[0;32m~/envs/UniverSegTF/lib/python3.9/site-packages/pydantic/decorator.py:134\u001b[0m, in \u001b[0;36mpydantic.decorator.ValidatedFunction.call\u001b[0;34m()\u001b[0m\n",
      "File \u001b[0;32m~/envs/UniverSegTF/lib/python3.9/site-packages/pydantic/decorator.py:206\u001b[0m, in \u001b[0;36mpydantic.decorator.ValidatedFunction.execute\u001b[0;34m()\u001b[0m\n",
      "File \u001b[0;32m/storage/vbutoi/projects/ESE/ese/experiment/analysis/inference.py:70\u001b[0m, in \u001b[0;36mload_cal_inference_stats\u001b[0;34m(log_dir)\u001b[0m\n\u001b[1;32m     68\u001b[0m cal_info_dict[\u001b[39m\"\u001b[39m\u001b[39mmetadata\u001b[39m\u001b[39m\"\u001b[39m] \u001b[39m=\u001b[39m pd\u001b[39m.\u001b[39mDataFrame([])\n\u001b[1;32m     69\u001b[0m \u001b[39m# Loop through every configuration in the log directory.\u001b[39;00m\n\u001b[0;32m---> 70\u001b[0m \u001b[39mfor\u001b[39;00m log_set \u001b[39min\u001b[39;00m log_dir\u001b[39m.\u001b[39miterdir():\n\u001b[1;32m     71\u001b[0m     \u001b[39mif\u001b[39;00m log_set\u001b[39m.\u001b[39mname \u001b[39m!=\u001b[39m \u001b[39m\"\u001b[39m\u001b[39msubmitit\u001b[39m\u001b[39m\"\u001b[39m:\n\u001b[1;32m     72\u001b[0m         \u001b[39m# Load the metadata file (json) and add it to the metadata dataframe.\u001b[39;00m\n\u001b[1;32m     73\u001b[0m         log_mdata_yaml \u001b[39m=\u001b[39m log_set \u001b[39m/\u001b[39m \u001b[39m\"\u001b[39m\u001b[39mmetadata.yaml\u001b[39m\u001b[39m\"\u001b[39m\n",
      "File \u001b[0;32m~/envs/UniverSegTF/lib/python3.9/pathlib.py:1160\u001b[0m, in \u001b[0;36mPath.iterdir\u001b[0;34m(self)\u001b[0m\n\u001b[1;32m   1156\u001b[0m \u001b[39mdef\u001b[39;00m \u001b[39miterdir\u001b[39m(\u001b[39mself\u001b[39m):\n\u001b[1;32m   1157\u001b[0m \u001b[39m    \u001b[39m\u001b[39m\"\"\"Iterate over the files in this directory.  Does not yield any\u001b[39;00m\n\u001b[1;32m   1158\u001b[0m \u001b[39m    result for the special paths '.' and '..'.\u001b[39;00m\n\u001b[1;32m   1159\u001b[0m \u001b[39m    \"\"\"\u001b[39;00m\n\u001b[0;32m-> 1160\u001b[0m     \u001b[39mfor\u001b[39;00m name \u001b[39min\u001b[39;00m \u001b[39mself\u001b[39;49m\u001b[39m.\u001b[39;49m_accessor\u001b[39m.\u001b[39;49mlistdir(\u001b[39mself\u001b[39;49m):\n\u001b[1;32m   1161\u001b[0m         \u001b[39mif\u001b[39;00m name \u001b[39min\u001b[39;00m {\u001b[39m'\u001b[39m\u001b[39m.\u001b[39m\u001b[39m'\u001b[39m, \u001b[39m'\u001b[39m\u001b[39m..\u001b[39m\u001b[39m'\u001b[39m}:\n\u001b[1;32m   1162\u001b[0m             \u001b[39m# Yielding a path object for these makes little sense\u001b[39;00m\n\u001b[1;32m   1163\u001b[0m             \u001b[39mcontinue\u001b[39;00m\n",
      "\u001b[0;31mFileNotFoundError\u001b[0m: [Errno 2] No such file or directory: '/storage/vbutoi/scratch/ESE/inference/12_06_23_WMH_Binarization'"
     ]
    }
   ],
   "source": [
    "from ese.experiment.analysis.inference import load_cal_inference_stats\n",
    "\n",
    "inference_path = root / \"inference/12_06_23_WMH_LoMS\"\n",
    "dataset = \"WMH\"\n",
    "\n",
    "cal_inference_info = load_cal_inference_stats(\n",
    "    log_dir=inference_path,\n",
    ")"
   ]
  },
  {
   "cell_type": "code",
   "execution_count": null,
   "metadata": {},
   "outputs": [],
   "source": [
    "cal_inference_info.keys()"
   ]
  },
  {
   "cell_type": "code",
   "execution_count": null,
   "metadata": {},
   "outputs": [],
   "source": [
    "metadata = cal_inference_info['metadata']"
   ]
  },
  {
   "cell_type": "code",
   "execution_count": null,
   "metadata": {},
   "outputs": [],
   "source": [
    "metadata.keys()"
   ]
  },
  {
   "cell_type": "markdown",
   "metadata": {},
   "source": [
    "## Pixel-level Analysis"
   ]
  },
  {
   "cell_type": "code",
   "execution_count": null,
   "metadata": {},
   "outputs": [],
   "source": [
    "from ese.experiment.analysis.err_diagrams import viz_accuracy_vs_confidence\n",
    "from ese.experiment.analysis.utils import select_pixel_dict\n",
    "\n",
    "for split in [\"cal\"]: \n",
    "    split_preds_dict = select_pixel_dict(\n",
    "        pixel_meter_logdict=cal_inference_info[\"pixel_info_dicts\"], \n",
    "        metadata=cal_inference_info[\"metadata\"],\n",
    "        kwargs={\"dataset.split\": split}\n",
    "    ) \n",
    "    # Plot the accuracy vs confidence for this split.\n",
    "    viz_accuracy_vs_confidence(\n",
    "        split_preds_dict,\n",
    "        title=f\"{dataset} Confidence vs Accuracy per (Bin and Predicted Label, {split} split)\",\n",
    "        x=\"pred_label\",\n",
    "        col=\"bin_num\",\n",
    "        kind=\"bar\",\n",
    "        add_avg=False,\n",
    "        facet_kws={'sharey': True, 'sharex': False}\n",
    "        )"
   ]
  },
  {
   "cell_type": "code",
   "execution_count": null,
   "metadata": {},
   "outputs": [],
   "source": [
    "from ese.experiment.analysis.err_diagrams import viz_accuracy_vs_confidence\n",
    "from ese.experiment.analysis.utils import select_pixel_dict\n",
    "\n",
    "for split in [\"cal\"]: \n",
    "    split_preds_dict = select_pixel_dict(\n",
    "        pixel_meter_logdict=cal_inference_info[\"pixel_info_dicts\"], \n",
    "        metadata=cal_inference_info[\"metadata\"],\n",
    "        kwargs={\"dataset.split\": split}\n",
    "    ) \n",
    "    # Plot the accuracy vs confidence for this split.\n",
    "    viz_accuracy_vs_confidence(\n",
    "        split_preds_dict,\n",
    "        title=f\"{dataset} Confidence vs Accuracy per (Bin and Num Neighbors, split: {split})\",\n",
    "        x=\"num_neighbors\",\n",
    "        col=\"bin_num\",\n",
    "        kind=\"bar\",\n",
    "        add_avg=False,\n",
    "        add_proportion=True,\n",
    "        facet_kws={'sharey': True, 'sharex': False},\n",
    "        )"
   ]
  },
  {
   "cell_type": "markdown",
   "metadata": {},
   "source": [
    "## Image-level Analysis"
   ]
  },
  {
   "cell_type": "code",
   "execution_count": null,
   "metadata": {},
   "outputs": [],
   "source": [
    "image_info_df = cal_inference_info['image_info_df']"
   ]
  },
  {
   "cell_type": "code",
   "execution_count": null,
   "metadata": {},
   "outputs": [],
   "source": [
    "from ese.experiment.analysis.utils import reorder_splits\n",
    "\n",
    "unique_image_df = reorder_splits(image_info_df)"
   ]
  },
  {
   "cell_type": "code",
   "execution_count": null,
   "metadata": {},
   "outputs": [],
   "source": [
    "from ese.experiment.analysis.err_diagrams import viz_quality_metric_distributions\n",
    "\n",
    "viz_quality_metric_distributions(\n",
    "    unique_image_df, \n",
    "    title=f\"{dataset} Quality Metric Distributions\",\n",
    "    col_wrap=4\n",
    ")"
   ]
  },
  {
   "cell_type": "code",
   "execution_count": null,
   "metadata": {},
   "outputs": [],
   "source": [
    "from ese.experiment.analysis.err_diagrams import viz_calibration_metric_distributions\n",
    "\n",
    "viz_calibration_metric_distributions(\n",
    "    unique_image_df, \n",
    "    title=f\"{dataset} Calibration Metric Score Distributions\",\n",
    "    col_wrap=3\n",
    ")"
   ]
  },
  {
   "cell_type": "code",
   "execution_count": null,
   "metadata": {},
   "outputs": [],
   "source": [
    "from ese.experiment.analysis.err_diagrams import viz_cal_metric_corr\n",
    "\n",
    "viz_cal_metric_corr(\n",
    "    unique_image_df,\n",
    "    title=f\"{dataset} Calibration Metric Score Correlation\",\n",
    "    heatmap_row=\"qual_metric\",\n",
    "    heatmap_col=\"cal_metric\",\n",
    "    col=\"cal_metric_type\",\n",
    "    height=7\n",
    ")"
   ]
  },
  {
   "cell_type": "code",
   "execution_count": null,
   "metadata": {},
   "outputs": [],
   "source": [
    "df_qm_sorted = unique_image_df.sort_values(by=[\"qual_metric\", \"cal_metric_type\"])\n",
    "g = sns.relplot(\n",
    "    df_qm_sorted, \n",
    "    x=\"qual_score\", \n",
    "    y=\"cal_m_score\", \n",
    "    hue=\"cal_metric\", \n",
    "    col=\"cal_metric\", \n",
    "    row=\"qual_metric\", \n",
    "    height=4, \n",
    "    aspect=1,\n",
    "    facet_kws={'sharey': False, 'sharex': False}\n",
    "    )\n",
    "# g.set(xlim=(0, 1), ylim=(0, 1))\n",
    "g.tight_layout()"
   ]
  },
  {
   "cell_type": "code",
   "execution_count": null,
   "metadata": {},
   "outputs": [],
   "source": [
    "df_qm_sorted.keys()"
   ]
  },
  {
   "cell_type": "code",
   "execution_count": null,
   "metadata": {},
   "outputs": [],
   "source": [
    "g = sns.relplot(\n",
    "    df_qm_sorted, \n",
    "    x=\"true_lab_amount\", \n",
    "    y=\"qual_score\", \n",
    "    hue=\"qual_metric\", \n",
    "    col=\"qual_metric\", \n",
    "    row=\"label\",\n",
    "    height=4, \n",
    "    aspect=1,\n",
    "    facet_kws={'sharey': False, 'sharex': False}\n",
    "    )\n",
    "#g.set(ylim=(0, 1))\n",
    "g.tight_layout()"
   ]
  },
  {
   "cell_type": "code",
   "execution_count": null,
   "metadata": {},
   "outputs": [],
   "source": [
    "g = sns.relplot(\n",
    "    df_qm_sorted, \n",
    "    x=\"true_lab_amount\", \n",
    "    y=\"cal_m_score\", \n",
    "    hue=\"cal_metric\", \n",
    "    col=\"cal_metric\", \n",
    "    row=\"label\",\n",
    "    height=4,\n",
    "    aspect=1,\n",
    "    facet_kws={'sharey': False, 'sharex': False}\n",
    "    )\n",
    "g.tight_layout()"
   ]
  }
 ],
 "metadata": {
  "kernelspec": {
   "display_name": "UniverSegTF",
   "language": "python",
   "name": "universegtf"
  },
  "language_info": {
   "codemirror_mode": {
    "name": "ipython",
    "version": 3
   },
   "file_extension": ".py",
   "mimetype": "text/x-python",
   "name": "python",
   "nbconvert_exporter": "python",
   "pygments_lexer": "ipython3",
   "version": "3.9.16"
  },
  "orig_nbformat": 4
 },
 "nbformat": 4,
 "nbformat_minor": 2
}
