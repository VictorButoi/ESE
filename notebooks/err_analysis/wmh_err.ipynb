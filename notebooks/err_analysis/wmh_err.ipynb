{
 "cells": [
  {
   "cell_type": "code",
   "execution_count": null,
   "metadata": {},
   "outputs": [],
   "source": [
    "import sys\n",
    "sys.path.append('/storage/vbutoi/projects')\n",
    "sys.path.append('/storage/vbutoi/libraries')\n",
    "sys.path.append('/storage/vbutoi/projects/ESE')\n",
    "sys.path.append('/storage/vbutoi/projects/UniverSeg')\n",
    "\n",
    "import seaborn as sns\n",
    "sns.set_style(\"darkgrid\")\n",
    "\n",
    "import os \n",
    "os.environ['DATAPATH'] = ':'.join((\n",
    "       '/storage/vbutoi/datasets',\n",
    "))\n",
    "\n",
    "# Results loader object does everything\n",
    "from ionpy.analysis import ResultsLoader\n",
    "from pathlib import Path\n",
    "root = Path(\"/storage/vbutoi/scratch/ESE\")\n",
    "rs = ResultsLoader()\n",
    "\n",
    "# For using code without restarting.\n",
    "%load_ext autoreload\n",
    "%autoreload \n",
    "# For using yaml configs.\n",
    "%load_ext yamlmagic"
   ]
  },
  {
   "cell_type": "code",
   "execution_count": null,
   "metadata": {},
   "outputs": [],
   "source": [
    "from ese.experiment.analysis.inference import load_cal_inference_stats\n",
    "\n",
    "inference_path = root / \"inference/12_17_23_WMH_GlobalAnalysis\"\n",
    "dataset = \"WMH\"\n",
    "\n",
    "cal_inference_info = load_cal_inference_stats(\n",
    "    log_dir=inference_path,\n",
    ")"
   ]
  },
  {
   "cell_type": "code",
   "execution_count": null,
   "metadata": {},
   "outputs": [],
   "source": [
    "cal_inference_info.keys()"
   ]
  },
  {
   "cell_type": "code",
   "execution_count": null,
   "metadata": {},
   "outputs": [],
   "source": [
    "metadata = cal_inference_info['metadata']"
   ]
  },
  {
   "cell_type": "code",
   "execution_count": null,
   "metadata": {},
   "outputs": [],
   "source": [
    "record_name = list(cal_inference_info[\"pixel_info_dicts\"].keys())[0]"
   ]
  },
  {
   "cell_type": "markdown",
   "metadata": {},
   "source": [
    "## Barplot Pixel-level Analysis"
   ]
  },
  {
   "cell_type": "code",
   "execution_count": null,
   "metadata": {},
   "outputs": [],
   "source": [
    "# from ese.experiment.analysis.err_diagrams import viz_accuracy_vs_confidence\n",
    "# from ese.experiment.analysis.utils import select_pixel_dict\n",
    "\n",
    "# for split in [\"cal\"]: \n",
    "#     split_preds_dict = select_pixel_dict(\n",
    "#         pixel_meter_logdict=cal_inference_info[\"pixel_info_dicts\"], \n",
    "#         metadata=cal_inference_info[\"metadata\"],\n",
    "#         kwargs={\"dataset.split\": split}\n",
    "#     ) \n",
    "#     # Plot the accuracy vs confidence for this split.\n",
    "#     viz_accuracy_vs_confidence(\n",
    "#         split_preds_dict,\n",
    "#         title=f\"{dataset} Confidence vs Accuracy per (Bin and Predicted Label, {split} split)\",\n",
    "#         x=\"pred_label\",\n",
    "#         col=\"bin_num\",\n",
    "#         kind=\"bar\",\n",
    "#         facet_kws={'sharey': True, 'sharex': False}\n",
    "#         )"
   ]
  },
  {
   "cell_type": "code",
   "execution_count": null,
   "metadata": {},
   "outputs": [],
   "source": [
    "# from ese.experiment.analysis.err_diagrams import viz_accuracy_vs_confidence\n",
    "\n",
    "# # Plot the accuracy vs confidence for this split.\n",
    "# viz_accuracy_vs_confidence(\n",
    "#     cal_inference_info[\"pixel_info_dicts\"][record_name],\n",
    "#     title=f\"{dataset} Confidence vs Accuracy per (Bin and Num Neighbors)\",\n",
    "#     x=\"num_neighbors\",\n",
    "#     col=\"bin_num\",\n",
    "#     relative_props=True,\n",
    "#     facet_kws={'sharey': True, 'sharex': False},\n",
    "#     )"
   ]
  },
  {
   "cell_type": "code",
   "execution_count": null,
   "metadata": {},
   "outputs": [],
   "source": [
    "# from ese.experiment.analysis.err_diagrams import viz_accuracy_vs_confidence\n",
    "\n",
    "# for label in [0, 1]: \n",
    "#     # Plot the accuracy vs confidence for this split.\n",
    "#     viz_accuracy_vs_confidence(\n",
    "#         cal_inference_info[\"pixel_info_dicts\"][record_name],\n",
    "#         title=f\"{dataset} Confidence vs Accuracy per (Bin and Num Neighbors, label: {label})\",\n",
    "#         x=\"num_neighbors\",\n",
    "#         col=\"bin_num\",\n",
    "#         relative_props=False,\n",
    "#         add_edge_props=True,\n",
    "#         label=label,\n",
    "#         facet_kws={'sharey': True, 'sharex': False},\n",
    "#         )"
   ]
  },
  {
   "cell_type": "markdown",
   "metadata": {},
   "source": [
    "## Look at the metrics."
   ]
  },
  {
   "cell_type": "code",
   "execution_count": null,
   "metadata": {},
   "outputs": [],
   "source": [
    "from ese.experiment.metrics.total import global_ece_loss\n",
    "\n",
    "global_ece_loss(\n",
    "    cal_inference_info[\"pixel_info_dicts\"][record_name],\n",
    "    )"
   ]
  },
  {
   "cell_type": "markdown",
   "metadata": {},
   "source": [
    "## Image-level Analysis"
   ]
  },
  {
   "cell_type": "code",
   "execution_count": null,
   "metadata": {},
   "outputs": [],
   "source": [
    "image_info_df = cal_inference_info['image_info_df']"
   ]
  },
  {
   "cell_type": "code",
   "execution_count": null,
   "metadata": {},
   "outputs": [],
   "source": [
    "from ese.experiment.analysis.utils import reorder_splits\n",
    "\n",
    "unique_image_df = reorder_splits(image_info_df)"
   ]
  },
  {
   "cell_type": "code",
   "execution_count": null,
   "metadata": {},
   "outputs": [],
   "source": [
    "from ese.experiment.analysis.err_diagrams import viz_quality_metric_distributions\n",
    "\n",
    "viz_quality_metric_distributions(\n",
    "    unique_image_df, \n",
    "    title=f\"{dataset} Quality Metric Distributions\",\n",
    "    col_wrap=5\n",
    ")"
   ]
  },
  {
   "cell_type": "code",
   "execution_count": null,
   "metadata": {},
   "outputs": [],
   "source": [
    "from ese.experiment.analysis.err_diagrams import viz_calibration_metric_distributions\n",
    "\n",
    "viz_calibration_metric_distributions(\n",
    "    unique_image_df, \n",
    "    title=f\"{dataset} Calibration Metric Score Distributions\",\n",
    "    col_wrap=3\n",
    ")"
   ]
  },
  {
   "cell_type": "code",
   "execution_count": null,
   "metadata": {},
   "outputs": [],
   "source": [
    "from ese.experiment.analysis.err_diagrams import viz_cal_metric_corr\n",
    "\n",
    "viz_cal_metric_corr(\n",
    "    unique_image_df,\n",
    "    title=f\"{dataset} Calibration Metric Score Correlation\",\n",
    "    heatmap_row=\"qual_metric\",\n",
    "    heatmap_col=\"cal_metric\",\n",
    "    col=\"cal_metric_type\",\n",
    "    height=7\n",
    ")"
   ]
  },
  {
   "cell_type": "code",
   "execution_count": null,
   "metadata": {},
   "outputs": [],
   "source": [
    "import matplotlib.pyplot as plt\n",
    "\n",
    "df_qm_sorted = unique_image_df.sort_values(by=[\"qual_metric\", \"cal_metric_type\"])\n",
    "g = sns.relplot(\n",
    "    df_qm_sorted, \n",
    "    x=\"cal_m_score\", \n",
    "    y=\"qual_score\", \n",
    "    col=\"cal_metric\", \n",
    "    row=\"qual_metric\", \n",
    "    height=3.5, \n",
    "    aspect=1,\n",
    "    facet_kws={'sharey': False, 'sharex': False}\n",
    "    )\n",
    "# g.set(xlim=(0, 1), ylim=(0, 1))\n",
    "g.tight_layout()\n",
    "plt.show()"
   ]
  },
  {
   "cell_type": "code",
   "execution_count": null,
   "metadata": {},
   "outputs": [],
   "source": [
    "# g = sns.relplot(\n",
    "#     df_qm_sorted, \n",
    "#     x=\"log_true_lab_amount\", \n",
    "#     y=\"qual_score\", \n",
    "#     hue=\"qual_metric\", \n",
    "#     col=\"qual_metric\", \n",
    "#     row=\"label\",\n",
    "#     height=4, \n",
    "#     aspect=1,\n",
    "#     facet_kws={'sharey': False, 'sharex': False}\n",
    "#     )\n",
    "# #g.set(ylim=(0, 1))\n",
    "# g.tight_layout()"
   ]
  },
  {
   "cell_type": "code",
   "execution_count": null,
   "metadata": {},
   "outputs": [],
   "source": [
    "# g = sns.relplot(\n",
    "#     df_qm_sorted, \n",
    "#     x=\"log_true_lab_amount\", \n",
    "#     y=\"cal_m_score\", \n",
    "#     hue=\"cal_metric\", \n",
    "#     col=\"cal_metric\", \n",
    "#     row=\"label\",\n",
    "#     height=4,\n",
    "#     aspect=1,\n",
    "#     facet_kws={'sharey': False, 'sharex': False}\n",
    "#     )\n",
    "# g.tight_layout()"
   ]
  }
 ],
 "metadata": {
  "kernelspec": {
   "display_name": "UniverSegTF",
   "language": "python",
   "name": "universegtf"
  },
  "language_info": {
   "codemirror_mode": {
    "name": "ipython",
    "version": 3
   },
   "file_extension": ".py",
   "mimetype": "text/x-python",
   "name": "python",
   "nbconvert_exporter": "python",
   "pygments_lexer": "ipython3",
   "version": "3.9.16"
  },
  "orig_nbformat": 4
 },
 "nbformat": 4,
 "nbformat_minor": 2
}
