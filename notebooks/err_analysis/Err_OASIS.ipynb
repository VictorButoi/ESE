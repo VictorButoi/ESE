{
 "cells": [
  {
   "cell_type": "code",
   "execution_count": null,
   "metadata": {},
   "outputs": [],
   "source": [
    "import sys\n",
    "sys.path.append('/storage/vbutoi/projects')\n",
    "sys.path.append('/storage/vbutoi/libraries')\n",
    "sys.path.append('/storage/vbutoi/projects/ESE')\n",
    "sys.path.append('/storage/vbutoi/projects/UniverSeg')\n",
    "\n",
    "from ionpy.analysis import ResultsLoader\n",
    "from ese.experiment.experiment import CalibrationExperiment\n",
    "import seaborn as sns\n",
    "import matplotlib.pyplot as plt\n",
    "sns.set_style(\"darkgrid\")\n",
    "\n",
    "import os \n",
    "os.environ['DATAPATH'] = ':'.join((\n",
    "       '/storage/vbutoi/datasets',\n",
    "))\n",
    "\n",
    "# Results loader object does everything\n",
    "rs = ResultsLoader()\n",
    "root = \"/storage/vbutoi/scratch/ESE\"\n",
    "\n",
    "%load_ext yamlmagic\n",
    "%load_ext autoreload\n",
    "%autoreload 2"
   ]
  },
  {
   "cell_type": "code",
   "execution_count": null,
   "metadata": {},
   "outputs": [],
   "source": [
    "path = f\"{root}/10_15_23_OASIS_axis0\"\n",
    "\n",
    "dfc = rs.load_configs(\n",
    "    path,\n",
    "    properties=False,\n",
    ")\n",
    "\n",
    "df = rs.load_metrics(dfc)"
   ]
  },
  {
   "cell_type": "code",
   "execution_count": null,
   "metadata": {},
   "outputs": [],
   "source": [
    "\n",
    "os.environ[\"CUDA_VISIBLE_DEVICES\"] = '2'\n",
    "\n",
    "best_exp = rs.get_best_experiment(\n",
    "    df=df,\n",
    "    exp_class=CalibrationExperiment,\n",
    "    device=\"cuda\"\n",
    ")\n",
    "best_exp.build_dataloader(batch_size=1)"
   ]
  },
  {
   "cell_type": "code",
   "execution_count": null,
   "metadata": {},
   "outputs": [],
   "source": [
    "best_exp.vis_loss_curves(height=6)"
   ]
  },
  {
   "cell_type": "code",
   "execution_count": null,
   "metadata": {},
   "outputs": [],
   "source": [
    "from ese.experiment.analysis.inference import get_dataset_perf \n",
    "\n",
    "# val_perf is a dict where each item is the subj id\n",
    "predictions_list, unique_labels = get_dataset_perf(\n",
    "    exp=best_exp, \n",
    "    split=\"val\"\n",
    "    )"
   ]
  },
  {
   "cell_type": "code",
   "execution_count": null,
   "metadata": {},
   "outputs": [],
   "source": [
    "len(predictions_list), len(unique_labels)"
   ]
  },
  {
   "cell_type": "code",
   "execution_count": null,
   "metadata": {},
   "outputs": [],
   "source": [
    "from ese.experiment.analysis.inference import get_pixelinfo_df\n",
    "\n",
    "pixel_preds_df = get_pixelinfo_df(\n",
    "    data_points=predictions_list,\n",
    "    num_bins=10,\n",
    "    num_unique_labels=len(unique_labels)\n",
    "    )"
   ]
  },
  {
   "cell_type": "code",
   "execution_count": null,
   "metadata": {},
   "outputs": [],
   "source": [
    "from ese.experiment.analysis.err_diagrams import viz_accuracy_vs_confidence\n",
    "\n",
    "viz_accuracy_vs_confidence(\n",
    "    pixel_preds_df,\n",
    "    title=\"OASIS Confidence vs Accuracy per (Bin and Label)\",\n",
    "    x=\"label\",\n",
    "    hue=\"measure\",\n",
    "    col=\"bin_num\",\n",
    "    kind=\"bar\",\n",
    "    x_labels=False,\n",
    "    add_average=True\n",
    "    )"
   ]
  },
  {
   "cell_type": "code",
   "execution_count": null,
   "metadata": {},
   "outputs": [],
   "source": [
    "from ese.experiment.analysis.err_diagrams import viz_accuracy_vs_confidence\n",
    "\n",
    "viz_accuracy_vs_confidence(\n",
    "    pixel_preds_df,\n",
    "    title=\"OASIS Confidence vs Accuracy per (Bin and Label)\",\n",
    "    x=\"label\",\n",
    "    hue=\"measure\",\n",
    "    col=\"bin_num\",\n",
    "    kind=\"line\",\n",
    "    add_average=True,\n",
    "    )"
   ]
  },
  {
   "cell_type": "code",
   "execution_count": null,
   "metadata": {},
   "outputs": [],
   "source": [
    "from ese.experiment.analysis.err_diagrams import viz_accuracy_vs_confidence\n",
    "\n",
    "viz_accuracy_vs_confidence(\n",
    "    pixel_preds_df,\n",
    "    title=\"OASIS Confidence vs Accuracy per (Bin and Num Neighbors)\",\n",
    "    x=\"num_neighbors\",\n",
    "    hue=\"measure\",\n",
    "    col=\"bin_num\",\n",
    "    kind=\"bar\",\n",
    "    add_average=True\n",
    "    )"
   ]
  },
  {
   "cell_type": "code",
   "execution_count": null,
   "metadata": {},
   "outputs": [],
   "source": [
    "from ese.experiment.analysis.err_diagrams import viz_accuracy_vs_confidence\n",
    "\n",
    "viz_accuracy_vs_confidence(\n",
    "    pixel_preds_df,\n",
    "    title=\"OASIS Confidence vs Accuracy per (Bin and Num Neighbors)\",\n",
    "    x=\"num_neighbors\",\n",
    "    hue=\"measure\",\n",
    "    col=\"bin_num\",\n",
    "    kind=\"line\",\n",
    "    add_average=True,\n",
    "    )"
   ]
  },
  {
   "cell_type": "code",
   "execution_count": null,
   "metadata": {},
   "outputs": [],
   "source": [
    "from ese.experiment.analysis.err_diagrams import viz_accuracy_vs_confidence\n",
    "\n",
    "viz_accuracy_vs_confidence(\n",
    "    pixel_preds_df,\n",
    "    title=\"OASIS Confidence vs Accuracy per (Bin, Label, and Num Neighbors)\",\n",
    "    x=\"label,num_neighbors\",\n",
    "    hue=\"measure\",\n",
    "    col=\"bin_num\",\n",
    "    kind=\"bar\",\n",
    "    x_labels=False,\n",
    "    add_average=True,\n",
    "    )"
   ]
  },
  {
   "cell_type": "code",
   "execution_count": null,
   "metadata": {},
   "outputs": [],
   "source": [
    "from ese.experiment.analysis.err_diagrams import viz_accuracy_vs_confidence\n",
    "\n",
    "viz_accuracy_vs_confidence(\n",
    "    pixel_preds_df,\n",
    "    title=\"OASIS Confidence vs Accuracy per (Bin, Label, and Num Neighbors)\",\n",
    "    x=\"label\",\n",
    "    hue=\"num_neighbors\",\n",
    "    col=\"bin_num\",\n",
    "    kind=\"line\",\n",
    "    style=\"measure\",\n",
    "    add_average=True,\n",
    "    facet_kws={'sharey': False, 'sharex': True}\n",
    "    )"
   ]
  }
 ],
 "metadata": {
  "kernelspec": {
   "display_name": "UniverSegTF",
   "language": "python",
   "name": "universegtf"
  },
  "language_info": {
   "codemirror_mode": {
    "name": "ipython",
    "version": 3
   },
   "file_extension": ".py",
   "mimetype": "text/x-python",
   "name": "python",
   "nbconvert_exporter": "python",
   "pygments_lexer": "ipython3",
   "version": "3.9.16"
  },
  "orig_nbformat": 4
 },
 "nbformat": 4,
 "nbformat_minor": 2
}
