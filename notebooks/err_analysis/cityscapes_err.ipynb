{
 "cells": [
  {
   "cell_type": "code",
   "execution_count": null,
   "metadata": {},
   "outputs": [],
   "source": [
    "import sys\n",
    "sys.path.append('/storage/vbutoi/projects')\n",
    "sys.path.append('/storage/vbutoi/libraries')\n",
    "sys.path.append('/storage/vbutoi/projects/ESE')\n",
    "sys.path.append('/storage/vbutoi/projects/UniverSeg')\n",
    "\n",
    "from ionpy.analysis import ResultsLoader\n",
    "from ese.experiment.experiment import CalibrationExperiment\n",
    "import seaborn as sns\n",
    "import matplotlib.pyplot as plt\n",
    "sns.set_style(\"darkgrid\")\n",
    "\n",
    "import os \n",
    "os.environ['DATAPATH'] = ':'.join((\n",
    "       '/storage/vbutoi/datasets',\n",
    "))\n",
    "\n",
    "# Results loader object does everything\n",
    "rs = ResultsLoader()\n",
    "root = \"/storage/vbutoi/scratch/ESE\"\n",
    "\n",
    "%load_ext yamlmagic\n",
    "%load_ext autoreload\n",
    "%autoreload 2"
   ]
  },
  {
   "cell_type": "code",
   "execution_count": null,
   "metadata": {},
   "outputs": [],
   "source": [
    "from ese.experiment.analysis.inference import load_cal_inference_stats\n",
    "\n",
    "path = f\"{root}/11_02_23_CityScapes_Inference\"\n",
    "\n",
    "pix_inference_dicts, _, metadata_df = load_cal_inference_stats(\n",
    "    path,\n",
    "    return_metadata=True\n",
    ")"
   ]
  },
  {
   "cell_type": "code",
   "execution_count": null,
   "metadata": {},
   "outputs": [],
   "source": [
    "metadata_df['log_set']"
   ]
  },
  {
   "cell_type": "code",
   "execution_count": null,
   "metadata": {},
   "outputs": [],
   "source": [
    "# Get the pixel preds out\n",
    "pixel_preds_dict = pix_inference_dicts[metadata_df['log_set'][0]]"
   ]
  },
  {
   "cell_type": "code",
   "execution_count": null,
   "metadata": {},
   "outputs": [],
   "source": [
    "from ese.experiment.analysis.err_diagrams import viz_accuracy_vs_confidence\n",
    "\n",
    "viz_accuracy_vs_confidence(\n",
    "    pixel_preds_dict,\n",
    "    title=\"CityScapes Confidence vs Accuracy per (Bin and Predicted Label)\",\n",
    "    x=\"pred_label\",\n",
    "    hue=\"measure\",\n",
    "    col=\"bin_num\",\n",
    "    kind=\"bar\",\n",
    "    add_average=True,\n",
    "    add_proportion=True,\n",
    "    facet_kws={'sharey': False, 'sharex': False}\n",
    "    )"
   ]
  },
  {
   "cell_type": "code",
   "execution_count": null,
   "metadata": {},
   "outputs": [],
   "source": [
    "from ese.experiment.analysis.err_diagrams import viz_accuracy_vs_confidence\n",
    "\n",
    "viz_accuracy_vs_confidence(\n",
    "    pixel_preds_dict,\n",
    "    title=\"CityScapes Confidence vs Accuracy per (Bin and Predicted Label)\",\n",
    "    x=\"pred_label\",\n",
    "    hue=\"measure\",\n",
    "    col=\"bin_num\",\n",
    "    kind=\"line\",\n",
    "    add_average=True,\n",
    "    facet_kws={'sharey': False, 'sharex': False}\n",
    "    )"
   ]
  },
  {
   "cell_type": "code",
   "execution_count": null,
   "metadata": {},
   "outputs": [],
   "source": [
    "from ese.experiment.analysis.err_diagrams import viz_accuracy_vs_confidence\n",
    "\n",
    "viz_accuracy_vs_confidence(\n",
    "    pixel_preds_dict,\n",
    "    title=\"CityScapes Confidence vs Accuracy per (Bin and Num Neighbors)\",\n",
    "    x=\"num_neighbors\",\n",
    "    hue=\"measure\",\n",
    "    col=\"bin_num\",\n",
    "    kind=\"bar\",\n",
    "    add_average=True,\n",
    "    add_proportion=True,\n",
    "    facet_kws={'sharey': False, 'sharex': False},\n",
    "    )"
   ]
  },
  {
   "cell_type": "code",
   "execution_count": null,
   "metadata": {},
   "outputs": [],
   "source": [
    "from ese.experiment.analysis.err_diagrams import viz_accuracy_vs_confidence\n",
    "\n",
    "viz_accuracy_vs_confidence(\n",
    "    pixel_preds_dict,\n",
    "    title=\"CityScapes Confidence vs Accuracy per (Bin and Num Neighbors)\",\n",
    "    x=\"num_neighbors\",\n",
    "    hue=\"measure\",\n",
    "    col=\"bin_num\",\n",
    "    kind=\"line\",\n",
    "    add_average=True,\n",
    "    facet_kws={'sharey': False, 'sharex': False},\n",
    "    )"
   ]
  },
  {
   "cell_type": "code",
   "execution_count": null,
   "metadata": {},
   "outputs": [],
   "source": [
    "from ese.experiment.analysis.err_diagrams import viz_accuracy_vs_confidence\n",
    "\n",
    "viz_accuracy_vs_confidence(\n",
    "    pixel_preds_dict,\n",
    "    title=\"CityScapes Confidence vs Accuracy per (Bin, Predicted Label, and Num Neighbors)\",\n",
    "    x=\"pred_label,num_neighbors\",\n",
    "    hue=\"measure\",\n",
    "    col=\"bin_num\",\n",
    "    kind=\"bar\",\n",
    "    x_labels=False,\n",
    "    add_average=True,\n",
    "    add_proportion=True,\n",
    "    facet_kws={'sharey': False, 'sharex': False},\n",
    "    )"
   ]
  },
  {
   "cell_type": "code",
   "execution_count": null,
   "metadata": {},
   "outputs": [],
   "source": [
    "from ese.experiment.analysis.err_diagrams import viz_accuracy_vs_confidence\n",
    "\n",
    "viz_accuracy_vs_confidence(\n",
    "    pixel_preds_dict,\n",
    "    title=\"CityScapes Confidence vs Accuracy per (Bin, Predicted Label, and Num Neighbors)\",\n",
    "    x=\"num_neighbors\",\n",
    "    hue=\"pred_label\",\n",
    "    col=\"bin_num\",\n",
    "    kind=\"line\",\n",
    "    style=\"measure\",\n",
    "    add_average=True,\n",
    "    facet_kws={'sharey': False, 'sharex': False}\n",
    "    )"
   ]
  }
 ],
 "metadata": {
  "kernelspec": {
   "display_name": "UniverSegTF",
   "language": "python",
   "name": "universegtf"
  },
  "language_info": {
   "codemirror_mode": {
    "name": "ipython",
    "version": 3
   },
   "file_extension": ".py",
   "mimetype": "text/x-python",
   "name": "python",
   "nbconvert_exporter": "python",
   "pygments_lexer": "ipython3",
   "version": "3.9.16"
  },
  "orig_nbformat": 4
 },
 "nbformat": 4,
 "nbformat_minor": 2
}
