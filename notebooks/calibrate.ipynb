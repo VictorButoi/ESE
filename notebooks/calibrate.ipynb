{
 "cells": [
  {
   "cell_type": "code",
   "execution_count": 1,
   "metadata": {},
   "outputs": [],
   "source": [
    "# Random Imports\n",
    "import os\n",
    "import sys\n",
    "import yaml\n",
    "from pathlib import Path\n",
    "sys.path.append('/storage/vbutoi/projects')\n",
    "sys.path.append('/storage/vbutoi/libraries')\n",
    "sys.path.append('/storage/vbutoi/projects/ESE')\n",
    "sys.path.append('/storage/vbutoi/projects/UniverSeg')\n",
    "\n",
    "# Regular schema dictates that we put DATAPATH\n",
    "os.environ['DATAPATH'] = ':'.join((\n",
    "       '/storage/vbutoi/datasets',\n",
    "))\n",
    "os.environ['WANDB_NOTEBOOK_NAME'] = 'calibrate.ipynb'\n",
    "\n",
    "from ionpy.util import Config\n",
    "\n",
    "# Setup direcrtories\n",
    "root = Path(\"/storage/vbutoi/scratch/ESE\")\n",
    "scratch_root = Path(\"/storage/vbutoi/scratch/ESE\")\n",
    "code_root = Path(\"/storage/vbutoi/projects/ESE\")\n",
    "\n",
    "%load_ext yamlmagic\n",
    "%load_ext autoreload\n",
    "%autoreload 2"
   ]
  },
  {
   "cell_type": "code",
   "execution_count": 2,
   "metadata": {},
   "outputs": [
    {
     "data": {
      "application/javascript": "\n            require(\n                [\n                    \"notebook/js/codecell\",\n                    \"codemirror/mode/yaml/yaml\"\n                ],\n                function(cc){\n                    cc.CodeCell.options_default.highlight_modes.magic_yaml = {\n                        reg: [\"^%%yaml\"]\n                    }\n                }\n            );\n            ",
      "text/plain": [
       "<IPython.core.display.Javascript object>"
      ]
     },
     "metadata": {},
     "output_type": "display_data"
    }
   ],
   "source": [
    "%%yaml default_cfg\n",
    "\n",
    "data:\n",
    "  iters_per_epoch: '?' \n",
    "  train_splits: cal\n",
    "  val_splits: val \n",
    "\n",
    "dataloader:\n",
    "  batch_size: '?' # Often, we train with a small num of images total. \n",
    "  num_workers: 1\n",
    "  pin_memory: True \n",
    "\n",
    "optim: # Unclear if we should tune this or not.\n",
    "  _class: torch.optim.Adam\n",
    "  weight_decay: 0.0 \n",
    "  lr: 1.0e-4\n",
    "\n",
    "train:\n",
    "  epochs: '?' # 10 * 100 = 1000 iterations\n",
    "  eval_freq: 10 \n",
    "  pretrained_dir: '?'\n",
    "  checkpoint: 'max-val-dice_score'\n",
    "  pretrained_select_metric: 'val-dice_score'\n",
    "\n",
    "loss_func: \n",
    "  _class: '?'\n",
    "  from_logits: True\n",
    "  batch_reduction: 'mean' "
   ]
  },
  {
   "cell_type": "code",
   "execution_count": 3,
   "metadata": {},
   "outputs": [
    {
     "data": {
      "application/javascript": "\n            require(\n                [\n                    \"notebook/js/codecell\",\n                    \"codemirror/mode/yaml/yaml\"\n                ],\n                function(cc){\n                    cc.CodeCell.options_default.highlight_modes.magic_yaml = {\n                        reg: [\"^%%yaml\"]\n                    }\n                }\n            );\n            ",
      "text/plain": [
       "<IPython.core.display.Javascript object>"
      ]
     },
     "metadata": {},
     "output_type": "display_data"
    }
   ],
   "source": [
    "%%yaml callbacks_cfg\n",
    "\n",
    "callbacks:\n",
    "  step:\n",
    "    - ese.experiment.callbacks.ShowPredictions\n",
    "  epoch:\n",
    "    - ese.experiment.callbacks.WandbLogger\n",
    "    - ionpy.callbacks.ETA\n",
    "    - ionpy.callbacks.JobProgress\n",
    "    - ionpy.callbacks.TerminateOnNaN\n",
    "    - ionpy.callbacks.PrintLogged\n",
    "    - ionpy.callbacks.ModelCheckpoint:\n",
    "        monitor: ece_loss \n",
    "        phase: val"
   ]
  },
  {
   "cell_type": "code",
   "execution_count": 4,
   "metadata": {},
   "outputs": [
    {
     "data": {
      "application/javascript": "\n            require(\n                [\n                    \"notebook/js/codecell\",\n                    \"codemirror/mode/yaml/yaml\"\n                ],\n                function(cc){\n                    cc.CodeCell.options_default.highlight_modes.magic_yaml = {\n                        reg: [\"^%%yaml\"]\n                    }\n                }\n            );\n            ",
      "text/plain": [
       "<IPython.core.display.Javascript object>"
      ]
     },
     "metadata": {},
     "output_type": "display_data"
    }
   ],
   "source": [
    "%%yaml calibrator_cfgs \n",
    "\n",
    "# For calibration methods.\n",
    "Finetune:\n",
    "  _class: null\n",
    "  \n",
    "TempScaling:\n",
    "  _class: ese.experiment.models.calibrators.Temperature_Scaling\n",
    "\n",
    "ImageBasedTS:\n",
    "  _class: ese.experiment.models.calibrators.ImageBasedTS\n",
    "  img_channels: 1\n",
    "  num_classes: 1\n",
    "\n",
    "LocalTS:\n",
    "  _class: ese.experiment.models.calibrators.LocalTS\n",
    "  img_channels: 1\n",
    "  num_classes: 1\n",
    "  filters:\n",
    "    - 4 \n",
    "    - 4 \n",
    "    - 4 "
   ]
  },
  {
   "cell_type": "code",
   "execution_count": 5,
   "metadata": {},
   "outputs": [
    {
     "data": {
      "application/javascript": "\n            require(\n                [\n                    \"notebook/js/codecell\",\n                    \"codemirror/mode/yaml/yaml\"\n                ],\n                function(cc){\n                    cc.CodeCell.options_default.highlight_modes.magic_yaml = {\n                        reg: [\"^%%yaml\"]\n                    }\n                }\n            );\n            ",
      "text/plain": [
       "<IPython.core.display.Javascript object>"
      ]
     },
     "metadata": {},
     "output_type": "display_data"
    }
   ],
   "source": [
    "%%yaml experiment_cfg \n",
    "\n",
    "name: \"ACDC_CalibratorSet_Experiment1_EXPANDED\"\n",
    "# name: \"ACDC_CalibratorSet_BadGT_Exp2\"\n",
    "\n",
    "train: \n",
    "    pretrained_dir: \n",
    "        - \"/storage/vbutoi/scratch/ESE/training/07_09_24_ACDC_PixelCELoss/20240709_120223-2YG5-4666f171cc2ff0127caa727844be2be1\"\n",
    "        - \"/storage/vbutoi/scratch/ESE/training/07_09_24_ACDC_SoftDiceLoss/20240709_115941-2WD3-0a311a8965d658cbf9bcf19bfaedda25\"\n",
    "\n",
    "model:\n",
    "    # - TempScaling\n",
    "    # - ImageBasedTS\n",
    "    # - LocalTS\n",
    "    - Finetune\n",
    "\n",
    "data:\n",
    "    _class: \"ese.experiment.datasets.ACDC\"\n",
    "    label_threshold: null\n",
    "    version: 0.1\n",
    "\n",
    "dataloader:\n",
    "    batch_size: 8\n",
    "\n",
    "loss_func:\n",
    "    _class: \n",
    "        - ese.experiment.losses.SoftDiceLoss\n",
    "        - ese.experiment.losses.PixelCELoss"
   ]
  },
  {
   "cell_type": "code",
   "execution_count": 6,
   "metadata": {},
   "outputs": [],
   "source": [
    "from ese.experiment.analysis.analysis_utils.submit_utils import get_ese_calibration_configs\n",
    "\n",
    "# Get the configs for the different runs.\n",
    "base_cfg = Config(default_cfg).update([callbacks_cfg])\n",
    "\n",
    "cal_cfgs = get_ese_calibration_configs(\n",
    "    exp_cfg=experiment_cfg,\n",
    "    base_cfg=base_cfg,\n",
    "    calibration_model_cfgs=calibrator_cfgs\n",
    "    # add_date=False # When we want to add things to an old run folder.\n",
    ")"
   ]
  },
  {
   "cell_type": "code",
   "execution_count": 7,
   "metadata": {},
   "outputs": [
    {
     "data": {
      "text/plain": [
       "4"
      ]
     },
     "execution_count": 7,
     "metadata": {},
     "output_type": "execute_result"
    }
   ],
   "source": [
    "len(cal_cfgs)"
   ]
  },
  {
   "cell_type": "markdown",
   "metadata": {},
   "source": [
    "## Running Jobs"
   ]
  },
  {
   "cell_type": "code",
   "execution_count": 8,
   "metadata": {},
   "outputs": [
    {
     "name": "stderr",
     "output_type": "stream",
     "text": [
      "/local/vbutoi/envs/UniverSegTF/lib/python3.9/site-packages/pydantic/_internal/_fields.py:149: UserWarning: Field \"model_outputs\" has conflict with protected namespace \"model_\".\n",
      "\n",
      "You may be able to resolve this warning by setting `model_config['protected_namespaces'] = ()`.\n",
      "  warnings.warn(\n"
     ]
    }
   ],
   "source": [
    "from ese.experiment.experiment import run_ese_exp, submit_ese_exps, PostHocExperiment"
   ]
  },
  {
   "cell_type": "code",
   "execution_count": 9,
   "metadata": {},
   "outputs": [],
   "source": [
    "# ####### Run individual jobs\n",
    "# run_ese_exp(\n",
    "#     config=cal_cfgs[0], \n",
    "#     experiment_class=PostHocExperiment,\n",
    "#     run_name='debug',\n",
    "#     show_examples=True,\n",
    "#     track_wandb=False,\n",
    "#     gpu='0',\n",
    "# )"
   ]
  },
  {
   "cell_type": "code",
   "execution_count": 10,
   "metadata": {},
   "outputs": [
    {
     "name": "stdout",
     "output_type": "stream",
     "text": [
      "Submitted job id: 2194954 on gpu: 0.\n",
      "Submitted job id: 2195070 on gpu: 1.\n",
      "Submitted job id: 2195238 on gpu: 2.\n",
      "Submitted job id: 2195432 on gpu: 3.\n"
     ]
    }
   ],
   "source": [
    "##### Run Batch Jobs\n",
    "submit_ese_exps(\n",
    "    config_list=cal_cfgs,\n",
    "    experiment_class=PostHocExperiment,\n",
    "    track_wandb=True,\n",
    "    available_gpus=['0', '1', '2', '3']\n",
    ")"
   ]
  }
 ],
 "metadata": {
  "kernelspec": {
   "display_name": "UniverSegTF",
   "language": "python",
   "name": "universegtf"
  },
  "language_info": {
   "codemirror_mode": {
    "name": "ipython",
    "version": 3
   },
   "file_extension": ".py",
   "mimetype": "text/x-python",
   "name": "python",
   "nbconvert_exporter": "python",
   "pygments_lexer": "ipython3",
   "version": "3.9.16"
  },
  "orig_nbformat": 4
 },
 "nbformat": 4,
 "nbformat_minor": 2
}
