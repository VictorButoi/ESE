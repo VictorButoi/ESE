{
 "cells": [
  {
   "cell_type": "code",
   "execution_count": 1,
   "id": "9b121a30",
   "metadata": {},
   "outputs": [],
   "source": [
    "# import sys\n",
    "# sys.path.append(\"/storage/vbutoi/projects/\")\n",
    "# sys.path.append(\"/storage/vbutoi/libraries/\")\n",
    "# sys.path.append(\"/storage/vbutoi/projects/UniverSeg/\")\n",
    "# sys.path.append(\"/storage/vbutoi/projects/DiSeg/\")\n",
    "# sys.path.append(\"/storage/vbutoi/projects/SlurmLite/\")\n",
    "\n",
    "# Random Imports\n",
    "import os\n",
    "\n",
    "# Change as appropriate to point to the path(s) containing v3.1-midslice-v2\n",
    "os.environ['DATAPATH'] = ':'.join((\n",
    "       '/storage',\n",
    "       '/storage/megamedical'\n",
    "))\n",
    "log_root_dir = '/storage/vbutoi/scratch'\n",
    "\n",
    "%load_ext autoreload\n",
    "%autoreload 2\n",
    "%load_ext yamlmagic"
   ]
  },
  {
   "cell_type": "code",
   "execution_count": 2,
   "id": "b163e853",
   "metadata": {},
   "outputs": [],
   "source": [
    "from IonPy.util.config import check_missing\n",
    "\n",
    "def validate_cfg(cfg):\n",
    "    # It's usually a good idea to do a sanity check of\n",
    "    # inter-related settings or force them manually\n",
    "    check_missing(cfg)        \n",
    "    return cfg"
   ]
  },
  {
   "cell_type": "code",
   "execution_count": 3,
   "id": "ed8ce121",
   "metadata": {},
   "outputs": [
    {
     "data": {
      "application/javascript": "\n            require(\n                [\n                    \"notebook/js/codecell\",\n                    \"codemirror/mode/yaml/yaml\"\n                ],\n                function(cc){\n                    cc.CodeCell.options_default.highlight_modes.magic_yaml = {\n                        reg: [\"^%%yaml\"]\n                    }\n                }\n            );\n            ",
      "text/plain": [
       "<IPython.core.display.Javascript object>"
      ]
     },
     "metadata": {},
     "output_type": "display_data"
    }
   ],
   "source": [
    "%%yaml default_cfg \n",
    "\n",
    "experiment:\n",
    "  seed: 42\n",
    "    \n",
    "dataloader:\n",
    "  batch_size: 1\n",
    "  num_workers: 0\n",
    "  pin_memory: False \n",
    "\n",
    "optim: \n",
    "  _class: torch.optim.Adam\n",
    "  lr: 1.0e-5\n",
    "  \n",
    "train:\n",
    "  epochs: 10000 # With heavy aug, you need a lot of epochs, without, only 1000\n",
    "  eval_freq: 100\n",
    "  support_size: 8\n",
    "  accumulate_steps: 1 # Accumulate gradients over multiple steps\n",
    "  num_samples: 1 # Define how many times to sample the supports.\n",
    "  l1_lambda: 0.0 # L1 regularization on the logits\n",
    "  \n",
    "log:\n",
    "  checkpoint_freq: 100 \n",
    "  root: '?'\n",
    "  metrics:\n",
    "    dice_score:\n",
    "      _fn: IonPy.metrics.dice_score\n",
    "      from_logits: True\n",
    "      batch_reduction: 'mean' \n",
    "\n",
    "loss_func: \n",
    "  _class: diseg.experiment.loss.SoftDiceLoss\n",
    "  from_logits: True\n",
    "  batch_reduction: 'mean' "
   ]
  },
  {
   "cell_type": "code",
   "execution_count": 4,
   "id": "e2ac20c6",
   "metadata": {},
   "outputs": [
    {
     "data": {
      "application/javascript": "\n            require(\n                [\n                    \"notebook/js/codecell\",\n                    \"codemirror/mode/yaml/yaml\"\n                ],\n                function(cc){\n                    cc.CodeCell.options_default.highlight_modes.magic_yaml = {\n                        reg: [\"^%%yaml\"]\n                    }\n                }\n            );\n            ",
      "text/plain": [
       "<IPython.core.display.Javascript object>"
      ]
     },
     "metadata": {},
     "output_type": "display_data"
    }
   ],
   "source": [
    "%%yaml model_cfg  \n",
    "\n",
    "model:\n",
    "  _class: diseg.experiment.models.nonparametric.UniverSegScorer\n",
    "  freeze_backbone: False\n",
    "  use_label: True\n",
    "  post_feats: 1\n",
    "  load_dir: /storage/jjgo/results/omni/2023-03-01_Universeg-SupportSet-Ablation_pt2/20230304_125802-NH10-26180efa296261c9502bf25a551378e5 \n",
    "\n",
    "sampler:\n",
    "  _class: diseg.experiment.models.sampler.GumbelSampler\n",
    "  train_ssize: [1, 32] # Size of the support set for the IC-network.\n",
    "  val_ssize: 8\n",
    "  batch_size: 1\n",
    "  gumbel_hard: False\n",
    "  temperature: 0.2\n",
    "\n",
    "incontext_network:\n",
    "  _class: universeg.experiment.experiment.UniversegExperiment\n",
    "  load_epoch: max-val_od-dice_score\n",
    "  load_dir: /storage/jjgo/results/omni/2023-03-01_Universeg-SupportSet-Ablation_pt2/20230304_125802-NH10-26180efa296261c9502bf25a551378e5 "
   ]
  },
  {
   "cell_type": "code",
   "execution_count": 5,
   "id": "07ee95bd",
   "metadata": {},
   "outputs": [
    {
     "data": {
      "application/javascript": "\n            require(\n                [\n                    \"notebook/js/codecell\",\n                    \"codemirror/mode/yaml/yaml\"\n                ],\n                function(cc){\n                    cc.CodeCell.options_default.highlight_modes.magic_yaml = {\n                        reg: [\"^%%yaml\"]\n                    }\n                }\n            );\n            ",
      "text/plain": [
       "<IPython.core.display.Javascript object>"
      ]
     },
     "metadata": {},
     "output_type": "display_data"
    }
   ],
   "source": [
    "%%yaml dataset_cfg \n",
    "\n",
    "data:\n",
    "  _class: diseg.experiment.datasets.Segment2D \n",
    "  resolution: 128\n",
    "  label: 0\n",
    "  task: \"WBC/CV/EM/0\"\n",
    "  num_source_examples: [1, 60] # How many examples you can choose from."
   ]
  },
  {
   "cell_type": "code",
   "execution_count": 6,
   "id": "dd77ec27",
   "metadata": {},
   "outputs": [],
   "source": [
    "# %%yaml megamedical_cfg\n",
    "# data:\n",
    "#   _class: diseg.experiment.datasets.MultiBinarySegment2D\n",
    "#   preload: False\n",
    "#   version: v4.2\n",
    "#   slicing: ['midslice', 'maxslice']\n",
    "#   min_label_density: 3e-3"
   ]
  },
  {
   "cell_type": "code",
   "execution_count": 7,
   "id": "6d83a783",
   "metadata": {},
   "outputs": [],
   "source": [
    "# %%yaml datasets_split\n",
    "# data:\n",
    "#     train_datasets:\n",
    "#         - AMOS\n",
    "#         - BBBC\n",
    "#         - BrainDevelopment\n",
    "#         - BrainMetShare\n",
    "#         - BRATS\n",
    "#         - BUS\n",
    "#         - cDEMRIS\n",
    "#         - CAMUS\n",
    "#         - CHAOS\n",
    "#         - CoNSeP\n",
    "#         - CheXplanation\n",
    "#         - DRIVE\n",
    "#         - EOphtha\n",
    "#         - FeTA\n",
    "#         - Feto_Plac\n",
    "#         - FLARE\n",
    "#         - HMC_QU\n",
    "#         - I2CVB\n",
    "#         - IDRID\n",
    "#         - ISBI\n",
    "#         - ISLES\n",
    "#         - KiTS\n",
    "#         - LGGFlair\n",
    "#         - LITS\n",
    "#         - LUNA\n",
    "#         - MCIC\n",
    "#         - MSD_BrainTumour\n",
    "#         - MSD_Colon\n",
    "#         - MSD_Heart\n",
    "#         - MSD_HepaticVessel\n",
    "#         - MSD_Hippocampus\n",
    "#         - MSD_Liver\n",
    "#         - MSD_Lung\n",
    "#         - MSD_Pancreas\n",
    "#         - MSD_Prostate\n",
    "#         - MSD_Spleen\n",
    "#         - OASIS\n",
    "#         - OCTA500\n",
    "#         - PROMISE12\n",
    "#         - PPMI\n",
    "#         - ROSE\n",
    "#         - SegTHOR\n",
    "#         - Synapse_Abdomen\n",
    "#         - Synthetic1000\n",
    "#         - VerSe\n",
    "#         - WMH\n",
    "#         - WORD\n",
    "#     val_datasets:\n",
    "#         - ACDC\n",
    "#         - PanDental\n",
    "#         - SCD\n",
    "#         - SpineWeb\n",
    "#         - STARE \n",
    "#         - TUCC\n",
    "#         - WBC"
   ]
  },
  {
   "cell_type": "code",
   "execution_count": 8,
   "id": "cde20258",
   "metadata": {},
   "outputs": [
    {
     "data": {
      "application/javascript": "\n            require(\n                [\n                    \"notebook/js/codecell\",\n                    \"codemirror/mode/yaml/yaml\"\n                ],\n                function(cc){\n                    cc.CodeCell.options_default.highlight_modes.magic_yaml = {\n                        reg: [\"^%%yaml\"]\n                    }\n                }\n            );\n            ",
      "text/plain": [
       "<IPython.core.display.Javascript object>"
      ]
     },
     "metadata": {},
     "output_type": "display_data"
    }
   ],
   "source": [
    "%%yaml lite_aug_cfg\n",
    "\n",
    "- RandomAffine:\n",
    "    p: 0.5\n",
    "    degrees: [0, 360]\n",
    "    translate: [0, 0.2]\n",
    "    scale: [0.8, 1.1]\n",
    "- RandomVariableElasticTransform:\n",
    "    p: 0.75\n",
    "    alpha: [1, 2] \n",
    "    sigma: [6, 8]\n",
    "- RandomHorizontalFlip:\n",
    "    p: 0.5\n",
    "- RandomVerticalFlip:\n",
    "    p: 0.5"
   ]
  },
  {
   "cell_type": "code",
   "execution_count": 9,
   "id": "b6b37419",
   "metadata": {},
   "outputs": [
    {
     "data": {
      "application/javascript": "\n            require(\n                [\n                    \"notebook/js/codecell\",\n                    \"codemirror/mode/yaml/yaml\"\n                ],\n                function(cc){\n                    cc.CodeCell.options_default.highlight_modes.magic_yaml = {\n                        reg: [\"^%%yaml\"]\n                    }\n                }\n            );\n            ",
      "text/plain": [
       "<IPython.core.display.Javascript object>"
      ]
     },
     "metadata": {},
     "output_type": "display_data"
    }
   ],
   "source": [
    "%%yaml heavy_aug_cfg\n",
    "\n",
    "- RandomBrightnessContrast:\n",
    "    p: 0.5\n",
    "    brightness: [-0.1, 0.1]\n",
    "    contrast: [0.8, 1.2]\n",
    "- RandomVariableGaussianBlur:\n",
    "    p: 0.5\n",
    "    kernel_size: 5\n",
    "    sigma: [0.1, 1.1]\n",
    "- RandomVariableGaussianNoise:\n",
    "    p: 0.5\n",
    "    mean: [0, 0.05]\n",
    "    std: [0, 0.05]\n",
    "- RandomSharpness:\n",
    "    sharpness: 5\n",
    "    p: 0.5\n",
    "- RandomAffine:\n",
    "    p: 0.5\n",
    "    degrees: [0, 360]\n",
    "    translate: [0, 0.2]\n",
    "    scale: [0.8, 1.1]\n",
    "- RandomVariableElasticTransform:\n",
    "    p: 0.75\n",
    "    alpha: [1, 2] \n",
    "    sigma: [6, 8]\n",
    "- RandomHorizontalFlip:\n",
    "    p: 0.5\n",
    "- RandomVerticalFlip:\n",
    "    p: 0.5"
   ]
  },
  {
   "cell_type": "code",
   "execution_count": 10,
   "id": "01c7ad0b",
   "metadata": {},
   "outputs": [
    {
     "data": {
      "application/javascript": "\n            require(\n                [\n                    \"notebook/js/codecell\",\n                    \"codemirror/mode/yaml/yaml\"\n                ],\n                function(cc){\n                    cc.CodeCell.options_default.highlight_modes.magic_yaml = {\n                        reg: [\"^%%yaml\"]\n                    }\n                }\n            );\n            ",
      "text/plain": [
       "<IPython.core.display.Javascript object>"
      ]
     },
     "metadata": {},
     "output_type": "display_data"
    }
   ],
   "source": [
    "%%yaml callbacks_cfg\n",
    "\n",
    "callbacks:\n",
    "  epoch:\n",
    "    - IonPy.callbacks.ETA\n",
    "    - IonPy.callbacks.JobProgress\n",
    "    - IonPy.callbacks.TerminateOnNaN\n",
    "    - IonPy.callbacks.ModelCheckpoint:\n",
    "        monitor: dice_score\n",
    "        phase: val"
   ]
  },
  {
   "cell_type": "code",
   "execution_count": 11,
   "id": "6f4270fd",
   "metadata": {},
   "outputs": [],
   "source": [
    "# Need to define the experiment name\n",
    "exp_name = 'debugging'\n",
    "#exp_name = '05-30-23_WeDontNeedNoEducation'\n",
    "\n",
    "# Create the ablation options\n",
    "options = {\n",
    "    'log.root': [f'{log_root_dir}/{exp_name}'],\n",
    "    'model.use_label': [True, False]\n",
    "}"
   ]
  },
  {
   "cell_type": "code",
   "execution_count": 12,
   "id": "7cfcd8dd",
   "metadata": {
    "scrolled": true
   },
   "outputs": [],
   "source": [
    "from IonPy.util import dict_product, Config\n",
    "import copy\n",
    "\n",
    "# Setup augmentation lists\n",
    "light_augmentations = sum([copy.deepcopy(lite_aug_cfg)], start=[])\n",
    "\n",
    "# Assemble base config\n",
    "base_cfg = Config(default_cfg).update(model_cfg).update(dataset_cfg).update(callbacks_cfg)\n",
    "\n",
    "cfgs = []\n",
    "for cfg_update in dict_product(options):\n",
    "    cfg = base_cfg.update(cfg_update)\n",
    "    cfg = cfg.set('augmentations', light_augmentations)\n",
    "    cfg = validate_cfg(cfg)\n",
    "    cfgs.append(cfg)"
   ]
  },
  {
   "cell_type": "code",
   "execution_count": 13,
   "id": "7d277dd1",
   "metadata": {},
   "outputs": [
    {
     "data": {
      "text/plain": [
       "2"
      ]
     },
     "execution_count": 13,
     "metadata": {},
     "output_type": "execute_result"
    }
   ],
   "source": [
    "len(cfgs)"
   ]
  },
  {
   "attachments": {},
   "cell_type": "markdown",
   "id": "c052b816",
   "metadata": {},
   "source": [
    "## Run the jobs"
   ]
  },
  {
   "cell_type": "code",
   "execution_count": 14,
   "id": "9dd675fa",
   "metadata": {},
   "outputs": [],
   "source": [
    "# Submit cell\n",
    "from diseg.experiment.experiment import DisegExperiment\n",
    "from slite import SliteRunner\n",
    "\n",
    "# List the available gpus for a machine\n",
    "available_gpus = ['0', '1'] \n",
    "\n",
    "# Configure Slite Object\n",
    "srunner = SliteRunner(task_type=DisegExperiment, \n",
    "                      exp_name=exp_name, \n",
    "                      available_gpus=available_gpus)"
   ]
  },
  {
   "attachments": {},
   "cell_type": "markdown",
   "id": "b506f2fe",
   "metadata": {},
   "source": [
    "## Debug Station"
   ]
  },
  {
   "cell_type": "code",
   "execution_count": 15,
   "id": "edbdcf3d",
   "metadata": {},
   "outputs": [
    {
     "name": "stdout",
     "output_type": "stream",
     "text": [
      "Running DisegExperiment(\"/storage/vbutoi/scratch/debugging/20230531_145310-9Q6A-637f9ed8b373707577767d5208504941\")\n",
      "---\n",
      "augmentations:\n",
      "- RandomAffine:\n",
      "    degrees:\n",
      "    - 0\n",
      "    - 360\n",
      "    p: 0.5\n",
      "    scale:\n",
      "    - 0.8\n",
      "    - 1.1\n",
      "    translate:\n",
      "    - 0\n",
      "    - 0.2\n",
      "- RandomVariableElasticTransform:\n",
      "    alpha:\n",
      "    - 1\n",
      "    - 2\n",
      "    p: 0.75\n",
      "    sigma:\n",
      "    - 6\n",
      "    - 8\n",
      "- RandomHorizontalFlip:\n",
      "    p: 0.5\n",
      "- RandomVerticalFlip:\n",
      "    p: 0.5\n",
      "callbacks:\n",
      "  epoch:\n",
      "  - IonPy.callbacks.ETA\n",
      "  - IonPy.callbacks.JobProgress\n",
      "  - IonPy.callbacks.TerminateOnNaN\n",
      "  - IonPy.callbacks.ModelCheckpoint:\n",
      "      monitor: dice_score\n",
      "      phase: val\n",
      "data:\n",
      "  _class: diseg.experiment.datasets.Segment2D\n",
      "  label: 0\n",
      "  num_source_examples:\n",
      "  - 1\n",
      "  - 60\n",
      "  resolution: 128\n",
      "  task: WBC/CV/EM/0\n",
      "dataloader:\n",
      "  batch_size: 1\n",
      "  num_workers: 0\n",
      "  pin_memory: false\n",
      "experiment:\n",
      "  seed: 42\n",
      "incontext_network:\n",
      "  _class: universeg.experiment.experiment.UniversegExperiment\n",
      "  load_dir: /storage/jjgo/results/omni/2023-03-01_Universeg-SupportSet-Ablation_pt2/20230304_125802-NH10-26180efa296261c9502bf25a551378e5\n",
      "  load_epoch: max-val_od-dice_score\n",
      "log:\n",
      "  checkpoint_freq: 100\n",
      "  metrics:\n",
      "    dice_score:\n",
      "      _fn: IonPy.metrics.dice_score\n",
      "      batch_reduction: mean\n",
      "      from_logits: true\n",
      "  root: /storage/vbutoi/scratch/debugging\n",
      "loss_func:\n",
      "  _class: diseg.experiment.loss.SoftDiceLoss\n",
      "  batch_reduction: mean\n",
      "  from_logits: true\n",
      "model:\n",
      "  _class: diseg.experiment.models.nonparametric.UniverSegScorer\n",
      "  freeze_backbone: false\n",
      "  load_dir: /storage/jjgo/results/omni/2023-03-01_Universeg-SupportSet-Ablation_pt2/20230304_125802-NH10-26180efa296261c9502bf25a551378e5\n",
      "  post_feats: 1\n",
      "  use_label: true\n",
      "optim:\n",
      "  _class: torch.optim.Adam\n",
      "  lr: 1.0e-05\n",
      "sampler:\n",
      "  _class: diseg.experiment.models.sampler.GumbelSampler\n",
      "  batch_size: 1\n",
      "  gumbel_hard: false\n",
      "  temperature: 0.2\n",
      "  train_ssize:\n",
      "  - 1\n",
      "  - 32\n",
      "  val_ssize: 8\n",
      "train:\n",
      "  accumulate_steps: 1\n",
      "  epochs: 10000\n",
      "  eval_freq: 100\n",
      "  l1_lambda: 0.0\n",
      "  num_samples: 1\n",
      "  support_size: 8\n",
      "\n",
      "Start epoch 0\n"
     ]
    },
    {
     "ename": "OutOfMemoryError",
     "evalue": "CUDA out of memory. Tried to allocate 240.00 MiB (GPU 0; 11.90 GiB total capacity; 533.54 MiB already allocated; 47.62 MiB free; 626.00 MiB reserved in total by PyTorch) If reserved memory is >> allocated memory try setting max_split_size_mb to avoid fragmentation.  See documentation for Memory Management and PYTORCH_CUDA_ALLOC_CONF",
     "output_type": "error",
     "traceback": [
      "\u001b[0;31m---------------------------------------------------------------------------\u001b[0m",
      "\u001b[0;31mOutOfMemoryError\u001b[0m                          Traceback (most recent call last)",
      "Cell \u001b[0;32mIn[15], line 1\u001b[0m\n\u001b[0;32m----> 1\u001b[0m srunner\u001b[39m.\u001b[39;49mrun_exp(cfgs[\u001b[39m0\u001b[39;49m])\n",
      "File \u001b[0;32m/storage/vbutoi/projects/SlurmLite/slite/runner.py:43\u001b[0m, in \u001b[0;36mSliteRunner.run_exp\u001b[0;34m(self, cfg)\u001b[0m\n\u001b[1;32m     41\u001b[0m \u001b[39m# Run experiment\u001b[39;00m\n\u001b[1;32m     42\u001b[0m exp \u001b[39m=\u001b[39m \u001b[39mself\u001b[39m\u001b[39m.\u001b[39mtask_type\u001b[39m.\u001b[39mfrom_config(cfg)\n\u001b[0;32m---> 43\u001b[0m exp\u001b[39m.\u001b[39;49mrun()\n",
      "File \u001b[0;32m/storage/vbutoi/projects/DiSeg/diseg/experiment/experiment/diseg.py:103\u001b[0m, in \u001b[0;36mDisegExperiment.run\u001b[0;34m(self)\u001b[0m\n\u001b[1;32m    102\u001b[0m \u001b[39mdef\u001b[39;00m \u001b[39mrun\u001b[39m(\u001b[39mself\u001b[39m):\n\u001b[0;32m--> 103\u001b[0m     \u001b[39msuper\u001b[39;49m()\u001b[39m.\u001b[39;49mrun()\n",
      "File \u001b[0;32m/storage/vbutoi/projects/IonPy/experiment/train.py:175\u001b[0m, in \u001b[0;36mTrainExperiment.run\u001b[0;34m(self)\u001b[0m\n\u001b[1;32m    173\u001b[0m \u001b[39mprint\u001b[39m(\u001b[39mf\u001b[39m\u001b[39m\"\u001b[39m\u001b[39mStart epoch \u001b[39m\u001b[39m{\u001b[39;00mepoch\u001b[39m}\u001b[39;00m\u001b[39m\"\u001b[39m)\n\u001b[1;32m    174\u001b[0m \u001b[39mself\u001b[39m\u001b[39m.\u001b[39m_epoch \u001b[39m=\u001b[39m epoch\n\u001b[0;32m--> 175\u001b[0m \u001b[39mself\u001b[39;49m\u001b[39m.\u001b[39;49mrun_phase(\u001b[39m\"\u001b[39;49m\u001b[39mtrain\u001b[39;49m\u001b[39m\"\u001b[39;49m, epoch)\n\u001b[1;32m    176\u001b[0m \u001b[39mif\u001b[39;00m eval_freq \u001b[39m>\u001b[39m \u001b[39m0\u001b[39m \u001b[39mand\u001b[39;00m (epoch \u001b[39m%\u001b[39m eval_freq \u001b[39m==\u001b[39m \u001b[39m0\u001b[39m \u001b[39mor\u001b[39;00m epoch \u001b[39m==\u001b[39m epochs \u001b[39m-\u001b[39m \u001b[39m1\u001b[39m):\n\u001b[1;32m    177\u001b[0m     \u001b[39mself\u001b[39m\u001b[39m.\u001b[39mrun_phase(\u001b[39m\"\u001b[39m\u001b[39mval\u001b[39m\u001b[39m\"\u001b[39m, epoch)\n",
      "File \u001b[0;32m/storage/vbutoi/projects/IonPy/experiment/train.py:207\u001b[0m, in \u001b[0;36mTrainExperiment.run_phase\u001b[0;34m(self, phase, epoch)\u001b[0m\n\u001b[1;32m    204\u001b[0m \u001b[39mwith\u001b[39;00m torch\u001b[39m.\u001b[39mset_grad_enabled(grad_enabled):\n\u001b[1;32m    205\u001b[0m     \u001b[39m# with torch.inference_mode(not grad_enabled):\u001b[39;00m\n\u001b[1;32m    206\u001b[0m     \u001b[39mfor\u001b[39;00m batch_idx, batch \u001b[39min\u001b[39;00m \u001b[39menumerate\u001b[39m(dl):\n\u001b[0;32m--> 207\u001b[0m         outputs \u001b[39m=\u001b[39m \u001b[39mself\u001b[39;49m\u001b[39m.\u001b[39;49mrun_step(\n\u001b[1;32m    208\u001b[0m             batch_idx\u001b[39m=\u001b[39;49mbatch_idx,\n\u001b[1;32m    209\u001b[0m             batch\u001b[39m=\u001b[39;49mbatch,\n\u001b[1;32m    210\u001b[0m             backward\u001b[39m=\u001b[39;49mgrad_enabled,\n\u001b[1;32m    211\u001b[0m             augmentation\u001b[39m=\u001b[39;49maugmentation,\n\u001b[1;32m    212\u001b[0m             epoch\u001b[39m=\u001b[39;49mepoch,\n\u001b[1;32m    213\u001b[0m             phase\u001b[39m=\u001b[39;49mphase\n\u001b[1;32m    214\u001b[0m         )\n\u001b[1;32m    215\u001b[0m         metrics \u001b[39m=\u001b[39m \u001b[39mself\u001b[39m\u001b[39m.\u001b[39mcompute_metrics(outputs)\n\u001b[1;32m    216\u001b[0m         meters\u001b[39m.\u001b[39mupdate(metrics)\n",
      "File \u001b[0;32m/storage/vbutoi/projects/DiSeg/diseg/experiment/experiment/diseg.py:79\u001b[0m, in \u001b[0;36mDisegExperiment.run_step\u001b[0;34m(self, batch_idx, batch, backward, augmentation, epoch, **kwargs)\u001b[0m\n\u001b[1;32m     76\u001b[0m         x, y \u001b[39m=\u001b[39m \u001b[39mself\u001b[39m\u001b[39m.\u001b[39maug_pipeline(x, y)\n\u001b[1;32m     78\u001b[0m \u001b[39m# Sample the support set from the source dataset\u001b[39;00m\n\u001b[0;32m---> 79\u001b[0m support_image_sets, support_label_sets, logits, support_inds \u001b[39m=\u001b[39m \u001b[39mself\u001b[39;49m\u001b[39m.\u001b[39;49mmodel(x, y, \u001b[39mself\u001b[39;49m\u001b[39m.\u001b[39;49msource_dataset, subj_idx\u001b[39m=\u001b[39;49msubj_idx, epoch\u001b[39m=\u001b[39;49mepoch, backward\u001b[39m=\u001b[39;49mbackward)\n\u001b[1;32m     81\u001b[0m \u001b[39m# Copy the query image multiple times in the batch dimension\u001b[39;00m\n\u001b[1;32m     82\u001b[0m query_images \u001b[39m=\u001b[39m x\u001b[39m.\u001b[39mrepeat(\u001b[39mself\u001b[39m\u001b[39m.\u001b[39mconfig[\u001b[39m\"\u001b[39m\u001b[39msampler.batch_size\u001b[39m\u001b[39m\"\u001b[39m], \u001b[39m1\u001b[39m, \u001b[39m1\u001b[39m, \u001b[39m1\u001b[39m)\n",
      "File \u001b[0;32m~/envs/UniverSegTF/lib/python3.9/site-packages/torch/nn/modules/module.py:1194\u001b[0m, in \u001b[0;36mModule._call_impl\u001b[0;34m(self, *input, **kwargs)\u001b[0m\n\u001b[1;32m   1190\u001b[0m \u001b[39m# If we don't have any hooks, we want to skip the rest of the logic in\u001b[39;00m\n\u001b[1;32m   1191\u001b[0m \u001b[39m# this function, and just call forward.\u001b[39;00m\n\u001b[1;32m   1192\u001b[0m \u001b[39mif\u001b[39;00m \u001b[39mnot\u001b[39;00m (\u001b[39mself\u001b[39m\u001b[39m.\u001b[39m_backward_hooks \u001b[39mor\u001b[39;00m \u001b[39mself\u001b[39m\u001b[39m.\u001b[39m_forward_hooks \u001b[39mor\u001b[39;00m \u001b[39mself\u001b[39m\u001b[39m.\u001b[39m_forward_pre_hooks \u001b[39mor\u001b[39;00m _global_backward_hooks\n\u001b[1;32m   1193\u001b[0m         \u001b[39mor\u001b[39;00m _global_forward_hooks \u001b[39mor\u001b[39;00m _global_forward_pre_hooks):\n\u001b[0;32m-> 1194\u001b[0m     \u001b[39mreturn\u001b[39;00m forward_call(\u001b[39m*\u001b[39;49m\u001b[39minput\u001b[39;49m, \u001b[39m*\u001b[39;49m\u001b[39m*\u001b[39;49mkwargs)\n\u001b[1;32m   1195\u001b[0m \u001b[39m# Do not call functions when jit is used\u001b[39;00m\n\u001b[1;32m   1196\u001b[0m full_backward_hooks, non_full_backward_hooks \u001b[39m=\u001b[39m [], []\n",
      "File \u001b[0;32m/storage/vbutoi/projects/DiSeg/diseg/experiment/models/nonparametric.py:69\u001b[0m, in \u001b[0;36mUniverSegScorer.forward\u001b[0;34m(self, x, y, dataset, subj_idx, epoch, backward)\u001b[0m\n\u001b[1;32m     66\u001b[0m sx \u001b[39m=\u001b[39m torch\u001b[39m.\u001b[39mcat([dataset_images, dataset_labels], dim\u001b[39m=\u001b[39m\u001b[39m2\u001b[39m) \u001b[39mif\u001b[39;00m \u001b[39mself\u001b[39m\u001b[39m.\u001b[39muse_label \u001b[39melse\u001b[39;00m dataset_images\n\u001b[1;32m     68\u001b[0m \u001b[39m# Pass query and support to the model\u001b[39;00m\n\u001b[0;32m---> 69\u001b[0m indices_logits \u001b[39m=\u001b[39m \u001b[39mself\u001b[39;49m\u001b[39m.\u001b[39;49mmodel(x, sx)\n\u001b[1;32m     71\u001b[0m \u001b[39m# Sample the support images and labels, and the p vector\u001b[39;00m\n\u001b[1;32m     72\u001b[0m support_images, support_labels, support_indices \u001b[39m=\u001b[39m \u001b[39mself\u001b[39m\u001b[39m.\u001b[39msampler(indices_logits, \n\u001b[1;32m     73\u001b[0m                                                                dataset, \n\u001b[1;32m     74\u001b[0m                                                                backward\u001b[39m=\u001b[39mbackward, \n\u001b[1;32m     75\u001b[0m                                                                epoch\u001b[39m=\u001b[39mepoch)\n",
      "File \u001b[0;32m~/envs/UniverSegTF/lib/python3.9/site-packages/torch/nn/modules/module.py:1194\u001b[0m, in \u001b[0;36mModule._call_impl\u001b[0;34m(self, *input, **kwargs)\u001b[0m\n\u001b[1;32m   1190\u001b[0m \u001b[39m# If we don't have any hooks, we want to skip the rest of the logic in\u001b[39;00m\n\u001b[1;32m   1191\u001b[0m \u001b[39m# this function, and just call forward.\u001b[39;00m\n\u001b[1;32m   1192\u001b[0m \u001b[39mif\u001b[39;00m \u001b[39mnot\u001b[39;00m (\u001b[39mself\u001b[39m\u001b[39m.\u001b[39m_backward_hooks \u001b[39mor\u001b[39;00m \u001b[39mself\u001b[39m\u001b[39m.\u001b[39m_forward_hooks \u001b[39mor\u001b[39;00m \u001b[39mself\u001b[39m\u001b[39m.\u001b[39m_forward_pre_hooks \u001b[39mor\u001b[39;00m _global_backward_hooks\n\u001b[1;32m   1193\u001b[0m         \u001b[39mor\u001b[39;00m _global_forward_hooks \u001b[39mor\u001b[39;00m _global_forward_pre_hooks):\n\u001b[0;32m-> 1194\u001b[0m     \u001b[39mreturn\u001b[39;00m forward_call(\u001b[39m*\u001b[39;49m\u001b[39minput\u001b[39;49m, \u001b[39m*\u001b[39;49m\u001b[39m*\u001b[39;49mkwargs)\n\u001b[1;32m   1195\u001b[0m \u001b[39m# Do not call functions when jit is used\u001b[39;00m\n\u001b[1;32m   1196\u001b[0m full_backward_hooks, non_full_backward_hooks \u001b[39m=\u001b[39m [], []\n",
      "File \u001b[0;32m/storage/vbutoi/projects/DiSeg/diseg/experiment/models/universeg_models/qc_nets.py:92\u001b[0m, in \u001b[0;36mScoreMixer.forward\u001b[0;34m(self, target, context)\u001b[0m\n\u001b[1;32m     89\u001b[0m     _, context \u001b[39m=\u001b[39m \u001b[39mself\u001b[39m\u001b[39m.\u001b[39mpre_layer(target[:, \u001b[39mNone\u001b[39;00m, \u001b[39m.\u001b[39m\u001b[39m.\u001b[39m\u001b[39m.\u001b[39m], context)\n\u001b[1;32m     91\u001b[0m \u001b[39m# Get the representations from mix unet\u001b[39;00m\n\u001b[0;32m---> 92\u001b[0m target, context \u001b[39m=\u001b[39m \u001b[39mself\u001b[39;49m\u001b[39m.\u001b[39;49mmodel(target, context)\n\u001b[1;32m     94\u001b[0m \u001b[39m# Apply the post layer if it exists\u001b[39;00m\n\u001b[1;32m     95\u001b[0m \u001b[39mif\u001b[39;00m \u001b[39mself\u001b[39m\u001b[39m.\u001b[39mpost_layer \u001b[39mis\u001b[39;00m \u001b[39mnot\u001b[39;00m \u001b[39mNone\u001b[39;00m:\n\u001b[1;32m     96\u001b[0m     \u001b[39m# Pass through last layer\u001b[39;00m\n",
      "File \u001b[0;32m~/envs/UniverSegTF/lib/python3.9/site-packages/torch/nn/modules/module.py:1194\u001b[0m, in \u001b[0;36mModule._call_impl\u001b[0;34m(self, *input, **kwargs)\u001b[0m\n\u001b[1;32m   1190\u001b[0m \u001b[39m# If we don't have any hooks, we want to skip the rest of the logic in\u001b[39;00m\n\u001b[1;32m   1191\u001b[0m \u001b[39m# this function, and just call forward.\u001b[39;00m\n\u001b[1;32m   1192\u001b[0m \u001b[39mif\u001b[39;00m \u001b[39mnot\u001b[39;00m (\u001b[39mself\u001b[39m\u001b[39m.\u001b[39m_backward_hooks \u001b[39mor\u001b[39;00m \u001b[39mself\u001b[39m\u001b[39m.\u001b[39m_forward_hooks \u001b[39mor\u001b[39;00m \u001b[39mself\u001b[39m\u001b[39m.\u001b[39m_forward_pre_hooks \u001b[39mor\u001b[39;00m _global_backward_hooks\n\u001b[1;32m   1193\u001b[0m         \u001b[39mor\u001b[39;00m _global_forward_hooks \u001b[39mor\u001b[39;00m _global_forward_pre_hooks):\n\u001b[0;32m-> 1194\u001b[0m     \u001b[39mreturn\u001b[39;00m forward_call(\u001b[39m*\u001b[39;49m\u001b[39minput\u001b[39;49m, \u001b[39m*\u001b[39;49m\u001b[39m*\u001b[39;49mkwargs)\n\u001b[1;32m   1195\u001b[0m \u001b[39m# Do not call functions when jit is used\u001b[39;00m\n\u001b[1;32m   1196\u001b[0m full_backward_hooks, non_full_backward_hooks \u001b[39m=\u001b[39m [], []\n",
      "File \u001b[0;32m/storage/vbutoi/projects/UniverSeg/universeg/experiment/models/mix.py:129\u001b[0m, in \u001b[0;36mMixUNet.forward\u001b[0;34m(self, x, sx)\u001b[0m\n\u001b[1;32m    126\u001b[0m pool_fn \u001b[39m=\u001b[39m vmap_fn(\u001b[39mgetattr\u001b[39m(F, \u001b[39mf\u001b[39m\u001b[39m\"\u001b[39m\u001b[39mmax_pool\u001b[39m\u001b[39m{\u001b[39;00m\u001b[39mself\u001b[39m\u001b[39m.\u001b[39mdims\u001b[39m}\u001b[39;00m\u001b[39md\u001b[39m\u001b[39m\"\u001b[39m))\n\u001b[1;32m    128\u001b[0m \u001b[39mfor\u001b[39;00m i, conv_block \u001b[39min\u001b[39;00m \u001b[39menumerate\u001b[39m(\u001b[39mself\u001b[39m\u001b[39m.\u001b[39menc_blocks):\n\u001b[0;32m--> 129\u001b[0m     x, sx \u001b[39m=\u001b[39m conv_block(x, sx)\n\u001b[1;32m    130\u001b[0m     \u001b[39mif\u001b[39;00m i \u001b[39m==\u001b[39m \u001b[39mlen\u001b[39m(\u001b[39mself\u001b[39m\u001b[39m.\u001b[39menc_blocks) \u001b[39m-\u001b[39m \u001b[39m1\u001b[39m:\n\u001b[1;32m    131\u001b[0m         \u001b[39mbreak\u001b[39;00m\n",
      "File \u001b[0;32m~/envs/UniverSegTF/lib/python3.9/site-packages/torch/nn/modules/module.py:1194\u001b[0m, in \u001b[0;36mModule._call_impl\u001b[0;34m(self, *input, **kwargs)\u001b[0m\n\u001b[1;32m   1190\u001b[0m \u001b[39m# If we don't have any hooks, we want to skip the rest of the logic in\u001b[39;00m\n\u001b[1;32m   1191\u001b[0m \u001b[39m# this function, and just call forward.\u001b[39;00m\n\u001b[1;32m   1192\u001b[0m \u001b[39mif\u001b[39;00m \u001b[39mnot\u001b[39;00m (\u001b[39mself\u001b[39m\u001b[39m.\u001b[39m_backward_hooks \u001b[39mor\u001b[39;00m \u001b[39mself\u001b[39m\u001b[39m.\u001b[39m_forward_hooks \u001b[39mor\u001b[39;00m \u001b[39mself\u001b[39m\u001b[39m.\u001b[39m_forward_pre_hooks \u001b[39mor\u001b[39;00m _global_backward_hooks\n\u001b[1;32m   1193\u001b[0m         \u001b[39mor\u001b[39;00m _global_forward_hooks \u001b[39mor\u001b[39;00m _global_forward_pre_hooks):\n\u001b[0;32m-> 1194\u001b[0m     \u001b[39mreturn\u001b[39;00m forward_call(\u001b[39m*\u001b[39;49m\u001b[39minput\u001b[39;49m, \u001b[39m*\u001b[39;49m\u001b[39m*\u001b[39;49mkwargs)\n\u001b[1;32m   1195\u001b[0m \u001b[39m# Do not call functions when jit is used\u001b[39;00m\n\u001b[1;32m   1196\u001b[0m full_backward_hooks, non_full_backward_hooks \u001b[39m=\u001b[39m [], []\n",
      "File \u001b[0;32m/storage/vbutoi/projects/UniverSeg/universeg/experiment/models/blocks_qc.py:242\u001b[0m, in \u001b[0;36mQCBlock3.forward\u001b[0;34m(self, target, context)\u001b[0m\n\u001b[1;32m    240\u001b[0m     \u001b[39m# sc.check(target, \"B 1 _ H W \")\u001b[39;00m\n\u001b[1;32m    241\u001b[0m     target \u001b[39m=\u001b[39m \u001b[39mself\u001b[39m\u001b[39m.\u001b[39mtarget_post[i](target)\n\u001b[0;32m--> 242\u001b[0m     context \u001b[39m=\u001b[39m \u001b[39mself\u001b[39;49m\u001b[39m.\u001b[39;49mcontext_convs[i](cc\u001b[39m.\u001b[39;49mmean(dim\u001b[39m=\u001b[39;49m\u001b[39m1\u001b[39;49m))\n\u001b[1;32m    244\u001b[0m \u001b[39mif\u001b[39;00m \u001b[39mself\u001b[39m\u001b[39m.\u001b[39mresidual:\n\u001b[1;32m    245\u001b[0m     target \u001b[39m=\u001b[39m target \u001b[39m+\u001b[39m \u001b[39mself\u001b[39m\u001b[39m.\u001b[39mtarget_shortcut(input_target)\n",
      "File \u001b[0;32m~/envs/UniverSegTF/lib/python3.9/site-packages/torch/nn/modules/module.py:1194\u001b[0m, in \u001b[0;36mModule._call_impl\u001b[0;34m(self, *input, **kwargs)\u001b[0m\n\u001b[1;32m   1190\u001b[0m \u001b[39m# If we don't have any hooks, we want to skip the rest of the logic in\u001b[39;00m\n\u001b[1;32m   1191\u001b[0m \u001b[39m# this function, and just call forward.\u001b[39;00m\n\u001b[1;32m   1192\u001b[0m \u001b[39mif\u001b[39;00m \u001b[39mnot\u001b[39;00m (\u001b[39mself\u001b[39m\u001b[39m.\u001b[39m_backward_hooks \u001b[39mor\u001b[39;00m \u001b[39mself\u001b[39m\u001b[39m.\u001b[39m_forward_hooks \u001b[39mor\u001b[39;00m \u001b[39mself\u001b[39m\u001b[39m.\u001b[39m_forward_pre_hooks \u001b[39mor\u001b[39;00m _global_backward_hooks\n\u001b[1;32m   1193\u001b[0m         \u001b[39mor\u001b[39;00m _global_forward_hooks \u001b[39mor\u001b[39;00m _global_forward_pre_hooks):\n\u001b[0;32m-> 1194\u001b[0m     \u001b[39mreturn\u001b[39;00m forward_call(\u001b[39m*\u001b[39;49m\u001b[39minput\u001b[39;49m, \u001b[39m*\u001b[39;49m\u001b[39m*\u001b[39;49mkwargs)\n\u001b[1;32m   1195\u001b[0m \u001b[39m# Do not call functions when jit is used\u001b[39;00m\n\u001b[1;32m   1196\u001b[0m full_backward_hooks, non_full_backward_hooks \u001b[39m=\u001b[39m [], []\n",
      "File \u001b[0;32m~/envs/UniverSegTF/lib/python3.9/site-packages/torch/nn/modules/container.py:204\u001b[0m, in \u001b[0;36mSequential.forward\u001b[0;34m(self, input)\u001b[0m\n\u001b[1;32m    202\u001b[0m \u001b[39mdef\u001b[39;00m \u001b[39mforward\u001b[39m(\u001b[39mself\u001b[39m, \u001b[39minput\u001b[39m):\n\u001b[1;32m    203\u001b[0m     \u001b[39mfor\u001b[39;00m module \u001b[39min\u001b[39;00m \u001b[39mself\u001b[39m:\n\u001b[0;32m--> 204\u001b[0m         \u001b[39minput\u001b[39m \u001b[39m=\u001b[39m module(\u001b[39minput\u001b[39;49m)\n\u001b[1;32m    205\u001b[0m     \u001b[39mreturn\u001b[39;00m \u001b[39minput\u001b[39m\n",
      "File \u001b[0;32m~/envs/UniverSegTF/lib/python3.9/site-packages/torch/nn/modules/module.py:1194\u001b[0m, in \u001b[0;36mModule._call_impl\u001b[0;34m(self, *input, **kwargs)\u001b[0m\n\u001b[1;32m   1190\u001b[0m \u001b[39m# If we don't have any hooks, we want to skip the rest of the logic in\u001b[39;00m\n\u001b[1;32m   1191\u001b[0m \u001b[39m# this function, and just call forward.\u001b[39;00m\n\u001b[1;32m   1192\u001b[0m \u001b[39mif\u001b[39;00m \u001b[39mnot\u001b[39;00m (\u001b[39mself\u001b[39m\u001b[39m.\u001b[39m_backward_hooks \u001b[39mor\u001b[39;00m \u001b[39mself\u001b[39m\u001b[39m.\u001b[39m_forward_hooks \u001b[39mor\u001b[39;00m \u001b[39mself\u001b[39m\u001b[39m.\u001b[39m_forward_pre_hooks \u001b[39mor\u001b[39;00m _global_backward_hooks\n\u001b[1;32m   1193\u001b[0m         \u001b[39mor\u001b[39;00m _global_forward_hooks \u001b[39mor\u001b[39;00m _global_forward_pre_hooks):\n\u001b[0;32m-> 1194\u001b[0m     \u001b[39mreturn\u001b[39;00m forward_call(\u001b[39m*\u001b[39;49m\u001b[39minput\u001b[39;49m, \u001b[39m*\u001b[39;49m\u001b[39m*\u001b[39;49mkwargs)\n\u001b[1;32m   1195\u001b[0m \u001b[39m# Do not call functions when jit is used\u001b[39;00m\n\u001b[1;32m   1196\u001b[0m full_backward_hooks, non_full_backward_hooks \u001b[39m=\u001b[39m [], []\n",
      "File \u001b[0;32m/storage/vbutoi/libraries/pylot/nn/vmap.py:34\u001b[0m, in \u001b[0;36mVmap.forward\u001b[0;34m(self, x)\u001b[0m\n\u001b[1;32m     33\u001b[0m \u001b[39mdef\u001b[39;00m \u001b[39mforward\u001b[39m(\u001b[39mself\u001b[39m, x: torch\u001b[39m.\u001b[39mTensor):\n\u001b[0;32m---> 34\u001b[0m     \u001b[39mreturn\u001b[39;00m vmap(\u001b[39mself\u001b[39;49m\u001b[39m.\u001b[39;49mmodule, x)\n",
      "File \u001b[0;32m/storage/vbutoi/libraries/pylot/nn/vmap.py:14\u001b[0m, in \u001b[0;36mvmap\u001b[0;34m(module, x, *args, **kwargs)\u001b[0m\n\u001b[1;32m     12\u001b[0m batch_size, group_size, \u001b[39m*\u001b[39m_ \u001b[39m=\u001b[39m x\u001b[39m.\u001b[39mshape\n\u001b[1;32m     13\u001b[0m grouped_input \u001b[39m=\u001b[39m E\u001b[39m.\u001b[39mrearrange(x, \u001b[39m\"\u001b[39m\u001b[39mB S ... -> (B S) ...\u001b[39m\u001b[39m\"\u001b[39m)\n\u001b[0;32m---> 14\u001b[0m grouped_output \u001b[39m=\u001b[39m module(grouped_input, \u001b[39m*\u001b[39;49margs, \u001b[39m*\u001b[39;49m\u001b[39m*\u001b[39;49mkwargs)\n\u001b[1;32m     15\u001b[0m output \u001b[39m=\u001b[39m E\u001b[39m.\u001b[39mrearrange(\n\u001b[1;32m     16\u001b[0m     grouped_output, \u001b[39m\"\u001b[39m\u001b[39m(B S) ... -> B S ...\u001b[39m\u001b[39m\"\u001b[39m, B\u001b[39m=\u001b[39mbatch_size, S\u001b[39m=\u001b[39mgroup_size\n\u001b[1;32m     17\u001b[0m )\n\u001b[1;32m     18\u001b[0m \u001b[39mreturn\u001b[39;00m output\n",
      "File \u001b[0;32m~/envs/UniverSegTF/lib/python3.9/site-packages/torch/nn/modules/module.py:1194\u001b[0m, in \u001b[0;36mModule._call_impl\u001b[0;34m(self, *input, **kwargs)\u001b[0m\n\u001b[1;32m   1190\u001b[0m \u001b[39m# If we don't have any hooks, we want to skip the rest of the logic in\u001b[39;00m\n\u001b[1;32m   1191\u001b[0m \u001b[39m# this function, and just call forward.\u001b[39;00m\n\u001b[1;32m   1192\u001b[0m \u001b[39mif\u001b[39;00m \u001b[39mnot\u001b[39;00m (\u001b[39mself\u001b[39m\u001b[39m.\u001b[39m_backward_hooks \u001b[39mor\u001b[39;00m \u001b[39mself\u001b[39m\u001b[39m.\u001b[39m_forward_hooks \u001b[39mor\u001b[39;00m \u001b[39mself\u001b[39m\u001b[39m.\u001b[39m_forward_pre_hooks \u001b[39mor\u001b[39;00m _global_backward_hooks\n\u001b[1;32m   1193\u001b[0m         \u001b[39mor\u001b[39;00m _global_forward_hooks \u001b[39mor\u001b[39;00m _global_forward_pre_hooks):\n\u001b[0;32m-> 1194\u001b[0m     \u001b[39mreturn\u001b[39;00m forward_call(\u001b[39m*\u001b[39;49m\u001b[39minput\u001b[39;49m, \u001b[39m*\u001b[39;49m\u001b[39m*\u001b[39;49mkwargs)\n\u001b[1;32m   1195\u001b[0m \u001b[39m# Do not call functions when jit is used\u001b[39;00m\n\u001b[1;32m   1196\u001b[0m full_backward_hooks, non_full_backward_hooks \u001b[39m=\u001b[39m [], []\n",
      "File \u001b[0;32m~/envs/UniverSegTF/lib/python3.9/site-packages/torch/nn/modules/conv.py:463\u001b[0m, in \u001b[0;36mConv2d.forward\u001b[0;34m(self, input)\u001b[0m\n\u001b[1;32m    462\u001b[0m \u001b[39mdef\u001b[39;00m \u001b[39mforward\u001b[39m(\u001b[39mself\u001b[39m, \u001b[39minput\u001b[39m: Tensor) \u001b[39m-\u001b[39m\u001b[39m>\u001b[39m Tensor:\n\u001b[0;32m--> 463\u001b[0m     \u001b[39mreturn\u001b[39;00m \u001b[39mself\u001b[39;49m\u001b[39m.\u001b[39;49m_conv_forward(\u001b[39minput\u001b[39;49m, \u001b[39mself\u001b[39;49m\u001b[39m.\u001b[39;49mweight, \u001b[39mself\u001b[39;49m\u001b[39m.\u001b[39;49mbias)\n",
      "File \u001b[0;32m~/envs/UniverSegTF/lib/python3.9/site-packages/torch/nn/modules/conv.py:459\u001b[0m, in \u001b[0;36mConv2d._conv_forward\u001b[0;34m(self, input, weight, bias)\u001b[0m\n\u001b[1;32m    455\u001b[0m \u001b[39mif\u001b[39;00m \u001b[39mself\u001b[39m\u001b[39m.\u001b[39mpadding_mode \u001b[39m!=\u001b[39m \u001b[39m'\u001b[39m\u001b[39mzeros\u001b[39m\u001b[39m'\u001b[39m:\n\u001b[1;32m    456\u001b[0m     \u001b[39mreturn\u001b[39;00m F\u001b[39m.\u001b[39mconv2d(F\u001b[39m.\u001b[39mpad(\u001b[39minput\u001b[39m, \u001b[39mself\u001b[39m\u001b[39m.\u001b[39m_reversed_padding_repeated_twice, mode\u001b[39m=\u001b[39m\u001b[39mself\u001b[39m\u001b[39m.\u001b[39mpadding_mode),\n\u001b[1;32m    457\u001b[0m                     weight, bias, \u001b[39mself\u001b[39m\u001b[39m.\u001b[39mstride,\n\u001b[1;32m    458\u001b[0m                     _pair(\u001b[39m0\u001b[39m), \u001b[39mself\u001b[39m\u001b[39m.\u001b[39mdilation, \u001b[39mself\u001b[39m\u001b[39m.\u001b[39mgroups)\n\u001b[0;32m--> 459\u001b[0m \u001b[39mreturn\u001b[39;00m F\u001b[39m.\u001b[39;49mconv2d(\u001b[39minput\u001b[39;49m, weight, bias, \u001b[39mself\u001b[39;49m\u001b[39m.\u001b[39;49mstride,\n\u001b[1;32m    460\u001b[0m                 \u001b[39mself\u001b[39;49m\u001b[39m.\u001b[39;49mpadding, \u001b[39mself\u001b[39;49m\u001b[39m.\u001b[39;49mdilation, \u001b[39mself\u001b[39;49m\u001b[39m.\u001b[39;49mgroups)\n",
      "\u001b[0;31mOutOfMemoryError\u001b[0m: CUDA out of memory. Tried to allocate 240.00 MiB (GPU 0; 11.90 GiB total capacity; 533.54 MiB already allocated; 47.62 MiB free; 626.00 MiB reserved in total by PyTorch) If reserved memory is >> allocated memory try setting max_split_size_mb to avoid fragmentation.  See documentation for Memory Management and PYTORCH_CUDA_ALLOC_CONF"
     ]
    }
   ],
   "source": [
    "srunner.run_exp(cfgs[0])"
   ]
  },
  {
   "attachments": {},
   "cell_type": "markdown",
   "id": "079f8a19",
   "metadata": {},
   "source": [
    "## Submit Config to Long Term Jobs"
   ]
  },
  {
   "cell_type": "code",
   "execution_count": null,
   "id": "22892be7",
   "metadata": {},
   "outputs": [],
   "source": [
    "#srunner.submit_exps(cfgs)"
   ]
  },
  {
   "cell_type": "code",
   "execution_count": null,
   "id": "6802a73b",
   "metadata": {},
   "outputs": [],
   "source": [
    "# print(srunner.jobs[0].stderr())"
   ]
  }
 ],
 "metadata": {
  "kernelspec": {
   "display_name": "UniverSegTF",
   "language": "python",
   "name": "universegtf"
  },
  "language_info": {
   "codemirror_mode": {
    "name": "ipython",
    "version": 3
   },
   "file_extension": ".py",
   "mimetype": "text/x-python",
   "name": "python",
   "nbconvert_exporter": "python",
   "pygments_lexer": "ipython3",
   "version": "3.9.16"
  }
 },
 "nbformat": 4,
 "nbformat_minor": 5
}
