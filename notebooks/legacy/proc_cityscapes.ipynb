{
 "cells": [
  {
   "cell_type": "code",
   "execution_count": null,
   "metadata": {},
   "outputs": [],
   "source": [
    "import pathlib\n",
    "import sys\n",
    "sys.path.append(\"/storage/vbutoi/projects/ESE\")\n",
    "sys.path.append(\"/storage/vbutoi/projects\")\n",
    "sys.path.append(\"/storage/vbutoi/libraries\")\n",
    "\n",
    "%load_ext autoreload\n",
    "%autoreload 2"
   ]
  },
  {
   "cell_type": "code",
   "execution_count": null,
   "metadata": {},
   "outputs": [],
   "source": [
    "from ese.experiment.datasets.utils import proc_CityScapes\n",
    "\n",
    "root_dir = pathlib.Path('/storage/vbutoi/datasets/CityScapes')\n",
    "\n",
    "proc_CityScapes(\n",
    "    root_dir, \n",
    "    version='0.1',\n",
    "    show=True,\n",
    "    save=False\n",
    ")"
   ]
  },
  {
   "cell_type": "code",
   "execution_count": null,
   "metadata": {},
   "outputs": [],
   "source": [
    "from ese.experiment.datasets.utils import thunderify_CityScapes\n",
    "\n",
    "proc_root = pathlib.Path('/storage/vbutoi/datasets/CityScapes/processed/')\n",
    "dst_dir = pathlib.Path('/storage/vbutoi/datasets/CityScapes/thunder_cityscapes')\n",
    "\n",
    "thunderify_CityScapes(\n",
    "        proc_root, \n",
    "        dst_dir,\n",
    "        version='0.1',\n",
    ")"
   ]
  }
 ],
 "metadata": {
  "kernelspec": {
   "display_name": "UniverSegTF",
   "language": "python",
   "name": "universegtf"
  },
  "language_info": {
   "codemirror_mode": {
    "name": "ipython",
    "version": 3
   },
   "file_extension": ".py",
   "mimetype": "text/x-python",
   "name": "python",
   "nbconvert_exporter": "python",
   "pygments_lexer": "ipython3",
   "version": "3.9.16"
  },
  "orig_nbformat": 4
 },
 "nbformat": 4,
 "nbformat_minor": 2
}
