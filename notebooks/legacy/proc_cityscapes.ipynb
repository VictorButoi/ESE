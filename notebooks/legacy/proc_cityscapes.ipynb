{
 "cells": [
  {
   "cell_type": "code",
   "execution_count": 1,
   "metadata": {},
   "outputs": [],
   "source": [
    "import pathlib\n",
    "import sys\n",
    "sys.path.append(\"/storage/vbutoi/projects/ESE\")\n",
    "sys.path.append(\"/storage/vbutoi/projects\")\n",
    "sys.path.append(\"/storage/vbutoi/libraries\")\n",
    "\n",
    "%load_ext autoreload\n",
    "%autoreload 2\n",
    "\n",
    "%load_ext yamlmagic"
   ]
  },
  {
   "cell_type": "code",
   "execution_count": 2,
   "metadata": {},
   "outputs": [
    {
     "data": {
      "application/javascript": "\n            require(\n                [\n                    \"notebook/js/codecell\",\n                    \"codemirror/mode/yaml/yaml\"\n                ],\n                function(cc){\n                    cc.CodeCell.options_default.highlight_modes.magic_yaml = {\n                        reg: [\"^%%yaml\"]\n                    }\n                }\n            );\n            ",
      "text/plain": [
       "<IPython.core.display.Javascript object>"
      ]
     },
     "metadata": {},
     "output_type": "display_data"
    }
   ],
   "source": [
    "%%yaml cityscapes_proc_config\n",
    "\n",
    "data_root: \"/storage/vbutoi/datasets/CityScapes\"\n",
    "version: 0.1\n",
    "show_examples: False\n",
    "save: True"
   ]
  },
  {
   "cell_type": "code",
   "execution_count": 3,
   "metadata": {},
   "outputs": [],
   "source": [
    "# from ese.experiment.datasets.utils import proc_CityScapes\n",
    "# from ionpy.util import Config\n",
    "\n",
    "# proc_CityScapes(Config(cityscapes_config))"
   ]
  },
  {
   "cell_type": "code",
   "execution_count": 4,
   "metadata": {},
   "outputs": [],
   "source": [
    "# from ionpy.slite.submit import submit_jobs\n",
    "# from ionpy.util import Config\n",
    "# from ese.experiment.datasets.utils import proc_CityScapes\n",
    "\n",
    "# submit_jobs(\n",
    "#     project=\"ESE\",\n",
    "#     exp_name=\"10_11_23_Proc_CityScapes\",\n",
    "#     config_list=[Config(cityscapes_config)], \n",
    "#     job_func=proc_CityScapes\n",
    "#     )"
   ]
  },
  {
   "cell_type": "code",
   "execution_count": 5,
   "metadata": {},
   "outputs": [
    {
     "data": {
      "application/javascript": "\n            require(\n                [\n                    \"notebook/js/codecell\",\n                    \"codemirror/mode/yaml/yaml\"\n                ],\n                function(cc){\n                    cc.CodeCell.options_default.highlight_modes.magic_yaml = {\n                        reg: [\"^%%yaml\"]\n                    }\n                }\n            );\n            ",
      "text/plain": [
       "<IPython.core.display.Javascript object>"
      ]
     },
     "metadata": {},
     "output_type": "display_data"
    }
   ],
   "source": [
    "%%yaml cityscapes_thunder_cfg\n",
    "\n",
    "proc_root: \"/storage/vbutoi/datasets/CityScapes/processed\"\n",
    "dst_dir: \"/storage/vbutoi/datasets/CityScapes/thunder_cityscapes\"\n",
    "version: 0.1"
   ]
  },
  {
   "cell_type": "code",
   "execution_count": 6,
   "metadata": {},
   "outputs": [
    {
     "name": "stdout",
     "output_type": "stream",
     "text": [
      "Doing split val\n"
     ]
    },
    {
     "name": "stderr",
     "output_type": "stream",
     "text": [
      "100%|██████████| 500/500 [05:00<00:00,  1.66it/s]\n"
     ]
    },
    {
     "name": "stdout",
     "output_type": "stream",
     "text": [
      "Doing split train\n"
     ]
    },
    {
     "name": "stderr",
     "output_type": "stream",
     "text": [
      " 89%|████████▊ | 2639/2975 [21:43<03:04,  1.82it/s]"
     ]
    }
   ],
   "source": [
    "from ese.experiment.datasets.utils import thunderify_CityScapes\n",
    "from ionpy.util import Config\n",
    "\n",
    "thunderify_CityScapes(Config(cityscapes_thunder_cfg))"
   ]
  }
 ],
 "metadata": {
  "kernelspec": {
   "display_name": "UniverSegTF",
   "language": "python",
   "name": "universegtf"
  },
  "language_info": {
   "codemirror_mode": {
    "name": "ipython",
    "version": 3
   },
   "file_extension": ".py",
   "mimetype": "text/x-python",
   "name": "python",
   "nbconvert_exporter": "python",
   "pygments_lexer": "ipython3",
   "version": "3.9.16"
  },
  "orig_nbformat": 4
 },
 "nbformat": 4,
 "nbformat_minor": 2
}
