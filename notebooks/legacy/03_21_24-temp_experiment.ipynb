{
 "cells": [
  {
   "cell_type": "code",
   "execution_count": null,
   "metadata": {},
   "outputs": [],
   "source": [
    "import sys\n",
    "sys.path.append('/storage/vbutoi/projects')\n",
    "sys.path.append('/storage/vbutoi/libraries')\n",
    "sys.path.append('/storage/vbutoi/projects/ESE')\n",
    "sys.path.append('/storage/vbutoi/projects/UniverSeg')\n",
    "\n",
    "import matplotlib.pyplot as plt\n",
    "import seaborn as sns\n",
    "sns.set_style(\"darkgrid\")\n",
    "sns.set_context(\"talk\")\n",
    "\n",
    "import os \n",
    "os.environ['DATAPATH'] = ':'.join((\n",
    "       '/storage/vbutoi/datasets',\n",
    "))\n",
    "\n",
    "# Results loader object does everything\n",
    "from ionpy.analysis import ResultsLoader\n",
    "from pathlib import Path\n",
    "root = Path(\"/storage/vbutoi/scratch/ESE\")\n",
    "rs = ResultsLoader()\n",
    "\n",
    "# For using code without restarting.\n",
    "%load_ext autoreload\n",
    "%autoreload 2\n",
    "# For using yaml configs.\n",
    "%load_ext yamlmagic"
   ]
  },
  {
   "cell_type": "code",
   "execution_count": null,
   "metadata": {},
   "outputs": [],
   "source": [
    "%%yaml results_cfg \n",
    "\n",
    "log:\n",
    "    root: /storage/vbutoi/scratch/ESE/inference\n",
    "    inference_groups: \n",
    "        - \"03_25_24_RandomCircles_RandomMiscalEnsembles\"\n",
    "    \n",
    "calibration:\n",
    "    metric_cfg_file: \"/storage/vbutoi/projects/ESE/ese/experiment/configs/inference/Calibration_Metrics.yaml\"\n",
    "\n",
    "options:\n",
    "    add_baseline_rows: False \n",
    "    load_pixel_meters: False \n",
    "    add_dice_loss_rows: True\n",
    "    drop_nan_metric_rows: True \n",
    "    load_groupavg_metrics: False\n",
    "    remove_shared_columns: False\n",
    "    equal_rows_per_cfg_assert: True "
   ]
  },
  {
   "cell_type": "code",
   "execution_count": null,
   "metadata": {},
   "outputs": [],
   "source": [
    "from ese.experiment.analysis.analyze_inf import load_cal_inference_stats\n",
    "\n",
    "image_info_df = load_cal_inference_stats(\n",
    "    results_cfg=results_cfg,\n",
    "    load_cached=False,\n",
    ")"
   ]
  },
  {
   "cell_type": "code",
   "execution_count": null,
   "metadata": {},
   "outputs": [],
   "source": [
    "import ast\n",
    "import numpy as np\n",
    "\n",
    "# def temp_1(member_temps):\n",
    "#     return ast.literal_eval(member_temps)[0]\n",
    "# def temp_2(member_temps):\n",
    "#     return ast.literal_eval(member_temps)[1]\n",
    "\n",
    "def temp_mean(member_temps):\n",
    "    return np.mean(ast.literal_eval(member_temps))\n",
    "\n",
    "def temp_variance(member_temps):\n",
    "    return np.var(ast.literal_eval(member_temps))\n",
    "\n",
    "image_info_df.augment(temp_mean)\n",
    "image_info_df.augment(temp_variance)"
   ]
  },
  {
   "cell_type": "code",
   "execution_count": null,
   "metadata": {},
   "outputs": [],
   "source": [
    "image_info_df['temp_variance'].unique()"
   ]
  },
  {
   "cell_type": "code",
   "execution_count": null,
   "metadata": {},
   "outputs": [],
   "source": [
    "# Select only the rows corresponding to group methods\n",
    "image_info_df = image_info_df[image_info_df['model_type'] == 'group']\n",
    "\n",
    "image_info_df['method_name'] = image_info_df['method_name'].astype('category')\n",
    "image_info_df['method_name'] = image_info_df['method_name'].cat.reorder_categories([\n",
    "    'Ensemble (mean, probs)', \n",
    "])\n",
    "\n",
    "image_info_df['split'] = image_info_df['split'].astype('category')\n",
    "image_info_df['split'] = image_info_df['split'].cat.reorder_categories([\n",
    "    'val',\n",
    "    'cal'\n",
    "])"
   ]
  },
  {
   "cell_type": "code",
   "execution_count": null,
   "metadata": {},
   "outputs": [],
   "source": [
    "image_info_df['image_metric'].unique()"
   ]
  },
  {
   "cell_type": "code",
   "execution_count": null,
   "metadata": {},
   "outputs": [],
   "source": [
    "metric_df = image_info_df[image_info_df['image_metric'] == 'Image_ECE']\n",
    "\n",
    "g = sns.relplot(\n",
    "    data=metric_df,\n",
    "    x='temp_mean',\n",
    "    y='temp_variance',\n",
    "    hue='metric_score',\n",
    "    col='split',\n",
    "    kind='scatter',\n",
    "    height=8,\n",
    "    aspect=1.5,\n",
    "    s=100,\n",
    "    alpha=0.7,\n",
    ")"
   ]
  },
  {
   "cell_type": "code",
   "execution_count": null,
   "metadata": {},
   "outputs": [],
   "source": [
    "metric_df = image_info_df[image_info_df['image_metric'] == 'Dice']\n",
    "\n",
    "g = sns.relplot(\n",
    "    data=metric_df,\n",
    "    x='temp_mean',\n",
    "    y='temp_variance',\n",
    "    hue='metric_score',\n",
    "    col='split',\n",
    "    kind='scatter',\n",
    "    height=8,\n",
    "    aspect=1.5,\n",
    "    s=100,\n",
    "    alpha=0.7,\n",
    "    hue_norm=(0.70, 0.80)\n",
    ")"
   ]
  },
  {
   "cell_type": "code",
   "execution_count": null,
   "metadata": {},
   "outputs": [],
   "source": [
    "metric_df = image_info_df[image_info_df['image_metric'] == 'Dice']\n",
    "\n",
    "g = sns.relplot(\n",
    "    data=metric_df,\n",
    "    x='temp_variance',\n",
    "    y='metric_score',\n",
    "    col='split',\n",
    "    kind='line',\n",
    "    height=8,\n",
    "    aspect=1.5,\n",
    ")\n",
    "\n",
    "# g.set(ylim=(0.85, 1.0))"
   ]
  },
  {
   "cell_type": "code",
   "execution_count": null,
   "metadata": {},
   "outputs": [],
   "source": [
    "metric_df = image_info_df[image_info_df['image_metric'] == 'HD95']\n",
    "\n",
    "g = sns.relplot(\n",
    "    data=metric_df,\n",
    "    x='temp_mean',\n",
    "    y='temp_variance',\n",
    "    hue='metric_score',\n",
    "    col='split',\n",
    "    kind='scatter',\n",
    "    height=8,\n",
    "    aspect=1.5,\n",
    "    s=100,\n",
    "    alpha=0.7,\n",
    ")"
   ]
  },
  {
   "cell_type": "code",
   "execution_count": null,
   "metadata": {},
   "outputs": [],
   "source": [
    "metric_df = image_info_df[image_info_df['image_metric'] == 'Accuracy']\n",
    "\n",
    "g = sns.relplot(\n",
    "    data=metric_df,\n",
    "    x='temp_mean',\n",
    "    y='temp_variance',\n",
    "    hue='metric_score',\n",
    "    col='split',\n",
    "    kind='scatter',\n",
    "    height=8,\n",
    "    aspect=1.5,\n",
    "    s=100,\n",
    "    alpha=0.7,\n",
    ")"
   ]
  },
  {
   "cell_type": "code",
   "execution_count": null,
   "metadata": {},
   "outputs": [],
   "source": [
    "metric_df = image_info_df[image_info_df['image_metric'] == 'BoundaryIOU']\n",
    "\n",
    "g = sns.relplot(\n",
    "    data=metric_df,\n",
    "    x='temp_mean',\n",
    "    y='temp_variance',\n",
    "    hue='metric_score',\n",
    "    col='split',\n",
    "    kind='scatter',\n",
    "    height=8,\n",
    "    aspect=1.5,\n",
    "    s=100,\n",
    "    alpha=0.7,\n",
    ")"
   ]
  }
 ],
 "metadata": {
  "kernelspec": {
   "display_name": "UniverSegTF",
   "language": "python",
   "name": "universegtf"
  },
  "language_info": {
   "codemirror_mode": {
    "name": "ipython",
    "version": 3
   },
   "file_extension": ".py",
   "mimetype": "text/x-python",
   "name": "python",
   "nbconvert_exporter": "python",
   "pygments_lexer": "ipython3",
   "version": "3.9.16"
  },
  "orig_nbformat": 4
 },
 "nbformat": 4,
 "nbformat_minor": 2
}
