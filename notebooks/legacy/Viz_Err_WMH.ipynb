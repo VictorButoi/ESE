{
 "cells": [
  {
   "cell_type": "code",
   "execution_count": null,
   "metadata": {},
   "outputs": [],
   "source": [
    "import sys\n",
    "sys.path.append('/storage/vbutoi/projects')\n",
    "sys.path.append('/storage/vbutoi/libraries')\n",
    "sys.path.append('/storage/vbutoi/projects/ESE')\n",
    "sys.path.append('/storage/vbutoi/projects/UniverSeg')\n",
    "\n",
    "from ionpy.analysis import ResultsLoader\n",
    "from ese.experiment.experiment import CalibrationExperiment\n",
    "import seaborn as sns\n",
    "import matplotlib.pyplot as plt\n",
    "sns.set_style(\"darkgrid\")\n",
    "\n",
    "import os \n",
    "os.environ['DATAPATH'] = ':'.join((\n",
    "       '/storage/vbutoi/datasets',\n",
    "))\n",
    "\n",
    "# Results loader object does everything\n",
    "rs = ResultsLoader()\n",
    "root = \"/storage/vbutoi/scratch/ESE\"\n",
    "\n",
    "%load_ext yamlmagic\n",
    "%load_ext autoreload\n",
    "%autoreload 2"
   ]
  },
  {
   "cell_type": "code",
   "execution_count": null,
   "metadata": {},
   "outputs": [],
   "source": [
    "path = f\"{root}/WMH_aug_runs\"\n",
    "\n",
    "dfc = rs.load_configs(\n",
    "    path,\n",
    "    properties=False,\n",
    ")\n",
    "\n",
    "df = rs.load_metrics(dfc)"
   ]
  },
  {
   "cell_type": "code",
   "execution_count": null,
   "metadata": {},
   "outputs": [],
   "source": [
    "\n",
    "os.environ[\"CUDA_VISIBLE_DEVICES\"] = '1'\n",
    "\n",
    "best_exp = rs.get_best_experiment(\n",
    "    df=df,\n",
    "    exp_class=CalibrationExperiment,\n",
    "    device=\"cuda\"\n",
    ")\n",
    "best_exp.build_dataloader()"
   ]
  },
  {
   "cell_type": "code",
   "execution_count": null,
   "metadata": {},
   "outputs": [],
   "source": [
    "best_exp.vis_loss_curves(height=6)"
   ]
  },
  {
   "cell_type": "code",
   "execution_count": null,
   "metadata": {},
   "outputs": [],
   "source": [
    "from ese.experiment.analysis.inference import get_dataset_perf \n",
    "\n",
    "# val_perf is a dict where each item is the subj id\n",
    "predictions_list = get_dataset_perf(\n",
    "    exp=best_exp, \n",
    "    split=\"val\"\n",
    "    )"
   ]
  },
  {
   "cell_type": "code",
   "execution_count": null,
   "metadata": {},
   "outputs": [],
   "source": [
    "from ese.experiment.analysis.inference import get_pixelinfo_df\n",
    "\n",
    "pixel_preds_df = get_pixelinfo_df(\n",
    "    data_points=predictions_list,\n",
    "    num_bins=10\n",
    "    )"
   ]
  },
  {
   "cell_type": "markdown",
   "metadata": {},
   "source": [
    "## Distribution of Pixel Confidences"
   ]
  },
  {
   "cell_type": "code",
   "execution_count": null,
   "metadata": {},
   "outputs": [],
   "source": [
    "plt.figure(figsize=(15, 10))  # Adjust the width and height as needed\n",
    "g = sns.kdeplot(data=pixel_preds_df, x=\"conf\", clip=(0, 1))\n",
    "g.set_title(\"Distribution of Pixel Confidences\")\n",
    "plt.show()"
   ]
  },
  {
   "cell_type": "markdown",
   "metadata": {},
   "source": [
    "## Distribution of Pixel Accuracies"
   ]
  },
  {
   "cell_type": "code",
   "execution_count": null,
   "metadata": {},
   "outputs": [],
   "source": [
    "plt.figure(figsize=(5, 10))  # Adjust the width and height as needed\n",
    "g = sns.barplot(data=pixel_preds_df, y=\"accuracy\")\n",
    "g.set_title(\"Average Pixel-wise Accuracy\")\n",
    "plt.show()"
   ]
  },
  {
   "cell_type": "markdown",
   "metadata": {},
   "source": [
    "## Distribution of Pixel Confidences vs Label "
   ]
  },
  {
   "cell_type": "code",
   "execution_count": null,
   "metadata": {},
   "outputs": [],
   "source": [
    "plt.figure(figsize=(15, 10))  # Adjust the width and height as needed\n",
    "g = sns.kdeplot(data=pixel_preds_df, x=\"conf\", hue=\"label\", common_norm=False, clip=(0.5, 1))\n",
    "g.set_title(\"Distribution of Pixel Confidences\")\n",
    "plt.show()"
   ]
  },
  {
   "cell_type": "markdown",
   "metadata": {},
   "source": [
    "## Distribution of Pixel Accuracies vs Label "
   ]
  },
  {
   "cell_type": "code",
   "execution_count": null,
   "metadata": {},
   "outputs": [],
   "source": [
    "plt.figure(figsize=(15, 10))  # Adjust the width and height as needed\n",
    "g = sns.barplot(data=pixel_preds_df, x=\"label\", y=\"accuracy\")\n",
    "g.set_title(\"Average Pixel-wise Accuracy per Label\")\n",
    "plt.show() "
   ]
  },
  {
   "cell_type": "markdown",
   "metadata": {},
   "source": [
    "## Distribution of Pixel Accuracies vs Distance to a Boundary"
   ]
  },
  {
   "cell_type": "code",
   "execution_count": null,
   "metadata": {},
   "outputs": [],
   "source": [
    "sns.lineplot(data=pixel_preds_df, x=\"dist_to_boundary\", y=\"accuracy\")"
   ]
  },
  {
   "cell_type": "code",
   "execution_count": null,
   "metadata": {},
   "outputs": [],
   "source": [
    "unique_labels = pixel_preds_df['label'].unique()\n",
    "color_dict = {\n",
    "    0.0: \"blue\",\n",
    "    1.0: \"orange\"\n",
    "}\n",
    "for l_idx, lab in enumerate(unique_labels):\n",
    "    sns.lineplot(\n",
    "        data=pixel_preds_df[pixel_preds_df['label']==lab], \n",
    "        x=\"dist_to_boundary\", \n",
    "        y=\"accuracy\",\n",
    "        color=sns.color_palette(\"tab10\")[l_idx]\n",
    "        )\n",
    "    plt.title(f\"Label {lab}\")\n",
    "    plt.show()"
   ]
  },
  {
   "cell_type": "markdown",
   "metadata": {},
   "source": [
    "## From ToySquare, we want to look at dist to boundary vs (confidence) and (accuracy) on the same plot.j"
   ]
  },
  {
   "cell_type": "code",
   "execution_count": null,
   "metadata": {},
   "outputs": [],
   "source": [
    "unique_labels = pixel_preds_df['label'].unique()\n",
    "color_dict = {\n",
    "    0.0: \"blue\",\n",
    "    1.0: \"orange\"\n",
    "}\n",
    "for l_idx, lab in enumerate(unique_labels):\n",
    "    plt.figure(figsize=(15, 10))  # Adjust the width and height as needed\n",
    "    label_df = pixel_preds_df[pixel_preds_df['label']==lab]\n",
    "    label_df_melted = label_df.melt(id_vars='dist_to_boundary', value_vars=['conf', 'accuracy'], var_name='y', value_name='value')\n",
    "    sns.lineplot(\n",
    "        data=label_df_melted,\n",
    "        x=\"dist_to_boundary\", \n",
    "        y=\"value\",\n",
    "        hue='y'\n",
    "        )\n",
    "    plt.title(f\"Label {lab}\")\n",
    "    plt.show()"
   ]
  }
 ],
 "metadata": {
  "kernelspec": {
   "display_name": "UniverSegTF",
   "language": "python",
   "name": "universegtf"
  },
  "language_info": {
   "codemirror_mode": {
    "name": "ipython",
    "version": 3
   },
   "file_extension": ".py",
   "mimetype": "text/x-python",
   "name": "python",
   "nbconvert_exporter": "python",
   "pygments_lexer": "ipython3",
   "version": "3.9.16"
  },
  "orig_nbformat": 4
 },
 "nbformat": 4,
 "nbformat_minor": 2
}
