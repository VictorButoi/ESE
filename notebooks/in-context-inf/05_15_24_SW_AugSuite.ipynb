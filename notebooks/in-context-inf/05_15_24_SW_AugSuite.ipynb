{
 "cells": [
  {
   "cell_type": "code",
   "execution_count": null,
   "metadata": {},
   "outputs": [],
   "source": [
    "import sys\n",
    "sys.path.append('/storage/vbutoi/projects')\n",
    "sys.path.append('/storage/vbutoi/libraries')\n",
    "sys.path.append('/storage/vbutoi/projects/ESE')\n",
    "sys.path.append('/storage/vbutoi/projects/UniverSeg')\n",
    "\n",
    "import matplotlib.pyplot as plt\n",
    "import pandas as pd\n",
    "import seaborn as sns\n",
    "sns.set_style(\"darkgrid\")\n",
    "sns.set_context(\"talk\")\n",
    "\n",
    "import os \n",
    "os.environ['DATAPATH'] = ':'.join((\n",
    "       '/storage/vbutoi/datasets',\n",
    "))\n",
    "\n",
    "from ese.experiment.analysis.analyze_inf import load_cal_inference_stats\n",
    "# Results loader object does everything\n",
    "from ionpy.analysis import ResultsLoader\n",
    "from pathlib import Path\n",
    "root = Path(\"/storage/vbutoi/scratch/ESE\")\n",
    "rs = ResultsLoader()\n",
    "\n",
    "# For using code without restarting.\n",
    "%load_ext autoreload\n",
    "%autoreload 2\n",
    "# For using yaml configs.\n",
    "%load_ext yamlmagic"
   ]
  },
  {
   "cell_type": "code",
   "execution_count": null,
   "metadata": {},
   "outputs": [],
   "source": [
    "%%yaml results_cfg \n",
    "\n",
    "log:\n",
    "    root: /storage/vbutoi/scratch/ESE/inference\n",
    "    inference_groups: \n",
    "        - '05_15_24_SpineWeb_SuppWAug'\n",
    "        - '05_15_24_SW_FixedAugExp'\n",
    "        # - '05_15_24_SW_FixedAugExp_v2'\n",
    "    \n",
    "calibration:\n",
    "    metric_cfg_file: \"/storage/vbutoi/projects/ESE/ese/experiment/configs/inference/Calibration_Metrics.yaml\"\n",
    "\n",
    "options:\n",
    "    add_dice_loss_rows: True\n",
    "    drop_nan_metric_rows: True \n",
    "    remove_shared_columns: False\n",
    "    equal_rows_per_cfg_assert: False "
   ]
  },
  {
   "cell_type": "code",
   "execution_count": null,
   "metadata": {},
   "outputs": [],
   "source": [
    "aug_image_info_df = load_cal_inference_stats(\n",
    "    results_cfg=results_cfg,\n",
    "    load_cached=False,\n",
    ")"
   ]
  },
  {
   "cell_type": "code",
   "execution_count": null,
   "metadata": {},
   "outputs": [],
   "source": [
    "import ast\n",
    "\n",
    "def support_augmentations(support_augs):\n",
    "    # Join the tuple by ', '\n",
    "    aug_list = list(ast.literal_eval(support_augs))\n",
    "    if len(aug_list) == 0:\n",
    "        return \"None\"\n",
    "    else:\n",
    "        return ', '.join(aug_list)\n",
    "\n",
    "def exp_name(exp_root):\n",
    "    return exp_root.split('/')[-1]\n",
    "\n",
    "aug_image_info_df.augment(support_augmentations)\n",
    "aug_image_info_df.augment(exp_name)"
   ]
  },
  {
   "cell_type": "code",
   "execution_count": null,
   "metadata": {},
   "outputs": [],
   "source": [
    "# We want to compare how Dice relates to ECE, this means we need to pivot our dataframe\n",
    "aug_df_pivot = aug_image_info_df.pivot(index=['exp_name', 'data_id', 'sup_idx', 'support_augmentations'], columns='image_metric', values='metric_score').reset_index()"
   ]
  },
  {
   "cell_type": "code",
   "execution_count": null,
   "metadata": {},
   "outputs": [],
   "source": [
    "aug_df_pivot['support_augmentations'] = aug_df_pivot['support_augmentations'].astype('category')\n",
    "aug_df_pivot['support_augmentations'] = aug_df_pivot['support_augmentations'].cat.reorder_categories([\n",
    "    'None',\n",
    "    'Affine',\n",
    "    'Elastic',\n",
    "    'HorizontalFlip',\n",
    "    'Affine, Elastic',\n",
    "    'Affine, HorizontalFlip',\n",
    "    'Elastic, HorizontalFlip',\n",
    "    'Affine, Elastic, HorizontalFlip'\n",
    "])"
   ]
  },
  {
   "cell_type": "code",
   "execution_count": null,
   "metadata": {},
   "outputs": [],
   "source": [
    "sns.catplot(\n",
    "    data=aug_df_pivot,\n",
    "    x='support_augmentations',\n",
    "    y='Dice',\n",
    "    hue='exp_name',\n",
    "    kind='boxen',\n",
    "    showfliers=False,\n",
    "    aspect=2.5,\n",
    "    height=10,\n",
    "    palette='Set2',\n",
    ")\n",
    "# Rotate the x labels for better readability.\n",
    "plt.xticks(rotation=45)\n",
    "# Set the y axis to be between 0 and 1.\n",
    "plt.ylim(0, 1)\n",
    "# Set the title of the plot.\n",
    "plt.title('Dice Score vs. Support Augmentations')"
   ]
  },
  {
   "cell_type": "code",
   "execution_count": null,
   "metadata": {},
   "outputs": [],
   "source": [
    "g = sns.catplot(\n",
    "    data=aug_df_pivot.select(),\n",
    "    x='support_augmentations',\n",
    "    y='Dice',\n",
    "    hue='exp_name',\n",
    "    kind='boxen',\n",
    "    row='data_id',\n",
    "    showfliers=False,\n",
    "    aspect=3,\n",
    "    height=6,\n",
    "    palette='Set2',\n",
    ")\n",
    "# Rotate the x labels for better readability.\n",
    "plt.xticks(rotation=45)\n",
    "# Set the y axis to be between 0 and 1.\n",
    "g.set(ylim=(0, 1))\n",
    "# Set the title for the collection of subplots.\n",
    "g.fig.suptitle(\"Dice vs Augmentations\", fontsize=25)\n",
    "g.fig.subplots_adjust(top=0.9)"
   ]
  }
 ],
 "metadata": {
  "kernelspec": {
   "display_name": "Python 3",
   "language": "python",
   "name": "python3"
  },
  "language_info": {
   "codemirror_mode": {
    "name": "ipython",
    "version": 3
   },
   "file_extension": ".py",
   "mimetype": "text/x-python",
   "name": "python",
   "nbconvert_exporter": "python",
   "pygments_lexer": "ipython3",
   "version": "3.9.16"
  },
  "orig_nbformat": 4
 },
 "nbformat": 4,
 "nbformat_minor": 2
}
