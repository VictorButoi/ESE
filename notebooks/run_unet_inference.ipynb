{
 "cells": [
  {
   "cell_type": "code",
   "execution_count": null,
   "metadata": {},
   "outputs": [],
   "source": [
    "# torch imports\n",
    "import torch\n",
    "# Misc imports\n",
    "import os \n",
    "import sys\n",
    "import seaborn as sns\n",
    "from pathlib import Path\n",
    "sys.path.append('/storage/vbutoi/projects')\n",
    "sys.path.append('/storage/vbutoi/libraries')\n",
    "sys.path.append('/storage/vbutoi/projects/ESE')\n",
    "sys.path.append('/storage/vbutoi/projects/UniverSeg')\n",
    "# Local imports\n",
    "from ese.experiment.analysis.analysis_utils.submit_utils import get_ese_inference_configs\n",
    "# Ionpy imports\n",
    "from ionpy.util import Config\n",
    "from ionpy.analysis import ResultsLoader\n",
    "\n",
    "# Define some useful paths.\n",
    "os.environ['DATAPATH'] = ':'.join((\n",
    "       '/storage/vbutoi/datasets',\n",
    "       '/storage'\n",
    "))\n",
    "# Set some defaults\n",
    "rs = ResultsLoader()\n",
    "sns.set_style(\"darkgrid\")\n",
    "torch.set_printoptions(linewidth=200)\n",
    "\n",
    "# For using code without restarting.\n",
    "%load_ext autoreload\n",
    "%autoreload 2\n",
    "# For using yaml configs.\n",
    "%load_ext yamlmagic"
   ]
  },
  {
   "cell_type": "code",
   "execution_count": null,
   "metadata": {},
   "outputs": [],
   "source": [
    "%%yaml defaults_cfg \n",
    "\n",
    "experiment:\n",
    "    exp_root: '?'\n",
    "    inference_seed: 40\n",
    "    hard_pred_threshold: 0.5 \n",
    "\n",
    "log:\n",
    "    root: '?'\n",
    "    log_interval: 10 \n",
    "    log_image_stats: True \n",
    "    log_pixel_stats: False \n",
    "    gether_inference_stats: True\n",
    "    summary_compute_global_metrics: False \n",
    "\n",
    "dataloader:\n",
    "    batch_size: '?'\n",
    "    num_workers: '?' \n",
    "    pin_memory: True "
   ]
  },
  {
   "cell_type": "code",
   "execution_count": null,
   "metadata": {},
   "outputs": [],
   "source": [
    "%%yaml calibration_cfg \n",
    "\n",
    "calibrator:\n",
    "    _name: None \n",
    "\n",
    "local_calibration:\n",
    "    num_prob_bins: 15\n",
    "    neighborhood_width: 3\n",
    "\n",
    "global_calibration:\n",
    "    num_classes: '?' \n",
    "    num_prob_bins: 15\n",
    "    neighborhood_width: 3"
   ]
  },
  {
   "cell_type": "code",
   "execution_count": null,
   "metadata": {},
   "outputs": [],
   "source": [
    "%%yaml model_cfg \n",
    "\n",
    "# For standard datasets\n",
    "#####################################\n",
    "data:\n",
    "    preload: False \n",
    "\n",
    "model:\n",
    "    _type: \"standard\"\n",
    "    pretrained_exp_root : None\n",
    "    pretrained_select_metric: \"val-dice_score\"\n",
    "    checkpoint: 'max-val-dice_score'\n",
    "    pred_label: '?' "
   ]
  },
  {
   "cell_type": "markdown",
   "metadata": {},
   "source": [
    "## Gather Inference Options."
   ]
  },
  {
   "cell_type": "code",
   "execution_count": null,
   "metadata": {},
   "outputs": [],
   "source": [
    "%%yaml experiment_cfg \n",
    "\n",
    "# Use this field if you want to call it something else beyond the base_model_dir.\n",
    "name: \"06_25_24_DRIVE_LossFunc_Analysis\"\n",
    "\n",
    "base_model: \n",
    "    - \"/storage/vbutoi/scratch/ESE/training/06_24_24_DRIVE_Large_DRIVE_CE\"\n",
    "    - \"/storage/vbutoi/scratch/ESE/training/06_24_24_DRIVE_Large_DRIVE_Combo\"\n",
    "    - \"/storage/vbutoi/scratch/ESE/training/06_24_24_DRIVE_Large_DRIVE_Dice\"\n",
    "    - \"/storage/vbutoi/scratch/ESE/training/06_24_24_DRIVE_Large_DRIVE_SVLS_CE\"\n",
    "    - \"/storage/vbutoi/scratch/ESE/training/06_24_24_DRIVE_Large_DRIVE_SVLS_Combo\"\n",
    "    - \"/storage/vbutoi/scratch/ESE/training/06_24_24_DRIVE_Large_DRIVE_SVLS_Dice\"\n",
    "\n",
    "data:\n",
    "    _class: \"ese.data.datasets.DRIVE\"\n",
    "    split: (\"val\", \"cal\")\n",
    "    label_threshold: 0.5\n",
    "\n",
    "dataloader:\n",
    "    batch_size: 8\n",
    "    num_workers: 1"
   ]
  },
  {
   "cell_type": "code",
   "execution_count": null,
   "metadata": {},
   "outputs": [],
   "source": [
    "# Get the configs for the different runs.\n",
    "base_cfg = Config(defaults_cfg).update([calibration_cfg, model_cfg])\n",
    "# Get the different experiment cfg yamls.\n",
    "inf_cfgs = get_ese_inference_configs(\n",
    "    exp_cfg=experiment_cfg, \n",
    "    base_cfg=base_cfg\n",
    ")"
   ]
  },
  {
   "cell_type": "code",
   "execution_count": null,
   "metadata": {},
   "outputs": [],
   "source": [
    "len(inf_cfgs)"
   ]
  },
  {
   "cell_type": "markdown",
   "metadata": {},
   "source": [
    "## Running Jobs"
   ]
  },
  {
   "cell_type": "code",
   "execution_count": null,
   "metadata": {},
   "outputs": [],
   "source": [
    "from ese.experiment.analysis.run_inference import get_cal_stats"
   ]
  },
  {
   "cell_type": "code",
   "execution_count": null,
   "metadata": {},
   "outputs": [],
   "source": [
    "from ese.experiment.experiment import run_ese_exp\n",
    "\n",
    "###### Run individual jobs\n",
    "run_ese_exp(\n",
    "    config=inf_cfgs[0], \n",
    "    job_func=get_cal_stats,\n",
    "    run_name='debug',\n",
    "    # run_name=exp_name,\n",
    "    show_examples=True,\n",
    "    gpu='1',\n",
    ") "
   ]
  },
  {
   "cell_type": "code",
   "execution_count": null,
   "metadata": {},
   "outputs": [],
   "source": [
    "# from ese.experiment.experiment import submit_ese_exps \n",
    "\n",
    "# #### Run Batch Jobs\n",
    "# submit_ese_exps(\n",
    "#     config_list=inf_cfgs,\n",
    "#     job_func=get_cal_stats,\n",
    "#     available_gpus=['0', '1', '2', '3']\n",
    "# )"
   ]
  }
 ],
 "metadata": {
  "kernelspec": {
   "display_name": "Python 3",
   "language": "python",
   "name": "python3"
  },
  "language_info": {
   "codemirror_mode": {
    "name": "ipython",
    "version": 3
   },
   "file_extension": ".py",
   "mimetype": "text/x-python",
   "name": "python",
   "nbconvert_exporter": "python",
   "pygments_lexer": "ipython3",
   "version": "3.9.16"
  },
  "orig_nbformat": 4
 },
 "nbformat": 4,
 "nbformat_minor": 2
}
