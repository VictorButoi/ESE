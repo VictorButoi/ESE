{
 "cells": [
  {
   "cell_type": "code",
   "execution_count": 1,
   "metadata": {},
   "outputs": [
    {
     "name": "stderr",
     "output_type": "stream",
     "text": [
      "/storage/vbutoi/libraries/pylot/pandas/register.py:47: UserWarning: registration of accessor <class 'pylot.pandas.register.register_series_method.<locals>.inner.<locals>.AccessorMethod'> under name 'fillNA' for type <class 'pandas.core.series.Series'> is overriding a preexisting attribute with the same name.\n",
      "  register_series_accessor(method.__name__)(AccessorMethod)\n",
      "/storage/vbutoi/libraries/pylot/pandas/register.py:47: UserWarning: registration of accessor <class 'pylot.pandas.register.register_series_method.<locals>.inner.<locals>.AccessorMethod'> under name 'isNA' for type <class 'pandas.core.series.Series'> is overriding a preexisting attribute with the same name.\n",
      "  register_series_accessor(method.__name__)(AccessorMethod)\n",
      "/storage/vbutoi/libraries/pylot/pandas/register.py:47: UserWarning: registration of accessor <class 'pylot.pandas.register.register_series_method.<locals>.inner.<locals>.AccessorMethod'> under name 'notNA' for type <class 'pandas.core.series.Series'> is overriding a preexisting attribute with the same name.\n",
      "  register_series_accessor(method.__name__)(AccessorMethod)\n",
      "/storage/vbutoi/libraries/pylot/pandas/register.py:47: UserWarning: registration of accessor <class 'pylot.pandas.register.register_series_method.<locals>.inner.<locals>.AccessorMethod'> under name 'is_constant' for type <class 'pandas.core.series.Series'> is overriding a preexisting attribute with the same name.\n",
      "  register_series_accessor(method.__name__)(AccessorMethod)\n",
      "/storage/vbutoi/libraries/pylot/pandas/register.py:26: UserWarning: registration of accessor <class 'pylot.pandas.register.register_dataframe_method.<locals>.inner.<locals>.AccessorMethod'> under name 'drop_constant' for type <class 'pandas.core.frame.DataFrame'> is overriding a preexisting attribute with the same name.\n",
      "  register_dataframe_accessor(method.__name__)(AccessorMethod)\n",
      "/storage/vbutoi/libraries/pylot/pandas/register.py:26: UserWarning: registration of accessor <class 'pylot.pandas.register.register_dataframe_method.<locals>.inner.<locals>.AccessorMethod'> under name 'constants' for type <class 'pandas.core.frame.DataFrame'> is overriding a preexisting attribute with the same name.\n",
      "  register_dataframe_accessor(method.__name__)(AccessorMethod)\n",
      "/storage/vbutoi/libraries/pylot/pandas/register.py:26: UserWarning: registration of accessor <class 'pylot.pandas.register.register_dataframe_method.<locals>.inner.<locals>.AccessorMethod'> under name 'to_categories' for type <class 'pandas.core.frame.DataFrame'> is overriding a preexisting attribute with the same name.\n",
      "  register_dataframe_accessor(method.__name__)(AccessorMethod)\n",
      "/storage/vbutoi/libraries/pylot/pandas/register.py:26: UserWarning: registration of accessor <class 'pylot.pandas.register.register_dataframe_method.<locals>.inner.<locals>.AccessorMethod'> under name 'select' for type <class 'pandas.core.frame.DataFrame'> is overriding a preexisting attribute with the same name.\n",
      "  register_dataframe_accessor(method.__name__)(AccessorMethod)\n",
      "/storage/vbutoi/libraries/pylot/pandas/register.py:26: UserWarning: registration of accessor <class 'pylot.pandas.register.register_dataframe_method.<locals>.inner.<locals>.AccessorMethod'> under name 'augment' for type <class 'pandas.core.frame.DataFrame'> is overriding a preexisting attribute with the same name.\n",
      "  register_dataframe_accessor(method.__name__)(AccessorMethod)\n",
      "/storage/vbutoi/libraries/pylot/pandas/register.py:26: UserWarning: registration of accessor <class 'pylot.pandas.register.register_dataframe_method.<locals>.inner.<locals>.AccessorMethod'> under name 'broadcast' for type <class 'pandas.core.frame.DataFrame'> is overriding a preexisting attribute with the same name.\n",
      "  register_dataframe_accessor(method.__name__)(AccessorMethod)\n",
      "/storage/vbutoi/libraries/pylot/pandas/register.py:26: UserWarning: registration of accessor <class 'pylot.pandas.register.register_dataframe_method.<locals>.inner.<locals>.AccessorMethod'> under name 'unique_per_col' for type <class 'pandas.core.frame.DataFrame'> is overriding a preexisting attribute with the same name.\n",
      "  register_dataframe_accessor(method.__name__)(AccessorMethod)\n",
      "/storage/vbutoi/libraries/pylot/pandas/register.py:26: UserWarning: registration of accessor <class 'pylot.pandas.register.register_dataframe_method.<locals>.inner.<locals>.AccessorMethod'> under name 'constants_subset' for type <class 'pandas.core.frame.DataFrame'> is overriding a preexisting attribute with the same name.\n",
      "  register_dataframe_accessor(method.__name__)(AccessorMethod)\n",
      "/storage/vbutoi/libraries/pylot/pandas/register.py:26: UserWarning: registration of accessor <class 'pylot.pandas.register.register_dataframe_method.<locals>.inner.<locals>.AccessorMethod'> under name 'smooth' for type <class 'pandas.core.frame.DataFrame'> is overriding a preexisting attribute with the same name.\n",
      "  register_dataframe_accessor(method.__name__)(AccessorMethod)\n",
      "/storage/vbutoi/libraries/pylot/pandas/register.py:26: UserWarning: registration of accessor <class 'pylot.pandas.register.register_dataframe_method.<locals>.inner.<locals>.AccessorMethod'> under name 'augment_from_attrs' for type <class 'pandas.core.frame.DataFrame'> is overriding a preexisting attribute with the same name.\n",
      "  register_dataframe_accessor(method.__name__)(AccessorMethod)\n",
      "/storage/vbutoi/libraries/pylot/pandas/unix.py:12: UserWarning: registration of accessor <class 'pylot.pandas.unix.UnixAccessor'> under name 'unix' for type <class 'pandas.core.series.Series'> is overriding a preexisting attribute with the same name.\n",
      "  class UnixAccessor:\n",
      "/local/vbutoi/envs/UniverSegTF/lib/python3.9/site-packages/pydantic/_internal/_fields.py:149: UserWarning: Field \"model_outputs\" has conflict with protected namespace \"model_\".\n",
      "\n",
      "You may be able to resolve this warning by setting `model_config['protected_namespaces'] = ()`.\n",
      "  warnings.warn(\n"
     ]
    }
   ],
   "source": [
    "# Misc imports\n",
    "import sys\n",
    "sys.path.append('/storage/vbutoi/projects')\n",
    "sys.path.append('/storage/vbutoi/libraries')\n",
    "sys.path.append('/storage/vbutoi/projects/ESE')\n",
    "sys.path.append('/storage/vbutoi/projects/UniverSeg')\n",
    "import torch\n",
    "torch.set_printoptions(linewidth=200)\n",
    "import seaborn as sns\n",
    "sns.set_style(\"darkgrid\")\n",
    "import os \n",
    "os.environ['DATAPATH'] = ':'.join((\n",
    "       '/storage/vbutoi/datasets',\n",
    "       '/storage'\n",
    "))\n",
    "import yaml\n",
    "from pathlib import Path\n",
    "# Local imports\n",
    "from ese.scripts.utils import get_option_product\n",
    "from ese.experiment.analysis.run_inference import get_cal_stats\n",
    "from ese.experiment.analysis.analysis_utils.submit_utils import get_ese_inference_configs\n",
    "# Ionpy imports\n",
    "from ionpy.util import Config\n",
    "from ionpy.analysis import ResultsLoader\n",
    "\n",
    "# Define some useful paths.\n",
    "scratch_root = Path(\"/storage/vbutoi/scratch/ESE\")\n",
    "code_root = Path(\"/storage/vbutoi/projects/ESE\")\n",
    "rs = ResultsLoader()\n",
    "\n",
    "# For using code without restarting.\n",
    "%load_ext autoreload\n",
    "%autoreload 2\n",
    "# For using yaml configs.\n",
    "%load_ext yamlmagic"
   ]
  },
  {
   "cell_type": "code",
   "execution_count": 2,
   "metadata": {},
   "outputs": [
    {
     "data": {
      "application/javascript": "\n            require(\n                [\n                    \"notebook/js/codecell\",\n                    \"codemirror/mode/yaml/yaml\"\n                ],\n                function(cc){\n                    cc.CodeCell.options_default.highlight_modes.magic_yaml = {\n                        reg: [\"^%%yaml\"]\n                    }\n                }\n            );\n            ",
      "text/plain": [
       "<IPython.core.display.Javascript object>"
      ]
     },
     "metadata": {},
     "output_type": "display_data"
    }
   ],
   "source": [
    "%%yaml inference_config\n",
    "\n",
    "log:\n",
    "    root: '?'\n",
    "    gether_inference_stats: True\n",
    "    summary_compute_global_metrics: True\n",
    "    min_fg_pixels: 0 \n",
    "    log_interval: 20 \n",
    "    log_image_stats: True \n",
    "    log_pixel_stats: True \n",
    "    track_ensemble_member_scores: False \n",
    "\n",
    "experiment:\n",
    "    exp_root: '?'\n",
    "    seed: 42\n",
    "\n",
    "dataloader:\n",
    "    batch_size: 1 \n",
    "    num_workers: 0\n",
    "    pin_memory: True "
   ]
  },
  {
   "cell_type": "code",
   "execution_count": 3,
   "metadata": {},
   "outputs": [
    {
     "data": {
      "application/javascript": "\n            require(\n                [\n                    \"notebook/js/codecell\",\n                    \"codemirror/mode/yaml/yaml\"\n                ],\n                function(cc){\n                    cc.CodeCell.options_default.highlight_modes.magic_yaml = {\n                        reg: [\"^%%yaml\"]\n                    }\n                }\n            );\n            ",
      "text/plain": [
       "<IPython.core.display.Javascript object>"
      ]
     },
     "metadata": {},
     "output_type": "display_data"
    }
   ],
   "source": [
    "%%yaml calibration_cfg \n",
    "\n",
    "calibrator:\n",
    "    _name: '?'\n",
    "    normalize: False\n",
    "\n",
    "local_calibration:\n",
    "    num_prob_bins: 15\n",
    "    neighborhood_width: 3\n",
    "    square_diff: False \n",
    "\n",
    "global_calibration:\n",
    "    num_prob_bins: 15\n",
    "    num_classes: '?' \n",
    "    neighborhood_width: 3\n",
    "    square_diff: False \n",
    "    loss_weights: None "
   ]
  },
  {
   "cell_type": "code",
   "execution_count": 4,
   "metadata": {},
   "outputs": [
    {
     "data": {
      "application/javascript": "\n            require(\n                [\n                    \"notebook/js/codecell\",\n                    \"codemirror/mode/yaml/yaml\"\n                ],\n                function(cc){\n                    cc.CodeCell.options_default.highlight_modes.magic_yaml = {\n                        reg: [\"^%%yaml\"]\n                    }\n                }\n            );\n            ",
      "text/plain": [
       "<IPython.core.display.Javascript object>"
      ]
     },
     "metadata": {},
     "output_type": "display_data"
    }
   ],
   "source": [
    "%%yaml standard_model_cfg \n",
    "\n",
    "# For standard datasets\n",
    "#####################################\n",
    "data:\n",
    "    splits: ('val', 'cal')\n",
    "    preload: False \n",
    "\n",
    "ensemble:\n",
    "    combine_fn: '?'\n",
    "    combine_quantity: '?'\n",
    "    member_temps: None\n",
    "    member_w_metric: None\n",
    "    member_paths: None\n",
    "    normalize: False\n",
    "\n",
    "model:\n",
    "    _type: \"standard\"\n",
    "    pretrained_exp_root : None\n",
    "    checkpoint: 'max-val-dice_score' \n",
    "    pretrained_select_metric: \"val-dice_score\""
   ]
  },
  {
   "cell_type": "code",
   "execution_count": 5,
   "metadata": {},
   "outputs": [
    {
     "data": {
      "application/javascript": "\n            require(\n                [\n                    \"notebook/js/codecell\",\n                    \"codemirror/mode/yaml/yaml\"\n                ],\n                function(cc){\n                    cc.CodeCell.options_default.highlight_modes.magic_yaml = {\n                        reg: [\"^%%yaml\"]\n                    }\n                }\n            );\n            ",
      "text/plain": [
       "<IPython.core.display.Javascript object>"
      ]
     },
     "metadata": {},
     "output_type": "display_data"
    }
   ],
   "source": [
    "%%yaml standard_submit_cfg_args\n",
    "\n",
    "submit_opts:\n",
    "    seed: 42\n",
    "    max_ensemble_samples: 1 \n",
    "    ens_cfg_options:\n",
    "        - ('mean', 'probs')\n",
    "        # - ('max', 'probs')\n",
    "    num_ens_membs:\n",
    "        - 1\n",
    "        # - 2\n",
    "        # - 4\n",
    "        # - 8\n",
    "        # - 16\n",
    "        # - 32"
   ]
  },
  {
   "cell_type": "code",
   "execution_count": 6,
   "metadata": {},
   "outputs": [],
   "source": [
    "dataset = \"WBC\"\n",
    "exp_name = f'04_22_24_{dataset}_UniverSeg'\n",
    "group_dict = {\n",
    "    \"dataset\": dataset,\n",
    "    \"exp_group\": exp_name,\n",
    "    \"model_type\": \"incontext\",\n",
    "    \"base_models_group\": \"/storage/jjgo/results/omni/2023-02-16_Universeg-HO_Adrian/20230214_112221-1C7K-2cb972b55f72d56b3842c2d2d8bdd3c6\",\n",
    "    \"scratch_root\": \"/storage/vbutoi/scratch/ESE\"\n",
    "}"
   ]
  },
  {
   "cell_type": "markdown",
   "metadata": {},
   "source": [
    "## Gather Inference Options."
   ]
  },
  {
   "cell_type": "code",
   "execution_count": 7,
   "metadata": {},
   "outputs": [
    {
     "data": {
      "application/javascript": "\n            require(\n                [\n                    \"notebook/js/codecell\",\n                    \"codemirror/mode/yaml/yaml\"\n                ],\n                function(cc){\n                    cc.CodeCell.options_default.highlight_modes.magic_yaml = {\n                        reg: [\"^%%yaml\"]\n                    }\n                }\n            );\n            ",
      "text/plain": [
       "<IPython.core.display.Javascript object>"
      ]
     },
     "metadata": {},
     "output_type": "display_data"
    }
   ],
   "source": [
    "%%yaml inference_config_opts\n",
    "\n",
    "calibrator:\n",
    "    - Uncalibrated\n",
    "    - TempScaling\n",
    "    - LTS\n",
    "\n",
    "do_ensemble:\n",
    "    - True\n",
    "    - False"
   ]
  },
  {
   "cell_type": "code",
   "execution_count": 8,
   "metadata": {},
   "outputs": [
    {
     "ename": "TypeError",
     "evalue": "get_ese_inference_configs() missing 1 required positional argument: 'base_cfg'",
     "output_type": "error",
     "traceback": [
      "\u001b[0;31m---------------------------------------------------------------------------\u001b[0m",
      "\u001b[0;31mTypeError\u001b[0m                                 Traceback (most recent call last)",
      "Cell \u001b[0;32mIn[8], line 3\u001b[0m\n\u001b[1;32m      1\u001b[0m inference_func \u001b[38;5;241m=\u001b[39m get_cal_stats\n\u001b[1;32m      2\u001b[0m \u001b[38;5;66;03m# Get the configs for the different runs.\u001b[39;00m\n\u001b[0;32m----> 3\u001b[0m option_set \u001b[38;5;241m=\u001b[39m \u001b[43mget_ese_inference_configs\u001b[49m\u001b[43m(\u001b[49m\n\u001b[1;32m      4\u001b[0m \u001b[43m    \u001b[49m\u001b[43mgroup_dict\u001b[49m\u001b[38;5;241;43m=\u001b[39;49m\u001b[43mgroup_dict\u001b[49m\u001b[43m,\u001b[49m\n\u001b[1;32m      5\u001b[0m \u001b[43m    \u001b[49m\u001b[43minf_cfg_opts\u001b[49m\u001b[38;5;241;43m=\u001b[39;49m\u001b[43minference_config_opts\u001b[49m\u001b[43m,\u001b[49m\n\u001b[1;32m      6\u001b[0m \u001b[43m    \u001b[49m\u001b[43mbase_cfg_args\u001b[49m\u001b[38;5;241;43m=\u001b[39;49m\u001b[43mstandard_submit_cfg_args\u001b[49m\n\u001b[1;32m      7\u001b[0m \u001b[43m)\u001b[49m\n",
      "\u001b[0;31mTypeError\u001b[0m: get_ese_inference_configs() missing 1 required positional argument: 'base_cfg'"
     ]
    }
   ],
   "source": [
    "inference_func = get_cal_stats\n",
    "# Get the configs for the different runs.\n",
    "option_set = get_ese_inference_configs(\n",
    "    group_dict=group_dict,\n",
    "    inf_cfg_opts=inference_config_opts,\n",
    "    base_cfg_args=standard_submit_cfg_args\n",
    ")"
   ]
  },
  {
   "cell_type": "code",
   "execution_count": null,
   "metadata": {},
   "outputs": [],
   "source": [
    "len(option_set)"
   ]
  },
  {
   "cell_type": "code",
   "execution_count": null,
   "metadata": {},
   "outputs": [],
   "source": [
    "# Load the inference cfg from local.\n",
    "##################################################\n",
    "inf_cfg_root = code_root / \"ese\" / \"experiment\" / \"configs\" / \"inference\"\n",
    "\n",
    "##################################################\n",
    "with open(inf_cfg_root / \"datasets\" / group_dict['model_type'] / f\"{group_dict['dataset']}.yaml\", 'r') as file:\n",
    "    dataset_inference_cfg = yaml.safe_load(file)\n",
    "with open(inf_cfg_root / \"Calibration_Metrics.yaml\", 'r') as file:\n",
    "    cal_metrics_cfg = yaml.safe_load(file)\n",
    "\n",
    "##################################################\n",
    "base_cfg = Config(inference_config).update([calibration_cfg, dataset_inference_cfg, cal_metrics_cfg, standard_model_cfg])\n",
    "\n",
    "# Get the configs\n",
    "cfgs = get_option_product(exp_name, option_set, base_cfg)"
   ]
  },
  {
   "cell_type": "markdown",
   "metadata": {},
   "source": [
    "## Running Jobs"
   ]
  },
  {
   "cell_type": "code",
   "execution_count": null,
   "metadata": {},
   "outputs": [],
   "source": [
    "from ese.experiment.analysis.run_inference import get_cal_stats"
   ]
  },
  {
   "cell_type": "code",
   "execution_count": null,
   "metadata": {},
   "outputs": [],
   "source": [
    "from ese.experiment.experiment import run_ese_exp\n",
    "\n",
    "###### Run individual jobs\n",
    "run_ese_exp(\n",
    "    config=cfgs[0], \n",
    "    job_func=get_cal_stats,\n",
    "    run_name='debug',\n",
    "    show_examples=True,\n",
    "    gpu='3',\n",
    ") "
   ]
  },
  {
   "cell_type": "code",
   "execution_count": null,
   "metadata": {},
   "outputs": [],
   "source": [
    "# from ese.experiment.experiment import submit_ese_exps \n",
    "\n",
    "# #### Run Batch Jobs\n",
    "# submit_ese_exps(\n",
    "#     config_list=cfgs,\n",
    "#     job_func=get_cal_stats,\n",
    "#     available_gpus=['0', '1', '3'],\n",
    "#     # available_gpus=['0', '1', '2', '3', '4', '5', '6', '7'],\n",
    "# )"
   ]
  }
 ],
 "metadata": {
  "kernelspec": {
   "display_name": "UniverSegTF",
   "language": "python",
   "name": "universegtf"
  },
  "language_info": {
   "codemirror_mode": {
    "name": "ipython",
    "version": 3
   },
   "file_extension": ".py",
   "mimetype": "text/x-python",
   "name": "python",
   "nbconvert_exporter": "python",
   "pygments_lexer": "ipython3",
   "version": "3.9.16"
  },
  "orig_nbformat": 4
 },
 "nbformat": 4,
 "nbformat_minor": 2
}
