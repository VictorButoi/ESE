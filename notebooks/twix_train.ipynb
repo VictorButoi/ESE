{
 "cells": [
  {
   "cell_type": "code",
   "execution_count": 1,
   "id": "9b121a30",
   "metadata": {},
   "outputs": [],
   "source": [
    "# Random Imports\n",
    "import os\n",
    "import sys\n",
    "sys.path.append('/storage/vbutoi/projects')\n",
    "sys.path.append('/storage/vbutoi/libraries')\n",
    "sys.path.append('/storage/vbutoi/projects/ESE')\n",
    "sys.path.append('/storage/vbutoi/projects/UniverSeg')\n",
    "\n",
    "# Regular schema dictates that we put DATAPATH\n",
    "os.environ['DATAPATH'] = ':'.join((\n",
    "       '/storage/vbutoi/datasets',\n",
    "))\n",
    "os.environ['WANDB_NOTEBOOK_NAME'] = 'train.ipynb'\n",
    "\n",
    "%load_ext yamlmagic\n",
    "%load_ext autoreload\n",
    "%autoreload 2"
   ]
  },
  {
   "cell_type": "markdown",
   "id": "933335cf",
   "metadata": {},
   "source": [
    "## Define said jobs"
   ]
  },
  {
   "cell_type": "code",
   "execution_count": 2,
   "id": "ed8ce121",
   "metadata": {},
   "outputs": [
    {
     "data": {
      "application/javascript": "\n            require(\n                [\n                    \"notebook/js/codecell\",\n                    \"codemirror/mode/yaml/yaml\"\n                ],\n                function(cc){\n                    cc.CodeCell.options_default.highlight_modes.magic_yaml = {\n                        reg: [\"^%%yaml\"]\n                    }\n                }\n            );\n            ",
      "text/plain": [
       "<IPython.core.display.Javascript object>"
      ]
     },
     "metadata": {},
     "output_type": "display_data"
    }
   ],
   "source": [
    "%%yaml default_cfg \n",
    "\n",
    "experiment:\n",
    "  seed: 42\n",
    "    \n",
    "dataloader:\n",
    "  batch_size: 1 \n",
    "  num_workers: '?' \n",
    "  pin_memory: False \n",
    "\n",
    "optim: \n",
    "  _class: torch.optim.Adam\n",
    "  lr: 3.0e-4\n",
    "  weight_decay: 1.0e-4  \n",
    "  \n",
    "# For MultiClass\n",
    "train:\n",
    "  epochs: 1000 \n",
    "  eval_freq: 10 \n",
    "  augmentations: None\n",
    "\n",
    "log:\n",
    "  checkpoint_freq: 5 \n",
    "  root: '?'\n",
    "  metrics:\n",
    "    dice_score:\n",
    "      _fn: ionpy.metrics.dice_score\n",
    "      from_logits: True\n",
    "      ignore_empty_labels: True\n",
    "      batch_reduction: 'mean' \n",
    "      ignore_index: 0\n",
    "\n",
    "loss_func: \n",
    "  _class: ionpy.loss.SoftDiceLoss\n",
    "  from_logits: True\n",
    "  batch_reduction: 'mean' \n",
    "  ignore_empty_labels: True\n",
    "  ignore_index: 0 # Optionally ignore the background class\n",
    "\n",
    "# For Binary\n",
    "\n",
    "# train:\n",
    "#   epochs: 500 \n",
    "#   eval_freq: 50\n",
    "\n",
    "# log:\n",
    "#   checkpoint_freq: 50 \n",
    "#   root: '?'\n",
    "#   metrics:\n",
    "#     dice_score:\n",
    "#       _fn: ionpy.metrics.dice_score\n",
    "#       from_logits: True\n",
    "#       batch_reduction: 'mean' \n",
    "\n",
    "# loss_func: \n",
    "#   _class: ionpy.loss.SoftDiceLoss\n",
    "#   from_logits: True\n",
    "#   batch_reduction: 'mean' "
   ]
  },
  {
   "cell_type": "code",
   "execution_count": 3,
   "id": "e2ac20c6",
   "metadata": {},
   "outputs": [
    {
     "data": {
      "application/javascript": "\n            require(\n                [\n                    \"notebook/js/codecell\",\n                    \"codemirror/mode/yaml/yaml\"\n                ],\n                function(cc){\n                    cc.CodeCell.options_default.highlight_modes.magic_yaml = {\n                        reg: [\"^%%yaml\"]\n                    }\n                }\n            );\n            ",
      "text/plain": [
       "<IPython.core.display.Javascript object>"
      ]
     },
     "metadata": {},
     "output_type": "display_data"
    }
   ],
   "source": [
    "%%yaml model_cfg  \n",
    "\n",
    "model:\n",
    "  _class: ese.experiment.models.UNet\n",
    "  filters: '?'\n",
    "  convs_per_block: 3"
   ]
  },
  {
   "cell_type": "code",
   "execution_count": 4,
   "id": "07ee95bd",
   "metadata": {},
   "outputs": [
    {
     "data": {
      "application/javascript": "\n            require(\n                [\n                    \"notebook/js/codecell\",\n                    \"codemirror/mode/yaml/yaml\"\n                ],\n                function(cc){\n                    cc.CodeCell.options_default.highlight_modes.magic_yaml = {\n                        reg: [\"^%%yaml\"]\n                    }\n                }\n            );\n            ",
      "text/plain": [
       "<IPython.core.display.Javascript object>"
      ]
     },
     "metadata": {},
     "output_type": "display_data"
    }
   ],
   "source": [
    "%%yaml dataset_cfg \n",
    "\n",
    "# data:\n",
    "#   _class: ese.experiment.datasets.WMH\n",
    "#   annotator: observer_o12\n",
    "#   axis: 0\n",
    "#   preload: False \n",
    "#   num_slices: 1\n",
    "#   task: Amsterdam \n",
    "#   version: 0.2\n",
    "#   in_channels: 1\n",
    "#   out_channels: 2 \n",
    "\n",
    "# data:\n",
    "#   _class: ese.experiment.datasets.COCO \n",
    "#   in_channels: 3\n",
    "#   out_channels: 80\n",
    "\n",
    "data:\n",
    "  _class: ese.experiment.datasets.OxfordPets\n",
    "  preload: True\n",
    "  version: 0.1\n",
    "  num_classes: all \n",
    "  in_channels: 3\n",
    "  out_channels: 38 # 37 + 1 (background)\n",
    "\n",
    "# data:\n",
    "#   _class: ese.experiment.datasets.BinaryPets\n",
    "#   preload: True\n",
    "#   version: 0.1\n",
    "#   in_channels: 3\n",
    "#   out_channels: 2"
   ]
  },
  {
   "cell_type": "code",
   "execution_count": 5,
   "id": "289c8e7f",
   "metadata": {},
   "outputs": [
    {
     "data": {
      "application/javascript": "\n            require(\n                [\n                    \"notebook/js/codecell\",\n                    \"codemirror/mode/yaml/yaml\"\n                ],\n                function(cc){\n                    cc.CodeCell.options_default.highlight_modes.magic_yaml = {\n                        reg: [\"^%%yaml\"]\n                    }\n                }\n            );\n            ",
      "text/plain": [
       "<IPython.core.display.Javascript object>"
      ]
     },
     "metadata": {},
     "output_type": "display_data"
    }
   ],
   "source": [
    "%%yaml lite_aug_cfg\n",
    "\n",
    "- RandomAffine:\n",
    "    p: 0.5\n",
    "    degrees: [0, 360]\n",
    "    translate: [0, 0.2]\n",
    "    scale: [0.8, 1.1]\n",
    "- RandomVariableElasticTransform:\n",
    "    p: 0.75\n",
    "    alpha: [1, 2] \n",
    "    sigma: [7, 9]\n",
    "- RandomHorizontalFlip:\n",
    "    p: 0.5\n",
    "- RandomVerticalFlip:\n",
    "    p: 0.5"
   ]
  },
  {
   "cell_type": "code",
   "execution_count": 6,
   "id": "ecda7353",
   "metadata": {},
   "outputs": [],
   "source": [
    "# %%yaml standard_aug_cfg \n",
    "\n",
    "# - RandomCrop:\n",
    "#     _class: ese.experiment.augmentation.transforms.RandomCropSegmentation\n",
    "#     size: [256, 256]"
   ]
  },
  {
   "cell_type": "code",
   "execution_count": 7,
   "id": "01c7ad0b",
   "metadata": {},
   "outputs": [
    {
     "data": {
      "application/javascript": "\n            require(\n                [\n                    \"notebook/js/codecell\",\n                    \"codemirror/mode/yaml/yaml\"\n                ],\n                function(cc){\n                    cc.CodeCell.options_default.highlight_modes.magic_yaml = {\n                        reg: [\"^%%yaml\"]\n                    }\n                }\n            );\n            ",
      "text/plain": [
       "<IPython.core.display.Javascript object>"
      ]
     },
     "metadata": {},
     "output_type": "display_data"
    }
   ],
   "source": [
    "%%yaml callbacks_cfg\n",
    "\n",
    "callbacks:\n",
    "  step:\n",
    "    - ese.experiment.callbacks.ShowPredictions:\n",
    "        show_soft_pred: False \n",
    "  epoch:\n",
    "    - ese.experiment.callbacks.WandbLogger\n",
    "    - ionpy.callbacks.ETA\n",
    "    - ionpy.callbacks.JobProgress\n",
    "    - ionpy.callbacks.TerminateOnNaN\n",
    "    - ionpy.callbacks.PrintLogged\n",
    "    - ionpy.callbacks.ModelCheckpoint:\n",
    "        monitor: dice_score\n",
    "        phase: val"
   ]
  },
  {
   "attachments": {},
   "cell_type": "markdown",
   "id": "b506f2fe",
   "metadata": {},
   "source": [
    "## Debug Station"
   ]
  },
  {
   "cell_type": "code",
   "execution_count": 8,
   "id": "6f4270fd",
   "metadata": {},
   "outputs": [],
   "source": [
    "# Need to define the experiment name\n",
    "exp_name = '09_18_23_OxPets_BigBatchSize'\n",
    "\n",
    "# Create the ablation options\n",
    "option_set = [\n",
    "    {\n",
    "        'log.root': [f'/storage/vbutoi/scratch/ESE/{exp_name}'],\n",
    "        'augmentations': [None],\n",
    "        'dataloader.batch_size': [8, 16],\n",
    "        'dataloader.num_workers': [2],\n",
    "        'optim.weight_decay': [0.0],\n",
    "        'model.filters': [[32, 32, 32, 32, 32], [64, 64, 64, 64, 64]]\n",
    "    },\n",
    "]"
   ]
  },
  {
   "cell_type": "code",
   "execution_count": 9,
   "id": "e0e2e8b5",
   "metadata": {},
   "outputs": [],
   "source": [
    "from ese.scripts.utils import get_option_product\n",
    "from ionpy.util import Config\n",
    "\n",
    "# Assemble base config\n",
    "base_cfg = Config(default_cfg).update([model_cfg, dataset_cfg, callbacks_cfg])\n",
    "\n",
    "# Get the configs\n",
    "cfgs = get_option_product(exp_name, option_set, base_cfg)"
   ]
  },
  {
   "cell_type": "code",
   "execution_count": 10,
   "id": "d7904470",
   "metadata": {},
   "outputs": [
    {
     "data": {
      "text/plain": [
       "4"
      ]
     },
     "execution_count": 10,
     "metadata": {},
     "output_type": "execute_result"
    }
   ],
   "source": [
    "len(cfgs)"
   ]
  },
  {
   "cell_type": "markdown",
   "id": "2225fe62",
   "metadata": {},
   "source": [
    "## Running Jobs"
   ]
  },
  {
   "cell_type": "code",
   "execution_count": 11,
   "id": "edbdcf3d",
   "metadata": {},
   "outputs": [],
   "source": [
    "# from ese.experiment.experiment import run_ese_exp\n",
    "\n",
    "# run_ese_exp(\n",
    "#     config=cfgs[0], \n",
    "#     gpu='3',\n",
    "#     run_name='debug',\n",
    "#     show_examples=False,\n",
    "#     wandb=False\n",
    "# )"
   ]
  },
  {
   "cell_type": "code",
   "execution_count": 12,
   "id": "05938b03",
   "metadata": {},
   "outputs": [],
   "source": [
    "# from ese.experiment.experiment import submit_ese_exps \n",
    "\n",
    "# submit_ese_exps(\n",
    "#     exp_name=exp_name,\n",
    "#     config_list=cfgs,\n",
    "#     available_gpus=['0', '1', '2', '3'],\n",
    "#     wandb=True\n",
    "# )"
   ]
  },
  {
   "cell_type": "code",
   "execution_count": 13,
   "id": "6c144e74",
   "metadata": {},
   "outputs": [],
   "source": [
    "new_option_set = {\n",
    "    'dataloader.num_workers': 1,\n",
    "}"
   ]
  },
  {
   "cell_type": "code",
   "execution_count": 14,
   "id": "aba0da26",
   "metadata": {},
   "outputs": [
    {
     "ename": "AttributeError",
     "evalue": "'str' object has no attribute 'items'",
     "output_type": "error",
     "traceback": [
      "\u001b[0;31m---------------------------------------------------------------------------\u001b[0m",
      "\u001b[0;31mAttributeError\u001b[0m                            Traceback (most recent call last)",
      "\u001b[1;32m/storage/vbutoi/projects/ESE/notebooks/twix_train.ipynb Cell 17\u001b[0m line \u001b[0;36m3\n\u001b[1;32m      <a href='vscode-notebook-cell://ssh-remote%2Btwix/storage/vbutoi/projects/ESE/notebooks/twix_train.ipynb#X21sdnNjb2RlLXJlbW90ZQ%3D%3D?line=0'>1</a>\u001b[0m \u001b[39mfrom\u001b[39;00m \u001b[39mese\u001b[39;00m\u001b[39m.\u001b[39;00m\u001b[39mexperiment\u001b[39;00m\u001b[39m.\u001b[39;00m\u001b[39mexperiment\u001b[39;00m \u001b[39mimport\u001b[39;00m restart_ese_exps\n\u001b[0;32m----> <a href='vscode-notebook-cell://ssh-remote%2Btwix/storage/vbutoi/projects/ESE/notebooks/twix_train.ipynb#X21sdnNjb2RlLXJlbW90ZQ%3D%3D?line=2'>3</a>\u001b[0m restart_ese_exps(\n\u001b[1;32m      <a href='vscode-notebook-cell://ssh-remote%2Btwix/storage/vbutoi/projects/ESE/notebooks/twix_train.ipynb#X21sdnNjb2RlLXJlbW90ZQ%3D%3D?line=3'>4</a>\u001b[0m     exp_name\u001b[39m=\u001b[39;49mexp_name,\n\u001b[1;32m      <a href='vscode-notebook-cell://ssh-remote%2Btwix/storage/vbutoi/projects/ESE/notebooks/twix_train.ipynb#X21sdnNjb2RlLXJlbW90ZQ%3D%3D?line=4'>5</a>\u001b[0m     job_names\u001b[39m=\u001b[39;49m\u001b[39mNone\u001b[39;49;00m,\n\u001b[1;32m      <a href='vscode-notebook-cell://ssh-remote%2Btwix/storage/vbutoi/projects/ESE/notebooks/twix_train.ipynb#X21sdnNjb2RlLXJlbW90ZQ%3D%3D?line=5'>6</a>\u001b[0m     modifications\u001b[39m=\u001b[39;49mnew_option_set,\n\u001b[1;32m      <a href='vscode-notebook-cell://ssh-remote%2Btwix/storage/vbutoi/projects/ESE/notebooks/twix_train.ipynb#X21sdnNjb2RlLXJlbW90ZQ%3D%3D?line=6'>7</a>\u001b[0m     available_gpus\u001b[39m=\u001b[39;49m[\u001b[39m'\u001b[39;49m\u001b[39m0\u001b[39;49m\u001b[39m'\u001b[39;49m, \u001b[39m'\u001b[39;49m\u001b[39m1\u001b[39;49m\u001b[39m'\u001b[39;49m, \u001b[39m'\u001b[39;49m\u001b[39m2\u001b[39;49m\u001b[39m'\u001b[39;49m, \u001b[39m'\u001b[39;49m\u001b[39m3\u001b[39;49m\u001b[39m'\u001b[39;49m],\n\u001b[1;32m      <a href='vscode-notebook-cell://ssh-remote%2Btwix/storage/vbutoi/projects/ESE/notebooks/twix_train.ipynb#X21sdnNjb2RlLXJlbW90ZQ%3D%3D?line=7'>8</a>\u001b[0m     wandb\u001b[39m=\u001b[39;49m\u001b[39mTrue\u001b[39;49;00m\n\u001b[1;32m      <a href='vscode-notebook-cell://ssh-remote%2Btwix/storage/vbutoi/projects/ESE/notebooks/twix_train.ipynb#X21sdnNjb2RlLXJlbW90ZQ%3D%3D?line=8'>9</a>\u001b[0m )\n",
      "File \u001b[0;32m~/envs/UniverSegTF/lib/python3.9/site-packages/pydantic/decorator.py:40\u001b[0m, in \u001b[0;36mpydantic.decorator.validate_arguments.validate.wrapper_function\u001b[0;34m()\u001b[0m\n",
      "File \u001b[0;32m~/envs/UniverSegTF/lib/python3.9/site-packages/pydantic/decorator.py:134\u001b[0m, in \u001b[0;36mpydantic.decorator.ValidatedFunction.call\u001b[0;34m()\u001b[0m\n",
      "File \u001b[0;32m~/envs/UniverSegTF/lib/python3.9/site-packages/pydantic/decorator.py:206\u001b[0m, in \u001b[0;36mpydantic.decorator.ValidatedFunction.execute\u001b[0;34m()\u001b[0m\n",
      "File \u001b[0;32m/storage/vbutoi/projects/ESE/ese/experiment/experiment/runner.py:89\u001b[0m, in \u001b[0;36mrestart_ese_exps\u001b[0;34m(exp_name, job_names, available_gpus, modifications, wandb, exp_root)\u001b[0m\n\u001b[1;32m     87\u001b[0m \u001b[39mif\u001b[39;00m modifications:\n\u001b[1;32m     88\u001b[0m     \u001b[39mfor\u001b[39;00m config \u001b[39min\u001b[39;00m config_list:\n\u001b[0;32m---> 89\u001b[0m         config\u001b[39m.\u001b[39;49mupdate(modifications)\n\u001b[1;32m     90\u001b[0m         \u001b[39mprint\u001b[39m(config)\n\u001b[1;32m     92\u001b[0m \u001b[39mraise\u001b[39;00m \u001b[39mValueError\u001b[39;00m\n",
      "File \u001b[0;32m/storage/vbutoi/projects/ionpy/util/more_functools.py:58\u001b[0m, in \u001b[0;36mnewobj.<locals>.inner\u001b[0;34m(self, *args, **kwargs)\u001b[0m\n\u001b[1;32m     56\u001b[0m obj \u001b[39m=\u001b[39m \u001b[39mself\u001b[39m\u001b[39m.\u001b[39m\u001b[39m__class__\u001b[39m\u001b[39m.\u001b[39m\u001b[39m__new__\u001b[39m(\u001b[39mself\u001b[39m\u001b[39m.\u001b[39m\u001b[39m__class__\u001b[39m)\n\u001b[1;32m     57\u001b[0m obj\u001b[39m.\u001b[39m\u001b[39m__dict__\u001b[39m \u001b[39m=\u001b[39m copy\u001b[39m.\u001b[39mdeepcopy(\u001b[39mself\u001b[39m\u001b[39m.\u001b[39m\u001b[39m__dict__\u001b[39m)\n\u001b[0;32m---> 58\u001b[0m method(obj, \u001b[39m*\u001b[39;49margs, \u001b[39m*\u001b[39;49m\u001b[39m*\u001b[39;49mkwargs)\n\u001b[1;32m     59\u001b[0m \u001b[39mreturn\u001b[39;00m obj\n",
      "File \u001b[0;32m/storage/vbutoi/projects/ionpy/util/config.py:298\u001b[0m, in \u001b[0;36mConfig.update\u001b[0;34m(self, others)\u001b[0m\n\u001b[1;32m    296\u001b[0m item \u001b[39m=\u001b[39m \u001b[39msuper\u001b[39m()\n\u001b[1;32m    297\u001b[0m \u001b[39mfor\u001b[39;00m other \u001b[39min\u001b[39;00m others:\n\u001b[0;32m--> 298\u001b[0m     item\u001b[39m.\u001b[39;49mupdate(other)\n\u001b[1;32m    299\u001b[0m \u001b[39mreturn\u001b[39;00m item\n",
      "File \u001b[0;32m/storage/vbutoi/projects/ionpy/util/config.py:218\u001b[0m, in \u001b[0;36mHDict.update\u001b[0;34m(self, other)\u001b[0m\n\u001b[1;32m    216\u001b[0m \u001b[39mif\u001b[39;00m \u001b[39misinstance\u001b[39m(other, HDict):\n\u001b[1;32m    217\u001b[0m     other \u001b[39m=\u001b[39m other\u001b[39m.\u001b[39m_data\n\u001b[0;32m--> 218\u001b[0m \u001b[39mreturn\u001b[39;00m deepupdate(\u001b[39mself\u001b[39m\u001b[39m.\u001b[39m_data, HDict\u001b[39m.\u001b[39;49mfrom_flat(other, sep\u001b[39m=\u001b[39;49m\u001b[39mself\u001b[39;49m\u001b[39m.\u001b[39;49m_sep))\n",
      "File \u001b[0;32m/storage/vbutoi/projects/ionpy/util/config.py:238\u001b[0m, in \u001b[0;36mHDict.from_flat\u001b[0;34m(cls, flat_dict, sep)\u001b[0m\n\u001b[1;32m    236\u001b[0m \u001b[39m@classmethod\u001b[39m\n\u001b[1;32m    237\u001b[0m \u001b[39mdef\u001b[39;00m \u001b[39mfrom_flat\u001b[39m(\u001b[39mcls\u001b[39m, flat_dict, sep\u001b[39m=\u001b[39m\u001b[39m\"\u001b[39m\u001b[39m.\u001b[39m\u001b[39m\"\u001b[39m) \u001b[39m-\u001b[39m\u001b[39m>\u001b[39m \u001b[39m\"\u001b[39m\u001b[39mHDict\u001b[39m\u001b[39m\"\u001b[39m:\n\u001b[0;32m--> 238\u001b[0m     \u001b[39mreturn\u001b[39;00m \u001b[39mcls\u001b[39m(unflatten(flat_dict, sep\u001b[39m=\u001b[39;49msep))\n",
      "File \u001b[0;32m/storage/vbutoi/projects/ionpy/util/config.py:62\u001b[0m, in \u001b[0;36munflatten\u001b[0;34m(flat_dict, sep)\u001b[0m\n\u001b[1;32m     60\u001b[0m \u001b[39mdef\u001b[39;00m \u001b[39munflatten\u001b[39m(flat_dict, sep\u001b[39m=\u001b[39m\u001b[39mNone\u001b[39;00m):\n\u001b[1;32m     61\u001b[0m     nested_dict \u001b[39m=\u001b[39m {}\n\u001b[0;32m---> 62\u001b[0m     \u001b[39mfor\u001b[39;00m k, v \u001b[39min\u001b[39;00m flat_dict\u001b[39m.\u001b[39;49mitems():\n\u001b[1;32m     63\u001b[0m         set_nested(nested_dict, k, v, sep\u001b[39m=\u001b[39msep)\n\u001b[1;32m     64\u001b[0m     \u001b[39mreturn\u001b[39;00m nested_dict\n",
      "\u001b[0;31mAttributeError\u001b[0m: 'str' object has no attribute 'items'"
     ]
    }
   ],
   "source": [
    "from ese.experiment.experiment import restart_ese_exps\n",
    "\n",
    "restart_ese_exps(\n",
    "    exp_name=exp_name,\n",
    "    job_names=None,\n",
    "    modifications=new_option_set,\n",
    "    available_gpus=['0', '1', '2', '3'],\n",
    "    wandb=True\n",
    ")"
   ]
  }
 ],
 "metadata": {
  "kernelspec": {
   "display_name": "UniverSegTF",
   "language": "python",
   "name": "universegtf"
  },
  "language_info": {
   "codemirror_mode": {
    "name": "ipython",
    "version": 3
   },
   "file_extension": ".py",
   "mimetype": "text/x-python",
   "name": "python",
   "nbconvert_exporter": "python",
   "pygments_lexer": "ipython3",
   "version": "3.9.16"
  }
 },
 "nbformat": 4,
 "nbformat_minor": 5
}
