{
 "cells": [
  {
   "cell_type": "code",
   "execution_count": null,
   "metadata": {},
   "outputs": [],
   "source": [
    "import sys\n",
    "sys.path.append('/storage/vbutoi/projects')\n",
    "sys.path.append('/storage/vbutoi/libraries')\n",
    "sys.path.append('/storage/vbutoi/projects/ESE')\n",
    "sys.path.append('/storage/vbutoi/projects/UniverSeg')\n",
    "\n",
    "import os \n",
    "import numpy as np\n",
    "import pandas as pd\n",
    "import seaborn as sns\n",
    "from pathlib import Path\n",
    "import matplotlib.pyplot as plt\n",
    "# Ionpy imports\n",
    "from ionpy.analysis import ResultsLoader\n",
    "# Local imports\n",
    "from ese.analysis.analyze_inf import load_cal_inference_stats\n",
    "from ese.analysis.analysis_utils.plot_utils import get_prop_color_palette\n",
    "from ese.analysis.analysis_utils.parse_sweep import get_global_optimal_parameter, get_per_subject_optimal_values\n",
    "\n",
    "sns.set_style(\"darkgrid\")\n",
    "sns.set_context(\"talk\")\n",
    "os.environ['DATAPATH'] = ':'.join((\n",
    "       '/storage/vbutoi/datasets',\n",
    "))\n",
    "root = Path(\"/storage/vbutoi/scratch/ESE\")\n",
    "rs = ResultsLoader()\n",
    "\n",
    "# For using code without restarting.\n",
    "%load_ext autoreload\n",
    "%autoreload 2\n",
    "# For using yaml configs.\n",
    "%load_ext yamlmagic\n",
    "%matplotlib inline"
   ]
  },
  {
   "cell_type": "code",
   "execution_count": null,
   "metadata": {},
   "outputs": [],
   "source": [
    "%%yaml results_cfg \n",
    "\n",
    "log:\n",
    "    # root: '/storage/vbutoi/scratch/ESE/inference/10_26_24_OCTA_Benchmark'\n",
    "    # root: '/storage/vbutoi/scratch/ESE/inference/10_26_24_ISLES_Benchmark'\n",
    "    # root: '/storage/vbutoi/scratch/ESE/inference/10_26_24_Roads_FULLRES_Benchmark'\n",
    "    root: '/storage/vbutoi/scratch/ESE/inference/10_26_24_WMH_Benchmark'\n",
    "    inference_group: 'Sweep_Temperature'\n",
    "\n",
    "options:\n",
    "    verify_graceful_exit: True\n",
    "    equal_rows_per_cfg_assert: False "
   ]
  },
  {
   "cell_type": "markdown",
   "metadata": {},
   "source": [
    "# Plotting Calls"
   ]
  },
  {
   "cell_type": "code",
   "execution_count": null,
   "metadata": {},
   "outputs": [],
   "source": [
    "inference_df = load_cal_inference_stats(\n",
    "    results_cfg=results_cfg,\n",
    "    load_cached=True\n",
    ")"
   ]
  },
  {
   "cell_type": "code",
   "execution_count": 4,
   "metadata": {},
   "outputs": [],
   "source": [
    "cols_to_keep = [\n",
    "    'soft_RAVE',\n",
    "    'experiment_model_dir',\n",
    "    'temperature',\n",
    "    'hard_volume',\n",
    "    'soft_volume',\n",
    "    'gt_volume',\n",
    "    'data_id',\n",
    "    'split'\n",
    "]\n",
    "# Filter out the columns we want to keep\n",
    "exp_df = inference_df[cols_to_keep].drop_duplicates().reset_index(drop=True)\n",
    "# We need to make sure that the cal split goes first.\n",
    "exp_df = exp_df.sort_values('split', ascending=True)"
   ]
  },
  {
   "cell_type": "code",
   "execution_count": 5,
   "metadata": {},
   "outputs": [],
   "source": [
    "##############################################################################################################\n",
    "# This cell is quite important, it allows us to see the base soft volume for each data_id and loss_func_class\n",
    "##############################################################################################################\n",
    "# We want to add a base soft volume column to let us so what the uncalibrated volume is.\n",
    "bsv = exp_df[exp_df['temperature'] == 1.01][['data_id', 'experiment_model_dir', 'soft_volume']].drop_duplicates().reset_index(drop=True)\n",
    "# Make a new column that is the combination of data_id and loss_func_class\n",
    "bsv['data_id_experiment_model_dir'] = bsv['data_id'] + '_' + bsv['experiment_model_dir']\n",
    "exp_df['data_id_experiment_model_dir'] = exp_df['data_id'] + '_' + exp_df['experiment_model_dir']\n",
    "# Drop the columns data_id and experiment_model_dir\n",
    "bsv = bsv.drop(columns=['data_id', 'experiment_model_dir'])\n",
    "# Convert this to a dictionary mapping from data_id to base soft volume\n",
    "bsv_dict = dict(zip(bsv['data_id_experiment_model_dir'], bsv['soft_volume']))\n",
    "# Make a new column of exp_df, called base_soft_volume, where the value is the corresponding value for the data_id of that row in the bsv_dict\n",
    "exp_df['base_soft_volume'] = exp_df['data_id_experiment_model_dir'].map(bsv_dict)"
   ]
  },
  {
   "cell_type": "code",
   "execution_count": 6,
   "metadata": {},
   "outputs": [],
   "source": [
    "global_opt_temp_df = get_global_optimal_parameter(\n",
    "    exp_df, \n",
    "    sweep_key='temperature', \n",
    "    y_key='soft_RAVE',\n",
    "    group_keys=['split', 'experiment_model_dir']\n",
    ")"
   ]
  },
  {
   "cell_type": "code",
   "execution_count": 7,
   "metadata": {},
   "outputs": [],
   "source": [
    "opt_scores, opt_temps_df = get_per_subject_optimal_values(\n",
    "    exp_df, \n",
    "    sweep_key='temperature', \n",
    "    y_key='soft_RAVE',\n",
    "    group_keys=['split', 'experiment_model_dir'],\n",
    "    keep_keys=['hard_volume', 'base_soft_volume'],\n",
    "    return_optimal_values=True\n",
    ")"
   ]
  },
  {
   "cell_type": "code",
   "execution_count": null,
   "metadata": {},
   "outputs": [],
   "source": [
    "opt_temps_df['experiment_model_dir'].unique()"
   ]
  },
  {
   "cell_type": "code",
   "execution_count": 9,
   "metadata": {},
   "outputs": [],
   "source": [
    "# model_dir = opt_temps_df['experiment_model_dir'].unique()[0]\n",
    "model_dir = opt_temps_df['experiment_model_dir'].unique()[1]"
   ]
  },
  {
   "cell_type": "code",
   "execution_count": 10,
   "metadata": {},
   "outputs": [],
   "source": [
    "temps_df = opt_temps_df[opt_temps_df['experiment_model_dir'] == model_dir]"
   ]
  },
  {
   "cell_type": "code",
   "execution_count": 11,
   "metadata": {},
   "outputs": [],
   "source": [
    "# We also want to add our baseline of predicting a global optimal temperature\n",
    "loss_fn_global_temp = global_opt_temp_df[global_opt_temp_df['experiment_model_dir'] == model_dir]\n",
    "cal_global_opt_temp = float(loss_fn_global_temp[loss_fn_global_temp['split'] == 'cal']['temperature'])"
   ]
  },
  {
   "cell_type": "code",
   "execution_count": 12,
   "metadata": {},
   "outputs": [],
   "source": [
    "from ese.analysis.baselines import fit_posthoc_calibrators"
   ]
  },
  {
   "cell_type": "code",
   "execution_count": null,
   "metadata": {},
   "outputs": [],
   "source": [
    "results = fit_posthoc_calibrators(\n",
    "    data_df=temps_df,\n",
    "    train_split='cal',\n",
    "    val_split='val',\n",
    "    x_feats=['hard_volume'],\n",
    "    global_opt_temp=cal_global_opt_temp\n",
    ")\n",
    "# Convert results to a DataFrame for better visualization\n",
    "results_df = pd.DataFrame(results).T  # Transpose for better format\n",
    "# We want to srt by the best MSE\n",
    "results_df = results_df.sort_values('MSE')\n",
    "print(\"Model Performance:\")\n",
    "display(results_df)"
   ]
  },
  {
   "cell_type": "code",
   "execution_count": null,
   "metadata": {},
   "outputs": [],
   "source": [
    "results = fit_posthoc_calibrators(\n",
    "    data_df=temps_df,\n",
    "    train_split='cal',\n",
    "    val_split='val',\n",
    "    x_feats=['base_soft_volume'],\n",
    "    global_opt_temp=cal_global_opt_temp\n",
    ")\n",
    "# Convert results to a DataFrame for better visualization\n",
    "results_df = pd.DataFrame(results).T  # Transpose for better format\n",
    "# We want to srt by the best MSE\n",
    "results_df = results_df.sort_values('MSE')\n",
    "print(\"Model Performance:\")\n",
    "display(results_df)"
   ]
  },
  {
   "cell_type": "code",
   "execution_count": null,
   "metadata": {},
   "outputs": [],
   "source": [
    "results = fit_posthoc_calibrators(\n",
    "    data_df=temps_df,\n",
    "    train_split='cal',\n",
    "    val_split='val',\n",
    "    x_feats=['hard_volume', 'base_soft_volume'],\n",
    "    global_opt_temp=cal_global_opt_temp\n",
    ")\n",
    "# Convert results to a DataFrame for better visualization\n",
    "results_df = pd.DataFrame(results).T  # Transpose for better format\n",
    "# We want to srt by the best MSE\n",
    "results_df = results_df.sort_values('MSE')\n",
    "print(\"Model Performance:\")\n",
    "display(results_df)"
   ]
  }
 ],
 "metadata": {
  "kernelspec": {
   "display_name": "Python 3",
   "language": "python",
   "name": "python3"
  },
  "language_info": {
   "codemirror_mode": {
    "name": "ipython",
    "version": 3
   },
   "file_extension": ".py",
   "mimetype": "text/x-python",
   "name": "python",
   "nbconvert_exporter": "python",
   "pygments_lexer": "ipython3",
   "version": "3.9.16"
  },
  "orig_nbformat": 4
 },
 "nbformat": 4,
 "nbformat_minor": 2
}
