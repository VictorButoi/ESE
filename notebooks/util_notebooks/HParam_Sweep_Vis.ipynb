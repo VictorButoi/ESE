{
 "cells": [
  {
   "cell_type": "code",
   "execution_count": null,
   "metadata": {},
   "outputs": [],
   "source": [
    "import os \n",
    "import sys\n",
    "import numpy as np\n",
    "import seaborn as sns\n",
    "from pathlib import Path\n",
    "import matplotlib.pyplot as plt\n",
    "# Ionpy imports\n",
    "from ionpy.analysis import ResultsLoader\n",
    "# Local imports\n",
    "from ese.analysis.analyze_inf import load_cal_inference_stats\n",
    "from ese.analysis.analysis_utils.plot_utils import get_prop_color_palette\n",
    "from ese.analysis.analysis_utils.parse_sweep import get_global_optimal_parameter, get_per_subject_optimal_values\n",
    "\n",
    "sys.path.append('/storage/vbutoi/projects')\n",
    "sys.path.append('/storage/vbutoi/libraries')\n",
    "sys.path.append('/storage/vbutoi/projects/ESE')\n",
    "sys.path.append('/storage/vbutoi/projects/UniverSeg')\n",
    "sns.set_style(\"darkgrid\")\n",
    "sns.set_context(\"talk\")\n",
    "os.environ['DATAPATH'] = ':'.join((\n",
    "       '/storage/vbutoi/datasets',\n",
    "))\n",
    "root = Path(\"/storage/vbutoi/scratch/ESE\")\n",
    "rs = ResultsLoader()\n",
    "\n",
    "# For using code without restarting.\n",
    "%load_ext autoreload\n",
    "%autoreload 2\n",
    "# For using yaml configs.\n",
    "%load_ext yamlmagic"
   ]
  },
  {
   "cell_type": "code",
   "execution_count": null,
   "metadata": {},
   "outputs": [],
   "source": [
    "%%yaml results_cfg \n",
    "\n",
    "log:\n",
    "    # root: '/storage/vbutoi/scratch/ESE/inference/10_09_24_OCTA_Benchmark_Exps'\n",
    "    # root: '/storage/vbutoi/scratch/ESE/inference/10_09_24_ISLES_Benchmark_Exps'\n",
    "    root: '/storage/vbutoi/scratch/ESE/inference/10_10_24_Roads_Benchmark_Exps'\n",
    "    inference_groups: \n",
    "        # - 'Threshold_Sweep_SoftDice'\n",
    "        # - 'Threshold_Sweep_CrossEntropy'\n",
    "        - 'Temperature_Sweep_SoftDice'\n",
    "        - 'Temperature_Sweep_CrossEntropy'\n",
    "\n",
    "options:\n",
    "    verify_graceful_exit: True\n",
    "    equal_rows_per_cfg_assert: False "
   ]
  },
  {
   "cell_type": "markdown",
   "metadata": {},
   "source": [
    "### Useful cell for controlling the plotting functions."
   ]
  },
  {
   "cell_type": "code",
   "execution_count": 3,
   "metadata": {},
   "outputs": [],
   "source": [
    "#######This cells controls what gets plotted in the following cells so we don't have to change each one\n",
    "# x_key = 'threshold'\n",
    "# y_key = 'log_hard_volume_error'\n",
    "# xtick_range = np.arange(0, 1.1, 0.1)\n",
    "# cmap = 'viridis_r'\n",
    "# aspect = 1\n",
    "# y_lims = (-2.5, 12)\n",
    "\n",
    "x_key = 'temperature'\n",
    "y_key = 'log_soft_volume_error'\n",
    "xtick_range = np.arange(0, 3.1, 0.1)\n",
    "cmap = 'magma_r'\n",
    "aspect = 2\n",
    "y_lims = (-2.5, 12)"
   ]
  },
  {
   "cell_type": "markdown",
   "metadata": {},
   "source": [
    "# Plotting Calls"
   ]
  },
  {
   "cell_type": "code",
   "execution_count": null,
   "metadata": {},
   "outputs": [],
   "source": [
    "inference_df = load_cal_inference_stats(\n",
    "    results_cfg=results_cfg,\n",
    "    load_cached=True\n",
    ")"
   ]
  },
  {
   "cell_type": "code",
   "execution_count": 5,
   "metadata": {},
   "outputs": [],
   "source": [
    "# for ikey in inference_df.keys():\n",
    "#     print(ikey)"
   ]
  },
  {
   "cell_type": "code",
   "execution_count": 6,
   "metadata": {},
   "outputs": [],
   "source": [
    "cols_to_keep = [\n",
    "    'abs_soft_volume_error',\n",
    "    'log_soft_volume_error',\n",
    "    'abs_hard_volume_error',\n",
    "    'log_hard_volume_error',\n",
    "    'loss_func_class',\n",
    "    'temperature',\n",
    "    'gt_volume',\n",
    "    'threshold',\n",
    "    'data_id',\n",
    "    'split'\n",
    "]\n",
    "# Filter out the columns we want to keep\n",
    "exp_df = inference_df[cols_to_keep].drop_duplicates().reset_index(drop=True)"
   ]
  },
  {
   "cell_type": "code",
   "execution_count": 7,
   "metadata": {},
   "outputs": [],
   "source": [
    "# We need to make sure that the cal split goes first.\n",
    "exp_df = exp_df.sort_values('split', ascending=True)"
   ]
  },
  {
   "cell_type": "code",
   "execution_count": null,
   "metadata": {},
   "outputs": [],
   "source": [
    "plt.figure(figsize=(30, 20))\n",
    "# We want to plot the mean error vs temperature\n",
    "g = sns.relplot(\n",
    "    data=exp_df,\n",
    "    x=x_key,\n",
    "    y=y_key,\n",
    "    hue='loss_func_class',\n",
    "    row='split',\n",
    "    kind='line',\n",
    "    height=10,\n",
    "    aspect=aspect,\n",
    "    legend=(x_key == 'temperature')\n",
    ")\n",
    "\n",
    "g.set(xticks=xtick_range, ylim=y_lims)"
   ]
  },
  {
   "cell_type": "code",
   "execution_count": null,
   "metadata": {},
   "outputs": [],
   "source": [
    "group_cols = ['split', 'loss_func_class']\n",
    "# Get the optimal threshold for each split out. First we have to average across the data_ids\n",
    "optimal_threshold_df = exp_df.groupby(group_cols + [x_key]).mean().reset_index()\n",
    "# Then we get the threshold that minimizes the error\n",
    "reduced_optimal_threshold_df = optimal_threshold_df.loc[optimal_threshold_df.groupby(group_cols)[y_key].idxmin()]\n",
    "# Finally, we only keep the columns we care about.\n",
    "best_thresh_df = reduced_optimal_threshold_df[group_cols + [x_key, y_key]].reset_index(drop=True).sort_values(y_key)"
   ]
  },
  {
   "cell_type": "code",
   "execution_count": null,
   "metadata": {},
   "outputs": [],
   "source": [
    "best_thresh_df"
   ]
  },
  {
   "cell_type": "code",
   "execution_count": null,
   "metadata": {},
   "outputs": [],
   "source": [
    "best_thresh_from_func = get_global_optimal_parameter(\n",
    "    exp_df, \n",
    "    sweep_key=x_key, \n",
    "    y_key=y_key,\n",
    "    group_keys=['split', 'loss_func_class']\n",
    ")"
   ]
  },
  {
   "cell_type": "code",
   "execution_count": null,
   "metadata": {},
   "outputs": [],
   "source": [
    "# We want to plot the mean error vs temperature\n",
    "g = sns.relplot(\n",
    "    data=exp_df,\n",
    "    x=x_key,\n",
    "    y=y_key,\n",
    "    hue='data_id',\n",
    "    col='loss_func_class',\n",
    "    row='split',\n",
    "    # col='split',\n",
    "    kind='line',\n",
    "    height=8,\n",
    "    aspect=aspect,\n",
    "    legend=False,\n",
    "    palette=get_prop_color_palette(\n",
    "                exp_df, \n",
    "                hue_key='data_id', \n",
    "                magnitude_key='gt_volume',\n",
    "                cmap=cmap\n",
    "            )\n",
    ")\n",
    "\n",
    "g.set(xticks=xtick_range, ylim=y_lims)"
   ]
  },
  {
   "cell_type": "code",
   "execution_count": 13,
   "metadata": {},
   "outputs": [],
   "source": [
    "# We want to figure out what is the best achievable average loss IF we used optimal thresholds per subject\n",
    "sub_cols_to_keep = [\n",
    "    x_key,\n",
    "    y_key,\n",
    "    'loss_func_class',\n",
    "    'data_id',\n",
    "    'split'\n",
    "]\n",
    "# Filter out the columns we want to keep\n",
    "individual_temp_df = exp_df[sub_cols_to_keep].drop_duplicates().reset_index(drop=True)\n",
    "# Get the optimal temperature for each data_id\n",
    "reduced_ind_df = individual_temp_df.loc[individual_temp_df.groupby('data_id')[y_key].idxmin()].reset_index(drop=True)\n",
    "# We want, per split, to get the average loss if we used the optimal temperature for each subject\n",
    "opt_temps_df = reduced_ind_df.groupby(['split', 'loss_func_class']).agg({y_key: 'mean'}).reset_index().sort_values(y_key)"
   ]
  },
  {
   "cell_type": "code",
   "execution_count": null,
   "metadata": {},
   "outputs": [],
   "source": [
    "opt_temps_df"
   ]
  },
  {
   "cell_type": "code",
   "execution_count": null,
   "metadata": {},
   "outputs": [],
   "source": [
    "opt_from_func = get_per_subject_optimal_values(\n",
    "    exp_df, \n",
    "    sweep_key=x_key, \n",
    "    y_key=y_key,\n",
    "    group_keys=['split', 'loss_func_class']\n",
    ")"
   ]
  }
 ],
 "metadata": {
  "kernelspec": {
   "display_name": "Python 3",
   "language": "python",
   "name": "python3"
  },
  "language_info": {
   "codemirror_mode": {
    "name": "ipython",
    "version": 3
   },
   "file_extension": ".py",
   "mimetype": "text/x-python",
   "name": "python",
   "nbconvert_exporter": "python",
   "pygments_lexer": "ipython3",
   "version": "3.9.16"
  },
  "orig_nbformat": 4
 },
 "nbformat": 4,
 "nbformat_minor": 2
}
