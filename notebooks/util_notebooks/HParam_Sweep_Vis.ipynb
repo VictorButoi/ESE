{
 "cells": [
  {
   "cell_type": "code",
   "execution_count": null,
   "metadata": {},
   "outputs": [],
   "source": [
    "import sys\n",
    "sys.path.append('/storage/vbutoi/projects')\n",
    "sys.path.append('/storage/vbutoi/libraries')\n",
    "sys.path.append('/storage/vbutoi/projects/ESE')\n",
    "sys.path.append('/storage/vbutoi/projects/UniverSeg')\n",
    "\n",
    "import numpy as np\n",
    "import pandas as pd\n",
    "import seaborn as sns\n",
    "import matplotlib\n",
    "import matplotlib.pyplot as plt\n",
    "sns.set_style(\"darkgrid\")\n",
    "sns.set_context(\"talk\")\n",
    "\n",
    "import os \n",
    "os.environ['DATAPATH'] = ':'.join((\n",
    "       '/storage/vbutoi/datasets',\n",
    "))\n",
    "from ese.analysis.analyze_inf import load_cal_inference_stats\n",
    "from ese.analysis.analysis_utils.plot_utils import get_prop_color_palette\n",
    "# Results loader object does everything\n",
    "from ionpy.analysis import ResultsLoader\n",
    "from pathlib import Path\n",
    "root = Path(\"/storage/vbutoi/scratch/ESE\")\n",
    "rs = ResultsLoader()\n",
    "\n",
    "# For using code without restarting.\n",
    "%load_ext autoreload\n",
    "%autoreload 2\n",
    "# For using yaml configs.\n",
    "%load_ext yamlmagic"
   ]
  },
  {
   "cell_type": "code",
   "execution_count": null,
   "metadata": {},
   "outputs": [],
   "source": [
    "%%yaml results_cfg \n",
    "\n",
    "log:\n",
    "    root: '/storage/vbutoi/scratch/ESE/inference/10_09_24_OCTA_Benchmark_Exps'\n",
    "    # root: '/storage/vbutoi/scratch/ESE/inference/10_09_24_ISLES_Benchmark_Exps'\n",
    "    # root: '/storage/vbutoi/scratch/ESE/inference/10_10_24_Roads_Benchmark_Exps'\n",
    "    inference_groups: \n",
    "        - 'Threshold_Sweep_SoftDice'\n",
    "        # - 'Temperature_Sweep_SoftDice'\n",
    "        # - 'Threshold_Sweep_CrossEntropy'\n",
    "        # - 'Temperature_Sweep_CrossEntropy'\n",
    "\n",
    "options:\n",
    "    verify_graceful_exit: True\n",
    "    equal_rows_per_cfg_assert: False "
   ]
  },
  {
   "cell_type": "markdown",
   "metadata": {},
   "source": [
    "### Useful cell for controlling the plotting functions."
   ]
  },
  {
   "cell_type": "code",
   "execution_count": 3,
   "metadata": {},
   "outputs": [],
   "source": [
    "########This cells controls what gets plotted in the following cells so we don't have to change each one\n",
    "# x_key = 'threshold'\n",
    "# y_key = 'log_hard_volume_error'\n",
    "# xtick_range = np.arange(0, 1.1, 0.1)\n",
    "# aspect = 1\n",
    "\n",
    "x_key = 'temperature'\n",
    "y_key = 'log_soft_volume_error'\n",
    "xtick_range = np.arange(0, 3.1, 0.1)\n",
    "aspect = 2"
   ]
  },
  {
   "cell_type": "markdown",
   "metadata": {},
   "source": [
    "# Plotting Calls"
   ]
  },
  {
   "cell_type": "code",
   "execution_count": null,
   "metadata": {},
   "outputs": [],
   "source": [
    "inference_df = load_cal_inference_stats(\n",
    "    results_cfg=results_cfg,\n",
    "    load_cached=False\n",
    ")"
   ]
  },
  {
   "cell_type": "code",
   "execution_count": 5,
   "metadata": {},
   "outputs": [],
   "source": [
    "# for ikey in inference_df.keys():\n",
    "#     print(ikey)"
   ]
  },
  {
   "cell_type": "code",
   "execution_count": 6,
   "metadata": {},
   "outputs": [],
   "source": [
    "cols_to_keep = [\n",
    "    'abs_soft_volume_error',\n",
    "    'log_soft_volume_error',\n",
    "    'abs_hard_volume_error',\n",
    "    'log_hard_volume_error',\n",
    "    'loss_func_class',\n",
    "    'temperature',\n",
    "    'gt_volume',\n",
    "    'threshold',\n",
    "    'data_id',\n",
    "    'split'\n",
    "]\n",
    "# Filter out the columns we want to keep\n",
    "exp_df = inference_df[cols_to_keep].drop_duplicates().reset_index(drop=True)"
   ]
  },
  {
   "cell_type": "code",
   "execution_count": 7,
   "metadata": {},
   "outputs": [],
   "source": [
    "# We need to make sure that the cal split goes first.\n",
    "exp_df = exp_df.sort_values('split', ascending=True)"
   ]
  },
  {
   "cell_type": "code",
   "execution_count": null,
   "metadata": {},
   "outputs": [],
   "source": [
    "plt.figure(figsize=(30, 20))\n",
    "# We want to plot the mean error vs temperature\n",
    "g = sns.relplot(\n",
    "    data=exp_df,\n",
    "    x=x_key,\n",
    "    y=y_key,\n",
    "    hue='loss_func_class',\n",
    "    col='split',\n",
    "    kind='line',\n",
    "    height=10,\n",
    "    aspect=aspect,\n",
    ")\n",
    "\n",
    "g.set(xticks=xtick_range)"
   ]
  },
  {
   "cell_type": "code",
   "execution_count": null,
   "metadata": {},
   "outputs": [],
   "source": [
    "group_cols = ['split', 'loss_func_class']\n",
    "# Get the optimal threshold for each split out. First we have to average across the data_ids\n",
    "optimal_threshold_df = exp_df.groupby(group_cols + [x_key]).mean().reset_index()\n",
    "# Then we get the threshold that minimizes the error\n",
    "optimal_threshold_df = optimal_threshold_df.loc[optimal_threshold_df.groupby(group_cols)[y_key].idxmin()]\n",
    "# Finally, we only keep the columns we care about.\n",
    "optimal_threshold_df = optimal_threshold_df[group_cols + [x_key]].reset_index(drop=True)"
   ]
  },
  {
   "cell_type": "code",
   "execution_count": null,
   "metadata": {},
   "outputs": [],
   "source": [
    "optimal_threshold_df"
   ]
  },
  {
   "cell_type": "code",
   "execution_count": null,
   "metadata": {},
   "outputs": [],
   "source": [
    "# We want to plot the mean error vs temperature\n",
    "g = sns.relplot(\n",
    "    data=exp_df,\n",
    "    x=x_key,\n",
    "    y=y_key,\n",
    "    hue='data_id',\n",
    "    # col='loss_func_class',\n",
    "    # row='split',\n",
    "    col='split',\n",
    "    kind='line',\n",
    "    height=8,\n",
    "    aspect=aspect,\n",
    "    legend=False,\n",
    "    palette=get_prop_color_palette(\n",
    "                exp_df, \n",
    "                hue_key='data_id', \n",
    "                magnitude_key='gt_volume',\n",
    "                cmap='magma_r'\n",
    "            )\n",
    ")\n",
    "\n",
    "g.set(xticks=xtick_range)"
   ]
  }
 ],
 "metadata": {
  "kernelspec": {
   "display_name": "Python 3",
   "language": "python",
   "name": "python3"
  },
  "language_info": {
   "codemirror_mode": {
    "name": "ipython",
    "version": 3
   },
   "file_extension": ".py",
   "mimetype": "text/x-python",
   "name": "python",
   "nbconvert_exporter": "python",
   "pygments_lexer": "ipython3",
   "version": "3.9.16"
  },
  "orig_nbformat": 4
 },
 "nbformat": 4,
 "nbformat_minor": 2
}
