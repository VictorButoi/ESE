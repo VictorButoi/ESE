{
 "cells": [
  {
   "cell_type": "code",
   "execution_count": 1,
   "metadata": {},
   "outputs": [],
   "source": [
    "import os\n",
    "import sys\n",
    "import torch\n",
    "sys.path.append(\"/storage/vbutoi/projects\")\n",
    "sys.path.append(\"/storage/vbutoi/libraries\")\n",
    "sys.path.append(\"/storage/vbutoi/libraries/thunderpack\")\n",
    "sys.path.append(\"/storage/vbutoi/libraries/voxel\")\n",
    "# Make sure we can use the ESE library\n",
    "sys.path.append(\"/storage/vbutoi/projects/ESE\")\n",
    "import matplotlib.pyplot as plt \n",
    "# Set cuda visible devices to 0\n",
    "os.environ[\"CUDA_VISIBLE_DEVICES\"] = \"0\"\n",
    "\n",
    "%load_ext yamlmagic"
   ]
  },
  {
   "cell_type": "code",
   "execution_count": null,
   "metadata": {},
   "outputs": [],
   "source": [
    "%%yaml thunder_cfg\n",
    "\n",
    "seed: 42\n",
    "version: 1.0\n",
    "show_examples: True \n",
    "min_label_amount: 1\n",
    "root: \"/storage/vbutoi/datasets/WMH\"\n",
    "dst_folder: \"thunder_wmh\"\n",
    "hospitals:\n",
    "    - \"Amsterdam\"\n",
    "    - \"Singapore\"\n",
    "    - \"Utrecht\""
   ]
  },
  {
   "cell_type": "code",
   "execution_count": null,
   "metadata": {},
   "outputs": [],
   "source": [
    "from ese.datasets.utils import thunderify_WMH\n",
    "\n",
    "thunderify_WMH(thunder_cfg)"
   ]
  }
 ],
 "metadata": {
  "kernelspec": {
   "display_name": "Python 3",
   "language": "python",
   "name": "python3"
  },
  "language_info": {
   "codemirror_mode": {
    "name": "ipython",
    "version": 3
   },
   "file_extension": ".py",
   "mimetype": "text/x-python",
   "name": "python",
   "nbconvert_exporter": "python",
   "pygments_lexer": "ipython3",
   "version": "3.9.16"
  },
  "orig_nbformat": 4
 },
 "nbformat": 4,
 "nbformat_minor": 2
}
