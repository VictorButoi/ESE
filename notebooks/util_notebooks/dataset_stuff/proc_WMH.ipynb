{
 "cells": [
  {
   "cell_type": "code",
   "execution_count": 1,
   "metadata": {},
   "outputs": [],
   "source": [
    "import os\n",
    "import sys\n",
    "import torch\n",
    "sys.path.append(\"/storage/vbutoi/projects\")\n",
    "sys.path.append(\"/storage/vbutoi/libraries\")\n",
    "sys.path.append(\"/storage/vbutoi/libraries/thunderpack\")\n",
    "sys.path.append(\"/storage/vbutoi/libraries/voxel\")\n",
    "# Make sure we can use the ESE library\n",
    "sys.path.append(\"/storage/vbutoi/projects/ESE\")\n",
    "import matplotlib.pyplot as plt \n",
    "# Set cuda visible devices to 0\n",
    "os.environ[\"CUDA_VISIBLE_DEVICES\"] = \"0\"\n",
    "\n",
    "%load_ext yamlmagic"
   ]
  },
  {
   "cell_type": "code",
   "execution_count": null,
   "metadata": {},
   "outputs": [],
   "source": [
    "%%yaml thunder_cfg\n",
    "\n",
    "seed: 42\n",
    "version: 2.0\n",
    "show_examples: False \n",
    "min_label_amount: 1\n",
    "dst_dir: \"/storage/vbutoi/datasets/WMH/thunder_wmh\"\n",
    "proc_root: \"/storage/vbutoi/datasets/WMH/raw_cropped\"\n",
    "hospitals:\n",
    "    - \"Amsterdam\"\n",
    "    - \"Singapore\"\n",
    "    - \"Utrecht\"\n",
    "    - \"Combined\"\n",
    "annotators:\n",
    "    - 'annotator_o12' \n",
    "    - 'annotator_o3' \n",
    "    - 'annotator_o4'\n",
    "    - 'multi_annotator'"
   ]
  },
  {
   "cell_type": "code",
   "execution_count": null,
   "metadata": {},
   "outputs": [],
   "source": [
    "from ese.datasets.utils import thunderify_WMH\n",
    "\n",
    "thunderify_WMH(thunder_cfg)"
   ]
  }
 ],
 "metadata": {
  "kernelspec": {
   "display_name": "Python 3",
   "language": "python",
   "name": "python3"
  },
  "language_info": {
   "codemirror_mode": {
    "name": "ipython",
    "version": 3
   },
   "file_extension": ".py",
   "mimetype": "text/x-python",
   "name": "python",
   "nbconvert_exporter": "python",
   "pygments_lexer": "ipython3",
   "version": "3.9.16"
  },
  "orig_nbformat": 4
 },
 "nbformat": 4,
 "nbformat_minor": 2
}
