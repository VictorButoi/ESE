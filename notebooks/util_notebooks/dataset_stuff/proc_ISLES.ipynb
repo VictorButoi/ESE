{
 "cells": [
  {
   "cell_type": "code",
   "execution_count": 1,
   "metadata": {},
   "outputs": [],
   "source": [
    "import os\n",
    "import sys\n",
    "import torch\n",
    "sys.path.append(\"/storage/vbutoi/projects\")\n",
    "sys.path.append(\"/storage/vbutoi/libraries\")\n",
    "sys.path.append(\"/storage/vbutoi/libraries/thunderpack\")\n",
    "sys.path.append(\"/storage/vbutoi/libraries/voxel\")\n",
    "# Make sure we can use the ESE library\n",
    "sys.path.append(\"/storage/vbutoi/projects/ESE\")\n",
    "import matplotlib.pyplot as plt \n",
    "# Set cuda visible devices to 0\n",
    "os.environ[\"CUDA_VISIBLE_DEVICES\"] = \"0\"\n",
    "\n",
    "%load_ext yamlmagic"
   ]
  },
  {
   "cell_type": "code",
   "execution_count": null,
   "metadata": {},
   "outputs": [],
   "source": [
    "%%yaml aug_cfg\n",
    "\n",
    "augmentations:\n",
    "    spatial:\n",
    "        max_translation: 5.0\n",
    "        max_rotation: 5.0\n",
    "        max_scaling: 1.1\n",
    "        warp_integrations: 5\n",
    "        warp_smoothing_range: [10, 20]\n",
    "        warp_magnitude_range: [1, 3]\n",
    "        affine_probability: 1.0\n",
    "        warp_probability: 1.0"
   ]
  },
  {
   "cell_type": "code",
   "execution_count": null,
   "metadata": {},
   "outputs": [],
   "source": [
    "%%yaml drive_thunder_cfg\n",
    "\n",
    "seed: 42\n",
    "version: 2.0\n",
    "show_examples: False \n",
    "min_label_amount: 1\n",
    "pad_to: (148, 180, 71)\n",
    "aug_examples_per_subject: 5 \n",
    "root: \"/storage/vbutoi/datasets/ISLES\"\n",
    "dst_folder: \"thunder_isles\""
   ]
  },
  {
   "cell_type": "code",
   "execution_count": 4,
   "metadata": {},
   "outputs": [],
   "source": [
    "from ionpy.util import Config\n",
    "\n",
    "gen_cfg = Config(drive_thunder_cfg).update([aug_cfg])"
   ]
  },
  {
   "cell_type": "code",
   "execution_count": 5,
   "metadata": {},
   "outputs": [],
   "source": [
    "# We need to load in the 1.0 version of the dataset and get the splits so we can reuse it for the\n",
    "# 1.1 version\n",
    "from thunderpack import ThunderReader\n",
    "\n",
    "reader = ThunderReader('/storage/vbutoi/datasets/ISLES/thunder_isles/1.0')"
   ]
  },
  {
   "cell_type": "code",
   "execution_count": null,
   "metadata": {},
   "outputs": [],
   "source": [
    "from ese.datasets.utils import thunderify_ISLES\n",
    "\n",
    "thunderify_ISLES(gen_cfg, splits=reader['_splits'], splits_kwarg=reader['_splits_kwarg'])"
   ]
  }
 ],
 "metadata": {
  "kernelspec": {
   "display_name": "Python 3",
   "language": "python",
   "name": "python3"
  },
  "language_info": {
   "codemirror_mode": {
    "name": "ipython",
    "version": 3
   },
   "file_extension": ".py",
   "mimetype": "text/x-python",
   "name": "python",
   "nbconvert_exporter": "python",
   "pygments_lexer": "ipython3",
   "version": "3.9.16"
  },
  "orig_nbformat": 4
 },
 "nbformat": 4,
 "nbformat_minor": 2
}
