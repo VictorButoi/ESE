{
 "cells": [
  {
   "cell_type": "code",
   "execution_count": null,
   "metadata": {},
   "outputs": [],
   "source": [
    "import os\n",
    "import sys\n",
    "import torch\n",
    "sys.path.append(\"/storage/vbutoi/projects\")\n",
    "sys.path.append(\"/storage/vbutoi/libraries\")\n",
    "sys.path.append(\"/storage/vbutoi/libraries/thunderpack\")\n",
    "sys.path.append(\"/storage/vbutoi/libraries/voxel\")\n",
    "# Make sure we can use the ESE library\n",
    "sys.path.append(\"/storage/vbutoi/projects/ESE\")\n",
    "import matplotlib.pyplot as plt \n",
    "# Set cuda visible devices to 0\n",
    "os.environ[\"CUDA_VISIBLE_DEVICES\"] = \"0\"\n",
    "\n",
    "%load_ext yamlmagic"
   ]
  },
  {
   "cell_type": "code",
   "execution_count": null,
   "metadata": {},
   "outputs": [],
   "source": [
    "%%yaml thunder_cfg\n",
    "\n",
    "seed: 42\n",
    "# version: 0.224\n",
    "# version: 0.518\n",
    "version: 0.868\n",
    "resize_to: (868, 1036)\n",
    "show_examples: True  \n",
    "min_label_amount: 1\n",
    "dst_folder: \"/storage/vbutoi/datasets/ISLES/thunder_isles\"\n",
    "# root: \"/storage/vbutoi/datasets/nnUNet_raw/Dataset011_ISLES_2D_maxslice_small\"\n",
    "# splits_root: \"/storage/vbutoi/datasets/nnUNet_preprocessed/Dataset011_ISLES_2D_maxslice_small\"\n",
    "root: \"/storage/vbutoi/datasets/nnUNet_raw/Dataset012_ISLES_2D_maxslice_large\"\n",
    "splits_root: \"/storage/vbutoi/datasets/nnUNet_preprocessed/Dataset012_ISLES_2D_maxslice_large\""
   ]
  },
  {
   "cell_type": "code",
   "execution_count": null,
   "metadata": {},
   "outputs": [],
   "source": [
    "from ionpy.util import Config\n",
    "\n",
    "gen_cfg = Config(thunder_cfg)"
   ]
  },
  {
   "cell_type": "code",
   "execution_count": null,
   "metadata": {},
   "outputs": [],
   "source": [
    "# We need to load in the 1.0 version of the dataset and get the splits so we can reuse it for the\n",
    "# 1.1 version\n",
    "from thunderpack import ThunderReader"
   ]
  },
  {
   "cell_type": "code",
   "execution_count": null,
   "metadata": {},
   "outputs": [],
   "source": [
    "# from ese.datasets.utils import thunderify_ISLES\n",
    "# from ese.datasets.utils import nnunetize_ISLES_resave\n",
    "from ese.datasets.utils import thunderify_ISLES_frompng\n",
    "\n",
    "# reader = ThunderReader('/storage/vbutoi/datasets/ISLES/thunder_isles/1.0')\n",
    "# thunderify_ISLES(gen_cfg, splits=reader['_splits'], splits_kwarg=reader['_splits_kwarg'])\n",
    "# nnunetize_ISLES_resave(gen_cfg, splits=reader['_splits'])\n",
    "thunderify_ISLES_frompng(gen_cfg)"
   ]
  }
 ],
 "metadata": {
  "kernelspec": {
   "display_name": "Python 3",
   "language": "python",
   "name": "python3"
  },
  "language_info": {
   "codemirror_mode": {
    "name": "ipython",
    "version": 3
   },
   "file_extension": ".py",
   "mimetype": "text/x-python",
   "name": "python",
   "nbconvert_exporter": "python",
   "pygments_lexer": "ipython3",
   "version": "3.9.16"
  },
  "orig_nbformat": 4
 },
 "nbformat": 4,
 "nbformat_minor": 2
}
