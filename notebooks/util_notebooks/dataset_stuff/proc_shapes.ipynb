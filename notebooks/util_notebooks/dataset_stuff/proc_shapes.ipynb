{
 "cells": [
  {
   "cell_type": "code",
   "execution_count": 1,
   "metadata": {},
   "outputs": [],
   "source": [
    "from pathlib import Path\n",
    "import sys\n",
    "sys.path.append(\"/storage/vbutoi/projects/ESE\")\n",
    "sys.path.append(\"/storage/vbutoi/projects\")\n",
    "sys.path.append(\"/storage/vbutoi/libraries\")\n",
    "\n",
    "%load_ext autoreload\n",
    "%autoreload 2\n",
    "\n",
    "# Setup direcrtories\n",
    "root = Path(\"/storage/vbutoi/scratch/ESE\")\n",
    "code_root = Path(\"/storage/vbutoi/projects/ESE\")\n",
    "scratch_root = Path(\"/storage/vbutoi/scratch/ESE\")\n",
    "\n",
    "%load_ext yamlmagic"
   ]
  },
  {
   "cell_type": "code",
   "execution_count": 2,
   "metadata": {},
   "outputs": [
    {
     "data": {
      "application/javascript": "\n            require(\n                [\n                    \"notebook/js/codecell\",\n                    \"codemirror/mode/yaml/yaml\"\n                ],\n                function(cc){\n                    cc.CodeCell.options_default.highlight_modes.magic_yaml = {\n                        reg: [\"^%%yaml\"]\n                    }\n                }\n            );\n            ",
      "text/plain": [
       "<IPython.core.display.Javascript object>"
      ]
     },
     "metadata": {},
     "output_type": "display_data"
    }
   ],
   "source": [
    "%%yaml shapes_thunder_cfg\n",
    "\n",
    "log: \n",
    "    seed: 42\n",
    "    root: \"/storage/vbutoi/scratch/ESE/debug/04_04_24_Thunder_4.0NoisyCircles\"\n",
    "    dst_dir: \"/storage/vbutoi/datasets/Shapes/thunder_shapes\"\n",
    "    datapoints_per_subsplit: 300 \n",
    "    num_subsplits: 6 # Train + 4 Train + Evaluate\n",
    "    independent_subsplits: False \n",
    "    version: 4.0 \n",
    "    # preshow_synth_samples: 18"
   ]
  },
  {
   "cell_type": "code",
   "execution_count": 3,
   "metadata": {},
   "outputs": [],
   "source": [
    "import yaml \n",
    "\n",
    "# Load the inference cfg from local.\n",
    "##################################################\n",
    "cal_cfg_root = code_root / \"ese\" / \"experiment\" / \"configs\" / \"processing\"\n",
    "##################################################\n",
    "with open(cal_cfg_root / \"synthetic.yaml\", 'r') as file:\n",
    "    gen_cfg = yaml.safe_load(file)"
   ]
  },
  {
   "cell_type": "code",
   "execution_count": 4,
   "metadata": {},
   "outputs": [],
   "source": [
    "from ionpy.util import Config\n",
    "\n",
    "shapes_gen_cfg = Config(shapes_thunder_cfg).update([gen_cfg])"
   ]
  },
  {
   "cell_type": "code",
   "execution_count": 5,
   "metadata": {},
   "outputs": [
    {
     "name": "stdout",
     "output_type": "stream",
     "text": [
      "Set seed: 42\n"
     ]
    },
    {
     "name": "stderr",
     "output_type": "stream",
     "text": [
      "100%|██████████| 300/300 [00:13<00:00, 23.04it/s]\n",
      "100%|██████████| 300/300 [00:12<00:00, 23.38it/s]\n",
      "100%|██████████| 300/300 [00:12<00:00, 23.55it/s]\n",
      "100%|██████████| 300/300 [00:12<00:00, 23.52it/s]\n",
      "100%|██████████| 300/300 [00:11<00:00, 25.06it/s]\n",
      "100%|██████████| 300/300 [00:12<00:00, 24.49it/s]\n"
     ]
    }
   ],
   "source": [
    "from ese.datasets.utils import thunderify_Shapes\n",
    "\n",
    "thunderify_Shapes(shapes_gen_cfg)"
   ]
  }
 ],
 "metadata": {
  "kernelspec": {
   "display_name": "UniverSegTF",
   "language": "python",
   "name": "universegtf"
  },
  "language_info": {
   "codemirror_mode": {
    "name": "ipython",
    "version": 3
   },
   "file_extension": ".py",
   "mimetype": "text/x-python",
   "name": "python",
   "nbconvert_exporter": "python",
   "pygments_lexer": "ipython3",
   "version": "3.9.16"
  },
  "orig_nbformat": 4
 },
 "nbformat": 4,
 "nbformat_minor": 2
}
