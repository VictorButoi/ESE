{
 "cells": [
  {
   "cell_type": "code",
   "execution_count": null,
   "metadata": {},
   "outputs": [],
   "source": [
    "from universeg.experiment.datasets import Segment2D\n",
    "import os \n",
    "import matplotlib.pyplot as plt\n",
    "os.environ['DATAPATH'] = ':'.join((\n",
    "       '/storage/vbutoi/datasets',\n",
    "       '/storage'\n",
    "))"
   ]
  },
  {
   "cell_type": "code",
   "execution_count": null,
   "metadata": {},
   "outputs": [],
   "source": [
    "support_dataset = Segment2D(\n",
    "    task='SpineWeb/Dataset7/MR/0',\n",
    "    resolution=128,\n",
    "    split='train',\n",
    "    label=0,\n",
    "    slicing=\"midslice\",\n",
    "    version=\"v4.2\",\n",
    "    min_label_density=0.0,\n",
    "    return_data_id=True\n",
    ")"
   ]
  },
  {
   "cell_type": "code",
   "execution_count": null,
   "metadata": {},
   "outputs": [],
   "source": [
    "len(support_dataset)"
   ]
  },
  {
   "cell_type": "code",
   "execution_count": null,
   "metadata": {},
   "outputs": [],
   "source": [
    "f, axarr = plt.subplots(2, 9, figsize=(27, 6))\n",
    "datapoints = []\n",
    "for i in range(9):\n",
    "    data, label, data_id = support_dataset[i]\n",
    "    data_tuple = (data, label, data_id)\n",
    "    datapoints.append(data_tuple)\n",
    "\n",
    "# Sort the datapoint tuples by their data_id\n",
    "datapoints.sort(key=lambda x: x[2])\n",
    "for i, (data, label, data_id) in enumerate(datapoints):\n",
    "    axarr[0, i].imshow(data[0], cmap='gray')\n",
    "    axarr[1, i].imshow(label[0], cmap='gray')\n",
    "    # Drop the axes\n",
    "    axarr[0, i].axis('off')\n",
    "    axarr[1, i].axis('off')\n",
    "    # Set the Title for the images as the data_id\n",
    "    axarr[0, i].set_title(data_id)"
   ]
  },
  {
   "cell_type": "code",
   "execution_count": null,
   "metadata": {},
   "outputs": [],
   "source": [
    "target_dataset = Segment2D(\n",
    "    task='SpineWeb/Dataset7/MR/0',\n",
    "    resolution=128,\n",
    "    split='val',\n",
    "    label=0,\n",
    "    slicing=\"midslice\",\n",
    "    version=\"v4.2\",\n",
    "    min_label_density=0.0,\n",
    "    return_data_id=True\n",
    ")"
   ]
  },
  {
   "cell_type": "code",
   "execution_count": null,
   "metadata": {},
   "outputs": [],
   "source": [
    "len(target_dataset)"
   ]
  },
  {
   "cell_type": "code",
   "execution_count": null,
   "metadata": {},
   "outputs": [],
   "source": [
    "f, axarr = plt.subplots(2, 3, figsize=(15, 10))\n",
    "for i in range(3):\n",
    "    data, label, data_id = target_dataset[i]\n",
    "    axarr[0, i].imshow(data[0], cmap='gray')\n",
    "    axarr[1, i].imshow(label[0], cmap='gray')\n",
    "    # Drop the axes\n",
    "    axarr[0, i].axis('off')\n",
    "    axarr[1, i].axis('off')\n",
    "    # Set the Title for the images as the data_id\n",
    "    axarr[0, i].set_title(data_id)"
   ]
  }
 ],
 "metadata": {
  "kernelspec": {
   "display_name": "UniverSegTF",
   "language": "python",
   "name": "universegtf"
  },
  "language_info": {
   "codemirror_mode": {
    "name": "ipython",
    "version": 3
   },
   "file_extension": ".py",
   "mimetype": "text/x-python",
   "name": "python",
   "nbconvert_exporter": "python",
   "pygments_lexer": "ipython3",
   "version": "3.9.16"
  }
 },
 "nbformat": 4,
 "nbformat_minor": 2
}
