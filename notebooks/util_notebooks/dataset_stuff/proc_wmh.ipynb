{
 "cells": [
  {
   "cell_type": "code",
   "execution_count": 1,
   "metadata": {},
   "outputs": [],
   "source": [
    "import os\n",
    "import pathlib\n",
    "%load_ext autoreload\n",
    "%autoreload 2"
   ]
  },
  {
   "cell_type": "code",
   "execution_count": 8,
   "metadata": {},
   "outputs": [],
   "source": [
    "# import sys\n",
    "# sys.path.append(\"/storage/vbutoi/projects/ESE\")\n",
    "# sys.path.append(\"/storage/vbutoi/projects\")\n",
    "# sys.path.append(\"/storage/vbutoi/libraries\")\n",
    "# from ese.datasets.utils.build_wmh import proc_WMH\n",
    "\n",
    "# proc_WMH(\n",
    "#     unique_dirs, \n",
    "#     version='0.2',\n",
    "#     show=True,\n",
    "#     save=False\n",
    "#     )"
   ]
  }
 ],
 "metadata": {
  "kernelspec": {
   "display_name": "Python 3",
   "language": "python",
   "name": "python3"
  },
  "language_info": {
   "codemirror_mode": {
    "name": "ipython",
    "version": 3
   },
   "file_extension": ".py",
   "mimetype": "text/x-python",
   "name": "python",
   "nbconvert_exporter": "python",
   "pygments_lexer": "ipython3",
   "version": "3.9.16"
  },
  "orig_nbformat": 4
 },
 "nbformat": 4,
 "nbformat_minor": 2
}
