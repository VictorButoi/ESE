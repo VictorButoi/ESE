{
 "cells": [
  {
   "cell_type": "code",
   "execution_count": 1,
   "metadata": {},
   "outputs": [],
   "source": [
    "root_dir = \"/storage/megamedical/v4.2/res128/midslice\""
   ]
  },
  {
   "cell_type": "code",
   "execution_count": 2,
   "metadata": {},
   "outputs": [],
   "source": [
    "held_out_dsets = [\n",
    "    \"ACDC\",\n",
    "    \"PanDental\",\n",
    "    \"SCD\",\n",
    "    \"SpineWeb\",\n",
    "    \"STARE\",\n",
    "    \"WBC\"\n",
    "]"
   ]
  },
  {
   "cell_type": "code",
   "execution_count": 7,
   "metadata": {},
   "outputs": [
    {
     "name": "stdout",
     "output_type": "stream",
     "text": [
      "ACDC/Challenge2017/MRI/2\n",
      "PanDental/v1/XRay/0\n",
      "PanDental/v2/XRay/0\n",
      "SCD/LAS/MRI/2\n",
      "SCD/VIS_human/MRI/2\n",
      "SCD/LAF_Post/MRI/2\n",
      "SCD/VIS_pig/MRI/2\n",
      "SCD/LAF_Pre/MRI/2\n",
      "SpineWeb/Dataset7/MR/0\n",
      "STARE/retrieved_2021_12_06/Retinal/0\n",
      "WBC/CV/EM/0\n",
      "WBC/JTSC/EM/0\n"
     ]
    }
   ],
   "source": [
    "from pathlib import Path\n",
    "# For each of the datasets, we want to print all of the subdirectories\n",
    "for ho_dset in held_out_dsets:\n",
    "    ho_dset_dir = Path(root_dir) / ho_dset\n",
    "    for sub_dir in ho_dset_dir.iterdir():\n",
    "        for sub_sub_dir in sub_dir.iterdir():\n",
    "            for sub_sub_sub_dir in sub_sub_dir.iterdir():\n",
    "                # Print only the last four parts of the path\n",
    "                print(\"/\".join(sub_sub_sub_dir.parts[-4:]))"
   ]
  }
 ],
 "metadata": {
  "kernelspec": {
   "display_name": "Python 3",
   "language": "python",
   "name": "python3"
  },
  "language_info": {
   "codemirror_mode": {
    "name": "ipython",
    "version": 3
   },
   "file_extension": ".py",
   "mimetype": "text/x-python",
   "name": "python",
   "nbconvert_exporter": "python",
   "pygments_lexer": "ipython3",
   "version": "3.9.16"
  }
 },
 "nbformat": 4,
 "nbformat_minor": 2
}
