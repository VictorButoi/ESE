{
 "cells": [
  {
   "cell_type": "code",
   "execution_count": null,
   "metadata": {},
   "outputs": [],
   "source": [
    "import sys\n",
    "sys.path.append('/storage/vbutoi/projects')\n",
    "sys.path.append('/storage/vbutoi/libraries')\n",
    "sys.path.append('/storage/vbutoi/projects/ESE')\n",
    "sys.path.append('/storage/vbutoi/projects/UniverSeg')\n",
    "\n",
    "from ionpy.analysis import ResultsLoader\n",
    "from ese.experiment.experiment import CalibrationExperiment\n",
    "import seaborn as sns\n",
    "sns.set_style(\"darkgrid\")\n",
    "\n",
    "import os \n",
    "os.environ['DATAPATH'] = ':'.join((\n",
    "       '/storage/vbutoi/datasets',\n",
    "))\n",
    "os.environ[\"CUDA_VISIBLE_DEVICES\"] = '1' \n",
    "\n",
    "%load_ext yamlmagic\n",
    "%load_ext autoreload\n",
    "%autoreload 2"
   ]
  },
  {
   "cell_type": "code",
   "execution_count": null,
   "metadata": {},
   "outputs": [],
   "source": [
    "# Results loader object does everything\n",
    "rs = ResultsLoader()\n",
    "root = \"/storage/vbutoi/scratch/ESE\""
   ]
  },
  {
   "cell_type": "code",
   "execution_count": null,
   "metadata": {},
   "outputs": [],
   "source": [
    "path = f\"{root}/WMH_aug_runs\"\n",
    "\n",
    "dfc = rs.load_configs(\n",
    "    path,\n",
    "    properties=False,\n",
    ")\n",
    "\n",
    "df = rs.load_metrics(dfc)"
   ]
  },
  {
   "cell_type": "code",
   "execution_count": null,
   "metadata": {},
   "outputs": [],
   "source": [
    "best_exp = rs.get_experiment(\n",
    "    df=df,\n",
    "    exp_class=CalibrationExperiment,\n",
    "    metric=\"val-dice_score\",\n",
    "    checkpoint=\"max-val-dice_score\",\n",
    "    device=\"cuda\"\n",
    ")"
   ]
  },
  {
   "cell_type": "code",
   "execution_count": null,
   "metadata": {},
   "outputs": [],
   "source": [
    "best_exp.vis_loss_curves(height=6)"
   ]
  },
  {
   "cell_type": "code",
   "execution_count": null,
   "metadata": {},
   "outputs": [],
   "source": [
    "%%yaml dataset_cfg \n",
    "\n",
    "_class: ese.experiment.datasets.WMH\n",
    "annotator: observer_o12\n",
    "axis: 0\n",
    "split: cal \n",
    "num_slices: 1\n",
    "slicing: midslice \n",
    "task: Amsterdam \n",
    "version: 0.2"
   ]
  },
  {
   "cell_type": "code",
   "execution_count": null,
   "metadata": {},
   "outputs": [],
   "source": [
    "from ionpy.experiment.util import absolute_import\n",
    "from torch.utils.data import DataLoader\n",
    "\n",
    "dataset_cls = absolute_import(dataset_cfg.pop(\"_class\"))\n",
    "WMH_Dataset = dataset_cls(**dataset_cfg)\n",
    "wmh_dataloader = DataLoader(WMH_Dataset, batch_size=1, shuffle=False, drop_last=False)"
   ]
  },
  {
   "cell_type": "code",
   "execution_count": null,
   "metadata": {},
   "outputs": [],
   "source": [
    "from ionpy.util.torchutils import to_device\n",
    "import torch\n",
    "from tqdm.notebook import tqdm\n",
    "import einops\n",
    "\n",
    "def get_dataset_perf(\n",
    "        exp, \n",
    "        dataloader, \n",
    "        ):\n",
    "\n",
    "    items = []\n",
    "    with torch.no_grad():\n",
    "        for _, batch in tqdm(enumerate(dataloader), total=len(dataloader)):\n",
    "            \n",
    "            # Get your image label pair and define some regions.\n",
    "            x, y = to_device(batch, exp.device)\n",
    "            # Reshape to a good size\n",
    "            x = einops.rearrange(x, \"b c h w -> (b c) 1 h w\")\n",
    "            y = einops.rearrange(y, \"b c h w -> (b c) 1 h w\")\n",
    "            # Get the prediction\n",
    "            yhat = exp.model(x)  \n",
    "            # Extract predictions\n",
    "            soft_pred = torch.sigmoid(yhat)\n",
    "            # Get the hard prediction\n",
    "            hard_pred = (soft_pred > 0.5).float()\n",
    "            # Wrap it in an item\n",
    "            items.append({\n",
    "                \"image\": x.cpu().squeeze(),\n",
    "                \"label\": y.cpu().squeeze(),\n",
    "                \"conf_map\": soft_pred.cpu().squeeze(),\n",
    "                \"pred_map\": hard_pred.cpu().squeeze(),\n",
    "            })\n",
    "\n",
    "    return items"
   ]
  },
  {
   "cell_type": "code",
   "execution_count": null,
   "metadata": {},
   "outputs": [],
   "source": [
    "# val_perf is a dict where each item is the subj id\n",
    "# with the y, ypred, yloss, ydice\n",
    "predictions_list = get_dataset_perf(\n",
    "    exp=best_exp, \n",
    "    dataloader=wmh_dataloader\n",
    "    )"
   ]
  },
  {
   "cell_type": "code",
   "execution_count": null,
   "metadata": {},
   "outputs": [],
   "source": [
    "%%yaml metric_cfg \n",
    "\n",
    "ECE:\n",
    "    func: ese.experiment.metrics.pixelwise.ECE\n",
    "    color: blue\n",
    "ACE:\n",
    "    func: ese.experiment.metrics.pixelwise.ACE\n",
    "    color: goldenrod\n",
    "Island_ECE:\n",
    "    func: ese.experiment.metrics.pixelwise.Island_ECE \n",
    "    color: lightgreen \n",
    "ReCE:\n",
    "    func: ese.experiment.metrics.regionwise.ReCE\n",
    "    color: green"
   ]
  },
  {
   "cell_type": "code",
   "execution_count": null,
   "metadata": {},
   "outputs": [],
   "source": [
    "from ese.experiment.analysis.diagrams import subject_diagram\n",
    "\n",
    "subject_diagram(\n",
    "    subject_list=predictions_list,\n",
    "    num_bins=10,\n",
    "    metric_cfg=metric_cfg,\n",
    "    class_type=\"Binary\",\n",
    "    bin_weighting=\"proportional\",\n",
    "    show_analysis_plots=False,\n",
    "    num_subjects=10\n",
    ")"
   ]
  },
  {
   "cell_type": "code",
   "execution_count": null,
   "metadata": {},
   "outputs": [],
   "source": [
    "%%yaml reduced_metric_cfg \n",
    "\n",
    "ECE:\n",
    "    func: ese.experiment.metrics.pixelwise.ECE\n",
    "    color: blue\n",
    "ReCE:\n",
    "    func: ese.experiment.metrics.regionwise.ReCE\n",
    "    color: green"
   ]
  },
  {
   "cell_type": "code",
   "execution_count": null,
   "metadata": {},
   "outputs": [],
   "source": [
    "from ese.experiment.analysis.diagrams import aggregate_reliability_diagram\n",
    "\n",
    "aggregate_reliability_diagram(\n",
    "    subject_list=predictions_list,\n",
    "    num_bins=10,\n",
    "    metric_cfg=reduced_metric_cfg,\n",
    "    class_type=\"Binary\",\n",
    "    bin_weighting=\"proportional\",\n",
    ")"
   ]
  },
  {
   "cell_type": "code",
   "execution_count": null,
   "metadata": {},
   "outputs": [],
   "source": [
    "%%yaml reduced_metric_cfg \n",
    "\n",
    "ECE:\n",
    "    func: ese.experiment.metrics.pixelwise.ECE\n",
    "    color: blue\n",
    "ReCE:\n",
    "    func: ese.experiment.metrics.regionwise.ReCE\n",
    "    color: green"
   ]
  },
  {
   "cell_type": "code",
   "execution_count": null,
   "metadata": {},
   "outputs": [],
   "source": [
    "from ese.experiment.analysis.diagrams import score_histogram_diagram \n",
    "\n",
    "score_histogram_diagram(\n",
    "    subject_list=predictions_list,\n",
    "    num_bins=10,\n",
    "    metric_cfg=reduced_metric_cfg,\n",
    "    class_type=\"Binary\",\n",
    "    bin_weighting=\"proportional\",\n",
    ")"
   ]
  }
 ],
 "metadata": {
  "kernelspec": {
   "display_name": "UniverSegTF",
   "language": "python",
   "name": "universegtf"
  },
  "language_info": {
   "codemirror_mode": {
    "name": "ipython",
    "version": 3
   },
   "file_extension": ".py",
   "mimetype": "text/x-python",
   "name": "python",
   "nbconvert_exporter": "python",
   "pygments_lexer": "ipython3",
   "version": "3.9.16"
  },
  "orig_nbformat": 4
 },
 "nbformat": 4,
 "nbformat_minor": 2
}
