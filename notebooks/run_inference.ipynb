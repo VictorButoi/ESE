{
 "cells": [
  {
   "cell_type": "code",
   "execution_count": null,
   "metadata": {},
   "outputs": [],
   "source": [
    "import sys\n",
    "sys.path.append('/storage/vbutoi/projects')\n",
    "sys.path.append('/storage/vbutoi/libraries')\n",
    "sys.path.append('/storage/vbutoi/projects/ESE')\n",
    "sys.path.append('/storage/vbutoi/projects/UniverSeg')\n",
    "\n",
    "import seaborn as sns\n",
    "sns.set_style(\"darkgrid\")\n",
    "\n",
    "import os \n",
    "os.environ['DATAPATH'] = ':'.join((\n",
    "       '/storage/vbutoi/datasets',\n",
    "))\n",
    "os.environ[\"CUDA_VISIBLE_DEVICES\"] = '0,1,2,3' \n",
    "\n",
    "%load_ext yamlmagic\n",
    "\n",
    "%load_ext autoreload\n",
    "%autoreload "
   ]
  },
  {
   "cell_type": "code",
   "execution_count": null,
   "metadata": {},
   "outputs": [],
   "source": [
    "%%yaml wmh_inference_config\n",
    "\n",
    "log:\n",
    "    root: /storage/vbutoi/scratch/ESE\n",
    "    log_interval: 50\n",
    "\n",
    "model:\n",
    "    exp_name: WMH_aug_runs\n",
    "    metric: val-dice_score # for comparison amongst runs of an experiment.\n",
    "    checkpoint: max-val-dice_score\n",
    "    num_workers: 0  \n",
    "\n",
    "dataset:\n",
    "    _class: ese.experiment.datasets.WMH\n",
    "    annotator: observer_o12\n",
    "    axis: 0\n",
    "    data_type: volume\n",
    "    split: '?'\n",
    "    slicing: full \n",
    "    task: '?'\n",
    "    version: 0.2\n",
    "\n",
    "calibration:\n",
    "    class_type: Binary\n",
    "    include_background: True\n",
    "    num_bins: 10\n",
    "    bin_weightings:\n",
    "        - proportional\n",
    "    metrics: \n",
    "        - ACE\n",
    "        - ECE \n",
    "        - ReCE"
   ]
  },
  {
   "cell_type": "code",
   "execution_count": null,
   "metadata": {},
   "outputs": [],
   "source": [
    "%%yaml binarypets_inference_config\n",
    "\n",
    "log:\n",
    "    root: /storage/vbutoi/scratch/ESE\n",
    "    log_interval : 50\n",
    "\n",
    "model:\n",
    "    exp_name: 09_18_23_BinaryPetsPilot\n",
    "    metric: val-dice_score # for comparison amongst runs of an experiment.\n",
    "    checkpoint: max-val-dice_score\n",
    "    num_workers: 0  \n",
    "\n",
    "dataset:\n",
    "    _class: ese.experiment.datasets.BinaryPets\n",
    "    data_type: image\n",
    "    split: '?' \n",
    "    preload: True\n",
    "    version: 0.1\n",
    "\n",
    "calibration:\n",
    "    class_type: Multi-class \n",
    "    include_background: True\n",
    "    num_bins: 10\n",
    "    bin_weightings:\n",
    "        - proportional\n",
    "    metrics: \n",
    "        - ACE\n",
    "        - ECE \n",
    "        - ReCE"
   ]
  },
  {
   "cell_type": "code",
   "execution_count": null,
   "metadata": {},
   "outputs": [],
   "source": [
    "%%yaml metric_cfg \n",
    "\n",
    "cal_metrics:\n",
    "    ECE:\n",
    "        func: ese.experiment.metrics.pixelwise.ECE\n",
    "        color: blue\n",
    "    ACE:\n",
    "        func: ese.experiment.metrics.pixelwise.ACE\n",
    "        color: goldenrod\n",
    "    Island_ECE:\n",
    "        func: ese.experiment.metrics.pixelwise.Island_ECE \n",
    "        color: lightgreen \n",
    "    ReCE:\n",
    "        func: ese.experiment.metrics.regionwise.ReCE\n",
    "        color: green"
   ]
  },
  {
   "cell_type": "code",
   "execution_count": null,
   "metadata": {},
   "outputs": [],
   "source": [
    "from ionpy.util import dict_product, Config\n",
    "\n",
    "# Get the options for WMH\n",
    "##################################################\n",
    "wmh_dataset_options = {\n",
    "    'dataset.split': ['train', 'val', 'cal'],\n",
    "    'dataset.task': ['Singapore', 'Amsterdam']\n",
    "}\n",
    "\n",
    "base_wmh_cfg = Config(wmh_inference_config).update(metric_cfg)\n",
    "\n",
    "wmh_cfgs = []\n",
    "for cfg_update in dict_product(wmh_dataset_options):\n",
    "    new_wmh_cfg = base_wmh_cfg.update(cfg_update)\n",
    "    wmh_cfgs.append(new_wmh_cfg)\n",
    "\n",
    "\n",
    "# Get the options for BinaryPets \n",
    "##################################################\n",
    "binarypets_dataset_options = {\n",
    "    'dataset.split': ['train', 'val', 'cal'],\n",
    "}\n",
    "\n",
    "base_binarypets_cfg = Config(binarypets_inference_config).update(metric_cfg)\n",
    "\n",
    "bp_cfgs = []\n",
    "for cfg_update in dict_product(binarypets_dataset_options):\n",
    "    new_bp_cfg = base_binarypets_cfg.update(cfg_update)\n",
    "    bp_cfgs.append(new_bp_cfg)\n",
    "\n",
    "\n",
    "# Combine the options\n",
    "cfgs = wmh_cfgs + bp_cfgs"
   ]
  },
  {
   "cell_type": "code",
   "execution_count": null,
   "metadata": {},
   "outputs": [],
   "source": [
    "len(cfgs)"
   ]
  },
  {
   "cell_type": "code",
   "execution_count": null,
   "metadata": {},
   "outputs": [],
   "source": [
    "cfgs[0]"
   ]
  },
  {
   "cell_type": "code",
   "execution_count": null,
   "metadata": {},
   "outputs": [],
   "source": [
    "from ese.experiment.analysis.inference import get_cal_stats\n",
    "\n",
    "get_cal_stats(cfgs[0])"
   ]
  },
  {
   "cell_type": "code",
   "execution_count": null,
   "metadata": {},
   "outputs": [],
   "source": [
    "# from ionpy.slite.submit import submit_jobs\n",
    "# from ese.experiment.analysis.inference import get_cal_stats\n",
    "\n",
    "# submit_jobs(\n",
    "#     project=\"ESE\",\n",
    "#     exp_name=\"10_09_23_WMH_and_BP_inference\",\n",
    "#     config_list=cfgs, \n",
    "#     job_func=get_cal_stats\n",
    "#     )"
   ]
  }
 ],
 "metadata": {
  "kernelspec": {
   "display_name": "UniverSegTF",
   "language": "python",
   "name": "universegtf"
  },
  "language_info": {
   "codemirror_mode": {
    "name": "ipython",
    "version": 3
   },
   "file_extension": ".py",
   "mimetype": "text/x-python",
   "name": "python",
   "nbconvert_exporter": "python",
   "pygments_lexer": "ipython3",
   "version": "3.9.16"
  },
  "orig_nbformat": 4
 },
 "nbformat": 4,
 "nbformat_minor": 2
}
