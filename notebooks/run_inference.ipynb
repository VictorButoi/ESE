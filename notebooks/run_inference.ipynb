{
 "cells": [
  {
   "cell_type": "code",
   "execution_count": 1,
   "metadata": {},
   "outputs": [
    {
     "name": "stderr",
     "output_type": "stream",
     "text": [
      "/local/vbutoi/envs/UniverSegTF/lib/python3.9/site-packages/pydantic/_internal/_fields.py:149: UserWarning: Field \"model_outputs\" has conflict with protected namespace \"model_\".\n",
      "\n",
      "You may be able to resolve this warning by setting `model_config['protected_namespaces'] = ()`.\n",
      "  warnings.warn(\n"
     ]
    }
   ],
   "source": [
    "# Misc imports\n",
    "import sys\n",
    "sys.path.append('/storage/vbutoi/projects')\n",
    "sys.path.append('/storage/vbutoi/libraries')\n",
    "sys.path.append('/storage/vbutoi/projects/ESE')\n",
    "sys.path.append('/storage/vbutoi/projects/UniverSeg')\n",
    "import torch\n",
    "torch.set_printoptions(linewidth=200)\n",
    "import seaborn as sns\n",
    "sns.set_style(\"darkgrid\")\n",
    "import os \n",
    "os.environ['DATAPATH'] = ':'.join((\n",
    "       '/storage/vbutoi/datasets',\n",
    "))\n",
    "import yaml\n",
    "from pathlib import Path\n",
    "# Local imports\n",
    "from ese.scripts.utils import get_option_product\n",
    "from ese.experiment.analysis.run_inference import get_cal_stats\n",
    "from ese.experiment.analysis.ensemble_upperbound import get_ensemble_ub\n",
    "from ese.experiment.analysis.analysis_utils.submit_utils import get_ese_inference_configs\n",
    "# Ionpy imports\n",
    "from ionpy.util import Config\n",
    "from ionpy.analysis import ResultsLoader\n",
    "\n",
    "# Define some useful paths.\n",
    "scratch_root = Path(\"/storage/vbutoi/scratch/ESE\")\n",
    "code_root = Path(\"/storage/vbutoi/projects/ESE\")\n",
    "rs = ResultsLoader()\n",
    "\n",
    "# For using code without restarting.\n",
    "%load_ext autoreload\n",
    "%autoreload 2\n",
    "# For using yaml configs.\n",
    "%load_ext yamlmagic"
   ]
  },
  {
   "cell_type": "code",
   "execution_count": 2,
   "metadata": {},
   "outputs": [
    {
     "data": {
      "application/javascript": "\n            require(\n                [\n                    \"notebook/js/codecell\",\n                    \"codemirror/mode/yaml/yaml\"\n                ],\n                function(cc){\n                    cc.CodeCell.options_default.highlight_modes.magic_yaml = {\n                        reg: [\"^%%yaml\"]\n                    }\n                }\n            );\n            ",
      "text/plain": [
       "<IPython.core.display.Javascript object>"
      ]
     },
     "metadata": {},
     "output_type": "display_data"
    }
   ],
   "source": [
    "%%yaml inference_config\n",
    "\n",
    "log:\n",
    "    root: '?'\n",
    "    min_fg_pixels: '?' \n",
    "    gether_inference_stats: '?'\n",
    "    summary_compute_global_metrics: '?' \n",
    "    log_interval: 20 \n",
    "    log_image_stats: True \n",
    "    log_pixel_stats: True \n",
    "    track_ensemble_member_scores: True \n",
    "\n",
    "experiment:\n",
    "    exp_root: '?'\n",
    "    seed: 42\n",
    "\n",
    "data:\n",
    "    splits: ('val', 'cal')\n",
    "    preload: False \n",
    "\n",
    "dataloader:\n",
    "    batch_size: 1 \n",
    "    num_workers: 0\n",
    "    pin_memory: True \n",
    "\n",
    "model:\n",
    "    calibrator: '?'\n",
    "    checkpoint: '?' \n",
    "    pretrained_exp_root : None\n",
    "    pretrained_select_metric: \"val-dice_score\""
   ]
  },
  {
   "cell_type": "code",
   "execution_count": 3,
   "metadata": {},
   "outputs": [
    {
     "data": {
      "application/javascript": "\n            require(\n                [\n                    \"notebook/js/codecell\",\n                    \"codemirror/mode/yaml/yaml\"\n                ],\n                function(cc){\n                    cc.CodeCell.options_default.highlight_modes.magic_yaml = {\n                        reg: [\"^%%yaml\"]\n                    }\n                }\n            );\n            ",
      "text/plain": [
       "<IPython.core.display.Javascript object>"
      ]
     },
     "metadata": {},
     "output_type": "display_data"
    }
   ],
   "source": [
    "%%yaml ensemble_cfg\n",
    "\n",
    "ensemble:\n",
    "    combine_fn: '?'\n",
    "    combine_quantity: '?'\n",
    "    member_temps: None\n",
    "    member_w_metric: None\n",
    "    member_paths: None\n",
    "    normalize: False"
   ]
  },
  {
   "cell_type": "code",
   "execution_count": 4,
   "metadata": {},
   "outputs": [],
   "source": [
    "######################################3\n",
    "exp_name = '03_21_24_RandomCircles_TwinEnsembleTempExp'\n",
    "group_dict = {\n",
    "    \"dataset\": \"Shapes\",\n",
    "    \"exp_group\": exp_name,\n",
    "    \"base_models_group\": \"03_13_24_RandomCircles_BigEnsemble\",\n",
    "    \"calibrated_models_group\": \"03_20_24_RandomCircles_BigEnsemble_Dice_Calibrated\"\n",
    "}"
   ]
  },
  {
   "cell_type": "code",
   "execution_count": 5,
   "metadata": {},
   "outputs": [
    {
     "data": {
      "application/javascript": "\n            require(\n                [\n                    \"notebook/js/codecell\",\n                    \"codemirror/mode/yaml/yaml\"\n                ],\n                function(cc){\n                    cc.CodeCell.options_default.highlight_modes.magic_yaml = {\n                        reg: [\"^%%yaml\"]\n                    }\n                }\n            );\n            ",
      "text/plain": [
       "<IPython.core.display.Javascript object>"
      ]
     },
     "metadata": {},
     "output_type": "display_data"
    }
   ],
   "source": [
    "%%yaml base_cfg_args\n",
    "\n",
    "exp_opts:\n",
    "    log.gether_inference_stats: [True]\n",
    "    log.summary_compute_global_metrics: [True]\n",
    "    data.subsplit: [0]\n",
    "\n",
    "submit_opts:\n",
    "    seed: 42\n",
    "    max_ensemble_samples: 5\n",
    "    num_ens_membs:\n",
    "        - 2\n",
    "        # - 4\n",
    "        # - 8\n",
    "        # - 12\n",
    "        # - 16\n"
   ]
  },
  {
   "cell_type": "code",
   "execution_count": 6,
   "metadata": {},
   "outputs": [
    {
     "data": {
      "application/javascript": "\n            require(\n                [\n                    \"notebook/js/codecell\",\n                    \"codemirror/mode/yaml/yaml\"\n                ],\n                function(cc){\n                    cc.CodeCell.options_default.highlight_modes.magic_yaml = {\n                        reg: [\"^%%yaml\"]\n                    }\n                }\n            );\n            ",
      "text/plain": [
       "<IPython.core.display.Javascript object>"
      ]
     },
     "metadata": {},
     "output_type": "display_data"
    }
   ],
   "source": [
    "%%yaml inference_config_opts\n",
    "\n",
    "calibrator:\n",
    "    - Uncalibrated\n",
    "    # - TempScaling\n",
    "    # - LTS\n",
    "\n",
    "do_ensemble:\n",
    "    - True\n",
    "    # - False\n",
    "\n",
    "member_temps:\n",
    "    - (1.0, 1.0)\n",
    "    - (0.1, 0.1)\n",
    "    - (0.1, 9.9)\n",
    "    - (9.9, 0.1)\n",
    "    - (9.9, 9.9)"
   ]
  },
  {
   "cell_type": "markdown",
   "metadata": {},
   "source": [
    "### Standard Calibrators."
   ]
  },
  {
   "cell_type": "code",
   "execution_count": 7,
   "metadata": {},
   "outputs": [
    {
     "name": "stdout",
     "output_type": "stream",
     "text": [
      "Set seed: 42\n"
     ]
    }
   ],
   "source": [
    "inference_func = get_cal_stats\n",
    "# Get the configs for the different runs.\n",
    "option_set = get_ese_inference_configs(\n",
    "    group_dict=group_dict,\n",
    "    inf_cfg_opts=inference_config_opts,\n",
    "    base_cfg_args=base_cfg_args\n",
    ")"
   ]
  },
  {
   "cell_type": "code",
   "execution_count": 8,
   "metadata": {},
   "outputs": [
    {
     "data": {
      "text/plain": [
       "25"
      ]
     },
     "execution_count": 8,
     "metadata": {},
     "output_type": "execute_result"
    }
   ],
   "source": [
    "len(option_set)"
   ]
  },
  {
   "cell_type": "markdown",
   "metadata": {},
   "source": [
    "### Binning Calibrators"
   ]
  },
  {
   "cell_type": "code",
   "execution_count": 9,
   "metadata": {},
   "outputs": [],
   "source": [
    "# do_ensemble = True \n",
    "# inference_func = get_cal_stats\n",
    "# # Get the configs for the different runs.\n",
    "# option_set = get_ese_inference_configs(\n",
    "#     group_dict=group_dict,\n",
    "#     calibrators_list=[\n",
    "#         'HistogramBinning',\n",
    "#         'LocalHistogramBinning',\n",
    "#         'NectarBinning',\n",
    "#         'SoftNectarBinning'\n",
    "#     ], \n",
    "#     do_ensemble=do_ensemble, \n",
    "#     cal_stats_splits=[\n",
    "#         'val',\n",
    "#         'cal'\n",
    "#     ],\n",
    "#     additional_args=additional_args\n",
    "# )"
   ]
  },
  {
   "cell_type": "markdown",
   "metadata": {},
   "source": [
    "### Upper Bounds"
   ]
  },
  {
   "cell_type": "code",
   "execution_count": 10,
   "metadata": {},
   "outputs": [],
   "source": [
    "# # # Get the configs for computing the upepr bounds\n",
    "# inference_func = get_ensemble_ub\n",
    "# option_set = get_ese_inference_configs(\n",
    "#     group_dict=group_dict,\n",
    "#     do_ensemble=True, \n",
    "#     ensemble_upper_bound=True,\n",
    "#     calibrators_list=[\n",
    "#         'Uncalibrated',\n",
    "#     ], \n",
    "#     ens_cfg_options=[\n",
    "#         ('upperbound', 'probs')\n",
    "#     ]\n",
    "# )"
   ]
  },
  {
   "cell_type": "code",
   "execution_count": 11,
   "metadata": {},
   "outputs": [],
   "source": [
    "# Load the inference cfg from local.\n",
    "##################################################\n",
    "inf_cfg_root = code_root / \"ese\" / \"experiment\" / \"configs\" / \"inference\"\n",
    "\n",
    "##################################################\n",
    "with open(inf_cfg_root / f\"{group_dict['dataset']}.yaml\", 'r') as file:\n",
    "    dataset_inference_cfg = yaml.safe_load(file)\n",
    "with open(inf_cfg_root / \"Calibration_Metrics.yaml\", 'r') as file:\n",
    "    cal_metrics_cfg = yaml.safe_load(file)\n",
    "\n",
    "##################################################\n",
    "base_cfg = Config(inference_config).update([dataset_inference_cfg, cal_metrics_cfg, ensemble_cfg])\n",
    "# Get the configs\n",
    "cfgs = get_option_product(exp_name, option_set, base_cfg)"
   ]
  },
  {
   "cell_type": "markdown",
   "metadata": {},
   "source": [
    "## Running Jobs"
   ]
  },
  {
   "cell_type": "code",
   "execution_count": 12,
   "metadata": {},
   "outputs": [],
   "source": [
    "from ese.experiment.analysis.run_inference import get_cal_stats"
   ]
  },
  {
   "cell_type": "code",
   "execution_count": 13,
   "metadata": {},
   "outputs": [],
   "source": [
    "# from ese.experiment.experiment import run_ese_exp\n",
    "\n",
    "# ###### Run individual jobs\n",
    "# run_ese_exp(\n",
    "#     config=cfgs[4], \n",
    "#     job_func=get_cal_stats,\n",
    "#     run_name='debug',\n",
    "#     show_examples=True,\n",
    "#     gpu='3',\n",
    "# ) "
   ]
  },
  {
   "cell_type": "code",
   "execution_count": 14,
   "metadata": {},
   "outputs": [
    {
     "name": "stdout",
     "output_type": "stream",
     "text": [
      "Submitted job id: 3068937 on gpu: 0.\n",
      "Submitted job id: 3069010 on gpu: 1.\n",
      "Submitted job id: 3069117 on gpu: 2.\n",
      "Submitted job id: 3069239 on gpu: 3.\n",
      "Submitted job id: 3069363 on gpu: 0.\n",
      "Submitted job id: 3069475 on gpu: 1.\n",
      "Submitted job id: 3069633 on gpu: 2.\n",
      "Submitted job id: 3069741 on gpu: 3.\n",
      "Submitted job id: 3069866 on gpu: 0.\n",
      "Submitted job id: 3069988 on gpu: 1.\n",
      "Submitted job id: 3070111 on gpu: 2.\n",
      "Submitted job id: 3070235 on gpu: 3.\n",
      "Submitted job id: 3070358 on gpu: 0.\n",
      "Submitted job id: 3070450 on gpu: 1.\n",
      "Submitted job id: 3070572 on gpu: 2.\n",
      "Submitted job id: 3070687 on gpu: 3.\n",
      "Submitted job id: 3070810 on gpu: 0.\n",
      "Submitted job id: 3070930 on gpu: 1.\n",
      "Submitted job id: 3071054 on gpu: 2.\n",
      "Submitted job id: 3071159 on gpu: 3.\n",
      "Submitted job id: 3071281 on gpu: 0.\n",
      "Submitted job id: 3071404 on gpu: 1.\n",
      "Submitted job id: 3071526 on gpu: 2.\n",
      "Submitted job id: 3071649 on gpu: 3.\n",
      "Submitted job id: 3071771 on gpu: 0.\n"
     ]
    }
   ],
   "source": [
    "from ese.experiment.experiment import submit_ese_exps \n",
    "\n",
    "#### Run Batch Jobs\n",
    "submit_ese_exps(\n",
    "    config_list=cfgs,\n",
    "    job_func=get_cal_stats,\n",
    "    available_gpus=['0', '1', '2', '3'],\n",
    "    # available_gpus=['2', '3', '4', '5', '6', '7'],\n",
    ")"
   ]
  }
 ],
 "metadata": {
  "kernelspec": {
   "display_name": "UniverSegTF",
   "language": "python",
   "name": "universegtf"
  },
  "language_info": {
   "codemirror_mode": {
    "name": "ipython",
    "version": 3
   },
   "file_extension": ".py",
   "mimetype": "text/x-python",
   "name": "python",
   "nbconvert_exporter": "python",
   "pygments_lexer": "ipython3",
   "version": "3.9.16"
  },
  "orig_nbformat": 4
 },
 "nbformat": 4,
 "nbformat_minor": 2
}
