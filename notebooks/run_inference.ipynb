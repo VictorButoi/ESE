{
 "cells": [
  {
   "cell_type": "code",
   "execution_count": 1,
   "metadata": {},
   "outputs": [],
   "source": [
    "import sys\n",
    "sys.path.append('/storage/vbutoi/projects')\n",
    "sys.path.append('/storage/vbutoi/libraries')\n",
    "sys.path.append('/storage/vbutoi/projects/ESE')\n",
    "sys.path.append('/storage/vbutoi/projects/UniverSeg')\n",
    "import torch\n",
    "torch.set_printoptions(linewidth=200)\n",
    "import seaborn as sns\n",
    "sns.set_style(\"darkgrid\")\n",
    "\n",
    "import os \n",
    "os.environ['DATAPATH'] = ':'.join((\n",
    "       '/storage/vbutoi/datasets',\n",
    "))\n",
    "\n",
    "# Results loader object does everything\n",
    "from ionpy.analysis import ResultsLoader\n",
    "from pathlib import Path\n",
    "root = Path(\"/storage/vbutoi/scratch/ESE\")\n",
    "code_root = Path(\"/storage/vbutoi/projects/ESE\")\n",
    "rs = ResultsLoader()\n",
    "\n",
    "\n",
    "# For using code without restarting.\n",
    "%load_ext autoreload\n",
    "%autoreload \n",
    "# For using yaml configs.\n",
    "%load_ext yamlmagic"
   ]
  },
  {
   "cell_type": "code",
   "execution_count": 2,
   "metadata": {},
   "outputs": [
    {
     "data": {
      "application/javascript": "\n            require(\n                [\n                    \"notebook/js/codecell\",\n                    \"codemirror/mode/yaml/yaml\"\n                ],\n                function(cc){\n                    cc.CodeCell.options_default.highlight_modes.magic_yaml = {\n                        reg: [\"^%%yaml\"]\n                    }\n                }\n            );\n            ",
      "text/plain": [
       "<IPython.core.display.Javascript object>"
      ]
     },
     "metadata": {},
     "output_type": "display_data"
    }
   ],
   "source": [
    "%%yaml inference_config\n",
    "\n",
    "experiment:\n",
    "    exp_root: '?'\n",
    "    seed: 42\n",
    "\n",
    "calibration:\n",
    "    num_bins: 15\n",
    "    neighborhood_width: 3\n",
    "    square_diff: False \n",
    "\n",
    "data:\n",
    "    split: cal \n",
    "    preload: '?' \n",
    "\n",
    "dataloader:\n",
    "    batch_size: 1 \n",
    "    num_workers: 0\n",
    "    pin_memory: True \n",
    "\n",
    "log:\n",
    "    root: '?'\n",
    "    log_interval: 10 \n",
    "    show_examples: '?' \n",
    "    log_image_stats: '?' \n",
    "    log_pixel_stats: '?' "
   ]
  },
  {
   "cell_type": "code",
   "execution_count": 3,
   "metadata": {},
   "outputs": [
    {
     "data": {
      "application/javascript": "\n            require(\n                [\n                    \"notebook/js/codecell\",\n                    \"codemirror/mode/yaml/yaml\"\n                ],\n                function(cc){\n                    cc.CodeCell.options_default.highlight_modes.magic_yaml = {\n                        reg: [\"^%%yaml\"]\n                    }\n                }\n            );\n            ",
      "text/plain": [
       "<IPython.core.display.Javascript object>"
      ]
     },
     "metadata": {},
     "output_type": "display_data"
    }
   ],
   "source": [
    "%%yaml model_cfg\n",
    "\n",
    "model:\n",
    "    pretrained_exp_root : '?' \n",
    "    calibrated: '?'\n",
    "    checkpoint: '?' \n",
    "    ensemble: '?' \n",
    "    ensemble_cfg: '?'\n",
    "    ensemble_w_metric: '?'\n",
    "    pretrained_select_metric: \"val-dice_score\""
   ]
  },
  {
   "cell_type": "code",
   "execution_count": 4,
   "metadata": {},
   "outputs": [
    {
     "data": {
      "application/javascript": "\n            require(\n                [\n                    \"notebook/js/codecell\",\n                    \"codemirror/mode/yaml/yaml\"\n                ],\n                function(cc){\n                    cc.CodeCell.options_default.highlight_modes.magic_yaml = {\n                        reg: [\"^%%yaml\"]\n                    }\n                }\n            );\n            ",
      "text/plain": [
       "<IPython.core.display.Javascript object>"
      ]
     },
     "metadata": {},
     "output_type": "display_data"
    }
   ],
   "source": [
    "%%yaml cal_metrics_cfg \n",
    "\n",
    "image_cal_metrics:\n",
    "    - Image_ECE:\n",
    "        _fn: ese.experiment.metrics.ece.image_ece_loss\n",
    "    - Image_Edge-ECE:\n",
    "        _fn: ese.experiment.metrics.ece.image_edge_ece_loss\n",
    "    - Image_CW-ECE:\n",
    "        _fn: ese.experiment.metrics.ece.image_cw_ece_loss\n",
    "    - Image_ELM:\n",
    "        _fn: ese.experiment.metrics.elm.image_elm_loss\n",
    "    - Image_Edge-ELM:\n",
    "        _fn: ese.experiment.metrics.elm.image_edge_elm_loss\n",
    "    - Image_Foreground-ECE:\n",
    "        _fn: ese.experiment.metrics.ece.image_ece_loss\n",
    "        ignore_index: 0\n",
    "    - Image_Foreground-Edge-ECE:\n",
    "        _fn: ese.experiment.metrics.ece.image_edge_ece_loss\n",
    "        ignore_index: 0\n",
    "    - Image_Foreground-CW-ECE:\n",
    "        _fn: ese.experiment.metrics.ece.image_cw_ece_loss\n",
    "        ignore_index: 0\n",
    "    - Image_Foreground-ELM:\n",
    "        _fn: ese.experiment.metrics.elm.image_elm_loss\n",
    "        ignore_index: 0\n",
    "    - Image_Foreground-Edge-ELM:\n",
    "        _fn: ese.experiment.metrics.elm.image_edge_elm_loss\n",
    "        ignore_index: 0\n",
    "\n",
    "# Define global metrics when you want to verify that these are the same as the image\n",
    "# based metrics, per image.\n",
    "global_cal_metrics:\n",
    "    - ECE:\n",
    "        _fn: ese.experiment.metrics.ece.ece_loss\n",
    "    - Edge-ECE:\n",
    "        _fn: ese.experiment.metrics.ece.edge_ece_loss\n",
    "    - CW-ECE:\n",
    "        _fn: ese.experiment.metrics.ece.cw_ece_loss\n",
    "    - ELM:\n",
    "        _fn: ese.experiment.metrics.elm.elm_loss\n",
    "    - Edge-ELM:\n",
    "        _fn: ese.experiment.metrics.elm.edge_elm_loss\n",
    "    - Foreground-ECE:\n",
    "        _fn: ese.experiment.metrics.ece.ece_loss\n",
    "        ignore_index: 0\n",
    "    - Foreground-Edge-ECE:\n",
    "        _fn: ese.experiment.metrics.ece.edge_ece_loss\n",
    "        ignore_index: 0\n",
    "    - Foreground-CW-ECE:\n",
    "        _fn: ese.experiment.metrics.ece.cw_ece_loss\n",
    "        ignore_index: 0\n",
    "    - Foreground-ELM:\n",
    "        _fn: ese.experiment.metrics.elm.elm_loss\n",
    "        ignore_index: 0\n",
    "    - Foreground-Edge-ELM:\n",
    "        _fn: ese.experiment.metrics.elm.edge_elm_loss\n",
    "        ignore_index: 0"
   ]
  },
  {
   "cell_type": "code",
   "execution_count": 5,
   "metadata": {},
   "outputs": [],
   "source": [
    "from typing import List, Optional\n",
    "from ese.scripts.utils import gather_exp_paths\n",
    "\n",
    "\n",
    "def get_ese_inference_configs(\n",
    "    group_dict: dict,\n",
    "    calibrators_list: List[str], \n",
    "    do_ensemble: bool, \n",
    "    log_image_stats: bool = True,\n",
    "    log_pixel_stats: bool = True,\n",
    "    show_examples: bool = False,\n",
    "    ensemble_upper_bound: bool = False,\n",
    "    ens_cfg_options: Optional[List[tuple]] = None,\n",
    "    ens_w_metric_list: Optional[List[str]] = ['None'],\n",
    "):\n",
    "    if not do_ensemble:\n",
    "        assert ens_w_metric_list == ['None'], \"No weighting can be provided if no ensemble.\"\n",
    "        assert ens_cfg_options == None, \"No ensemble config can be provided if no ensemble.\"\n",
    "        assert not ensemble_upper_bound, \"No ensemble upper bound can be provided if no ensemble.\"\n",
    "\n",
    "    if ens_cfg_options is None:\n",
    "        ens_cfg_options = [None]\n",
    "\n",
    "    calibrator_option_list = []\n",
    "    for calibrator in calibrators_list:\n",
    "        for ensemble_w_metric in ens_w_metric_list:\n",
    "            model_calibrated = calibrator != \"Uncalibrated\"\n",
    "            # Define the paths for the uncailbrated networks.\n",
    "            ##################################################\n",
    "            if calibrator == \"Uncalibrated\":\n",
    "                ensemble_root = f\"/storage/vbutoi/scratch/ESE/training/{group_dict['base_models_group']}\"\n",
    "                checkpoint = \"max-val-dice_score\" \n",
    "            # Define the paths for the calibrated networks.\n",
    "            ##################################################\n",
    "            else:\n",
    "                ensemble_root = f\"/storage/vbutoi/scratch/ESE/calibration/{group_dict['calibrated_models_group']}/Individual_{calibrator}\"\n",
    "                checkpoint = \"min-val-ece_loss\"\n",
    "\n",
    "            # Set a few things that will be consistent for all runs.\n",
    "            ##################################################\n",
    "            exp_root = root / \"inference\" / group_dict['exp_group']\n",
    "\n",
    "            default_config_options = {\n",
    "                'experiment.exp_root': [str(exp_root)],\n",
    "                'model.checkpoint': [checkpoint],\n",
    "                'model.calibrated': [model_calibrated],\n",
    "                'data.preload': [group_dict['preload']],\n",
    "                'log.show_examples': [show_examples],\n",
    "                'log.log_image_stats': [log_image_stats],\n",
    "                'log.log_pixel_stats': [log_pixel_stats],\n",
    "            }\n",
    "            # Make presets for the different runnning configurations.\n",
    "            ##################################################\n",
    "            # If you want to run inference on ensembles, use this.\n",
    "            if do_ensemble:\n",
    "                if ensemble_upper_bound:\n",
    "                    log_root = str(exp_root / f\"ensemble_upper_bounds\")\n",
    "                else:\n",
    "                    log_root = str(exp_root / f\"{group_dict['dataset']}_Ensemble_{calibrator}\")\n",
    "                advanced_args = {\n",
    "                    'log.root': [log_root],\n",
    "                    'model.pretrained_exp_root': [ensemble_root],\n",
    "                    'model.ensemble': [True],\n",
    "                    'model.ensemble_w_metric': [ensemble_w_metric],\n",
    "                    'model.ensemble_cfg': ens_cfg_options \n",
    "                }\n",
    "            # If you want to run inference on individual networks, use this.\n",
    "            else:\n",
    "                advanced_args = {\n",
    "                    'log.root': [str(exp_root / f\"{group_dict['dataset']}_Individual_{calibrator}\")],\n",
    "                    'model.pretrained_exp_root': gather_exp_paths(ensemble_root), # Note this is a list of train exp paths.\n",
    "                    'model.ensemble': [False],\n",
    "                    'model.ensemble_cfg': ens_cfg_options,\n",
    "                    'model.ensemble_w_metric': [None]\n",
    "                }\n",
    "            # Combine the default and advanced arguments.\n",
    "            default_config_options.update(advanced_args)\n",
    "            # Append these to the list of configs and roots.\n",
    "            calibrator_option_list.append(default_config_options)\n",
    "    # Return the list of different configs.\n",
    "    return calibrator_option_list"
   ]
  },
  {
   "cell_type": "code",
   "execution_count": 6,
   "metadata": {},
   "outputs": [],
   "source": [
    "# Calibrators\n",
    "# - Uncalibrated \n",
    "# - Vanilla \n",
    "# - TempScaling\n",
    "# - VectorScaling\n",
    "# - LTS\n",
    "# - NectarScaling\n",
    "\n",
    "# Ensemble Weightings\n",
    "# - None\n",
    "# - val loss\n",
    "# - val dice\n",
    "# - val ece\n",
    "# - val edge ece\n",
    "# - val elm"
   ]
  },
  {
   "cell_type": "code",
   "execution_count": 7,
   "metadata": {},
   "outputs": [],
   "source": [
    "exp_name = '01_28_24_CityScapes_Corrected' \n",
    "group_dict = {\n",
    "    \"dataset\": \"CityScapes\",\n",
    "    \"exp_group\": exp_name,\n",
    "    \"base_models_group\": \"01_25_24_CityScapes_Dice\",\n",
    "    \"calibrated_models_group\": \"01_26_24_CityScapes_Ensemble\",\n",
    "    \"preload\": False\n",
    "}\n",
    "# Get the configs for the different runs.\n",
    "dataset_options = get_ese_inference_configs(\n",
    "    group_dict=group_dict,\n",
    "    do_ensemble=True, \n",
    "    ensemble_upper_bound=True,\n",
    "    calibrators_list=[\n",
    "        'Uncalibrated',\n",
    "        # 'Vanilla',\n",
    "        # 'TempScaling',\n",
    "        # 'VectorScaling',\n",
    "        # 'LTS',\n",
    "        # 'NectarScaling'\n",
    "    ], \n",
    "    # ens_cfg_options=[\n",
    "    #     ('mean', 'logits'), \n",
    "    #     ('mean', 'probs'), \n",
    "    #     ('product', 'probs')\n",
    "    # ],\n",
    "    ens_cfg_options=[\n",
    "        ('upper_bound', 'probs')\n",
    "    ],\n",
    "    # ens_w_metric_list=[\n",
    "    #     'None',\n",
    "    # ],\n",
    ")"
   ]
  },
  {
   "cell_type": "code",
   "execution_count": 8,
   "metadata": {},
   "outputs": [],
   "source": [
    "from ese.scripts.utils import get_option_product\n",
    "from ionpy.util import Config\n",
    "import yaml\n",
    "\n",
    "# Load the inference cfg from local.\n",
    "##################################################\n",
    "with open(code_root / \"ese\" / \"experiment\" / \"configs\" / \"inference\" / f\"{group_dict['dataset']}.yaml\", 'r') as file:\n",
    "    dataset_inference_cfg = yaml.safe_load(file)\n",
    "##################################################\n",
    "base_cfg = Config(inference_config).update([model_cfg, cal_metrics_cfg, dataset_inference_cfg])\n",
    "# base_cfg = Config(inference_config).update([model_cfg, metrics_cfg])\n",
    "\n",
    "# Get the configs\n",
    "cfgs = get_option_product(exp_name, dataset_options, base_cfg)"
   ]
  },
  {
   "cell_type": "code",
   "execution_count": 9,
   "metadata": {},
   "outputs": [
    {
     "data": {
      "text/plain": [
       "1"
      ]
     },
     "execution_count": 9,
     "metadata": {},
     "output_type": "execute_result"
    }
   ],
   "source": [
    "len(cfgs)"
   ]
  },
  {
   "cell_type": "markdown",
   "metadata": {},
   "source": [
    "## Running Jobs"
   ]
  },
  {
   "cell_type": "code",
   "execution_count": 10,
   "metadata": {},
   "outputs": [
    {
     "name": "stderr",
     "output_type": "stream",
     "text": [
      "/local/vbutoi/envs/UniverSegTF/lib/python3.9/site-packages/pydantic/_internal/_fields.py:149: UserWarning: Field \"model_outputs\" has conflict with protected namespace \"model_\".\n",
      "\n",
      "You may be able to resolve this warning by setting `model_config['protected_namespaces'] = ()`.\n",
      "  warnings.warn(\n"
     ]
    }
   ],
   "source": [
    "from ese.experiment.experiment import run_ese_exp, submit_ese_exps\n",
    "from ese.experiment.analysis.run_inference import get_cal_stats"
   ]
  },
  {
   "cell_type": "code",
   "execution_count": 11,
   "metadata": {},
   "outputs": [],
   "source": [
    "# ###### Run individual jobs\n",
    "# run_ese_exp(\n",
    "#     config=cfgs[0], \n",
    "#     job_func=get_cal_stats,\n",
    "#     run_name='debug',\n",
    "#     gpu='0',\n",
    "# ) "
   ]
  },
  {
   "cell_type": "code",
   "execution_count": 12,
   "metadata": {},
   "outputs": [],
   "source": [
    "# ####### Run Batch Jobs\n",
    "# submit_ese_exps(\n",
    "#     config_list=cfgs,\n",
    "#     job_func=get_cal_stats,\n",
    "#     available_gpus=['0', '1', '2', '3']\n",
    "# )"
   ]
  },
  {
   "cell_type": "markdown",
   "metadata": {},
   "source": [
    "## Here we run upper-bounds."
   ]
  },
  {
   "cell_type": "code",
   "execution_count": 13,
   "metadata": {},
   "outputs": [],
   "source": [
    "from ese.experiment.analysis.ensemble_upperbound import get_ensemble_ub"
   ]
  },
  {
   "cell_type": "code",
   "execution_count": 14,
   "metadata": {},
   "outputs": [],
   "source": [
    "# ###### Run individual jobs\n",
    "# run_ese_exp(\n",
    "#     config=cfgs[0], \n",
    "#     job_func=get_ensemble_ub,\n",
    "#     run_name='debug',\n",
    "#     gpu='0',\n",
    "# ) "
   ]
  },
  {
   "cell_type": "code",
   "execution_count": 15,
   "metadata": {},
   "outputs": [
    {
     "name": "stdout",
     "output_type": "stream",
     "text": [
      "Submitted job id: 3309243 on gpu: 0.\n"
     ]
    }
   ],
   "source": [
    "####### Run Batch Jobs\n",
    "submit_ese_exps(\n",
    "    config_list=cfgs,\n",
    "    job_func=get_ensemble_ub,\n",
    "    available_gpus=['0', '1', '2', '3']\n",
    ")"
   ]
  }
 ],
 "metadata": {
  "kernelspec": {
   "display_name": "UniverSegTF",
   "language": "python",
   "name": "universegtf"
  },
  "language_info": {
   "codemirror_mode": {
    "name": "ipython",
    "version": 3
   },
   "file_extension": ".py",
   "mimetype": "text/x-python",
   "name": "python",
   "nbconvert_exporter": "python",
   "pygments_lexer": "ipython3",
   "version": "3.9.16"
  },
  "orig_nbformat": 4
 },
 "nbformat": 4,
 "nbformat_minor": 2
}
