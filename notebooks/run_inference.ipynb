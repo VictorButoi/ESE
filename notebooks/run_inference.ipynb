{
 "cells": [
  {
   "cell_type": "code",
   "execution_count": 1,
   "metadata": {},
   "outputs": [
    {
     "name": "stderr",
     "output_type": "stream",
     "text": [
      "/storage/vbutoi/libraries/pylot/pandas/register.py:47: UserWarning: registration of accessor <class 'pylot.pandas.register.register_series_method.<locals>.inner.<locals>.AccessorMethod'> under name 'fillNA' for type <class 'pandas.core.series.Series'> is overriding a preexisting attribute with the same name.\n",
      "  register_series_accessor(method.__name__)(AccessorMethod)\n",
      "/storage/vbutoi/libraries/pylot/pandas/register.py:47: UserWarning: registration of accessor <class 'pylot.pandas.register.register_series_method.<locals>.inner.<locals>.AccessorMethod'> under name 'isNA' for type <class 'pandas.core.series.Series'> is overriding a preexisting attribute with the same name.\n",
      "  register_series_accessor(method.__name__)(AccessorMethod)\n",
      "/storage/vbutoi/libraries/pylot/pandas/register.py:47: UserWarning: registration of accessor <class 'pylot.pandas.register.register_series_method.<locals>.inner.<locals>.AccessorMethod'> under name 'notNA' for type <class 'pandas.core.series.Series'> is overriding a preexisting attribute with the same name.\n",
      "  register_series_accessor(method.__name__)(AccessorMethod)\n",
      "/storage/vbutoi/libraries/pylot/pandas/register.py:47: UserWarning: registration of accessor <class 'pylot.pandas.register.register_series_method.<locals>.inner.<locals>.AccessorMethod'> under name 'is_constant' for type <class 'pandas.core.series.Series'> is overriding a preexisting attribute with the same name.\n",
      "  register_series_accessor(method.__name__)(AccessorMethod)\n",
      "/storage/vbutoi/libraries/pylot/pandas/register.py:26: UserWarning: registration of accessor <class 'pylot.pandas.register.register_dataframe_method.<locals>.inner.<locals>.AccessorMethod'> under name 'drop_constant' for type <class 'pandas.core.frame.DataFrame'> is overriding a preexisting attribute with the same name.\n",
      "  register_dataframe_accessor(method.__name__)(AccessorMethod)\n",
      "/storage/vbutoi/libraries/pylot/pandas/register.py:26: UserWarning: registration of accessor <class 'pylot.pandas.register.register_dataframe_method.<locals>.inner.<locals>.AccessorMethod'> under name 'constants' for type <class 'pandas.core.frame.DataFrame'> is overriding a preexisting attribute with the same name.\n",
      "  register_dataframe_accessor(method.__name__)(AccessorMethod)\n",
      "/storage/vbutoi/libraries/pylot/pandas/register.py:26: UserWarning: registration of accessor <class 'pylot.pandas.register.register_dataframe_method.<locals>.inner.<locals>.AccessorMethod'> under name 'to_categories' for type <class 'pandas.core.frame.DataFrame'> is overriding a preexisting attribute with the same name.\n",
      "  register_dataframe_accessor(method.__name__)(AccessorMethod)\n",
      "/storage/vbutoi/libraries/pylot/pandas/register.py:26: UserWarning: registration of accessor <class 'pylot.pandas.register.register_dataframe_method.<locals>.inner.<locals>.AccessorMethod'> under name 'select' for type <class 'pandas.core.frame.DataFrame'> is overriding a preexisting attribute with the same name.\n",
      "  register_dataframe_accessor(method.__name__)(AccessorMethod)\n",
      "/storage/vbutoi/libraries/pylot/pandas/register.py:26: UserWarning: registration of accessor <class 'pylot.pandas.register.register_dataframe_method.<locals>.inner.<locals>.AccessorMethod'> under name 'augment' for type <class 'pandas.core.frame.DataFrame'> is overriding a preexisting attribute with the same name.\n",
      "  register_dataframe_accessor(method.__name__)(AccessorMethod)\n",
      "/storage/vbutoi/libraries/pylot/pandas/register.py:26: UserWarning: registration of accessor <class 'pylot.pandas.register.register_dataframe_method.<locals>.inner.<locals>.AccessorMethod'> under name 'broadcast' for type <class 'pandas.core.frame.DataFrame'> is overriding a preexisting attribute with the same name.\n",
      "  register_dataframe_accessor(method.__name__)(AccessorMethod)\n",
      "/storage/vbutoi/libraries/pylot/pandas/register.py:26: UserWarning: registration of accessor <class 'pylot.pandas.register.register_dataframe_method.<locals>.inner.<locals>.AccessorMethod'> under name 'unique_per_col' for type <class 'pandas.core.frame.DataFrame'> is overriding a preexisting attribute with the same name.\n",
      "  register_dataframe_accessor(method.__name__)(AccessorMethod)\n",
      "/storage/vbutoi/libraries/pylot/pandas/register.py:26: UserWarning: registration of accessor <class 'pylot.pandas.register.register_dataframe_method.<locals>.inner.<locals>.AccessorMethod'> under name 'constants_subset' for type <class 'pandas.core.frame.DataFrame'> is overriding a preexisting attribute with the same name.\n",
      "  register_dataframe_accessor(method.__name__)(AccessorMethod)\n",
      "/storage/vbutoi/libraries/pylot/pandas/register.py:26: UserWarning: registration of accessor <class 'pylot.pandas.register.register_dataframe_method.<locals>.inner.<locals>.AccessorMethod'> under name 'smooth' for type <class 'pandas.core.frame.DataFrame'> is overriding a preexisting attribute with the same name.\n",
      "  register_dataframe_accessor(method.__name__)(AccessorMethod)\n",
      "/storage/vbutoi/libraries/pylot/pandas/register.py:26: UserWarning: registration of accessor <class 'pylot.pandas.register.register_dataframe_method.<locals>.inner.<locals>.AccessorMethod'> under name 'augment_from_attrs' for type <class 'pandas.core.frame.DataFrame'> is overriding a preexisting attribute with the same name.\n",
      "  register_dataframe_accessor(method.__name__)(AccessorMethod)\n",
      "/storage/vbutoi/libraries/pylot/pandas/unix.py:12: UserWarning: registration of accessor <class 'pylot.pandas.unix.UnixAccessor'> under name 'unix' for type <class 'pandas.core.series.Series'> is overriding a preexisting attribute with the same name.\n",
      "  class UnixAccessor:\n",
      "/local/vbutoi/envs/UniverSegTF/lib/python3.9/site-packages/pydantic/_internal/_fields.py:149: UserWarning: Field \"model_outputs\" has conflict with protected namespace \"model_\".\n",
      "\n",
      "You may be able to resolve this warning by setting `model_config['protected_namespaces'] = ()`.\n",
      "  warnings.warn(\n"
     ]
    }
   ],
   "source": [
    "# Misc imports\n",
    "import sys\n",
    "sys.path.append('/storage/vbutoi/projects')\n",
    "sys.path.append('/storage/vbutoi/libraries')\n",
    "sys.path.append('/storage/vbutoi/projects/ESE')\n",
    "sys.path.append('/storage/vbutoi/projects/UniverSeg')\n",
    "import torch\n",
    "torch.set_printoptions(linewidth=200)\n",
    "import seaborn as sns\n",
    "sns.set_style(\"darkgrid\")\n",
    "import os \n",
    "os.environ['DATAPATH'] = ':'.join((\n",
    "       '/storage/vbutoi/datasets',\n",
    "       '/storage'\n",
    "))\n",
    "import yaml\n",
    "from pathlib import Path\n",
    "# Local imports\n",
    "from ese.scripts.utils import get_option_product\n",
    "from ese.experiment.analysis.run_inference import get_cal_stats\n",
    "from ese.experiment.analysis.analysis_utils.submit_utils import get_ese_inference_configs\n",
    "# Ionpy imports\n",
    "from ionpy.util import Config\n",
    "from ionpy.analysis import ResultsLoader\n",
    "\n",
    "# Define some useful paths.\n",
    "scratch_root = Path(\"/storage/vbutoi/scratch/ESE\")\n",
    "code_root = Path(\"/storage/vbutoi/projects/ESE\")\n",
    "rs = ResultsLoader()\n",
    "\n",
    "# For using code without restarting.\n",
    "%load_ext autoreload\n",
    "%autoreload 2\n",
    "# For using yaml configs.\n",
    "%load_ext yamlmagic"
   ]
  },
  {
   "cell_type": "code",
   "execution_count": 2,
   "metadata": {},
   "outputs": [
    {
     "data": {
      "application/javascript": "\n            require(\n                [\n                    \"notebook/js/codecell\",\n                    \"codemirror/mode/yaml/yaml\"\n                ],\n                function(cc){\n                    cc.CodeCell.options_default.highlight_modes.magic_yaml = {\n                        reg: [\"^%%yaml\"]\n                    }\n                }\n            );\n            ",
      "text/plain": [
       "<IPython.core.display.Javascript object>"
      ]
     },
     "metadata": {},
     "output_type": "display_data"
    }
   ],
   "source": [
    "%%yaml inference_config\n",
    "\n",
    "log:\n",
    "    root: '?'\n",
    "    gether_inference_stats: True\n",
    "    summary_compute_global_metrics: True\n",
    "    min_fg_pixels: 0 \n",
    "    log_interval: 20 \n",
    "    log_image_stats: True \n",
    "    log_pixel_stats: True \n",
    "    track_ensemble_member_scores: False \n",
    "\n",
    "experiment:\n",
    "    exp_root: '?'\n",
    "    seed: 42\n",
    "\n",
    "dataloader:\n",
    "    batch_size: 1 \n",
    "    num_workers: 0\n",
    "    pin_memory: True "
   ]
  },
  {
   "cell_type": "code",
   "execution_count": 3,
   "metadata": {},
   "outputs": [
    {
     "data": {
      "application/javascript": "\n            require(\n                [\n                    \"notebook/js/codecell\",\n                    \"codemirror/mode/yaml/yaml\"\n                ],\n                function(cc){\n                    cc.CodeCell.options_default.highlight_modes.magic_yaml = {\n                        reg: [\"^%%yaml\"]\n                    }\n                }\n            );\n            ",
      "text/plain": [
       "<IPython.core.display.Javascript object>"
      ]
     },
     "metadata": {},
     "output_type": "display_data"
    }
   ],
   "source": [
    "%%yaml calibration_cfg \n",
    "\n",
    "model:\n",
    "    calibrator: '?'\n",
    "    normalize: False\n",
    "\n",
    "local_calibration:\n",
    "    num_prob_bins: 15\n",
    "    neighborhood_width: 3\n",
    "    square_diff: False \n",
    "\n",
    "global_calibration:\n",
    "    num_prob_bins: 15\n",
    "    num_classes: '?' \n",
    "    neighborhood_width: 3\n",
    "    square_diff: False \n",
    "    loss_weights: None "
   ]
  },
  {
   "cell_type": "code",
   "execution_count": 4,
   "metadata": {},
   "outputs": [
    {
     "data": {
      "application/javascript": "\n            require(\n                [\n                    \"notebook/js/codecell\",\n                    \"codemirror/mode/yaml/yaml\"\n                ],\n                function(cc){\n                    cc.CodeCell.options_default.highlight_modes.magic_yaml = {\n                        reg: [\"^%%yaml\"]\n                    }\n                }\n            );\n            ",
      "text/plain": [
       "<IPython.core.display.Javascript object>"
      ]
     },
     "metadata": {},
     "output_type": "display_data"
    }
   ],
   "source": [
    "%%yaml standard_model_cfg \n",
    "\n",
    "# For standard datasets\n",
    "#####################################\n",
    "data:\n",
    "    splits: ('val', 'cal')\n",
    "    preload: False \n",
    "\n",
    "ensemble:\n",
    "    combine_fn: '?'\n",
    "    combine_quantity: '?'\n",
    "    member_temps: None\n",
    "    member_w_metric: None\n",
    "    member_paths: None\n",
    "    normalize: False\n",
    "\n",
    "model:\n",
    "    _type: \"standard\"\n",
    "    pretrained_exp_root : None\n",
    "    checkpoint: 'max-val-dice_score' \n",
    "    pretrained_select_metric: \"val-dice_score\""
   ]
  },
  {
   "cell_type": "code",
   "execution_count": 5,
   "metadata": {},
   "outputs": [
    {
     "data": {
      "application/javascript": "\n            require(\n                [\n                    \"notebook/js/codecell\",\n                    \"codemirror/mode/yaml/yaml\"\n                ],\n                function(cc){\n                    cc.CodeCell.options_default.highlight_modes.magic_yaml = {\n                        reg: [\"^%%yaml\"]\n                    }\n                }\n            );\n            ",
      "text/plain": [
       "<IPython.core.display.Javascript object>"
      ]
     },
     "metadata": {},
     "output_type": "display_data"
    }
   ],
   "source": [
    "%%yaml incontext_model_cfg \n",
    "\n",
    "# # For incontext datasets\n",
    "####################################\n",
    "data:\n",
    "    splits: ('val',)\n",
    "    preload: False \n",
    "\n",
    "ensemble:\n",
    "    combine_fn: '?'\n",
    "    combine_quantity: '?'\n",
    "    normalize: False\n",
    "\n",
    "model:\n",
    "    _type: \"incontext\"\n",
    "    _attr:\n",
    "        model: 'universeg.experiment.models.QCUNet3'\n",
    "        data_support_size: 64\n",
    "        mix_filters: (64, 64, 64, 64)\n",
    "    pretrained_exp_root : None\n",
    "    checkpoint: \"max-val_od-dice_score\""
   ]
  },
  {
   "cell_type": "code",
   "execution_count": 6,
   "metadata": {},
   "outputs": [],
   "source": [
    "# exp_name = '04_05_24_RandomShapes_Evaluation'\n",
    "# group_dict = {\n",
    "#     \"dataset\": \"Shapes\",\n",
    "#     \"exp_group\": exp_name,\n",
    "#     \"model_type\": \"standard\",\n",
    "#     \"base_models_group\": \"/storage/vbutoi/scratch/ESE/training/03_26_24_RandomCircles_MassiveEnsemble\",\n",
    "#     \"calibrated_models_group\": \"/storage/vbutoi/scratch/ESE/calibration/03_26_24_RandomCircles_MassiveEnsemble_CE_Calibrated\",\n",
    "#     \"scratch_root\": \"/storage/vbutoi/scratch/ESE\"\n",
    "# }\n",
    "\n",
    "exp_name = '04_09_24_WBC_UniverSeg_Inference'\n",
    "group_dict = {\n",
    "    \"dataset\": \"WBC\",\n",
    "    \"exp_group\": exp_name,\n",
    "    \"model_type\": \"incontext\",\n",
    "    \"base_models_group\": \"/storage/vbutoi/scratch/UniverSeg/training/QC3Net_SupportSetAblation\",\n",
    "    \"scratch_root\": \"/storage/vbutoi/scratch/ESE\"\n",
    "}"
   ]
  },
  {
   "cell_type": "code",
   "execution_count": 7,
   "metadata": {},
   "outputs": [
    {
     "data": {
      "application/javascript": "\n            require(\n                [\n                    \"notebook/js/codecell\",\n                    \"codemirror/mode/yaml/yaml\"\n                ],\n                function(cc){\n                    cc.CodeCell.options_default.highlight_modes.magic_yaml = {\n                        reg: [\"^%%yaml\"]\n                    }\n                }\n            );\n            ",
      "text/plain": [
       "<IPython.core.display.Javascript object>"
      ]
     },
     "metadata": {},
     "output_type": "display_data"
    }
   ],
   "source": [
    "%%yaml submit_cfg_args\n",
    "\n",
    "submit_opts:\n",
    "    seed: 42\n",
    "    gather_sub_runs: False\n",
    "    max_ensemble_samples: 1 \n",
    "    ens_cfg_options:\n",
    "        - ('mean', 'probs')\n",
    "        - ('max', 'probs')\n",
    "    num_ens_membs:\n",
    "        # - 1\n",
    "        # - 2\n",
    "        - 4\n",
    "        # - 8\n",
    "        # - 16\n",
    "        # - 32"
   ]
  },
  {
   "cell_type": "code",
   "execution_count": 8,
   "metadata": {},
   "outputs": [
    {
     "data": {
      "application/javascript": "\n            require(\n                [\n                    \"notebook/js/codecell\",\n                    \"codemirror/mode/yaml/yaml\"\n                ],\n                function(cc){\n                    cc.CodeCell.options_default.highlight_modes.magic_yaml = {\n                        reg: [\"^%%yaml\"]\n                    }\n                }\n            );\n            ",
      "text/plain": [
       "<IPython.core.display.Javascript object>"
      ]
     },
     "metadata": {},
     "output_type": "display_data"
    }
   ],
   "source": [
    "%%yaml inference_config_opts\n",
    "\n",
    "calibrator:\n",
    "    # - Uncalibrated\n",
    "    # - TempScaling\n",
    "    # - LTS\n",
    "    - ContextualHistogramBinning \n",
    "\n",
    "do_ensemble:\n",
    "    - True\n",
    "    # - False"
   ]
  },
  {
   "cell_type": "markdown",
   "metadata": {},
   "source": [
    "### Standard Calibrators."
   ]
  },
  {
   "cell_type": "code",
   "execution_count": 9,
   "metadata": {},
   "outputs": [
    {
     "name": "stdout",
     "output_type": "stream",
     "text": [
      "Set seed: 42\n"
     ]
    }
   ],
   "source": [
    "inference_func = get_cal_stats\n",
    "# Get the configs for the different runs.\n",
    "option_set = get_ese_inference_configs(\n",
    "    group_dict=group_dict,\n",
    "    inf_cfg_opts=inference_config_opts,\n",
    "    base_cfg_args=submit_cfg_args\n",
    ")"
   ]
  },
  {
   "cell_type": "code",
   "execution_count": 10,
   "metadata": {},
   "outputs": [
    {
     "data": {
      "text/plain": [
       "2"
      ]
     },
     "execution_count": 10,
     "metadata": {},
     "output_type": "execute_result"
    }
   ],
   "source": [
    "len(option_set)"
   ]
  },
  {
   "cell_type": "code",
   "execution_count": 11,
   "metadata": {},
   "outputs": [
    {
     "ename": "ValueError",
     "evalue": "Must provide a value for model.normalize",
     "output_type": "error",
     "traceback": [
      "\u001b[0;31m---------------------------------------------------------------------------\u001b[0m",
      "\u001b[0;31mValueError\u001b[0m                                Traceback (most recent call last)",
      "Cell \u001b[0;32mIn[11], line 24\u001b[0m\n\u001b[1;32m     21\u001b[0m     \u001b[38;5;28;01mraise\u001b[39;00m \u001b[38;5;167;01mValueError\u001b[39;00m(\u001b[38;5;124mf\u001b[39m\u001b[38;5;124m\"\u001b[39m\u001b[38;5;124mUnknown model type \u001b[39m\u001b[38;5;132;01m{\u001b[39;00mgroup_dict[\u001b[38;5;124m'\u001b[39m\u001b[38;5;124mmodel_type\u001b[39m\u001b[38;5;124m'\u001b[39m]\u001b[38;5;132;01m}\u001b[39;00m\u001b[38;5;124m\"\u001b[39m)\n\u001b[1;32m     23\u001b[0m \u001b[38;5;66;03m# Get the configs\u001b[39;00m\n\u001b[0;32m---> 24\u001b[0m cfgs \u001b[38;5;241m=\u001b[39m \u001b[43mget_option_product\u001b[49m\u001b[43m(\u001b[49m\u001b[43mexp_name\u001b[49m\u001b[43m,\u001b[49m\u001b[43m \u001b[49m\u001b[43moption_set\u001b[49m\u001b[43m,\u001b[49m\u001b[43m \u001b[49m\u001b[43mbase_cfg\u001b[49m\u001b[43m)\u001b[49m\n",
      "File \u001b[0;32m/storage/vbutoi/projects/ESE/ese/scripts/utils.py:46\u001b[0m, in \u001b[0;36mget_option_product\u001b[0;34m(exp_name, option_set, base_cfg)\u001b[0m\n\u001b[1;32m     44\u001b[0m         cfg \u001b[38;5;241m=\u001b[39m base_cfg\u001b[38;5;241m.\u001b[39mupdate([cfg_update, proc_exp_name(exp_name, cfg_update)])\n\u001b[1;32m     45\u001b[0m         \u001b[38;5;66;03m# Verify it's a valid config\u001b[39;00m\n\u001b[0;32m---> 46\u001b[0m         \u001b[43mcheck_missing\u001b[49m\u001b[43m(\u001b[49m\u001b[43mcfg\u001b[49m\u001b[43m)\u001b[49m\n\u001b[1;32m     47\u001b[0m         cfgs\u001b[38;5;241m.\u001b[39mappend(cfg)\n\u001b[1;32m     48\u001b[0m \u001b[38;5;28;01mreturn\u001b[39;00m cfgs\n",
      "File \u001b[0;32m/storage/vbutoi/projects/ionpy/util/config.py:434\u001b[0m, in \u001b[0;36mcheck_missing\u001b[0;34m(config)\u001b[0m\n\u001b[1;32m    432\u001b[0m \u001b[38;5;28;01mfor\u001b[39;00m key, value \u001b[38;5;129;01min\u001b[39;00m flat_cfg\u001b[38;5;241m.\u001b[39mitems():\n\u001b[1;32m    433\u001b[0m     \u001b[38;5;28;01mif\u001b[39;00m value \u001b[38;5;241m==\u001b[39m \u001b[38;5;124m\"\u001b[39m\u001b[38;5;124m?\u001b[39m\u001b[38;5;124m\"\u001b[39m:\n\u001b[0;32m--> 434\u001b[0m         \u001b[38;5;28;01mraise\u001b[39;00m \u001b[38;5;167;01mValueError\u001b[39;00m(\u001b[38;5;124mf\u001b[39m\u001b[38;5;124m\"\u001b[39m\u001b[38;5;124mMust provide a value for \u001b[39m\u001b[38;5;132;01m{\u001b[39;00mkey\u001b[38;5;132;01m}\u001b[39;00m\u001b[38;5;124m\"\u001b[39m)\n",
      "\u001b[0;31mValueError\u001b[0m: Must provide a value for model.normalize"
     ]
    }
   ],
   "source": [
    "# Load the inference cfg from local.\n",
    "##################################################\n",
    "inf_cfg_root = code_root / \"ese\" / \"experiment\" / \"configs\" / \"inference\"\n",
    "\n",
    "##################################################\n",
    "with open(inf_cfg_root / \"datasets\" / f\"{group_dict['dataset']}.yaml\", 'r') as file:\n",
    "    dataset_inference_cfg = yaml.safe_load(file)\n",
    "with open(inf_cfg_root / \"Calibration_Metrics.yaml\", 'r') as file:\n",
    "    cal_metrics_cfg = yaml.safe_load(file)\n",
    "\n",
    "##################################################\n",
    "base_cfg = Config(inference_config).update([calibration_cfg, dataset_inference_cfg, cal_metrics_cfg])\n",
    "\n",
    "##################################################\n",
    "# If this is an incontext model we need to update the base_cfg with the incontext model cfg.\n",
    "if group_dict['model_type'] == 'incontext':\n",
    "    base_cfg = base_cfg.update([incontext_model_cfg])\n",
    "elif group_dict['model_type'] == 'standard':\n",
    "    base_cfg = base_cfg.update([standard_model_cfg])\n",
    "else:\n",
    "    raise ValueError(f\"Unknown model type {group_dict['model_type']}\")\n",
    "\n",
    "# Get the configs\n",
    "cfgs = get_option_product(exp_name, option_set, base_cfg)"
   ]
  },
  {
   "cell_type": "markdown",
   "metadata": {},
   "source": [
    "## Running Jobs"
   ]
  },
  {
   "cell_type": "code",
   "execution_count": null,
   "metadata": {},
   "outputs": [],
   "source": [
    "from ese.experiment.analysis.run_inference import get_cal_stats"
   ]
  },
  {
   "cell_type": "code",
   "execution_count": null,
   "metadata": {},
   "outputs": [],
   "source": [
    "from ese.experiment.experiment import run_ese_exp\n",
    "\n",
    "###### Run individual jobs\n",
    "run_ese_exp(\n",
    "    config=cfgs[0], \n",
    "    job_func=get_cal_stats,\n",
    "    run_name='debug',\n",
    "    show_examples=True,\n",
    "    gpu='3',\n",
    ") "
   ]
  },
  {
   "cell_type": "code",
   "execution_count": null,
   "metadata": {},
   "outputs": [],
   "source": [
    "# from ese.experiment.experiment import submit_ese_exps \n",
    "\n",
    "# #### Run Batch Jobs\n",
    "# submit_ese_exps(\n",
    "#     config_list=cfgs,\n",
    "#     job_func=get_cal_stats,\n",
    "#     # available_gpus=['0', '1', '2', '3'],\n",
    "#     available_gpus=['0', '1', '2', '3', '4', '5', '6', '7'],\n",
    "# )"
   ]
  }
 ],
 "metadata": {
  "kernelspec": {
   "display_name": "Python 3",
   "language": "python",
   "name": "python3"
  },
  "language_info": {
   "codemirror_mode": {
    "name": "ipython",
    "version": 3
   },
   "file_extension": ".py",
   "mimetype": "text/x-python",
   "name": "python",
   "nbconvert_exporter": "python",
   "pygments_lexer": "ipython3",
   "version": "3.9.16"
  },
  "orig_nbformat": 4
 },
 "nbformat": 4,
 "nbformat_minor": 2
}
