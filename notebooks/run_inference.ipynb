{
 "cells": [
  {
   "cell_type": "code",
   "execution_count": null,
   "metadata": {},
   "outputs": [],
   "source": [
    "import sys\n",
    "sys.path.append('/storage/vbutoi/projects')\n",
    "sys.path.append('/storage/vbutoi/libraries')\n",
    "sys.path.append('/storage/vbutoi/projects/ESE')\n",
    "sys.path.append('/storage/vbutoi/projects/UniverSeg')\n",
    "\n",
    "import seaborn as sns\n",
    "sns.set_style(\"darkgrid\")\n",
    "\n",
    "import os \n",
    "os.environ['DATAPATH'] = ':'.join((\n",
    "       '/storage/vbutoi/datasets',\n",
    "))\n",
    "os.environ[\"CUDA_VISIBLE_DEVICES\"] = '0,1,2,3' \n",
    "\n",
    "%load_ext yamlmagic\n",
    "\n",
    "%load_ext autoreload\n",
    "%autoreload "
   ]
  },
  {
   "cell_type": "code",
   "execution_count": null,
   "metadata": {},
   "outputs": [],
   "source": [
    "%%yaml wmh_inference_config\n",
    "\n",
    "model:\n",
    "    exp_name: WMH_aug_runs\n",
    "    metric: val-dice_score # for comparison amongst runs of an experiment.\n",
    "    checkpoint: max-val-dice_score\n",
    "\n",
    "dataset:\n",
    "    _class: ese.experiment.datasets.WMH\n",
    "    annotator: observer_o12\n",
    "    axis: 0\n",
    "    split: '?'\n",
    "    slicing: full \n",
    "    task: '?'\n",
    "    version: 0.2\n",
    "\n",
    "calibration:\n",
    "    class_type: Binary\n",
    "    include_background: True\n",
    "    num_bins: 10\n",
    "    bin_weightings:\n",
    "        - proportional\n",
    "    metrics: \n",
    "        - ACE\n",
    "        - ECE \n",
    "        - ReCE"
   ]
  },
  {
   "cell_type": "code",
   "execution_count": null,
   "metadata": {},
   "outputs": [],
   "source": [
    "from ionpy.util import dict_product, Config\n",
    "\n",
    "wmh_dataset_options = {\n",
    "    'dataset.split': ['train', 'val', 'cal'],\n",
    "    'dataset.task': ['Singapore', 'Amsterdam']\n",
    "}\n",
    "\n",
    "base_cfg = Config(wmh_inference_config)\n",
    "\n",
    "cfgs = []\n",
    "for cfg_update in dict_product(wmh_dataset_options):\n",
    "    cfg = base_cfg.update(cfg_update)\n",
    "    cfgs.append(cfg)"
   ]
  },
  {
   "cell_type": "code",
   "execution_count": null,
   "metadata": {},
   "outputs": [],
   "source": [
    "len(cfgs)"
   ]
  },
  {
   "cell_type": "code",
   "execution_count": null,
   "metadata": {},
   "outputs": [],
   "source": [
    "pprint(cfgs[0])"
   ]
  },
  {
   "cell_type": "code",
   "execution_count": null,
   "metadata": {},
   "outputs": [],
   "source": [
    "from ese.experiment.analysis.inference import get_dice_breakdown\n",
    "\n",
    "get_dice_breakdown(cfgs[0])"
   ]
  }
 ],
 "metadata": {
  "kernelspec": {
   "display_name": "UniverSegTF",
   "language": "python",
   "name": "universegtf"
  },
  "language_info": {
   "codemirror_mode": {
    "name": "ipython",
    "version": 3
   },
   "file_extension": ".py",
   "mimetype": "text/x-python",
   "name": "python",
   "nbconvert_exporter": "python",
   "pygments_lexer": "ipython3",
   "version": "3.9.16"
  },
  "orig_nbformat": 4
 },
 "nbformat": 4,
 "nbformat_minor": 2
}
