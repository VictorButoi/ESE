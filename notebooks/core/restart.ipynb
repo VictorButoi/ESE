{
 "cells": [
  {
   "cell_type": "code",
   "execution_count": 1,
   "metadata": {},
   "outputs": [],
   "source": [
    "# Random Imports\n",
    "import os\n",
    "import sys\n",
    "import yaml\n",
    "from pathlib import Path\n",
    "sys.path.append('/storage/vbutoi/projects')\n",
    "sys.path.append('/storage/vbutoi/libraries')\n",
    "sys.path.append('/storage/vbutoi/projects/ESE')\n",
    "sys.path.append('/storage/vbutoi/projects/UniverSegDev')\n",
    "\n",
    "# Regular schema dictates that we put DATAPATH\n",
    "os.environ['DATAPATH'] = ':'.join((\n",
    "       '/storage/vbutoi/datasets',\n",
    "))\n",
    "os.environ['WANDB_NOTEBOOK_NAME'] = 'calibrate.ipynb'\n",
    "\n",
    "# IonPy imports\n",
    "from ionpy.util import Config\n",
    "\n",
    "%load_ext yamlmagic\n",
    "%load_ext autoreload\n",
    "%autoreload 2"
   ]
  },
  {
   "cell_type": "code",
   "execution_count": 2,
   "metadata": {},
   "outputs": [
    {
     "data": {
      "application/javascript": "\n            require(\n                [\n                    \"notebook/js/codecell\",\n                    \"codemirror/mode/yaml/yaml\"\n                ],\n                function(cc){\n                    cc.CodeCell.options_default.highlight_modes.magic_yaml = {\n                        reg: [\"^%%yaml\"]\n                    }\n                }\n            );\n            ",
      "text/plain": [
       "<IPython.core.display.Javascript object>"
      ]
     },
     "metadata": {},
     "output_type": "display_data"
    }
   ],
   "source": [
    "%%yaml default_cfg\n",
    "\n",
    "# We can change the lr and weight decay mid run.\n",
    "# Usually we are going to load the old optimizer state.\n",
    "# optim:\n",
    "#   weight_decay: 0.0 \n",
    "#   lr: 1.0e-4\n",
    "\n",
    "# Optionally we can change the loss function.\n",
    "# loss_func: \n",
    "#   _class: '?'\n",
    "#   from_logits: True\n",
    "#   batch_reduction: 'mean' \n",
    "\n",
    "experiment:\n",
    "  restart: True # Important, otherwise we don't load the model.\n",
    "\n",
    "train:\n",
    "  epochs: '?' # How much longer to train for.\n",
    "  load_chkpt: '?' # Which model do we load\n",
    "  pretrained_dir: '?' # Which runs are we restarting"
   ]
  },
  {
   "cell_type": "code",
   "execution_count": 3,
   "metadata": {},
   "outputs": [
    {
     "data": {
      "application/javascript": "\n            require(\n                [\n                    \"notebook/js/codecell\",\n                    \"codemirror/mode/yaml/yaml\"\n                ],\n                function(cc){\n                    cc.CodeCell.options_default.highlight_modes.magic_yaml = {\n                        reg: [\"^%%yaml\"]\n                    }\n                }\n            );\n            ",
      "text/plain": [
       "<IPython.core.display.Javascript object>"
      ]
     },
     "metadata": {},
     "output_type": "display_data"
    }
   ],
   "source": [
    "%%yaml callbacks_cfg\n",
    "\n",
    "callbacks:\n",
    "  step:\n",
    "    - ese.callbacks.ShowPredictions\n",
    "  epoch:\n",
    "    - ese.callbacks.WandbLogger\n",
    "    - ionpy.callbacks.ETA\n",
    "    - ionpy.callbacks.JobProgress\n",
    "    - ionpy.callbacks.TerminateOnNaN\n",
    "    - ionpy.callbacks.PrintLogged\n",
    "    - ionpy.callbacks.ModelCheckpoint:\n",
    "        monitor: dice_score\n",
    "        phase: val"
   ]
  },
  {
   "cell_type": "code",
   "execution_count": 4,
   "metadata": {},
   "outputs": [
    {
     "data": {
      "application/javascript": "\n            require(\n                [\n                    \"notebook/js/codecell\",\n                    \"codemirror/mode/yaml/yaml\"\n                ],\n                function(cc){\n                    cc.CodeCell.options_default.highlight_modes.magic_yaml = {\n                        reg: [\"^%%yaml\"]\n                    }\n                }\n            );\n            ",
      "text/plain": [
       "<IPython.core.display.Javascript object>"
      ]
     },
     "metadata": {},
     "output_type": "display_data"
    }
   ],
   "source": [
    "%%yaml experiment_cfg \n",
    "\n",
    "# name: \"ISLES_MEGA_lowLR_RESTARTED\" # We will treat this as a NEW EXPERIMENT.\n",
    "name: \"ISLES_META_lowLR_wSVLS_RESTARTED\" # We will treat this as a NEW EXPERIMENT.\n",
    "\n",
    "train:\n",
    "    epochs: 500\n",
    "    load_chkpt: 'last'\n",
    "    pretrained_dir: \n",
    "        # - \"/storage/vbutoi/scratch/ESE/training/09_05_24_ISLES_MEGA_lowLR\"\n",
    "        - \"/storage/vbutoi/scratch/ESE/training/09_05_24_ISLES_MEGA_lowLR_wSVLS\""
   ]
  },
  {
   "cell_type": "code",
   "execution_count": 5,
   "metadata": {},
   "outputs": [],
   "source": [
    "from ese.analysis.analysis_utils.submit_utils import get_ese_restart_configs\n",
    "\n",
    "# Get the configs for the different runs.\n",
    "base_cfg = Config(default_cfg).update([callbacks_cfg])\n",
    "\n",
    "updated_base_cfg, restart_cfgs = get_ese_restart_configs(\n",
    "    exp_cfg=experiment_cfg,\n",
    "    base_cfg=base_cfg\n",
    ")"
   ]
  },
  {
   "cell_type": "code",
   "execution_count": 6,
   "metadata": {},
   "outputs": [
    {
     "data": {
      "text/plain": [
       "8"
      ]
     },
     "execution_count": 6,
     "metadata": {},
     "output_type": "execute_result"
    }
   ],
   "source": [
    "len(restart_cfgs)"
   ]
  },
  {
   "cell_type": "markdown",
   "metadata": {},
   "source": [
    "## Running Jobs"
   ]
  },
  {
   "cell_type": "code",
   "execution_count": 7,
   "metadata": {},
   "outputs": [
    {
     "name": "stderr",
     "output_type": "stream",
     "text": [
      "/local/vbutoi/envs/UniverSegTF/lib/python3.9/site-packages/pydantic/_internal/_fields.py:149: UserWarning: Field \"model_outputs\" has conflict with protected namespace \"model_\".\n",
      "\n",
      "You may be able to resolve this warning by setting `model_config['protected_namespaces'] = ()`.\n",
      "  warnings.warn(\n"
     ]
    }
   ],
   "source": [
    "from ese.experiment import run_ese_exp, submit_ese_exps, CalibrationExperiment, PostHocExperiment"
   ]
  },
  {
   "cell_type": "code",
   "execution_count": 8,
   "metadata": {},
   "outputs": [],
   "source": [
    "# ####### Run individual jobs\n",
    "# run_ese_exp(\n",
    "#     config=restart_cfgs[0], \n",
    "#     experiment_class=CalibrationExperiment,\n",
    "#     # experiment_class=PostHocExperiment,\n",
    "#     run_name='debug',\n",
    "#     show_examples=True,\n",
    "#     # track_wandb=False,\n",
    "#     gpu='0',\n",
    "#     # gpu='4',\n",
    "# )"
   ]
  },
  {
   "cell_type": "code",
   "execution_count": 9,
   "metadata": {},
   "outputs": [
    {
     "name": "stdout",
     "output_type": "stream",
     "text": [
      "Submitted job id: 2667548 on gpu: 0.\n",
      "Submitted job id: 2667654 on gpu: 1.\n",
      "Submitted job id: 2667810 on gpu: 2.\n",
      "Submitted job id: 2667958 on gpu: 3.\n",
      "Submitted job id: 2668155 on gpu: 0.\n",
      "Submitted job id: 2668438 on gpu: 1.\n",
      "Submitted job id: 2668629 on gpu: 2.\n",
      "Submitted job id: 2668889 on gpu: 3.\n"
     ]
    }
   ],
   "source": [
    "#### Run Batch Jobs\n",
    "submit_ese_exps(\n",
    "    group=\"restart\",\n",
    "    base_cfg=updated_base_cfg,\n",
    "    exp_cfg=experiment_cfg,\n",
    "    config_list=restart_cfgs,\n",
    "    experiment_class=CalibrationExperiment,\n",
    "    track_wandb=True,\n",
    "    available_gpus=['0', '1', '2', '3']\n",
    "    # available_gpus=['4', '5', '6', '7']\n",
    ")"
   ]
  }
 ],
 "metadata": {
  "kernelspec": {
   "display_name": "Python 3",
   "language": "python",
   "name": "python3"
  },
  "language_info": {
   "codemirror_mode": {
    "name": "ipython",
    "version": 3
   },
   "file_extension": ".py",
   "mimetype": "text/x-python",
   "name": "python",
   "nbconvert_exporter": "python",
   "pygments_lexer": "ipython3",
   "version": "3.9.16"
  },
  "orig_nbformat": 4
 },
 "nbformat": 4,
 "nbformat_minor": 2
}
