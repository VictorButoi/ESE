{
 "cells": [
  {
   "cell_type": "code",
   "execution_count": null,
   "id": "9b121a30",
   "metadata": {},
   "outputs": [],
   "source": [
    "# Random Imports\n",
    "import os\n",
    "import sys\n",
    "import yaml\n",
    "from pathlib import Path\n",
    "sys.path.append('/storage/vbutoi/projects')\n",
    "sys.path.append('/storage/vbutoi/libraries')\n",
    "sys.path.append('/storage/vbutoi/projects/ESE')\n",
    "sys.path.append('/storage/vbutoi/projects/UniverSegDev')\n",
    "\n",
    "# Regular schema dictates that we put DATAPATH\n",
    "os.environ['DATAPATH'] = ':'.join((\n",
    "       '/storage/vbutoi/datasets',\n",
    "))\n",
    "os.environ['WANDB_NOTEBOOK_NAME'] = 'train.ipynb'\n",
    "\n",
    "from ionpy.util import Config\n",
    "\n",
    "# Setup direcrtories\n",
    "root = Path(\"/storage/vbutoi/scratch/ESE\")\n",
    "code_root = Path(\"/storage/vbutoi/projects/ESE\")\n",
    "scratch_root = Path(\"/storage/vbutoi/scratch/ESE\")\n",
    "\n",
    "%load_ext yamlmagic\n",
    "%load_ext autoreload\n",
    "%autoreload 2"
   ]
  },
  {
   "cell_type": "code",
   "execution_count": null,
   "id": "ed8ce121",
   "metadata": {},
   "outputs": [],
   "source": [
    "%%yaml default_cfg \n",
    "\n",
    "experiment:\n",
    "  seed: '?' \n",
    "    \n",
    "dataloader:\n",
    "  batch_size: 8 \n",
    "  num_workers: 1 \n",
    "  pin_memory: True \n",
    "\n",
    "optim: \n",
    "  _class: torch.optim.Adam\n",
    "  weight_decay: 0.0 \n",
    "  lr: 1.0e-4\n",
    "  \n",
    "train:\n",
    "  epochs: 500 \n",
    "  eval_freq: 10\n",
    "\n",
    "# Used for additional data experiment.\n",
    "data:\n",
    "  train_splits: train\n",
    "  val_splits: val\n",
    "  \n",
    "loss_func: \n",
    "  _class: '?'\n",
    "  from_logits: True\n",
    "  batch_reduction: 'mean' "
   ]
  },
  {
   "cell_type": "code",
   "execution_count": null,
   "id": "214d052f",
   "metadata": {},
   "outputs": [],
   "source": [
    "%%yaml log_cfg\n",
    "\n",
    "log:\n",
    "  root: '?'\n",
    "  checkpoint_freq: 20 \n",
    "  metrics:\n",
    "    dice_score:\n",
    "      _fn: ionpy.metrics.dice_score\n",
    "      batch_reduction: 'mean' \n",
    "      ignore_empty_labels: False \n",
    "      from_logits: True\n",
    "    ece_loss:\n",
    "      _fn: ese.metrics.image_ece_loss\n",
    "      num_prob_bins: 15\n",
    "      from_logits: True"
   ]
  },
  {
   "cell_type": "code",
   "execution_count": null,
   "id": "e2ac20c6",
   "metadata": {},
   "outputs": [],
   "source": [
    "%%yaml model_cfg  \n",
    "\n",
    "model:\n",
    "  _class: ese.models.unet.UNet\n",
    "  filters: [64, 64, 64, 64, 64]\n",
    "  convs_per_block: 3 # Good default for UNets."
   ]
  },
  {
   "cell_type": "code",
   "execution_count": null,
   "id": "01c7ad0b",
   "metadata": {},
   "outputs": [],
   "source": [
    "%%yaml callbacks_cfg\n",
    "\n",
    "callbacks:\n",
    "  step:\n",
    "    - ese.callbacks.ShowPredictions\n",
    "  epoch:\n",
    "    - ese.callbacks.WandbLogger\n",
    "    - ionpy.callbacks.ETA\n",
    "    - ionpy.callbacks.JobProgress\n",
    "    - ionpy.callbacks.TerminateOnNaN\n",
    "    - ionpy.callbacks.PrintLogged\n",
    "    - ionpy.callbacks.ModelCheckpoint:\n",
    "        monitor: dice_score\n",
    "        phase: val"
   ]
  },
  {
   "cell_type": "code",
   "execution_count": null,
   "id": "738b1c2e",
   "metadata": {},
   "outputs": [],
   "source": [
    "%%yaml experiment_cfg \n",
    "\n",
    "name: \"HeptaticVessel_LowerLR\"\n",
    "\n",
    "# SVLS \n",
    "augmentations:\n",
    "    train:\n",
    "        - ese.augmentation.SVLS:\n",
    "            ksize: 3\n",
    "            sigma: 1\n",
    "            always_apply: True\n",
    "            include_center: False # For ACDC we don't include the center pixel. \n",
    "\n",
    "experiment:\n",
    "    seed: 40\n",
    "    seed_range: 4\n",
    "\n",
    "optim:\n",
    "    lr: 5.0e-5\n",
    "\n",
    "## Setup for homegrown datasets.\n",
    "# data:\n",
    "    # _class: \"ese.datasets.OCTA_6M\"\n",
    "    # label_threshold: 0.5\n",
    "    # label: 255\n",
    "    # version: 1.0 # Full resolution version.\n",
    "\n",
    "## Setup for UniverSeg datasets.\n",
    "data:\n",
    "    _class: \"universeg.experiment.datasets.Segment2D\"\n",
    "    root_folder: \"MSD/thunder_MSD/v4.2\"\n",
    "    task: 'MSD/HepaticVessel/CT/2'\n",
    "    # task: 'MSD/Pancreas/PVP-CT/2'\n",
    "    resolution: 256\n",
    "    label: 0\n",
    "\n",
    "loss_func:\n",
    "    _class: \n",
    "        - ese.losses.SoftDiceLoss\n",
    "        - ese.losses.PixelCELoss"
   ]
  },
  {
   "cell_type": "code",
   "execution_count": null,
   "id": "8769a35d",
   "metadata": {},
   "outputs": [],
   "source": [
    "from ese.analysis.analysis_utils.submit_utils import get_ese_training_configs \n",
    "\n",
    "# Get the configs for the different runs.\n",
    "base_cfg = Config(default_cfg).update([model_cfg, log_cfg, callbacks_cfg])\n",
    "\n",
    "# Get the different experiment cfg yamls.\n",
    "train_cfgs = get_ese_training_configs(\n",
    "    exp_cfg=experiment_cfg, \n",
    "    base_cfg=base_cfg\n",
    ")"
   ]
  },
  {
   "cell_type": "code",
   "execution_count": null,
   "id": "d7904470",
   "metadata": {},
   "outputs": [],
   "source": [
    "len(train_cfgs)"
   ]
  },
  {
   "cell_type": "code",
   "execution_count": null,
   "id": "8d00c339",
   "metadata": {},
   "outputs": [],
   "source": [
    "from pprint import pprint\n",
    "\n",
    "pprint(train_cfgs[0])"
   ]
  },
  {
   "cell_type": "markdown",
   "id": "2225fe62",
   "metadata": {},
   "source": [
    "## Running Jobs"
   ]
  },
  {
   "cell_type": "code",
   "execution_count": null,
   "id": "edbdcf3d",
   "metadata": {},
   "outputs": [],
   "source": [
    "####### FOR DEBUGGIN\n",
    "from ese.experiment import run_ese_exp, CalibrationExperiment\n",
    "\n",
    "run_ese_exp(\n",
    "    config=train_cfgs[0], \n",
    "    experiment_class=CalibrationExperiment,\n",
    "    gpu='0',\n",
    "    # gpu='4',\n",
    "    run_name='debug',\n",
    "    show_examples=True,\n",
    "    track_wandb=False\n",
    ")"
   ]
  },
  {
   "cell_type": "code",
   "execution_count": null,
   "id": "05938b03",
   "metadata": {},
   "outputs": [],
   "source": [
    "# # FOR SUBMISSION\n",
    "# from ese.experiment import submit_ese_exps, CalibrationExperiment \n",
    "\n",
    "# submit_ese_exps(\n",
    "#     config_list=train_cfgs,\n",
    "#     experiment_class=CalibrationExperiment,\n",
    "#     available_gpus=['0', '1', '2', '3'],\n",
    "#     # available_gpus=['4', '5', '6', '7'],\n",
    "#     track_wandb=True\n",
    "# )"
   ]
  }
 ],
 "metadata": {
  "kernelspec": {
   "display_name": "UniverSegTF",
   "language": "python",
   "name": "universegtf"
  },
  "language_info": {
   "codemirror_mode": {
    "name": "ipython",
    "version": 3
   },
   "file_extension": ".py",
   "mimetype": "text/x-python",
   "name": "python",
   "nbconvert_exporter": "python",
   "pygments_lexer": "ipython3",
   "version": "3.9.16"
  }
 },
 "nbformat": 4,
 "nbformat_minor": 5
}
