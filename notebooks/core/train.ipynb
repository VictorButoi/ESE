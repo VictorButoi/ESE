{
 "cells": [
  {
   "cell_type": "code",
   "execution_count": 1,
   "id": "9b121a30",
   "metadata": {},
   "outputs": [],
   "source": [
    "# Define useful paths\n",
    "SCRATCH_ROOT = \"/storage/vbutoi/scratch/ESE\"\n",
    "CONFIG_ROOT = \"/storage/vbutoi/projects/ESE/configs\"\n",
    "import sys\n",
    "sys.path.append('/storage/vbutoi/projects')\n",
    "sys.path.append('/storage/vbutoi/projects/ESE')\n",
    "\n",
    "# IonPy imports\n",
    "from ionpy.util import Config\n",
    "\n",
    "%load_ext yamlmagic\n",
    "%load_ext autoreload\n",
    "%autoreload 2"
   ]
  },
  {
   "cell_type": "code",
   "execution_count": 2,
   "id": "ed8ce121",
   "metadata": {},
   "outputs": [
    {
     "data": {
      "application/javascript": "\n            require(\n                [\n                    \"notebook/js/codecell\",\n                    \"codemirror/mode/yaml/yaml\"\n                ],\n                function(cc){\n                    cc.CodeCell.options_default.highlight_modes.magic_yaml = {\n                        reg: [\"^%%yaml\"]\n                    }\n                }\n            );\n            ",
      "text/plain": [
       "<IPython.core.display.Javascript object>"
      ]
     },
     "metadata": {},
     "output_type": "display_data"
    }
   ],
   "source": [
    "%%yaml base_default_cfg \n",
    "\n",
    "experiment:\n",
    "  seed: 40\n",
    "  seed_range: 1\n",
    "  val_first: False \n",
    "  torch_compile: False \n",
    "  torch_mixed_precision: False\n",
    "  sys_paths:\n",
    "    - \"/storage/vbutoi/projects\"\n",
    "    - \"/storage/vbutoi/libraries\"\n",
    "    - \"/storage/vbutoi/projects/ESE\"\n",
    "  data_paths:\n",
    "    - \"/storage\"\n",
    "    - \"/storage/vbutoi/datasets\"\n",
    "\n",
    "dataloader:\n",
    "  batch_size: 8 \n",
    "  num_workers: 3 \n",
    "  pin_memory: True \n",
    "\n",
    "optim: \n",
    "  _class: torch.optim.Adam\n",
    "  lr: 1.0e-4 \n",
    "  \n",
    "train:\n",
    "  epochs: 500 \n",
    "  eval_freq: 5 \n",
    "\n",
    "log:\n",
    "  checkpoint_freq: 5 "
   ]
  },
  {
   "cell_type": "code",
   "execution_count": 3,
   "id": "fa199a50",
   "metadata": {},
   "outputs": [
    {
     "data": {
      "application/javascript": "\n            require(\n                [\n                    \"notebook/js/codecell\",\n                    \"codemirror/mode/yaml/yaml\"\n                ],\n                function(cc){\n                    cc.CodeCell.options_default.highlight_modes.magic_yaml = {\n                        reg: [\"^%%yaml\"]\n                    }\n                }\n            );\n            ",
      "text/plain": [
       "<IPython.core.display.Javascript object>"
      ]
     },
     "metadata": {},
     "output_type": "display_data"
    }
   ],
   "source": [
    "%%yaml finetune_default_cfg \n",
    "\n",
    "experiment:\n",
    "  seed: 40\n",
    "  seed_range: 1\n",
    "  val_first: False \n",
    "  torch_compile: False \n",
    "  torch_mixed_precision: False\n",
    "  sys_paths:\n",
    "    - \"/storage/vbutoi/projects\"\n",
    "    - \"/storage/vbutoi/libraries\"\n",
    "    - \"/storage/vbutoi/projects/ESE\"\n",
    "  data_paths:\n",
    "    - \"/storage\"\n",
    "    - \"/storage/vbutoi/datasets\"\n",
    "\n",
    "dataloader:\n",
    "  batch_size: 8 \n",
    "  num_workers: 3 \n",
    "  pin_memory: True \n",
    "\n",
    "optim: \n",
    "  _class: torch.optim.Adam\n",
    "  lr: 1.0e-5 \n",
    "  \n",
    "train:\n",
    "  epochs: 500 \n",
    "  eval_freq: 5 \n",
    "\n",
    "log:\n",
    "  checkpoint_freq: 5 "
   ]
  },
  {
   "cell_type": "markdown",
   "id": "5c61a9dc",
   "metadata": {},
   "source": [
    "# Define the data."
   ]
  },
  {
   "cell_type": "code",
   "execution_count": 4,
   "id": "0626d3f0",
   "metadata": {},
   "outputs": [
    {
     "data": {
      "application/javascript": "\n            require(\n                [\n                    \"notebook/js/codecell\",\n                    \"codemirror/mode/yaml/yaml\"\n                ],\n                function(cc){\n                    cc.CodeCell.options_default.highlight_modes.magic_yaml = {\n                        reg: [\"^%%yaml\"]\n                    }\n                }\n            );\n            ",
      "text/plain": [
       "<IPython.core.display.Javascript object>"
      ]
     },
     "metadata": {},
     "output_type": "display_data"
    }
   ],
   "source": [
    "%%yaml base_data_cfg \n",
    "\n",
    "# Used for additional data experiment.\n",
    "data:\n",
    "  _class: 'ese.datasets.ISLES'\n",
    "  train_kwargs:\n",
    "    split: 'train'\n",
    "  val_kwargs: \n",
    "    split: 'val'"
   ]
  },
  {
   "cell_type": "code",
   "execution_count": 5,
   "id": "2b2a5fd1",
   "metadata": {},
   "outputs": [
    {
     "data": {
      "application/javascript": "\n            require(\n                [\n                    \"notebook/js/codecell\",\n                    \"codemirror/mode/yaml/yaml\"\n                ],\n                function(cc){\n                    cc.CodeCell.options_default.highlight_modes.magic_yaml = {\n                        reg: [\"^%%yaml\"]\n                    }\n                }\n            );\n            ",
      "text/plain": [
       "<IPython.core.display.Javascript object>"
      ]
     },
     "metadata": {},
     "output_type": "display_data"
    }
   ],
   "source": [
    "%%yaml finetune_data_cfg \n",
    "\n",
    "# Used for additional data experiment.\n",
    "data:\n",
    "  use_pt_data_cfg: True\n",
    "  train_kwargs:\n",
    "    split: 'train'\n",
    "  val_kwargs: \n",
    "    split: 'val'"
   ]
  },
  {
   "cell_type": "markdown",
   "id": "dfff1f93",
   "metadata": {},
   "source": [
    "# Define the Loss Function config."
   ]
  },
  {
   "cell_type": "code",
   "execution_count": 6,
   "id": "c2ddbe78",
   "metadata": {},
   "outputs": [
    {
     "data": {
      "application/javascript": "\n            require(\n                [\n                    \"notebook/js/codecell\",\n                    \"codemirror/mode/yaml/yaml\"\n                ],\n                function(cc){\n                    cc.CodeCell.options_default.highlight_modes.magic_yaml = {\n                        reg: [\"^%%yaml\"]\n                    }\n                }\n            );\n            ",
      "text/plain": [
       "<IPython.core.display.Javascript object>"
      ]
     },
     "metadata": {},
     "output_type": "display_data"
    }
   ],
   "source": [
    "%%yaml base_loss_cfg\n",
    "\n",
    "loss_func: \n",
    "  _class: ese.losses.SoftDiceLoss\n",
    "  from_logits: True\n",
    "  batch_reduction: 'mean' \n",
    "  ignore_empty_labels: False "
   ]
  },
  {
   "cell_type": "code",
   "execution_count": 7,
   "id": "f773855b",
   "metadata": {},
   "outputs": [
    {
     "data": {
      "application/javascript": "\n            require(\n                [\n                    \"notebook/js/codecell\",\n                    \"codemirror/mode/yaml/yaml\"\n                ],\n                function(cc){\n                    cc.CodeCell.options_default.highlight_modes.magic_yaml = {\n                        reg: [\"^%%yaml\"]\n                    }\n                }\n            );\n            ",
      "text/plain": [
       "<IPython.core.display.Javascript object>"
      ]
     },
     "metadata": {},
     "output_type": "display_data"
    }
   ],
   "source": [
    "%%yaml finetune_loss_cfg\n",
    "\n",
    "loss_func: \n",
    "  _class: ese.losses.PixelCELoss\n",
    "  from_logits: True\n",
    "  batch_reduction: 'mean'"
   ]
  },
  {
   "cell_type": "markdown",
   "id": "1da215a7",
   "metadata": {},
   "source": [
    "# Define the Model config."
   ]
  },
  {
   "cell_type": "markdown",
   "id": "93f5c8cf",
   "metadata": {},
   "source": [
    "## For base models."
   ]
  },
  {
   "cell_type": "code",
   "execution_count": 8,
   "id": "e2ac20c6",
   "metadata": {},
   "outputs": [
    {
     "data": {
      "application/javascript": "\n            require(\n                [\n                    \"notebook/js/codecell\",\n                    \"codemirror/mode/yaml/yaml\"\n                ],\n                function(cc){\n                    cc.CodeCell.options_default.highlight_modes.magic_yaml = {\n                        reg: [\"^%%yaml\"]\n                    }\n                }\n            );\n            ",
      "text/plain": [
       "<IPython.core.display.Javascript object>"
      ]
     },
     "metadata": {},
     "output_type": "display_data"
    }
   ],
   "source": [
    "%%yaml base_model_cfg  \n",
    "\n",
    "model:\n",
    "  _class: ese.models.unet.UNet\n",
    "  filters: [64, 64, 64, 64, 64, 64, 64] \n",
    "  convs_per_block: 3 # Good default for UNets.\n",
    "  dims: 2"
   ]
  },
  {
   "cell_type": "markdown",
   "id": "2cda568d",
   "metadata": {},
   "source": [
    "# For downstream models (calibrators)."
   ]
  },
  {
   "cell_type": "code",
   "execution_count": 9,
   "id": "1a1e9508",
   "metadata": {},
   "outputs": [
    {
     "data": {
      "application/javascript": "\n            require(\n                [\n                    \"notebook/js/codecell\",\n                    \"codemirror/mode/yaml/yaml\"\n                ],\n                function(cc){\n                    cc.CodeCell.options_default.highlight_modes.magic_yaml = {\n                        reg: [\"^%%yaml\"]\n                    }\n                }\n            );\n            ",
      "text/plain": [
       "<IPython.core.display.Javascript object>"
      ]
     },
     "metadata": {},
     "output_type": "display_data"
    }
   ],
   "source": [
    "%%yaml finetune_model_cfg  \n",
    "\n",
    "model:\n",
    "  _class: '?'\n",
    "  base_model_dir: '?'\n",
    "  dims: 2"
   ]
  },
  {
   "cell_type": "markdown",
   "id": "26801b2f",
   "metadata": {},
   "source": [
    "# Define the Callbacks config."
   ]
  },
  {
   "cell_type": "code",
   "execution_count": 10,
   "id": "01c7ad0b",
   "metadata": {},
   "outputs": [
    {
     "data": {
      "application/javascript": "\n            require(\n                [\n                    \"notebook/js/codecell\",\n                    \"codemirror/mode/yaml/yaml\"\n                ],\n                function(cc){\n                    cc.CodeCell.options_default.highlight_modes.magic_yaml = {\n                        reg: [\"^%%yaml\"]\n                    }\n                }\n            );\n            ",
      "text/plain": [
       "<IPython.core.display.Javascript object>"
      ]
     },
     "metadata": {},
     "output_type": "display_data"
    }
   ],
   "source": [
    "%%yaml base_callbacks_cfg\n",
    "\n",
    "log:\n",
    "  root: '?'\n",
    "  metrics:\n",
    "    dice_score:\n",
    "      _fn: ionpy.metrics.dice_score\n",
    "      batch_reduction: 'mean' \n",
    "      ignore_empty_labels: False \n",
    "      from_logits: True\n",
    "\n",
    "callbacks:\n",
    "  step:\n",
    "    - ionpy.callbacks.ShowPredictions:\n",
    "        vis_type: 'segmentation'\n",
    "  epoch:\n",
    "    - ionpy.callbacks.ETA\n",
    "    - ionpy.callbacks.JobProgress\n",
    "    - ionpy.callbacks.TerminateOnNaN\n",
    "    - ionpy.callbacks.PrintLogged\n",
    "    - ionpy.callbacks.WandbLogger:\n",
    "        entity: 'vbutoi'\n",
    "        project: 'SemanticCalibration'\n",
    "    - ionpy.callbacks.ModelCheckpoint:\n",
    "        monitor: dice_score\n",
    "        phase: val"
   ]
  },
  {
   "cell_type": "code",
   "execution_count": 11,
   "id": "6b2cc4bf",
   "metadata": {},
   "outputs": [
    {
     "data": {
      "application/javascript": "\n            require(\n                [\n                    \"notebook/js/codecell\",\n                    \"codemirror/mode/yaml/yaml\"\n                ],\n                function(cc){\n                    cc.CodeCell.options_default.highlight_modes.magic_yaml = {\n                        reg: [\"^%%yaml\"]\n                    }\n                }\n            );\n            ",
      "text/plain": [
       "<IPython.core.display.Javascript object>"
      ]
     },
     "metadata": {},
     "output_type": "display_data"
    }
   ],
   "source": [
    "%%yaml finetune_callbacks_cfg\n",
    "\n",
    "log:\n",
    "  root: '?'\n",
    "  metrics:\n",
    "    ece_loss:\n",
    "      _fn: ese.metrics.image_ece_loss\n",
    "      num_prob_bins: 15\n",
    "      from_logits: True\n",
    "      lower_threshold: 0.01\n",
    "    dice_score:\n",
    "      _fn: ionpy.metrics.dice_score\n",
    "      batch_reduction: 'mean' \n",
    "      ignore_empty_labels: False \n",
    "      from_logits: True\n",
    "\n",
    "callbacks:\n",
    "  step:\n",
    "    - ionpy.callbacks.ShowPredictions:\n",
    "        vis_type: 'segmentation'\n",
    "  epoch:\n",
    "    - ionpy.callbacks.ETA\n",
    "    - ionpy.callbacks.JobProgress\n",
    "    - ionpy.callbacks.TerminateOnNaN\n",
    "    - ionpy.callbacks.PrintLogged\n",
    "    - ionpy.callbacks.WandbLogger:\n",
    "        entity: 'vbutoi'\n",
    "        project: 'SemanticCalibration'\n",
    "    - ionpy.callbacks.ModelCheckpoint:\n",
    "        monitor: \n",
    "          - dice_score\n",
    "          - ece_loss\n",
    "        phase: val"
   ]
  },
  {
   "cell_type": "markdown",
   "id": "1379293d",
   "metadata": {},
   "source": [
    "# Define the config combos."
   ]
  },
  {
   "cell_type": "code",
   "execution_count": 12,
   "id": "8769a35d",
   "metadata": {},
   "outputs": [],
   "source": [
    "# Training standard segmentation models.\n",
    "base_cfg = Config(base_default_cfg).update([\n",
    "    base_data_cfg,\n",
    "    base_loss_cfg,\n",
    "    base_model_cfg, \n",
    "    base_callbacks_cfg\n",
    "])\n",
    "\n",
    "# Training models on top of base ones.\n",
    "finetune_cfg = Config(finetune_default_cfg).update([\n",
    "    finetune_data_cfg,\n",
    "    finetune_loss_cfg,\n",
    "    finetune_model_cfg, \n",
    "    finetune_callbacks_cfg \n",
    "])"
   ]
  },
  {
   "cell_type": "markdown",
   "id": "aee136e9",
   "metadata": {},
   "source": [
    "# Experimental Variations."
   ]
  },
  {
   "cell_type": "code",
   "execution_count": 13,
   "id": "738b1c2e",
   "metadata": {},
   "outputs": [
    {
     "data": {
      "application/javascript": "\n            require(\n                [\n                    \"notebook/js/codecell\",\n                    \"codemirror/mode/yaml/yaml\"\n                ],\n                function(cc){\n                    cc.CodeCell.options_default.highlight_modes.magic_yaml = {\n                        reg: [\"^%%yaml\"]\n                    }\n                }\n            );\n            ",
      "text/plain": [
       "<IPython.core.display.Javascript object>"
      ]
     },
     "metadata": {},
     "output_type": "display_data"
    }
   ],
   "source": [
    "%%yaml experiment_cfg \n",
    "\n",
    "group: \"OCTA_ReducedCalibratorSuite_SoftDicePT\"\n",
    "\n",
    "model: \n",
    "    base_model_dir: \"/storage/vbutoi/scratch/ESE/training/older_runs/2024/08_August_2024/08_07_24_OCTA_FULLRES_SoftDice/20240807_144440-P7H9-459da42e97888bccb0aa79c297f388cd\"\n",
    "    _class: \n",
    "        - \"ese.models.TS\"\n",
    "        - \"ese.models.VS\"\n",
    "        - \"ese.models.LTS\"\n",
    "        - \"ese.models.IBTS\""
   ]
  },
  {
   "cell_type": "code",
   "execution_count": 14,
   "id": "4646d355",
   "metadata": {},
   "outputs": [],
   "source": [
    "from ionpy.experiment.generate_configs import get_training_configs\n",
    "\n",
    "# Get the different experiment cfg yamls.\n",
    "updated_base_cfg, train_cfgs = get_training_configs(\n",
    "    exp_cfg=experiment_cfg, \n",
    "    # base_cfg=base_cfg,\n",
    "    base_cfg=finetune_cfg,\n",
    "    config_root=CONFIG_ROOT,\n",
    "    scratch_root=SCRATCH_ROOT,\n",
    "    add_date=True\n",
    ")"
   ]
  },
  {
   "cell_type": "code",
   "execution_count": 15,
   "id": "d7904470",
   "metadata": {},
   "outputs": [
    {
     "data": {
      "text/plain": [
       "4"
      ]
     },
     "execution_count": 15,
     "metadata": {},
     "output_type": "execute_result"
    }
   ],
   "source": [
    "len(train_cfgs)"
   ]
  },
  {
   "cell_type": "markdown",
   "id": "2225fe62",
   "metadata": {},
   "source": [
    "# Running Jobs"
   ]
  },
  {
   "cell_type": "code",
   "execution_count": 16,
   "id": "edbdcf3d",
   "metadata": {},
   "outputs": [],
   "source": [
    "# # ####### FOR DEBUGGIN\n",
    "# from ionpy.slite import run_exp\n",
    "# from ese.experiment import CalibrationExperiment\n",
    "\n",
    "# run_exp(\n",
    "#     config=train_cfgs[0], \n",
    "#     experiment_class=CalibrationExperiment,\n",
    "#     run_name='debug',\n",
    "#     show_examples=True,\n",
    "#     track_wandb=False,\n",
    "#     gpu='0',\n",
    "# )"
   ]
  },
  {
   "cell_type": "code",
   "execution_count": 17,
   "id": "3d5ce71d",
   "metadata": {},
   "outputs": [
    {
     "data": {
      "application/javascript": "\n            require(\n                [\n                    \"notebook/js/codecell\",\n                    \"codemirror/mode/yaml/yaml\"\n                ],\n                function(cc){\n                    cc.CodeCell.options_default.highlight_modes.magic_yaml = {\n                        reg: [\"^%%yaml\"]\n                    }\n                }\n            );\n            ",
      "text/plain": [
       "<IPython.core.display.Javascript object>"
      ]
     },
     "metadata": {},
     "output_type": "display_data"
    }
   ],
   "source": [
    "%%yaml submit_cfg\n",
    "\n",
    "mode: \"local\"\n",
    "group: \"training\"\n",
    "add_date: True\n",
    "track_wandb: True\n",
    "jobs_per_gpu: 1\n",
    "scratch_root: \"/storage/vbutoi/scratch/ESE\""
   ]
  },
  {
   "cell_type": "code",
   "execution_count": 18,
   "id": "752e271d",
   "metadata": {},
   "outputs": [
    {
     "name": "stdout",
     "output_type": "stream",
     "text": [
      "--> Launched job-id: 706 on gpu: 0.\n",
      "--> Launched job-id: 707 on gpu: 1.\n",
      "--> Launched job-id: 708 on gpu: 2.\n",
      "--> Launched job-id: 709 on gpu: 3.\n"
     ]
    }
   ],
   "source": [
    "# FOR SUBMISSION\n",
    "from ionpy.slite import submit_exps\n",
    "from ese.experiment import CalibrationExperiment\n",
    "\n",
    "submit_exps(\n",
    "    cfg_list=train_cfgs,\n",
    "    submit_cfg=submit_cfg,\n",
    "    exp_cfg=experiment_cfg,\n",
    "    base_cfg=updated_base_cfg,\n",
    "    experiment_class=CalibrationExperiment,\n",
    ")"
   ]
  }
 ],
 "metadata": {
  "kernelspec": {
   "display_name": "Python 3",
   "language": "python",
   "name": "python3"
  },
  "language_info": {
   "codemirror_mode": {
    "name": "ipython",
    "version": 3
   },
   "file_extension": ".py",
   "mimetype": "text/x-python",
   "name": "python",
   "nbconvert_exporter": "python",
   "pygments_lexer": "ipython3",
   "version": "3.9.16"
  }
 },
 "nbformat": 4,
 "nbformat_minor": 5
}
