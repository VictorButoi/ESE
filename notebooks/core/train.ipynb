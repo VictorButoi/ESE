{
 "cells": [
  {
   "cell_type": "code",
   "execution_count": 1,
   "id": "9b121a30",
   "metadata": {},
   "outputs": [],
   "source": [
    "# Random Imports\n",
    "import os\n",
    "import sys\n",
    "import yaml\n",
    "from pathlib import Path\n",
    "sys.path.append('/storage/vbutoi/projects')\n",
    "sys.path.append('/storage/vbutoi/libraries')\n",
    "sys.path.append('/storage/vbutoi/projects/ESE')\n",
    "sys.path.append('/storage/vbutoi/projects/UniverSegDev')\n",
    "\n",
    "# Regular schema dictates that we put DATAPATH\n",
    "os.environ['DATAPATH'] = ':'.join((\n",
    "       '/storage/vbutoi/datasets',\n",
    "))\n",
    "os.environ['WANDB_NOTEBOOK_NAME'] = 'train.ipynb'\n",
    "\n",
    "# IonPy imports\n",
    "from ionpy.util import Config\n",
    "\n",
    "%load_ext yamlmagic\n",
    "%load_ext autoreload\n",
    "%autoreload 2"
   ]
  },
  {
   "cell_type": "code",
   "execution_count": null,
   "id": "ed8ce121",
   "metadata": {},
   "outputs": [],
   "source": [
    "%%yaml default_cfg \n",
    "\n",
    "experiment:\n",
    "  seed: '?' \n",
    "  torch_compile: False\n",
    "  torch_mixed_precision: False\n",
    "    \n",
    "dataloader:\n",
    "  batch_size: '?' \n",
    "  num_workers: '?'\n",
    "  pin_memory: True \n",
    "\n",
    "optim: \n",
    "  _class: torch.optim.Adam\n",
    "  lr: '?'\n",
    "  \n",
    "train:\n",
    "  epochs: '?' \n",
    "  eval_freq: '?'\n",
    "\n",
    "# Used for additional data experiment.\n",
    "data:\n",
    "  train_kwargs:\n",
    "    split: 'train'\n",
    "  val_kwargs: \n",
    "    split: 'val'\n",
    "  \n",
    "loss_func: \n",
    "  _class: '?'\n",
    "  from_logits: True\n",
    "  batch_reduction: 'mean' "
   ]
  },
  {
   "cell_type": "code",
   "execution_count": null,
   "id": "214d052f",
   "metadata": {},
   "outputs": [],
   "source": [
    "%%yaml log_cfg\n",
    "\n",
    "log:\n",
    "  root: '?'\n",
    "  checkpoint_freq: 20 \n",
    "  metrics:\n",
    "    dice_score:\n",
    "      _fn: ionpy.metrics.dice_score\n",
    "      batch_reduction: 'mean' \n",
    "      ignore_empty_labels: False \n",
    "      from_logits: True\n",
    "    abs_area_estimation_error:\n",
    "      _fn: ese.losses.area_estimation_error\n",
    "      from_logits: True\n",
    "      abs_diff: True"
   ]
  },
  {
   "cell_type": "code",
   "execution_count": null,
   "id": "e2ac20c6",
   "metadata": {},
   "outputs": [],
   "source": [
    "%%yaml model_cfg  \n",
    "\n",
    "model:\n",
    "  _class: ese.models.unet.UNet\n",
    "  filters: '?'\n",
    "  convs_per_block: '?' # Good default for UNets."
   ]
  },
  {
   "cell_type": "code",
   "execution_count": null,
   "id": "01c7ad0b",
   "metadata": {},
   "outputs": [],
   "source": [
    "%%yaml callbacks_cfg\n",
    "\n",
    "callbacks:\n",
    "  step:\n",
    "    - ese.callbacks.ShowPredictions\n",
    "  epoch:\n",
    "    - ese.callbacks.WandbLogger\n",
    "    - ionpy.callbacks.ETA\n",
    "    - ionpy.callbacks.JobProgress\n",
    "    - ionpy.callbacks.TerminateOnNaN\n",
    "    - ionpy.callbacks.PrintLogged\n",
    "    - ionpy.callbacks.ModelCheckpoint:\n",
    "        monitor: dice_score\n",
    "        phase: val"
   ]
  },
  {
   "cell_type": "code",
   "execution_count": null,
   "id": "c94caba0",
   "metadata": {},
   "outputs": [],
   "source": [
    "%%yaml aug_cfg\n",
    "\n",
    "augmentations:\n",
    "    spatial:\n",
    "        max_translation: 5.0\n",
    "        max_rotation: 5.0\n",
    "        max_scaling: 1.1\n",
    "        warp_integrations: 5\n",
    "        warp_smoothing_range: [10, 20]\n",
    "        warp_magnitude_range: [1, 3]\n",
    "        affine_probability: 0.5\n",
    "        warp_probability: 0.5\n",
    "    visual:\n",
    "        use_mask: False \n",
    "        added_noise_max_sigma: 0.05\n",
    "        gamma_scaling_max: 0.8\n",
    "        bias_field_probability: 0.5\n",
    "        gamma_scaling_probability: 0.5\n",
    "        added_noise_probability: 0.5"
   ]
  },
  {
   "cell_type": "code",
   "execution_count": null,
   "id": "738b1c2e",
   "metadata": {},
   "outputs": [],
   "source": [
    "%%yaml experiment_cfg \n",
    "\n",
    "name: \"10_10_24_Roads_FullRes_big_CrossEntropy\"\n",
    "\n",
    "experiment:\n",
    "    seed: 40\n",
    "    seed_range: 3\n",
    "    torch_compile: True  \n",
    "\n",
    "data:\n",
    "    _class: \"ese.datasets.Roads\"\n",
    "    version: 0.1\n",
    "\n",
    "dataloader:\n",
    "  # batch_size: 4\n",
    "  # num_workers: 2\n",
    "  batch_size: 1\n",
    "  num_workers: 1\n",
    "\n",
    "optim:\n",
    "  lr: 1.0e-4 \n",
    "\n",
    "loss_func:\n",
    "    # _class: ese.losses.SoftDiceLoss\n",
    "    _class: ese.losses.PixelCELoss"
   ]
  },
  {
   "cell_type": "code",
   "execution_count": 8,
   "id": "8769a35d",
   "metadata": {},
   "outputs": [],
   "source": [
    "from ese.analysis.analysis_utils.submit_utils import get_ese_training_configs \n",
    "\n",
    "# Get the configs for the different runs.\n",
    "base_cfg = Config(default_cfg).update([model_cfg, log_cfg, callbacks_cfg])\n",
    "# base_cfg = Config(default_cfg).update([model_cfg, log_cfg, callbacks_cfg, aug_cfg])\n",
    "\n",
    "# Get the different experiment cfg yamls.\n",
    "updated_base_cfg, train_cfgs = get_ese_training_configs(\n",
    "    exp_cfg=experiment_cfg, \n",
    "    base_cfg=base_cfg\n",
    ")"
   ]
  },
  {
   "cell_type": "code",
   "execution_count": null,
   "id": "d7904470",
   "metadata": {},
   "outputs": [],
   "source": [
    "len(train_cfgs)"
   ]
  },
  {
   "cell_type": "code",
   "execution_count": null,
   "id": "8d00c339",
   "metadata": {},
   "outputs": [],
   "source": [
    "from pprint import pprint\n",
    "\n",
    "pprint(train_cfgs[0])"
   ]
  },
  {
   "cell_type": "markdown",
   "id": "2225fe62",
   "metadata": {},
   "source": [
    "## Running Jobs"
   ]
  },
  {
   "cell_type": "code",
   "execution_count": null,
   "id": "edbdcf3d",
   "metadata": {},
   "outputs": [],
   "source": [
    "####### FOR DEBUGGIN\n",
    "from ese.experiment import run_ese_exp, CalibrationExperiment\n",
    "\n",
    "run_ese_exp(\n",
    "    config=train_cfgs[0], \n",
    "    experiment_class=CalibrationExperiment,\n",
    "    run_name='debug',\n",
    "    show_examples=True,\n",
    "    track_wandb=False,\n",
    "    gpu='5',\n",
    ")"
   ]
  },
  {
   "cell_type": "code",
   "execution_count": null,
   "id": "05938b03",
   "metadata": {},
   "outputs": [],
   "source": [
    "# FOR SUBMISSION\n",
    "from ese.experiment import submit_ese_exps, CalibrationExperiment \n",
    "\n",
    "submit_ese_exps(\n",
    "    group=\"training\",\n",
    "    base_cfg=updated_base_cfg,\n",
    "    exp_cfg=experiment_cfg,\n",
    "    config_list=train_cfgs,\n",
    "    experiment_class=CalibrationExperiment,\n",
    "    available_gpus=['5', '6', '7'],\n",
    "    track_wandb=True\n",
    ")"
   ]
  }
 ],
 "metadata": {
  "kernelspec": {
   "display_name": "Python 3",
   "language": "python",
   "name": "python3"
  },
  "language_info": {
   "codemirror_mode": {
    "name": "ipython",
    "version": 3
   },
   "file_extension": ".py",
   "mimetype": "text/x-python",
   "name": "python",
   "nbconvert_exporter": "python",
   "pygments_lexer": "ipython3",
   "version": "3.9.16"
  }
 },
 "nbformat": 4,
 "nbformat_minor": 5
}
