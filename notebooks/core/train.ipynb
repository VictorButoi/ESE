{
 "cells": [
  {
   "cell_type": "code",
   "execution_count": null,
   "id": "9b121a30",
   "metadata": {},
   "outputs": [],
   "source": [
    "# Define useful paths\n",
    "SCRATCH_ROOT = \"/storage/vbutoi/scratch/ESE\"\n",
    "CONFIG_ROOT = \"/storage/vbutoi/projects/ESE/configs\"\n",
    "import sys\n",
    "sys.path.append('/storage/vbutoi/projects')\n",
    "sys.path.append('/storage/vbutoi/projects/ESE')\n",
    "\n",
    "# IonPy imports\n",
    "from ionpy.util import Config\n",
    "\n",
    "%load_ext yamlmagic\n",
    "%load_ext autoreload\n",
    "%autoreload 2"
   ]
  },
  {
   "cell_type": "code",
   "execution_count": null,
   "id": "ed8ce121",
   "metadata": {},
   "outputs": [],
   "source": [
    "%%yaml default_cfg \n",
    "\n",
    "experiment:\n",
    "  seed: 40\n",
    "  seed_range: 1\n",
    "  val_first: False \n",
    "  torch_compile: False \n",
    "  torch_mixed_precision: False\n",
    "  sys_paths:\n",
    "    - \"/storage/vbutoi/projects\"\n",
    "    - \"/storage/vbutoi/libraries\"\n",
    "    - \"/storage/vbutoi/projects/ESE\"\n",
    "  data_paths:\n",
    "    - \"/storage\"\n",
    "    - \"/storage/vbutoi/datasets\"\n",
    "\n",
    "dataloader:\n",
    "  batch_size: 16 \n",
    "  num_workers: 4 \n",
    "  pin_memory: True \n",
    "\n",
    "optim: \n",
    "  _class: torch.optim.Adam\n",
    "  lr: 1.0e-4 \n",
    "  \n",
    "train:\n",
    "  epochs: 500 \n",
    "  eval_freq: 5 \n",
    "\n",
    "log:\n",
    "  checkpoint_freq: 5 "
   ]
  },
  {
   "cell_type": "markdown",
   "id": "5c61a9dc",
   "metadata": {},
   "source": [
    "# Define the data."
   ]
  },
  {
   "cell_type": "code",
   "execution_count": null,
   "id": "0626d3f0",
   "metadata": {},
   "outputs": [],
   "source": [
    "%%yaml base_data_cfg \n",
    "\n",
    "# Used for additional data experiment.\n",
    "data:\n",
    "  _class: 'ese.datasets.ISLES'\n",
    "  train_kwargs:\n",
    "    split: 'train'\n",
    "  val_kwargs: \n",
    "    split: 'val'"
   ]
  },
  {
   "cell_type": "code",
   "execution_count": null,
   "id": "2b2a5fd1",
   "metadata": {},
   "outputs": [],
   "source": [
    "%%yaml finetune_data_cfg \n",
    "\n",
    "# Used for additional data experiment.\n",
    "data:\n",
    "  use_pt_data_cfg: True\n",
    "  train_kwargs:\n",
    "    split: 'train'\n",
    "  val_kwargs: \n",
    "    split: 'val'"
   ]
  },
  {
   "cell_type": "markdown",
   "id": "dfff1f93",
   "metadata": {},
   "source": [
    "# Define the Loss Function config."
   ]
  },
  {
   "cell_type": "code",
   "execution_count": null,
   "id": "c2ddbe78",
   "metadata": {},
   "outputs": [],
   "source": [
    "%%yaml base_loss_cfg\n",
    "\n",
    "loss_func: \n",
    "  _class: ese.losses.SoftDiceLoss\n",
    "  from_logits: True\n",
    "  batch_reduction: 'mean' \n",
    "  ignore_empty_labels: False "
   ]
  },
  {
   "cell_type": "code",
   "execution_count": null,
   "id": "f773855b",
   "metadata": {},
   "outputs": [],
   "source": [
    "%%yaml finetune_loss_cfg\n",
    "\n",
    "loss_func: \n",
    "  _class: ese.losses.SoftDiceLoss\n",
    "  from_logits: True\n",
    "  batch_reduction: 'mean' \n",
    "  ignore_empty_labels: False "
   ]
  },
  {
   "cell_type": "markdown",
   "id": "1da215a7",
   "metadata": {},
   "source": [
    "# Define the Model config."
   ]
  },
  {
   "cell_type": "code",
   "execution_count": null,
   "id": "e2ac20c6",
   "metadata": {},
   "outputs": [],
   "source": [
    "%%yaml base_model_cfg  \n",
    "\n",
    "model:\n",
    "  _class: ese.models.unet.UNet\n",
    "  filters: [64, 64, 64, 64, 64, 64, 64] \n",
    "  convs_per_block: 3 # Good default for UNets.\n",
    "  dims: 3"
   ]
  },
  {
   "cell_type": "code",
   "execution_count": null,
   "id": "1a1e9508",
   "metadata": {},
   "outputs": [],
   "source": [
    "%%yaml finetune_model_cfg  \n",
    "\n",
    "model:\n",
    "  _class: '?'\n",
    "  pretrained_dir: '?'"
   ]
  },
  {
   "cell_type": "markdown",
   "id": "26801b2f",
   "metadata": {},
   "source": [
    "# Define the Callbacks config."
   ]
  },
  {
   "cell_type": "code",
   "execution_count": null,
   "id": "01c7ad0b",
   "metadata": {},
   "outputs": [],
   "source": [
    "%%yaml base_callbacks_cfg\n",
    "\n",
    "log:\n",
    "  root: '?'\n",
    "  metrics:\n",
    "    dice_score:\n",
    "      _fn: ionpy.metrics.dice_score\n",
    "      batch_reduction: 'mean' \n",
    "      ignore_empty_labels: False \n",
    "      from_logits: True\n",
    "\n",
    "callbacks:\n",
    "  step:\n",
    "    - ionpy.callbacks.ShowPredictions:\n",
    "        vis_type: 'segmentation'\n",
    "  epoch:\n",
    "    - ionpy.callbacks.ETA\n",
    "    - ionpy.callbacks.JobProgress\n",
    "    - ionpy.callbacks.TerminateOnNaN\n",
    "    - ionpy.callbacks.PrintLogged\n",
    "    - ionpy.callbacks.WandbLogger:\n",
    "        entity: 'vbutoi'\n",
    "        project: 'SemanticCalibration'\n",
    "    - ionpy.callbacks.ModelCheckpoint:\n",
    "        monitor: dice_score\n",
    "        phase: val"
   ]
  },
  {
   "cell_type": "code",
   "execution_count": null,
   "id": "6b2cc4bf",
   "metadata": {},
   "outputs": [],
   "source": [
    "%%yaml finetune_callbacks_cfg\n",
    "\n",
    "log:\n",
    "  root: '?'\n",
    "  metrics:\n",
    "    ece_loss:\n",
    "      _fn: ese.metrics.image_ece_loss\n",
    "      num_prob_bins: 15\n",
    "      from_logits: True\n",
    "    dice_score:\n",
    "      _fn: ionpy.metrics.dice_score\n",
    "      batch_reduction: 'mean' \n",
    "      ignore_empty_labels: False \n",
    "      from_logits: True\n",
    "\n",
    "callbacks:\n",
    "  step:\n",
    "    - ionpy.callbacks.ShowPredictions:\n",
    "        vis_type: 'segmentation'\n",
    "  epoch:\n",
    "    - ionpy.callbacks.ETA\n",
    "    - ionpy.callbacks.JobProgress\n",
    "    - ionpy.callbacks.TerminateOnNaN\n",
    "    - ionpy.callbacks.PrintLogged\n",
    "    - ionpy.callbacks.WandbLogger:\n",
    "        entity: 'vbutoi'\n",
    "        project: 'SemanticCalibration'\n",
    "    - ionpy.callbacks.ModelCheckpoint:\n",
    "        monitor: \n",
    "          - dice_score\n",
    "          - ece_loss\n",
    "        phase: val"
   ]
  },
  {
   "cell_type": "markdown",
   "id": "1379293d",
   "metadata": {},
   "source": [
    "# Define the config combos."
   ]
  },
  {
   "cell_type": "code",
   "execution_count": null,
   "id": "8769a35d",
   "metadata": {},
   "outputs": [],
   "source": [
    "# Training standard segmentation models.\n",
    "base_cfg = Config(default_cfg).update([\n",
    "    base_data_cfg,\n",
    "    base_loss_cfg,\n",
    "    base_model_cfg, \n",
    "    base_callbacks_cfg\n",
    "])\n",
    "\n",
    "# Training models on top of base ones.\n",
    "finetune_cfg = Config(default_cfg).update([\n",
    "    finetune_data_cfg,\n",
    "    finetune_loss_cfg,\n",
    "    finetune_model_cfg, \n",
    "    finetune_callbacks_cfg \n",
    "])"
   ]
  },
  {
   "cell_type": "markdown",
   "id": "aee136e9",
   "metadata": {},
   "source": [
    "# Experimental Variations."
   ]
  },
  {
   "cell_type": "code",
   "execution_count": null,
   "id": "738b1c2e",
   "metadata": {},
   "outputs": [],
   "source": [
    "%%yaml experiment_cfg \n",
    "\n",
    "group: \"ISLES_TS\"\n",
    "\n",
    "# model: \n",
    "#     _class: \"ese.models.TS\"\n",
    "#     pretrained_dir: \"/storage/vbutoi/scratch/ESE/training/older_runs/2024/September_2024/09_25_24_ISLES_3D_Dice_HeavyAug/20240925_234556-HGRQ-56cd3bf7df7a1b7d2a453b296d64407d\"\n",
    "\n",
    "dataloader:\n",
    "    batch_size: 1\n",
    "    num_workers: 1"
   ]
  },
  {
   "cell_type": "code",
   "execution_count": null,
   "id": "4646d355",
   "metadata": {},
   "outputs": [],
   "source": [
    "from ionpy.experiment.generate_configs import get_training_configs\n",
    "\n",
    "# Get the different experiment cfg yamls.\n",
    "updated_base_cfg, train_cfgs = get_training_configs(\n",
    "    exp_cfg=experiment_cfg, \n",
    "    base_cfg=base_cfg,\n",
    "    # base_cfg=finetune_cfg,\n",
    "    config_root=CONFIG_ROOT,\n",
    "    scratch_root=SCRATCH_ROOT,\n",
    "    add_date=True\n",
    ")"
   ]
  },
  {
   "cell_type": "code",
   "execution_count": null,
   "id": "d7904470",
   "metadata": {},
   "outputs": [],
   "source": [
    "len(train_cfgs)"
   ]
  },
  {
   "cell_type": "markdown",
   "id": "2225fe62",
   "metadata": {},
   "source": [
    "# Running Jobs"
   ]
  },
  {
   "cell_type": "code",
   "execution_count": null,
   "id": "edbdcf3d",
   "metadata": {},
   "outputs": [],
   "source": [
    "# ####### FOR DEBUGGIN\n",
    "from ionpy.slite import run_exp\n",
    "from ese.experiment import CalibrationExperiment\n",
    "\n",
    "run_exp(\n",
    "    config=train_cfgs[0], \n",
    "    experiment_class=CalibrationExperiment,\n",
    "    run_name='debug',\n",
    "    show_examples=True,\n",
    "    track_wandb=False,\n",
    "    gpu='0',\n",
    ")"
   ]
  },
  {
   "cell_type": "code",
   "execution_count": null,
   "id": "3d5ce71d",
   "metadata": {},
   "outputs": [],
   "source": [
    "%%yaml submit_cfg\n",
    "\n",
    "mode: \"local\"\n",
    "group: \"training\"\n",
    "add_date: True\n",
    "track_wandb: True\n",
    "scratch_root: \"/storage/vbutoi/scratch/ESE\""
   ]
  },
  {
   "cell_type": "code",
   "execution_count": null,
   "id": "05938b03",
   "metadata": {},
   "outputs": [],
   "source": [
    "# # FOR SUBMISSION\n",
    "# from ionpy.slite import submit_exps\n",
    "# from sebench.experiment.train import CalibrationExperiment \n",
    "\n",
    "# submit_exps(\n",
    "#     submit_cfg=submit_cfg,\n",
    "#     config_list=train_cfgs,\n",
    "#     exp_cfg=experiment_cfg,\n",
    "#     base_cfg=updated_base_cfg,\n",
    "#     experiment_class=CalibrationExperiment,\n",
    "#     available_gpus=['0', '1', '2', '3', '4', '5', '6', '7'],\n",
    "# )"
   ]
  }
 ],
 "metadata": {
  "kernelspec": {
   "display_name": "Python 3",
   "language": "python",
   "name": "python3"
  },
  "language_info": {
   "codemirror_mode": {
    "name": "ipython",
    "version": 3
   },
   "file_extension": ".py",
   "mimetype": "text/x-python",
   "name": "python",
   "nbconvert_exporter": "python",
   "pygments_lexer": "ipython3",
   "version": "3.9.16"
  }
 },
 "nbformat": 4,
 "nbformat_minor": 5
}
