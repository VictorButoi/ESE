{
 "cells": [
  {
   "cell_type": "code",
   "execution_count": 1,
   "metadata": {},
   "outputs": [],
   "source": [
    "import pathlib\n",
    "import sys\n",
    "sys.path.append(\"/storage/vbutoi/projects/ESE\")\n",
    "sys.path.append(\"/storage/vbutoi/projects\")\n",
    "sys.path.append(\"/storage/vbutoi/libraries\")\n",
    "\n",
    "%load_ext autoreload\n",
    "%autoreload 2\n",
    "\n",
    "%load_ext yamlmagic"
   ]
  },
  {
   "cell_type": "code",
   "execution_count": 2,
   "metadata": {},
   "outputs": [
    {
     "data": {
      "application/javascript": "\n            require(\n                [\n                    \"notebook/js/codecell\",\n                    \"codemirror/mode/yaml/yaml\"\n                ],\n                function(cc){\n                    cc.CodeCell.options_default.highlight_modes.magic_yaml = {\n                        reg: [\"^%%yaml\"]\n                    }\n                }\n            );\n            ",
      "text/plain": [
       "<IPython.core.display.Javascript object>"
      ]
     },
     "metadata": {},
     "output_type": "display_data"
    }
   ],
   "source": [
    "%%yaml cityscapes_proc_config\n",
    "\n",
    "data_root: \"/storage/vbutoi/datasets/CityScapes\"\n",
    "version: 0.1\n",
    "show_examples: False\n",
    "save: True"
   ]
  },
  {
   "cell_type": "code",
   "execution_count": 4,
   "metadata": {},
   "outputs": [
    {
     "name": "stderr",
     "output_type": "stream",
     "text": [
      "  0%|          | 0/3 [00:00<?, ?it/s]"
     ]
    },
    {
     "name": "stdout",
     "output_type": "stream",
     "text": [
      "Img shape:  (1024, 2048, 3)\n",
      "Label shape:  (1024, 2048)\n",
      "Img shape:  (1024, 2048, 3)\n",
      "Label shape:  (1024, 2048)\n",
      "Img shape:  (1024, 2048, 3)\n",
      "Label shape:  (1024, 2048)\n",
      "Img shape:  (1024, 2048, 3)\n",
      "Label shape:  (1024, 2048)\n",
      "Img shape:  (1024, 2048, 3)\n",
      "Label shape:  (1024, 2048)\n",
      "Img shape:  (1024, 2048, 3)\n",
      "Label shape:  (1024, 2048)\n",
      "Img shape:  (1024, 2048, 3)\n",
      "Label shape:  (1024, 2048)\n",
      "Img shape:  (1024, 2048, 3)\n",
      "Label shape:  (1024, 2048)\n",
      "Img shape:  (1024, 2048, 3)\n",
      "Label shape:  (1024, 2048)\n"
     ]
    },
    {
     "name": "stderr",
     "output_type": "stream",
     "text": [
      "  0%|          | 0/3 [00:03<?, ?it/s]\n",
      "  0%|          | 0/3 [00:03<?, ?it/s]\n"
     ]
    },
    {
     "ename": "KeyboardInterrupt",
     "evalue": "",
     "output_type": "error",
     "traceback": [
      "\u001b[0;31m---------------------------------------------------------------------------\u001b[0m",
      "\u001b[0;31mKeyboardInterrupt\u001b[0m                         Traceback (most recent call last)",
      "Cell \u001b[0;32mIn[4], line 4\u001b[0m\n\u001b[1;32m      1\u001b[0m \u001b[39mfrom\u001b[39;00m \u001b[39mese\u001b[39;00m\u001b[39m.\u001b[39;00m\u001b[39mexperiment\u001b[39;00m\u001b[39m.\u001b[39;00m\u001b[39mdatasets\u001b[39;00m\u001b[39m.\u001b[39;00m\u001b[39mutils\u001b[39;00m \u001b[39mimport\u001b[39;00m proc_CityScapes\n\u001b[1;32m      2\u001b[0m \u001b[39mfrom\u001b[39;00m \u001b[39mionpy\u001b[39;00m\u001b[39m.\u001b[39;00m\u001b[39mutil\u001b[39;00m \u001b[39mimport\u001b[39;00m Config\n\u001b[0;32m----> 4\u001b[0m proc_CityScapes(Config(cityscapes_proc_config))\n",
      "File \u001b[0;32m/storage/vbutoi/projects/ESE/ese/experiment/datasets/utils/cityscapes/build_cityscapes.py:150\u001b[0m, in \u001b[0;36mproc_CityScapes\u001b[0;34m(cfg)\u001b[0m\n\u001b[1;32m    147\u001b[0m         label_save_dir \u001b[39m=\u001b[39m save_root \u001b[39m/\u001b[39m \u001b[39m\"\u001b[39m\u001b[39mlabel.npy\u001b[39m\u001b[39m\"\u001b[39m\n\u001b[1;32m    149\u001b[0m         np\u001b[39m.\u001b[39msave(img_save_dir, img)\n\u001b[0;32m--> 150\u001b[0m         np\u001b[39m.\u001b[39;49msave(label_save_dir, label)\n\u001b[1;32m    152\u001b[0m \u001b[39mexcept\u001b[39;00m \u001b[39mException\u001b[39;00m \u001b[39mas\u001b[39;00m e:\n\u001b[1;32m    153\u001b[0m     \u001b[39mprint\u001b[39m(\u001b[39mf\u001b[39m\u001b[39m\"\u001b[39m\u001b[39mError with \u001b[39m\u001b[39m{\u001b[39;00mexample_dir\u001b[39m.\u001b[39mname\u001b[39m}\u001b[39;00m\u001b[39m: \u001b[39m\u001b[39m{\u001b[39;00me\u001b[39m}\u001b[39;00m\u001b[39m. Skipping\u001b[39m\u001b[39m\"\u001b[39m)\n",
      "File \u001b[0;32m<__array_function__ internals>:180\u001b[0m, in \u001b[0;36msave\u001b[0;34m(*args, **kwargs)\u001b[0m\n",
      "File \u001b[0;32m~/envs/UniverSegTF/lib/python3.9/site-packages/numpy/lib/npyio.py:522\u001b[0m, in \u001b[0;36msave\u001b[0;34m(file, arr, allow_pickle, fix_imports)\u001b[0m\n\u001b[1;32m    520\u001b[0m \u001b[39mwith\u001b[39;00m file_ctx \u001b[39mas\u001b[39;00m fid:\n\u001b[1;32m    521\u001b[0m     arr \u001b[39m=\u001b[39m np\u001b[39m.\u001b[39masanyarray(arr)\n\u001b[0;32m--> 522\u001b[0m     \u001b[39mformat\u001b[39;49m\u001b[39m.\u001b[39;49mwrite_array(fid, arr, allow_pickle\u001b[39m=\u001b[39;49mallow_pickle,\n\u001b[1;32m    523\u001b[0m                        pickle_kwargs\u001b[39m=\u001b[39;49m\u001b[39mdict\u001b[39;49m(fix_imports\u001b[39m=\u001b[39;49mfix_imports))\n",
      "File \u001b[0;32m~/envs/UniverSegTF/lib/python3.9/site-packages/numpy/lib/format.py:711\u001b[0m, in \u001b[0;36mwrite_array\u001b[0;34m(fp, array, version, allow_pickle, pickle_kwargs)\u001b[0m\n\u001b[1;32m    709\u001b[0m \u001b[39melse\u001b[39;00m:\n\u001b[1;32m    710\u001b[0m     \u001b[39mif\u001b[39;00m isfileobj(fp):\n\u001b[0;32m--> 711\u001b[0m         array\u001b[39m.\u001b[39;49mtofile(fp)\n\u001b[1;32m    712\u001b[0m     \u001b[39melse\u001b[39;00m:\n\u001b[1;32m    713\u001b[0m         \u001b[39mfor\u001b[39;00m chunk \u001b[39min\u001b[39;00m numpy\u001b[39m.\u001b[39mnditer(\n\u001b[1;32m    714\u001b[0m                 array, flags\u001b[39m=\u001b[39m[\u001b[39m'\u001b[39m\u001b[39mexternal_loop\u001b[39m\u001b[39m'\u001b[39m, \u001b[39m'\u001b[39m\u001b[39mbuffered\u001b[39m\u001b[39m'\u001b[39m, \u001b[39m'\u001b[39m\u001b[39mzerosize_ok\u001b[39m\u001b[39m'\u001b[39m],\n\u001b[1;32m    715\u001b[0m                 buffersize\u001b[39m=\u001b[39mbuffersize, order\u001b[39m=\u001b[39m\u001b[39m'\u001b[39m\u001b[39mC\u001b[39m\u001b[39m'\u001b[39m):\n",
      "\u001b[0;31mKeyboardInterrupt\u001b[0m: "
     ]
    }
   ],
   "source": [
    "from ese.experiment.datasets.utils import proc_CityScapes\n",
    "from ionpy.util import Config\n",
    "\n",
    "proc_CityScapes(Config(cityscapes_proc_config))"
   ]
  },
  {
   "cell_type": "code",
   "execution_count": null,
   "metadata": {},
   "outputs": [],
   "source": [
    "# from ionpy.slite.submit import submit_jobs\n",
    "# from ionpy.util import Config\n",
    "# from ese.experiment.datasets.utils import proc_CityScapes\n",
    "\n",
    "# submit_jobs(\n",
    "#     project=\"ESE\",\n",
    "#     exp_name=\"10_11_23_Proc_CityScapes\",\n",
    "#     config_list=[Config(cityscapes_config)], \n",
    "#     job_func=proc_CityScapes\n",
    "#     )"
   ]
  },
  {
   "cell_type": "code",
   "execution_count": null,
   "metadata": {},
   "outputs": [],
   "source": [
    "# %%yaml cityscapes_thunder_cfg\n",
    "\n",
    "# proc_root: \"/storage/vbutoi/datasets/CityScapes/processed\"\n",
    "# dst_dir: \"/storage/vbutoi/datasets/CityScapes/thunder_cityscapes\"\n",
    "# version: 0.1"
   ]
  },
  {
   "cell_type": "code",
   "execution_count": null,
   "metadata": {},
   "outputs": [],
   "source": [
    "# from ese.experiment.datasets.utils import thunderify_CityScapes\n",
    "# from ionpy.util import Config\n",
    "\n",
    "# thunderify_CityScapes(Config(cityscapes_thunder_cfg))"
   ]
  },
  {
   "cell_type": "code",
   "execution_count": null,
   "metadata": {},
   "outputs": [],
   "source": [
    "# from ionpy.slite.submit import submit_jobs\n",
    "# from ionpy.util import Config\n",
    "# from ese.experiment.datasets.utils import thunderify_CityScapes \n",
    "\n",
    "# submit_jobs(\n",
    "#     project=\"ESE\",\n",
    "#     exp_name=\"10_11_23_Thunder_CityScapes\",\n",
    "#     config_list=[Config(cityscapes_thunder_cfg)], \n",
    "#     job_func=thunderify_CityScapes\n",
    "#     )"
   ]
  }
 ],
 "metadata": {
  "kernelspec": {
   "display_name": "UniverSegTF",
   "language": "python",
   "name": "universegtf"
  },
  "language_info": {
   "codemirror_mode": {
    "name": "ipython",
    "version": 3
   },
   "file_extension": ".py",
   "mimetype": "text/x-python",
   "name": "python",
   "nbconvert_exporter": "python",
   "pygments_lexer": "ipython3",
   "version": "3.9.16"
  },
  "orig_nbformat": 4
 },
 "nbformat": 4,
 "nbformat_minor": 2
}
