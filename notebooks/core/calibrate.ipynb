{
 "cells": [
  {
   "cell_type": "code",
   "execution_count": 1,
   "metadata": {},
   "outputs": [],
   "source": [
    "# Random Imports\n",
    "import os\n",
    "import sys\n",
    "import yaml\n",
    "from pathlib import Path\n",
    "sys.path.append('/storage/vbutoi/projects')\n",
    "sys.path.append('/storage/vbutoi/libraries')\n",
    "sys.path.append('/storage/vbutoi/libraries/voxynth')\n",
    "sys.path.append('/storage/vbutoi/projects/ESE')\n",
    "sys.path.append('/storage/vbutoi/projects/UniverSegDev')\n",
    "\n",
    "# Regular schema dictates that we put DATAPATH\n",
    "os.environ['DATAPATH'] = ':'.join((\n",
    "       '/storage/vbutoi/datasets',\n",
    "))\n",
    "os.environ['WANDB_NOTEBOOK_NAME'] = 'calibrate.ipynb'\n",
    "\n",
    "# IonPy imports\n",
    "from ionpy.util import Config\n",
    "\n",
    "%load_ext yamlmagic\n",
    "%load_ext autoreload\n",
    "%autoreload 2"
   ]
  },
  {
   "cell_type": "code",
   "execution_count": 2,
   "metadata": {},
   "outputs": [
    {
     "data": {
      "application/javascript": "\n            require(\n                [\n                    \"notebook/js/codecell\",\n                    \"codemirror/mode/yaml/yaml\"\n                ],\n                function(cc){\n                    cc.CodeCell.options_default.highlight_modes.magic_yaml = {\n                        reg: [\"^%%yaml\"]\n                    }\n                }\n            );\n            ",
      "text/plain": [
       "<IPython.core.display.Javascript object>"
      ]
     },
     "metadata": {},
     "output_type": "display_data"
    }
   ],
   "source": [
    "%%yaml default_cfg\n",
    "\n",
    "experiment:\n",
    "  torch_compile: '?' \n",
    "  torch_mixed_precision: '?' \n",
    "\n",
    "data:\n",
    "  iters_per_epoch: '?' \n",
    "  train_splits: cal\n",
    "  val_splits: val \n",
    "\n",
    "dataloader:\n",
    "  batch_size: '?'\n",
    "  num_workers: 1\n",
    "  pin_memory: True \n",
    "\n",
    "optim: # Unclear if we should tune this or not.\n",
    "  _class: torch.optim.Adam\n",
    "  lr: '?'\n",
    "\n",
    "train:\n",
    "  epochs: '?'\n",
    "  eval_freq: '?'\n",
    "  base_pretrained_dir: '?'\n",
    "  base_checkpoint: 'max-val-dice_score'\n",
    "  base_pt_select_metric: 'val-dice_score'\n",
    "\n",
    "loss_func: \n",
    "  _class: '?'\n",
    "  from_logits: True\n",
    "  batch_reduction: 'mean' "
   ]
  },
  {
   "cell_type": "code",
   "execution_count": 3,
   "metadata": {},
   "outputs": [
    {
     "data": {
      "application/javascript": "\n            require(\n                [\n                    \"notebook/js/codecell\",\n                    \"codemirror/mode/yaml/yaml\"\n                ],\n                function(cc){\n                    cc.CodeCell.options_default.highlight_modes.magic_yaml = {\n                        reg: [\"^%%yaml\"]\n                    }\n                }\n            );\n            ",
      "text/plain": [
       "<IPython.core.display.Javascript object>"
      ]
     },
     "metadata": {},
     "output_type": "display_data"
    }
   ],
   "source": [
    "%%yaml log_cfg\n",
    "\n",
    "log:\n",
    "  checkpoint_freq: 50\n",
    "  root: '?'\n",
    "  metrics:\n",
    "    dice_score:\n",
    "      _fn: ionpy.metrics.dice_score\n",
    "      batch_reduction: 'mean' \n",
    "      ignore_empty_labels: False \n",
    "      from_logits: True\n",
    "    area_estimation_error:\n",
    "      _fn: ese.losses.area_estimation_error\n",
    "      from_logits: True\n",
    "      square_diff: False"
   ]
  },
  {
   "cell_type": "code",
   "execution_count": 4,
   "metadata": {},
   "outputs": [
    {
     "data": {
      "application/javascript": "\n            require(\n                [\n                    \"notebook/js/codecell\",\n                    \"codemirror/mode/yaml/yaml\"\n                ],\n                function(cc){\n                    cc.CodeCell.options_default.highlight_modes.magic_yaml = {\n                        reg: [\"^%%yaml\"]\n                    }\n                }\n            );\n            ",
      "text/plain": [
       "<IPython.core.display.Javascript object>"
      ]
     },
     "metadata": {},
     "output_type": "display_data"
    }
   ],
   "source": [
    "%%yaml callbacks_cfg\n",
    "\n",
    "callbacks:\n",
    "  step:\n",
    "    - ese.callbacks.ShowPredictions\n",
    "  epoch:\n",
    "    - ese.callbacks.WandbLogger\n",
    "    - ionpy.callbacks.ETA\n",
    "    - ionpy.callbacks.JobProgress\n",
    "    - ionpy.callbacks.TerminateOnNaN\n",
    "    - ionpy.callbacks.PrintLogged\n",
    "    - ionpy.callbacks.ModelCheckpoint:\n",
    "        monitor: \n",
    "          - dice_score \n",
    "          - area_estimation_error\n",
    "        phase: val"
   ]
  },
  {
   "cell_type": "code",
   "execution_count": 5,
   "metadata": {},
   "outputs": [
    {
     "data": {
      "application/javascript": "\n            require(\n                [\n                    \"notebook/js/codecell\",\n                    \"codemirror/mode/yaml/yaml\"\n                ],\n                function(cc){\n                    cc.CodeCell.options_default.highlight_modes.magic_yaml = {\n                        reg: [\"^%%yaml\"]\n                    }\n                }\n            );\n            ",
      "text/plain": [
       "<IPython.core.display.Javascript object>"
      ]
     },
     "metadata": {},
     "output_type": "display_data"
    }
   ],
   "source": [
    "%%yaml calibrator_defaults_cfg \n",
    "\n",
    "\n",
    "# For calibration methods.\n",
    "Finetune:\n",
    "  _class: null\n",
    "  \n",
    "TS:\n",
    "  _class: ese.models.calibrators.Temperature_Scaling\n",
    "\n",
    "ImageBasedTS:\n",
    "  _class: ese.models.calibrators.ImageBasedTS\n",
    "  img_channels: 1\n",
    "  num_classes: 1\n",
    "\n",
    "LTS:\n",
    "  _class: ese.models.calibrators.LocalTS\n",
    "  img_channels: 1\n",
    "  num_classes: 1\n",
    "  dims: '?'\n",
    "  filters:\n",
    "    - 8 \n",
    "    - 8 \n",
    "    - 8 \n",
    "\n",
    "3D_LTS:\n",
    "  _class: ese.models.calibrators.LocalTS\n",
    "  img_channels: 1\n",
    "  num_classes: 1\n",
    "  dims: 3\n",
    "  filters: [8, 8, 8, 8, 8, 8, 8]\n",
    "\n",
    "# For calibration methods.\n",
    "PopcornScaling:\n",
    "  _class: ese.models.calibrators.Popcorn_Scaling\n",
    "  ksize: 5 \n",
    "  init_mode: random "
   ]
  },
  {
   "cell_type": "code",
   "execution_count": 6,
   "metadata": {},
   "outputs": [
    {
     "data": {
      "application/javascript": "\n            require(\n                [\n                    \"notebook/js/codecell\",\n                    \"codemirror/mode/yaml/yaml\"\n                ],\n                function(cc){\n                    cc.CodeCell.options_default.highlight_modes.magic_yaml = {\n                        reg: [\"^%%yaml\"]\n                    }\n                }\n            );\n            ",
      "text/plain": [
       "<IPython.core.display.Javascript object>"
      ]
     },
     "metadata": {},
     "output_type": "display_data"
    }
   ],
   "source": [
    "%%yaml aug_cfg\n",
    "\n",
    "augmentations:\n",
    "    use_mask: False \n",
    "    added_noise_probability: 0.75\n",
    "    added_noise_max_sigma: 0.05\n",
    "    gamma_scaling_probability: 0.5\n",
    "    gamma_scaling_max: 0.8\n",
    "    normalize_min_quantile: 0.98\n",
    "    normalize_max_scale: 1.02\n",
    "    bias_field_probability: 0.5"
   ]
  },
  {
   "cell_type": "code",
   "execution_count": 7,
   "metadata": {},
   "outputs": [
    {
     "data": {
      "application/javascript": "\n            require(\n                [\n                    \"notebook/js/codecell\",\n                    \"codemirror/mode/yaml/yaml\"\n                ],\n                function(cc){\n                    cc.CodeCell.options_default.highlight_modes.magic_yaml = {\n                        reg: [\"^%%yaml\"]\n                    }\n                }\n            );\n            ",
      "text/plain": [
       "<IPython.core.display.Javascript object>"
      ]
     },
     "metadata": {},
     "output_type": "display_data"
    }
   ],
   "source": [
    "%%yaml experiment_cfg \n",
    "\n",
    "name: \"ISLES_3D_TS_wAug\"\n",
    "\n",
    "experiment:\n",
    "  torch_compile: True \n",
    "  torch_mixed_precision: False\n",
    "\n",
    "train: \n",
    "    base_pretrained_dir: \"/storage/vbutoi/scratch/ESE/training/09_15_24_ISLES_3D_Dice_wAUG\"\n",
    "\n",
    "data:\n",
    "    _class: ese.datasets.ISLES\n",
    "\n",
    "model:\n",
    "    # class_name: 3D_LTS\n",
    "    class_name: TS\n",
    "\n",
    "dataloader:\n",
    "  batch_size: 4 \n",
    "  num_workers: 2\n",
    "\n",
    "\n",
    "loss_func:\n",
    "    _class: ese.losses.AreaEstimationError"
   ]
  },
  {
   "cell_type": "code",
   "execution_count": 8,
   "metadata": {},
   "outputs": [],
   "source": [
    "from ese.analysis.analysis_utils.submit_utils import get_ese_calibration_configs\n",
    "\n",
    "# Get the configs for the different runs.\n",
    "\n",
    "# base_cfg = Config(default_cfg).update([log_cfg, callbacks_cfg])\n",
    "base_cfg = Config(default_cfg).update([log_cfg, callbacks_cfg, aug_cfg])\n",
    "\n",
    "updated_base_cfg, cal_cfgs = get_ese_calibration_configs(\n",
    "    exp_cfg=experiment_cfg,\n",
    "    base_cfg=base_cfg,\n",
    "    calibration_model_cfgs=calibrator_defaults_cfg\n",
    ")"
   ]
  },
  {
   "cell_type": "code",
   "execution_count": 9,
   "metadata": {},
   "outputs": [
    {
     "data": {
      "text/plain": [
       "3"
      ]
     },
     "execution_count": 9,
     "metadata": {},
     "output_type": "execute_result"
    }
   ],
   "source": [
    "len(cal_cfgs)"
   ]
  },
  {
   "cell_type": "markdown",
   "metadata": {},
   "source": [
    "## Running Jobs"
   ]
  },
  {
   "cell_type": "code",
   "execution_count": 10,
   "metadata": {},
   "outputs": [
    {
     "name": "stderr",
     "output_type": "stream",
     "text": [
      "/local/vbutoi/envs/UniverSegTF/lib/python3.9/site-packages/pydantic/_internal/_fields.py:149: UserWarning: Field \"model_outputs\" has conflict with protected namespace \"model_\".\n",
      "\n",
      "You may be able to resolve this warning by setting `model_config['protected_namespaces'] = ()`.\n",
      "  warnings.warn(\n"
     ]
    }
   ],
   "source": [
    "from ese.experiment import run_ese_exp, submit_ese_exps, PostHocExperiment"
   ]
  },
  {
   "cell_type": "code",
   "execution_count": 11,
   "metadata": {},
   "outputs": [],
   "source": [
    "# ####### Run individual jobs\n",
    "# run_ese_exp(\n",
    "#     config=cal_cfgs[0], \n",
    "#     experiment_class=PostHocExperiment,\n",
    "#     run_name='debug',\n",
    "#     show_examples=True,\n",
    "#     track_wandb=False,\n",
    "#     gpu='2',\n",
    "# )"
   ]
  },
  {
   "cell_type": "code",
   "execution_count": 12,
   "metadata": {},
   "outputs": [
    {
     "name": "stdout",
     "output_type": "stream",
     "text": [
      "Submitted job id: 1268538 on gpu: 2.\n",
      "Submitted job id: 1269281 on gpu: 3.\n",
      "Submitted job id: 1269799 on gpu: 4.\n"
     ]
    }
   ],
   "source": [
    "#### Run Batch Jobs\n",
    "submit_ese_exps(\n",
    "    group=\"calibration\",\n",
    "    base_cfg=updated_base_cfg,\n",
    "    exp_cfg=experiment_cfg,\n",
    "    config_list=cal_cfgs,\n",
    "    experiment_class=PostHocExperiment,\n",
    "    track_wandb=True,\n",
    "    available_gpus=['2', '3', '4']\n",
    ")"
   ]
  }
 ],
 "metadata": {
  "kernelspec": {
   "display_name": "Python 3",
   "language": "python",
   "name": "python3"
  },
  "language_info": {
   "codemirror_mode": {
    "name": "ipython",
    "version": 3
   },
   "file_extension": ".py",
   "mimetype": "text/x-python",
   "name": "python",
   "nbconvert_exporter": "python",
   "pygments_lexer": "ipython3",
   "version": "3.9.16"
  },
  "orig_nbformat": 4
 },
 "nbformat": 4,
 "nbformat_minor": 2
}
