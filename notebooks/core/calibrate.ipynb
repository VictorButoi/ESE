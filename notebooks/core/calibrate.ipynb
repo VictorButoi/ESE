{
 "cells": [
  {
   "cell_type": "code",
   "execution_count": 1,
   "metadata": {},
   "outputs": [],
   "source": [
    "# Random Imports\n",
    "import os\n",
    "import sys\n",
    "import yaml\n",
    "from pathlib import Path\n",
    "sys.path.append('/storage/vbutoi/projects')\n",
    "sys.path.append('/storage/vbutoi/libraries')\n",
    "sys.path.append('/storage/vbutoi/projects/ESE')\n",
    "sys.path.append('/storage/vbutoi/projects/UniverSegDev')\n",
    "\n",
    "# Regular schema dictates that we put DATAPATH\n",
    "os.environ['DATAPATH'] = ':'.join((\n",
    "       '/storage/vbutoi/datasets',\n",
    "))\n",
    "os.environ['WANDB_NOTEBOOK_NAME'] = 'calibrate.ipynb'\n",
    "\n",
    "# IonPy imports\n",
    "from ionpy.util import Config\n",
    "\n",
    "%load_ext yamlmagic\n",
    "%load_ext autoreload\n",
    "%autoreload 2"
   ]
  },
  {
   "cell_type": "code",
   "execution_count": 2,
   "metadata": {},
   "outputs": [
    {
     "data": {
      "application/javascript": "\n            require(\n                [\n                    \"notebook/js/codecell\",\n                    \"codemirror/mode/yaml/yaml\"\n                ],\n                function(cc){\n                    cc.CodeCell.options_default.highlight_modes.magic_yaml = {\n                        reg: [\"^%%yaml\"]\n                    }\n                }\n            );\n            ",
      "text/plain": [
       "<IPython.core.display.Javascript object>"
      ]
     },
     "metadata": {},
     "output_type": "display_data"
    }
   ],
   "source": [
    "%%yaml default_cfg\n",
    "\n",
    "experiment:\n",
    "  torch_compile: False\n",
    "  torch_mixed_precision: True \n",
    "\n",
    "data:\n",
    "  iters_per_epoch: '?' \n",
    "  train_splits: cal\n",
    "  val_splits: val \n",
    "\n",
    "dataloader:\n",
    "  batch_size: '?'\n",
    "  num_workers: 1\n",
    "  pin_memory: True \n",
    "\n",
    "optim: # Unclear if we should tune this or not.\n",
    "  _class: torch.optim.Adam\n",
    "  lr: '?'\n",
    "\n",
    "train:\n",
    "  epochs: '?'\n",
    "  eval_freq: '?'\n",
    "  base_pretrained_dir: '?'\n",
    "  base_checkpoint: 'max-val-dice_score'\n",
    "  base_pt_select_metric: 'val-dice_score'\n",
    "\n",
    "loss_func: \n",
    "  _class: '?'\n",
    "  from_logits: True\n",
    "  batch_reduction: 'mean' "
   ]
  },
  {
   "cell_type": "code",
   "execution_count": 3,
   "metadata": {},
   "outputs": [
    {
     "data": {
      "application/javascript": "\n            require(\n                [\n                    \"notebook/js/codecell\",\n                    \"codemirror/mode/yaml/yaml\"\n                ],\n                function(cc){\n                    cc.CodeCell.options_default.highlight_modes.magic_yaml = {\n                        reg: [\"^%%yaml\"]\n                    }\n                }\n            );\n            ",
      "text/plain": [
       "<IPython.core.display.Javascript object>"
      ]
     },
     "metadata": {},
     "output_type": "display_data"
    }
   ],
   "source": [
    "%%yaml log_cfg\n",
    "\n",
    "log:\n",
    "  checkpoint_freq: 50\n",
    "  root: '?'\n",
    "  metrics:\n",
    "    dice_score:\n",
    "      _fn: ionpy.metrics.dice_score\n",
    "      batch_reduction: 'mean' \n",
    "      ignore_empty_labels: False \n",
    "      from_logits: True\n",
    "    ece_loss:\n",
    "      _fn: ese.metrics.image_ece_loss\n",
    "      num_prob_bins: 15\n",
    "      from_logits: True\n",
    "    area_estimation_error:\n",
    "      _fn: ese.losses.area_estimation_error\n",
    "      from_logits: True\n",
    "      square_diff: False"
   ]
  },
  {
   "cell_type": "code",
   "execution_count": 4,
   "metadata": {},
   "outputs": [
    {
     "data": {
      "application/javascript": "\n            require(\n                [\n                    \"notebook/js/codecell\",\n                    \"codemirror/mode/yaml/yaml\"\n                ],\n                function(cc){\n                    cc.CodeCell.options_default.highlight_modes.magic_yaml = {\n                        reg: [\"^%%yaml\"]\n                    }\n                }\n            );\n            ",
      "text/plain": [
       "<IPython.core.display.Javascript object>"
      ]
     },
     "metadata": {},
     "output_type": "display_data"
    }
   ],
   "source": [
    "%%yaml callbacks_cfg\n",
    "\n",
    "callbacks:\n",
    "  step:\n",
    "    - ese.callbacks.ShowPredictions\n",
    "  epoch:\n",
    "    - ese.callbacks.WandbLogger\n",
    "    - ionpy.callbacks.ETA\n",
    "    - ionpy.callbacks.JobProgress\n",
    "    - ionpy.callbacks.TerminateOnNaN\n",
    "    - ionpy.callbacks.PrintLogged\n",
    "    - ionpy.callbacks.ModelCheckpoint:\n",
    "        monitor: \n",
    "          - ece_loss \n",
    "          - area_estimation_error\n",
    "        phase: val"
   ]
  },
  {
   "cell_type": "code",
   "execution_count": 5,
   "metadata": {},
   "outputs": [
    {
     "data": {
      "application/javascript": "\n            require(\n                [\n                    \"notebook/js/codecell\",\n                    \"codemirror/mode/yaml/yaml\"\n                ],\n                function(cc){\n                    cc.CodeCell.options_default.highlight_modes.magic_yaml = {\n                        reg: [\"^%%yaml\"]\n                    }\n                }\n            );\n            ",
      "text/plain": [
       "<IPython.core.display.Javascript object>"
      ]
     },
     "metadata": {},
     "output_type": "display_data"
    }
   ],
   "source": [
    "%%yaml calibrator_defaults_cfg \n",
    "\n",
    "\n",
    "# For calibration methods.\n",
    "Finetune:\n",
    "  _class: null\n",
    "  \n",
    "TS:\n",
    "  _class: ese.models.calibrators.Temperature_Scaling\n",
    "\n",
    "ImageBasedTS:\n",
    "  _class: ese.models.calibrators.ImageBasedTS\n",
    "  img_channels: 1\n",
    "  num_classes: 1\n",
    "\n",
    "LTS:\n",
    "  _class: ese.models.calibrators.LocalTS\n",
    "  img_channels: 1\n",
    "  num_classes: 1\n",
    "  dims: '?'\n",
    "  filters:\n",
    "    - 8 \n",
    "    - 8 \n",
    "    - 8 \n",
    "\n",
    "3D_LTS:\n",
    "  _class: ese.models.calibrators.LocalTS\n",
    "  img_channels: 1\n",
    "  num_classes: 1\n",
    "  dims: 3\n",
    "  filters: [32, 32, 32, 32, 32, 32]\n",
    "\n",
    "# For calibration methods.\n",
    "PopcornScaling:\n",
    "  _class: ese.models.calibrators.Popcorn_Scaling\n",
    "  ksize: 5 \n",
    "  init_mode: random "
   ]
  },
  {
   "cell_type": "code",
   "execution_count": 6,
   "metadata": {},
   "outputs": [
    {
     "data": {
      "application/javascript": "\n            require(\n                [\n                    \"notebook/js/codecell\",\n                    \"codemirror/mode/yaml/yaml\"\n                ],\n                function(cc){\n                    cc.CodeCell.options_default.highlight_modes.magic_yaml = {\n                        reg: [\"^%%yaml\"]\n                    }\n                }\n            );\n            ",
      "text/plain": [
       "<IPython.core.display.Javascript object>"
      ]
     },
     "metadata": {},
     "output_type": "display_data"
    }
   ],
   "source": [
    "%%yaml experiment_cfg \n",
    "\n",
    "# name: \"ISLES_3D_LTS_AndrewsLevels\"\n",
    "name: \"ISLES_3D_TS_Debug\"\n",
    "\n",
    "train: \n",
    "    base_pretrained_dir: \"/storage/vbutoi/scratch/ESE/training/09_09_24_ISLES_3D_Dice\"\n",
    "\n",
    "data:\n",
    "    _class: ese.datasets.ISLES\n",
    "\n",
    "model:\n",
    "    # class_name: 3D_LTS\n",
    "    class_name: TS\n",
    "\n",
    "dataloader:\n",
    "  batch_size: 4 \n",
    "\n",
    "optim:\n",
    "  lr: 1.0e-6 \n",
    "\n",
    "\n",
    "loss_func:\n",
    "    _class: ese.losses.AreaEstimationError"
   ]
  },
  {
   "cell_type": "code",
   "execution_count": 7,
   "metadata": {},
   "outputs": [],
   "source": [
    "from ese.analysis.analysis_utils.submit_utils import get_ese_calibration_configs\n",
    "\n",
    "# Get the configs for the different runs.\n",
    "base_cfg = Config(default_cfg).update([log_cfg, callbacks_cfg])\n",
    "\n",
    "updated_base_cfg, cal_cfgs = get_ese_calibration_configs(\n",
    "    exp_cfg=experiment_cfg,\n",
    "    base_cfg=base_cfg,\n",
    "    calibration_model_cfgs=calibrator_defaults_cfg\n",
    ")"
   ]
  },
  {
   "cell_type": "code",
   "execution_count": 8,
   "metadata": {},
   "outputs": [
    {
     "data": {
      "text/plain": [
       "4"
      ]
     },
     "execution_count": 8,
     "metadata": {},
     "output_type": "execute_result"
    }
   ],
   "source": [
    "len(cal_cfgs)"
   ]
  },
  {
   "cell_type": "markdown",
   "metadata": {},
   "source": [
    "## Running Jobs"
   ]
  },
  {
   "cell_type": "code",
   "execution_count": 9,
   "metadata": {},
   "outputs": [
    {
     "name": "stderr",
     "output_type": "stream",
     "text": [
      "/local/vbutoi/envs/UniverSegTF/lib/python3.9/site-packages/pydantic/_internal/_fields.py:149: UserWarning: Field \"model_outputs\" has conflict with protected namespace \"model_\".\n",
      "\n",
      "You may be able to resolve this warning by setting `model_config['protected_namespaces'] = ()`.\n",
      "  warnings.warn(\n"
     ]
    }
   ],
   "source": [
    "from ese.experiment import run_ese_exp, submit_ese_exps, PostHocExperiment"
   ]
  },
  {
   "cell_type": "code",
   "execution_count": 10,
   "metadata": {},
   "outputs": [
    {
     "data": {
      "text/html": [
       "<pre style=\"white-space:pre;overflow-x:auto;line-height:normal;font-family:Menlo,'DejaVu Sans Mono',consolas,'Courier New',monospace\"><span style=\"color: #800000; text-decoration-color: #800000; font-weight: bold\">Intel MKL extensions not available for NumPy</span>\n",
       "</pre>\n"
      ],
      "text/plain": [
       "\u001b[1;31mIntel MKL extensions not available for NumPy\u001b[0m\n"
      ]
     },
     "metadata": {},
     "output_type": "display_data"
    },
    {
     "data": {
      "text/html": [
       "<pre style=\"white-space:pre;overflow-x:auto;line-height:normal;font-family:Menlo,'DejaVu Sans Mono',consolas,'Courier New',monospace\"><span style=\"color: #800000; text-decoration-color: #800000; font-weight: bold\">Using slow Pillow instead of Pillow-SIMD</span>\n",
       "</pre>\n"
      ],
      "text/plain": [
       "\u001b[1;31mUsing slow Pillow instead of Pillow-SIMD\u001b[0m\n"
      ]
     },
     "metadata": {},
     "output_type": "display_data"
    },
    {
     "name": "stdout",
     "output_type": "stream",
     "text": [
      "Set seed: 43\n"
     ]
    },
    {
     "data": {
      "text/html": [
       "<pre style=\"white-space:pre;overflow-x:auto;line-height:normal;font-family:Menlo,'DejaVu Sans Mono',consolas,'Courier New',monospace\"><span style=\"color: #800000; text-decoration-color: #800000; font-weight: bold\">Intel MKL extensions not available for NumPy</span>\n",
       "</pre>\n"
      ],
      "text/plain": [
       "\u001b[1;31mIntel MKL extensions not available for NumPy\u001b[0m\n"
      ]
     },
     "metadata": {},
     "output_type": "display_data"
    },
    {
     "data": {
      "text/html": [
       "<pre style=\"white-space:pre;overflow-x:auto;line-height:normal;font-family:Menlo,'DejaVu Sans Mono',consolas,'Courier New',monospace\"><span style=\"color: #800000; text-decoration-color: #800000; font-weight: bold\">Using slow Pillow instead of Pillow-SIMD</span>\n",
       "</pre>\n"
      ],
      "text/plain": [
       "\u001b[1;31mUsing slow Pillow instead of Pillow-SIMD\u001b[0m\n"
      ]
     },
     "metadata": {},
     "output_type": "display_data"
    },
    {
     "name": "stdout",
     "output_type": "stream",
     "text": [
      "Loading checkpoint: max-val-dice_score.\n",
      "Running PostHocExperiment(\"/storage/vbutoi/scratch/ESE/calibration/debug/20240911_140117-LVGD-ed7f2a5bcce50448f58eee53715907c6\")\n",
      "---\n",
      "callbacks:\n",
      "  epoch:\n",
      "  - ionpy.callbacks.ETA\n",
      "  - ionpy.callbacks.JobProgress\n",
      "  - ionpy.callbacks.TerminateOnNaN\n",
      "  - ionpy.callbacks.PrintLogged\n",
      "  - ionpy.callbacks.ModelCheckpoint:\n",
      "      monitor:\n",
      "      - ece_loss\n",
      "      - area_estimation_error\n",
      "      phase: val\n",
      "  step:\n",
      "  - ese.callbacks.ShowPredictions\n",
      "data:\n",
      "  iters_per_epoch: 1000\n",
      "  preload: false\n",
      "  version: 1.0\n",
      "dataloader:\n",
      "  batch_size: 4\n",
      "  num_workers: 1\n",
      "  pin_memory: true\n",
      "experiment:\n",
      "  seed: 43\n",
      "  torch_compile: false\n",
      "  torch_mixed_precision: true\n",
      "log:\n",
      "  checkpoint_freq: 50\n",
      "  metrics:\n",
      "    area_estimation_error:\n",
      "      _fn: ese.losses.area_estimation_error\n",
      "      from_logits: true\n",
      "      square_diff: false\n",
      "    dice_score:\n",
      "      _fn: ionpy.metrics.dice_score\n",
      "      batch_reduction: mean\n",
      "      from_logits: true\n",
      "      ignore_empty_labels: false\n",
      "    ece_loss:\n",
      "      _fn: ese.metrics.image_ece_loss\n",
      "      from_logits: true\n",
      "      num_prob_bins: 15\n",
      "  root: /storage/vbutoi/scratch/ESE/calibration/debug\n",
      "  show_examples: true\n",
      "  wandb_string: exp_name:ISLES_3D_TS_Debug-base_pretrained_dir:/storage/vbutoi/scratch/ESE/training/09_09_24_ISLES_3D_Dice/20240909_144652-MFOB-498f537fdbfba02337964949ff0dd77d\n",
      "loss_func:\n",
      "  _class: ese.losses.AreaEstimationError\n",
      "  batch_reduction: mean\n",
      "  from_logits: true\n",
      "model:\n",
      "  _class: ese.models.calibrators.Temperature_Scaling\n",
      "  image_channels: 1\n",
      "  num_classes: 1\n",
      "optim:\n",
      "  _class: torch.optim.Adam\n",
      "  lr: 1.0e-06\n",
      "train:\n",
      "  base_checkpoint: max-val-dice_score\n",
      "  base_pretrained_dir: /storage/vbutoi/scratch/ESE/training/09_09_24_ISLES_3D_Dice/20240909_144652-MFOB-498f537fdbfba02337964949ff0dd77d\n",
      "  base_pt_select_metric: val-dice_score\n",
      "  epochs: 1000\n",
      "  eval_freq: 10\n",
      "\n",
      "Start epoch 0\n",
      "Config({'seed': 43, 'torch_compile': False, 'torch_mixed_precision': True})\n"
     ]
    },
    {
     "ename": "NotImplementedError",
     "evalue": "Mixed precision training is not yet supported for post-hoc calibration.",
     "output_type": "error",
     "traceback": [
      "\u001b[0;31m---------------------------------------------------------------------------\u001b[0m",
      "\u001b[0;31mNotImplementedError\u001b[0m                       Traceback (most recent call last)",
      "Cell \u001b[0;32mIn[10], line 2\u001b[0m\n\u001b[1;32m      1\u001b[0m \u001b[38;5;66;03m####### Run individual jobs\u001b[39;00m\n\u001b[0;32m----> 2\u001b[0m \u001b[43mrun_ese_exp\u001b[49m\u001b[43m(\u001b[49m\n\u001b[1;32m      3\u001b[0m \u001b[43m    \u001b[49m\u001b[43mconfig\u001b[49m\u001b[38;5;241;43m=\u001b[39;49m\u001b[43mcal_cfgs\u001b[49m\u001b[43m[\u001b[49m\u001b[38;5;241;43m0\u001b[39;49m\u001b[43m]\u001b[49m\u001b[43m,\u001b[49m\u001b[43m \u001b[49m\n\u001b[1;32m      4\u001b[0m \u001b[43m    \u001b[49m\u001b[43mexperiment_class\u001b[49m\u001b[38;5;241;43m=\u001b[39;49m\u001b[43mPostHocExperiment\u001b[49m\u001b[43m,\u001b[49m\n\u001b[1;32m      5\u001b[0m \u001b[43m    \u001b[49m\u001b[43mrun_name\u001b[49m\u001b[38;5;241;43m=\u001b[39;49m\u001b[38;5;124;43m'\u001b[39;49m\u001b[38;5;124;43mdebug\u001b[39;49m\u001b[38;5;124;43m'\u001b[39;49m\u001b[43m,\u001b[49m\n\u001b[1;32m      6\u001b[0m \u001b[43m    \u001b[49m\u001b[43mshow_examples\u001b[49m\u001b[38;5;241;43m=\u001b[39;49m\u001b[38;5;28;43;01mTrue\u001b[39;49;00m\u001b[43m,\u001b[49m\n\u001b[1;32m      7\u001b[0m \u001b[43m    \u001b[49m\u001b[43mtrack_wandb\u001b[49m\u001b[38;5;241;43m=\u001b[39;49m\u001b[38;5;28;43;01mFalse\u001b[39;49;00m\u001b[43m,\u001b[49m\n\u001b[1;32m      8\u001b[0m \u001b[43m    \u001b[49m\u001b[43mgpu\u001b[49m\u001b[38;5;241;43m=\u001b[39;49m\u001b[38;5;124;43m'\u001b[39;49m\u001b[38;5;124;43m0\u001b[39;49m\u001b[38;5;124;43m'\u001b[39;49m\u001b[43m,\u001b[49m\n\u001b[1;32m      9\u001b[0m \u001b[43m    \u001b[49m\u001b[38;5;66;43;03m# gpu='1',\u001b[39;49;00m\n\u001b[1;32m     10\u001b[0m \u001b[43m)\u001b[49m\n",
      "File \u001b[0;32m~/envs/UniverSegTF/lib/python3.9/site-packages/pydantic/deprecated/decorator.py:55\u001b[0m, in \u001b[0;36mvalidate_arguments.<locals>.validate.<locals>.wrapper_function\u001b[0;34m(*args, **kwargs)\u001b[0m\n\u001b[1;32m     53\u001b[0m \u001b[38;5;129m@wraps\u001b[39m(_func)\n\u001b[1;32m     54\u001b[0m \u001b[38;5;28;01mdef\u001b[39;00m \u001b[38;5;21mwrapper_function\u001b[39m(\u001b[38;5;241m*\u001b[39margs: Any, \u001b[38;5;241m*\u001b[39m\u001b[38;5;241m*\u001b[39mkwargs: Any) \u001b[38;5;241m-\u001b[39m\u001b[38;5;241m>\u001b[39m Any:\n\u001b[0;32m---> 55\u001b[0m     \u001b[38;5;28;01mreturn\u001b[39;00m \u001b[43mvd\u001b[49m\u001b[38;5;241;43m.\u001b[39;49m\u001b[43mcall\u001b[49m\u001b[43m(\u001b[49m\u001b[38;5;241;43m*\u001b[39;49m\u001b[43margs\u001b[49m\u001b[43m,\u001b[49m\u001b[43m \u001b[49m\u001b[38;5;241;43m*\u001b[39;49m\u001b[38;5;241;43m*\u001b[39;49m\u001b[43mkwargs\u001b[49m\u001b[43m)\u001b[49m\n",
      "File \u001b[0;32m~/envs/UniverSegTF/lib/python3.9/site-packages/pydantic/deprecated/decorator.py:150\u001b[0m, in \u001b[0;36mValidatedFunction.call\u001b[0;34m(self, *args, **kwargs)\u001b[0m\n\u001b[1;32m    148\u001b[0m \u001b[38;5;28;01mdef\u001b[39;00m \u001b[38;5;21mcall\u001b[39m(\u001b[38;5;28mself\u001b[39m, \u001b[38;5;241m*\u001b[39margs: Any, \u001b[38;5;241m*\u001b[39m\u001b[38;5;241m*\u001b[39mkwargs: Any) \u001b[38;5;241m-\u001b[39m\u001b[38;5;241m>\u001b[39m Any:\n\u001b[1;32m    149\u001b[0m     m \u001b[38;5;241m=\u001b[39m \u001b[38;5;28mself\u001b[39m\u001b[38;5;241m.\u001b[39minit_model_instance(\u001b[38;5;241m*\u001b[39margs, \u001b[38;5;241m*\u001b[39m\u001b[38;5;241m*\u001b[39mkwargs)\n\u001b[0;32m--> 150\u001b[0m     \u001b[38;5;28;01mreturn\u001b[39;00m \u001b[38;5;28;43mself\u001b[39;49m\u001b[38;5;241;43m.\u001b[39;49m\u001b[43mexecute\u001b[49m\u001b[43m(\u001b[49m\u001b[43mm\u001b[49m\u001b[43m)\u001b[49m\n",
      "File \u001b[0;32m~/envs/UniverSegTF/lib/python3.9/site-packages/pydantic/deprecated/decorator.py:222\u001b[0m, in \u001b[0;36mValidatedFunction.execute\u001b[0;34m(self, m)\u001b[0m\n\u001b[1;32m    220\u001b[0m     \u001b[38;5;28;01mreturn\u001b[39;00m \u001b[38;5;28mself\u001b[39m\u001b[38;5;241m.\u001b[39mraw_function(\u001b[38;5;241m*\u001b[39margs_, \u001b[38;5;241m*\u001b[39m\u001b[38;5;241m*\u001b[39mkwargs, \u001b[38;5;241m*\u001b[39m\u001b[38;5;241m*\u001b[39mvar_kwargs)\n\u001b[1;32m    221\u001b[0m \u001b[38;5;28;01melse\u001b[39;00m:\n\u001b[0;32m--> 222\u001b[0m     \u001b[38;5;28;01mreturn\u001b[39;00m \u001b[38;5;28;43mself\u001b[39;49m\u001b[38;5;241;43m.\u001b[39;49m\u001b[43mraw_function\u001b[49m\u001b[43m(\u001b[49m\u001b[38;5;241;43m*\u001b[39;49m\u001b[38;5;241;43m*\u001b[39;49m\u001b[43md\u001b[49m\u001b[43m,\u001b[49m\u001b[43m \u001b[49m\u001b[38;5;241;43m*\u001b[39;49m\u001b[38;5;241;43m*\u001b[39;49m\u001b[43mvar_kwargs\u001b[49m\u001b[43m)\u001b[49m\n",
      "File \u001b[0;32m/storage/vbutoi/projects/ESE/ese/experiment/runner.py:60\u001b[0m, in \u001b[0;36mrun_ese_exp\u001b[0;34m(config, gpu, show_examples, track_wandb, run_name, experiment_class, job_func)\u001b[0m\n\u001b[1;32m     55\u001b[0m run_args \u001b[38;5;241m=\u001b[39m {\n\u001b[1;32m     56\u001b[0m     \u001b[38;5;124m\"\u001b[39m\u001b[38;5;124mconfig\u001b[39m\u001b[38;5;124m\"\u001b[39m: Config(cfg),\n\u001b[1;32m     57\u001b[0m     \u001b[38;5;124m\"\u001b[39m\u001b[38;5;124mavailable_gpus\u001b[39m\u001b[38;5;124m\"\u001b[39m: gpu,\n\u001b[1;32m     58\u001b[0m }\n\u001b[1;32m     59\u001b[0m \u001b[38;5;28;01mif\u001b[39;00m experiment_class \u001b[38;5;129;01mis\u001b[39;00m \u001b[38;5;129;01mnot\u001b[39;00m \u001b[38;5;28;01mNone\u001b[39;00m:\n\u001b[0;32m---> 60\u001b[0m     \u001b[43mslite\u001b[49m\u001b[38;5;241;43m.\u001b[39;49m\u001b[43mrun_exp\u001b[49m\u001b[43m(\u001b[49m\n\u001b[1;32m     61\u001b[0m \u001b[43m        \u001b[49m\u001b[43mexp_class\u001b[49m\u001b[38;5;241;43m=\u001b[39;49m\u001b[43mexperiment_class\u001b[49m\u001b[43m,\u001b[49m\n\u001b[1;32m     62\u001b[0m \u001b[43m        \u001b[49m\u001b[38;5;241;43m*\u001b[39;49m\u001b[38;5;241;43m*\u001b[39;49m\u001b[43mrun_args\u001b[49m\n\u001b[1;32m     63\u001b[0m \u001b[43m    \u001b[49m\u001b[43m)\u001b[49m\n\u001b[1;32m     64\u001b[0m \u001b[38;5;28;01melse\u001b[39;00m:\n\u001b[1;32m     65\u001b[0m     slite\u001b[38;5;241m.\u001b[39mrun_job(\n\u001b[1;32m     66\u001b[0m         job_func\u001b[38;5;241m=\u001b[39mjob_func,\n\u001b[1;32m     67\u001b[0m         \u001b[38;5;241m*\u001b[39m\u001b[38;5;241m*\u001b[39mrun_args\n\u001b[1;32m     68\u001b[0m     )\n",
      "File \u001b[0;32m~/envs/UniverSegTF/lib/python3.9/site-packages/pydantic/deprecated/decorator.py:55\u001b[0m, in \u001b[0;36mvalidate_arguments.<locals>.validate.<locals>.wrapper_function\u001b[0;34m(*args, **kwargs)\u001b[0m\n\u001b[1;32m     53\u001b[0m \u001b[38;5;129m@wraps\u001b[39m(_func)\n\u001b[1;32m     54\u001b[0m \u001b[38;5;28;01mdef\u001b[39;00m \u001b[38;5;21mwrapper_function\u001b[39m(\u001b[38;5;241m*\u001b[39margs: Any, \u001b[38;5;241m*\u001b[39m\u001b[38;5;241m*\u001b[39mkwargs: Any) \u001b[38;5;241m-\u001b[39m\u001b[38;5;241m>\u001b[39m Any:\n\u001b[0;32m---> 55\u001b[0m     \u001b[38;5;28;01mreturn\u001b[39;00m \u001b[43mvd\u001b[49m\u001b[38;5;241;43m.\u001b[39;49m\u001b[43mcall\u001b[49m\u001b[43m(\u001b[49m\u001b[38;5;241;43m*\u001b[39;49m\u001b[43margs\u001b[49m\u001b[43m,\u001b[49m\u001b[43m \u001b[49m\u001b[38;5;241;43m*\u001b[39;49m\u001b[38;5;241;43m*\u001b[39;49m\u001b[43mkwargs\u001b[49m\u001b[43m)\u001b[49m\n",
      "File \u001b[0;32m~/envs/UniverSegTF/lib/python3.9/site-packages/pydantic/deprecated/decorator.py:150\u001b[0m, in \u001b[0;36mValidatedFunction.call\u001b[0;34m(self, *args, **kwargs)\u001b[0m\n\u001b[1;32m    148\u001b[0m \u001b[38;5;28;01mdef\u001b[39;00m \u001b[38;5;21mcall\u001b[39m(\u001b[38;5;28mself\u001b[39m, \u001b[38;5;241m*\u001b[39margs: Any, \u001b[38;5;241m*\u001b[39m\u001b[38;5;241m*\u001b[39mkwargs: Any) \u001b[38;5;241m-\u001b[39m\u001b[38;5;241m>\u001b[39m Any:\n\u001b[1;32m    149\u001b[0m     m \u001b[38;5;241m=\u001b[39m \u001b[38;5;28mself\u001b[39m\u001b[38;5;241m.\u001b[39minit_model_instance(\u001b[38;5;241m*\u001b[39margs, \u001b[38;5;241m*\u001b[39m\u001b[38;5;241m*\u001b[39mkwargs)\n\u001b[0;32m--> 150\u001b[0m     \u001b[38;5;28;01mreturn\u001b[39;00m \u001b[38;5;28;43mself\u001b[39;49m\u001b[38;5;241;43m.\u001b[39;49m\u001b[43mexecute\u001b[49m\u001b[43m(\u001b[49m\u001b[43mm\u001b[49m\u001b[43m)\u001b[49m\n",
      "File \u001b[0;32m~/envs/UniverSegTF/lib/python3.9/site-packages/pydantic/deprecated/decorator.py:222\u001b[0m, in \u001b[0;36mValidatedFunction.execute\u001b[0;34m(self, m)\u001b[0m\n\u001b[1;32m    220\u001b[0m     \u001b[38;5;28;01mreturn\u001b[39;00m \u001b[38;5;28mself\u001b[39m\u001b[38;5;241m.\u001b[39mraw_function(\u001b[38;5;241m*\u001b[39margs_, \u001b[38;5;241m*\u001b[39m\u001b[38;5;241m*\u001b[39mkwargs, \u001b[38;5;241m*\u001b[39m\u001b[38;5;241m*\u001b[39mvar_kwargs)\n\u001b[1;32m    221\u001b[0m \u001b[38;5;28;01melse\u001b[39;00m:\n\u001b[0;32m--> 222\u001b[0m     \u001b[38;5;28;01mreturn\u001b[39;00m \u001b[38;5;28;43mself\u001b[39;49m\u001b[38;5;241;43m.\u001b[39;49m\u001b[43mraw_function\u001b[49m\u001b[43m(\u001b[49m\u001b[38;5;241;43m*\u001b[39;49m\u001b[38;5;241;43m*\u001b[39;49m\u001b[43md\u001b[49m\u001b[43m,\u001b[49m\u001b[43m \u001b[49m\u001b[38;5;241;43m*\u001b[39;49m\u001b[38;5;241;43m*\u001b[39;49m\u001b[43mvar_kwargs\u001b[49m\u001b[43m)\u001b[49m\n",
      "File \u001b[0;32m/storage/vbutoi/projects/ionpy/slite/runner.py:29\u001b[0m, in \u001b[0;36mrun_exp\u001b[0;34m(exp_class, config, available_gpus)\u001b[0m\n\u001b[1;32m     27\u001b[0m exp \u001b[38;5;241m=\u001b[39m exp_class\u001b[38;5;241m.\u001b[39mfrom_config(config)\n\u001b[1;32m     28\u001b[0m \u001b[38;5;66;03m# Run the experiment.\u001b[39;00m\n\u001b[0;32m---> 29\u001b[0m \u001b[43mexp\u001b[49m\u001b[38;5;241;43m.\u001b[39;49m\u001b[43mrun\u001b[49m\u001b[43m(\u001b[49m\u001b[43m)\u001b[49m\n",
      "File \u001b[0;32m/storage/vbutoi/projects/ionpy/experiment/train.py:183\u001b[0m, in \u001b[0;36mTrainExperiment.run\u001b[0;34m(self)\u001b[0m\n\u001b[1;32m    181\u001b[0m \u001b[38;5;28mprint\u001b[39m(\u001b[38;5;124mf\u001b[39m\u001b[38;5;124m\"\u001b[39m\u001b[38;5;124mStart epoch \u001b[39m\u001b[38;5;132;01m{\u001b[39;00mepoch\u001b[38;5;132;01m}\u001b[39;00m\u001b[38;5;124m\"\u001b[39m)\n\u001b[1;32m    182\u001b[0m \u001b[38;5;28mself\u001b[39m\u001b[38;5;241m.\u001b[39m_epoch \u001b[38;5;241m=\u001b[39m epoch\n\u001b[0;32m--> 183\u001b[0m \u001b[38;5;28;43mself\u001b[39;49m\u001b[38;5;241;43m.\u001b[39;49m\u001b[43mrun_phase\u001b[49m\u001b[43m(\u001b[49m\u001b[38;5;124;43m\"\u001b[39;49m\u001b[38;5;124;43mtrain\u001b[39;49m\u001b[38;5;124;43m\"\u001b[39;49m\u001b[43m,\u001b[49m\u001b[43m \u001b[49m\u001b[43mepoch\u001b[49m\u001b[43m)\u001b[49m\n\u001b[1;32m    184\u001b[0m \u001b[38;5;28;01mif\u001b[39;00m eval_freq \u001b[38;5;241m>\u001b[39m \u001b[38;5;241m0\u001b[39m \u001b[38;5;129;01mand\u001b[39;00m (epoch \u001b[38;5;241m%\u001b[39m eval_freq \u001b[38;5;241m==\u001b[39m \u001b[38;5;241m0\u001b[39m \u001b[38;5;129;01mor\u001b[39;00m epoch \u001b[38;5;241m==\u001b[39m epochs \u001b[38;5;241m-\u001b[39m \u001b[38;5;241m1\u001b[39m):\n\u001b[1;32m    185\u001b[0m     \u001b[38;5;28mself\u001b[39m\u001b[38;5;241m.\u001b[39mrun_phase(\u001b[38;5;124m\"\u001b[39m\u001b[38;5;124mval\u001b[39m\u001b[38;5;124m\"\u001b[39m, epoch)\n",
      "File \u001b[0;32m/storage/vbutoi/projects/ionpy/experiment/train.py:212\u001b[0m, in \u001b[0;36mTrainExperiment.run_phase\u001b[0;34m(self, phase, epoch)\u001b[0m\n\u001b[1;32m    210\u001b[0m \u001b[38;5;28;01mfor\u001b[39;00m batch_idx \u001b[38;5;129;01min\u001b[39;00m \u001b[38;5;28mrange\u001b[39m(num_batches):\n\u001b[1;32m    211\u001b[0m     batch \u001b[38;5;241m=\u001b[39m \u001b[38;5;28mnext\u001b[39m(iter_loader) \u001b[38;5;66;03m# Doing this lets us time the data loading.\u001b[39;00m\n\u001b[0;32m--> 212\u001b[0m     outputs \u001b[38;5;241m=\u001b[39m \u001b[38;5;28;43mself\u001b[39;49m\u001b[38;5;241;43m.\u001b[39;49m\u001b[43mrun_step\u001b[49m\u001b[43m(\u001b[49m\n\u001b[1;32m    213\u001b[0m \u001b[43m        \u001b[49m\u001b[43mbatch_idx\u001b[49m\u001b[38;5;241;43m=\u001b[39;49m\u001b[43mbatch_idx\u001b[49m\u001b[43m,\u001b[49m\n\u001b[1;32m    214\u001b[0m \u001b[43m        \u001b[49m\u001b[43mbatch\u001b[49m\u001b[38;5;241;43m=\u001b[39;49m\u001b[43mbatch\u001b[49m\u001b[43m,\u001b[49m\n\u001b[1;32m    215\u001b[0m \u001b[43m        \u001b[49m\u001b[43mbackward\u001b[49m\u001b[38;5;241;43m=\u001b[39;49m\u001b[43mgrad_enabled\u001b[49m\u001b[43m,\u001b[49m\n\u001b[1;32m    216\u001b[0m \u001b[43m        \u001b[49m\u001b[43maugmentation\u001b[49m\u001b[38;5;241;43m=\u001b[39;49m\u001b[43maugmentation\u001b[49m\u001b[43m,\u001b[49m\n\u001b[1;32m    217\u001b[0m \u001b[43m        \u001b[49m\u001b[43mepoch\u001b[49m\u001b[38;5;241;43m=\u001b[39;49m\u001b[43mepoch\u001b[49m\u001b[43m,\u001b[49m\n\u001b[1;32m    218\u001b[0m \u001b[43m        \u001b[49m\u001b[43mphase\u001b[49m\u001b[38;5;241;43m=\u001b[39;49m\u001b[43mphase\u001b[49m\n\u001b[1;32m    219\u001b[0m \u001b[43m    \u001b[49m\u001b[43m)\u001b[49m\n\u001b[1;32m    220\u001b[0m     metrics \u001b[38;5;241m=\u001b[39m \u001b[38;5;28mself\u001b[39m\u001b[38;5;241m.\u001b[39mcompute_metrics(outputs)\n\u001b[1;32m    221\u001b[0m     meters\u001b[38;5;241m.\u001b[39mupdate(metrics)\n",
      "File \u001b[0;32m/storage/vbutoi/projects/ESE/ese/experiment/posthoc_exp.py:247\u001b[0m, in \u001b[0;36mPostHocExperiment.run_step\u001b[0;34m(self, batch_idx, batch, backward, **kwargs)\u001b[0m\n\u001b[1;32m    244\u001b[0m \u001b[38;5;28mprint\u001b[39m(\u001b[38;5;28mself\u001b[39m\u001b[38;5;241m.\u001b[39mconfig[\u001b[38;5;124m'\u001b[39m\u001b[38;5;124mexperiment\u001b[39m\u001b[38;5;124m'\u001b[39m])\n\u001b[1;32m    246\u001b[0m \u001b[38;5;28;01mif\u001b[39;00m \u001b[38;5;28mself\u001b[39m\u001b[38;5;241m.\u001b[39mconfig[\u001b[38;5;124m'\u001b[39m\u001b[38;5;124mexperiment\u001b[39m\u001b[38;5;124m'\u001b[39m]\u001b[38;5;241m.\u001b[39mget(\u001b[38;5;124m'\u001b[39m\u001b[38;5;124mtorch_mixed_precision\u001b[39m\u001b[38;5;124m'\u001b[39m, \u001b[38;5;28;01mFalse\u001b[39;00m):\n\u001b[0;32m--> 247\u001b[0m     \u001b[38;5;28;01mraise\u001b[39;00m \u001b[38;5;167;01mNotImplementedError\u001b[39;00m(\u001b[38;5;124m\"\u001b[39m\u001b[38;5;124mMixed precision training is not yet supported for post-hoc calibration.\u001b[39m\u001b[38;5;124m\"\u001b[39m)\n\u001b[1;32m    248\u001b[0m     \u001b[38;5;28;01mwith\u001b[39;00m autocast():\n\u001b[1;32m    249\u001b[0m         \u001b[38;5;28;01mwith\u001b[39;00m torch\u001b[38;5;241m.\u001b[39mno_grad():\n",
      "\u001b[0;31mNotImplementedError\u001b[0m: Mixed precision training is not yet supported for post-hoc calibration."
     ]
    }
   ],
   "source": [
    "####### Run individual jobs\n",
    "run_ese_exp(\n",
    "    config=cal_cfgs[0], \n",
    "    experiment_class=PostHocExperiment,\n",
    "    run_name='debug',\n",
    "    show_examples=True,\n",
    "    track_wandb=False,\n",
    "    gpu='0',\n",
    "    # gpu='1',\n",
    ")"
   ]
  },
  {
   "cell_type": "code",
   "execution_count": null,
   "metadata": {},
   "outputs": [],
   "source": [
    "#### Run Batch Jobs\n",
    "submit_ese_exps(\n",
    "    group=\"calibration\",\n",
    "    base_cfg=updated_base_cfg,\n",
    "    exp_cfg=experiment_cfg,\n",
    "    # config_list=cal_cfgs,\n",
    "    config_list=[cal_cfgs[0]],\n",
    "    experiment_class=PostHocExperiment,\n",
    "    track_wandb=True,\n",
    "    # available_gpus=['0', '1', '2', '3']\n",
    "    # available_gpus=['0', '2', '4', '6'],\n",
    "    # available_gpus=['1', '3', '5', '7'],\n",
    "    # available_gpus=['4', '5', '6', '7']\n",
    ")"
   ]
  }
 ],
 "metadata": {
  "kernelspec": {
   "display_name": "Python 3",
   "language": "python",
   "name": "python3"
  },
  "language_info": {
   "codemirror_mode": {
    "name": "ipython",
    "version": 3
   },
   "file_extension": ".py",
   "mimetype": "text/x-python",
   "name": "python",
   "nbconvert_exporter": "python",
   "pygments_lexer": "ipython3",
   "version": "3.9.16"
  },
  "orig_nbformat": 4
 },
 "nbformat": 4,
 "nbformat_minor": 2
}
