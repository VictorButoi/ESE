{
 "cells": [
  {
   "cell_type": "code",
   "execution_count": 1,
   "metadata": {},
   "outputs": [],
   "source": [
    "# Random Imports\n",
    "import os\n",
    "import sys\n",
    "import yaml\n",
    "from pathlib import Path\n",
    "from pprint import pprint\n",
    "sys.path.append('/storage/vbutoi/projects')\n",
    "sys.path.append('/storage/vbutoi/libraries')\n",
    "sys.path.append('/storage/vbutoi/libraries/voxynth')\n",
    "sys.path.append('/storage/vbutoi/projects/ESE')\n",
    "sys.path.append('/storage/vbutoi/projects/UniverSegDev')\n",
    "\n",
    "# Regular schema dictates that we put DATAPATH\n",
    "os.environ['DATAPATH'] = ':'.join((\n",
    "       '/storage/vbutoi/datasets',\n",
    "))\n",
    "os.environ['WANDB_NOTEBOOK_NAME'] = 'calibrate.ipynb'\n",
    "\n",
    "# IonPy imports\n",
    "from ionpy.util import Config\n",
    "\n",
    "%load_ext yamlmagic\n",
    "%load_ext autoreload\n",
    "%autoreload 2"
   ]
  },
  {
   "cell_type": "code",
   "execution_count": 2,
   "metadata": {},
   "outputs": [
    {
     "data": {
      "application/javascript": "\n            require(\n                [\n                    \"notebook/js/codecell\",\n                    \"codemirror/mode/yaml/yaml\"\n                ],\n                function(cc){\n                    cc.CodeCell.options_default.highlight_modes.magic_yaml = {\n                        reg: [\"^%%yaml\"]\n                    }\n                }\n            );\n            ",
      "text/plain": [
       "<IPython.core.display.Javascript object>"
      ]
     },
     "metadata": {},
     "output_type": "display_data"
    }
   ],
   "source": [
    "%%yaml default_cfg\n",
    "\n",
    "experiment:\n",
    "  val_first: '?' \n",
    "  torch_compile: '?' \n",
    "  torch_mixed_precision: False \n",
    "\n",
    "data:\n",
    "  iters_per_epoch: '?' \n",
    "  train_splits: cal\n",
    "  val_splits: val \n",
    "\n",
    "dataloader:\n",
    "  batch_size: '?'\n",
    "  num_workers: '?' \n",
    "  pin_memory: True \n",
    "\n",
    "optim: # Unclear if we should tune this or not.\n",
    "  _class: torch.optim.Adam\n",
    "  lr: '?'\n",
    "\n",
    "train:\n",
    "  epochs: '?'\n",
    "  eval_freq: '?'\n",
    "  base_pretrained_dir: '?'\n",
    "  use_pretrained_norm_augs: True \n",
    "  base_checkpoint: 'max-val-dice_score'\n",
    "  base_pt_select_metric: 'val-dice_score'\n",
    "\n",
    "loss_func: \n",
    "  _class: '?'"
   ]
  },
  {
   "cell_type": "code",
   "execution_count": 3,
   "metadata": {},
   "outputs": [
    {
     "data": {
      "application/javascript": "\n            require(\n                [\n                    \"notebook/js/codecell\",\n                    \"codemirror/mode/yaml/yaml\"\n                ],\n                function(cc){\n                    cc.CodeCell.options_default.highlight_modes.magic_yaml = {\n                        reg: [\"^%%yaml\"]\n                    }\n                }\n            );\n            ",
      "text/plain": [
       "<IPython.core.display.Javascript object>"
      ]
     },
     "metadata": {},
     "output_type": "display_data"
    }
   ],
   "source": [
    "%%yaml log_cfg\n",
    "\n",
    "log:\n",
    "  checkpoint_freq: 50\n",
    "  root: '?'\n",
    "  metrics:\n",
    "    dice_score:\n",
    "      _fn: ionpy.metrics.dice_score\n",
    "      batch_reduction: 'mean' \n",
    "      ignore_empty_labels: False \n",
    "      from_logits: True\n",
    "    abs_area_estimation_error:\n",
    "      _fn: ese.losses.area_estimation_error\n",
    "      from_logits: True\n",
    "      abs_diff: True"
   ]
  },
  {
   "cell_type": "code",
   "execution_count": 4,
   "metadata": {},
   "outputs": [
    {
     "data": {
      "application/javascript": "\n            require(\n                [\n                    \"notebook/js/codecell\",\n                    \"codemirror/mode/yaml/yaml\"\n                ],\n                function(cc){\n                    cc.CodeCell.options_default.highlight_modes.magic_yaml = {\n                        reg: [\"^%%yaml\"]\n                    }\n                }\n            );\n            ",
      "text/plain": [
       "<IPython.core.display.Javascript object>"
      ]
     },
     "metadata": {},
     "output_type": "display_data"
    }
   ],
   "source": [
    "%%yaml callbacks_cfg\n",
    "\n",
    "callbacks:\n",
    "  step:\n",
    "    - ese.callbacks.ShowPredictions\n",
    "  epoch:\n",
    "    - ese.callbacks.WandbLogger\n",
    "    - ionpy.callbacks.ETA\n",
    "    - ionpy.callbacks.JobProgress\n",
    "    - ionpy.callbacks.TerminateOnNaN\n",
    "    - ionpy.callbacks.PrintLogged\n",
    "    - ionpy.callbacks.ModelCheckpoint:\n",
    "        monitor: \n",
    "          - dice_score \n",
    "          - abs_area_estimation_error\n",
    "        phase: val"
   ]
  },
  {
   "cell_type": "code",
   "execution_count": 5,
   "metadata": {},
   "outputs": [
    {
     "data": {
      "application/javascript": "\n            require(\n                [\n                    \"notebook/js/codecell\",\n                    \"codemirror/mode/yaml/yaml\"\n                ],\n                function(cc){\n                    cc.CodeCell.options_default.highlight_modes.magic_yaml = {\n                        reg: [\"^%%yaml\"]\n                    }\n                }\n            );\n            ",
      "text/plain": [
       "<IPython.core.display.Javascript object>"
      ]
     },
     "metadata": {},
     "output_type": "display_data"
    }
   ],
   "source": [
    "%%yaml calibrator_defaults_cfg \n",
    "\n",
    "TS:\n",
    "  _class: ese.models.calibrators.Temperature_Scaling\n",
    "\n",
    "LTS:\n",
    "  _class: ese.models.calibrators.LocalTS\n",
    "  img_channels: 1\n",
    "  num_classes: 1\n",
    "  dims: '?'\n",
    "  filters: [8, 8, 8]\n",
    "\n",
    "3D_LTS_Huge:\n",
    "  _class: ese.models.calibrators.LocalTS\n",
    "  img_channels: 1\n",
    "  num_classes: 1\n",
    "  use_image: True\n",
    "  abs_output: '?'\n",
    "  dims: 3\n",
    "  convs_per_block: 2\n",
    "  filters: [64, 64, 64, 64, 64]\n",
    "\n",
    "SCTS:\n",
    "  _class: ese.models.resnet.SCTS\n",
    "  img_channels: 1\n",
    "  num_classes: 1\n",
    "  use_image: '?' \n",
    "  use_norm: '?' \n",
    "  filters: [64, 64, 64]\n",
    "  blocks_per_layer: 2\n",
    "  dims: 3"
   ]
  },
  {
   "cell_type": "code",
   "execution_count": 6,
   "metadata": {},
   "outputs": [
    {
     "data": {
      "application/javascript": "\n            require(\n                [\n                    \"notebook/js/codecell\",\n                    \"codemirror/mode/yaml/yaml\"\n                ],\n                function(cc){\n                    cc.CodeCell.options_default.highlight_modes.magic_yaml = {\n                        reg: [\"^%%yaml\"]\n                    }\n                }\n            );\n            ",
      "text/plain": [
       "<IPython.core.display.Javascript object>"
      ]
     },
     "metadata": {},
     "output_type": "display_data"
    }
   ],
   "source": [
    "%%yaml aug_cfg\n",
    "\n",
    "augmentations:\n",
    "    spatial:\n",
    "        max_translation: 5.0\n",
    "        max_rotation: 5.0\n",
    "        max_scaling: 1.1\n",
    "        warp_integrations: 5\n",
    "        warp_smoothing_range: [10, 20]\n",
    "        warp_magnitude_range: [1, 3]\n",
    "        affine_probability: 0.5\n",
    "        warp_probability: 0.5"
   ]
  },
  {
   "cell_type": "code",
   "execution_count": 7,
   "metadata": {},
   "outputs": [
    {
     "data": {
      "application/javascript": "\n            require(\n                [\n                    \"notebook/js/codecell\",\n                    \"codemirror/mode/yaml/yaml\"\n                ],\n                function(cc){\n                    cc.CodeCell.options_default.highlight_modes.magic_yaml = {\n                        reg: [\"^%%yaml\"]\n                    }\n                }\n            );\n            ",
      "text/plain": [
       "<IPython.core.display.Javascript object>"
      ]
     },
     "metadata": {},
     "output_type": "display_data"
    }
   ],
   "source": [
    "%%yaml experiment_cfg \n",
    "\n",
    "name: \"ISLES_3D_SCTS_PredTemp_Small_wNorm\"\n",
    "\n",
    "experiment:\n",
    "    val_first: False \n",
    "    torch_compile: True \n",
    "\n",
    "train: \n",
    "    base_pretrained_dir: \"/storage/vbutoi/scratch/ESE/training/09_25_24_ISLES_3D_Dice_HeavyAug/20240925_234556-HGRQ-56cd3bf7df7a1b7d2a453b296d64407d\"\n",
    "\n",
    "data:\n",
    "    _class: ese.datasets.ISLES\n",
    "    target: 'temp'\n",
    "\n",
    "model:\n",
    "    class_name: SCTS\n",
    "    temp_range: (0.0, 3.0)\n",
    "    use_image: True\n",
    "    use_norm: True \n",
    "  \n",
    "optim:\n",
    "    lr: \n",
    "        - 1.0e-5\n",
    "        - 1.0e-4\n",
    "\n",
    "dataloader:\n",
    "    batch_size: 4\n",
    "    num_workers: 3\n",
    "\n",
    "loss_func:\n",
    "    _class: torch.nn.MSELoss # If we are optimizing the temperatures directly."
   ]
  },
  {
   "cell_type": "code",
   "execution_count": 8,
   "metadata": {},
   "outputs": [],
   "source": [
    "from ese.analysis.analysis_utils.submit_utils import get_ese_calibration_configs\n",
    "\n",
    "# Get the configs for the different runs.\n",
    "\n",
    "base_cfg = Config(default_cfg).update([log_cfg, callbacks_cfg])\n",
    "# base_cfg = Config(default_cfg).update([log_cfg, callbacks_cfg, aug_cfg])\n",
    "\n",
    "# For exp management, need a variable because we reuse for func calls below.\n",
    "add_date = True \n",
    "# Build the calibration configs from the options + base\n",
    "updated_base_cfg, cal_cfgs = get_ese_calibration_configs(\n",
    "    exp_cfg=experiment_cfg,\n",
    "    base_cfg=base_cfg,\n",
    "    calibration_model_cfgs=calibrator_defaults_cfg,\n",
    "    add_date=add_date\n",
    ")"
   ]
  },
  {
   "cell_type": "code",
   "execution_count": 9,
   "metadata": {},
   "outputs": [
    {
     "data": {
      "text/plain": [
       "2"
      ]
     },
     "execution_count": 9,
     "metadata": {},
     "output_type": "execute_result"
    }
   ],
   "source": [
    "len(cal_cfgs)"
   ]
  },
  {
   "cell_type": "code",
   "execution_count": 10,
   "metadata": {},
   "outputs": [
    {
     "data": {
      "text/plain": [
       "Config({'experiment': {'val_first': False, 'torch_compile': True, 'torch_mixed_precision': False}, 'data': {'iters_per_epoch': None, 'train_splits': 'cal', 'val_splits': 'val', '_class': 'ese.datasets.ISLES', 'target': 'temp'}, 'dataloader': {'batch_size': 4, 'num_workers': 3, 'pin_memory': True}, 'optim': {'_class': 'torch.optim.Adam', 'lr': 1e-05}, 'train': {'epochs': 3000, 'eval_freq': 20, 'base_pretrained_dir': '/storage/vbutoi/scratch/ESE/training/09_25_24_ISLES_3D_Dice_HeavyAug/20240925_234556-HGRQ-56cd3bf7df7a1b7d2a453b296d64407d', 'use_pretrained_norm_augs': True, 'base_checkpoint': 'max-val-dice_score', 'base_pt_select_metric': 'val-dice_score'}, 'loss_func': {'_class': 'torch.nn.MSELoss'}, 'log': {'checkpoint_freq': 50, 'root': '/storage/vbutoi/scratch/ESE/calibration/10_06_24_ISLES_3D_SCTS_PredTemp_Small_wNorm', 'metrics': {'dice_score': {'_fn': 'ionpy.metrics.dice_score', 'batch_reduction': 'mean', 'ignore_empty_labels': False, 'from_logits': True}, 'abs_area_estimation_error': {'_fn': 'ese.losses.area_estimation_error', 'from_logits': True, 'abs_diff': True}, 'ece_loss': {'_fn': 'ese.metrics.image_ece_loss', 'num_prob_bins': 15, 'from_logits': True}}, 'wandb_string': 'exp_name:ISLES_3D_SCTS_PredTemp_Small_wNorm-lr:1e-05'}, 'callbacks': {'step': ['ese.callbacks.ShowPredictions'], 'epoch': ['ese.callbacks.WandbLogger', 'ionpy.callbacks.ETA', 'ionpy.callbacks.JobProgress', 'ionpy.callbacks.TerminateOnNaN', 'ionpy.callbacks.PrintLogged', {'ionpy.callbacks.ModelCheckpoint': {'monitor': ['dice_score', 'abs_area_estimation_error'], 'phase': 'val'}}]}, 'model': {'_class': 'ese.models.resnet.SCTS', 'img_channels': 1, 'num_classes': 1, 'use_image': True, 'use_norm': True, 'filters': [64, 64, 64], 'blocks_per_layer': 2, 'dims': 3, 'temp_range': '(0.0, 3.0)'}})"
      ]
     },
     "execution_count": 10,
     "metadata": {},
     "output_type": "execute_result"
    }
   ],
   "source": [
    "cal_cfgs[0]"
   ]
  },
  {
   "cell_type": "markdown",
   "metadata": {},
   "source": [
    "## Running Jobs"
   ]
  },
  {
   "cell_type": "code",
   "execution_count": 11,
   "metadata": {},
   "outputs": [
    {
     "name": "stderr",
     "output_type": "stream",
     "text": [
      "/local/vbutoi/envs/UniverSegTF/lib/python3.9/site-packages/pydantic/_internal/_fields.py:149: UserWarning: Field \"model_outputs\" has conflict with protected namespace \"model_\".\n",
      "\n",
      "You may be able to resolve this warning by setting `model_config['protected_namespaces'] = ()`.\n",
      "  warnings.warn(\n"
     ]
    }
   ],
   "source": [
    "from ese.experiment import run_ese_exp, submit_ese_exps, PostHocExperiment"
   ]
  },
  {
   "cell_type": "code",
   "execution_count": 12,
   "metadata": {},
   "outputs": [],
   "source": [
    "# ####### Run individual jobs\n",
    "# run_ese_exp(\n",
    "#     config=cal_cfgs[0], \n",
    "#     experiment_class=PostHocExperiment,\n",
    "#     run_name='debug',\n",
    "#     show_examples=False,\n",
    "#     track_wandb=False,\n",
    "#     gpu='5',\n",
    "# )"
   ]
  },
  {
   "cell_type": "code",
   "execution_count": 13,
   "metadata": {},
   "outputs": [
    {
     "name": "stdout",
     "output_type": "stream",
     "text": [
      "Submitted job id: 2571865 on gpu: 6.\n",
      "Submitted job id: 2572075 on gpu: 7.\n"
     ]
    }
   ],
   "source": [
    "### Run Batch Jobs\n",
    "submit_ese_exps(\n",
    "    group=\"calibration\",\n",
    "    base_cfg=updated_base_cfg,\n",
    "    exp_cfg=experiment_cfg,\n",
    "    config_list=cal_cfgs,\n",
    "    experiment_class=PostHocExperiment,\n",
    "    add_date=add_date,\n",
    "    track_wandb=True,\n",
    "    available_gpus=['6', '7']\n",
    ")"
   ]
  }
 ],
 "metadata": {
  "kernelspec": {
   "display_name": "Python 3",
   "language": "python",
   "name": "python3"
  },
  "language_info": {
   "codemirror_mode": {
    "name": "ipython",
    "version": 3
   },
   "file_extension": ".py",
   "mimetype": "text/x-python",
   "name": "python",
   "nbconvert_exporter": "python",
   "pygments_lexer": "ipython3",
   "version": "3.9.16"
  },
  "orig_nbformat": 4
 },
 "nbformat": 4,
 "nbformat_minor": 2
}
