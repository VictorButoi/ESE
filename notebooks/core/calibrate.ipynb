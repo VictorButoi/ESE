{
 "cells": [
  {
   "cell_type": "code",
   "execution_count": null,
   "metadata": {},
   "outputs": [],
   "source": [
    "# Random Imports\n",
    "import os\n",
    "import sys\n",
    "import yaml\n",
    "from pathlib import Path\n",
    "sys.path.append('/storage/vbutoi/projects')\n",
    "sys.path.append('/storage/vbutoi/libraries')\n",
    "sys.path.append('/storage/vbutoi/projects/ESE')\n",
    "sys.path.append('/storage/vbutoi/projects/UniverSegDev')\n",
    "\n",
    "# Regular schema dictates that we put DATAPATH\n",
    "os.environ['DATAPATH'] = ':'.join((\n",
    "       '/storage/vbutoi/datasets',\n",
    "))\n",
    "os.environ['WANDB_NOTEBOOK_NAME'] = 'calibrate.ipynb'\n",
    "\n",
    "from ionpy.util import Config\n",
    "\n",
    "# Setup direcrtories\n",
    "root = Path(\"/storage/vbutoi/scratch/ESE\")\n",
    "scratch_root = Path(\"/storage/vbutoi/scratch/ESE\")\n",
    "code_root = Path(\"/storage/vbutoi/projects/ESE\")\n",
    "\n",
    "%load_ext yamlmagic\n",
    "%load_ext autoreload\n",
    "%autoreload 2"
   ]
  },
  {
   "cell_type": "code",
   "execution_count": null,
   "metadata": {},
   "outputs": [],
   "source": [
    "%%yaml default_cfg\n",
    "\n",
    "data:\n",
    "  iters_per_epoch: 100 \n",
    "  train_splits: cal\n",
    "  val_splits: val \n",
    "\n",
    "dataloader:\n",
    "  batch_size: 8 # Often, we train with a small num of images total. \n",
    "  num_workers: 1\n",
    "  pin_memory: True \n",
    "\n",
    "optim: # Unclear if we should tune this or not.\n",
    "  _class: torch.optim.Adam\n",
    "  weight_decay: 0.0 \n",
    "  lr: 1.0e-4\n",
    "\n",
    "train:\n",
    "  epochs: 300 # 10 * 100 = 1000 iterations\n",
    "  eval_freq: 10 \n",
    "  base_pretrained_dir: '?'\n",
    "  base_checkpoint: 'max-val-dice_score'\n",
    "  base_pt_select_metric: 'val-dice_score'\n",
    "\n",
    "loss_func: \n",
    "  _class: '?'\n",
    "  from_logits: True\n",
    "  batch_reduction: 'mean' "
   ]
  },
  {
   "cell_type": "code",
   "execution_count": null,
   "metadata": {},
   "outputs": [],
   "source": [
    "%%yaml callbacks_cfg\n",
    "\n",
    "callbacks:\n",
    "  step:\n",
    "    - ese.callbacks.ShowPredictions\n",
    "  epoch:\n",
    "    - ese.callbacks.WandbLogger\n",
    "    - ionpy.callbacks.ETA\n",
    "    - ionpy.callbacks.JobProgress\n",
    "    - ionpy.callbacks.TerminateOnNaN\n",
    "    - ionpy.callbacks.PrintLogged\n",
    "    - ionpy.callbacks.ModelCheckpoint:\n",
    "        monitor: \n",
    "          - ece_loss \n",
    "          - area_estimation_error\n",
    "        phase: val"
   ]
  },
  {
   "cell_type": "code",
   "execution_count": null,
   "metadata": {},
   "outputs": [],
   "source": [
    "%%yaml experiment_cfg \n",
    "\n",
    "name: \"HepaticVessels_Cal_Pilot\"\n",
    "\n",
    "train: \n",
    "    base_pretrained_dir: \n",
    "        - \"/storage/vbutoi/scratch/ESE/training/08_24_24_HeptaticVessel_LowerLR\"\n",
    "\n",
    "model:\n",
    "    - TempScaling\n",
    "    # - LTS \n",
    "\n",
    "data:\n",
    "    _class: \"ese.datasets.OCTA_6M\"\n",
    "\n",
    "loss_func:\n",
    "    _class: \n",
    "        - ese.losses.SoftDiceLoss\n",
    "        - ese.losses.PixelCELoss\n",
    "        - ese.losses.AreaEstimationError"
   ]
  },
  {
   "cell_type": "code",
   "execution_count": null,
   "metadata": {},
   "outputs": [],
   "source": [
    "from ese.analysis.analysis_utils.submit_utils import get_ese_calibration_configs\n",
    "\n",
    "# Get the configs for the different runs.\n",
    "base_cfg = Config(default_cfg).update([callbacks_cfg])\n",
    "\n",
    "cal_cfgs = get_ese_calibration_configs(\n",
    "    exp_cfg=experiment_cfg,\n",
    "    base_cfg=base_cfg,\n",
    "    calibration_model_cfgs={}\n",
    ")"
   ]
  },
  {
   "cell_type": "code",
   "execution_count": null,
   "metadata": {},
   "outputs": [],
   "source": [
    "len(cal_cfgs)"
   ]
  },
  {
   "cell_type": "markdown",
   "metadata": {},
   "source": [
    "## Running Jobs"
   ]
  },
  {
   "cell_type": "code",
   "execution_count": null,
   "metadata": {},
   "outputs": [],
   "source": [
    "from ese.experiment import run_ese_exp, submit_ese_exps, PostHocExperiment"
   ]
  },
  {
   "cell_type": "code",
   "execution_count": null,
   "metadata": {},
   "outputs": [],
   "source": [
    "####### Run individual jobs\n",
    "run_ese_exp(\n",
    "    config=cal_cfgs[-1], \n",
    "    experiment_class=PostHocExperiment,\n",
    "    run_name='debug',\n",
    "    show_examples=True,\n",
    "    track_wandb=False,\n",
    "    gpu='0',\n",
    "    # gpu='4',\n",
    ")"
   ]
  },
  {
   "cell_type": "code",
   "execution_count": null,
   "metadata": {},
   "outputs": [],
   "source": [
    "# #### Run Batch Jobs\n",
    "# submit_ese_exps(\n",
    "#     config_list=cal_cfgs,\n",
    "#     experiment_class=PostHocExperiment,\n",
    "#     track_wandb=True,\n",
    "#     available_gpus=['0', '1', '2', '3']\n",
    "#     # available_gpus=['4', '5', '6', '7']\n",
    "# )"
   ]
  }
 ],
 "metadata": {
  "kernelspec": {
   "display_name": "UniverSegTF",
   "language": "python",
   "name": "universegtf"
  },
  "language_info": {
   "codemirror_mode": {
    "name": "ipython",
    "version": 3
   },
   "file_extension": ".py",
   "mimetype": "text/x-python",
   "name": "python",
   "nbconvert_exporter": "python",
   "pygments_lexer": "ipython3",
   "version": "3.9.16"
  },
  "orig_nbformat": 4
 },
 "nbformat": 4,
 "nbformat_minor": 2
}
