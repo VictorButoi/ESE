{
 "cells": [
  {
   "cell_type": "code",
   "execution_count": 1,
   "id": "7885da88",
   "metadata": {},
   "outputs": [],
   "source": [
    "import sys\n",
    "sys.path.append(\"/storage/vbutoi/projects/\")\n",
    "sys.path.append(\"/storage/vbutoi/libraries/\")\n",
    "from ionpy.analysis import ResultsLoader\n",
    "import pathlib\n",
    "import seaborn as sns\n",
    "import pandas as pd\n",
    "sns.set_context('talk')\n",
    "sns.set_style(\"darkgrid\")\n",
    "\n",
    "import os \n",
    "os.environ['DATAPATH'] = ':'.join((\n",
    "       '/storage',\n",
    "))\n",
    "\n",
    "# Results loader object does everything\n",
    "rs = ResultsLoader()\n",
    "root = \"/storage/vbutoi/scratch/ESE\""
   ]
  },
  {
   "cell_type": "code",
   "execution_count": null,
   "id": "0e101132",
   "metadata": {},
   "outputs": [],
   "source": [
    "path_list = [\n",
    "    \"/storage/vbutoi/scratch/ESE/training/09_09_24_ISLES_3D_Dice\",\n",
    "    \"/storage/vbutoi/scratch/ESE/training/09_15_24_ISLES_3D_Dice_wAUG\",\n",
    "]\n",
    "\n",
    "df_list = []\n",
    "for path in path_list:\n",
    "    try:\n",
    "        dfc = rs.load_configs(\n",
    "            path,\n",
    "            properties=False,\n",
    "        )\n",
    "        df = rs.load_metrics(dfc)\n",
    "        df_list.append(df)\n",
    "    except Exception as e:\n",
    "        print(e)\n",
    "df = pd.concat(df_list)"
   ]
  },
  {
   "cell_type": "code",
   "execution_count": 3,
   "id": "7c2a764a",
   "metadata": {},
   "outputs": [],
   "source": [
    "def exp_name(path):\n",
    "    return str(path).split(\"/\")[-2]\n",
    "\n",
    "def aug_type(exp_name):\n",
    "\n",
    "    if exp_name == \"09_20_24_ISLES_3D_BIG_noA_wNORM\": \n",
    "        return \"norm\"\n",
    "    elif exp_name == \"09_19_24_ISLES_3D_LTS_BIG_wA\":\n",
    "        return \"visual + norm\"\n",
    "    elif exp_name == \"09_24_24_ISLES_3D_BIG_MOREAUG\": \n",
    "        return \"visual + norm + elastic\"\n",
    "    else:\n",
    "        raise ValueError(\"Unknown experiment name\")\n",
    "    \n",
    "df.augment(exp_name)\n",
    "# df.augment(aug_type)"
   ]
  },
  {
   "cell_type": "code",
   "execution_count": 4,
   "id": "c1125463",
   "metadata": {},
   "outputs": [],
   "source": [
    "# # Only keep the epochs every 10 to reduce the number of points\n",
    "# df = df[df['epoch'] % 10 == 0]"
   ]
  },
  {
   "cell_type": "code",
   "execution_count": 5,
   "id": "421a9839",
   "metadata": {},
   "outputs": [],
   "source": [
    "# we need to make batch_size and lr cateogorical variables\n",
    "df['batch_size'] = df['batch_size'].astype('category')\n",
    "df['lr'] = df['lr'].astype('category')"
   ]
  },
  {
   "cell_type": "code",
   "execution_count": null,
   "id": "75c304bb",
   "metadata": {},
   "outputs": [],
   "source": [
    "g = sns.relplot(\n",
    "    data=df,\n",
    "    x='epoch',\n",
    "    y='loss',\n",
    "    hue='exp_name',\n",
    "    # hue='error_type',\n",
    "    style='seed',\n",
    "    col='phase',\n",
    "    kind='line',\n",
    "    height=12,\n",
    "    facet_kws=dict(sharey=False),\n",
    ")\n",
    "\n",
    "# Set column spacing\n",
    "g.fig.subplots_adjust(wspace=0.12)\n",
    "# g.set(ylim=(0.0, 0.25))"
   ]
  },
  {
   "cell_type": "code",
   "execution_count": null,
   "id": "fa6ba56e",
   "metadata": {},
   "outputs": [],
   "source": [
    "g = sns.relplot(\n",
    "    data=df,\n",
    "    x='epoch',\n",
    "    y='abs_area_estimation_error',\n",
    "    hue='exp_name',\n",
    "    style='seed',\n",
    "    col='phase',\n",
    "    kind='line',\n",
    "    height=12,\n",
    "    facet_kws=dict(sharey=False),\n",
    ")\n",
    "\n",
    "# Set column spacig\n",
    "g.fig.subplots_adjust(wspace=0.12)\n",
    "# g.set(ylim=(0.0, 0.25))"
   ]
  }
 ],
 "metadata": {
  "kernelspec": {
   "display_name": "Python 3",
   "language": "python",
   "name": "python3"
  },
  "language_info": {
   "codemirror_mode": {
    "name": "ipython",
    "version": 3
   },
   "file_extension": ".py",
   "mimetype": "text/x-python",
   "name": "python",
   "nbconvert_exporter": "python",
   "pygments_lexer": "ipython3",
   "version": "3.9.16"
  }
 },
 "nbformat": 4,
 "nbformat_minor": 5
}
