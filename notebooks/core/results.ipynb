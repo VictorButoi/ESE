{
 "cells": [
  {
   "cell_type": "code",
   "execution_count": 1,
   "id": "7885da88",
   "metadata": {},
   "outputs": [],
   "source": [
    "import sys\n",
    "sys.path.append(\"/storage/vbutoi/projects/\")\n",
    "sys.path.append(\"/storage/vbutoi/libraries/\")\n",
    "from ionpy.analysis import ResultsLoader\n",
    "import pathlib\n",
    "import seaborn as sns\n",
    "import pandas as pd\n",
    "sns.set_context('talk')\n",
    "sns.set_style(\"darkgrid\")\n",
    "\n",
    "import os \n",
    "os.environ['DATAPATH'] = ':'.join((\n",
    "       '/storage',\n",
    "))\n",
    "\n",
    "# Results loader object does everything\n",
    "rs = ResultsLoader()\n",
    "root = \"/storage/vbutoi/scratch/ESE\""
   ]
  },
  {
   "cell_type": "code",
   "execution_count": null,
   "id": "0e101132",
   "metadata": {},
   "outputs": [],
   "source": [
    "path_list = [\n",
    "    \"/storage/vbutoi/scratch/ESE/training/10_28_24_OCTA_FULLRESS_wAug\",\n",
    "]\n",
    "\n",
    "df_list_1 = []\n",
    "for path in path_list:\n",
    "    try:\n",
    "        dfc = rs.load_configs(\n",
    "            path,\n",
    "            properties=False,\n",
    "        )\n",
    "        df = rs.load_metrics(dfc)\n",
    "        df_list_1.append(df)\n",
    "    except Exception as e:\n",
    "        print(e)\n",
    "\n",
    "df = pd.concat(df_list_1)"
   ]
  },
  {
   "cell_type": "code",
   "execution_count": 3,
   "id": "7c2a764a",
   "metadata": {},
   "outputs": [],
   "source": [
    "def exp_name(path):\n",
    "    exp_root = str(path).split(\"/\")[-2]\n",
    "    return exp_root\n",
    "\n",
    "df.augment(exp_name)"
   ]
  },
  {
   "cell_type": "code",
   "execution_count": null,
   "id": "459a1fc4",
   "metadata": {},
   "outputs": [],
   "source": [
    "# We want to make sure that train goes before val in the phase\n",
    "df['phase'] = df['phase'].astype('category')\n",
    "df['version'] = df['version'].astype('category')\n",
    "df['phase'].cat.reorder_categories(['train', 'val'], inplace=True)"
   ]
  },
  {
   "cell_type": "code",
   "execution_count": 5,
   "id": "3f9219e1",
   "metadata": {},
   "outputs": [],
   "source": [
    "# I only want seed = 40 for now\n",
    "df = df[df['seed'] == 40]"
   ]
  },
  {
   "cell_type": "code",
   "execution_count": null,
   "id": "75c304bb",
   "metadata": {},
   "outputs": [],
   "source": [
    "g = sns.relplot(\n",
    "    data=df,\n",
    "    x='epoch',\n",
    "    y='loss',\n",
    "    hue='exp_name',\n",
    "    style='loss_func',\n",
    "    col='phase',\n",
    "    kind='line',\n",
    "    height=12,\n",
    "    facet_kws=dict(sharey=False),\n",
    ")\n",
    "\n",
    "# Set column spacing\n",
    "g.fig.subplots_adjust(wspace=0.12)\n",
    "# Set the y axis to be between 0 and 1\n",
    "# g.set(ylim=(0, 1000))"
   ]
  },
  {
   "cell_type": "code",
   "execution_count": null,
   "id": "22cc5f7b",
   "metadata": {},
   "outputs": [],
   "source": [
    "g = sns.relplot(\n",
    "    data=df,\n",
    "    x='epoch',\n",
    "    y='dice_score',\n",
    "    hue='exp_name',\n",
    "    style='loss_func',\n",
    "    col='phase',\n",
    "    kind='line',\n",
    "    height=12,\n",
    "    # facet_kws=dict(sharey=False),\n",
    ")\n",
    "\n",
    "# Set column spacing\n",
    "g.fig.subplots_adjust(wspace=0.12)\n",
    "# Set the y axis to be between 0 and 1\n",
    "# g.set(ylim=(0, 1000))"
   ]
  },
  {
   "cell_type": "code",
   "execution_count": null,
   "id": "fa6ba56e",
   "metadata": {},
   "outputs": [],
   "source": [
    "g = sns.relplot(\n",
    "    data=df,\n",
    "    x='epoch',\n",
    "    y='abs_area_estimation_error',\n",
    "    hue='exp_name',\n",
    "    style='loss_func',\n",
    "    col='phase',\n",
    "    kind='line',\n",
    "    height=12,\n",
    "    # facet_kws=dict(sharey=False),\n",
    ")\n",
    "\n",
    "# Set column spcig\n",
    "g.fig.subplots_adjust(wspace=0.12)"
   ]
  }
 ],
 "metadata": {
  "kernelspec": {
   "display_name": "Python 3",
   "language": "python",
   "name": "python3"
  },
  "language_info": {
   "codemirror_mode": {
    "name": "ipython",
    "version": 3
   },
   "file_extension": ".py",
   "mimetype": "text/x-python",
   "name": "python",
   "nbconvert_exporter": "python",
   "pygments_lexer": "ipython3",
   "version": "3.9.16"
  }
 },
 "nbformat": 4,
 "nbformat_minor": 5
}
