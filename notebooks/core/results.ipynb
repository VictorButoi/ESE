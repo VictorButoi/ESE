{
 "cells": [
  {
   "cell_type": "code",
   "execution_count": 1,
   "id": "7885da88",
   "metadata": {},
   "outputs": [],
   "source": [
    "import sys\n",
    "sys.path.append(\"/storage/vbutoi/projects/\")\n",
    "sys.path.append(\"/storage/vbutoi/libraries/\")\n",
    "from ionpy.analysis import ResultsLoader\n",
    "import pathlib\n",
    "import seaborn as sns\n",
    "import pandas as pd\n",
    "sns.set_context('talk')\n",
    "sns.set_style(\"darkgrid\")\n",
    "\n",
    "import os \n",
    "os.environ['DATAPATH'] = ':'.join((\n",
    "       '/storage',\n",
    "))\n",
    "\n",
    "# Results loader object does everything\n",
    "rs = ResultsLoader()\n",
    "root = \"/storage/vbutoi/scratch/ESE\""
   ]
  },
  {
   "cell_type": "code",
   "execution_count": null,
   "id": "0e101132",
   "metadata": {},
   "outputs": [],
   "source": [
    "path_list = [\n",
    "    \"/storage/vbutoi/scratch/ESE/calibration/09_25_24_ISLES_3D_BIG_LRSWEEP\",\n",
    "    \"/storage/vbutoi/scratch/ESE/calibration/09_25_24_ISLES_3D_HighLR_SpatialOnly\",\n",
    "    \"/storage/vbutoi/scratch/ESE/calibration/09_25_24_ISLES_3D_HighLR_IntensityOnly\",\n",
    "    \"/storage/vbutoi/scratch/ESE/calibration/09_25_24_ISLES_3D_HighLR_All\",\n",
    "    \"/storage/vbutoi/scratch/ESE/calibration/09_25_24_ISLES_3D_HighLR_SpatialOnly_NoImage\",\n",
    "    \"/storage/vbutoi/scratch/ESE/calibration/09_25_24_ISLES_3D_HighLR_IntensityOnly_NoImage\",\n",
    "    \"/storage/vbutoi/scratch/ESE/calibration/09_25_24_ISLES_3D_HighLR_AllAugs_NoImage\",\n",
    "]\n",
    "\n",
    "df_list_1 = []\n",
    "for path in path_list:\n",
    "    try:\n",
    "        dfc = rs.load_configs(\n",
    "            path,\n",
    "            properties=False,\n",
    "        )\n",
    "        df = rs.load_metrics(dfc)\n",
    "        df_list_1.append(df)\n",
    "    except Exception as e:\n",
    "        print(e)\n",
    "\n",
    "df = pd.concat(df_list_1)"
   ]
  },
  {
   "cell_type": "code",
   "execution_count": 3,
   "id": "beea1b0a",
   "metadata": {},
   "outputs": [],
   "source": [
    "# Subselect the df to only include lr that == 1.e-04\n",
    "df = df[df['lr'] == 1.e-04]"
   ]
  },
  {
   "cell_type": "code",
   "execution_count": null,
   "id": "fe65b001",
   "metadata": {},
   "outputs": [],
   "source": [
    "df['lr'].unique()"
   ]
  },
  {
   "cell_type": "code",
   "execution_count": 5,
   "id": "7c2a764a",
   "metadata": {},
   "outputs": [],
   "source": [
    "def exp_name(path):\n",
    "    return str(path).split(\"/\")[-2]\n",
    "\n",
    "df.augment(exp_name)"
   ]
  },
  {
   "cell_type": "code",
   "execution_count": 6,
   "id": "421a9839",
   "metadata": {},
   "outputs": [],
   "source": [
    "# we need to make batch_size and lr cateogorical variables\n",
    "df['batch_size'] = df['batch_size'].astype('category')\n",
    "df['lr'] = df['lr'].astype('category')"
   ]
  },
  {
   "cell_type": "code",
   "execution_count": null,
   "id": "459a1fc4",
   "metadata": {},
   "outputs": [],
   "source": [
    "for ikey in df.columns:\n",
    "    print(ikey)"
   ]
  },
  {
   "cell_type": "code",
   "execution_count": null,
   "id": "75c304bb",
   "metadata": {},
   "outputs": [],
   "source": [
    "g = sns.relplot(\n",
    "    data=df,\n",
    "    x='epoch',\n",
    "    y='loss',\n",
    "    hue='exp_name',\n",
    "    col='phase',\n",
    "    style='use_image',\n",
    "    kind='line',\n",
    "    height=12,\n",
    "    facet_kws=dict(sharey=False),\n",
    ")\n",
    "\n",
    "# Set column spacing\n",
    "# g.fig.subplots_adjust(wspace=0.12)\n",
    "# g.set(ylim=(0, 10))"
   ]
  },
  {
   "cell_type": "code",
   "execution_count": null,
   "id": "fa6ba56e",
   "metadata": {},
   "outputs": [],
   "source": [
    "g = sns.relplot(\n",
    "    data=df,\n",
    "    x='epoch',\n",
    "    y='abs_area_estimation_error',\n",
    "    hue='exp_name',\n",
    "    col='phase',\n",
    "    style=\"use_image\",\n",
    "    kind='line',\n",
    "    height=12,\n",
    "    facet_kws=dict(sharey=False),\n",
    ")\n",
    "\n",
    "# Set column spacig\n",
    "g.fig.subplots_adjust(wspace=0.12)\n",
    "# g.set(ylim=(0.0, 0.25))"
   ]
  },
  {
   "cell_type": "code",
   "execution_count": null,
   "id": "68be9e5e",
   "metadata": {},
   "outputs": [],
   "source": [
    "g = sns.relplot(\n",
    "    data=df,\n",
    "    x='epoch',\n",
    "    y='dice_score',\n",
    "    hue='exp_name',\n",
    "    col='phase',\n",
    "    style=\"use_image\",\n",
    "    kind='line',\n",
    "    height=12,\n",
    "    facet_kws=dict(sharey=False),\n",
    ")\n",
    "\n",
    "# Set column spacig\n",
    "g.fig.subplots_adjust(wspace=0.12)\n",
    "# g.set(ylim=(0.0, 0.25))"
   ]
  }
 ],
 "metadata": {
  "kernelspec": {
   "display_name": "Python 3",
   "language": "python",
   "name": "python3"
  },
  "language_info": {
   "codemirror_mode": {
    "name": "ipython",
    "version": 3
   },
   "file_extension": ".py",
   "mimetype": "text/x-python",
   "name": "python",
   "nbconvert_exporter": "python",
   "pygments_lexer": "ipython3",
   "version": "3.9.16"
  }
 },
 "nbformat": 4,
 "nbformat_minor": 5
}
