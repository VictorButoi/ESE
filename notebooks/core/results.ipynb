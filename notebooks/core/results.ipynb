{
 "cells": [
  {
   "cell_type": "code",
   "execution_count": null,
   "id": "7885da88",
   "metadata": {},
   "outputs": [],
   "source": [
    "import sys\n",
    "sys.path.append(\"/storage/vbutoi/projects/\")\n",
    "sys.path.append(\"/storage/vbutoi/libraries/\")\n",
    "from ionpy.analysis import ResultsLoader\n",
    "import pathlib\n",
    "import seaborn as sns\n",
    "import pandas as pd\n",
    "sns.set_context('talk')\n",
    "\n",
    "sns.set_style(\"darkgrid\")\n",
    "\n",
    "import os \n",
    "os.environ['DATAPATH'] = ':'.join((\n",
    "       '/storage',\n",
    "))\n",
    "\n",
    "# Results loader object does everything\n",
    "rs = ResultsLoader()\n",
    "root = \"/storage/vbutoi/scratch/ESE\""
   ]
  },
  {
   "cell_type": "code",
   "execution_count": null,
   "id": "0e101132",
   "metadata": {},
   "outputs": [],
   "source": [
    "path_list = [\n",
    "    # \"/storage/vbutoi/scratch/ESE/calibration/07_23_24_ACDC_CalibrationSuite_TempScaling_HardGT\", # Calibrated from above.\n",
    "    # \"/storage/vbutoi/scratch/ESE/calibration/07_23_24_ACDC_CalibrationSuite_IBTS_HardGT\", # Calibrated from above.\n",
    "    # \"/storage/vbutoi/scratch/ESE/calibration/07_23_24_ACDC_CalibrationSuite_LTS_HardGT\", # Calibrated from above.\n",
    "    \"/storage/vbutoi/scratch/ESE/calibration/07_23_24_ACDC_CalibrationSuite_Popcorn_HardGT\", # Calibrated from above.\n",
    "]\n",
    "\n",
    "df_list = []\n",
    "for path in path_list:\n",
    "    try:\n",
    "        dfc = rs.load_configs(\n",
    "            path,\n",
    "            properties=False,\n",
    "        )\n",
    "        df = rs.load_metrics(dfc)\n",
    "        df_list.append(df)\n",
    "    except Exception as e:\n",
    "        print(e)\n",
    "df = pd.concat(df_list)"
   ]
  },
  {
   "cell_type": "code",
   "execution_count": null,
   "id": "7f93ee71",
   "metadata": {},
   "outputs": [],
   "source": [
    "# for ikey in df.keys():\n",
    "#     print(ikey)"
   ]
  },
  {
   "cell_type": "code",
   "execution_count": null,
   "id": "32609305",
   "metadata": {},
   "outputs": [],
   "source": [
    "# # Fill our important columns with None if NaN\n",
    "# df['init_mode'] = df['init_mode'].fillna('None')\n",
    "# df['ksize'] = df['ksize'].fillna('None')"
   ]
  },
  {
   "cell_type": "code",
   "execution_count": null,
   "id": "e475f0de",
   "metadata": {},
   "outputs": [],
   "source": [
    "# def model_name(model):\n",
    "#     return model.split(\".\")[-1]\n",
    "\n",
    "# def opt_method(model_name, loss_func, init_mode):\n",
    "#     return f'{model_name}_{init_mode}_{loss_func.split(\".\")[-1]}'\n",
    "\n",
    "# df.augment(model_name) \n",
    "# df.augment(opt_method)\n",
    "\n",
    "# # Drop the rows where model_name is Identity.\n",
    "# df = df[df['model_name'] != 'Identity']"
   ]
  },
  {
   "cell_type": "code",
   "execution_count": null,
   "id": "56ba3836",
   "metadata": {},
   "outputs": [],
   "source": [
    "# Sort the df by the seed.\n",
    "df = df.sort_values(by='seed')\n",
    "# Change the type of the seed column to a string\n",
    "df['seed'] = df['seed'].astype(str)"
   ]
  },
  {
   "cell_type": "code",
   "execution_count": null,
   "id": "75c304bb",
   "metadata": {},
   "outputs": [],
   "source": [
    "g = sns.relplot(\n",
    "    data=df,\n",
    "    x='epoch',\n",
    "    y='loss',\n",
    "    hue='seed',\n",
    "    col='phase',\n",
    "    kind='line',\n",
    "    height=12,\n",
    ")\n",
    "\n",
    "# Set column spacing\n",
    "g.fig.subplots_adjust(wspace=0.05)\n",
    "# g.set(ylim=(0.0, 0.25))"
   ]
  },
  {
   "cell_type": "code",
   "execution_count": null,
   "id": "5795ae29",
   "metadata": {},
   "outputs": [],
   "source": [
    "# We want to make a custom palette that will differentiate across methods. Specifically, if the method\n",
    "# is Popcorn_Scaling then we want it to be from the 'Blues' family otherwise we want it to be from the 'YlOrBr' family.\n",
    "# custom_palette = {df['opt_method'].unique()[i]: sns.color_palette('Blues', n_colors=len(df['opt_method'].unique()))[i] if 'Popcorn_Scaling' in df['opt_method'].unique()[i] else sns.color_palette('YlOrBr', n_colors=len(df['opt_method'].unique()))[i] for i in range(len(df['opt_method'].unique()))}"
   ]
  },
  {
   "cell_type": "code",
   "execution_count": null,
   "id": "5f7d6cbd",
   "metadata": {},
   "outputs": [],
   "source": [
    "g = sns.relplot(\n",
    "    data=df,\n",
    "    x='epoch',\n",
    "    y='dice_score',\n",
    "    hue='seed',\n",
    "    col='phase',\n",
    "    kind='line',\n",
    "    height=12,\n",
    "    # palette=custom_palette\n",
    ")\n",
    "\n",
    "# Set column spacing\n",
    "g.fig.subplots_adjust(wspace=0.05)\n",
    "# g.set(ylim=(0.0, 0.25))"
   ]
  },
  {
   "cell_type": "code",
   "execution_count": null,
   "id": "e2bc9889",
   "metadata": {},
   "outputs": [],
   "source": [
    "g = sns.relplot(\n",
    "    data=df,\n",
    "    x='epoch',\n",
    "    y='ece_loss',\n",
    "    hue='seed',\n",
    "    col='phase',\n",
    "    kind='line',\n",
    "    height=12,\n",
    "    # palette=custom_palette\n",
    ")\n",
    "\n",
    "# Set column spacing\n",
    "# Set the y axis to be between 0.008 and 0.001\n",
    "g.set(ylim=(0.0005, 0.008))\n",
    "g.fig.subplots_adjust(wspace=0.05)"
   ]
  }
 ],
 "metadata": {
  "kernelspec": {
   "display_name": "UniverSegTF",
   "language": "python",
   "name": "universegtf"
  },
  "language_info": {
   "codemirror_mode": {
    "name": "ipython",
    "version": 3
   },
   "file_extension": ".py",
   "mimetype": "text/x-python",
   "name": "python",
   "nbconvert_exporter": "python",
   "pygments_lexer": "ipython3",
   "version": "3.9.16"
  }
 },
 "nbformat": 4,
 "nbformat_minor": 5
}
