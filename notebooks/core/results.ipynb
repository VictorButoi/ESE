{
 "cells": [
  {
   "cell_type": "code",
   "execution_count": 1,
   "id": "7885da88",
   "metadata": {},
   "outputs": [],
   "source": [
    "import sys\n",
    "sys.path.append(\"/storage/vbutoi/projects/\")\n",
    "sys.path.append(\"/storage/vbutoi/libraries/\")\n",
    "from ionpy.analysis import ResultsLoader\n",
    "import pathlib\n",
    "import seaborn as sns\n",
    "import pandas as pd\n",
    "sns.set_context('talk')\n",
    "sns.set_style(\"darkgrid\")\n",
    "\n",
    "import os \n",
    "os.environ['DATAPATH'] = ':'.join((\n",
    "       '/storage',\n",
    "))\n",
    "\n",
    "# Results loader object does everything\n",
    "rs = ResultsLoader()\n",
    "root = \"/storage/vbutoi/scratch/ESE\""
   ]
  },
  {
   "cell_type": "code",
   "execution_count": null,
   "id": "0e101132",
   "metadata": {},
   "outputs": [],
   "source": [
    "path_list = [\n",
    "    \"/storage/vbutoi/scratch/ESE/training/10_21_24_Roads_FullRes_big_SoftDice\",\n",
    "    \"/storage/vbutoi/scratch/ESE/training/10_21_24_Roads_FullRes_big_CrossEntropy\",\n",
    "    \"/storage/vbutoi/scratch/ESE/training/10_21_24_Roads_FullRes_Cleaned_CrossEntropy\",\n",
    "    \"/storage/vbutoi/scratch/ESE/training/10_21_24_Roads_FullRes_Cleaned_SoftDice\",\n",
    "    \"/storage/vbutoi/scratch/ESE/training/10_21_24_Roads_RandomCrop500_Cleaned_CrossEntropy\",\n",
    "    \"/storage/vbutoi/scratch/ESE/training/10_21_24_Roads_RandomCrop500_Cleaned_SoftDice\",\n",
    "    \"/storage/vbutoi/scratch/ESE/training/10_12_24_Roads_RandomCrop500_big_CrossEntropy\",\n",
    "    \"/storage/vbutoi/scratch/ESE/training/10_12_24_Roads_RandomCrop500_big_SoftDice\",\n",
    "]\n",
    "\n",
    "df_list_1 = []\n",
    "for path in path_list:\n",
    "    try:\n",
    "        dfc = rs.load_configs(\n",
    "            path,\n",
    "            properties=False,\n",
    "        )\n",
    "        df = rs.load_metrics(dfc)\n",
    "        df_list_1.append(df)\n",
    "    except Exception as e:\n",
    "        print(e)\n",
    "\n",
    "df = pd.concat(df_list_1)"
   ]
  },
  {
   "cell_type": "code",
   "execution_count": null,
   "id": "fe65b001",
   "metadata": {},
   "outputs": [],
   "source": [
    "df['lr'].unique()"
   ]
  },
  {
   "cell_type": "code",
   "execution_count": null,
   "id": "82444130",
   "metadata": {},
   "outputs": [],
   "source": [
    "for ikey in df.keys():\n",
    "    print(ikey)"
   ]
  },
  {
   "cell_type": "code",
   "execution_count": null,
   "id": "f6b81c1d",
   "metadata": {},
   "outputs": [],
   "source": [
    "df['train_kwargs_transforms'].unique()"
   ]
  },
  {
   "cell_type": "code",
   "execution_count": 6,
   "id": "290bef2c",
   "metadata": {},
   "outputs": [],
   "source": [
    "# Fill the train_kwargs_transforms with None if it is NaN\n",
    "df['train_kwargs_transforms'] = df['train_kwargs_transforms'].fillna('None')"
   ]
  },
  {
   "cell_type": "code",
   "execution_count": 7,
   "id": "7c2a764a",
   "metadata": {},
   "outputs": [],
   "source": [
    "def exp_name(path):\n",
    "    exp_root = str(path).split(\"/\")[-2]\n",
    "    return exp_root\n",
    "\n",
    "def aug_type(path):\n",
    "    exp_root = str(path).split(\"/\")[-2]\n",
    "    if exp_root == \"09_26_24_ISLES_3D_LTS_AllAug_v2_ElasticOnly\":\n",
    "        exp_n = \"spatial\"\n",
    "    elif exp_root == \"09_26_24_ISLES_3D_LTS_AllAugBackbone_v2\":\n",
    "        exp_n = \"intensity + spatial\"\n",
    "    else:\n",
    "        raise ValueError(\"Unknown experiment root\")\n",
    "    return exp_n\n",
    "\n",
    "def patch_based(train_kwargs_transforms):\n",
    "    if train_kwargs_transforms == \"None\":\n",
    "        return \"False\"\n",
    "    else:\n",
    "        return \"True\"\n",
    "\n",
    "df.augment(exp_name)\n",
    "df.augment(patch_based)"
   ]
  },
  {
   "cell_type": "code",
   "execution_count": null,
   "id": "459a1fc4",
   "metadata": {},
   "outputs": [],
   "source": [
    "# We want to make sure that train goes before val in the phase\n",
    "df['phase'] = df['phase'].astype('category')\n",
    "df['version'] = df['version'].astype('category')\n",
    "df['phase'].cat.reorder_categories(['train', 'val'], inplace=True)"
   ]
  },
  {
   "cell_type": "code",
   "execution_count": 9,
   "id": "3f9219e1",
   "metadata": {},
   "outputs": [],
   "source": [
    "# Get every 10 epochs\n",
    "df = df[df['epoch'] % 10 == 0]\n",
    "# I only want seed = 40 for now\n",
    "df = df[df['seed'] == 40]"
   ]
  },
  {
   "cell_type": "code",
   "execution_count": null,
   "id": "75c304bb",
   "metadata": {},
   "outputs": [],
   "source": [
    "g = sns.relplot(\n",
    "    data=df,\n",
    "    x='epoch',\n",
    "    y='loss',\n",
    "    hue='version',\n",
    "    style='loss_func',\n",
    "    row='phase',\n",
    "    col='patch_based',\n",
    "    kind='line',\n",
    "    height=12,\n",
    "    # facet_kws=dict(sharey=False),\n",
    ")\n",
    "\n",
    "# Set column spacing\n",
    "g.fig.subplots_adjust(wspace=0.12)\n",
    "# Set the y axis to be between 0 and 1\n",
    "# g.set(ylim=(0, 1000))"
   ]
  },
  {
   "cell_type": "code",
   "execution_count": null,
   "id": "22cc5f7b",
   "metadata": {},
   "outputs": [],
   "source": [
    "g = sns.relplot(\n",
    "    data=df,\n",
    "    x='epoch',\n",
    "    y='dice_score',\n",
    "    hue='version',\n",
    "    style='loss_func',\n",
    "    row='phase',\n",
    "    col='patch_based',\n",
    "    kind='line',\n",
    "    height=12,\n",
    "    # facet_kws=dict(sharey=False),\n",
    ")\n",
    "\n",
    "# Set column spacing\n",
    "g.fig.subplots_adjust(wspace=0.12)\n",
    "# Set the y axis to be between 0 and 1\n",
    "# g.set(ylim=(0, 1000))"
   ]
  },
  {
   "cell_type": "code",
   "execution_count": null,
   "id": "fa6ba56e",
   "metadata": {},
   "outputs": [],
   "source": [
    "g = sns.relplot(\n",
    "    data=df,\n",
    "    x='epoch',\n",
    "    y='abs_area_estimation_error',\n",
    "    hue='version',\n",
    "    style='loss_func',\n",
    "    row='phase',\n",
    "    col='patch_based',\n",
    "    kind='line',\n",
    "    height=12,\n",
    "    # facet_kws=dict(sharey=False),\n",
    ")\n",
    "\n",
    "# Set column spacig\n",
    "g.fig.subplots_adjust(wspace=0.12)"
   ]
  }
 ],
 "metadata": {
  "kernelspec": {
   "display_name": "Python 3",
   "language": "python",
   "name": "python3"
  },
  "language_info": {
   "codemirror_mode": {
    "name": "ipython",
    "version": 3
   },
   "file_extension": ".py",
   "mimetype": "text/x-python",
   "name": "python",
   "nbconvert_exporter": "python",
   "pygments_lexer": "ipython3",
   "version": "3.9.16"
  }
 },
 "nbformat": 4,
 "nbformat_minor": 5
}
