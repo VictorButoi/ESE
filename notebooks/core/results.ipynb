{
 "cells": [
  {
   "cell_type": "code",
   "execution_count": 1,
   "id": "7885da88",
   "metadata": {},
   "outputs": [],
   "source": [
    "import sys\n",
    "sys.path.append(\"/storage/vbutoi/projects/\")\n",
    "sys.path.append(\"/storage/vbutoi/libraries/\")\n",
    "from ionpy.analysis import ResultsLoader\n",
    "import pathlib\n",
    "import seaborn as sns\n",
    "import pandas as pd\n",
    "sns.set_context('talk')\n",
    "sns.set_style(\"darkgrid\")\n",
    "\n",
    "import os \n",
    "os.environ['DATAPATH'] = ':'.join((\n",
    "       '/storage',\n",
    "))\n",
    "\n",
    "# Results loader object does everything\n",
    "rs = ResultsLoader()\n",
    "root = \"/storage/vbutoi/scratch/ESE\""
   ]
  },
  {
   "cell_type": "code",
   "execution_count": null,
   "id": "0e101132",
   "metadata": {},
   "outputs": [],
   "source": [
    "path_list = [\n",
    "    # \"/storage/vbutoi/scratch/ESE/calibration/09_11_24_ISLES_3D_LTS_AndrewsLevelsBIG\",\n",
    "    # \"/storage/vbutoi/scratch/ESE/calibration/09_12_24_ISLES_3D_LTS_LRandCapSweep\",\n",
    "    \"/storage/vbutoi/scratch/ESE/calibration/09_16_24_ISLES_3D_LTS_wAug\",\n",
    "    # \"/storage/vbutoi/scratch/ESE/calibration/09_17_24_ISLES_3D_LTS_CE_wAug\",\n",
    "    # \"/storage/vbutoi/scratch/ESE/calibration/09_17_24_ISLES_3D_LTS_SoftDice_wAug\",\n",
    "]\n",
    "\n",
    "df_list = []\n",
    "for path in path_list:\n",
    "    try:\n",
    "        dfc = rs.load_configs(\n",
    "            path,\n",
    "            properties=False,\n",
    "        )\n",
    "        df = rs.load_metrics(dfc)\n",
    "        df_list.append(df)\n",
    "    except Exception as e:\n",
    "        print(e)\n",
    "df = pd.concat(df_list)"
   ]
  },
  {
   "cell_type": "code",
   "execution_count": 3,
   "id": "c1125463",
   "metadata": {},
   "outputs": [],
   "source": [
    "# Only keep the epochs every 10 to reduce the number of points\n",
    "df = df[df['epoch'] % 10 == 0]"
   ]
  },
  {
   "cell_type": "code",
   "execution_count": 4,
   "id": "7f93ee71",
   "metadata": {},
   "outputs": [],
   "source": [
    "# for ikey in df.keys():\n",
    "#     print(ikey)"
   ]
  },
  {
   "cell_type": "code",
   "execution_count": 5,
   "id": "75c304bb",
   "metadata": {},
   "outputs": [],
   "source": [
    "# g = sns.relplot(\n",
    "#     data=df,\n",
    "#     x='epoch',\n",
    "#     y='loss',\n",
    "#     hue='loss_func',\n",
    "#     style='seed',\n",
    "#     # hue='filters',\n",
    "#     # style='lr',\n",
    "#     col='phase',\n",
    "#     kind='line',\n",
    "#     height=12,\n",
    "# )\n",
    "\n",
    "# # Set column spacing\n",
    "# g.fig.subplots_adjust(wspace=0.05)\n",
    "# # g.set(ylim=(0.0, 0.25))"
   ]
  },
  {
   "cell_type": "code",
   "execution_count": 6,
   "id": "c6ec589a",
   "metadata": {},
   "outputs": [],
   "source": [
    "# g = sns.relplot(\n",
    "#     data=df,\n",
    "#     x='epoch',\n",
    "#     y='area_estimation_error',\n",
    "#     hue='loss_func',\n",
    "#     style='seed',\n",
    "#     # hue='filters',\n",
    "#     # style='lr',\n",
    "#     col='phase',\n",
    "#     kind='line',\n",
    "#     height=12,\n",
    "#     # palette=custom_palette\n",
    "# )\n",
    "\n",
    "# # Set column spacing\n",
    "# g.fig.subplots_adjust(wspace=0.05)\n",
    "# # g.set(ylim=(0.0, 0.25))"
   ]
  },
  {
   "cell_type": "code",
   "execution_count": 7,
   "id": "b5593b55",
   "metadata": {},
   "outputs": [],
   "source": [
    "def aee_squared(area_estimation_error):\n",
    "    return area_estimation_error**2\n",
    "\n",
    "def abs_area_est_error(area_estimation_error):\n",
    "    return abs(area_estimation_error)\n",
    "\n",
    "def loss_rooted(loss):\n",
    "    return loss**0.5\n",
    "\n",
    "df.augment(aee_squared)\n",
    "df.augment(abs_area_est_error)\n",
    "df.augment(loss_rooted)"
   ]
  },
  {
   "cell_type": "code",
   "execution_count": null,
   "id": "310e8955",
   "metadata": {},
   "outputs": [],
   "source": [
    "g = sns.relplot(\n",
    "    data=df,\n",
    "    x='epoch',\n",
    "    y='loss_rooted',\n",
    "    hue='loss_func',\n",
    "    style='seed',\n",
    "    col='phase',\n",
    "    kind='line',\n",
    "    height=12,\n",
    ")\n",
    "\n",
    "# Set column spacing\n",
    "g.fig.subplots_adjust(wspace=0.05)\n",
    "# Set the y lim to be between 0 and 1000\n",
    "g.set(ylim=(0.0, 1000))"
   ]
  },
  {
   "cell_type": "code",
   "execution_count": null,
   "id": "eb93fd56",
   "metadata": {},
   "outputs": [],
   "source": [
    "g = sns.relplot(\n",
    "    data=df,\n",
    "    x='epoch',\n",
    "    y='abs_area_est_error',\n",
    "    hue='loss_func',\n",
    "    style='seed',\n",
    "    col='phase',\n",
    "    kind='line',\n",
    "    height=12,\n",
    ")\n",
    "\n",
    "# Set column spacing\n",
    "g.fig.subplots_adjust(wspace=0.05)\n",
    "g.set(ylim=(0.0, 1000))"
   ]
  }
 ],
 "metadata": {
  "kernelspec": {
   "display_name": "Python 3",
   "language": "python",
   "name": "python3"
  },
  "language_info": {
   "codemirror_mode": {
    "name": "ipython",
    "version": 3
   },
   "file_extension": ".py",
   "mimetype": "text/x-python",
   "name": "python",
   "nbconvert_exporter": "python",
   "pygments_lexer": "ipython3",
   "version": "3.9.16"
  }
 },
 "nbformat": 4,
 "nbformat_minor": 5
}
