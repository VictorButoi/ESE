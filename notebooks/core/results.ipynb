{
 "cells": [
  {
   "cell_type": "code",
   "execution_count": 1,
   "id": "7885da88",
   "metadata": {},
   "outputs": [],
   "source": [
    "import sys\n",
    "sys.path.append(\"/storage/vbutoi/projects/\")\n",
    "sys.path.append(\"/storage/vbutoi/libraries/\")\n",
    "from ionpy.analysis import ResultsLoader\n",
    "import pathlib\n",
    "import seaborn as sns\n",
    "import pandas as pd\n",
    "sns.set_context('talk')\n",
    "sns.set_style(\"darkgrid\")\n",
    "\n",
    "import os \n",
    "os.environ['DATAPATH'] = ':'.join((\n",
    "       '/storage',\n",
    "))\n",
    "\n",
    "# Results loader object does everything\n",
    "rs = ResultsLoader()\n",
    "root = \"/storage/vbutoi/scratch/ESE\""
   ]
  },
  {
   "cell_type": "code",
   "execution_count": null,
   "id": "0e101132",
   "metadata": {},
   "outputs": [],
   "source": [
    "path_list = [\n",
    "    \"/storage/vbutoi/scratch/ESE/calibration/10_06_24_ISLES_3D_SCTS_PredTemp_Small\",\n",
    "    \"/storage/vbutoi/scratch/ESE/calibration/10_06_24_ISLES_3D_SCTS_PredTemp_Small_wNorm\",\n",
    "    \"/storage/vbutoi/scratch/ESE/calibration/10_01_24_ISLES_3D_LTS_HugeAugedRuns\",\n",
    "]\n",
    "\n",
    "df_list_1 = []\n",
    "for path in path_list:\n",
    "    try:\n",
    "        dfc = rs.load_configs(\n",
    "            path,\n",
    "            properties=False,\n",
    "        )\n",
    "        df = rs.load_metrics(dfc)\n",
    "        df_list_1.append(df)\n",
    "    except Exception as e:\n",
    "        print(e)\n",
    "\n",
    "df = pd.concat(df_list_1)"
   ]
  },
  {
   "cell_type": "code",
   "execution_count": null,
   "id": "fe65b001",
   "metadata": {},
   "outputs": [],
   "source": [
    "df['lr'].unique()"
   ]
  },
  {
   "cell_type": "code",
   "execution_count": 4,
   "id": "82444130",
   "metadata": {},
   "outputs": [],
   "source": [
    "# for ikey in df.keys():\n",
    "#     print(ikey)"
   ]
  },
  {
   "cell_type": "code",
   "execution_count": 5,
   "id": "7e393495",
   "metadata": {},
   "outputs": [],
   "source": [
    "# Subselect the pretrained dir\n",
    "df = df[df['base_pretrained_dir'] == '/storage/vbutoi/scratch/ESE/training/09_25_24_ISLES_3D_Dice_HeavyAug/20240925_234556-HGRQ-56cd3bf7df7a1b7d2a453b296d64407d']"
   ]
  },
  {
   "cell_type": "code",
   "execution_count": 6,
   "id": "fe47ca4e",
   "metadata": {},
   "outputs": [],
   "source": [
    "# Limit the rows to those with lr = 1e-5\n",
    "# df = df[df['lr'] == 1e-5]"
   ]
  },
  {
   "cell_type": "code",
   "execution_count": 7,
   "id": "7c2a764a",
   "metadata": {},
   "outputs": [],
   "source": [
    "def exp_name(path):\n",
    "    exp_root = str(path).split(\"/\")[-2]\n",
    "    return exp_root\n",
    "\n",
    "def aug_type(path):\n",
    "    exp_root = str(path).split(\"/\")[-2]\n",
    "    if exp_root == \"09_26_24_ISLES_3D_LTS_AllAug_v2_ElasticOnly\":\n",
    "        exp_n = \"spatial\"\n",
    "    elif exp_root == \"09_26_24_ISLES_3D_LTS_AllAugBackbone_v2\":\n",
    "        exp_n = \"intensity + spatial\"\n",
    "    else:\n",
    "        raise ValueError(\"Unknown experiment root\")\n",
    "    return exp_n\n",
    "\n",
    "def norm_type(path):\n",
    "    exp_root = str(path).split(\"/\")[-2]\n",
    "    if exp_root == \"09_27_24_ISLES_3D_LTS_Bs6_lr1e-4_BATCHNORM\":\n",
    "        exp_n = \"batch\"\n",
    "    elif exp_root == \"09_27_24_ISLES_3D_LTS_Bs6_lr1e-4_LAYERNORM\":\n",
    "        exp_n = \"layer\"\n",
    "    else:\n",
    "        exp_n = \"None\"\n",
    "    return exp_n\n",
    "\n",
    "df.augment(exp_name)\n",
    "# df.augment(aug_type)\n",
    "df.augment(norm_type)"
   ]
  },
  {
   "cell_type": "code",
   "execution_count": 8,
   "id": "421a9839",
   "metadata": {},
   "outputs": [],
   "source": [
    "# we need to make batch_size and lr cateogorical variables\n",
    "df['batch_size'] = df['batch_size'].astype('category')\n",
    "df['lr'] = df['lr'].astype('category')"
   ]
  },
  {
   "cell_type": "code",
   "execution_count": null,
   "id": "459a1fc4",
   "metadata": {},
   "outputs": [],
   "source": [
    "# We want to make sure that train goes before val in the phase\n",
    "df['phase'] = df['phase'].astype('category')\n",
    "df['phase'].cat.reorder_categories(['train', 'val'], inplace=True)"
   ]
  },
  {
   "cell_type": "code",
   "execution_count": 10,
   "id": "7c0c4586",
   "metadata": {},
   "outputs": [],
   "source": [
    "# # We only want to include the runs corresponding to 0.0001 or 0.0005\n",
    "# df = df[df['lr'].isin([0.0001, 0.0005])]"
   ]
  },
  {
   "cell_type": "code",
   "execution_count": null,
   "id": "75c304bb",
   "metadata": {},
   "outputs": [],
   "source": [
    "g = sns.relplot(\n",
    "    data=df,\n",
    "    x='epoch',\n",
    "    y='loss',\n",
    "    hue='exp_name',\n",
    "    style='lr',\n",
    "    col='phase',\n",
    "    kind='line',\n",
    "    height=12,\n",
    "    facet_kws=dict(sharey=False),\n",
    ")\n",
    "\n",
    "# Set column spacing\n",
    "g.fig.subplots_adjust(wspace=0.12)\n",
    "# Set the y axis to be between 0 and 1\n",
    "g.set(ylim=(0, 1))"
   ]
  },
  {
   "cell_type": "code",
   "execution_count": null,
   "id": "fa6ba56e",
   "metadata": {},
   "outputs": [],
   "source": [
    "g = sns.relplot(\n",
    "    data=df,\n",
    "    x='epoch',\n",
    "    y='abs_area_estimation_error',\n",
    "    hue='exp_name',\n",
    "    style='lr',\n",
    "    col='phase',\n",
    "    kind='line',\n",
    "    height=12,\n",
    "    facet_kws=dict(sharey=False),\n",
    ")\n",
    "\n",
    "# Set column spacig\n",
    "g.fig.subplots_adjust(wspace=0.12)\n",
    "# Set the y lim\n",
    "g.set(ylim=(0, 1250))"
   ]
  },
  {
   "cell_type": "code",
   "execution_count": 14,
   "id": "72efeda8",
   "metadata": {},
   "outputs": [],
   "source": [
    "reduced_lr_df = df[df['lr'] == 1e-5]"
   ]
  },
  {
   "cell_type": "code",
   "execution_count": null,
   "id": "e9dfed32",
   "metadata": {},
   "outputs": [],
   "source": [
    "g = sns.relplot(\n",
    "    data=reduced_lr_df,\n",
    "    x='epoch',\n",
    "    y='abs_area_estimation_error',\n",
    "    hue='exp_name',\n",
    "    style='lr',\n",
    "    col='phase',\n",
    "    kind='line',\n",
    "    height=12,\n",
    "    facet_kws=dict(sharey=False),\n",
    ")\n",
    "\n",
    "# Set column spacig\n",
    "g.fig.subplots_adjust(wspace=0.12)\n",
    "# Set the y lim\n",
    "g.set(ylim=(0, 1250))"
   ]
  },
  {
   "cell_type": "code",
   "execution_count": 16,
   "id": "68be9e5e",
   "metadata": {},
   "outputs": [],
   "source": [
    "reduced_lr_df_pt2 = df[df['lr'] == 1e-4]"
   ]
  },
  {
   "cell_type": "code",
   "execution_count": null,
   "id": "a3d3bf1b",
   "metadata": {},
   "outputs": [],
   "source": [
    "g = sns.relplot(\n",
    "    data=reduced_lr_df_pt2,\n",
    "    x='epoch',\n",
    "    y='abs_area_estimation_error',\n",
    "    hue='exp_name',\n",
    "    style='lr',\n",
    "    col='phase',\n",
    "    kind='line',\n",
    "    height=12,\n",
    "    facet_kws=dict(sharey=False),\n",
    ")\n",
    "\n",
    "# Set column spacig\n",
    "g.fig.subplots_adjust(wspace=0.12)\n",
    "# Set the y lim\n",
    "g.set(ylim=(0, 1250))"
   ]
  }
 ],
 "metadata": {
  "kernelspec": {
   "display_name": "Python 3",
   "language": "python",
   "name": "python3"
  },
  "language_info": {
   "codemirror_mode": {
    "name": "ipython",
    "version": 3
   },
   "file_extension": ".py",
   "mimetype": "text/x-python",
   "name": "python",
   "nbconvert_exporter": "python",
   "pygments_lexer": "ipython3",
   "version": "3.9.16"
  }
 },
 "nbformat": 4,
 "nbformat_minor": 5
}
