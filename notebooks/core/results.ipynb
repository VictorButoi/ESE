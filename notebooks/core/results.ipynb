{
 "cells": [
  {
   "cell_type": "code",
   "execution_count": null,
   "id": "7885da88",
   "metadata": {},
   "outputs": [],
   "source": [
    "import sys\n",
    "sys.path.append(\"/storage/vbutoi/projects/\")\n",
    "sys.path.append(\"/storage/vbutoi/libraries/\")\n",
    "from ionpy.analysis import ResultsLoader\n",
    "import pathlib\n",
    "import seaborn as sns\n",
    "import pandas as pd\n",
    "sns.set_context('talk')\n",
    "sns.set_style(\"darkgrid\")\n",
    "\n",
    "import os \n",
    "os.environ['DATAPATH'] = ':'.join((\n",
    "       '/storage',\n",
    "))\n",
    "\n",
    "# Results loader object does everything\n",
    "rs = ResultsLoader()\n",
    "root = \"/storage/vbutoi/scratch/ESE\""
   ]
  },
  {
   "cell_type": "code",
   "execution_count": null,
   "id": "0e101132",
   "metadata": {},
   "outputs": [],
   "source": [
    "path_list = [\n",
    "    # \"/storage/vbutoi/scratch/ESE/training/08_24_24_HeptaticVessel_LowerLR\",\n",
    "   \"/storage/vbutoi/scratch/ESE/calibration/08_26_24_HepaticVessels_TempScaling\",\n",
    "    # \"/storage/vbutoi/scratch/ESE/calibration/08_26_24_HepaticVessels_LTS\",\n",
    "]\n",
    "\n",
    "df_list = []\n",
    "for path in path_list:\n",
    "    try:\n",
    "        dfc = rs.load_configs(\n",
    "            path,\n",
    "            properties=False,\n",
    "        )\n",
    "        df = rs.load_metrics(dfc)\n",
    "        df_list.append(df)\n",
    "    except Exception as e:\n",
    "        print(e)\n",
    "df = pd.concat(df_list)"
   ]
  },
  {
   "cell_type": "code",
   "execution_count": null,
   "id": "7f93ee71",
   "metadata": {},
   "outputs": [],
   "source": [
    "for ikey in df.keys():\n",
    "    print(ikey)"
   ]
  },
  {
   "cell_type": "code",
   "execution_count": null,
   "id": "af5698e9",
   "metadata": {},
   "outputs": [],
   "source": [
    "def calibrator(path):\n",
    "    if 'SVLS' in str(path):\n",
    "        return 'SVLS'\n",
    "    else:\n",
    "        return 'None'\n",
    "    \n",
    "df.augment(calibrator)"
   ]
  },
  {
   "cell_type": "code",
   "execution_count": null,
   "id": "812a9afd",
   "metadata": {},
   "outputs": [],
   "source": [
    "df['path'].unique()"
   ]
  },
  {
   "cell_type": "code",
   "execution_count": null,
   "id": "75c304bb",
   "metadata": {},
   "outputs": [],
   "source": [
    "# g = sns.relplot(\n",
    "#     data=df,\n",
    "#     x='epoch',\n",
    "#     y='loss',\n",
    "#     hue='path',\n",
    "#     style='seed',   \n",
    "#     col='phase',\n",
    "#     row='loss_func',\n",
    "#     kind='line',\n",
    "#     height=12,\n",
    "# )\n",
    "\n",
    "# # Set column spacing\n",
    "# g.fig.subplots_adjust(wspace=0.05)\n",
    "# # g.set(ylim=(0.0, 0.25))"
   ]
  },
  {
   "cell_type": "code",
   "execution_count": null,
   "id": "26e3b946",
   "metadata": {},
   "outputs": [],
   "source": [
    "df.select(loss_func='ese.losses.PixelCELoss')['path'].unique()"
   ]
  },
  {
   "cell_type": "code",
   "execution_count": null,
   "id": "5f7d6cbd",
   "metadata": {},
   "outputs": [],
   "source": [
    "g = sns.relplot(\n",
    "    data=df,\n",
    "    x='epoch',\n",
    "    y='dice_score',\n",
    "    hue='path',\n",
    "    style='calibrator',\n",
    "    row='loss_func',   \n",
    "    col='phase',\n",
    "    kind='line',\n",
    "    height=12,\n",
    "    # palette=custom_palette\n",
    ")\n",
    "\n",
    "# Set column spacing\n",
    "g.fig.subplots_adjust(wspace=0.05)\n",
    "# g.set(ylim=(0.0, 0.25))"
   ]
  },
  {
   "cell_type": "code",
   "execution_count": null,
   "id": "dded1889",
   "metadata": {},
   "outputs": [],
   "source": [
    "g = sns.relplot(\n",
    "    data=df,\n",
    "    x='epoch',\n",
    "    y='ece_loss',\n",
    "    hue='path',\n",
    "    style='loss_func',   \n",
    "    col='phase',\n",
    "    kind='line',\n",
    "    height=12,\n",
    "    # palette=custom_palette\n",
    ")\n",
    "\n",
    "# Set column spacing\n",
    "g.fig.subplots_adjust(wspace=0.05)\n",
    "# g.set(ylim=(0.0, 0.25))"
   ]
  },
  {
   "cell_type": "code",
   "execution_count": null,
   "id": "149136ed",
   "metadata": {},
   "outputs": [],
   "source": [
    "# g = sns.relplot(\n",
    "#     data=df,\n",
    "#     x='epoch',\n",
    "#     y='area_estimation_error',\n",
    "#     hue='path',\n",
    "#     style='loss_func',   \n",
    "#     col='phase',\n",
    "#     kind='line',\n",
    "#     height=12,\n",
    "#     # palette=custom_palette\n",
    "# )\n",
    "\n",
    "# # Set column spacing\n",
    "# g.fig.subplots_adjust(wspace=0.05)\n",
    "# # g.set(ylim=(0.0, 0.25))"
   ]
  }
 ],
 "metadata": {
  "kernelspec": {
   "display_name": "Python 3",
   "language": "python",
   "name": "python3"
  },
  "language_info": {
   "codemirror_mode": {
    "name": "ipython",
    "version": 3
   },
   "file_extension": ".py",
   "mimetype": "text/x-python",
   "name": "python",
   "nbconvert_exporter": "python",
   "pygments_lexer": "ipython3",
   "version": "3.9.16"
  }
 },
 "nbformat": 4,
 "nbformat_minor": 5
}
