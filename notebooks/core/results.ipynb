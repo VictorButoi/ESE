{
 "cells": [
  {
   "cell_type": "code",
   "execution_count": 1,
   "id": "7885da88",
   "metadata": {},
   "outputs": [],
   "source": [
    "import sys\n",
    "sys.path.append(\"/storage/vbutoi/projects/\")\n",
    "sys.path.append(\"/storage/vbutoi/libraries/\")\n",
    "from ionpy.analysis import ResultsLoader\n",
    "import pathlib\n",
    "import seaborn as sns\n",
    "import pandas as pd\n",
    "sns.set_context('talk')\n",
    "sns.set_style(\"darkgrid\")\n",
    "\n",
    "import os \n",
    "os.environ['DATAPATH'] = ':'.join((\n",
    "       '/storage',\n",
    "))\n",
    "\n",
    "# Results loader object does everything\n",
    "rs = ResultsLoader()\n",
    "root = \"/storage/vbutoi/scratch/ESE\""
   ]
  },
  {
   "cell_type": "code",
   "execution_count": null,
   "id": "0e101132",
   "metadata": {},
   "outputs": [],
   "source": [
    "path_list = [\n",
    "    # \"/storage/vbutoi/scratch/ESE/calibration/09_19_24_ISLES_3D_LTS_BIG_wA\",\n",
    "    # \"/storage/vbutoi/scratch/ESE/calibration/09_19_24_ISLES_3D_LTS_BIG_wA_MP\",\n",
    "    \"/storage/vbutoi/scratch/ESE/calibration/09_19_24_ISLES_3D_LTS_BIG_noAug\",\n",
    "]\n",
    "\n",
    "df_list = []\n",
    "for path in path_list:\n",
    "    try:\n",
    "        dfc = rs.load_configs(\n",
    "            path,\n",
    "            properties=False,\n",
    "        )\n",
    "        df = rs.load_metrics(dfc)\n",
    "        df_list.append(df)\n",
    "    except Exception as e:\n",
    "        print(e)\n",
    "df = pd.concat(df_list)"
   ]
  },
  {
   "cell_type": "code",
   "execution_count": null,
   "id": "629c7fff",
   "metadata": {},
   "outputs": [],
   "source": [
    "for key in df.keys():\n",
    "    print(key)"
   ]
  },
  {
   "cell_type": "code",
   "execution_count": 4,
   "id": "eb51c33e",
   "metadata": {},
   "outputs": [],
   "source": [
    "# df.unique_per_col()"
   ]
  },
  {
   "cell_type": "code",
   "execution_count": null,
   "id": "a839773a",
   "metadata": {},
   "outputs": [],
   "source": [
    "df['path'].unique()"
   ]
  },
  {
   "cell_type": "code",
   "execution_count": 6,
   "id": "7c2a764a",
   "metadata": {},
   "outputs": [],
   "source": [
    "def exp_name(path):\n",
    "    return str(path).split(\"/\")[-2]\n",
    "    \n",
    "df.augment(exp_name)"
   ]
  },
  {
   "cell_type": "code",
   "execution_count": 7,
   "id": "c1125463",
   "metadata": {},
   "outputs": [],
   "source": [
    "# Only keep the epochs every 10 to reduce the number of points\n",
    "df = df[df['epoch'] % 10 == 0]"
   ]
  },
  {
   "cell_type": "code",
   "execution_count": null,
   "id": "421a9839",
   "metadata": {},
   "outputs": [],
   "source": [
    "# we need to make batch_size and lr cateogorical variables\n",
    "df['batch_size'] = df['batch_size'].astype('category')\n",
    "df['lr'] = df['lr'].astype('category')"
   ]
  },
  {
   "cell_type": "code",
   "execution_count": null,
   "id": "75c304bb",
   "metadata": {},
   "outputs": [],
   "source": [
    "g = sns.relplot(\n",
    "    data=df,\n",
    "    x='epoch',\n",
    "    y='loss',\n",
    "    hue='exp_name',\n",
    "    style='seed',\n",
    "    col='phase',\n",
    "    kind='line',\n",
    "    height=12,\n",
    "    facet_kws={\n",
    "        \"sharey\":False,\n",
    "    }\n",
    ")\n",
    "\n",
    "# Set column spacing\n",
    "g.fig.subplots_adjust(wspace=0.12)\n",
    "# g.set(ylim=(0.0, 0.25))"
   ]
  },
  {
   "cell_type": "code",
   "execution_count": 10,
   "id": "64612eff",
   "metadata": {},
   "outputs": [],
   "source": [
    "def sqrt_loss(loss):\n",
    "    return loss ** 0.5\n",
    "\n",
    "df.augment(sqrt_loss)"
   ]
  },
  {
   "cell_type": "code",
   "execution_count": null,
   "id": "98dc15cb",
   "metadata": {},
   "outputs": [],
   "source": [
    "g = sns.relplot(\n",
    "    data=df,\n",
    "    x='epoch',\n",
    "    y='dice_score',\n",
    "    hue='exp_name',\n",
    "    style='seed',\n",
    "    col='phase',\n",
    "    kind='line',\n",
    "    height=12,\n",
    ")\n",
    "\n",
    "# Set column spacing\n",
    "g.fig.subplots_adjust(wspace=0.05)\n",
    "# g.set(ylim=(0.0, 0.25))"
   ]
  },
  {
   "cell_type": "code",
   "execution_count": null,
   "id": "69a2ac20",
   "metadata": {},
   "outputs": [],
   "source": [
    "g = sns.relplot(\n",
    "    data=df,\n",
    "    x='epoch',\n",
    "    y='sqrt_loss',\n",
    "    hue='exp_name',\n",
    "    style='seed',\n",
    "    col='phase',\n",
    "    kind='line',\n",
    "    height=12,\n",
    ")\n",
    "\n",
    "# Set column spacing\n",
    "g.fig.subplots_adjust(wspace=0.05)\n",
    "# g.set(ylim=(0.0, 0.25))"
   ]
  },
  {
   "cell_type": "code",
   "execution_count": null,
   "id": "aa41165a",
   "metadata": {},
   "outputs": [],
   "source": [
    "g = sns.relplot(\n",
    "    data=df,\n",
    "    x='epoch',\n",
    "    y='abs_area_estimation_error',\n",
    "    hue='exp_name',\n",
    "    style='seed',\n",
    "    col='phase',\n",
    "    kind='line',\n",
    "    height=12,\n",
    ")\n",
    "\n",
    "# Set column spacing\n",
    "g.fig.subplots_adjust(wspace=0.05)\n",
    "# g.set(ylim=(0.0, 0.25))"
   ]
  },
  {
   "cell_type": "code",
   "execution_count": null,
   "id": "396e29c6",
   "metadata": {},
   "outputs": [],
   "source": [
    "g = sns.relplot(\n",
    "    data=df,\n",
    "    x='epoch',\n",
    "    y='area_estimation_error',\n",
    "    hue='exp_name',\n",
    "    style='seed',\n",
    "    col='phase',\n",
    "    kind='line',\n",
    "    height=12,\n",
    ")\n",
    "\n",
    "# Set column spacing\n",
    "g.fig.subplots_adjust(wspace=0.05)\n",
    "# g.set(ylim=(0.0, 0.25))"
   ]
  }
 ],
 "metadata": {
  "kernelspec": {
   "display_name": "Python 3",
   "language": "python",
   "name": "python3"
  },
  "language_info": {
   "codemirror_mode": {
    "name": "ipython",
    "version": 3
   },
   "file_extension": ".py",
   "mimetype": "text/x-python",
   "name": "python",
   "nbconvert_exporter": "python",
   "pygments_lexer": "ipython3",
   "version": "3.9.16"
  }
 },
 "nbformat": 4,
 "nbformat_minor": 5
}
