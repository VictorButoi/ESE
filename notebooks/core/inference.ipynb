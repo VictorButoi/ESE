{
 "cells": [
  {
   "cell_type": "code",
   "execution_count": 1,
   "metadata": {},
   "outputs": [],
   "source": [
    "# torch imports\n",
    "import torch\n",
    "import torch._dynamo\n",
    "torch._dynamo.config.suppress_errors = True\n",
    "# Misc imports\n",
    "import os \n",
    "import sys\n",
    "import seaborn as sns\n",
    "from pathlib import Path\n",
    "sys.path.append('/storage/vbutoi/projects')\n",
    "sys.path.append('/storage/vbutoi/libraries')\n",
    "sys.path.append('/storage/vbutoi/projects/ESE')\n",
    "sys.path.append('/storage/vbutoi/projects/UniverSegDev')\n",
    "# Ionpy imports\n",
    "from ionpy.util import Config\n",
    "from ionpy.analysis import ResultsLoader\n",
    "\n",
    "# Define some useful paths.\n",
    "os.environ['DATAPATH'] = ':'.join((\n",
    "       '/storage/vbutoi/datasets',\n",
    "       '/storage'\n",
    "))\n",
    "# Set some defaults\n",
    "rs = ResultsLoader()\n",
    "sns.set_style(\"darkgrid\")\n",
    "torch.set_printoptions(linewidth=200)\n",
    "\n",
    "# For using code without restarting.\n",
    "%load_ext autoreload\n",
    "%autoreload 2\n",
    "# For using yaml configs.\n",
    "%load_ext yamlmagic"
   ]
  },
  {
   "cell_type": "code",
   "execution_count": null,
   "metadata": {},
   "outputs": [],
   "source": [
    "%%yaml default_cfg \n",
    "\n",
    "experiment:\n",
    "    exp_root: '?'\n",
    "    inference_seed: 40\n",
    "\n",
    "inference_data:\n",
    "    split: (\"cal\", \"val\")\n",
    "\n",
    "log:\n",
    "    root: '?'\n",
    "    save_preds: False \n",
    "    log_interval: 10 \n",
    "    log_pixel_stats: False \n",
    "    gether_inference_stats: True\n",
    "    compute_global_metrics: False \n",
    "\n",
    "dataloader:\n",
    "    batch_size: '?' \n",
    "    num_workers: '?' \n",
    "    pin_memory: True "
   ]
  },
  {
   "cell_type": "code",
   "execution_count": null,
   "metadata": {},
   "outputs": [],
   "source": [
    "%%yaml calibration_cfg \n",
    "\n",
    "local_calibration:\n",
    "    num_prob_bins: 15\n",
    "    neighborhood_width: 3\n",
    "\n",
    "global_calibration:\n",
    "    num_classes: 1 \n",
    "    num_prob_bins: 15\n",
    "    neighborhood_width: 3"
   ]
  },
  {
   "cell_type": "code",
   "execution_count": null,
   "metadata": {},
   "outputs": [],
   "source": [
    "%%yaml model_cfg \n",
    "\n",
    "# For standard datasets\n",
    "#####################################\n",
    "model:\n",
    "    pred_label: 0     \n",
    "    _type: \"standard\"\n",
    "    pretrained_exp_root : None\n",
    "    checkpoint: 'min-val-abs_area_estimation_error'"
   ]
  },
  {
   "cell_type": "markdown",
   "metadata": {},
   "source": [
    "## Gather Inference Options."
   ]
  },
  {
   "cell_type": "code",
   "execution_count": null,
   "metadata": {},
   "outputs": [],
   "source": [
    "%%yaml experiment_cfg \n",
    "\n",
    "# EXP 1\n",
    "##################################################################################\n",
    "# group: \"Cleaned_FULLRES_Roads_Benchmark\"\n",
    "# subgroup: \"Base\"\n",
    "# subgroup: \"Sweep_Threshold\"\n",
    "# subgroup: \"Sweep_Temperature\"\n",
    "# subgroup: \"Optimal_RAVE_Threshold\"\n",
    "# subgroup: \"Optimal_RAVE_Temperature\"\n",
    "\n",
    "# base_model: \n",
    "#     - \"/storage/vbutoi/scratch/ESE/training/10_21_24_Roads_FullRes_Cleaned_CrossEntropy/20241021_112625-592Z-5e6c54e65358ea3b7fe09f3dab3d97b1\"\n",
    "    # - \"/storage/vbutoi/scratch/ESE/training/10_21_24_Roads_FullRes_Cleaned_SoftDice/20241021_112656-V971-afa9c1ed9cdd1b6cbeef9a671d86dd1c\"\n",
    "##################################################################################\n",
    "\n",
    "# EXP 2\n",
    "##################################################################################\n",
    "group: \"Cleaned_RC500_Roads_Benchmark\"\n",
    "# subgroup: \"Base\"\n",
    "# subgroup: \"Sweep_Threshold\"\n",
    "subgroup: \"Sweep_Temperature\"\n",
    "# subgroup: \"Optimal_RAVE_Threshold\"\n",
    "# subgroup: \"Optimal_RAVE_Temperature\"\n",
    "\n",
    "#Add in case of patch based inference.\n",
    "experiment: \n",
    "    inf_kwargs:\n",
    "        patch_pred_kwargs: # We need to do patch based inference because native res is 1500x1500\n",
    "            combine_fn: 'cat'\n",
    "            dims:\n",
    "                height: 500 \n",
    "                width: 500\n",
    "\n",
    "base_model: \n",
    "    # - \"/storage/vbutoi/scratch/ESE/training/10_21_24_Roads_RandomCrop500_Cleaned_CrossEntropy/20241021_113841-M0IZ-084a0e0022d548b085a5e77eabdc30f6\"\n",
    "    - \"/storage/vbutoi/scratch/ESE/training/10_21_24_Roads_RandomCrop500_Cleaned_SoftDice/20241021_114013-SAWI-e832d7be561e0678f42cf4d88c2956d9\"\n",
    "\n",
    "##################################################################################\n",
    "\n",
    "inference_data:\n",
    "    version: 1.0\n",
    "\n",
    "dataloader:\n",
    "    # batch_size: 8\n",
    "    # num_workers: 4\n",
    "    batch_size: 1\n",
    "    num_workers: 1"
   ]
  },
  {
   "cell_type": "code",
   "execution_count": null,
   "metadata": {},
   "outputs": [],
   "source": [
    "# Local imports\n",
    "from ese.analysis.analysis_utils.submit_utils import get_ese_inference_configs\n",
    "\n",
    "# Get the configs for the different runs.\n",
    "base_cfg = Config(default_cfg).update([calibration_cfg, model_cfg])\n",
    "\n",
    "# For inference experiments, we don't add the date by default.\n",
    "add_date = True \n",
    "# Get the different experiment cfg yamls.\n",
    "updated_base_cfg, inf_cfgs = get_ese_inference_configs(\n",
    "    exp_cfg=experiment_cfg, \n",
    "    base_cfg=base_cfg,\n",
    "    add_date=add_date\n",
    ")"
   ]
  },
  {
   "cell_type": "code",
   "execution_count": null,
   "metadata": {},
   "outputs": [],
   "source": [
    "print(len(inf_cfgs))"
   ]
  },
  {
   "cell_type": "markdown",
   "metadata": {},
   "source": [
    "## Running Jobs"
   ]
  },
  {
   "cell_type": "code",
   "execution_count": 8,
   "metadata": {},
   "outputs": [],
   "source": [
    "from ese.analysis.run_inference import get_cal_stats"
   ]
  },
  {
   "cell_type": "code",
   "execution_count": null,
   "metadata": {},
   "outputs": [],
   "source": [
    "from ese.experiment import run_ese_exp\n",
    "\n",
    "###### Run individual jobs\n",
    "run_ese_exp(\n",
    "    config=inf_cfgs[0], \n",
    "    job_func=get_cal_stats,\n",
    "    run_name='debug',\n",
    "    show_examples=True,\n",
    "    gpu='2',\n",
    ")"
   ]
  },
  {
   "cell_type": "code",
   "execution_count": null,
   "metadata": {},
   "outputs": [],
   "source": [
    "# from ese.experiment import submit_ese_exps \n",
    "\n",
    "# #### Run Batch Jobs\n",
    "# submit_ese_exps(\n",
    "#     group=\"inference\",\n",
    "#     base_cfg=updated_base_cfg,\n",
    "#     add_date=add_date,\n",
    "#     exp_cfg=experiment_cfg,\n",
    "#     config_list=inf_cfgs,\n",
    "#     job_func=get_cal_stats,\n",
    "#     available_gpus=['0', '1', '2', '3'] # 4-GPU servers\n",
    "#     # available_gpus=['2', '3', '4', '5', '6', '7'] # Milo\n",
    "# )"
   ]
  }
 ],
 "metadata": {
  "kernelspec": {
   "display_name": "Python 3",
   "language": "python",
   "name": "python3"
  },
  "language_info": {
   "codemirror_mode": {
    "name": "ipython",
    "version": 3
   },
   "file_extension": ".py",
   "mimetype": "text/x-python",
   "name": "python",
   "nbconvert_exporter": "python",
   "pygments_lexer": "ipython3",
   "version": "3.9.16"
  },
  "orig_nbformat": 4
 },
 "nbformat": 4,
 "nbformat_minor": 2
}
