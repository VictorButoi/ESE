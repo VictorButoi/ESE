{
 "cells": [
  {
   "cell_type": "code",
   "execution_count": 1,
   "metadata": {},
   "outputs": [],
   "source": [
    "# torch imports\n",
    "import torch\n",
    "# Misc imports\n",
    "import os \n",
    "import sys\n",
    "import seaborn as sns\n",
    "from pathlib import Path\n",
    "sys.path.append('/storage/vbutoi/projects')\n",
    "sys.path.append('/storage/vbutoi/libraries')\n",
    "sys.path.append('/storage/vbutoi/projects/ESE')\n",
    "sys.path.append('/storage/vbutoi/projects/UniverSegDev')\n",
    "# Ionpy imports\n",
    "from ionpy.util import Config\n",
    "from ionpy.analysis import ResultsLoader\n",
    "\n",
    "# Define some useful paths.\n",
    "os.environ['DATAPATH'] = ':'.join((\n",
    "       '/storage/vbutoi/datasets',\n",
    "       '/storage'\n",
    "))\n",
    "# Set some defaults\n",
    "rs = ResultsLoader()\n",
    "sns.set_style(\"darkgrid\")\n",
    "torch.set_printoptions(linewidth=200)\n",
    "\n",
    "# For using code without restarting.\n",
    "%load_ext autoreload\n",
    "%autoreload 2\n",
    "# For using yaml configs.\n",
    "%load_ext yamlmagic"
   ]
  },
  {
   "cell_type": "code",
   "execution_count": 2,
   "metadata": {},
   "outputs": [
    {
     "data": {
      "application/javascript": "\n            require(\n                [\n                    \"notebook/js/codecell\",\n                    \"codemirror/mode/yaml/yaml\"\n                ],\n                function(cc){\n                    cc.CodeCell.options_default.highlight_modes.magic_yaml = {\n                        reg: [\"^%%yaml\"]\n                    }\n                }\n            );\n            ",
      "text/plain": [
       "<IPython.core.display.Javascript object>"
      ]
     },
     "metadata": {},
     "output_type": "display_data"
    }
   ],
   "source": [
    "%%yaml default_cfg \n",
    "\n",
    "experiment:\n",
    "    exp_root: '?'\n",
    "    inference_seed: 40\n",
    "    pred_threshold: 0.5 \n",
    "\n",
    "log:\n",
    "    root: '?'\n",
    "    save_preds: False \n",
    "    log_interval: 10 \n",
    "    log_pixel_stats: False \n",
    "    gether_inference_stats: True\n",
    "    compute_global_metrics: False \n",
    "\n",
    "dataloader:\n",
    "    batch_size: '?'\n",
    "    num_workers: 1 \n",
    "    pin_memory: True "
   ]
  },
  {
   "cell_type": "code",
   "execution_count": 3,
   "metadata": {},
   "outputs": [
    {
     "data": {
      "application/javascript": "\n            require(\n                [\n                    \"notebook/js/codecell\",\n                    \"codemirror/mode/yaml/yaml\"\n                ],\n                function(cc){\n                    cc.CodeCell.options_default.highlight_modes.magic_yaml = {\n                        reg: [\"^%%yaml\"]\n                    }\n                }\n            );\n            ",
      "text/plain": [
       "<IPython.core.display.Javascript object>"
      ]
     },
     "metadata": {},
     "output_type": "display_data"
    }
   ],
   "source": [
    "%%yaml calibration_cfg \n",
    "\n",
    "calibrator:\n",
    "    _name: None \n",
    "\n",
    "local_calibration:\n",
    "    num_prob_bins: 15\n",
    "    neighborhood_width: 3\n",
    "\n",
    "global_calibration:\n",
    "    num_classes: '?' \n",
    "    num_prob_bins: 15\n",
    "    neighborhood_width: 3"
   ]
  },
  {
   "cell_type": "code",
   "execution_count": 4,
   "metadata": {},
   "outputs": [
    {
     "data": {
      "application/javascript": "\n            require(\n                [\n                    \"notebook/js/codecell\",\n                    \"codemirror/mode/yaml/yaml\"\n                ],\n                function(cc){\n                    cc.CodeCell.options_default.highlight_modes.magic_yaml = {\n                        reg: [\"^%%yaml\"]\n                    }\n                }\n            );\n            ",
      "text/plain": [
       "<IPython.core.display.Javascript object>"
      ]
     },
     "metadata": {},
     "output_type": "display_data"
    }
   ],
   "source": [
    "%%yaml model_cfg \n",
    "\n",
    "# For standard datasets\n",
    "#####################################\n",
    "model:\n",
    "    pred_label: '?' \n",
    "    _type: \"standard\"\n",
    "    pretrained_exp_root : None\n",
    "    checkpoint: 'min-val-area_estimation_error'\n",
    "    # checkpoint: 'min-val-ece_loss'"
   ]
  },
  {
   "cell_type": "markdown",
   "metadata": {},
   "source": [
    "## Gather Inference Options."
   ]
  },
  {
   "cell_type": "code",
   "execution_count": 5,
   "metadata": {},
   "outputs": [
    {
     "data": {
      "application/javascript": "\n            require(\n                [\n                    \"notebook/js/codecell\",\n                    \"codemirror/mode/yaml/yaml\"\n                ],\n                function(cc){\n                    cc.CodeCell.options_default.highlight_modes.magic_yaml = {\n                        reg: [\"^%%yaml\"]\n                    }\n                }\n            );\n            ",
      "text/plain": [
       "<IPython.core.display.Javascript object>"
      ]
     },
     "metadata": {},
     "output_type": "display_data"
    }
   ],
   "source": [
    "%%yaml experiment_cfg \n",
    "\n",
    "# Use this field if you want to call it something else beyond the base_model_dir.\n",
    "name: \"OCTA_FR_All_Models_wPreds\"\n",
    "\n",
    "base_model: \n",
    "    - \"/storage/vbutoi/scratch/ESE/training/08_24_24_HeptaticVessel_LowerLR\"\n",
    "    - \"/storage/vbutoi/scratch/ESE/calibration/08_08_24_OCTA_FULLRES_TempScaling_CHECKPOINTS\"\n",
    "    - \"/storage/vbutoi/scratch/ESE/calibration/08_11_24_OCTA_FULLRES_LTS_LongRuns\"\n",
    "\n",
    "# Optimal thresholds for OCTA\n",
    "# experiment:\n",
    "#     pred_threshold:\n",
    "#         - 0.184\n",
    "#         - 0.225\n",
    "#         - 0.234\n",
    "#         - 0.25  \n",
    "#         - 0.275 \n",
    "#         - 0.325\n",
    "\n",
    "inference_data:\n",
    "    _class: \"ese.datasets.OCTA_6M\"\n",
    "    # split: \"val\"\n",
    "    split: (\"cal\", \"val\") # We optimize thresholds on the calibration set, but evaluate on the validation set.\n",
    "    version: 1.0 # For full res, 1.0 is the only version.\n",
    "    label_threshold: null # Need to compare with clean gt.\n",
    "\n",
    "# We want to test if we can save preds.\n",
    "log:\n",
    "    save_preds: True\n",
    "\n",
    "dataloader:\n",
    "    batch_size: 8"
   ]
  },
  {
   "cell_type": "code",
   "execution_count": 6,
   "metadata": {},
   "outputs": [],
   "source": [
    "# Local imports\n",
    "from ese.analysis.analysis_utils.submit_utils import get_ese_inference_configs\n",
    "\n",
    "# Get the configs for the different runs.\n",
    "base_cfg = Config(default_cfg).update([calibration_cfg, model_cfg])\n",
    "# Get the different experiment cfg yamls.\n",
    "inf_cfgs = get_ese_inference_configs(\n",
    "    exp_cfg=experiment_cfg, \n",
    "    base_cfg=base_cfg\n",
    ")"
   ]
  },
  {
   "cell_type": "code",
   "execution_count": 7,
   "metadata": {},
   "outputs": [
    {
     "data": {
      "text/plain": [
       "64"
      ]
     },
     "execution_count": 7,
     "metadata": {},
     "output_type": "execute_result"
    }
   ],
   "source": [
    "len(inf_cfgs)"
   ]
  },
  {
   "cell_type": "markdown",
   "metadata": {},
   "source": [
    "## Running Jobs"
   ]
  },
  {
   "cell_type": "code",
   "execution_count": 8,
   "metadata": {},
   "outputs": [
    {
     "name": "stderr",
     "output_type": "stream",
     "text": [
      "/local/vbutoi/envs/UniverSegTF/lib/python3.9/site-packages/pydantic/_internal/_fields.py:149: UserWarning: Field \"model_outputs\" has conflict with protected namespace \"model_\".\n",
      "\n",
      "You may be able to resolve this warning by setting `model_config['protected_namespaces'] = ()`.\n",
      "  warnings.warn(\n",
      "/storage/vbutoi/libraries/pylot/pandas/register.py:47: UserWarning: registration of accessor <class 'pylot.pandas.register.register_series_method.<locals>.inner.<locals>.AccessorMethod'> under name 'fillNA' for type <class 'pandas.core.series.Series'> is overriding a preexisting attribute with the same name.\n",
      "  register_series_accessor(method.__name__)(AccessorMethod)\n",
      "/storage/vbutoi/libraries/pylot/pandas/register.py:47: UserWarning: registration of accessor <class 'pylot.pandas.register.register_series_method.<locals>.inner.<locals>.AccessorMethod'> under name 'isNA' for type <class 'pandas.core.series.Series'> is overriding a preexisting attribute with the same name.\n",
      "  register_series_accessor(method.__name__)(AccessorMethod)\n",
      "/storage/vbutoi/libraries/pylot/pandas/register.py:47: UserWarning: registration of accessor <class 'pylot.pandas.register.register_series_method.<locals>.inner.<locals>.AccessorMethod'> under name 'notNA' for type <class 'pandas.core.series.Series'> is overriding a preexisting attribute with the same name.\n",
      "  register_series_accessor(method.__name__)(AccessorMethod)\n",
      "/storage/vbutoi/libraries/pylot/pandas/register.py:47: UserWarning: registration of accessor <class 'pylot.pandas.register.register_series_method.<locals>.inner.<locals>.AccessorMethod'> under name 'is_constant' for type <class 'pandas.core.series.Series'> is overriding a preexisting attribute with the same name.\n",
      "  register_series_accessor(method.__name__)(AccessorMethod)\n",
      "/storage/vbutoi/libraries/pylot/pandas/register.py:26: UserWarning: registration of accessor <class 'pylot.pandas.register.register_dataframe_method.<locals>.inner.<locals>.AccessorMethod'> under name 'drop_constant' for type <class 'pandas.core.frame.DataFrame'> is overriding a preexisting attribute with the same name.\n",
      "  register_dataframe_accessor(method.__name__)(AccessorMethod)\n",
      "/storage/vbutoi/libraries/pylot/pandas/register.py:26: UserWarning: registration of accessor <class 'pylot.pandas.register.register_dataframe_method.<locals>.inner.<locals>.AccessorMethod'> under name 'constants' for type <class 'pandas.core.frame.DataFrame'> is overriding a preexisting attribute with the same name.\n",
      "  register_dataframe_accessor(method.__name__)(AccessorMethod)\n",
      "/storage/vbutoi/libraries/pylot/pandas/register.py:26: UserWarning: registration of accessor <class 'pylot.pandas.register.register_dataframe_method.<locals>.inner.<locals>.AccessorMethod'> under name 'to_categories' for type <class 'pandas.core.frame.DataFrame'> is overriding a preexisting attribute with the same name.\n",
      "  register_dataframe_accessor(method.__name__)(AccessorMethod)\n",
      "/storage/vbutoi/libraries/pylot/pandas/register.py:26: UserWarning: registration of accessor <class 'pylot.pandas.register.register_dataframe_method.<locals>.inner.<locals>.AccessorMethod'> under name 'select' for type <class 'pandas.core.frame.DataFrame'> is overriding a preexisting attribute with the same name.\n",
      "  register_dataframe_accessor(method.__name__)(AccessorMethod)\n",
      "/storage/vbutoi/libraries/pylot/pandas/register.py:26: UserWarning: registration of accessor <class 'pylot.pandas.register.register_dataframe_method.<locals>.inner.<locals>.AccessorMethod'> under name 'augment' for type <class 'pandas.core.frame.DataFrame'> is overriding a preexisting attribute with the same name.\n",
      "  register_dataframe_accessor(method.__name__)(AccessorMethod)\n",
      "/storage/vbutoi/libraries/pylot/pandas/register.py:26: UserWarning: registration of accessor <class 'pylot.pandas.register.register_dataframe_method.<locals>.inner.<locals>.AccessorMethod'> under name 'broadcast' for type <class 'pandas.core.frame.DataFrame'> is overriding a preexisting attribute with the same name.\n",
      "  register_dataframe_accessor(method.__name__)(AccessorMethod)\n",
      "/storage/vbutoi/libraries/pylot/pandas/register.py:26: UserWarning: registration of accessor <class 'pylot.pandas.register.register_dataframe_method.<locals>.inner.<locals>.AccessorMethod'> under name 'unique_per_col' for type <class 'pandas.core.frame.DataFrame'> is overriding a preexisting attribute with the same name.\n",
      "  register_dataframe_accessor(method.__name__)(AccessorMethod)\n",
      "/storage/vbutoi/libraries/pylot/pandas/register.py:26: UserWarning: registration of accessor <class 'pylot.pandas.register.register_dataframe_method.<locals>.inner.<locals>.AccessorMethod'> under name 'constants_subset' for type <class 'pandas.core.frame.DataFrame'> is overriding a preexisting attribute with the same name.\n",
      "  register_dataframe_accessor(method.__name__)(AccessorMethod)\n",
      "/storage/vbutoi/libraries/pylot/pandas/register.py:26: UserWarning: registration of accessor <class 'pylot.pandas.register.register_dataframe_method.<locals>.inner.<locals>.AccessorMethod'> under name 'smooth' for type <class 'pandas.core.frame.DataFrame'> is overriding a preexisting attribute with the same name.\n",
      "  register_dataframe_accessor(method.__name__)(AccessorMethod)\n",
      "/storage/vbutoi/libraries/pylot/pandas/register.py:26: UserWarning: registration of accessor <class 'pylot.pandas.register.register_dataframe_method.<locals>.inner.<locals>.AccessorMethod'> under name 'augment_from_attrs' for type <class 'pandas.core.frame.DataFrame'> is overriding a preexisting attribute with the same name.\n",
      "  register_dataframe_accessor(method.__name__)(AccessorMethod)\n",
      "/storage/vbutoi/libraries/pylot/pandas/unix.py:12: UserWarning: registration of accessor <class 'pylot.pandas.unix.UnixAccessor'> under name 'unix' for type <class 'pandas.core.series.Series'> is overriding a preexisting attribute with the same name.\n",
      "  class UnixAccessor:\n"
     ]
    }
   ],
   "source": [
    "from ese.analysis.run_inference import get_cal_stats"
   ]
  },
  {
   "cell_type": "code",
   "execution_count": 9,
   "metadata": {},
   "outputs": [],
   "source": [
    "# from ese.experiment import run_ese_exp\n",
    "\n",
    "# ###### Run individual jobs\n",
    "# run_ese_exp(\n",
    "#     config=inf_cfgs[0], \n",
    "#     job_func=get_cal_stats,\n",
    "#     run_name='debug',\n",
    "#     # show_examples=True,\n",
    "#     show_examples=False,\n",
    "#     gpu='0',\n",
    "#     # gpu='4',\n",
    "# ) "
   ]
  },
  {
   "cell_type": "code",
   "execution_count": 10,
   "metadata": {},
   "outputs": [
    {
     "name": "stdout",
     "output_type": "stream",
     "text": [
      "Submitting job 1/64:\n",
      "--> Launched job-id: 920055 on gpu: 0.\n",
      "Submitting job 2/64:\n",
      "--> Launched job-id: 920171 on gpu: 1.\n",
      "Submitting job 3/64:\n",
      "--> Launched job-id: 920343 on gpu: 2.\n",
      "Submitting job 4/64:\n",
      "--> Launched job-id: 920515 on gpu: 3.\n",
      "Submitting job 5/64:\n",
      "--> Launched job-id: 920740 on gpu: 0.\n",
      "Submitting job 6/64:\n",
      "--> Launched job-id: 920947 on gpu: 1.\n",
      "Submitting job 7/64:\n",
      "--> Launched job-id: 921179 on gpu: 2.\n",
      "Submitting job 8/64:\n",
      "--> Launched job-id: 921392 on gpu: 3.\n",
      "Submitting job 9/64:\n",
      "--> Launched job-id: 921602 on gpu: 0.\n",
      "Submitting job 10/64:\n",
      "--> Launched job-id: 921811 on gpu: 1.\n",
      "Submitting job 11/64:\n",
      "--> Launched job-id: 922018 on gpu: 2.\n",
      "Submitting job 12/64:\n",
      "--> Launched job-id: 922226 on gpu: 3.\n",
      "Submitting job 13/64:\n",
      "--> Launched job-id: 922433 on gpu: 0.\n",
      "Submitting job 14/64:\n",
      "--> Launched job-id: 922640 on gpu: 1.\n",
      "Submitting job 15/64:\n",
      "--> Launched job-id: 922848 on gpu: 2.\n",
      "Submitting job 16/64:\n",
      "--> Launched job-id: 923056 on gpu: 3.\n",
      "Submitting job 17/64:\n",
      "--> Launched job-id: 923263 on gpu: 0.\n",
      "Submitting job 18/64:\n",
      "--> Launched job-id: 923470 on gpu: 1.\n",
      "Submitting job 19/64:\n",
      "--> Launched job-id: 923677 on gpu: 2.\n",
      "Submitting job 20/64:\n",
      "--> Launched job-id: 923901 on gpu: 3.\n",
      "Submitting job 21/64:\n",
      "--> Launched job-id: 924110 on gpu: 0.\n",
      "Submitting job 22/64:\n",
      "--> Launched job-id: 924317 on gpu: 1.\n",
      "Submitting job 23/64:\n",
      "--> Launched job-id: 924524 on gpu: 2.\n",
      "Submitting job 24/64:\n",
      "--> Launched job-id: 924731 on gpu: 3.\n",
      "Submitting job 25/64:\n",
      "--> Launched job-id: 924938 on gpu: 0.\n",
      "Submitting job 26/64:\n",
      "--> Launched job-id: 925144 on gpu: 1.\n",
      "Submitting job 27/64:\n",
      "--> Launched job-id: 925353 on gpu: 2.\n",
      "Submitting job 28/64:\n",
      "--> Launched job-id: 925560 on gpu: 3.\n",
      "Submitting job 29/64:\n",
      "--> Launched job-id: 925767 on gpu: 0.\n",
      "Submitting job 30/64:\n",
      "--> Launched job-id: 925974 on gpu: 1.\n",
      "Submitting job 31/64:\n",
      "--> Launched job-id: 926150 on gpu: 2.\n",
      "Submitting job 32/64:\n",
      "--> Launched job-id: 926337 on gpu: 3.\n",
      "Submitting job 33/64:\n",
      "--> Launched job-id: 926595 on gpu: 0.\n",
      "Submitting job 34/64:\n",
      "--> Launched job-id: 926802 on gpu: 1.\n",
      "Submitting job 35/64:\n",
      "--> Launched job-id: 926999 on gpu: 2.\n",
      "Submitting job 36/64:\n",
      "--> Launched job-id: 927238 on gpu: 3.\n",
      "Submitting job 37/64:\n",
      "--> Launched job-id: 927449 on gpu: 0.\n",
      "Submitting job 38/64:\n",
      "--> Launched job-id: 927656 on gpu: 1.\n",
      "Submitting job 39/64:\n",
      "--> Launched job-id: 927839 on gpu: 2.\n",
      "Submitting job 40/64:\n",
      "--> Launched job-id: 928029 on gpu: 3.\n",
      "Submitting job 41/64:\n",
      "--> Launched job-id: 928203 on gpu: 0.\n",
      "Submitting job 42/64:\n",
      "--> Launched job-id: 928441 on gpu: 1.\n",
      "Submitting job 43/64:\n",
      "--> Launched job-id: 928648 on gpu: 2.\n",
      "Submitting job 44/64:\n",
      "--> Launched job-id: 928860 on gpu: 3.\n",
      "Submitting job 45/64:\n",
      "--> Launched job-id: 929032 on gpu: 0.\n",
      "Submitting job 46/64:\n",
      "--> Launched job-id: 929271 on gpu: 1.\n",
      "Submitting job 47/64:\n",
      "--> Launched job-id: 929498 on gpu: 2.\n",
      "Submitting job 48/64:\n",
      "--> Launched job-id: 929654 on gpu: 3.\n",
      "Submitting job 49/64:\n",
      "--> Launched job-id: 929861 on gpu: 0.\n",
      "Submitting job 50/64:\n",
      "--> Launched job-id: 930115 on gpu: 1.\n",
      "Submitting job 51/64:\n",
      "--> Launched job-id: 930345 on gpu: 2.\n",
      "Submitting job 52/64:\n",
      "--> Launched job-id: 930500 on gpu: 3.\n",
      "Submitting job 53/64:\n",
      "--> Launched job-id: 930709 on gpu: 0.\n",
      "Submitting job 54/64:\n",
      "--> Launched job-id: 930915 on gpu: 1.\n",
      "Submitting job 55/64:\n",
      "--> Launched job-id: 931154 on gpu: 2.\n",
      "Submitting job 56/64:\n",
      "--> Launched job-id: 931363 on gpu: 3.\n",
      "Submitting job 57/64:\n",
      "--> Launched job-id: 931567 on gpu: 0.\n",
      "Submitting job 58/64:\n",
      "--> Launched job-id: 931809 on gpu: 1.\n",
      "Submitting job 59/64:\n",
      "--> Launched job-id: 932002 on gpu: 2.\n",
      "Submitting job 60/64:\n",
      "--> Launched job-id: 932194 on gpu: 3.\n",
      "Submitting job 61/64:\n",
      "--> Launched job-id: 932366 on gpu: 0.\n",
      "Submitting job 62/64:\n",
      "--> Launched job-id: 932571 on gpu: 1.\n",
      "Submitting job 63/64:\n",
      "--> Launched job-id: 932779 on gpu: 2.\n",
      "Submitting job 64/64:\n",
      "--> Launched job-id: 932985 on gpu: 3.\n"
     ]
    }
   ],
   "source": [
    "from ese.experiment import submit_ese_exps \n",
    "\n",
    "#### Run Batch Jobs\n",
    "submit_ese_exps(\n",
    "    config_list=inf_cfgs,\n",
    "    job_func=get_cal_stats,\n",
    "    available_gpus=['0', '1', '2', '3']\n",
    "    # available_gpus=['4', '5', '6', '7']\n",
    ")"
   ]
  }
 ],
 "metadata": {
  "kernelspec": {
   "display_name": "UniverSegTF",
   "language": "python",
   "name": "universegtf"
  },
  "language_info": {
   "codemirror_mode": {
    "name": "ipython",
    "version": 3
   },
   "file_extension": ".py",
   "mimetype": "text/x-python",
   "name": "python",
   "nbconvert_exporter": "python",
   "pygments_lexer": "ipython3",
   "version": "3.9.16"
  },
  "orig_nbformat": 4
 },
 "nbformat": 4,
 "nbformat_minor": 2
}
