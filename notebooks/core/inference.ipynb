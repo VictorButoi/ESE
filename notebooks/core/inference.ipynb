{
 "cells": [
  {
   "cell_type": "code",
   "execution_count": null,
   "metadata": {},
   "outputs": [],
   "source": [
    "# Define useful paths\n",
    "SCRATCH_ROOT = \"/storage/vbutoi/scratch/ESE\"\n",
    "CONFIG_ROOT = \"/storage/vbutoi/projects/ESE/configs\"\n",
    "import sys\n",
    "sys.path.append('/storage/vbutoi/projects')\n",
    "sys.path.append('/storage/vbutoi/projects/ESE')\n",
    "\n",
    "# IonPy imports\n",
    "from ionpy.util import Config\n",
    "\n",
    "%load_ext yamlmagic\n",
    "%load_ext autoreload\n",
    "%autoreload 2"
   ]
  },
  {
   "cell_type": "code",
   "execution_count": null,
   "metadata": {},
   "outputs": [],
   "source": [
    "%%yaml default_cfg \n",
    "\n",
    "experiment:\n",
    "    _class: \"ese.experiment.CalibrationExperiment\"\n",
    "    exp_root: '?'\n",
    "    inference_seed: 40\n",
    "    sys_paths:\n",
    "        - \"/storage/vbutoi/projects\"\n",
    "        - \"/storage/vbutoi/projects/ESE\"\n",
    "    data_paths:\n",
    "        - \"/storage\"\n",
    "        - \"/storage/vbutoi/datasets\"\n",
    "\n",
    "inference_data:\n",
    "    split: '?'\n",
    "\n",
    "log:\n",
    "    root: '?'\n",
    "    save_preds: False \n",
    "    log_interval: 10 \n",
    "    log_pixel_stats: False \n",
    "    gether_inference_stats: True\n",
    "    compute_global_metrics: False \n",
    "\n",
    "dataloader:\n",
    "    batch_size: '?' \n",
    "    num_workers: '?' \n",
    "    pin_memory: True \n",
    "\n",
    "visualize:\n",
    "    _class: ese.analysis.visualize.ShowSegmentationPredictions\n",
    "    col_wrap: 8"
   ]
  },
  {
   "cell_type": "code",
   "execution_count": null,
   "metadata": {},
   "outputs": [],
   "source": [
    "%%yaml model_cfg \n",
    "\n",
    "# For standard datasets\n",
    "#####################################\n",
    "model:\n",
    "    checkpoint: '?'"
   ]
  },
  {
   "cell_type": "code",
   "execution_count": null,
   "metadata": {},
   "outputs": [],
   "source": [
    "%%yaml metrics_cfg\n",
    "\n",
    "metrics:\n",
    "    Image_ECE:\n",
    "        _fn: ese.metrics.calibration.image_ece_loss\n",
    "        num_prob_bins: 15\n",
    "        from_logits: True\n",
    "        lower_threshold: 0.01\n",
    "        batch_reduction: none\n",
    "    Dice:\n",
    "        _fn: ionpy.metrics.dice_score\n",
    "        from_logits: True\n",
    "        batch_reduction: none\n",
    "    Accuracy:\n",
    "        _fn: ionpy.metrics.pixel_accuracy\n",
    "        from_logits: True\n",
    "        batch_reduction: none\n",
    "    Entropy:\n",
    "        _fn: ese.metrics.attributes.entropy_score\n",
    "        from_logits: True\n",
    "        batch_reduction: none"
   ]
  },
  {
   "cell_type": "markdown",
   "metadata": {},
   "source": [
    "## Gather Inference Options."
   ]
  },
  {
   "cell_type": "code",
   "execution_count": null,
   "metadata": {},
   "outputs": [],
   "source": [
    "%%yaml experiment_cfg \n",
    "############################################################################################################\n",
    "group: \"OCTA_TotalEval_wAvgEntropy\"\n",
    "\n",
    "log:\n",
    "    verbose: \n",
    "        # - True \n",
    "        - False \n",
    "\n",
    "############################################################################################################\n",
    "## EXPERIMENTAL VARIABLES\n",
    "base_model: \n",
    "    - \"/storage/vbutoi/scratch/ESE/training/older_runs/2024/08_August_2024/08_07_24_OCTA_FULLRES_CrossEntropy/20240807_144627-M576-c3a81247e7e30c6bf47c72748764a898\"\n",
    "    - \"/storage/vbutoi/scratch/ESE/training/02_26_25_OCTA_ReducedCalibratorSuite_CrossEntropy\"\n",
    "    - \"/storage/vbutoi/scratch/ESE/training/older_runs/2024/08_August_2024/08_07_24_OCTA_FULLRES_SoftDice/20240807_144440-P7H9-459da42e97888bccb0aa79c297f388cd\"\n",
    "    - \"/storage/vbutoi/scratch/ESE/training/02_26_25_OCTA_ReducedCalibratorSuite_SoftDicePT\"\n",
    "\n",
    "model:\n",
    "    checkpoint: 'min-val-ece_loss'\n",
    "\n",
    "inference_data:\n",
    "    split: 'val'\n",
    "\n",
    "# Change this for debugging\n",
    "dataloader:\n",
    "    batch_size: 4\n",
    "    num_workers: 2 "
   ]
  },
  {
   "cell_type": "code",
   "execution_count": null,
   "metadata": {},
   "outputs": [],
   "source": [
    "# Get the configs for the different runs.\n",
    "base_cfg = Config(default_cfg).update([\n",
    "    model_cfg, \n",
    "    metrics_cfg\n",
    "])"
   ]
  },
  {
   "cell_type": "code",
   "execution_count": null,
   "metadata": {},
   "outputs": [],
   "source": [
    "# Local imports\n",
    "from ionpy.experiment.generate_configs import get_inference_configs\n",
    "\n",
    "# Get the different experiment cfg yamls.\n",
    "updated_base_cfg, inf_cfgs = get_inference_configs(\n",
    "    exp_cfg=experiment_cfg, \n",
    "    base_cfg=base_cfg,\n",
    "    config_root=CONFIG_ROOT,\n",
    "    scratch_root=SCRATCH_ROOT,\n",
    "    add_date=True,\n",
    ")"
   ]
  },
  {
   "cell_type": "code",
   "execution_count": null,
   "metadata": {},
   "outputs": [],
   "source": [
    "len(inf_cfgs)"
   ]
  },
  {
   "cell_type": "markdown",
   "metadata": {},
   "source": [
    "## Running Jobs"
   ]
  },
  {
   "cell_type": "code",
   "execution_count": null,
   "metadata": {},
   "outputs": [],
   "source": [
    "# # ####### FOR DEBUGGIN\n",
    "# from ionpy.slite import run_job\n",
    "# from ionpy.analysis.inference import run_inference \n",
    "\n",
    "# run_job(\n",
    "#     config=inf_cfgs[5], \n",
    "#     job_func=run_inference,\n",
    "#     run_name='debug',\n",
    "#     show_examples=True,\n",
    "#     gpu='0',\n",
    "# )"
   ]
  },
  {
   "cell_type": "code",
   "execution_count": null,
   "metadata": {},
   "outputs": [],
   "source": [
    "%%yaml submit_cfg\n",
    "\n",
    "mode: \"local\"\n",
    "group: \"inference\"\n",
    "add_date: True \n",
    "track_wandb: True\n",
    "jobs_per_gpu: 1\n",
    "scratch_root: \"/storage/vbutoi/scratch/ESE\""
   ]
  },
  {
   "cell_type": "code",
   "execution_count": null,
   "metadata": {},
   "outputs": [],
   "source": [
    "# FOR SUBMISSION\n",
    "from ionpy.slite import submit_jobs\n",
    "from ionpy.analysis.inference import run_inference \n",
    "\n",
    "submit_jobs(\n",
    "    cfg_list=inf_cfgs,\n",
    "    submit_cfg=submit_cfg,\n",
    "    exp_cfg=experiment_cfg,\n",
    "    base_cfg=updated_base_cfg,\n",
    "    job_func=run_inference\n",
    ")"
   ]
  }
 ],
 "metadata": {
  "kernelspec": {
   "display_name": "Python 3",
   "language": "python",
   "name": "python3"
  },
  "language_info": {
   "codemirror_mode": {
    "name": "ipython",
    "version": 3
   },
   "file_extension": ".py",
   "mimetype": "text/x-python",
   "name": "python",
   "nbconvert_exporter": "python",
   "pygments_lexer": "ipython3",
   "version": "3.9.16"
  },
  "orig_nbformat": 4
 },
 "nbformat": 4,
 "nbformat_minor": 2
}
