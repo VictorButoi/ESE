{
 "cells": [
  {
   "cell_type": "code",
   "execution_count": 1,
   "metadata": {},
   "outputs": [],
   "source": [
    "# torch imports\n",
    "import torch\n",
    "import torch._dynamo\n",
    "torch._dynamo.config.suppress_errors = True\n",
    "# Misc imports\n",
    "import os \n",
    "import sys\n",
    "import seaborn as sns\n",
    "from pathlib import Path\n",
    "sys.path.append('/storage/vbutoi/projects')\n",
    "sys.path.append('/storage/vbutoi/libraries')\n",
    "sys.path.append('/storage/vbutoi/projects/ESE')\n",
    "sys.path.append('/storage/vbutoi/projects/UniverSegDev')\n",
    "# Ionpy imports\n",
    "from ionpy.util import Config\n",
    "from ionpy.analysis import ResultsLoader\n",
    "\n",
    "# Define some useful paths.\n",
    "os.environ['DATAPATH'] = ':'.join((\n",
    "       '/storage/vbutoi/datasets',\n",
    "       '/storage'\n",
    "))\n",
    "# Set some defaults\n",
    "rs = ResultsLoader()\n",
    "sns.set_style(\"darkgrid\")\n",
    "torch.set_printoptions(linewidth=200)\n",
    "\n",
    "# For using code without restarting.\n",
    "%load_ext autoreload\n",
    "%autoreload 2\n",
    "# For using yaml configs.\n",
    "%load_ext yamlmagic"
   ]
  },
  {
   "cell_type": "code",
   "execution_count": null,
   "metadata": {},
   "outputs": [],
   "source": [
    "%%yaml default_cfg \n",
    "\n",
    "experiment:\n",
    "    exp_root: '?'\n",
    "    inference_seed: 40\n",
    "    pred_threshold: 0.5 \n",
    "\n",
    "log:\n",
    "    root: '?'\n",
    "    save_preds: '?' \n",
    "    log_interval: 10 \n",
    "    log_pixel_stats: False \n",
    "    gether_inference_stats: True\n",
    "    compute_global_metrics: False \n",
    "\n",
    "dataloader:\n",
    "    batch_size: '?'\n",
    "    num_workers: 1 \n",
    "    pin_memory: True "
   ]
  },
  {
   "cell_type": "code",
   "execution_count": null,
   "metadata": {},
   "outputs": [],
   "source": [
    "%%yaml calibration_cfg \n",
    "\n",
    "local_calibration:\n",
    "    num_prob_bins: 15\n",
    "    neighborhood_width: 3\n",
    "\n",
    "global_calibration:\n",
    "    num_classes: 1 \n",
    "    num_prob_bins: 15\n",
    "    neighborhood_width: 3"
   ]
  },
  {
   "cell_type": "code",
   "execution_count": null,
   "metadata": {},
   "outputs": [],
   "source": [
    "%%yaml model_cfg \n",
    "\n",
    "# For standard datasets\n",
    "#####################################\n",
    "model:\n",
    "    pred_label: 0     \n",
    "    _type: \"standard\"\n",
    "    pretrained_exp_root : None\n",
    "    checkpoint: '?'"
   ]
  },
  {
   "cell_type": "markdown",
   "metadata": {},
   "source": [
    "## Gather Inference Options."
   ]
  },
  {
   "cell_type": "code",
   "execution_count": null,
   "metadata": {},
   "outputs": [],
   "source": [
    "%%yaml experiment_cfg \n",
    "\n",
    "# Use this field if you want to call it something else beyond the base_model_dir.\n",
    "name: \"ISLES_3D_OverfitOneExample\"\n",
    "\n",
    "base_model: \n",
    "    - \"/storage/vbutoi/scratch/ESE/training/09_09_24_ISLES_3D_Dice/20240909_144640-U55C-b4439905bec40a1855f088c5015f5b84\"\n",
    "    - \"/storage/vbutoi/scratch/ESE/calibration/09_25_24_ISLES_3D_Subject140Opt_lr1e-4\"\n",
    "    - \"/storage/vbutoi/scratch/ESE/calibration/09_25_24_ISLES_3D_Subject140Opt_lr1e-5\"\n",
    "    - \"/storage/vbutoi/scratch/ESE/calibration/09_25_24_ISLES_3D_Subject140Opt_lr1e-6\"\n",
    "    - \"/storage/vbutoi/scratch/ESE/calibration/09_25_24_ISLES_3D_Subject140Opt_lr1e-7\"\n",
    "\n",
    "model:\n",
    "    # checkpoint: 'max-val-dice_score'\n",
    "    # checkpoint: 'min-val-abs_area_estimation_error'\n",
    "    checkpoint: 'last'\n",
    "\n",
    "inference_data:\n",
    "    _class: \"ese.datasets.ISLES\"\n",
    "    version: 1.0\n",
    "    split: (\"cal\", \"val\")\n",
    "\n",
    "log:\n",
    "    save_preds: False \n",
    "\n",
    "dataloader:\n",
    "    batch_size: 1"
   ]
  },
  {
   "cell_type": "code",
   "execution_count": 6,
   "metadata": {},
   "outputs": [],
   "source": [
    "# Local imports\n",
    "from ese.analysis.analysis_utils.submit_utils import get_ese_inference_configs\n",
    "\n",
    "# Get the configs for the different runs.\n",
    "base_cfg = Config(default_cfg).update([calibration_cfg, model_cfg])\n",
    "\n",
    "# Get the different experiment cfg yamls.\n",
    "updated_base_cfg, inf_cfgs = get_ese_inference_configs(\n",
    "    exp_cfg=experiment_cfg, \n",
    "    base_cfg=base_cfg\n",
    ")"
   ]
  },
  {
   "cell_type": "code",
   "execution_count": null,
   "metadata": {},
   "outputs": [],
   "source": [
    "len(inf_cfgs)"
   ]
  },
  {
   "cell_type": "markdown",
   "metadata": {},
   "source": [
    "## Running Jobs"
   ]
  },
  {
   "cell_type": "code",
   "execution_count": null,
   "metadata": {},
   "outputs": [],
   "source": [
    "from ese.analysis.run_inference import get_cal_stats"
   ]
  },
  {
   "cell_type": "code",
   "execution_count": 9,
   "metadata": {},
   "outputs": [],
   "source": [
    "# from ese.experiment import run_ese_exp\n",
    "\n",
    "# ###### Run individual jobs\n",
    "# run_ese_exp(\n",
    "#     config=inf_cfgs[-1], \n",
    "#     job_func=get_cal_stats,\n",
    "#     run_name='debug',\n",
    "#     show_examples=True,\n",
    "#     gpu='5',\n",
    "# ) "
   ]
  },
  {
   "cell_type": "code",
   "execution_count": null,
   "metadata": {},
   "outputs": [],
   "source": [
    "from ese.experiment import submit_ese_exps \n",
    "\n",
    "#### Run Batch Jobs\n",
    "submit_ese_exps(\n",
    "    group=\"inference\",\n",
    "    base_cfg=updated_base_cfg,\n",
    "    exp_cfg=experiment_cfg,\n",
    "    config_list=inf_cfgs,\n",
    "    job_func=get_cal_stats,\n",
    "    available_gpus=['3', '5', '6', '7']\n",
    ")"
   ]
  }
 ],
 "metadata": {
  "kernelspec": {
   "display_name": "Python 3",
   "language": "python",
   "name": "python3"
  },
  "language_info": {
   "codemirror_mode": {
    "name": "ipython",
    "version": 3
   },
   "file_extension": ".py",
   "mimetype": "text/x-python",
   "name": "python",
   "nbconvert_exporter": "python",
   "pygments_lexer": "ipython3",
   "version": "3.9.16"
  },
  "orig_nbformat": 4
 },
 "nbformat": 4,
 "nbformat_minor": 2
}
