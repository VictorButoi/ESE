{
 "cells": [
  {
   "cell_type": "code",
   "execution_count": 1,
   "metadata": {},
   "outputs": [],
   "source": [
    "# torch imports\n",
    "import torch\n",
    "import torch._dynamo\n",
    "torch._dynamo.config.suppress_errors = True\n",
    "# Misc imports\n",
    "import os \n",
    "import sys\n",
    "import seaborn as sns\n",
    "from pathlib import Path\n",
    "sys.path.append('/storage/vbutoi/projects')\n",
    "sys.path.append('/storage/vbutoi/libraries')\n",
    "sys.path.append('/storage/vbutoi/projects/ESE')\n",
    "sys.path.append('/storage/vbutoi/projects/UniverSegDev')\n",
    "# Ionpy imports\n",
    "from ionpy.util import Config\n",
    "from ionpy.analysis import ResultsLoader\n",
    "\n",
    "# Define some useful paths.\n",
    "os.environ['DATAPATH'] = ':'.join((\n",
    "       '/storage/vbutoi/datasets',\n",
    "       '/storage'\n",
    "))\n",
    "# Set some defaults\n",
    "rs = ResultsLoader()\n",
    "sns.set_style(\"darkgrid\")\n",
    "torch.set_printoptions(linewidth=200)\n",
    "\n",
    "# For using code without restarting.\n",
    "%load_ext autoreload\n",
    "%autoreload 2\n",
    "# For using yaml configs.\n",
    "%load_ext yamlmagic"
   ]
  },
  {
   "cell_type": "code",
   "execution_count": 2,
   "metadata": {},
   "outputs": [
    {
     "data": {
      "application/javascript": "\n            require(\n                [\n                    \"notebook/js/codecell\",\n                    \"codemirror/mode/yaml/yaml\"\n                ],\n                function(cc){\n                    cc.CodeCell.options_default.highlight_modes.magic_yaml = {\n                        reg: [\"^%%yaml\"]\n                    }\n                }\n            );\n            ",
      "text/plain": [
       "<IPython.core.display.Javascript object>"
      ]
     },
     "metadata": {},
     "output_type": "display_data"
    }
   ],
   "source": [
    "%%yaml default_cfg \n",
    "\n",
    "experiment:\n",
    "    exp_root: '?'\n",
    "    inference_seed: 40\n",
    "\n",
    "inference_data:\n",
    "    split: '?'\n",
    "\n",
    "log:\n",
    "    root: '?'\n",
    "    save_preds: False \n",
    "    log_interval: 10 \n",
    "    log_pixel_stats: False \n",
    "    gether_inference_stats: True\n",
    "    compute_global_metrics: False \n",
    "\n",
    "dataloader:\n",
    "    batch_size: '?' \n",
    "    num_workers: '?' \n",
    "    pin_memory: True "
   ]
  },
  {
   "cell_type": "code",
   "execution_count": 3,
   "metadata": {},
   "outputs": [
    {
     "data": {
      "application/javascript": "\n            require(\n                [\n                    \"notebook/js/codecell\",\n                    \"codemirror/mode/yaml/yaml\"\n                ],\n                function(cc){\n                    cc.CodeCell.options_default.highlight_modes.magic_yaml = {\n                        reg: [\"^%%yaml\"]\n                    }\n                }\n            );\n            ",
      "text/plain": [
       "<IPython.core.display.Javascript object>"
      ]
     },
     "metadata": {},
     "output_type": "display_data"
    }
   ],
   "source": [
    "%%yaml calibration_cfg \n",
    "\n",
    "local_calibration:\n",
    "    num_prob_bins: 15\n",
    "    neighborhood_width: 3\n",
    "\n",
    "global_calibration:\n",
    "    num_classes: 1 \n",
    "    num_prob_bins: 15\n",
    "    neighborhood_width: 3"
   ]
  },
  {
   "cell_type": "code",
   "execution_count": 4,
   "metadata": {},
   "outputs": [
    {
     "data": {
      "application/javascript": "\n            require(\n                [\n                    \"notebook/js/codecell\",\n                    \"codemirror/mode/yaml/yaml\"\n                ],\n                function(cc){\n                    cc.CodeCell.options_default.highlight_modes.magic_yaml = {\n                        reg: [\"^%%yaml\"]\n                    }\n                }\n            );\n            ",
      "text/plain": [
       "<IPython.core.display.Javascript object>"
      ]
     },
     "metadata": {},
     "output_type": "display_data"
    }
   ],
   "source": [
    "%%yaml model_cfg \n",
    "\n",
    "# For standard datasets\n",
    "#####################################\n",
    "model:\n",
    "    pred_label: 0     \n",
    "    _type: \"standard\"\n",
    "    pretrained_exp_root : None\n",
    "    checkpoint: 'min-val-abs_area_estimation_error'"
   ]
  },
  {
   "cell_type": "markdown",
   "metadata": {},
   "source": [
    "## Gather Inference Options."
   ]
  },
  {
   "cell_type": "code",
   "execution_count": 5,
   "metadata": {},
   "outputs": [
    {
     "data": {
      "application/javascript": "\n            require(\n                [\n                    \"notebook/js/codecell\",\n                    \"codemirror/mode/yaml/yaml\"\n                ],\n                function(cc){\n                    cc.CodeCell.options_default.highlight_modes.magic_yaml = {\n                        reg: [\"^%%yaml\"]\n                    }\n                }\n            );\n            ",
      "text/plain": [
       "<IPython.core.display.Javascript object>"
      ]
     },
     "metadata": {},
     "output_type": "display_data"
    }
   ],
   "source": [
    "%%yaml experiment_cfg \n",
    "\n",
    "## NAMING FIELDS\n",
    "\n",
    "group: \"UVS_InContext_CrossEval\"\n",
    "\n",
    "# subgroup: \"Base\"\n",
    "# subgroup: \"Sweep_Threshold\"\n",
    "# subgroup: \"Optimal_Dice_Threshold\"\n",
    "subgroup: \"Optimal_RAVE_Threshold\"\n",
    "\n",
    "############################################################################################################\n",
    "\n",
    "## EXPERIMENTAL VARIABLES\n",
    "\n",
    "base_model:\n",
    "    - \"/storage/vbutoi/scratch/ESE/training/02_16_23_Universeg-HO_Adrian/20230214_112221-1C7K-2cb972b55f72d56b3842c2d2d8bdd3c6\"\n",
    "\n",
    "# Change this for debugging\n",
    "dataloader:\n",
    "    batch_size: 1\n",
    "    num_workers: 1\n",
    "\n",
    "experiment:\n",
    "    crosseval_incontex: False \n",
    "    num_supports: 5 \n",
    "\n",
    "inference_data:\n",
    "    _class: \"ese.datasets.Segment2D\"\n",
    "    label: 0\n",
    "    split: \"val\"\n",
    "    support_split: \"train\"\n",
    "    task: \n",
    "        # - \"ACDC/Challenge2017/MRI/2\"\n",
    "        # - \"PanDental/v1/XRay/0\"\n",
    "        # - \"PanDental/v2/XRay/0\"\n",
    "        # - \"SCD/LAS/MRI/2\"\n",
    "        # - \"SCD/VIS_human/MRI/2\"\n",
    "        # - \"SCD/LAF_Post/MRI/2\"\n",
    "        # - \"SCD/VIS_pig/MRI/2\"\n",
    "        # - \"SCD/LAF_Pre/MRI/2\"\n",
    "        - \"SpineWeb/Dataset7/MR/0\"\n",
    "        - \"STARE/retrieved_2021_12_06/Retinal/0\"\n",
    "        - \"WBC/CV/EM/0\"\n",
    "        - \"WBC/JTSC/EM/0\"\n",
    "\n",
    "############################################################################################################\n",
    "\n",
    "## Special Inference Protocols\n",
    "\n",
    "# sweep:\n",
    "#    param: \"threshold\" \n",
    "\n",
    "load_optimal_args: \n",
    "  id_key: \"inference_data.task\"\n",
    "  sweep_key: \"threshold\"\n",
    "  metric: \"hard_RAVE\"\n",
    "  split: \"train\"\n",
    "  mode: \"min\""
   ]
  },
  {
   "cell_type": "code",
   "execution_count": 6,
   "metadata": {},
   "outputs": [
    {
     "name": "stderr",
     "output_type": "stream",
     "text": [
      "/local/vbutoi/envs/UniverSegTF/lib/python3.9/site-packages/torchvision/io/image.py:13: UserWarning: Failed to load image Python extension: '/mnt/hdd/home/vbutoi/envs/UniverSegTF/lib/python3.9/site-packages/torchvision/image.so: undefined symbol: _ZN3c1017RegisterOperatorsD1Ev'If you don't plan on using image functionality from `torchvision.io`, you can ignore this warning. Otherwise, there might be something wrong with your environment. Did you have `libjpeg` or `libpng` installed before building `torchvision` from source?\n",
      "  warn(\n",
      "/local/vbutoi/envs/UniverSegTF/lib/python3.9/site-packages/pydantic/_internal/_fields.py:149: UserWarning: Field \"model_dir\" has conflict with protected namespace \"model_\".\n",
      "\n",
      "You may be able to resolve this warning by setting `model_config['protected_namespaces'] = ()`.\n",
      "  warnings.warn(\n"
     ]
    },
    {
     "name": "stdout",
     "output_type": "stream",
     "text": [
      "Loading threshold sweep dataframe...\n",
      "Finished loading inference stats.\n",
      "Log amounts: log_root                                                                                log_set                                              \n",
      "/storage/vbutoi/scratch/ESE/inference/11_05_24_UVS_InContext_CrossEval/Sweep_Threshold  20241105_011331-M2MC-863dcfaeb997edbae01b69e73ba5e3c4     5000\n",
      "                                                                                        20241105_011336-2U6V-7460588958f18a8c1a6db15746e5ac29     5000\n",
      "                                                                                        20241105_011340-4TIO-b13bc0d9b9bf0adaefd4154b9b1f527a     5000\n",
      "                                                                                        20241105_011344-ER9T-4d09ca6cdcacf9a9a956fdaaba033364     5000\n",
      "                                                                                        20241105_011436-NUKZ-d99e3038bce9ecbd5a42b555af2f3983    13600\n",
      "                                                                                        20241105_011440-XNDG-ed3cd98174897a81c143775769b6e34c    13600\n",
      "                                                                                        20241105_011445-A8ZE-712d536a724ed308c7cf7a50ca7c2b03    13600\n",
      "                                                                                        20241105_011449-QRSJ-0ff40592ab7dccce3dd39be2f614c96f    13600\n",
      "                                                                                        20241105_011651-B21R-d6afeff617e21a6a93e08586f49df9e0    11800\n",
      "                                                                                        20241105_011655-GWTY-427447188ed694ffd453caa6f7b166d3    11800\n",
      "                                                                                        20241105_011659-W631-0de1bd273c7c0742c9ff296e130c6132    11800\n",
      "                                                                                        20241105_011703-HNAY-adc8f6a9fdb26b1b659ad6da11a1a929    11800\n",
      "                                                                                        20241105_012237-J7NR-90119c45dcd34871b3040ea4a10fd56d     1200\n",
      "                                                                                        20241105_012241-9EYP-df8c7ae44d24d7e27c7743cff464e9f4     1200\n",
      "                                                                                        20241105_012245-OMZS-80856fc6576f2a2bc1075cf3dbd22019     1200\n",
      "                                                                                        20241105_012249-KX79-d2c818e4ad697759103c2632b9828b05     1200\n",
      "                                                                                        20241105_012445-AFCA-c2f6fd12e88a3f5ccee7f6a00bd780e4     1800\n",
      "                                                                                        20241105_012449-5SUA-821f9b8db83ce08d8eac552b843d9ee1     1800\n",
      "                                                                                        20241105_012453-BMQE-f0e9e8d55dd2ae54db5aef2517ccefcc     1800\n",
      "                                                                                        20241105_012458-HRNC-97206befa7687c01913922f004d28b6f     1800\n",
      "                                                                                        20241105_012542-5WCA-0eba68e5527a4b8113f4c3407542e838     3600\n",
      "                                                                                        20241105_012546-Z41P-b0a0a8d891fd2e15f8dce75438c5fa60     3600\n",
      "                                                                                        20241105_012550-YRFK-e7e58bf1eb34b7e1b811eb8e3469d5d9     3600\n",
      "                                                                                        20241105_012554-IBCJ-6f1a7deb92101e4ea0a70f0ba4a143a3     3600\n",
      "                                                                                        20241105_012634-9FJE-1abef28f01c74e46d518146a71a8852d     1800\n",
      "                                                                                        20241105_012638-VR1H-b19d93987b4fb580205adb7aad5ffde6     1800\n",
      "                                                                                        20241105_012641-58U5-3c76f553ebfe7bbb201a4408a12ef566     1800\n",
      "                                                                                        20241105_012646-71FH-739cbbe5ad6798fc487d9e929c2299a0     1800\n",
      "                                                                                        20241105_012804-3TUI-af42db0488b47294ae20084de7f38539     3600\n",
      "                                                                                        20241105_012808-XT7O-f041a50cd198449c7affed5951b6e31b     3600\n",
      "                                                                                        20241105_012812-PCKI-464e7d882e34cebd701f32572a475851     3600\n",
      "                                                                                        20241105_012816-8TCE-2773115a57c4083ac7c41617c19ff26a     3600\n",
      "                                                                                        20241105_012900-7CE1-a6ad24dc4d98f062af7a5970438b527d     1800\n",
      "                                                                                        20241105_012904-CWI8-4fcde67adb8a634c978dd2e405712061     1800\n",
      "                                                                                        20241105_012908-HD29-42b70a48fd8becce6eee0828521884f6     1800\n",
      "                                                                                        20241105_012912-XNYV-246a24d674c0ba0b0ddfa4fc287afcea     1800\n",
      "                                                                                        20241105_013033-ENI3-4cd883d833db4127509ec293767108c6     2400\n",
      "                                                                                        20241105_013038-AWLY-7fa8b8517a52b8b4ee83077b07dcd51b     2400\n",
      "                                                                                        20241105_013042-UFKC-2c5550cab92d40b402f401d1ff038935     2400\n",
      "                                                                                        20241105_013046-ICKF-8f07c1b82745c971b4fced20e463a2fc     2400\n",
      "                                                                                        20241105_013203-XGXG-006adaa34b067c0a6e16e70082432283    12000\n",
      "                                                                                        20241105_013207-6HEQ-87d715ae97b5ebff886ac46df1ec6c3c    12000\n",
      "                                                                                        20241105_013211-YLJ8-1989d59aaafff133351780f5099c1c32    12000\n",
      "                                                                                        20241105_013215-PS0F-4bfb1fc64a73d01ad5602dcbf43603ed    12000\n",
      "                                                                                        20241105_013300-JFQS-aaf59bb68bca42aa86abb66cb80e996d    36000\n",
      "                                                                                        20241105_013304-53O6-d7617d1ad126cbc9a9e0a194c6911f77    36000\n",
      "                                                                                        20241105_013308-RXK8-bbd8c4326f129a879e2fe30d6f921383    36000\n",
      "                                                                                        20241105_013313-NKZW-89bab2288010ec1e507444d1c3a18dcd    36000\n",
      "dtype: int64\n"
     ]
    }
   ],
   "source": [
    "# Local imports\n",
    "from ese.analysis.analysis_utils.submit_utils import get_ese_inference_configs\n",
    "\n",
    "# Get the configs for the different runs.\n",
    "base_cfg = Config(default_cfg).update([calibration_cfg, model_cfg])\n",
    "\n",
    "# For inference experiments, we don't add the date by default.\n",
    "add_date = True\n",
    "use_best_models = False \n",
    "# Get the different experiment cfg yamls.\n",
    "updated_base_cfg, inf_cfgs = get_ese_inference_configs(\n",
    "    exp_cfg=experiment_cfg, \n",
    "    base_cfg=base_cfg,\n",
    "    add_date=add_date,\n",
    "    use_best_models=use_best_models\n",
    ")"
   ]
  },
  {
   "cell_type": "code",
   "execution_count": 7,
   "metadata": {},
   "outputs": [
    {
     "data": {
      "text/plain": [
       "4"
      ]
     },
     "execution_count": 7,
     "metadata": {},
     "output_type": "execute_result"
    }
   ],
   "source": [
    "len(inf_cfgs)"
   ]
  },
  {
   "cell_type": "markdown",
   "metadata": {},
   "source": [
    "## Running Jobs"
   ]
  },
  {
   "cell_type": "code",
   "execution_count": 8,
   "metadata": {},
   "outputs": [],
   "source": [
    "from ese.analysis.run_inference import get_cal_stats"
   ]
  },
  {
   "cell_type": "code",
   "execution_count": 9,
   "metadata": {},
   "outputs": [],
   "source": [
    "# from ese.experiment import run_ese_exp\n",
    "\n",
    "# ###### Run individual jobs\n",
    "# run_ese_exp(\n",
    "#     config=inf_cfgs[0], \n",
    "#     job_func=get_cal_stats,\n",
    "#     run_name='debug',\n",
    "#     show_examples=False,\n",
    "#     gpu='0',\n",
    "# )"
   ]
  },
  {
   "cell_type": "code",
   "execution_count": 10,
   "metadata": {},
   "outputs": [
    {
     "name": "stdout",
     "output_type": "stream",
     "text": [
      "Submitting job 1/4:\n",
      "--> Launched job-id: 4129911 on gpu: 0.\n",
      "Submitting job 2/4:\n",
      "--> Launched job-id: 4130021 on gpu: 1.\n",
      "Submitting job 3/4:\n",
      "--> Launched job-id: 4130172 on gpu: 2.\n",
      "Submitting job 4/4:\n",
      "--> Launched job-id: 4130464 on gpu: 3.\n"
     ]
    }
   ],
   "source": [
    "from ese.experiment import submit_ese_exps \n",
    "\n",
    "#### Run Batch Jobs\n",
    "submit_ese_exps(\n",
    "    group=\"inference\",\n",
    "    base_cfg=updated_base_cfg,\n",
    "    add_date=add_date,\n",
    "    exp_cfg=experiment_cfg,\n",
    "    config_list=inf_cfgs,\n",
    "    job_func=get_cal_stats,\n",
    "    available_gpus=['0', '1', '2', '3']\n",
    ")"
   ]
  }
 ],
 "metadata": {
  "kernelspec": {
   "display_name": "Python 3",
   "language": "python",
   "name": "python3"
  },
  "language_info": {
   "codemirror_mode": {
    "name": "ipython",
    "version": 3
   },
   "file_extension": ".py",
   "mimetype": "text/x-python",
   "name": "python",
   "nbconvert_exporter": "python",
   "pygments_lexer": "ipython3",
   "version": "3.9.16"
  },
  "orig_nbformat": 4
 },
 "nbformat": 4,
 "nbformat_minor": 2
}
