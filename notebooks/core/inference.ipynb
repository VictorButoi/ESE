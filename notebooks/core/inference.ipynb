{
 "cells": [
  {
   "cell_type": "code",
   "execution_count": 1,
   "metadata": {},
   "outputs": [],
   "source": [
    "# torch imports\n",
    "import torch\n",
    "# Misc imports\n",
    "import os \n",
    "import sys\n",
    "import seaborn as sns\n",
    "from pathlib import Path\n",
    "sys.path.append('/storage/vbutoi/projects')\n",
    "sys.path.append('/storage/vbutoi/libraries')\n",
    "sys.path.append('/storage/vbutoi/projects/ESE')\n",
    "sys.path.append('/storage/vbutoi/projects/UniverSegDev')\n",
    "# Ionpy imports\n",
    "from ionpy.util import Config\n",
    "from ionpy.analysis import ResultsLoader\n",
    "\n",
    "# Define some useful paths.\n",
    "os.environ['DATAPATH'] = ':'.join((\n",
    "       '/storage/vbutoi/datasets',\n",
    "       '/storage'\n",
    "))\n",
    "# Set some defaults\n",
    "rs = ResultsLoader()\n",
    "sns.set_style(\"darkgrid\")\n",
    "torch.set_printoptions(linewidth=200)\n",
    "\n",
    "# For using code without restarting.\n",
    "%load_ext autoreload\n",
    "%autoreload 2\n",
    "# For using yaml configs.\n",
    "%load_ext yamlmagic"
   ]
  },
  {
   "cell_type": "code",
   "execution_count": 2,
   "metadata": {},
   "outputs": [
    {
     "data": {
      "application/javascript": "\n            require(\n                [\n                    \"notebook/js/codecell\",\n                    \"codemirror/mode/yaml/yaml\"\n                ],\n                function(cc){\n                    cc.CodeCell.options_default.highlight_modes.magic_yaml = {\n                        reg: [\"^%%yaml\"]\n                    }\n                }\n            );\n            ",
      "text/plain": [
       "<IPython.core.display.Javascript object>"
      ]
     },
     "metadata": {},
     "output_type": "display_data"
    }
   ],
   "source": [
    "%%yaml default_cfg \n",
    "\n",
    "experiment:\n",
    "    exp_root: '?'\n",
    "    inference_seed: 40\n",
    "    pred_threshold: 0.5 \n",
    "\n",
    "log:\n",
    "    root: '?'\n",
    "    save_preds: False \n",
    "    log_interval: 10 \n",
    "    log_pixel_stats: False \n",
    "    gether_inference_stats: True\n",
    "    compute_global_metrics: False \n",
    "\n",
    "dataloader:\n",
    "    batch_size: '?'\n",
    "    num_workers: 1 \n",
    "    pin_memory: True "
   ]
  },
  {
   "cell_type": "code",
   "execution_count": 3,
   "metadata": {},
   "outputs": [
    {
     "data": {
      "application/javascript": "\n            require(\n                [\n                    \"notebook/js/codecell\",\n                    \"codemirror/mode/yaml/yaml\"\n                ],\n                function(cc){\n                    cc.CodeCell.options_default.highlight_modes.magic_yaml = {\n                        reg: [\"^%%yaml\"]\n                    }\n                }\n            );\n            ",
      "text/plain": [
       "<IPython.core.display.Javascript object>"
      ]
     },
     "metadata": {},
     "output_type": "display_data"
    }
   ],
   "source": [
    "%%yaml calibration_cfg \n",
    "\n",
    "calibrator:\n",
    "    _name: None \n",
    "\n",
    "local_calibration:\n",
    "    num_prob_bins: 15\n",
    "    neighborhood_width: 3\n",
    "\n",
    "global_calibration:\n",
    "    num_classes: 1 \n",
    "    num_prob_bins: 15\n",
    "    neighborhood_width: 3"
   ]
  },
  {
   "cell_type": "code",
   "execution_count": 4,
   "metadata": {},
   "outputs": [
    {
     "data": {
      "application/javascript": "\n            require(\n                [\n                    \"notebook/js/codecell\",\n                    \"codemirror/mode/yaml/yaml\"\n                ],\n                function(cc){\n                    cc.CodeCell.options_default.highlight_modes.magic_yaml = {\n                        reg: [\"^%%yaml\"]\n                    }\n                }\n            );\n            ",
      "text/plain": [
       "<IPython.core.display.Javascript object>"
      ]
     },
     "metadata": {},
     "output_type": "display_data"
    }
   ],
   "source": [
    "%%yaml model_cfg \n",
    "\n",
    "# For standard datasets\n",
    "#####################################\n",
    "model:\n",
    "    pred_label: 0 \n",
    "    _type: \"standard\"\n",
    "    pretrained_exp_root : None\n",
    "    checkpoint: 'min-val-area_estimation_error'\n",
    "    # checkpoint: 'min-val-ece_loss'"
   ]
  },
  {
   "cell_type": "markdown",
   "metadata": {},
   "source": [
    "## Gather Inference Options."
   ]
  },
  {
   "cell_type": "code",
   "execution_count": 5,
   "metadata": {},
   "outputs": [
    {
     "data": {
      "application/javascript": "\n            require(\n                [\n                    \"notebook/js/codecell\",\n                    \"codemirror/mode/yaml/yaml\"\n                ],\n                function(cc){\n                    cc.CodeCell.options_default.highlight_modes.magic_yaml = {\n                        reg: [\"^%%yaml\"]\n                    }\n                }\n            );\n            ",
      "text/plain": [
       "<IPython.core.display.Javascript object>"
      ]
     },
     "metadata": {},
     "output_type": "display_data"
    }
   ],
   "source": [
    "%%yaml experiment_cfg \n",
    "\n",
    "# Use this field if you want to call it something else beyond the base_model_dir.\n",
    "name: \"HepaticVessels_ThresholdSweep\"\n",
    "\n",
    "base_model: \n",
    "    # - \"/storage/vbutoi/scratch/ESE/training/08_24_24_HeptaticVessel_LowerLR\"\n",
    "    # - \"/storage/vbutoi/scratch/ESE/training/08_26_24_HepaticVessel_wSVLS_LONGTRAINING\"\n",
    "    # - \"/storage/vbutoi/scratch/ESE/calibration/08_26_24_HepaticVessels_TempScaling\"\n",
    "    # - \"/storage/vbutoi/scratch/ESE/calibration/08_26_24_HepaticVessels_LTS\"\n",
    "\n",
    "# Optimal thresholds for OCTA\n",
    "experiment:\n",
    "    pred_threshold:\n",
    "        # - 0.1\n",
    "        # - 0.15\n",
    "        # - 0.2\n",
    "        - 0.225\n",
    "        # - 0.25\n",
    "        - 0.26\n",
    "        # - 0.275\n",
    "        # - 0.3\n",
    "        # - 0.35\n",
    "        - 0.375\n",
    "        # - 0.4\n",
    "        - 0.41\n",
    "        # - 0.425 \n",
    "        # - 0.45\n",
    "        - 0.475\n",
    "        # - 0.5\n",
    "        # - 0.6\n",
    "        # - 0.8\n",
    "\n",
    "## Setup for UniverSeg datasets.\n",
    "inference_data:\n",
    "    _class: \"universeg.experiment.datasets.Segment2D\"\n",
    "    split: (\"cal\", \"val\")\n",
    "    root_folder: \"MSD/thunder_MSD/v4.2\"\n",
    "    task: 'MSD/HepaticVessel/CT/2'\n",
    "\n",
    "# We want to test if we can save preds.\n",
    "log:\n",
    "    save_preds: True\n",
    "\n",
    "dataloader:\n",
    "    batch_size: 8"
   ]
  },
  {
   "cell_type": "code",
   "execution_count": 6,
   "metadata": {},
   "outputs": [],
   "source": [
    "# Local imports\n",
    "from ese.analysis.analysis_utils.submit_utils import get_ese_inference_configs\n",
    "\n",
    "# Get the configs for the different runs.\n",
    "base_cfg = Config(default_cfg).update([calibration_cfg, model_cfg])\n",
    "# Get the different experiment cfg yamls.\n",
    "inf_cfgs = get_ese_inference_configs(\n",
    "    exp_cfg=experiment_cfg, \n",
    "    base_cfg=base_cfg\n",
    ")"
   ]
  },
  {
   "cell_type": "code",
   "execution_count": 7,
   "metadata": {},
   "outputs": [
    {
     "data": {
      "text/plain": [
       "40"
      ]
     },
     "execution_count": 7,
     "metadata": {},
     "output_type": "execute_result"
    }
   ],
   "source": [
    "len(inf_cfgs)"
   ]
  },
  {
   "cell_type": "markdown",
   "metadata": {},
   "source": [
    "## Running Jobs"
   ]
  },
  {
   "cell_type": "code",
   "execution_count": 8,
   "metadata": {},
   "outputs": [
    {
     "name": "stderr",
     "output_type": "stream",
     "text": [
      "/local/vbutoi/envs/UniverSegTF/lib/python3.9/site-packages/pydantic/_internal/_fields.py:149: UserWarning: Field \"model_outputs\" has conflict with protected namespace \"model_\".\n",
      "\n",
      "You may be able to resolve this warning by setting `model_config['protected_namespaces'] = ()`.\n",
      "  warnings.warn(\n",
      "/storage/vbutoi/libraries/pylot/pandas/register.py:47: UserWarning: registration of accessor <class 'pylot.pandas.register.register_series_method.<locals>.inner.<locals>.AccessorMethod'> under name 'fillNA' for type <class 'pandas.core.series.Series'> is overriding a preexisting attribute with the same name.\n",
      "  register_series_accessor(method.__name__)(AccessorMethod)\n",
      "/storage/vbutoi/libraries/pylot/pandas/register.py:47: UserWarning: registration of accessor <class 'pylot.pandas.register.register_series_method.<locals>.inner.<locals>.AccessorMethod'> under name 'isNA' for type <class 'pandas.core.series.Series'> is overriding a preexisting attribute with the same name.\n",
      "  register_series_accessor(method.__name__)(AccessorMethod)\n",
      "/storage/vbutoi/libraries/pylot/pandas/register.py:47: UserWarning: registration of accessor <class 'pylot.pandas.register.register_series_method.<locals>.inner.<locals>.AccessorMethod'> under name 'notNA' for type <class 'pandas.core.series.Series'> is overriding a preexisting attribute with the same name.\n",
      "  register_series_accessor(method.__name__)(AccessorMethod)\n",
      "/storage/vbutoi/libraries/pylot/pandas/register.py:47: UserWarning: registration of accessor <class 'pylot.pandas.register.register_series_method.<locals>.inner.<locals>.AccessorMethod'> under name 'is_constant' for type <class 'pandas.core.series.Series'> is overriding a preexisting attribute with the same name.\n",
      "  register_series_accessor(method.__name__)(AccessorMethod)\n",
      "/storage/vbutoi/libraries/pylot/pandas/register.py:26: UserWarning: registration of accessor <class 'pylot.pandas.register.register_dataframe_method.<locals>.inner.<locals>.AccessorMethod'> under name 'drop_constant' for type <class 'pandas.core.frame.DataFrame'> is overriding a preexisting attribute with the same name.\n",
      "  register_dataframe_accessor(method.__name__)(AccessorMethod)\n",
      "/storage/vbutoi/libraries/pylot/pandas/register.py:26: UserWarning: registration of accessor <class 'pylot.pandas.register.register_dataframe_method.<locals>.inner.<locals>.AccessorMethod'> under name 'constants' for type <class 'pandas.core.frame.DataFrame'> is overriding a preexisting attribute with the same name.\n",
      "  register_dataframe_accessor(method.__name__)(AccessorMethod)\n",
      "/storage/vbutoi/libraries/pylot/pandas/register.py:26: UserWarning: registration of accessor <class 'pylot.pandas.register.register_dataframe_method.<locals>.inner.<locals>.AccessorMethod'> under name 'to_categories' for type <class 'pandas.core.frame.DataFrame'> is overriding a preexisting attribute with the same name.\n",
      "  register_dataframe_accessor(method.__name__)(AccessorMethod)\n",
      "/storage/vbutoi/libraries/pylot/pandas/register.py:26: UserWarning: registration of accessor <class 'pylot.pandas.register.register_dataframe_method.<locals>.inner.<locals>.AccessorMethod'> under name 'select' for type <class 'pandas.core.frame.DataFrame'> is overriding a preexisting attribute with the same name.\n",
      "  register_dataframe_accessor(method.__name__)(AccessorMethod)\n",
      "/storage/vbutoi/libraries/pylot/pandas/register.py:26: UserWarning: registration of accessor <class 'pylot.pandas.register.register_dataframe_method.<locals>.inner.<locals>.AccessorMethod'> under name 'augment' for type <class 'pandas.core.frame.DataFrame'> is overriding a preexisting attribute with the same name.\n",
      "  register_dataframe_accessor(method.__name__)(AccessorMethod)\n",
      "/storage/vbutoi/libraries/pylot/pandas/register.py:26: UserWarning: registration of accessor <class 'pylot.pandas.register.register_dataframe_method.<locals>.inner.<locals>.AccessorMethod'> under name 'broadcast' for type <class 'pandas.core.frame.DataFrame'> is overriding a preexisting attribute with the same name.\n",
      "  register_dataframe_accessor(method.__name__)(AccessorMethod)\n",
      "/storage/vbutoi/libraries/pylot/pandas/register.py:26: UserWarning: registration of accessor <class 'pylot.pandas.register.register_dataframe_method.<locals>.inner.<locals>.AccessorMethod'> under name 'unique_per_col' for type <class 'pandas.core.frame.DataFrame'> is overriding a preexisting attribute with the same name.\n",
      "  register_dataframe_accessor(method.__name__)(AccessorMethod)\n",
      "/storage/vbutoi/libraries/pylot/pandas/register.py:26: UserWarning: registration of accessor <class 'pylot.pandas.register.register_dataframe_method.<locals>.inner.<locals>.AccessorMethod'> under name 'constants_subset' for type <class 'pandas.core.frame.DataFrame'> is overriding a preexisting attribute with the same name.\n",
      "  register_dataframe_accessor(method.__name__)(AccessorMethod)\n",
      "/storage/vbutoi/libraries/pylot/pandas/register.py:26: UserWarning: registration of accessor <class 'pylot.pandas.register.register_dataframe_method.<locals>.inner.<locals>.AccessorMethod'> under name 'smooth' for type <class 'pandas.core.frame.DataFrame'> is overriding a preexisting attribute with the same name.\n",
      "  register_dataframe_accessor(method.__name__)(AccessorMethod)\n",
      "/storage/vbutoi/libraries/pylot/pandas/register.py:26: UserWarning: registration of accessor <class 'pylot.pandas.register.register_dataframe_method.<locals>.inner.<locals>.AccessorMethod'> under name 'augment_from_attrs' for type <class 'pandas.core.frame.DataFrame'> is overriding a preexisting attribute with the same name.\n",
      "  register_dataframe_accessor(method.__name__)(AccessorMethod)\n",
      "/storage/vbutoi/libraries/pylot/pandas/unix.py:12: UserWarning: registration of accessor <class 'pylot.pandas.unix.UnixAccessor'> under name 'unix' for type <class 'pandas.core.series.Series'> is overriding a preexisting attribute with the same name.\n",
      "  class UnixAccessor:\n"
     ]
    }
   ],
   "source": [
    "from ese.analysis.run_inference import get_cal_stats"
   ]
  },
  {
   "cell_type": "code",
   "execution_count": 9,
   "metadata": {},
   "outputs": [],
   "source": [
    "# from ese.experiment import run_ese_exp\n",
    "\n",
    "# ###### Run individual jobs\n",
    "# run_ese_exp(\n",
    "#     config=inf_cfgs[-1], \n",
    "#     job_func=get_cal_stats,\n",
    "#     run_name='debug',\n",
    "#     # show_examples=True,\n",
    "#     show_examples=True,\n",
    "#     gpu='0',\n",
    "#     # gpu='4',\n",
    "# ) "
   ]
  },
  {
   "cell_type": "code",
   "execution_count": 10,
   "metadata": {},
   "outputs": [
    {
     "name": "stdout",
     "output_type": "stream",
     "text": [
      "Submitting job 1/40:\n",
      "--> Launched job-id: 4168478 on gpu: 0.\n",
      "Submitting job 2/40:\n",
      "--> Launched job-id: 4168595 on gpu: 1.\n",
      "Submitting job 3/40:\n",
      "--> Launched job-id: 4168773 on gpu: 2.\n",
      "Submitting job 4/40:\n",
      "--> Launched job-id: 4168981 on gpu: 3.\n",
      "Submitting job 5/40:\n",
      "--> Launched job-id: 4169189 on gpu: 0.\n",
      "Submitting job 6/40:\n",
      "--> Launched job-id: 4169396 on gpu: 1.\n",
      "Submitting job 7/40:\n",
      "--> Launched job-id: 4169620 on gpu: 2.\n",
      "Submitting job 8/40:\n",
      "--> Launched job-id: 4169829 on gpu: 3.\n",
      "Submitting job 9/40:\n",
      "--> Launched job-id: 4170036 on gpu: 0.\n",
      "Submitting job 10/40:\n",
      "--> Launched job-id: 4170243 on gpu: 1.\n",
      "Submitting job 11/40:\n",
      "--> Launched job-id: 4170450 on gpu: 2.\n",
      "Submitting job 12/40:\n",
      "--> Launched job-id: 4170658 on gpu: 3.\n",
      "Submitting job 13/40:\n",
      "--> Launched job-id: 4170833 on gpu: 0.\n",
      "Submitting job 14/40:\n",
      "--> Launched job-id: 4171072 on gpu: 1.\n",
      "Submitting job 15/40:\n",
      "--> Launched job-id: 4171279 on gpu: 2.\n",
      "Submitting job 16/40:\n",
      "--> Launched job-id: 4171487 on gpu: 3.\n",
      "Submitting job 17/40:\n",
      "--> Launched job-id: 4171694 on gpu: 0.\n",
      "Submitting job 18/40:\n",
      "--> Launched job-id: 4171906 on gpu: 1.\n",
      "Submitting job 19/40:\n",
      "--> Launched job-id: 4172113 on gpu: 2.\n",
      "Submitting job 20/40:\n",
      "--> Launched job-id: 4172320 on gpu: 3.\n",
      "Submitting job 21/40:\n",
      "--> Launched job-id: 4172527 on gpu: 0.\n",
      "Submitting job 22/40:\n",
      "--> Launched job-id: 4172777 on gpu: 1.\n",
      "Submitting job 23/40:\n",
      "--> Launched job-id: 4172984 on gpu: 2.\n",
      "Submitting job 24/40:\n",
      "--> Launched job-id: 4173191 on gpu: 3.\n",
      "Submitting job 25/40:\n",
      "--> Launched job-id: 4173403 on gpu: 0.\n",
      "Submitting job 26/40:\n",
      "--> Launched job-id: 4173610 on gpu: 1.\n",
      "Submitting job 27/40:\n",
      "--> Launched job-id: 4173819 on gpu: 2.\n",
      "Submitting job 28/40:\n",
      "--> Launched job-id: 4174026 on gpu: 3.\n",
      "Submitting job 29/40:\n",
      "--> Launched job-id: 4174233 on gpu: 0.\n",
      "Submitting job 30/40:\n",
      "--> Launched job-id: 4174440 on gpu: 1.\n",
      "Submitting job 31/40:\n",
      "--> Launched job-id: 4174647 on gpu: 2.\n",
      "Submitting job 32/40:\n",
      "--> Launched job-id: 4174854 on gpu: 3.\n",
      "Submitting job 33/40:\n",
      "--> Launched job-id: 4175031 on gpu: 0.\n",
      "Submitting job 34/40:\n",
      "--> Launched job-id: 4175269 on gpu: 1.\n",
      "Submitting job 35/40:\n",
      "--> Launched job-id: 4175476 on gpu: 2.\n",
      "Submitting job 36/40:\n",
      "--> Launched job-id: 4175683 on gpu: 3.\n",
      "Submitting job 37/40:\n",
      "--> Launched job-id: 4175908 on gpu: 0.\n",
      "Submitting job 38/40:\n",
      "--> Launched job-id: 4176115 on gpu: 1.\n",
      "Submitting job 39/40:\n",
      "--> Launched job-id: 4176322 on gpu: 2.\n",
      "Submitting job 40/40:\n",
      "--> Launched job-id: 4176529 on gpu: 3.\n"
     ]
    }
   ],
   "source": [
    "from ese.experiment import submit_ese_exps \n",
    "\n",
    "#### Run Batch Jobs\n",
    "submit_ese_exps(\n",
    "    config_list=inf_cfgs,\n",
    "    job_func=get_cal_stats,\n",
    "    available_gpus=['0', '1', '2', '3']\n",
    "    # available_gpus=['4', '5', '6', '7']\n",
    ")"
   ]
  }
 ],
 "metadata": {
  "kernelspec": {
   "display_name": "UniverSegTF",
   "language": "python",
   "name": "universegtf"
  },
  "language_info": {
   "codemirror_mode": {
    "name": "ipython",
    "version": 3
   },
   "file_extension": ".py",
   "mimetype": "text/x-python",
   "name": "python",
   "nbconvert_exporter": "python",
   "pygments_lexer": "ipython3",
   "version": "3.9.16"
  },
  "orig_nbformat": 4
 },
 "nbformat": 4,
 "nbformat_minor": 2
}
