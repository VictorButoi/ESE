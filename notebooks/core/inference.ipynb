{
 "cells": [
  {
   "cell_type": "code",
   "execution_count": 1,
   "metadata": {},
   "outputs": [],
   "source": [
    "# torch imports\n",
    "import torch\n",
    "import torch._dynamo\n",
    "torch._dynamo.config.suppress_errors = True\n",
    "# Misc imports\n",
    "import os \n",
    "import sys\n",
    "import seaborn as sns\n",
    "from pathlib import Path\n",
    "sys.path.append('/storage/vbutoi/projects')\n",
    "sys.path.append('/storage/vbutoi/libraries')\n",
    "sys.path.append('/storage/vbutoi/projects/ESE')\n",
    "sys.path.append('/storage/vbutoi/projects/UniverSegDev')\n",
    "# Ionpy imports\n",
    "from ionpy.util import Config\n",
    "from ionpy.analysis import ResultsLoader\n",
    "\n",
    "# Define some useful paths.\n",
    "os.environ['DATAPATH'] = ':'.join((\n",
    "       '/storage/vbutoi/datasets',\n",
    "       '/storage'\n",
    "))\n",
    "# Set some defaults\n",
    "rs = ResultsLoader()\n",
    "sns.set_style(\"darkgrid\")\n",
    "torch.set_printoptions(linewidth=200)\n",
    "\n",
    "# For using code without restarting.\n",
    "%load_ext autoreload\n",
    "%autoreload 2\n",
    "# For using yaml configs.\n",
    "%load_ext yamlmagic"
   ]
  },
  {
   "cell_type": "code",
   "execution_count": 2,
   "metadata": {},
   "outputs": [
    {
     "data": {
      "application/javascript": "\n            require(\n                [\n                    \"notebook/js/codecell\",\n                    \"codemirror/mode/yaml/yaml\"\n                ],\n                function(cc){\n                    cc.CodeCell.options_default.highlight_modes.magic_yaml = {\n                        reg: [\"^%%yaml\"]\n                    }\n                }\n            );\n            ",
      "text/plain": [
       "<IPython.core.display.Javascript object>"
      ]
     },
     "metadata": {},
     "output_type": "display_data"
    }
   ],
   "source": [
    "%%yaml default_cfg \n",
    "\n",
    "experiment:\n",
    "    exp_root: '?'\n",
    "    inference_seed: 40\n",
    "\n",
    "inference_data:\n",
    "    split: '?'\n",
    "\n",
    "log:\n",
    "    root: '?'\n",
    "    save_preds: False \n",
    "    log_interval: 10 \n",
    "    log_pixel_stats: False \n",
    "    gether_inference_stats: True\n",
    "    compute_global_metrics: False \n",
    "\n",
    "dataloader:\n",
    "    batch_size: '?' \n",
    "    num_workers: '?' \n",
    "    pin_memory: True "
   ]
  },
  {
   "cell_type": "code",
   "execution_count": 3,
   "metadata": {},
   "outputs": [
    {
     "data": {
      "application/javascript": "\n            require(\n                [\n                    \"notebook/js/codecell\",\n                    \"codemirror/mode/yaml/yaml\"\n                ],\n                function(cc){\n                    cc.CodeCell.options_default.highlight_modes.magic_yaml = {\n                        reg: [\"^%%yaml\"]\n                    }\n                }\n            );\n            ",
      "text/plain": [
       "<IPython.core.display.Javascript object>"
      ]
     },
     "metadata": {},
     "output_type": "display_data"
    }
   ],
   "source": [
    "%%yaml calibration_cfg \n",
    "\n",
    "local_calibration:\n",
    "    num_prob_bins: 15\n",
    "    neighborhood_width: 3\n",
    "\n",
    "global_calibration:\n",
    "    num_classes: 1 \n",
    "    num_prob_bins: 15\n",
    "    neighborhood_width: 3"
   ]
  },
  {
   "cell_type": "code",
   "execution_count": 4,
   "metadata": {},
   "outputs": [
    {
     "data": {
      "application/javascript": "\n            require(\n                [\n                    \"notebook/js/codecell\",\n                    \"codemirror/mode/yaml/yaml\"\n                ],\n                function(cc){\n                    cc.CodeCell.options_default.highlight_modes.magic_yaml = {\n                        reg: [\"^%%yaml\"]\n                    }\n                }\n            );\n            ",
      "text/plain": [
       "<IPython.core.display.Javascript object>"
      ]
     },
     "metadata": {},
     "output_type": "display_data"
    }
   ],
   "source": [
    "%%yaml model_cfg \n",
    "\n",
    "# For standard datasets\n",
    "#####################################\n",
    "model:\n",
    "    pred_label: 0     \n",
    "    _type: \"standard\"\n",
    "    pretrained_exp_root : None\n",
    "    checkpoint: 'min-val-abs_area_estimation_error'"
   ]
  },
  {
   "cell_type": "markdown",
   "metadata": {},
   "source": [
    "## Gather Inference Options."
   ]
  },
  {
   "cell_type": "code",
   "execution_count": 5,
   "metadata": {},
   "outputs": [
    {
     "data": {
      "application/javascript": "\n            require(\n                [\n                    \"notebook/js/codecell\",\n                    \"codemirror/mode/yaml/yaml\"\n                ],\n                function(cc){\n                    cc.CodeCell.options_default.highlight_modes.magic_yaml = {\n                        reg: [\"^%%yaml\"]\n                    }\n                }\n            );\n            ",
      "text/plain": [
       "<IPython.core.display.Javascript object>"
      ]
     },
     "metadata": {},
     "output_type": "display_data"
    }
   ],
   "source": [
    "%%yaml experiment_cfg \n",
    "\n",
    "## Set the high level name\n",
    "group: \"WMH_AllHospitals_Benchmark\"\n",
    "\n",
    "## Set the name of the dataset so we can automatically load the best models.\n",
    "evaluate_dataset: \"WMH\"\n",
    "\n",
    "# subgroup: \"Base\"\n",
    "# subgroup: \"Sweep_Threshold\"\n",
    "subgroup: \"Sweep_Temperature\"\n",
    "# subgroup: \"Optimal_RAVE_Threshold\"\n",
    "# subgroup: \"Optimal_RAVE_Temperature\"\n",
    "\n",
    "dataloader:\n",
    "    batch_size: 2"
   ]
  },
  {
   "cell_type": "code",
   "execution_count": 6,
   "metadata": {},
   "outputs": [
    {
     "name": "stderr",
     "output_type": "stream",
     "text": [
      "/local/vbutoi/envs/UniverSegTF/lib/python3.9/site-packages/pydantic/_internal/_fields.py:149: UserWarning: Field \"model_dir\" has conflict with protected namespace \"model_\".\n",
      "\n",
      "You may be able to resolve this warning by setting `model_config['protected_namespaces'] = ()`.\n",
      "  warnings.warn(\n"
     ]
    }
   ],
   "source": [
    "# Local imports\n",
    "from ese.analysis.analysis_utils.submit_utils import get_ese_inference_configs\n",
    "\n",
    "# Get the configs for the different runs.\n",
    "base_cfg = Config(default_cfg).update([calibration_cfg, model_cfg])\n",
    "\n",
    "# For inference experiments, we don't add the date by default.\n",
    "add_date = True \n",
    "# Get the different experiment cfg yamls.\n",
    "updated_base_cfg, inf_cfgs = get_ese_inference_configs(\n",
    "    exp_cfg=experiment_cfg, \n",
    "    base_cfg=base_cfg,\n",
    "    add_date=add_date\n",
    ")"
   ]
  },
  {
   "cell_type": "code",
   "execution_count": 7,
   "metadata": {},
   "outputs": [
    {
     "data": {
      "text/plain": [
       "16"
      ]
     },
     "execution_count": 7,
     "metadata": {},
     "output_type": "execute_result"
    }
   ],
   "source": [
    "len(inf_cfgs)"
   ]
  },
  {
   "cell_type": "code",
   "execution_count": 8,
   "metadata": {},
   "outputs": [],
   "source": [
    "# Get the first quarter of the configs.\n",
    "# inf_cfgs = inf_cfgs[:len(inf_cfgs)//4]\n",
    "# # Get the next quarter of the configs.\n",
    "# inf_cfgs = inf_cfgs[len(inf_cfgs)//4:len(inf_cfgs)//2]\n",
    "# # Get the next quarter of the configs.\n",
    "# inf_cfgs = inf_cfgs[len(inf_cfgs)//2:3*len(inf_cfgs)//4]\n",
    "# # Get the last quarter of the configs.\n",
    "inf_cfgs = inf_cfgs[3*len(inf_cfgs)//4:]"
   ]
  },
  {
   "cell_type": "markdown",
   "metadata": {},
   "source": [
    "## Running Jobs"
   ]
  },
  {
   "cell_type": "code",
   "execution_count": 9,
   "metadata": {},
   "outputs": [],
   "source": [
    "from ese.analysis.run_inference import get_cal_stats"
   ]
  },
  {
   "cell_type": "code",
   "execution_count": 10,
   "metadata": {},
   "outputs": [],
   "source": [
    "# from ese.experiment import run_ese_exp\n",
    "\n",
    "# ###### Run individual jobs\n",
    "# run_ese_exp(\n",
    "#     config=inf_cfgs[0], \n",
    "#     job_func=get_cal_stats,\n",
    "#     run_name='debug',\n",
    "#     show_examples=True,\n",
    "#     gpu='2',\n",
    "# )"
   ]
  },
  {
   "cell_type": "code",
   "execution_count": 11,
   "metadata": {},
   "outputs": [
    {
     "name": "stdout",
     "output_type": "stream",
     "text": [
      "Submitting job 1/4:\n",
      "--> Launched job-id: 305363 on gpu: 2.\n",
      "Submitting job 2/4:\n",
      "--> Launched job-id: 305676 on gpu: 3.\n",
      "Submitting job 3/4:\n",
      "--> Launched job-id: 306034 on gpu: 4.\n",
      "Submitting job 4/4:\n",
      "--> Launched job-id: 306909 on gpu: 5.\n"
     ]
    }
   ],
   "source": [
    "from ese.experiment import submit_ese_exps \n",
    "\n",
    "#### Run Batch Jobs\n",
    "submit_ese_exps(\n",
    "    group=\"inference\",\n",
    "    base_cfg=updated_base_cfg,\n",
    "    add_date=add_date,\n",
    "    exp_cfg=experiment_cfg,\n",
    "    config_list=inf_cfgs,\n",
    "    job_func=get_cal_stats,\n",
    "    available_gpus=['0', '1', '2', '3'],\n",
    "    # available_gpus=['2', '3', '4', '5', '6', '7']\n",
    ")"
   ]
  }
 ],
 "metadata": {
  "kernelspec": {
   "display_name": "UniverSegTF",
   "language": "python",
   "name": "universegtf"
  },
  "language_info": {
   "codemirror_mode": {
    "name": "ipython",
    "version": 3
   },
   "file_extension": ".py",
   "mimetype": "text/x-python",
   "name": "python",
   "nbconvert_exporter": "python",
   "pygments_lexer": "ipython3",
   "version": "3.9.16"
  },
  "orig_nbformat": 4
 },
 "nbformat": 4,
 "nbformat_minor": 2
}
