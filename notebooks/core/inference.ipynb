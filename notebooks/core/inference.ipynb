{
 "cells": [
  {
   "cell_type": "code",
   "execution_count": 1,
   "metadata": {},
   "outputs": [],
   "source": [
    "# torch imports\n",
    "import torch\n",
    "import torch._dynamo\n",
    "torch._dynamo.config.suppress_errors = True\n",
    "# Misc imports\n",
    "import os \n",
    "import sys\n",
    "import seaborn as sns\n",
    "from pathlib import Path\n",
    "sys.path.append('/storage/vbutoi/projects')\n",
    "sys.path.append('/storage/vbutoi/libraries')\n",
    "sys.path.append('/storage/vbutoi/projects/ESE')\n",
    "sys.path.append('/storage/vbutoi/projects/UniverSegDev')\n",
    "# Ionpy imports\n",
    "from ionpy.util import Config\n",
    "from ionpy.analysis import ResultsLoader\n",
    "\n",
    "# Define some useful paths.\n",
    "os.environ['DATAPATH'] = ':'.join((\n",
    "       '/storage/vbutoi/datasets',\n",
    "       '/storage'\n",
    "))\n",
    "# Set some defaults\n",
    "rs = ResultsLoader()\n",
    "sns.set_style(\"darkgrid\")\n",
    "torch.set_printoptions(linewidth=200)\n",
    "\n",
    "# For using code without restarting.\n",
    "%load_ext autoreload\n",
    "%autoreload 2\n",
    "# For using yaml configs.\n",
    "%load_ext yamlmagic"
   ]
  },
  {
   "cell_type": "code",
   "execution_count": null,
   "metadata": {},
   "outputs": [],
   "source": [
    "%%yaml default_cfg \n",
    "\n",
    "experiment:\n",
    "    exp_root: '?'\n",
    "    inference_seed: 40\n",
    "\n",
    "log:\n",
    "    root: '?'\n",
    "    save_preds: False \n",
    "    log_interval: 10 \n",
    "    log_pixel_stats: False \n",
    "    gether_inference_stats: True\n",
    "    compute_global_metrics: False \n",
    "\n",
    "dataloader:\n",
    "    batch_size: '?' \n",
    "    num_workers: '?' \n",
    "    pin_memory: True "
   ]
  },
  {
   "cell_type": "code",
   "execution_count": null,
   "metadata": {},
   "outputs": [],
   "source": [
    "%%yaml calibration_cfg \n",
    "\n",
    "local_calibration:\n",
    "    num_prob_bins: 15\n",
    "    neighborhood_width: 3\n",
    "\n",
    "global_calibration:\n",
    "    num_classes: 1 \n",
    "    num_prob_bins: 15\n",
    "    neighborhood_width: 3"
   ]
  },
  {
   "cell_type": "code",
   "execution_count": null,
   "metadata": {},
   "outputs": [],
   "source": [
    "%%yaml model_cfg \n",
    "\n",
    "# For standard datasets\n",
    "#####################################\n",
    "model:\n",
    "    pred_label: 0     \n",
    "    _type: \"standard\"\n",
    "    pretrained_exp_root : None\n",
    "    checkpoint: 'min-val-abs_area_estimation_error'"
   ]
  },
  {
   "cell_type": "markdown",
   "metadata": {},
   "source": [
    "## Gather Inference Options."
   ]
  },
  {
   "cell_type": "code",
   "execution_count": null,
   "metadata": {},
   "outputs": [],
   "source": [
    "%%yaml octa_cfg \n",
    "\n",
    "## Methods \n",
    "# name: \"OCTA_Benchmark_Exps/Base\"\n",
    "# name: \"OCTA_Benchmark_Exps/Optimal_Threshold_CrossEntropy\"\n",
    "# name: \"OCTA_Benchmark_Exps/Optimal_Temperature_CrossEntropy\"\n",
    "name: \"OCTA_Benchmark_Exps/LTS\"\n",
    "\n",
    "## Sweeps\n",
    "# name: \"OCTA_Benchmark_Exps/Threshold_Sweep_Dice\"\n",
    "# name: \"OCTA_Benchmark_Exps/Threshold_Sweep_CrossEntropy\"\n",
    "# name: \"OCTA_Benchmark_Exps/Temperature_Sweep_Dice\"\n",
    "# name: \"OCTA_Benchmark_Exps/Temperature_Sweep_CrossEntropy\"\n",
    "\n",
    "base_model: \n",
    "    # - '/storage/vbutoi/scratch/ESE/training/August_2024/08_07_24_OCTA_FULLRES_SoftDice/20240807_144440-P7H9-459da42e97888bccb0aa79c297f388cd'\n",
    "    # - '/storage/vbutoi/scratch/ESE/training/August_2024/08_07_24_OCTA_FULLRES_CrossEntropy/20240807_144627-M576-c3a81247e7e30c6bf47c72748764a898'\n",
    "    - '/storage/vbutoi/scratch/ESE/calibration/August_2024/08_11_24_OCTA_FULLRES_LTS_LongRuns/20240811_123128-FZS0-5b5393971e116325f3cd4c334ad9b2c4'"
   ]
  },
  {
   "cell_type": "code",
   "execution_count": null,
   "metadata": {},
   "outputs": [],
   "source": [
    "%%yaml experiment_cfg \n",
    "\n",
    "name: \"OCTA_Benchmark_Exps/LTS\"\n",
    "\n",
    "# experiment: \n",
    "#     inf_kwargs:\n",
    "        # threshold: 0.225\n",
    "        #     - (0.00, ..., 0.25, 0.025)\n",
    "        #     - (0.26, ..., 0.50, 0.025)\n",
    "        #     - (0.51, ..., 0.75, 0.025)\n",
    "        #     - (0.76, ..., 1.00, 0.025)\n",
    "        # temperature: 1.06\n",
    "        #     - (0.01, ..., 0.50, 0.025)\n",
    "        #     - (0.51, ..., 1.00, 0.025)\n",
    "        #     - (1.01, ..., 1.25, 0.025)\n",
    "        #     - (1.26, ..., 1.50, 0.025)\n",
    "        #     - (1.51, ..., 2.00, 0.025)\n",
    "        #     - (2.01, ..., 2.50, 0.025)\n",
    "        #     - (2.51, ..., 2.75, 0.025)\n",
    "        #     - (2.76, ..., 3.00, 0.025)\n",
    "\n",
    "base_model: '/storage/vbutoi/scratch/ESE/calibration/August_2024/08_11_24_OCTA_FULLRES_LTS_LongRuns/20240811_123128-FZS0-5b5393971e116325f3cd4c334ad9b2c4'\n",
    "\n",
    "inference_data:\n",
    "    split: \n",
    "        - (\"cal\", \"val\")\n",
    "\n",
    "dataloader:\n",
    "    batch_size: 1\n",
    "    num_workers: 1"
   ]
  },
  {
   "cell_type": "code",
   "execution_count": 6,
   "metadata": {},
   "outputs": [],
   "source": [
    "# Local imports\n",
    "from ese.analysis.analysis_utils.submit_utils import get_ese_inference_configs\n",
    "\n",
    "# Get the configs for the different runs.\n",
    "base_cfg = Config(default_cfg).update([calibration_cfg, model_cfg])\n",
    "\n",
    "# Get the different experiment cfg yamls.\n",
    "updated_base_cfg, inf_cfgs = get_ese_inference_configs(\n",
    "    exp_cfg=experiment_cfg, \n",
    "    base_cfg=base_cfg\n",
    ")"
   ]
  },
  {
   "cell_type": "code",
   "execution_count": null,
   "metadata": {},
   "outputs": [],
   "source": [
    "len(inf_cfgs)"
   ]
  },
  {
   "cell_type": "markdown",
   "metadata": {},
   "source": [
    "## Running Jobs"
   ]
  },
  {
   "cell_type": "code",
   "execution_count": null,
   "metadata": {},
   "outputs": [],
   "source": [
    "from ese.analysis.run_inference import get_cal_stats"
   ]
  },
  {
   "cell_type": "code",
   "execution_count": null,
   "metadata": {},
   "outputs": [],
   "source": [
    "from ese.experiment import run_ese_exp\n",
    "\n",
    "###### Run individual jobs\n",
    "run_ese_exp(\n",
    "    config=inf_cfgs[0], \n",
    "    job_func=get_cal_stats,\n",
    "    run_name='debug',\n",
    "    show_examples=True,\n",
    "    gpu='0',\n",
    ")"
   ]
  },
  {
   "cell_type": "code",
   "execution_count": null,
   "metadata": {},
   "outputs": [],
   "source": [
    "# from ese.experiment import submit_ese_exps \n",
    "\n",
    "# #### Run Batch Jobs\n",
    "# submit_ese_exps(\n",
    "#     group=\"inference\",\n",
    "#     base_cfg=updated_base_cfg,\n",
    "#     exp_cfg=experiment_cfg,\n",
    "#     config_list=inf_cfgs,\n",
    "#     job_func=get_cal_stats,\n",
    "#     available_gpus=['1', '2', '3']\n",
    "# )"
   ]
  }
 ],
 "metadata": {
  "kernelspec": {
   "display_name": "Python 3",
   "language": "python",
   "name": "python3"
  },
  "language_info": {
   "codemirror_mode": {
    "name": "ipython",
    "version": 3
   },
   "file_extension": ".py",
   "mimetype": "text/x-python",
   "name": "python",
   "nbconvert_exporter": "python",
   "pygments_lexer": "ipython3",
   "version": "3.9.16"
  },
  "orig_nbformat": 4
 },
 "nbformat": 4,
 "nbformat_minor": 2
}
