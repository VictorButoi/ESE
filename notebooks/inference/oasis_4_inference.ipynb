{
 "cells": [
  {
   "cell_type": "code",
   "execution_count": null,
   "metadata": {},
   "outputs": [],
   "source": [
    "import sys\n",
    "sys.path.append('/storage/vbutoi/projects')\n",
    "sys.path.append('/storage/vbutoi/libraries')\n",
    "sys.path.append('/storage/vbutoi/projects/ESE')\n",
    "sys.path.append('/storage/vbutoi/projects/UniverSeg')\n",
    "import torch\n",
    "torch.set_printoptions(linewidth=200)\n",
    "import seaborn as sns\n",
    "sns.set_style(\"darkgrid\")\n",
    "\n",
    "import os \n",
    "os.environ['DATAPATH'] = ':'.join((\n",
    "       '/storage/vbutoi/datasets',\n",
    "))\n",
    "# For using code without restarting.\n",
    "%load_ext autoreload\n",
    "%autoreload \n",
    "# For using yaml configs.\n",
    "%load_ext yamlmagic"
   ]
  },
  {
   "cell_type": "code",
   "execution_count": null,
   "metadata": {},
   "outputs": [],
   "source": [
    "dfc = rs.load_configs(\n",
    "    f\"{root}training/10_23_23_Dense_WMH\",\n",
    "    properties=False,\n",
    ")"
   ]
  },
  {
   "cell_type": "code",
   "execution_count": null,
   "metadata": {},
   "outputs": [],
   "source": [
    "%%yaml wmh_inference_config\n",
    "\n",
    "log:\n",
    "    root: '?'\n",
    "    log_interval: 50\n",
    "    track_image_level: True\n",
    "    track_pixel_level: True \n",
    "    save_calbration_error_maps: False \n",
    "\n",
    "model:\n",
    "    exp_root : '?' \n",
    "    num_workers: 1  \n",
    "\n",
    "dataset:\n",
    "    split: '?' \n",
    "    task: Amsterdam \n",
    "    slicing: dense_full \n",
    "    input_type: volume \n",
    "\n",
    "calibration:\n",
    "    conf_interval_start: 0.5\n",
    "    conf_interval_end: 1.0\n",
    "    num_bins: 10\n",
    "    neighborhood_width: 3\n",
    "\n",
    "score:\n",
    "    ignore_index: 0"
   ]
  },
  {
   "cell_type": "code",
   "execution_count": null,
   "metadata": {},
   "outputs": [],
   "source": [
    "%%yaml cal_metrics_cfg \n",
    "\n",
    "cal_metrics:\n",
    "    - ECE:\n",
    "        func: ese.experiment.metrics.ECE\n",
    "    - TL_ECE:\n",
    "        func: ese.experiment.metrics.TL_ECE\n",
    "    - CW_ECE:\n",
    "        func: ese.experiment.metrics.CW_ECE\n",
    "    - SUME:\n",
    "        func: ese.experiment.metrics.SUME\n",
    "    - TL_SUME:\n",
    "        func: ese.experiment.metrics.TL_SUME\n",
    "    - CW_SUME:\n",
    "        func: ese.experiment.metrics.CW_SUME"
   ]
  },
  {
   "cell_type": "code",
   "execution_count": null,
   "metadata": {},
   "outputs": [],
   "source": [
    "from ionpy.util import dict_product, Config\n",
    "\n",
    "# Need to define the experiment name\n",
    "exp_name = \"11_20_23_OASIS4_Inference\"\n",
    "\n",
    "# Get the options for WMH\n",
    "##################################################\n",
    "dataset_options = {\n",
    "    'log.root': [f'/storage/vbutoi/scratch/ESE/inference/{exp_name}'],\n",
    "    'model.exp_root': ['/storage/vbutoi/scratch/ESE/training/10_23_23_Central_OASIS_lab4'], \n",
    "    'dataset.split': ['cal'],\n",
    "}\n",
    "\n",
    "base_cfg = Config(inference_config).update(cal_metrics_cfg)\n",
    "\n",
    "cfgs = []\n",
    "for cfg_update in dict_product(dataset_options):\n",
    "    new_cfg = base_cfg.update(cfg_update)\n",
    "    cfgs.append(new_cfg)"
   ]
  },
  {
   "cell_type": "code",
   "execution_count": null,
   "metadata": {},
   "outputs": [],
   "source": [
    "# from ese.experiment.analysis.inference import get_cal_stats\n",
    "# os.environ[\"CUDA_VISIBLE_DEVICES\"] = '0'\n",
    "\n",
    "# get_cal_stats(wmh_cfgs[0])"
   ]
  },
  {
   "cell_type": "code",
   "execution_count": null,
   "metadata": {},
   "outputs": [],
   "source": [
    "from ionpy.slite.submit import submit_jobs\n",
    "from ese.experiment.analysis.inference import get_cal_stats\n",
    "\n",
    "submit_jobs(\n",
    "    exp_name=exp_name,\n",
    "    config_list=cfgs, \n",
    "    job_func=get_cal_stats,\n",
    "    available_gpus=[\"2\"]\n",
    "    )"
   ]
  }
 ],
 "metadata": {
  "kernelspec": {
   "display_name": "UniverSegTF",
   "language": "python",
   "name": "universegtf"
  },
  "language_info": {
   "codemirror_mode": {
    "name": "ipython",
    "version": 3
   },
   "file_extension": ".py",
   "mimetype": "text/x-python",
   "name": "python",
   "nbconvert_exporter": "python",
   "pygments_lexer": "ipython3",
   "version": "3.9.16"
  },
  "orig_nbformat": 4
 },
 "nbformat": 4,
 "nbformat_minor": 2
}
