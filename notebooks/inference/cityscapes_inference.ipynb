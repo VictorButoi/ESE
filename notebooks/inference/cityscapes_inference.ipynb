{
 "cells": [
  {
   "cell_type": "code",
   "execution_count": null,
   "metadata": {},
   "outputs": [],
   "source": [
    "import sys\n",
    "sys.path.append('/storage/vbutoi/projects')\n",
    "sys.path.append('/storage/vbutoi/libraries')\n",
    "sys.path.append('/storage/vbutoi/projects/ESE')\n",
    "sys.path.append('/storage/vbutoi/projects/UniverSeg')\n",
    "import torch\n",
    "torch.set_printoptions(linewidth=200)\n",
    "import seaborn as sns\n",
    "sns.set_style(\"darkgrid\")\n",
    "\n",
    "import os \n",
    "os.environ['DATAPATH'] = ':'.join((\n",
    "       '/storage/vbutoi/datasets',\n",
    "))\n",
    "\n",
    "# Results loader object does everything\n",
    "from ionpy.analysis import ResultsLoader\n",
    "from pathlib import Path\n",
    "root = Path(\"/storage/vbutoi/scratch/ESE\")\n",
    "rs = ResultsLoader()\n",
    "\n",
    "# For using code without restarting.\n",
    "%load_ext autoreload\n",
    "%autoreload \n",
    "# For using yaml configs.\n",
    "%load_ext yamlmagic"
   ]
  },
  {
   "cell_type": "code",
   "execution_count": null,
   "metadata": {},
   "outputs": [],
   "source": [
    "training_exp_name = \"training/10_23_23_Dense_WMH\"\n",
    "\n",
    "dfc = rs.load_configs(\n",
    "    root / training_exp_name,\n",
    "    properties=False,\n",
    ")"
   ]
  },
  {
   "cell_type": "code",
   "execution_count": null,
   "metadata": {},
   "outputs": [],
   "source": [
    "%%yaml wmh_inference_config\n",
    "\n",
    "log:\n",
    "    root: '?'\n",
    "    log_interval: 50\n",
    "    track_image_level: True\n",
    "    track_pixel_level: True \n",
    "    save_calbration_error_maps: False \n",
    "\n",
    "model:\n",
    "    exp_root: '?'\n",
    "    num_workers: 1  \n",
    "\n",
    "dataset:\n",
    "    split: '?' \n",
    "    task: Amsterdam \n",
    "    slicing: dense_full \n",
    "    input_type: volume \n",
    "\n",
    "calibration:\n",
    "    conf_interval_start: 0.5\n",
    "    conf_interval_end: 1.0\n",
    "    num_bins: 10\n",
    "    neighborhood_width: 3\n",
    "\n",
    "score:\n",
    "    ignore_index: 0"
   ]
  },
  {
   "cell_type": "code",
   "execution_count": null,
   "metadata": {},
   "outputs": [],
   "source": [
    "%%yaml cal_metrics_cfg \n",
    "\n",
    "cal_metrics:\n",
    "    - ECE:\n",
    "        func: ese.experiment.metrics.ECE\n",
    "    - TL_ECE:\n",
    "        func: ese.experiment.metrics.TL_ECE\n",
    "    - CW_ECE:\n",
    "        func: ese.experiment.metrics.CW_ECE\n",
    "    - SUME:\n",
    "        func: ese.experiment.metrics.SUME\n",
    "    - TL_SUME:\n",
    "        func: ese.experiment.metrics.TL_SUME\n",
    "    - CW_SUME:\n",
    "        func: ese.experiment.metrics.CW_SUME"
   ]
  },
  {
   "cell_type": "code",
   "execution_count": 1,
   "metadata": {},
   "outputs": [
    {
     "ename": "NameError",
     "evalue": "name 'root' is not defined",
     "output_type": "error",
     "traceback": [
      "\u001b[0;31m---------------------------------------------------------------------------\u001b[0m",
      "\u001b[0;31mNameError\u001b[0m                                 Traceback (most recent call last)",
      "\u001b[1;32m/storage/vbutoi/projects/ESE/notebooks/inference/cityscapes_inference.ipynb Cell 5\u001b[0m line \u001b[0;36m9\n\u001b[1;32m      <a href='vscode-notebook-cell://ssh-remote%2Btwix/storage/vbutoi/projects/ESE/notebooks/inference/cityscapes_inference.ipynb#W4sdnNjb2RlLXJlbW90ZQ%3D%3D?line=3'>4</a>\u001b[0m inference_exp_name \u001b[39m=\u001b[39m \u001b[39m\"\u001b[39m\u001b[39minference/11_20_23_CityScapes_Inference\u001b[39m\u001b[39m\"\u001b[39m\n\u001b[1;32m      <a href='vscode-notebook-cell://ssh-remote%2Btwix/storage/vbutoi/projects/ESE/notebooks/inference/cityscapes_inference.ipynb#W4sdnNjb2RlLXJlbW90ZQ%3D%3D?line=5'>6</a>\u001b[0m \u001b[39m# Get the inference options.\u001b[39;00m\n\u001b[1;32m      <a href='vscode-notebook-cell://ssh-remote%2Btwix/storage/vbutoi/projects/ESE/notebooks/inference/cityscapes_inference.ipynb#W4sdnNjb2RlLXJlbW90ZQ%3D%3D?line=6'>7</a>\u001b[0m \u001b[39m##################################################\u001b[39;00m\n\u001b[1;32m      <a href='vscode-notebook-cell://ssh-remote%2Btwix/storage/vbutoi/projects/ESE/notebooks/inference/cityscapes_inference.ipynb#W4sdnNjb2RlLXJlbW90ZQ%3D%3D?line=7'>8</a>\u001b[0m dataset_options \u001b[39m=\u001b[39m {\n\u001b[0;32m----> <a href='vscode-notebook-cell://ssh-remote%2Btwix/storage/vbutoi/projects/ESE/notebooks/inference/cityscapes_inference.ipynb#W4sdnNjb2RlLXJlbW90ZQ%3D%3D?line=8'>9</a>\u001b[0m     \u001b[39m'\u001b[39m\u001b[39mlog.root\u001b[39m\u001b[39m'\u001b[39m: [root \u001b[39m+\u001b[39m inference_exp_name],\n\u001b[1;32m     <a href='vscode-notebook-cell://ssh-remote%2Btwix/storage/vbutoi/projects/ESE/notebooks/inference/cityscapes_inference.ipynb#W4sdnNjb2RlLXJlbW90ZQ%3D%3D?line=9'>10</a>\u001b[0m     \u001b[39m'\u001b[39m\u001b[39mmodel.exp_root\u001b[39m\u001b[39m'\u001b[39m: [root \u001b[39m+\u001b[39m training_exp_name],\n\u001b[1;32m     <a href='vscode-notebook-cell://ssh-remote%2Btwix/storage/vbutoi/projects/ESE/notebooks/inference/cityscapes_inference.ipynb#W4sdnNjb2RlLXJlbW90ZQ%3D%3D?line=10'>11</a>\u001b[0m     \u001b[39m'\u001b[39m\u001b[39mdataset.split\u001b[39m\u001b[39m'\u001b[39m: [\u001b[39m'\u001b[39m\u001b[39mcal\u001b[39m\u001b[39m'\u001b[39m],\n\u001b[1;32m     <a href='vscode-notebook-cell://ssh-remote%2Btwix/storage/vbutoi/projects/ESE/notebooks/inference/cityscapes_inference.ipynb#W4sdnNjb2RlLXJlbW90ZQ%3D%3D?line=11'>12</a>\u001b[0m }\n\u001b[1;32m     <a href='vscode-notebook-cell://ssh-remote%2Btwix/storage/vbutoi/projects/ESE/notebooks/inference/cityscapes_inference.ipynb#W4sdnNjb2RlLXJlbW90ZQ%3D%3D?line=13'>14</a>\u001b[0m base_cfg \u001b[39m=\u001b[39m Config(inference_config)\u001b[39m.\u001b[39mupdate(cal_metrics_cfg)\n\u001b[1;32m     <a href='vscode-notebook-cell://ssh-remote%2Btwix/storage/vbutoi/projects/ESE/notebooks/inference/cityscapes_inference.ipynb#W4sdnNjb2RlLXJlbW90ZQ%3D%3D?line=15'>16</a>\u001b[0m cfgs \u001b[39m=\u001b[39m []\n",
      "\u001b[0;31mNameError\u001b[0m: name 'root' is not defined"
     ]
    }
   ],
   "source": [
    "from ionpy.util import dict_product, Config\n",
    "\n",
    "# Need to define the experiment name\n",
    "inference_exp_root = str(root / \"inference/11_20_23_CityScapes_Inference\")\n",
    "\n",
    "# Get the inference options.\n",
    "##################################################\n",
    "dataset_options = {\n",
    "    'log.root': [inference_exp_root],\n",
    "    'model.exp_root': [str(root / training_exp_name)],\n",
    "    'dataset.split': ['cal'],\n",
    "}\n",
    "\n",
    "base_cfg = Config(inference_config).update(cal_metrics_cfg)\n",
    "\n",
    "cfgs = []\n",
    "for cfg_update in dict_product(dataset_options):\n",
    "    new_cfg = base_cfg.update(cfg_update)\n",
    "    cfgs.append(new_cfg)"
   ]
  },
  {
   "cell_type": "code",
   "execution_count": null,
   "metadata": {},
   "outputs": [],
   "source": [
    "# from ese.experiment.analysis.inference import get_cal_stats\n",
    "# os.environ[\"CUDA_VISIBLE_DEVICES\"] = '0'\n",
    "\n",
    "# get_cal_stats(wmh_cfgs[0])"
   ]
  },
  {
   "cell_type": "code",
   "execution_count": null,
   "metadata": {},
   "outputs": [],
   "source": [
    "from ionpy.slite.submit import submit_jobs\n",
    "from ese.experiment.analysis.inference import get_cal_stats\n",
    "\n",
    "submit_jobs(\n",
    "    exp_root=inference_exp_root,\n",
    "    config_list=cfgs, \n",
    "    job_func=get_cal_stats,\n",
    "    available_gpus=[\"0\"]\n",
    "    )"
   ]
  }
 ],
 "metadata": {
  "kernelspec": {
   "display_name": "UniverSegTF",
   "language": "python",
   "name": "universegtf"
  },
  "language_info": {
   "codemirror_mode": {
    "name": "ipython",
    "version": 3
   },
   "file_extension": ".py",
   "mimetype": "text/x-python",
   "name": "python",
   "nbconvert_exporter": "python",
   "pygments_lexer": "ipython3",
   "version": "3.9.16"
  },
  "orig_nbformat": 4
 },
 "nbformat": 4,
 "nbformat_minor": 2
}
