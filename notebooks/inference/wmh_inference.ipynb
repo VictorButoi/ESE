{
 "cells": [
  {
   "cell_type": "code",
   "execution_count": 1,
   "metadata": {},
   "outputs": [],
   "source": [
    "import sys\n",
    "sys.path.append('/storage/vbutoi/projects')\n",
    "sys.path.append('/storage/vbutoi/libraries')\n",
    "sys.path.append('/storage/vbutoi/projects/ESE')\n",
    "sys.path.append('/storage/vbutoi/projects/UniverSeg')\n",
    "import torch\n",
    "torch.set_printoptions(linewidth=200)\n",
    "import seaborn as sns\n",
    "sns.set_style(\"darkgrid\")\n",
    "\n",
    "import os \n",
    "os.environ['DATAPATH'] = ':'.join((\n",
    "       '/storage/vbutoi/datasets',\n",
    "))\n",
    "\n",
    "# Results loader object does everything\n",
    "from ionpy.analysis import ResultsLoader\n",
    "from pathlib import Path\n",
    "root = Path(\"/storage/vbutoi/scratch/ESE\")\n",
    "rs = ResultsLoader()\n",
    "\n",
    "# For using code without restarting.\n",
    "%load_ext autoreload\n",
    "%autoreload \n",
    "# For using yaml configs.\n",
    "%load_ext yamlmagic"
   ]
  },
  {
   "cell_type": "code",
   "execution_count": 2,
   "metadata": {},
   "outputs": [
    {
     "data": {
      "application/vnd.jupyter.widget-view+json": {
       "model_id": "18b66ba2edd34aaba3d4158db14442ed",
       "version_major": 2,
       "version_minor": 0
      },
      "text/plain": [
       "  0%|          | 0/6 [00:00<?, ?it/s]"
      ]
     },
     "metadata": {},
     "output_type": "display_data"
    }
   ],
   "source": [
    "training_exp_name = \"training/01_03_24_WMH_Ensemble\"\n",
    "\n",
    "dfc = rs.load_configs(\n",
    "    root / training_exp_name,\n",
    "    properties=False,\n",
    ")"
   ]
  },
  {
   "cell_type": "code",
   "execution_count": 3,
   "metadata": {},
   "outputs": [
    {
     "data": {
      "text/html": [
       "<div>\n",
       "<style scoped>\n",
       "    .dataframe tbody tr th:only-of-type {\n",
       "        vertical-align: middle;\n",
       "    }\n",
       "\n",
       "    .dataframe tbody tr th {\n",
       "        vertical-align: top;\n",
       "    }\n",
       "\n",
       "    .dataframe thead th {\n",
       "        text-align: right;\n",
       "    }\n",
       "</style>\n",
       "<table border=\"1\" class=\"dataframe\">\n",
       "  <thead>\n",
       "    <tr style=\"text-align: right;\">\n",
       "      <th></th>\n",
       "      <th>data</th>\n",
       "      <th>annotator</th>\n",
       "      <th>axis</th>\n",
       "      <th>in_channels</th>\n",
       "      <th>iters_per_epoch</th>\n",
       "      <th>num_slices</th>\n",
       "      <th>out_channels</th>\n",
       "      <th>preload</th>\n",
       "      <th>slicing</th>\n",
       "      <th>task</th>\n",
       "      <th>...</th>\n",
       "      <th>model</th>\n",
       "      <th>convs_per_block</th>\n",
       "      <th>filters</th>\n",
       "      <th>optim</th>\n",
       "      <th>lr</th>\n",
       "      <th>weight_decay</th>\n",
       "      <th>augmentations</th>\n",
       "      <th>epochs</th>\n",
       "      <th>eval_freq</th>\n",
       "      <th>path</th>\n",
       "    </tr>\n",
       "  </thead>\n",
       "  <tbody>\n",
       "    <tr>\n",
       "      <th>0</th>\n",
       "      <td>ese.experiment.datasets.WMH</td>\n",
       "      <td>observer_o12</td>\n",
       "      <td>0</td>\n",
       "      <td>1</td>\n",
       "      <td>1000</td>\n",
       "      <td>1</td>\n",
       "      <td>2</td>\n",
       "      <td>True</td>\n",
       "      <td>dense</td>\n",
       "      <td>Amsterdam</td>\n",
       "      <td>...</td>\n",
       "      <td>ese.experiment.models.UNet</td>\n",
       "      <td>3</td>\n",
       "      <td>(64, 64, 64, 64, 64)</td>\n",
       "      <td>torch.optim.Adam</td>\n",
       "      <td>0.0003</td>\n",
       "      <td>0.0</td>\n",
       "      <td>None</td>\n",
       "      <td>1000</td>\n",
       "      <td>5</td>\n",
       "      <td>/storage/vbutoi/scratch/ESE/training/01_03_24_...</td>\n",
       "    </tr>\n",
       "    <tr>\n",
       "      <th>1</th>\n",
       "      <td>ese.experiment.datasets.WMH</td>\n",
       "      <td>observer_o12</td>\n",
       "      <td>0</td>\n",
       "      <td>1</td>\n",
       "      <td>1000</td>\n",
       "      <td>1</td>\n",
       "      <td>2</td>\n",
       "      <td>True</td>\n",
       "      <td>dense</td>\n",
       "      <td>Amsterdam</td>\n",
       "      <td>...</td>\n",
       "      <td>ese.experiment.models.UNet</td>\n",
       "      <td>3</td>\n",
       "      <td>(64, 64, 64, 64, 64)</td>\n",
       "      <td>torch.optim.Adam</td>\n",
       "      <td>0.0003</td>\n",
       "      <td>0.0</td>\n",
       "      <td>None</td>\n",
       "      <td>1000</td>\n",
       "      <td>5</td>\n",
       "      <td>/storage/vbutoi/scratch/ESE/training/01_03_24_...</td>\n",
       "    </tr>\n",
       "    <tr>\n",
       "      <th>2</th>\n",
       "      <td>ese.experiment.datasets.WMH</td>\n",
       "      <td>observer_o12</td>\n",
       "      <td>0</td>\n",
       "      <td>1</td>\n",
       "      <td>1000</td>\n",
       "      <td>1</td>\n",
       "      <td>2</td>\n",
       "      <td>True</td>\n",
       "      <td>dense</td>\n",
       "      <td>Amsterdam</td>\n",
       "      <td>...</td>\n",
       "      <td>ese.experiment.models.UNet</td>\n",
       "      <td>3</td>\n",
       "      <td>(64, 64, 64, 64, 64)</td>\n",
       "      <td>torch.optim.Adam</td>\n",
       "      <td>0.0003</td>\n",
       "      <td>0.0</td>\n",
       "      <td>None</td>\n",
       "      <td>1000</td>\n",
       "      <td>5</td>\n",
       "      <td>/storage/vbutoi/scratch/ESE/training/01_03_24_...</td>\n",
       "    </tr>\n",
       "    <tr>\n",
       "      <th>3</th>\n",
       "      <td>ese.experiment.datasets.WMH</td>\n",
       "      <td>observer_o12</td>\n",
       "      <td>0</td>\n",
       "      <td>1</td>\n",
       "      <td>1000</td>\n",
       "      <td>1</td>\n",
       "      <td>2</td>\n",
       "      <td>True</td>\n",
       "      <td>dense</td>\n",
       "      <td>Amsterdam</td>\n",
       "      <td>...</td>\n",
       "      <td>ese.experiment.models.UNet</td>\n",
       "      <td>3</td>\n",
       "      <td>(64, 64, 64, 64, 64)</td>\n",
       "      <td>torch.optim.Adam</td>\n",
       "      <td>0.0003</td>\n",
       "      <td>0.0</td>\n",
       "      <td>None</td>\n",
       "      <td>1000</td>\n",
       "      <td>5</td>\n",
       "      <td>/storage/vbutoi/scratch/ESE/training/01_03_24_...</td>\n",
       "    </tr>\n",
       "  </tbody>\n",
       "</table>\n",
       "<p>4 rows × 30 columns</p>\n",
       "</div>"
      ],
      "text/plain": [
       "                          data     annotator  axis  in_channels  \\\n",
       "0  ese.experiment.datasets.WMH  observer_o12     0            1   \n",
       "1  ese.experiment.datasets.WMH  observer_o12     0            1   \n",
       "2  ese.experiment.datasets.WMH  observer_o12     0            1   \n",
       "3  ese.experiment.datasets.WMH  observer_o12     0            1   \n",
       "\n",
       "   iters_per_epoch  num_slices  out_channels  preload slicing       task  ...  \\\n",
       "0             1000           1             2     True   dense  Amsterdam  ...   \n",
       "1             1000           1             2     True   dense  Amsterdam  ...   \n",
       "2             1000           1             2     True   dense  Amsterdam  ...   \n",
       "3             1000           1             2     True   dense  Amsterdam  ...   \n",
       "\n",
       "                        model  convs_per_block               filters  \\\n",
       "0  ese.experiment.models.UNet                3  (64, 64, 64, 64, 64)   \n",
       "1  ese.experiment.models.UNet                3  (64, 64, 64, 64, 64)   \n",
       "2  ese.experiment.models.UNet                3  (64, 64, 64, 64, 64)   \n",
       "3  ese.experiment.models.UNet                3  (64, 64, 64, 64, 64)   \n",
       "\n",
       "              optim      lr weight_decay augmentations  epochs  eval_freq  \\\n",
       "0  torch.optim.Adam  0.0003          0.0          None    1000          5   \n",
       "1  torch.optim.Adam  0.0003          0.0          None    1000          5   \n",
       "2  torch.optim.Adam  0.0003          0.0          None    1000          5   \n",
       "3  torch.optim.Adam  0.0003          0.0          None    1000          5   \n",
       "\n",
       "                                                path  \n",
       "0  /storage/vbutoi/scratch/ESE/training/01_03_24_...  \n",
       "1  /storage/vbutoi/scratch/ESE/training/01_03_24_...  \n",
       "2  /storage/vbutoi/scratch/ESE/training/01_03_24_...  \n",
       "3  /storage/vbutoi/scratch/ESE/training/01_03_24_...  \n",
       "\n",
       "[4 rows x 30 columns]"
      ]
     },
     "execution_count": 3,
     "metadata": {},
     "output_type": "execute_result"
    }
   ],
   "source": [
    "dfc"
   ]
  },
  {
   "cell_type": "code",
   "execution_count": 4,
   "metadata": {},
   "outputs": [
    {
     "data": {
      "application/javascript": "\n            require(\n                [\n                    \"notebook/js/codecell\",\n                    \"codemirror/mode/yaml/yaml\"\n                ],\n                function(cc){\n                    cc.CodeCell.options_default.highlight_modes.magic_yaml = {\n                        reg: [\"^%%yaml\"]\n                    }\n                }\n            );\n            ",
      "text/plain": [
       "<IPython.core.display.Javascript object>"
      ]
     },
     "metadata": {},
     "output_type": "display_data"
    }
   ],
   "source": [
    "%%yaml inference_config\n",
    "\n",
    "log:\n",
    "    root: '?'\n",
    "    log_interval: 50\n",
    "    track_image_level: True \n",
    "    track_pixel_level: True \n",
    "    ignore_index: '?' \n",
    "\n",
    "experiment:\n",
    "    seed: 42\n",
    "\n",
    "dataset:\n",
    "    split: '?' \n",
    "    slicing: dense_full \n",
    "    input_type: volume \n",
    "    preload: True \n",
    "\n",
    "dataloader:\n",
    "    batch_size: 1 \n",
    "    num_workers: 1\n",
    "    pin_memory: True \n",
    "\n",
    "calibration:\n",
    "    conf_interval_start: 0.5\n",
    "    conf_interval_end: 1.0\n",
    "    num_bins: 10\n",
    "    neighborhood_width: 3\n",
    "    square_diff: False "
   ]
  },
  {
   "cell_type": "code",
   "execution_count": 5,
   "metadata": {},
   "outputs": [
    {
     "data": {
      "application/javascript": "\n            require(\n                [\n                    \"notebook/js/codecell\",\n                    \"codemirror/mode/yaml/yaml\"\n                ],\n                function(cc){\n                    cc.CodeCell.options_default.highlight_modes.magic_yaml = {\n                        reg: [\"^%%yaml\"]\n                    }\n                }\n            );\n            ",
      "text/plain": [
       "<IPython.core.display.Javascript object>"
      ]
     },
     "metadata": {},
     "output_type": "display_data"
    }
   ],
   "source": [
    "%%yaml model_cfg\n",
    "\n",
    "model:\n",
    "    exp_root : '?' \n",
    "    checkpoint: \"max-val-dice_score\"\n",
    "    pretrained_select_metric: \"val-dice_score\"\n",
    "    # ensemble: False \n",
    "    # ensemble_combine_fn: mean"
   ]
  },
  {
   "cell_type": "code",
   "execution_count": 6,
   "metadata": {},
   "outputs": [
    {
     "data": {
      "application/javascript": "\n            require(\n                [\n                    \"notebook/js/codecell\",\n                    \"codemirror/mode/yaml/yaml\"\n                ],\n                function(cc){\n                    cc.CodeCell.options_default.highlight_modes.magic_yaml = {\n                        reg: [\"^%%yaml\"]\n                    }\n                }\n            );\n            ",
      "text/plain": [
       "<IPython.core.display.Javascript object>"
      ]
     },
     "metadata": {},
     "output_type": "display_data"
    }
   ],
   "source": [
    "%%yaml metrics_cfg \n",
    "\n",
    "qual_metrics:\n",
    "    - Edge_ECE:\n",
    "        func: ese.experiment.metrics.ece.edge_ece_loss\n",
    "        metric_type: calibration\n",
    "    - ECW_ECE:\n",
    "        func: ese.experiment.metrics.ece.ecw_ece_loss\n",
    "        metric_type: calibration\n",
    "\n",
    "cal_metrics:\n",
    "    - ECE:\n",
    "        func: ese.experiment.metrics.ece.ece_loss\n",
    "    - CW_ECE:\n",
    "        func: ese.experiment.metrics.ece.cw_ece_loss\n",
    "    - ELM:\n",
    "        func: ese.experiment.metrics.elm.elm_loss\n",
    "    - CW_ELM:\n",
    "        func: ese.experiment.metrics.elm.cw_elm_loss"
   ]
  },
  {
   "cell_type": "code",
   "execution_count": 7,
   "metadata": {},
   "outputs": [],
   "source": [
    "from ionpy.util import dict_product, Config\n",
    "from ionpy.util.config import check_missing\n",
    "from ese.scripts.utils import gather_exp_paths\n",
    "\n",
    "# Need to define the experiment name\n",
    "inference_exp_root = str(root / \"inference/01_05_24_WMH_EnsembleInference\")\n",
    "\n",
    "# For ensembles, define the root dir.\n",
    "ensemble_root = \"/storage/vbutoi/scratch/ESE/training/01_03_24_WMH_Ensemble\"\n",
    "train_exp_paths = gather_exp_paths(ensemble_root)\n",
    "\n",
    "# Get the inference options.\n",
    "##################################################\n",
    "dataset_options = {\n",
    "    'log.root': [inference_exp_root],\n",
    "    'model.exp_root': train_exp_paths,\n",
    "    'log.ignore_index': [None],\n",
    "    'dataset.split': ['cal']\n",
    "}\n",
    "\n",
    "base_cfg = Config(inference_config).update([model_cfg, metrics_cfg])\n",
    "\n",
    "cfgs = []\n",
    "for cfg_update in dict_product(dataset_options):\n",
    "    new_cfg = base_cfg.update(cfg_update)\n",
    "    check_missing(new_cfg) # Verify there are no ? in config.\n",
    "    cfgs.append(new_cfg)"
   ]
  },
  {
   "cell_type": "code",
   "execution_count": 8,
   "metadata": {},
   "outputs": [],
   "source": [
    "# from ese.experiment.analysis.inference import get_cal_stats\n",
    "# os.environ[\"CUDA_VISIBLE_DEVICES\"] = '0'\n",
    "\n",
    "# get_cal_stats(cfgs[0])"
   ]
  },
  {
   "cell_type": "code",
   "execution_count": 9,
   "metadata": {},
   "outputs": [
    {
     "name": "stdout",
     "output_type": "stream",
     "text": [
      "Initalized SliteRunner\n",
      "Submitted job id: 1224059.\n",
      "Submitted job id: 1224068.\n",
      "Submitted job id: 1224082.\n",
      "Submitted job id: 1224088.\n"
     ]
    }
   ],
   "source": [
    "from ionpy.slite.submit import submit_jobs\n",
    "from ese.experiment.analysis.inference import get_cal_stats\n",
    "\n",
    "submit_jobs(\n",
    "    exp_root=inference_exp_root,\n",
    "    job_func=get_cal_stats,\n",
    "    config_list=cfgs, \n",
    "    available_gpus=[\"0\", \"1\", \"2\", \"3\"]\n",
    "    )"
   ]
  }
 ],
 "metadata": {
  "kernelspec": {
   "display_name": "UniverSegTF",
   "language": "python",
   "name": "universegtf"
  },
  "language_info": {
   "codemirror_mode": {
    "name": "ipython",
    "version": 3
   },
   "file_extension": ".py",
   "mimetype": "text/x-python",
   "name": "python",
   "nbconvert_exporter": "python",
   "pygments_lexer": "ipython3",
   "version": "3.9.16"
  },
  "orig_nbformat": 4
 },
 "nbformat": 4,
 "nbformat_minor": 2
}
