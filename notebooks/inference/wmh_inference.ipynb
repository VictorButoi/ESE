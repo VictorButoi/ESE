{
 "cells": [
  {
   "cell_type": "code",
   "execution_count": 1,
   "metadata": {},
   "outputs": [],
   "source": [
    "import sys\n",
    "sys.path.append('/storage/vbutoi/projects')\n",
    "sys.path.append('/storage/vbutoi/libraries')\n",
    "sys.path.append('/storage/vbutoi/projects/ESE')\n",
    "sys.path.append('/storage/vbutoi/projects/UniverSeg')\n",
    "import torch\n",
    "torch.set_printoptions(linewidth=200)\n",
    "import seaborn as sns\n",
    "sns.set_style(\"darkgrid\")\n",
    "\n",
    "import os \n",
    "os.environ['DATAPATH'] = ':'.join((\n",
    "       '/storage/vbutoi/datasets',\n",
    "))\n",
    "\n",
    "%load_ext yamlmagic\n",
    "\n",
    "%load_ext autoreload\n",
    "%autoreload "
   ]
  },
  {
   "cell_type": "code",
   "execution_count": 2,
   "metadata": {},
   "outputs": [
    {
     "data": {
      "application/javascript": "\n            require(\n                [\n                    \"notebook/js/codecell\",\n                    \"codemirror/mode/yaml/yaml\"\n                ],\n                function(cc){\n                    cc.CodeCell.options_default.highlight_modes.magic_yaml = {\n                        reg: [\"^%%yaml\"]\n                    }\n                }\n            );\n            ",
      "text/plain": [
       "<IPython.core.display.Javascript object>"
      ]
     },
     "metadata": {},
     "output_type": "display_data"
    }
   ],
   "source": [
    "%%yaml wmh_inference_config\n",
    "\n",
    "log:\n",
    "    root: '?'\n",
    "    log_interval: 50\n",
    "    track_image_level: True\n",
    "    track_pixel_level: True \n",
    "    save_calbration_error_maps: False \n",
    "\n",
    "model:\n",
    "    exp_root : /storage/vbutoi/scratch/ESE/training/10_23_23_Dense_WMH\n",
    "    num_workers: 1  \n",
    "\n",
    "dataset:\n",
    "    split: '?' \n",
    "    task: Amsterdam \n",
    "    slicing: dense_full \n",
    "    input_type: volume \n",
    "\n",
    "calibration:\n",
    "    bin_weightings:\n",
    "        - proportional\n",
    "    conf_interval_start: 0.5\n",
    "    conf_interval_end: 1.0\n",
    "    num_bins: 10\n",
    "\n",
    "score:\n",
    "    ignore_index: 0"
   ]
  },
  {
   "cell_type": "code",
   "execution_count": 3,
   "metadata": {},
   "outputs": [
    {
     "data": {
      "application/javascript": "\n            require(\n                [\n                    \"notebook/js/codecell\",\n                    \"codemirror/mode/yaml/yaml\"\n                ],\n                function(cc){\n                    cc.CodeCell.options_default.highlight_modes.magic_yaml = {\n                        reg: [\"^%%yaml\"]\n                    }\n                }\n            );\n            ",
      "text/plain": [
       "<IPython.core.display.Javascript object>"
      ]
     },
     "metadata": {},
     "output_type": "display_data"
    }
   ],
   "source": [
    "%%yaml cal_metrics_cfg \n",
    "\n",
    "cal_metrics:\n",
    "    - ECE:\n",
    "        func: ese.experiment.metrics.ECE\n",
    "    - TL_ECE:\n",
    "        func: ese.experiment.metrics.TL_ECE\n",
    "    - CW_ECE:\n",
    "        func: ese.experiment.metrics.CW_ECE\n",
    "    - SUME:\n",
    "        func: ese.experiment.metrics.SUME\n",
    "    - TL_SUME:\n",
    "        func: ese.experiment.metrics.TL_SUME\n",
    "    - CW_SUME:\n",
    "        func: ese.experiment.metrics.CW_SUME"
   ]
  },
  {
   "cell_type": "code",
   "execution_count": 4,
   "metadata": {},
   "outputs": [],
   "source": [
    "from ionpy.util import dict_product, Config\n",
    "\n",
    "# Need to define the experiment name\n",
    "exp_name = \"11_16_23_WMH_Label0_Cal\"\n",
    "\n",
    "# Get the options for WMH\n",
    "##################################################\n",
    "wmh_dataset_options = {\n",
    "    'log.root': [f'/storage/vbutoi/scratch/ESE/inference/{exp_name}'],\n",
    "    'dataset.split': ['cal'],\n",
    "}\n",
    "\n",
    "base_wmh_cfg = Config(wmh_inference_config).update(cal_metrics_cfg)\n",
    "\n",
    "wmh_cfgs = []\n",
    "for cfg_update in dict_product(wmh_dataset_options):\n",
    "    new_wmh_cfg = base_wmh_cfg.update(cfg_update)\n",
    "    wmh_cfgs.append(new_wmh_cfg)"
   ]
  },
  {
   "cell_type": "code",
   "execution_count": 5,
   "metadata": {},
   "outputs": [
    {
     "data": {
      "application/vnd.jupyter.widget-view+json": {
       "model_id": "4515eae970524b34bc4a8e5772a1616a",
       "version_major": 2,
       "version_minor": 0
      },
      "text/plain": [
       "  0%|          | 0/4 [00:00<?, ?it/s]"
      ]
     },
     "metadata": {},
     "output_type": "display_data"
    },
    {
     "data": {
      "application/vnd.jupyter.widget-view+json": {
       "model_id": "9e8f2c33441c4d8291204e83d143e513",
       "version_major": 2,
       "version_minor": 0
      },
      "text/plain": [
       "  0%|          | 0/2 [00:00<?, ?it/s]"
      ]
     },
     "metadata": {},
     "output_type": "display_data"
    },
    {
     "name": "stderr",
     "output_type": "stream",
     "text": [
      "/storage/vbutoi/projects/ionpy/util/libcheck.py:57: UserWarning: Using slow Pillow instead of Pillow-SIMD\n",
      "  warn(\"Using slow Pillow instead of Pillow-SIMD\")\n"
     ]
    },
    {
     "name": "stdout",
     "output_type": "stream",
     "text": [
      "-> Working on slice #0 out of 86 (0.00%)\r"
     ]
    },
    {
     "ename": "KeyError",
     "evalue": "'ignore_index'",
     "output_type": "error",
     "traceback": [
      "\u001b[0;31m---------------------------------------------------------------------------\u001b[0m",
      "\u001b[0;31mKeyError\u001b[0m                                  Traceback (most recent call last)",
      "\u001b[1;32m/storage/vbutoi/projects/ESE/notebooks/inference/wmh_inference.ipynb Cell 5\u001b[0m line \u001b[0;36m4\n\u001b[1;32m      <a href='vscode-notebook-cell://ssh-remote%2Btwix/storage/vbutoi/projects/ESE/notebooks/inference/wmh_inference.ipynb#W4sdnNjb2RlLXJlbW90ZQ%3D%3D?line=0'>1</a>\u001b[0m \u001b[39mfrom\u001b[39;00m \u001b[39mese\u001b[39;00m\u001b[39m.\u001b[39;00m\u001b[39mexperiment\u001b[39;00m\u001b[39m.\u001b[39;00m\u001b[39manalysis\u001b[39;00m\u001b[39m.\u001b[39;00m\u001b[39minference\u001b[39;00m \u001b[39mimport\u001b[39;00m get_cal_stats\n\u001b[1;32m      <a href='vscode-notebook-cell://ssh-remote%2Btwix/storage/vbutoi/projects/ESE/notebooks/inference/wmh_inference.ipynb#W4sdnNjb2RlLXJlbW90ZQ%3D%3D?line=1'>2</a>\u001b[0m os\u001b[39m.\u001b[39menviron[\u001b[39m\"\u001b[39m\u001b[39mCUDA_VISIBLE_DEVICES\u001b[39m\u001b[39m\"\u001b[39m] \u001b[39m=\u001b[39m \u001b[39m'\u001b[39m\u001b[39m0\u001b[39m\u001b[39m'\u001b[39m\n\u001b[0;32m----> <a href='vscode-notebook-cell://ssh-remote%2Btwix/storage/vbutoi/projects/ESE/notebooks/inference/wmh_inference.ipynb#W4sdnNjb2RlLXJlbW90ZQ%3D%3D?line=3'>4</a>\u001b[0m get_cal_stats(wmh_cfgs[\u001b[39m0\u001b[39;49m])\n",
      "File \u001b[0;32m~/envs/UniverSegTF/lib/python3.9/site-packages/pydantic/decorator.py:40\u001b[0m, in \u001b[0;36mpydantic.decorator.validate_arguments.validate.wrapper_function\u001b[0;34m()\u001b[0m\n",
      "File \u001b[0;32m~/envs/UniverSegTF/lib/python3.9/site-packages/pydantic/decorator.py:134\u001b[0m, in \u001b[0;36mpydantic.decorator.ValidatedFunction.call\u001b[0;34m()\u001b[0m\n",
      "File \u001b[0;32m~/envs/UniverSegTF/lib/python3.9/site-packages/pydantic/decorator.py:206\u001b[0m, in \u001b[0;36mpydantic.decorator.ValidatedFunction.execute\u001b[0;34m()\u001b[0m\n",
      "File \u001b[0;32m/storage/vbutoi/projects/ESE/ese/experiment/analysis/inference.py:215\u001b[0m, in \u001b[0;36mget_cal_stats\u001b[0;34m(cfg, uuid, data_split, split_data_ids)\u001b[0m\n\u001b[1;32m    211\u001b[0m \u001b[39m# Only run the loop if we are using all the data or if the batch_id is in the data_ids.\u001b[39;00m\n\u001b[1;32m    212\u001b[0m \u001b[39m# we do [0] because the batchsize is 1.\u001b[39;00m\n\u001b[1;32m    213\u001b[0m \u001b[39mif\u001b[39;00m split_data_ids \u001b[39mis\u001b[39;00m \u001b[39mNone\u001b[39;00m \u001b[39mor\u001b[39;00m batch_data_id[\u001b[39m0\u001b[39m] \u001b[39min\u001b[39;00m split_data_ids:\n\u001b[1;32m    214\u001b[0m     \u001b[39m# Run the forward loop\u001b[39;00m\n\u001b[0;32m--> 215\u001b[0m     forward_loop_func(\n\u001b[1;32m    216\u001b[0m         exp\u001b[39m=\u001b[39;49mbest_exp, \n\u001b[1;32m    217\u001b[0m         batch\u001b[39m=\u001b[39;49mbatch, \n\u001b[1;32m    218\u001b[0m         inference_cfg\u001b[39m=\u001b[39;49mcfg_dict, \n\u001b[1;32m    219\u001b[0m         metric_cfgs\u001b[39m=\u001b[39;49mmetric_cfgs,\n\u001b[1;32m    220\u001b[0m         conf_bins\u001b[39m=\u001b[39;49mconf_bins,\n\u001b[1;32m    221\u001b[0m         conf_bin_widths\u001b[39m=\u001b[39;49mconf_bin_widths,\n\u001b[1;32m    222\u001b[0m         image_level_records\u001b[39m=\u001b[39;49mimage_level_records,\n\u001b[1;32m    223\u001b[0m         pixel_meter_dict\u001b[39m=\u001b[39;49mpixel_meter_dict\n\u001b[1;32m    224\u001b[0m     )\n\u001b[1;32m    225\u001b[0m \u001b[39m# Save the records every so often, to get intermediate results. Note, because of data_ids\u001b[39;00m\n\u001b[1;32m    226\u001b[0m \u001b[39m# this can contain fewer than 'log interval' many items.\u001b[39;00m\n\u001b[1;32m    227\u001b[0m \u001b[39mif\u001b[39;00m batch_idx \u001b[39m%\u001b[39m cfg[\u001b[39m'\u001b[39m\u001b[39mlog\u001b[39m\u001b[39m'\u001b[39m][\u001b[39m'\u001b[39m\u001b[39mlog_interval\u001b[39m\u001b[39m'\u001b[39m] \u001b[39m==\u001b[39m \u001b[39m0\u001b[39m:\n",
      "File \u001b[0;32m~/envs/UniverSegTF/lib/python3.9/site-packages/pydantic/decorator.py:40\u001b[0m, in \u001b[0;36mpydantic.decorator.validate_arguments.validate.wrapper_function\u001b[0;34m()\u001b[0m\n",
      "File \u001b[0;32m~/envs/UniverSegTF/lib/python3.9/site-packages/pydantic/decorator.py:134\u001b[0m, in \u001b[0;36mpydantic.decorator.ValidatedFunction.call\u001b[0;34m()\u001b[0m\n",
      "File \u001b[0;32m~/envs/UniverSegTF/lib/python3.9/site-packages/pydantic/decorator.py:206\u001b[0m, in \u001b[0;36mpydantic.decorator.ValidatedFunction.execute\u001b[0;34m()\u001b[0m\n",
      "File \u001b[0;32m/storage/vbutoi/projects/ESE/ese/experiment/analysis/inference.py:268\u001b[0m, in \u001b[0;36mvolume_forward_loop\u001b[0;34m(exp, batch, inference_cfg, metric_cfgs, conf_bins, conf_bin_widths, image_level_records, pixel_meter_dict)\u001b[0m\n\u001b[1;32m    266\u001b[0m \u001b[39m# Get the prediction\u001b[39;00m\n\u001b[1;32m    267\u001b[0m conf_map, pred_map \u001b[39m=\u001b[39m exp\u001b[39m.\u001b[39mpredict(image_cuda, multi_class\u001b[39m=\u001b[39m\u001b[39mTrue\u001b[39;00m)\n\u001b[0;32m--> 268\u001b[0m get_calibration_item_info(\n\u001b[1;32m    269\u001b[0m     conf_map\u001b[39m=\u001b[39;49mconf_map,\n\u001b[1;32m    270\u001b[0m     pred_map\u001b[39m=\u001b[39;49mpred_map,\n\u001b[1;32m    271\u001b[0m     label_map\u001b[39m=\u001b[39;49mlabel_map_cuda,\n\u001b[1;32m    272\u001b[0m     data_id\u001b[39m=\u001b[39;49mdata_id,\n\u001b[1;32m    273\u001b[0m     inference_cfg\u001b[39m=\u001b[39;49minference_cfg,\n\u001b[1;32m    274\u001b[0m     metric_cfgs\u001b[39m=\u001b[39;49mmetric_cfgs,\n\u001b[1;32m    275\u001b[0m     conf_bins\u001b[39m=\u001b[39;49mconf_bins,\n\u001b[1;32m    276\u001b[0m     conf_bin_widths\u001b[39m=\u001b[39;49mconf_bin_widths,\n\u001b[1;32m    277\u001b[0m     image_level_records\u001b[39m=\u001b[39;49mimage_level_records,\n\u001b[1;32m    278\u001b[0m     pixel_meter_dict\u001b[39m=\u001b[39;49mpixel_meter_dict,\n\u001b[1;32m    279\u001b[0m     slice_idx\u001b[39m=\u001b[39;49mslice_idx,\n\u001b[1;32m    280\u001b[0m )\n",
      "File \u001b[0;32m~/envs/UniverSegTF/lib/python3.9/site-packages/pydantic/decorator.py:40\u001b[0m, in \u001b[0;36mpydantic.decorator.validate_arguments.validate.wrapper_function\u001b[0;34m()\u001b[0m\n",
      "File \u001b[0;32m~/envs/UniverSegTF/lib/python3.9/site-packages/pydantic/decorator.py:134\u001b[0m, in \u001b[0;36mpydantic.decorator.ValidatedFunction.call\u001b[0;34m()\u001b[0m\n",
      "File \u001b[0;32m~/envs/UniverSegTF/lib/python3.9/site-packages/pydantic/decorator.py:206\u001b[0m, in \u001b[0;36mpydantic.decorator.ValidatedFunction.execute\u001b[0;34m()\u001b[0m\n",
      "File \u001b[0;32m/storage/vbutoi/projects/ESE/ese/experiment/analysis/inference.py:431\u001b[0m, in \u001b[0;36mget_calibration_item_info\u001b[0;34m(conf_map, pred_map, label_map, data_id, inference_cfg, metric_cfgs, conf_bins, conf_bin_widths, image_level_records, pixel_meter_dict, slice_idx, ignore_index)\u001b[0m\n\u001b[1;32m    418\u001b[0m cal_metric_name \u001b[39m=\u001b[39m \u001b[39mlist\u001b[39m(cal_metric\u001b[39m.\u001b[39mkeys())[\u001b[39m0\u001b[39m] \u001b[39m# kind of hacky\u001b[39;00m\n\u001b[1;32m    419\u001b[0m \u001b[39mfor\u001b[39;00m bin_weighting \u001b[39min\u001b[39;00m inference_cfg[\u001b[39m\"\u001b[39m\u001b[39mcalibration\u001b[39m\u001b[39m\"\u001b[39m][\u001b[39m\"\u001b[39m\u001b[39mbin_weightings\u001b[39m\u001b[39m\"\u001b[39m]:\n\u001b[1;32m    420\u001b[0m     \u001b[39m# Get the calibration metric\u001b[39;00m\n\u001b[1;32m    421\u001b[0m     cal_m_error \u001b[39m=\u001b[39m cal_metric[cal_metric_name][\u001b[39m'\u001b[39m\u001b[39mfunc\u001b[39m\u001b[39m'\u001b[39m](\n\u001b[1;32m    422\u001b[0m         num_bins\u001b[39m=\u001b[39minference_cfg[\u001b[39m\"\u001b[39m\u001b[39mcalibration\u001b[39m\u001b[39m\"\u001b[39m][\u001b[39m\"\u001b[39m\u001b[39mnum_bins\u001b[39m\u001b[39m\"\u001b[39m],\n\u001b[1;32m    423\u001b[0m         conf_interval\u001b[39m=\u001b[39m[\n\u001b[1;32m    424\u001b[0m             inference_cfg[\u001b[39m\"\u001b[39m\u001b[39mcalibration\u001b[39m\u001b[39m\"\u001b[39m][\u001b[39m\"\u001b[39m\u001b[39mconf_interval_start\u001b[39m\u001b[39m\"\u001b[39m],\n\u001b[1;32m    425\u001b[0m             inference_cfg[\u001b[39m\"\u001b[39m\u001b[39mcalibration\u001b[39m\u001b[39m\"\u001b[39m][\u001b[39m\"\u001b[39m\u001b[39mconf_interval_end\u001b[39m\u001b[39m\"\u001b[39m]\n\u001b[1;32m    426\u001b[0m         ],\n\u001b[1;32m    427\u001b[0m         conf_map\u001b[39m=\u001b[39mconf_map,\n\u001b[1;32m    428\u001b[0m         pred_map\u001b[39m=\u001b[39mpred_map,\n\u001b[1;32m    429\u001b[0m         label_map\u001b[39m=\u001b[39mlabel_map,\n\u001b[1;32m    430\u001b[0m         weighting\u001b[39m=\u001b[39mbin_weighting,\n\u001b[0;32m--> 431\u001b[0m         ignore_idx\u001b[39m=\u001b[39minference_cfg[\u001b[39m\"\u001b[39;49m\u001b[39mcalibration\u001b[39;49m\u001b[39m\"\u001b[39;49m][\u001b[39m\"\u001b[39;49m\u001b[39mignore_index\u001b[39;49m\u001b[39m\"\u001b[39;49m]\n\u001b[1;32m    432\u001b[0m     )[\u001b[39m'\u001b[39m\u001b[39mcal_error\u001b[39m\u001b[39m'\u001b[39m] \n\u001b[1;32m    433\u001b[0m     \u001b[39m# Modify the metric name to remove underscores.\u001b[39;00m\n\u001b[1;32m    434\u001b[0m     cal_met_type \u001b[39m=\u001b[39m cal_metric_name\u001b[39m.\u001b[39msplit(\u001b[39m\"\u001b[39m\u001b[39m_\u001b[39m\u001b[39m\"\u001b[39m)[\u001b[39m-\u001b[39m\u001b[39m1\u001b[39m]\n",
      "\u001b[0;31mKeyError\u001b[0m: 'ignore_index'"
     ]
    }
   ],
   "source": [
    "from ese.experiment.analysis.inference import get_cal_stats\n",
    "os.environ[\"CUDA_VISIBLE_DEVICES\"] = '0'\n",
    "\n",
    "get_cal_stats(wmh_cfgs[0])"
   ]
  },
  {
   "cell_type": "code",
   "execution_count": null,
   "metadata": {},
   "outputs": [],
   "source": [
    "# from ionpy.slite.submit import submit_jobs\n",
    "# from ese.experiment.analysis.inference import get_cal_stats\n",
    "\n",
    "# submit_jobs(\n",
    "#     project=\"ESE\",\n",
    "#     exp_name=exp_name,\n",
    "#     job_mode=\"inference\",\n",
    "#     config_list=wmh_cfgs, \n",
    "#     job_func=get_cal_stats,\n",
    "#     available_gpus=[\"0\"]\n",
    "#     )"
   ]
  }
 ],
 "metadata": {
  "kernelspec": {
   "display_name": "UniverSegTF",
   "language": "python",
   "name": "universegtf"
  },
  "language_info": {
   "codemirror_mode": {
    "name": "ipython",
    "version": 3
   },
   "file_extension": ".py",
   "mimetype": "text/x-python",
   "name": "python",
   "nbconvert_exporter": "python",
   "pygments_lexer": "ipython3",
   "version": "3.9.16"
  },
  "orig_nbformat": 4
 },
 "nbformat": 4,
 "nbformat_minor": 2
}
