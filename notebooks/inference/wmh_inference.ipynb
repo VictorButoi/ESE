{
 "cells": [
  {
   "cell_type": "code",
   "execution_count": 1,
   "metadata": {},
   "outputs": [],
   "source": [
    "import sys\n",
    "sys.path.append('/storage/vbutoi/projects')\n",
    "sys.path.append('/storage/vbutoi/libraries')\n",
    "sys.path.append('/storage/vbutoi/projects/ESE')\n",
    "sys.path.append('/storage/vbutoi/projects/UniverSeg')\n",
    "import torch\n",
    "torch.set_printoptions(linewidth=200)\n",
    "import seaborn as sns\n",
    "sns.set_style(\"darkgrid\")\n",
    "\n",
    "import os \n",
    "os.environ['DATAPATH'] = ':'.join((\n",
    "       '/storage/vbutoi/datasets',\n",
    "))\n",
    "\n",
    "# Results loader object does everything\n",
    "from ionpy.analysis import ResultsLoader\n",
    "from pathlib import Path\n",
    "root = Path(\"/storage/vbutoi/scratch/ESE\")\n",
    "rs = ResultsLoader()\n",
    "\n",
    "\n",
    "# For using code without restarting.\n",
    "%load_ext autoreload\n",
    "%autoreload \n",
    "# For using yaml configs.\n",
    "%load_ext yamlmagic"
   ]
  },
  {
   "cell_type": "code",
   "execution_count": 2,
   "metadata": {},
   "outputs": [
    {
     "data": {
      "application/javascript": "\n            require(\n                [\n                    \"notebook/js/codecell\",\n                    \"codemirror/mode/yaml/yaml\"\n                ],\n                function(cc){\n                    cc.CodeCell.options_default.highlight_modes.magic_yaml = {\n                        reg: [\"^%%yaml\"]\n                    }\n                }\n            );\n            ",
      "text/plain": [
       "<IPython.core.display.Javascript object>"
      ]
     },
     "metadata": {},
     "output_type": "display_data"
    }
   ],
   "source": [
    "%%yaml inference_config\n",
    "\n",
    "log:\n",
    "    root: '?'\n",
    "    log_interval: 5\n",
    "    log_image_stats: '?' \n",
    "    log_pixel_stats: '?' \n",
    "    show_examples: '?' \n",
    "\n",
    "experiment:\n",
    "    seed: 42\n",
    "\n",
    "data:\n",
    "    split: cal \n",
    "    slicing: dense_full \n",
    "    input_type: volume \n",
    "    preload: '?' \n",
    "\n",
    "dataloader:\n",
    "    batch_size: 1 \n",
    "    num_workers: 1\n",
    "    pin_memory: True \n",
    "\n",
    "calibration:\n",
    "    num_bins: 10\n",
    "    neighborhood_width: 3\n",
    "    square_diff: False \n",
    "    conf_interval:\n",
    "        - 0.5\n",
    "        - 1.0"
   ]
  },
  {
   "cell_type": "code",
   "execution_count": 3,
   "metadata": {},
   "outputs": [
    {
     "data": {
      "application/javascript": "\n            require(\n                [\n                    \"notebook/js/codecell\",\n                    \"codemirror/mode/yaml/yaml\"\n                ],\n                function(cc){\n                    cc.CodeCell.options_default.highlight_modes.magic_yaml = {\n                        reg: [\"^%%yaml\"]\n                    }\n                }\n            );\n            ",
      "text/plain": [
       "<IPython.core.display.Javascript object>"
      ]
     },
     "metadata": {},
     "output_type": "display_data"
    }
   ],
   "source": [
    "%%yaml model_cfg\n",
    "\n",
    "model:\n",
    "    pretrained_exp_root : '?' \n",
    "    checkpoint: '?' \n",
    "    ensemble: '?' \n",
    "    ensemble_pre_softmax: '?'\n",
    "    ensemble_combine_fn: '?' \n",
    "    pretrained_select_metric: \"val-dice_score\""
   ]
  },
  {
   "cell_type": "code",
   "execution_count": 4,
   "metadata": {},
   "outputs": [
    {
     "data": {
      "application/javascript": "\n            require(\n                [\n                    \"notebook/js/codecell\",\n                    \"codemirror/mode/yaml/yaml\"\n                ],\n                function(cc){\n                    cc.CodeCell.options_default.highlight_modes.magic_yaml = {\n                        reg: [\"^%%yaml\"]\n                    }\n                }\n            );\n            ",
      "text/plain": [
       "<IPython.core.display.Javascript object>"
      ]
     },
     "metadata": {},
     "output_type": "display_data"
    }
   ],
   "source": [
    "%%yaml metrics_cfg \n",
    "\n",
    "qual_metrics:\n",
    "    - Dice:\n",
    "        _fn: ese.experiment.metrics.dice_score\n",
    "        from_logits: True\n",
    "        batch_reduction: 'mean' \n",
    "        ignore_empty_labels: False # This is a WMH specific setting.\n",
    "        ignore_index: 0 # Ignore background class when reporting.\n",
    "        metric_type: quality\n",
    "    - HD95:\n",
    "        _fn: ese.experiment.metrics.hd95\n",
    "        from_logits: True\n",
    "        batch_reduction: 'mean' \n",
    "        ignore_empty_labels: False # This is a WMH specific setting.\n",
    "        ignore_index: 0 # Ignore background class when reporting.\n",
    "        metric_type: quality\n",
    "\n",
    "image_cal_metrics:\n",
    "    - Image_ECE:\n",
    "        _fn: ese.experiment.metrics.ece.image_ece_loss\n",
    "    - Image_Edge-ECE:\n",
    "        _fn: ese.experiment.metrics.ece.image_edge_ece_loss\n",
    "    - Image_CW-ECE:\n",
    "        _fn: ese.experiment.metrics.ece.image_cw_ece_loss\n",
    "    - Image_ELM:\n",
    "        _fn: ese.experiment.metrics.elm.image_elm_loss\n",
    "    - Image_Foreground-ECE:\n",
    "        _fn: ese.experiment.metrics.ece.image_ece_loss\n",
    "        ignore_index: 0\n",
    "    - Image_Foreground-Edge-ECE:\n",
    "        _fn: ese.experiment.metrics.ece.image_edge_ece_loss\n",
    "        ignore_index: 0\n",
    "    - Image_Foreground-CW-ECE:\n",
    "        _fn: ese.experiment.metrics.ece.image_cw_ece_loss\n",
    "        ignore_index: 0\n",
    "    - Image_Foreground-ELM:\n",
    "        _fn: ese.experiment.metrics.elm.image_elm_loss\n",
    "        ignore_index: 0\n",
    "\n",
    "# Define global metrics when you want to verify that these are the same as the image\n",
    "# based metrics, per image.\n",
    "global_cal_metrics:\n",
    "    - ECE:\n",
    "        _fn: ese.experiment.metrics.ece.ece_loss\n",
    "    - Edge-ECE:\n",
    "        _fn: ese.experiment.metrics.ece.edge_ece_loss\n",
    "    - CW-ECE:\n",
    "        _fn: ese.experiment.metrics.ece.cw_ece_loss\n",
    "    - ELM:\n",
    "        _fn: ese.experiment.metrics.elm.elm_loss\n",
    "    - Foreground-ECE:\n",
    "        _fn: ese.experiment.metrics.ece.ece_loss\n",
    "        ignore_index: 0\n",
    "    - Foreground-Edge-ECE:\n",
    "        _fn: ese.experiment.metrics.ece.edge_ece_loss\n",
    "        ignore_index: 0\n",
    "    - Foreground-CW-ECE:\n",
    "        _fn: ese.experiment.metrics.ece.cw_ece_loss\n",
    "        ignore_index: 0\n",
    "    - Foreground-ELM:\n",
    "        _fn: ese.experiment.metrics.elm.elm_loss\n",
    "        ignore_index: 0"
   ]
  },
  {
   "cell_type": "code",
   "execution_count": 5,
   "metadata": {},
   "outputs": [],
   "source": [
    "from ionpy.util import dict_product, Config\n",
    "from ionpy.util.config import check_missing\n",
    "from ese.scripts.utils import gather_exp_paths\n",
    "\n",
    "def get_ese_inference_configs(\n",
    "        calibrator, \n",
    "        do_ensemble: bool, \n",
    "        log_image_stats: bool,\n",
    "        log_pixel_stats: bool,\n",
    "        group_string: str,\n",
    "        calibration_group: str,\n",
    "        preload: bool = False, \n",
    "        show_examples: bool = False,\n",
    "        ):\n",
    "    # Define the paths for the uncailbrated networks.\n",
    "    ##################################################\n",
    "    if calibrator == \"None\":\n",
    "        calibrator = \"Uncalibrated\"\n",
    "        ensemble_root = \"/storage/vbutoi/scratch/ESE/training/01_08_24_WMH_Ensemble\"\n",
    "        checkpoint = \"max-val-dice_score\" \n",
    "    # Define the paths for the calibrated networks.\n",
    "    ##################################################\n",
    "    else:\n",
    "        ensemble_root = f\"/storage/vbutoi/scratch/ESE/calibration/{calibration_group}/Individual_{calibrator}\"\n",
    "        checkpoint = \"min-val-ece_loss\"\n",
    "\n",
    "    # Set a few things that will be consistent for all runs.\n",
    "    ##################################################\n",
    "    default_config_options = {\n",
    "        'model.checkpoint': [checkpoint],\n",
    "        'data.preload': [preload],\n",
    "        'log.show_examples': [show_examples],\n",
    "        'log.log_image_stats': [log_image_stats],\n",
    "        'log.log_pixel_stats': [log_pixel_stats]\n",
    "    }\n",
    "\n",
    "    exp_root = root / \"inference\" / (group_string)\n",
    "    # Make presets for the different runnning configurations.\n",
    "    ##################################################\n",
    "    # If you want to run inference on ensembles, use this.\n",
    "    if do_ensemble:\n",
    "        advanced_args = {\n",
    "            'log.root': [str(exp_root / f\"WMH_Ensemble_{calibrator}\")],\n",
    "            'model.pretrained_exp_root': [ensemble_root],\n",
    "            'model.ensemble': [True],\n",
    "            'model.ensemble_pre_softmax': [True, False],\n",
    "            'model.ensemble_combine_fn': ['mean'],\n",
    "        }\n",
    "    # If you want to run inference on individual networks, use this.\n",
    "    else:\n",
    "        advanced_args = {\n",
    "            'log.root': [str(exp_root / f\"WMH_Individual_{calibrator}\")],\n",
    "            'model.pretrained_exp_root': gather_exp_paths(ensemble_root), # Note this is a list of train exp paths.\n",
    "            'model.ensemble': [False],\n",
    "            'model.ensemble_pre_softmax': [None],\n",
    "            'model.ensemble_combine_fn': [None],\n",
    "        }\n",
    "    # Combine the default and advanced arguments.\n",
    "    default_config_options.update(advanced_args)\n",
    "    log_root = default_config_options['log.root'][0]\n",
    "    return default_config_options, log_root"
   ]
  },
  {
   "cell_type": "code",
   "execution_count": 6,
   "metadata": {},
   "outputs": [],
   "source": [
    "# Calibrators\n",
    "# None\n",
    "# TempScaling\n",
    "# VectorScaling\n",
    "# DirichletScaling\n",
    "# LTS\n",
    "\n",
    "# Calibration groups\n",
    "# 01_07_24_WMH_CalibrationGroup \n",
    "# 01_12_24_WMH_Ignore0_CalibrationGroup \n",
    "\n",
    "from datetime import datetime\n",
    "# Get today's date\n",
    "today_date = datetime.now()\n",
    "# Format the date as MM_DD_YY\n",
    "formatted_date = today_date.strftime(\"%m_%d_%y\")\n",
    "\n",
    "# Get the configs for the different runs.\n",
    "dataset_options, log_root = get_ese_inference_configs(\n",
    "    calibrator=\"None\", \n",
    "    do_ensemble=True, \n",
    "    calibration_group='01_12_24_WMH_Ignore0_CalibrationGroup',\n",
    "    group_string=f\"{formatted_date}_GroupCalAnalysis\",\n",
    "    log_image_stats=True,\n",
    "    log_pixel_stats=True,\n",
    "    show_examples=True,\n",
    "    preload=False\n",
    ")"
   ]
  },
  {
   "cell_type": "code",
   "execution_count": 7,
   "metadata": {},
   "outputs": [],
   "source": [
    "# Build the configs.\n",
    "##################################################\n",
    "base_cfg = Config(inference_config).update([model_cfg, metrics_cfg])\n",
    "\n",
    "cfgs = []\n",
    "for cfg_update in dict_product(dataset_options):\n",
    "    new_cfg = base_cfg.update(cfg_update)\n",
    "    check_missing(new_cfg) # Verify there are no ? in config.\n",
    "    cfgs.append(new_cfg)"
   ]
  },
  {
   "cell_type": "code",
   "execution_count": 8,
   "metadata": {},
   "outputs": [
    {
     "data": {
      "text/plain": [
       "2"
      ]
     },
     "execution_count": 8,
     "metadata": {},
     "output_type": "execute_result"
    }
   ],
   "source": [
    "len(cfgs)"
   ]
  },
  {
   "cell_type": "markdown",
   "metadata": {},
   "source": [
    "## Running Jobs"
   ]
  },
  {
   "cell_type": "code",
   "execution_count": 9,
   "metadata": {},
   "outputs": [],
   "source": [
    "from ese.experiment.experiment import run_ese_exp, submit_ese_exps\n",
    "from ese.experiment.analysis.inference import get_cal_stats"
   ]
  },
  {
   "cell_type": "code",
   "execution_count": 10,
   "metadata": {},
   "outputs": [
    {
     "name": "stdout",
     "output_type": "stream",
     "text": [
      "Set seed: 42\n"
     ]
    },
    {
     "data": {
      "application/vnd.jupyter.widget-view+json": {
       "model_id": "c856955cae4648eea215dfe9c169d291",
       "version_major": 2,
       "version_minor": 0
      },
      "text/plain": [
       "  0%|          | 0/7 [00:00<?, ?it/s]"
      ]
     },
     "metadata": {},
     "output_type": "display_data"
    },
    {
     "name": "stdout",
     "output_type": "stream",
     "text": [
      "Set seed: 44\n",
      "Set seed: 43\n",
      "Set seed: 40\n",
      "Set seed: 42\n",
      "Set seed: 41\n",
      "Set seed: 42\n",
      "torch.Size([1, 2, 5, 256, 256])6 (0.00%)\n"
     ]
    },
    {
     "ename": "ValueError",
     "evalue": "",
     "output_type": "error",
     "traceback": [
      "\u001b[0;31m---------------------------------------------------------------------------\u001b[0m",
      "\u001b[0;31mValueError\u001b[0m                                Traceback (most recent call last)",
      "Cell \u001b[0;32mIn[10], line 2\u001b[0m\n\u001b[1;32m      1\u001b[0m \u001b[38;5;66;03m###### Run individual jobs\u001b[39;00m\n\u001b[0;32m----> 2\u001b[0m \u001b[43mrun_ese_exp\u001b[49m\u001b[43m(\u001b[49m\n\u001b[1;32m      3\u001b[0m \u001b[43m    \u001b[49m\u001b[43mconfig\u001b[49m\u001b[38;5;241;43m=\u001b[39;49m\u001b[43mcfgs\u001b[49m\u001b[43m[\u001b[49m\u001b[38;5;241;43m0\u001b[39;49m\u001b[43m]\u001b[49m\u001b[43m,\u001b[49m\u001b[43m \u001b[49m\n\u001b[1;32m      4\u001b[0m \u001b[43m    \u001b[49m\u001b[43mjob_func\u001b[49m\u001b[38;5;241;43m=\u001b[39;49m\u001b[43mget_cal_stats\u001b[49m\u001b[43m,\u001b[49m\n\u001b[1;32m      5\u001b[0m \u001b[43m    \u001b[49m\u001b[43mrun_name\u001b[49m\u001b[38;5;241;43m=\u001b[39;49m\u001b[38;5;124;43m'\u001b[39;49m\u001b[38;5;124;43mdebug\u001b[39;49m\u001b[38;5;124;43m'\u001b[39;49m\u001b[43m,\u001b[49m\n\u001b[1;32m      6\u001b[0m \u001b[43m    \u001b[49m\u001b[43mgpu\u001b[49m\u001b[38;5;241;43m=\u001b[39;49m\u001b[38;5;124;43m'\u001b[39;49m\u001b[38;5;124;43m0\u001b[39;49m\u001b[38;5;124;43m'\u001b[39;49m\u001b[43m,\u001b[49m\n\u001b[1;32m      7\u001b[0m \u001b[43m)\u001b[49m \n",
      "File \u001b[0;32m~/envs/UniverSegTF/lib/python3.9/site-packages/pydantic/decorator.py:40\u001b[0m, in \u001b[0;36mpydantic.decorator.validate_arguments.validate.wrapper_function\u001b[0;34m()\u001b[0m\n",
      "File \u001b[0;32m~/envs/UniverSegTF/lib/python3.9/site-packages/pydantic/decorator.py:134\u001b[0m, in \u001b[0;36mpydantic.decorator.ValidatedFunction.call\u001b[0;34m()\u001b[0m\n",
      "File \u001b[0;32m~/envs/UniverSegTF/lib/python3.9/site-packages/pydantic/decorator.py:206\u001b[0m, in \u001b[0;36mpydantic.decorator.ValidatedFunction.execute\u001b[0;34m()\u001b[0m\n",
      "File \u001b[0;32m/storage/vbutoi/projects/ESE/ese/experiment/experiment/runner.py:60\u001b[0m, in \u001b[0;36mrun_ese_exp\u001b[0;34m(config, gpu, show_examples, track_wandb, run_name, experiment_class, job_func)\u001b[0m\n\u001b[1;32m     55\u001b[0m     slite\u001b[38;5;241m.\u001b[39mrun_exp(\n\u001b[1;32m     56\u001b[0m         exp_class\u001b[38;5;241m=\u001b[39mexperiment_class,\n\u001b[1;32m     57\u001b[0m         \u001b[38;5;241m*\u001b[39m\u001b[38;5;241m*\u001b[39mrun_args\n\u001b[1;32m     58\u001b[0m     )\n\u001b[1;32m     59\u001b[0m \u001b[38;5;28;01melse\u001b[39;00m:\n\u001b[0;32m---> 60\u001b[0m     \u001b[43mslite\u001b[49m\u001b[38;5;241;43m.\u001b[39;49m\u001b[43mrun_job\u001b[49m\u001b[43m(\u001b[49m\n\u001b[1;32m     61\u001b[0m \u001b[43m        \u001b[49m\u001b[43mjob_func\u001b[49m\u001b[38;5;241;43m=\u001b[39;49m\u001b[43mjob_func\u001b[49m\u001b[43m,\u001b[49m\n\u001b[1;32m     62\u001b[0m \u001b[43m        \u001b[49m\u001b[38;5;241;43m*\u001b[39;49m\u001b[38;5;241;43m*\u001b[39;49m\u001b[43mrun_args\u001b[49m\n\u001b[1;32m     63\u001b[0m \u001b[43m    \u001b[49m\u001b[43m)\u001b[49m\n",
      "File \u001b[0;32m~/envs/UniverSegTF/lib/python3.9/site-packages/pydantic/decorator.py:40\u001b[0m, in \u001b[0;36mpydantic.decorator.validate_arguments.validate.wrapper_function\u001b[0;34m()\u001b[0m\n",
      "File \u001b[0;32m~/envs/UniverSegTF/lib/python3.9/site-packages/pydantic/decorator.py:134\u001b[0m, in \u001b[0;36mpydantic.decorator.ValidatedFunction.call\u001b[0;34m()\u001b[0m\n",
      "File \u001b[0;32m~/envs/UniverSegTF/lib/python3.9/site-packages/pydantic/decorator.py:206\u001b[0m, in \u001b[0;36mpydantic.decorator.ValidatedFunction.execute\u001b[0;34m()\u001b[0m\n",
      "File \u001b[0;32m/storage/vbutoi/projects/ionpy/slite/runner.py:43\u001b[0m, in \u001b[0;36mrun_job\u001b[0;34m(job_func, config, available_gpus)\u001b[0m\n\u001b[1;32m     41\u001b[0m \u001b[38;5;28;01mif\u001b[39;00m available_gpus \u001b[38;5;129;01mis\u001b[39;00m \u001b[38;5;129;01mnot\u001b[39;00m \u001b[38;5;28;01mNone\u001b[39;00m:\n\u001b[1;32m     42\u001b[0m     os\u001b[38;5;241m.\u001b[39menviron[\u001b[38;5;124m\"\u001b[39m\u001b[38;5;124mCUDA_VISIBLE_DEVICES\u001b[39m\u001b[38;5;124m\"\u001b[39m] \u001b[38;5;241m=\u001b[39m \u001b[38;5;28mstr\u001b[39m(available_gpus)\n\u001b[0;32m---> 43\u001b[0m \u001b[43mjob_func\u001b[49m\u001b[43m(\u001b[49m\u001b[43mconfig\u001b[49m\u001b[43m)\u001b[49m\n",
      "File \u001b[0;32m~/envs/UniverSegTF/lib/python3.9/site-packages/pydantic/decorator.py:40\u001b[0m, in \u001b[0;36mpydantic.decorator.validate_arguments.validate.wrapper_function\u001b[0;34m()\u001b[0m\n",
      "File \u001b[0;32m~/envs/UniverSegTF/lib/python3.9/site-packages/pydantic/decorator.py:134\u001b[0m, in \u001b[0;36mpydantic.decorator.ValidatedFunction.call\u001b[0;34m()\u001b[0m\n",
      "File \u001b[0;32m~/envs/UniverSegTF/lib/python3.9/site-packages/pydantic/decorator.py:206\u001b[0m, in \u001b[0;36mpydantic.decorator.ValidatedFunction.execute\u001b[0;34m()\u001b[0m\n",
      "File \u001b[0;32m/storage/vbutoi/projects/ESE/ese/experiment/analysis/inference.py:275\u001b[0m, in \u001b[0;36mget_cal_stats\u001b[0;34m(cfg)\u001b[0m\n\u001b[1;32m    272\u001b[0m \u001b[38;5;28mprint\u001b[39m(\u001b[38;5;124mf\u001b[39m\u001b[38;5;124m\"\u001b[39m\u001b[38;5;124mWorking on batch #\u001b[39m\u001b[38;5;132;01m{\u001b[39;00mbatch_idx\u001b[38;5;132;01m}\u001b[39;00m\u001b[38;5;124m out of\u001b[39m\u001b[38;5;124m\"\u001b[39m, \u001b[38;5;28mlen\u001b[39m(dataloader), \u001b[38;5;124m\"\u001b[39m\u001b[38;5;124m(\u001b[39m\u001b[38;5;132;01m{:.2f}\u001b[39;00m\u001b[38;5;124m%\u001b[39m\u001b[38;5;124m)\u001b[39m\u001b[38;5;124m\"\u001b[39m\u001b[38;5;241m.\u001b[39mformat(batch_idx \u001b[38;5;241m/\u001b[39m \u001b[38;5;28mlen\u001b[39m(dataloader) \u001b[38;5;241m*\u001b[39m \u001b[38;5;241m100\u001b[39m), end\u001b[38;5;241m=\u001b[39m\u001b[38;5;124m\"\u001b[39m\u001b[38;5;130;01m\\r\u001b[39;00m\u001b[38;5;124m\"\u001b[39m)\n\u001b[1;32m    273\u001b[0m \u001b[38;5;66;03m# if batch[\"data_id\"][0] == \"103\":\u001b[39;00m\n\u001b[1;32m    274\u001b[0m \u001b[38;5;66;03m# Run the forward loop\u001b[39;00m\n\u001b[0;32m--> 275\u001b[0m \u001b[43mforward_loop_func\u001b[49m\u001b[43m(\u001b[49m\n\u001b[1;32m    276\u001b[0m \u001b[43m    \u001b[49m\u001b[43mexp\u001b[49m\u001b[38;5;241;43m=\u001b[39;49m\u001b[43minference_exp\u001b[49m\u001b[43m,\u001b[49m\u001b[43m \u001b[49m\n\u001b[1;32m    277\u001b[0m \u001b[43m    \u001b[49m\u001b[43mbatch\u001b[49m\u001b[38;5;241;43m=\u001b[39;49m\u001b[43mbatch\u001b[49m\u001b[43m,\u001b[49m\u001b[43m \u001b[49m\n\u001b[1;32m    278\u001b[0m \u001b[43m    \u001b[49m\u001b[43minference_cfg\u001b[49m\u001b[38;5;241;43m=\u001b[39;49m\u001b[43mcfg_dict\u001b[49m\u001b[43m,\u001b[49m\u001b[43m \u001b[49m\n\u001b[1;32m    279\u001b[0m \u001b[43m    \u001b[49m\u001b[43mimage_level_records\u001b[49m\u001b[38;5;241;43m=\u001b[39;49m\u001b[43mimage_level_records\u001b[49m\u001b[43m,\u001b[49m\n\u001b[1;32m    280\u001b[0m \u001b[43m    \u001b[49m\u001b[43mpixel_meter_dict\u001b[49m\u001b[38;5;241;43m=\u001b[39;49m\u001b[43mpixel_meter_dict\u001b[49m\n\u001b[1;32m    281\u001b[0m \u001b[43m\u001b[49m\u001b[43m)\u001b[49m\n\u001b[1;32m    282\u001b[0m \u001b[38;5;66;03m# Save the records every so often, to get intermediate results. Note, because of data_ids\u001b[39;00m\n\u001b[1;32m    283\u001b[0m \u001b[38;5;66;03m# this can contain fewer than 'log interval' many items.\u001b[39;00m\n\u001b[1;32m    284\u001b[0m \u001b[38;5;28;01mif\u001b[39;00m batch_idx \u001b[38;5;241m%\u001b[39m cfg[\u001b[38;5;124m'\u001b[39m\u001b[38;5;124mlog\u001b[39m\u001b[38;5;124m'\u001b[39m][\u001b[38;5;124m'\u001b[39m\u001b[38;5;124mlog_interval\u001b[39m\u001b[38;5;124m'\u001b[39m] \u001b[38;5;241m==\u001b[39m \u001b[38;5;241m0\u001b[39m:\n",
      "File \u001b[0;32m~/envs/UniverSegTF/lib/python3.9/site-packages/pydantic/decorator.py:40\u001b[0m, in \u001b[0;36mpydantic.decorator.validate_arguments.validate.wrapper_function\u001b[0;34m()\u001b[0m\n",
      "File \u001b[0;32m~/envs/UniverSegTF/lib/python3.9/site-packages/pydantic/decorator.py:134\u001b[0m, in \u001b[0;36mpydantic.decorator.ValidatedFunction.call\u001b[0;34m()\u001b[0m\n",
      "File \u001b[0;32m~/envs/UniverSegTF/lib/python3.9/site-packages/pydantic/decorator.py:206\u001b[0m, in \u001b[0;36mpydantic.decorator.ValidatedFunction.execute\u001b[0;34m()\u001b[0m\n",
      "File \u001b[0;32m/storage/vbutoi/projects/ESE/ese/experiment/analysis/inference.py:318\u001b[0m, in \u001b[0;36mvolume_forward_loop\u001b[0;34m(exp, batch, inference_cfg, image_level_records, pixel_meter_dict)\u001b[0m\n\u001b[1;32m    312\u001b[0m \u001b[38;5;66;03m# Get the prediction with no gradient accumulation.\u001b[39;00m\n\u001b[1;32m    313\u001b[0m slice_batch \u001b[38;5;241m=\u001b[39m {\n\u001b[1;32m    314\u001b[0m     \u001b[38;5;124m\"\u001b[39m\u001b[38;5;124mimg\u001b[39m\u001b[38;5;124m\"\u001b[39m: image_vol_cuda[:, slice_idx:slice_idx\u001b[38;5;241m+\u001b[39m\u001b[38;5;241m1\u001b[39m, \u001b[38;5;241m.\u001b[39m\u001b[38;5;241m.\u001b[39m\u001b[38;5;241m.\u001b[39m],\n\u001b[1;32m    315\u001b[0m     \u001b[38;5;124m\"\u001b[39m\u001b[38;5;124mlabel\u001b[39m\u001b[38;5;124m\"\u001b[39m: label_vol_cuda[:, slice_idx:slice_idx\u001b[38;5;241m+\u001b[39m\u001b[38;5;241m1\u001b[39m, \u001b[38;5;241m.\u001b[39m\u001b[38;5;241m.\u001b[39m\u001b[38;5;241m.\u001b[39m],\n\u001b[1;32m    316\u001b[0m     \u001b[38;5;124m\"\u001b[39m\u001b[38;5;124mdata_id\u001b[39m\u001b[38;5;124m\"\u001b[39m: batch[\u001b[38;5;124m\"\u001b[39m\u001b[38;5;124mdata_id\u001b[39m\u001b[38;5;124m\"\u001b[39m],\n\u001b[1;32m    317\u001b[0m } \n\u001b[0;32m--> 318\u001b[0m \u001b[43mimage_forward_loop\u001b[49m\u001b[43m(\u001b[49m\n\u001b[1;32m    319\u001b[0m \u001b[43m    \u001b[49m\u001b[43mexp\u001b[49m\u001b[38;5;241;43m=\u001b[39;49m\u001b[43mexp\u001b[49m\u001b[43m,\u001b[49m\n\u001b[1;32m    320\u001b[0m \u001b[43m    \u001b[49m\u001b[43mbatch\u001b[49m\u001b[38;5;241;43m=\u001b[39;49m\u001b[43mslice_batch\u001b[49m\u001b[43m,\u001b[49m\n\u001b[1;32m    321\u001b[0m \u001b[43m    \u001b[49m\u001b[43minference_cfg\u001b[49m\u001b[38;5;241;43m=\u001b[39;49m\u001b[43minference_cfg\u001b[49m\u001b[43m,\u001b[49m\n\u001b[1;32m    322\u001b[0m \u001b[43m    \u001b[49m\u001b[43mslice_idx\u001b[49m\u001b[38;5;241;43m=\u001b[39;49m\u001b[43mslice_idx\u001b[49m\u001b[43m,\u001b[49m\n\u001b[1;32m    323\u001b[0m \u001b[43m    \u001b[49m\u001b[43mimage_level_records\u001b[49m\u001b[38;5;241;43m=\u001b[39;49m\u001b[43mimage_level_records\u001b[49m\u001b[43m,\u001b[49m\n\u001b[1;32m    324\u001b[0m \u001b[43m    \u001b[49m\u001b[43mpixel_meter_dict\u001b[49m\u001b[38;5;241;43m=\u001b[39;49m\u001b[43mpixel_meter_dict\u001b[49m\n\u001b[1;32m    325\u001b[0m \u001b[43m\u001b[49m\u001b[43m)\u001b[49m\n",
      "File \u001b[0;32m~/envs/UniverSegTF/lib/python3.9/site-packages/pydantic/decorator.py:40\u001b[0m, in \u001b[0;36mpydantic.decorator.validate_arguments.validate.wrapper_function\u001b[0;34m()\u001b[0m\n",
      "File \u001b[0;32m~/envs/UniverSegTF/lib/python3.9/site-packages/pydantic/decorator.py:134\u001b[0m, in \u001b[0;36mpydantic.decorator.ValidatedFunction.call\u001b[0;34m()\u001b[0m\n",
      "File \u001b[0;32m~/envs/UniverSegTF/lib/python3.9/site-packages/pydantic/decorator.py:206\u001b[0m, in \u001b[0;36mpydantic.decorator.ValidatedFunction.execute\u001b[0;34m()\u001b[0m\n",
      "File \u001b[0;32m/storage/vbutoi/projects/ESE/ese/experiment/analysis/inference.py:360\u001b[0m, in \u001b[0;36mimage_forward_loop\u001b[0;34m(exp, batch, inference_cfg, slice_idx, image_level_records, pixel_meter_dict)\u001b[0m\n\u001b[1;32m    351\u001b[0m output_dict \u001b[38;5;241m=\u001b[39m {\n\u001b[1;32m    352\u001b[0m     \u001b[38;5;124m\"\u001b[39m\u001b[38;5;124mx\u001b[39m\u001b[38;5;124m\"\u001b[39m: image,\n\u001b[1;32m    353\u001b[0m     \u001b[38;5;124m\"\u001b[39m\u001b[38;5;124my_true\u001b[39m\u001b[38;5;124m\"\u001b[39m: label_map\u001b[38;5;241m.\u001b[39mlong(),\n\u001b[0;32m   (...)\u001b[0m\n\u001b[1;32m    357\u001b[0m     \u001b[38;5;124m\"\u001b[39m\u001b[38;5;124mslice_idx\u001b[39m\u001b[38;5;124m\"\u001b[39m: slice_idx \n\u001b[1;32m    358\u001b[0m }\n\u001b[1;32m    359\u001b[0m \u001b[38;5;66;03m# Get the calibration item info.  \u001b[39;00m\n\u001b[0;32m--> 360\u001b[0m \u001b[43mget_calibration_item_info\u001b[49m\u001b[43m(\u001b[49m\n\u001b[1;32m    361\u001b[0m \u001b[43m    \u001b[49m\u001b[43moutput_dict\u001b[49m\u001b[38;5;241;43m=\u001b[39;49m\u001b[43moutput_dict\u001b[49m\u001b[43m,\u001b[49m\n\u001b[1;32m    362\u001b[0m \u001b[43m    \u001b[49m\u001b[43minference_cfg\u001b[49m\u001b[38;5;241;43m=\u001b[39;49m\u001b[43minference_cfg\u001b[49m\u001b[43m,\u001b[49m\n\u001b[1;32m    363\u001b[0m \u001b[43m    \u001b[49m\u001b[43mimage_level_records\u001b[49m\u001b[38;5;241;43m=\u001b[39;49m\u001b[43mimage_level_records\u001b[49m\u001b[43m,\u001b[49m\n\u001b[1;32m    364\u001b[0m \u001b[43m    \u001b[49m\u001b[43mpixel_meter_dict\u001b[49m\u001b[38;5;241;43m=\u001b[39;49m\u001b[43mpixel_meter_dict\u001b[49m\n\u001b[1;32m    365\u001b[0m \u001b[43m\u001b[49m\u001b[43m)\u001b[49m\n",
      "File \u001b[0;32m~/envs/UniverSegTF/lib/python3.9/site-packages/pydantic/decorator.py:40\u001b[0m, in \u001b[0;36mpydantic.decorator.validate_arguments.validate.wrapper_function\u001b[0;34m()\u001b[0m\n",
      "File \u001b[0;32m~/envs/UniverSegTF/lib/python3.9/site-packages/pydantic/decorator.py:134\u001b[0m, in \u001b[0;36mpydantic.decorator.ValidatedFunction.call\u001b[0;34m()\u001b[0m\n",
      "File \u001b[0;32m~/envs/UniverSegTF/lib/python3.9/site-packages/pydantic/decorator.py:206\u001b[0m, in \u001b[0;36mpydantic.decorator.ValidatedFunction.execute\u001b[0;34m()\u001b[0m\n",
      "File \u001b[0;32m/storage/vbutoi/projects/ESE/ese/experiment/analysis/inference.py:387\u001b[0m, in \u001b[0;36mget_calibration_item_info\u001b[0;34m(output_dict, inference_cfg, image_level_records, pixel_meter_dict)\u001b[0m\n\u001b[1;32m    385\u001b[0m check_image_stats \u001b[38;5;241m=\u001b[39m (image_level_records \u001b[38;5;129;01mis\u001b[39;00m \u001b[38;5;129;01mnot\u001b[39;00m \u001b[38;5;28;01mNone\u001b[39;00m)\n\u001b[1;32m    386\u001b[0m \u001b[38;5;28;01mif\u001b[39;00m check_image_stats:\n\u001b[0;32m--> 387\u001b[0m     image_cal_metrics_dict \u001b[38;5;241m=\u001b[39m \u001b[43mget_image_stats\u001b[49m\u001b[43m(\u001b[49m\n\u001b[1;32m    388\u001b[0m \u001b[43m        \u001b[49m\u001b[43moutput_dict\u001b[49m\u001b[38;5;241;43m=\u001b[39;49m\u001b[43moutput_dict\u001b[49m\u001b[43m,\u001b[49m\n\u001b[1;32m    389\u001b[0m \u001b[43m        \u001b[49m\u001b[43minference_cfg\u001b[49m\u001b[38;5;241;43m=\u001b[39;49m\u001b[43minference_cfg\u001b[49m\u001b[43m,\u001b[49m\n\u001b[1;32m    390\u001b[0m \u001b[43m        \u001b[49m\u001b[43mimage_level_records\u001b[49m\u001b[38;5;241;43m=\u001b[39;49m\u001b[43mimage_level_records\u001b[49m\n\u001b[1;32m    391\u001b[0m \u001b[43m    \u001b[49m\u001b[43m)\u001b[49m \n\u001b[1;32m    392\u001b[0m \u001b[38;5;66;03m########################\u001b[39;00m\n\u001b[1;32m    393\u001b[0m \u001b[38;5;66;03m# PIXEL LEVEL TRACKING #\u001b[39;00m\n\u001b[1;32m    394\u001b[0m \u001b[38;5;66;03m########################\u001b[39;00m\n\u001b[1;32m    395\u001b[0m check_pixel_stats \u001b[38;5;241m=\u001b[39m (pixel_meter_dict \u001b[38;5;129;01mis\u001b[39;00m \u001b[38;5;129;01mnot\u001b[39;00m \u001b[38;5;28;01mNone\u001b[39;00m)\n",
      "File \u001b[0;32m~/envs/UniverSegTF/lib/python3.9/site-packages/pydantic/decorator.py:40\u001b[0m, in \u001b[0;36mpydantic.decorator.validate_arguments.validate.wrapper_function\u001b[0;34m()\u001b[0m\n",
      "File \u001b[0;32m~/envs/UniverSegTF/lib/python3.9/site-packages/pydantic/decorator.py:134\u001b[0m, in \u001b[0;36mpydantic.decorator.ValidatedFunction.call\u001b[0;34m()\u001b[0m\n",
      "File \u001b[0;32m~/envs/UniverSegTF/lib/python3.9/site-packages/pydantic/decorator.py:206\u001b[0m, in \u001b[0;36mpydantic.decorator.ValidatedFunction.execute\u001b[0;34m()\u001b[0m\n",
      "File \u001b[0;32m/storage/vbutoi/projects/ESE/ese/experiment/analysis/inference.py:422\u001b[0m, in \u001b[0;36mget_image_stats\u001b[0;34m(output_dict, inference_cfg, image_level_records)\u001b[0m\n\u001b[1;32m    415\u001b[0m \u001b[38;5;129m@validate_arguments\u001b[39m(config\u001b[38;5;241m=\u001b[39m\u001b[38;5;28mdict\u001b[39m(arbitrary_types_allowed\u001b[38;5;241m=\u001b[39m\u001b[38;5;28;01mTrue\u001b[39;00m))\n\u001b[1;32m    416\u001b[0m \u001b[38;5;28;01mdef\u001b[39;00m \u001b[38;5;21mget_image_stats\u001b[39m(\n\u001b[1;32m    417\u001b[0m     output_dict: \u001b[38;5;28mdict\u001b[39m,\n\u001b[1;32m    418\u001b[0m     inference_cfg: \u001b[38;5;28mdict\u001b[39m,\n\u001b[1;32m    419\u001b[0m     image_level_records: \u001b[38;5;28mlist\u001b[39m,\n\u001b[1;32m    420\u001b[0m ):\n\u001b[1;32m    421\u001b[0m     \u001b[38;5;28mprint\u001b[39m(output_dict[\u001b[38;5;124m\"\u001b[39m\u001b[38;5;124my_pred\u001b[39m\u001b[38;5;124m\"\u001b[39m]\u001b[38;5;241m.\u001b[39mshape)\n\u001b[0;32m--> 422\u001b[0m     \u001b[38;5;28;01mraise\u001b[39;00m \u001b[38;5;167;01mValueError\u001b[39;00m    \n\u001b[1;32m    423\u001b[0m     \u001b[38;5;66;03m# Define the cal config.\u001b[39;00m\n\u001b[1;32m    424\u001b[0m     qual_input_config \u001b[38;5;241m=\u001b[39m {\n\u001b[1;32m    425\u001b[0m         \u001b[38;5;124m\"\u001b[39m\u001b[38;5;124my_pred\u001b[39m\u001b[38;5;124m\"\u001b[39m: output_dict[\u001b[38;5;124m\"\u001b[39m\u001b[38;5;124my_pred\u001b[39m\u001b[38;5;124m\"\u001b[39m], \u001b[38;5;66;03m# either (B, C, H, W) or (B, C, E, H, W) if ensembling\u001b[39;00m\n\u001b[1;32m    426\u001b[0m         \u001b[38;5;124m\"\u001b[39m\u001b[38;5;124my_true\u001b[39m\u001b[38;5;124m\"\u001b[39m: output_dict[\u001b[38;5;124m\"\u001b[39m\u001b[38;5;124my_true\u001b[39m\u001b[38;5;124m\"\u001b[39m], \u001b[38;5;66;03m# (B, C, H, W)\u001b[39;00m\n\u001b[1;32m    427\u001b[0m     }\n",
      "\u001b[0;31mValueError\u001b[0m: "
     ]
    }
   ],
   "source": [
    "###### Run individual jobs\n",
    "run_ese_exp(\n",
    "    config=cfgs[0], \n",
    "    job_func=get_cal_stats,\n",
    "    run_name='debug',\n",
    "    gpu='0',\n",
    ") "
   ]
  },
  {
   "cell_type": "code",
   "execution_count": null,
   "metadata": {},
   "outputs": [],
   "source": [
    "# ####### Run Batch Jobs\n",
    "# submit_ese_exps(\n",
    "#     exp_root=log_root,\n",
    "#     job_func=get_cal_stats,\n",
    "#     config_list=cfgs,\n",
    "#     available_gpus=['0', '1']\n",
    "#     # available_gpus=['2', '3']\n",
    "#     # available_gpus=['4', '5', '6', '7']\n",
    "# )"
   ]
  }
 ],
 "metadata": {
  "kernelspec": {
   "display_name": "UniverSegTF",
   "language": "python",
   "name": "universegtf"
  },
  "language_info": {
   "codemirror_mode": {
    "name": "ipython",
    "version": 3
   },
   "file_extension": ".py",
   "mimetype": "text/x-python",
   "name": "python",
   "nbconvert_exporter": "python",
   "pygments_lexer": "ipython3",
   "version": "3.9.16"
  },
  "orig_nbformat": 4
 },
 "nbformat": 4,
 "nbformat_minor": 2
}
