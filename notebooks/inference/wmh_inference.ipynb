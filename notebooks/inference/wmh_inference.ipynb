{
 "cells": [
  {
   "cell_type": "code",
   "execution_count": 1,
   "metadata": {},
   "outputs": [],
   "source": [
    "import sys\n",
    "sys.path.append('/storage/vbutoi/projects')\n",
    "sys.path.append('/storage/vbutoi/libraries')\n",
    "sys.path.append('/storage/vbutoi/projects/ESE')\n",
    "sys.path.append('/storage/vbutoi/projects/UniverSeg')\n",
    "import torch\n",
    "torch.set_printoptions(linewidth=200)\n",
    "import seaborn as sns\n",
    "sns.set_style(\"darkgrid\")\n",
    "\n",
    "import os \n",
    "os.environ['DATAPATH'] = ':'.join((\n",
    "       '/storage/vbutoi/datasets',\n",
    "))\n",
    "\n",
    "# Results loader object does everything\n",
    "from ionpy.analysis import ResultsLoader\n",
    "from pathlib import Path\n",
    "root = Path(\"/storage/vbutoi/scratch/ESE\")\n",
    "rs = ResultsLoader()\n",
    "\n",
    "# For using code without restarting.\n",
    "%load_ext autoreload\n",
    "%autoreload \n",
    "# For using yaml configs.\n",
    "%load_ext yamlmagic"
   ]
  },
  {
   "cell_type": "code",
   "execution_count": 2,
   "metadata": {},
   "outputs": [
    {
     "data": {
      "application/vnd.jupyter.widget-view+json": {
       "model_id": "76018b49d2744012afe74425aead6b2e",
       "version_major": 2,
       "version_minor": 0
      },
      "text/plain": [
       "  0%|          | 0/4 [00:00<?, ?it/s]"
      ]
     },
     "metadata": {},
     "output_type": "display_data"
    }
   ],
   "source": [
    "training_exp_name = \"training/10_23_23_Dense_WMH\"\n",
    "\n",
    "dfc = rs.load_configs(\n",
    "    root / training_exp_name,\n",
    "    properties=False,\n",
    ")"
   ]
  },
  {
   "cell_type": "code",
   "execution_count": 3,
   "metadata": {},
   "outputs": [
    {
     "data": {
      "text/html": [
       "<div>\n",
       "<style scoped>\n",
       "    .dataframe tbody tr th:only-of-type {\n",
       "        vertical-align: middle;\n",
       "    }\n",
       "\n",
       "    .dataframe tbody tr th {\n",
       "        vertical-align: top;\n",
       "    }\n",
       "\n",
       "    .dataframe thead th {\n",
       "        text-align: right;\n",
       "    }\n",
       "</style>\n",
       "<table border=\"1\" class=\"dataframe\">\n",
       "  <thead>\n",
       "    <tr style=\"text-align: right;\">\n",
       "      <th></th>\n",
       "      <th>augmentations</th>\n",
       "      <th>data</th>\n",
       "      <th>annotator</th>\n",
       "      <th>axis</th>\n",
       "      <th>in_channels</th>\n",
       "      <th>num_slices</th>\n",
       "      <th>out_channels</th>\n",
       "      <th>preload</th>\n",
       "      <th>slicing</th>\n",
       "      <th>task</th>\n",
       "      <th>...</th>\n",
       "      <th>convs_per_block</th>\n",
       "      <th>filters</th>\n",
       "      <th>optim</th>\n",
       "      <th>lr</th>\n",
       "      <th>weight_decay</th>\n",
       "      <th>train_augmentations</th>\n",
       "      <th>epochs</th>\n",
       "      <th>eval_freq</th>\n",
       "      <th>pretrained_dir</th>\n",
       "      <th>path</th>\n",
       "    </tr>\n",
       "  </thead>\n",
       "  <tbody>\n",
       "    <tr>\n",
       "      <th>0</th>\n",
       "      <td>null</td>\n",
       "      <td>ese.experiment.datasets.WMH</td>\n",
       "      <td>observer_o12</td>\n",
       "      <td>0</td>\n",
       "      <td>1</td>\n",
       "      <td>1</td>\n",
       "      <td>2</td>\n",
       "      <td>False</td>\n",
       "      <td>dense</td>\n",
       "      <td>Amsterdam</td>\n",
       "      <td>...</td>\n",
       "      <td>3</td>\n",
       "      <td>(64, 64, 64, 64, 64)</td>\n",
       "      <td>torch.optim.Adam</td>\n",
       "      <td>0.0003</td>\n",
       "      <td>0.0</td>\n",
       "      <td>None</td>\n",
       "      <td>1000</td>\n",
       "      <td>10</td>\n",
       "      <td>None</td>\n",
       "      <td>/storage/vbutoi/scratch/ESE/training/10_23_23_...</td>\n",
       "    </tr>\n",
       "    <tr>\n",
       "      <th>1</th>\n",
       "      <td>[{\"RandomAffine\": {\"degrees\": [0, 360], \"p\": 0...</td>\n",
       "      <td>ese.experiment.datasets.WMH</td>\n",
       "      <td>observer_o12</td>\n",
       "      <td>0</td>\n",
       "      <td>1</td>\n",
       "      <td>1</td>\n",
       "      <td>2</td>\n",
       "      <td>False</td>\n",
       "      <td>dense</td>\n",
       "      <td>Amsterdam</td>\n",
       "      <td>...</td>\n",
       "      <td>3</td>\n",
       "      <td>(64, 64, 64, 64, 64)</td>\n",
       "      <td>torch.optim.Adam</td>\n",
       "      <td>0.0003</td>\n",
       "      <td>0.0</td>\n",
       "      <td>None</td>\n",
       "      <td>1000</td>\n",
       "      <td>10</td>\n",
       "      <td>None</td>\n",
       "      <td>/storage/vbutoi/scratch/ESE/training/10_23_23_...</td>\n",
       "    </tr>\n",
       "  </tbody>\n",
       "</table>\n",
       "<p>2 rows × 31 columns</p>\n",
       "</div>"
      ],
      "text/plain": [
       "                                       augmentations  \\\n",
       "0                                               null   \n",
       "1  [{\"RandomAffine\": {\"degrees\": [0, 360], \"p\": 0...   \n",
       "\n",
       "                          data     annotator  axis  in_channels  num_slices  \\\n",
       "0  ese.experiment.datasets.WMH  observer_o12     0            1           1   \n",
       "1  ese.experiment.datasets.WMH  observer_o12     0            1           1   \n",
       "\n",
       "   out_channels  preload slicing       task  ...  convs_per_block  \\\n",
       "0             2    False   dense  Amsterdam  ...                3   \n",
       "1             2    False   dense  Amsterdam  ...                3   \n",
       "\n",
       "                filters             optim      lr  weight_decay  \\\n",
       "0  (64, 64, 64, 64, 64)  torch.optim.Adam  0.0003           0.0   \n",
       "1  (64, 64, 64, 64, 64)  torch.optim.Adam  0.0003           0.0   \n",
       "\n",
       "  train_augmentations epochs  eval_freq  pretrained_dir  \\\n",
       "0                None   1000         10            None   \n",
       "1                None   1000         10            None   \n",
       "\n",
       "                                                path  \n",
       "0  /storage/vbutoi/scratch/ESE/training/10_23_23_...  \n",
       "1  /storage/vbutoi/scratch/ESE/training/10_23_23_...  \n",
       "\n",
       "[2 rows x 31 columns]"
      ]
     },
     "execution_count": 3,
     "metadata": {},
     "output_type": "execute_result"
    }
   ],
   "source": [
    "dfc"
   ]
  },
  {
   "cell_type": "code",
   "execution_count": 4,
   "metadata": {},
   "outputs": [
    {
     "data": {
      "application/javascript": "\n            require(\n                [\n                    \"notebook/js/codecell\",\n                    \"codemirror/mode/yaml/yaml\"\n                ],\n                function(cc){\n                    cc.CodeCell.options_default.highlight_modes.magic_yaml = {\n                        reg: [\"^%%yaml\"]\n                    }\n                }\n            );\n            ",
      "text/plain": [
       "<IPython.core.display.Javascript object>"
      ]
     },
     "metadata": {},
     "output_type": "display_data"
    }
   ],
   "source": [
    "%%yaml inference_config\n",
    "\n",
    "log:\n",
    "    root: '?'\n",
    "    log_interval: 50\n",
    "    track_image_level: True\n",
    "    track_pixel_level: True \n",
    "\n",
    "model:\n",
    "    exp_root : '?'\n",
    "    num_workers: 1  \n",
    "\n",
    "dataset:\n",
    "    split: '?' \n",
    "    slicing: dense_full \n",
    "    input_type: volume \n",
    "\n",
    "calibration:\n",
    "    conf_interval_start: 0.5\n",
    "    conf_interval_end: 1.0\n",
    "    num_bins: 10\n",
    "    neighborhood_width: 3\n",
    "    square_diff: True\n",
    "\n",
    "score:\n",
    "    ignore_index: 0"
   ]
  },
  {
   "cell_type": "code",
   "execution_count": 5,
   "metadata": {},
   "outputs": [
    {
     "data": {
      "application/javascript": "\n            require(\n                [\n                    \"notebook/js/codecell\",\n                    \"codemirror/mode/yaml/yaml\"\n                ],\n                function(cc){\n                    cc.CodeCell.options_default.highlight_modes.magic_yaml = {\n                        reg: [\"^%%yaml\"]\n                    }\n                }\n            );\n            ",
      "text/plain": [
       "<IPython.core.display.Javascript object>"
      ]
     },
     "metadata": {},
     "output_type": "display_data"
    }
   ],
   "source": [
    "%%yaml cal_metrics_cfg \n",
    "\n",
    "cal_metrics:\n",
    "    - ECE:\n",
    "        func: ese.experiment.metrics.ECE\n",
    "    - TL_ECE:\n",
    "        func: ese.experiment.metrics.TL_ECE\n",
    "    - CW_ECE:\n",
    "        func: ese.experiment.metrics.CW_ECE\n",
    "    - SUME:\n",
    "        func: ese.experiment.metrics.SUME\n",
    "    - TL_SUME:\n",
    "        func: ese.experiment.metrics.TL_SUME\n",
    "    - CW_SUME:\n",
    "        func: ese.experiment.metrics.CW_SUME"
   ]
  },
  {
   "cell_type": "code",
   "execution_count": 6,
   "metadata": {},
   "outputs": [],
   "source": [
    "from ionpy.util import dict_product, Config\n",
    "\n",
    "# Need to define the experiment name\n",
    "inference_exp_root = str(root / \"inference/11_30_23_WMH_Analysis\")\n",
    "\n",
    "# Get the inference options.\n",
    "##################################################\n",
    "dataset_options = {\n",
    "    'log.root': [inference_exp_root],\n",
    "    'model.exp_root': [str(root / training_exp_name)],\n",
    "    'dataset.split': ['cal'],\n",
    "}\n",
    "\n",
    "base_cfg = Config(inference_config).update(cal_metrics_cfg)\n",
    "\n",
    "cfgs = []\n",
    "for cfg_update in dict_product(dataset_options):\n",
    "    new_cfg = base_cfg.update(cfg_update)\n",
    "    cfgs.append(new_cfg)"
   ]
  },
  {
   "cell_type": "code",
   "execution_count": 7,
   "metadata": {},
   "outputs": [],
   "source": [
    "# from ese.experiment.analysis.inference import get_cal_stats\n",
    "# os.environ[\"CUDA_VISIBLE_DEVICES\"] = '0'\n",
    "\n",
    "# get_cal_stats(cfgs[0])"
   ]
  },
  {
   "cell_type": "code",
   "execution_count": 8,
   "metadata": {},
   "outputs": [
    {
     "name": "stdout",
     "output_type": "stream",
     "text": [
      "Initalized SliteRunner"
     ]
    },
    {
     "name": "stdout",
     "output_type": "stream",
     "text": [
      "\n",
      "Submitted job id: 1319734.\n"
     ]
    }
   ],
   "source": [
    "from ionpy.slite.submit import submit_jobs\n",
    "from ese.experiment.analysis.inference import get_cal_stats\n",
    "\n",
    "submit_jobs(\n",
    "    exp_root=inference_exp_root,\n",
    "    config_list=cfgs, \n",
    "    job_func=get_cal_stats,\n",
    "    available_gpus=[\"0\"]\n",
    "    )"
   ]
  }
 ],
 "metadata": {
  "kernelspec": {
   "display_name": "UniverSegTF",
   "language": "python",
   "name": "universegtf"
  },
  "language_info": {
   "codemirror_mode": {
    "name": "ipython",
    "version": 3
   },
   "file_extension": ".py",
   "mimetype": "text/x-python",
   "name": "python",
   "nbconvert_exporter": "python",
   "pygments_lexer": "ipython3",
   "version": "3.9.16"
  },
  "orig_nbformat": 4
 },
 "nbformat": 4,
 "nbformat_minor": 2
}
