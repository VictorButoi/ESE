{
 "cells": [
  {
   "cell_type": "code",
   "execution_count": 1,
   "metadata": {},
   "outputs": [],
   "source": [
    "import sys\n",
    "sys.path.append('/storage/vbutoi/projects')\n",
    "sys.path.append('/storage/vbutoi/libraries')\n",
    "sys.path.append('/storage/vbutoi/projects/ESE')\n",
    "sys.path.append('/storage/vbutoi/projects/UniverSeg')\n",
    "import torch\n",
    "torch.set_printoptions(linewidth=200)\n",
    "import seaborn as sns\n",
    "sns.set_style(\"darkgrid\")\n",
    "\n",
    "import os \n",
    "os.environ['DATAPATH'] = ':'.join((\n",
    "       '/storage/vbutoi/datasets',\n",
    "))\n",
    "import yaml\n",
    "from ionpy.util import Config\n",
    "from ese.scripts.utils import get_option_product\n",
    "# Results loader object does everything\n",
    "from ionpy.analysis import ResultsLoader\n",
    "from pathlib import Path\n",
    "root = Path(\"/storage/vbutoi/scratch/ESE\")\n",
    "# Define some useful paths.\n",
    "scratch_root = Path(\"/storage/vbutoi/scratch/ESE\")\n",
    "code_root = Path(\"/storage/vbutoi/projects/ESE\")\n",
    "rs = ResultsLoader()\n",
    "\n",
    "# For using code without restarting.\n",
    "%load_ext autoreload\n",
    "%autoreload \n",
    "# For using yaml configs.\n",
    "%load_ext yamlmagic"
   ]
  },
  {
   "cell_type": "code",
   "execution_count": 2,
   "metadata": {},
   "outputs": [
    {
     "data": {
      "application/javascript": "\n            require(\n                [\n                    \"notebook/js/codecell\",\n                    \"codemirror/mode/yaml/yaml\"\n                ],\n                function(cc){\n                    cc.CodeCell.options_default.highlight_modes.magic_yaml = {\n                        reg: [\"^%%yaml\"]\n                    }\n                }\n            );\n            ",
      "text/plain": [
       "<IPython.core.display.Javascript object>"
      ]
     },
     "metadata": {},
     "output_type": "display_data"
    }
   ],
   "source": [
    "%%yaml calibration_config\n",
    "\n",
    "data:\n",
    "  iters_per_epoch: '?' \n",
    "  add_aug: False \n",
    "  preload: False\n",
    "  train_splits:\n",
    "    - val \n",
    "  val_splits:\n",
    "    - cal \n",
    "\n",
    "dataloader:\n",
    "  batch_size: 4 \n",
    "  num_workers: 2\n",
    "  pin_memory: True \n",
    "\n",
    "optim: \n",
    "  _class: torch.optim.Adam\n",
    "  lr: 1.0e-4\n",
    "  weight_decay: 0.0 \n",
    "\n",
    "train:\n",
    "  epochs: 2000 \n",
    "  eval_freq: 10 \n",
    "  pretrained_dir: '?'\n",
    "  checkpoint: 'max-val-dice_score'\n",
    "  pretrained_select_metric: 'val-dice_score'\n",
    "\n",
    "loss_func: \n",
    "  _class: ese.experiment.losses.PixelCELoss \n",
    "  from_logits: True \n",
    "  batch_reduction: 'mean' \n",
    "  loss_pix_weights: None \n",
    "\n",
    "# loss_func: \n",
    "#   _class: ionpy.loss.SoftDiceLoss\n",
    "#   from_logits: True\n",
    "#   batch_reduction: 'mean' \n",
    "#   ignore_empty_labels: False\n",
    "#   ignore_index: 0 "
   ]
  },
  {
   "cell_type": "code",
   "execution_count": 3,
   "metadata": {},
   "outputs": [
    {
     "data": {
      "application/javascript": "\n            require(\n                [\n                    \"notebook/js/codecell\",\n                    \"codemirror/mode/yaml/yaml\"\n                ],\n                function(cc){\n                    cc.CodeCell.options_default.highlight_modes.magic_yaml = {\n                        reg: [\"^%%yaml\"]\n                    }\n                }\n            );\n            ",
      "text/plain": [
       "<IPython.core.display.Javascript object>"
      ]
     },
     "metadata": {},
     "output_type": "display_data"
    }
   ],
   "source": [
    "%%yaml callbacks_cfg\n",
    "\n",
    "callbacks:\n",
    "  step:\n",
    "    - ese.experiment.callbacks.ShowPredictions\n",
    "  epoch:\n",
    "    - ese.experiment.callbacks.WandbLogger\n",
    "    - ionpy.callbacks.ETA\n",
    "    - ionpy.callbacks.JobProgress\n",
    "    - ionpy.callbacks.TerminateOnNaN\n",
    "    - ionpy.callbacks.PrintLogged\n",
    "    - ionpy.callbacks.ModelCheckpoint:\n",
    "        monitor: ece_loss \n",
    "        phase: val"
   ]
  },
  {
   "cell_type": "code",
   "execution_count": 4,
   "metadata": {},
   "outputs": [
    {
     "data": {
      "application/javascript": "\n            require(\n                [\n                    \"notebook/js/codecell\",\n                    \"codemirror/mode/yaml/yaml\"\n                ],\n                function(cc){\n                    cc.CodeCell.options_default.highlight_modes.magic_yaml = {\n                        reg: [\"^%%yaml\"]\n                    }\n                }\n            );\n            ",
      "text/plain": [
       "<IPython.core.display.Javascript object>"
      ]
     },
     "metadata": {},
     "output_type": "display_data"
    }
   ],
   "source": [
    "%%yaml calibrator_model_cfgs \n",
    "\n",
    "# For calibration methods.\n",
    "TempScaling:\n",
    "  _class: ese.experiment.models.calibrators.Temperature_Scaling\n",
    "\n",
    "LTS:\n",
    "  _class: ese.experiment.models.calibrators.LTS\n",
    "  img_channels: 1\n",
    "  num_classes: 2\n",
    "  filters:\n",
    "    - 4 \n",
    "    - 4 \n",
    "    - 4 "
   ]
  },
  {
   "cell_type": "code",
   "execution_count": 5,
   "metadata": {},
   "outputs": [],
   "source": [
    "exp_name = \"04_05_24_SmallCircles_MassiveEnsemble_Calibrated_CE\"\n",
    "group_dict = {\n",
    "    \"dataset\": \"Shapes\",\n",
    "    \"exp_group\": exp_name,\n",
    "    \"base_models_group\": \"04_04_24_SmallCircles_MassiveEnsemble\",\n",
    "}\n",
    "calibrator_model_opts = {}\n",
    "additional_args = {}"
   ]
  },
  {
   "cell_type": "code",
   "execution_count": 6,
   "metadata": {},
   "outputs": [],
   "source": [
    "from ese.experiment.analysis.analysis_utils.submit_utils import get_ese_calibration_configs\n",
    "\n",
    "option_set = get_ese_calibration_configs(\n",
    "    group_dict=group_dict,\n",
    "    calibrators=[\n",
    "        \"TempScaling\",\n",
    "        # \"IBTS\",\n",
    "        # \"LTS\",\n",
    "    ],\n",
    "    cal_base_cfgs=calibrator_model_cfgs,\n",
    "    cal_model_opts=calibrator_model_opts,\n",
    "    additional_args=additional_args\n",
    ")"
   ]
  },
  {
   "cell_type": "code",
   "execution_count": 7,
   "metadata": {},
   "outputs": [],
   "source": [
    "# Load the inference cfg from local.\n",
    "##################################################\n",
    "cal_cfg_root = code_root / \"ese\" / \"experiment\" / \"configs\" / \"calibrate\"\n",
    "##################################################\n",
    "with open(cal_cfg_root / f\"{group_dict['dataset']}.yaml\", 'r') as file:\n",
    "    dataset_cal_cfg = yaml.safe_load(file)\n",
    "\n",
    "# Assemble base config\n",
    "base_cfg = Config(calibration_config).update([callbacks_cfg, dataset_cal_cfg])\n",
    "\n",
    "# Get the configs\n",
    "cfgs = get_option_product(exp_name, option_set, base_cfg)"
   ]
  },
  {
   "cell_type": "code",
   "execution_count": 8,
   "metadata": {},
   "outputs": [
    {
     "data": {
      "text/plain": [
       "32"
      ]
     },
     "execution_count": 8,
     "metadata": {},
     "output_type": "execute_result"
    }
   ],
   "source": [
    "len(cfgs)"
   ]
  },
  {
   "cell_type": "code",
   "execution_count": 9,
   "metadata": {},
   "outputs": [],
   "source": [
    "# get the front half of the cfg list\n",
    "# cfgs = cfgs[len(cfgs)//2:]"
   ]
  },
  {
   "cell_type": "markdown",
   "metadata": {},
   "source": [
    "## Running Jobs"
   ]
  },
  {
   "cell_type": "code",
   "execution_count": 10,
   "metadata": {},
   "outputs": [
    {
     "name": "stderr",
     "output_type": "stream",
     "text": [
      "/local/vbutoi/envs/UniverSegTF/lib/python3.9/site-packages/pydantic/_internal/_fields.py:149: UserWarning: Field \"model_outputs\" has conflict with protected namespace \"model_\".\n",
      "\n",
      "You may be able to resolve this warning by setting `model_config['protected_namespaces'] = ()`.\n",
      "  warnings.warn(\n"
     ]
    }
   ],
   "source": [
    "from ese.experiment.experiment import run_ese_exp, submit_ese_exps, PostHocExperiment"
   ]
  },
  {
   "cell_type": "code",
   "execution_count": 11,
   "metadata": {},
   "outputs": [],
   "source": [
    "# ####### Run individual jobs\n",
    "# run_ese_exp(\n",
    "#     config=cfgs[0], \n",
    "#     experiment_class=PostHocExperiment,\n",
    "#     run_name='debug',\n",
    "#     show_examples=True,\n",
    "#     track_wandb=False,\n",
    "#     gpu='3',\n",
    "# )"
   ]
  },
  {
   "cell_type": "code",
   "execution_count": 12,
   "metadata": {},
   "outputs": [
    {
     "name": "stdout",
     "output_type": "stream",
     "text": [
      "Submitted job id: 1044022 on gpu: 0.\n",
      "Submitted job id: 1044340 on gpu: 1.\n",
      "Submitted job id: 1044739 on gpu: 3.\n",
      "Submitted job id: 1045133 on gpu: 4.\n",
      "Submitted job id: 1045420 on gpu: 5.\n",
      "Submitted job id: 1046037 on gpu: 6.\n",
      "Submitted job id: 1046606 on gpu: 7.\n",
      "Submitted job id: 1047225 on gpu: 0.\n",
      "Submitted job id: 1047785 on gpu: 1.\n",
      "Submitted job id: 1048521 on gpu: 3.\n",
      "Submitted job id: 1049167 on gpu: 4.\n",
      "Submitted job id: 1049896 on gpu: 5.\n",
      "Submitted job id: 1050677 on gpu: 6.\n",
      "Submitted job id: 1051310 on gpu: 7.\n",
      "Submitted job id: 1052066 on gpu: 0.\n",
      "Submitted job id: 1052849 on gpu: 1.\n",
      "Submitted job id: 1053610 on gpu: 3.\n",
      "Submitted job id: 1054371 on gpu: 4.\n",
      "Submitted job id: 1055008 on gpu: 5.\n",
      "Submitted job id: 1055806 on gpu: 6.\n",
      "Submitted job id: 1056385 on gpu: 7.\n",
      "Submitted job id: 1057234 on gpu: 0.\n",
      "Submitted job id: 1057898 on gpu: 1.\n",
      "Submitted job id: 1058672 on gpu: 3.\n",
      "Submitted job id: 1059470 on gpu: 4.\n",
      "Submitted job id: 1060232 on gpu: 5.\n",
      "Submitted job id: 1061039 on gpu: 6.\n",
      "Submitted job id: 1061719 on gpu: 7.\n",
      "Submitted job id: 1062502 on gpu: 0.\n",
      "Submitted job id: 1063301 on gpu: 1.\n",
      "Submitted job id: 1064190 on gpu: 3.\n",
      "Submitted job id: 1064902 on gpu: 4.\n"
     ]
    }
   ],
   "source": [
    "##### Run Batch Jobs\n",
    "submit_ese_exps(\n",
    "    config_list=cfgs,\n",
    "    experiment_class=PostHocExperiment,\n",
    "    track_wandb=True,\n",
    "    # available_gpus=['0', '1', '2', '3']\n",
    "    # available_gpus=['4', '5', '6', '7']\n",
    "    available_gpus=['0', '1', '3', '4', '5', '6', '7']\n",
    ")"
   ]
  }
 ],
 "metadata": {
  "kernelspec": {
   "display_name": "UniverSegTF",
   "language": "python",
   "name": "universegtf"
  },
  "language_info": {
   "codemirror_mode": {
    "name": "ipython",
    "version": 3
   },
   "file_extension": ".py",
   "mimetype": "text/x-python",
   "name": "python",
   "nbconvert_exporter": "python",
   "pygments_lexer": "ipython3",
   "version": "3.9.16"
  },
  "orig_nbformat": 4
 },
 "nbformat": 4,
 "nbformat_minor": 2
}
