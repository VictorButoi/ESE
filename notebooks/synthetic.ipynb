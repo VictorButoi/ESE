{
 "cells": [
  {
   "cell_type": "code",
   "execution_count": null,
   "metadata": {},
   "outputs": [],
   "source": [
    "import cv2\n",
    "import numpy as np\n",
    "from pathlib import Path\n",
    "\n",
    "# Setup direcrtories\n",
    "root = Path(\"/storage/vbutoi/scratch/ESE\")\n",
    "scratch_root = Path(\"/storage/vbutoi/scratch/ESE\")\n",
    "code_root = Path(\"/storage/vbutoi/projects/ESE\")\n",
    "\n",
    "# For using code without restarting.\n",
    "%load_ext autoreload\n",
    "%autoreload 2\n",
    "# For using yaml configs.\n",
    "%load_ext yamlmagic"
   ]
  },
  {
   "cell_type": "code",
   "execution_count": null,
   "metadata": {},
   "outputs": [],
   "source": [
    "from ese.experiment.datasets.utils.build_shapes import perlin_generation\n",
    "import yaml \n",
    "\n",
    "# Load the inference cfg from local.\n",
    "##################################################\n",
    "cal_cfg_root = code_root / \"ese\" / \"experiment\" / \"configs\" / \"processing\"\n",
    "##################################################\n",
    "with open(cal_cfg_root / \"synthetic.yaml\", 'r') as file:\n",
    "    gen_cfg = yaml.safe_load(file)"
   ]
  },
  {
   "cell_type": "code",
   "execution_count": null,
   "metadata": {},
   "outputs": [],
   "source": [
    "num_to_gen = 18\n",
    "\n",
    "images, label_maps = perlin_generation(\n",
    "    num_to_gen=num_to_gen, \n",
    "    seed=42, \n",
    "    gen_opts_cfg=gen_cfg[\"gen_opts\"], aug_cfg=gen_cfg[\"aug_opts\"],\n",
    ")"
   ]
  },
  {
   "cell_type": "code",
   "execution_count": null,
   "metadata": {},
   "outputs": [],
   "source": [
    "img_tensor = np.stack(images)\n",
    "lab_tensor = np.stack(label_maps).argmax(axis=-1)"
   ]
  },
  {
   "cell_type": "code",
   "execution_count": null,
   "metadata": {},
   "outputs": [],
   "source": [
    "import matplotlib.pyplot as plt\n",
    "\n",
    "num_cols = 6\n",
    "num_rows = 2 * (num_to_gen // num_cols) \n",
    "\n",
    "f, axarr = plt.subplots(num_rows, num_cols, figsize=(num_cols*4, num_rows*4))\n",
    "for idx in range(18):\n",
    "    row_offset = 2*(idx // num_cols)\n",
    "    col_idx = idx % num_cols\n",
    "    im = axarr[row_offset, col_idx].imshow(img_tensor[idx], cmap='gray', vmin=0.0, vmax=1.0, interpolation='none')\n",
    "    lab = axarr[row_offset + 1, col_idx].imshow(lab_tensor[idx], cmap='tab10', interpolation='none')\n",
    "    f.colorbar(im, ax=axarr[row_offset, col_idx], shrink=0.6)\n",
    "    f.colorbar(lab, ax=axarr[row_offset + 1, col_idx], shrink=0.6)\n",
    "    # Turn off axis lines and labels.\n",
    "    axarr[row_offset, col_idx].axis('off')\n",
    "    axarr[row_offset + 1, col_idx].axis('off')\n",
    "plt.show()"
   ]
  }
 ],
 "metadata": {
  "kernelspec": {
   "display_name": "UniverSegTF",
   "language": "python",
   "name": "universegtf"
  },
  "language_info": {
   "codemirror_mode": {
    "name": "ipython",
    "version": 3
   },
   "file_extension": ".py",
   "mimetype": "text/x-python",
   "name": "python",
   "nbconvert_exporter": "python",
   "pygments_lexer": "ipython3",
   "version": "3.9.16"
  }
 },
 "nbformat": 4,
 "nbformat_minor": 2
}
