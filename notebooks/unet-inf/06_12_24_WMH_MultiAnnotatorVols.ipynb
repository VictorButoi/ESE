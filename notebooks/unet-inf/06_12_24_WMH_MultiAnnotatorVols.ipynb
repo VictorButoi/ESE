{
 "cells": [
  {
   "cell_type": "code",
   "execution_count": 1,
   "metadata": {},
   "outputs": [
    {
     "name": "stderr",
     "output_type": "stream",
     "text": [
      "/local/vbutoi/envs/UniverSegTF/lib/python3.9/site-packages/pydantic/_internal/_fields.py:149: UserWarning: Field \"model_outputs\" has conflict with protected namespace \"model_\".\n",
      "\n",
      "You may be able to resolve this warning by setting `model_config['protected_namespaces'] = ()`.\n",
      "  warnings.warn(\n"
     ]
    }
   ],
   "source": [
    "import sys\n",
    "sys.path.append('/storage/vbutoi/projects')\n",
    "sys.path.append('/storage/vbutoi/libraries')\n",
    "sys.path.append('/storage/vbutoi/projects/ESE')\n",
    "sys.path.append('/storage/vbutoi/projects/UniverSeg')\n",
    "\n",
    "import matplotlib.pyplot as plt\n",
    "import pandas as pd\n",
    "import seaborn as sns\n",
    "sns.set_style(\"darkgrid\")\n",
    "sns.set_context(\"talk\")\n",
    "\n",
    "import os \n",
    "os.environ['DATAPATH'] = ':'.join((\n",
    "       '/storage/vbutoi/datasets',\n",
    "))\n",
    "\n",
    "from ese.experiment.analysis.analyze_inf import load_cal_inference_stats\n",
    "# Results loader object does everything\n",
    "from ionpy.analysis import ResultsLoader\n",
    "from pathlib import Path\n",
    "root = Path(\"/storage/vbutoi/scratch/ESE\")\n",
    "rs = ResultsLoader()\n",
    "\n",
    "# For using code without restarting.\n",
    "%load_ext autoreload\n",
    "%autoreload 2\n",
    "# For using yaml configs.\n",
    "%load_ext yamlmagic"
   ]
  },
  {
   "cell_type": "code",
   "execution_count": 2,
   "metadata": {},
   "outputs": [
    {
     "data": {
      "application/javascript": "\n            require(\n                [\n                    \"notebook/js/codecell\",\n                    \"codemirror/mode/yaml/yaml\"\n                ],\n                function(cc){\n                    cc.CodeCell.options_default.highlight_modes.magic_yaml = {\n                        reg: [\"^%%yaml\"]\n                    }\n                }\n            );\n            ",
      "text/plain": [
       "<IPython.core.display.Javascript object>"
      ]
     },
     "metadata": {},
     "output_type": "display_data"
    }
   ],
   "source": [
    "%%yaml results_cfg \n",
    "\n",
    "log:\n",
    "    root: /storage/vbutoi/scratch/ESE/inference\n",
    "    inference_groups: \n",
    "        - '06_12_24_WMH_FullMultiAnnoVol'\n",
    "\n",
    "options:\n",
    "    add_dice_loss_rows: True\n",
    "    drop_nan_metric_rows: True \n",
    "    remove_shared_columns: False\n",
    "    equal_rows_per_cfg_assert: False "
   ]
  },
  {
   "cell_type": "code",
   "execution_count": 3,
   "metadata": {},
   "outputs": [
    {
     "name": "stdout",
     "output_type": "stream",
     "text": [
      "Finished loading inference stats.\n",
      "Log amounts: root                                                                                             log_set                                              \n",
      "/storage/vbutoi/scratch/ESE/inference/06_12_24_WMH_FullMultiAnnoVol/WMH_Individual_Uncalibrated  20240612_085239-WVBT-9dccca4ef8afec21bca192030f75d2f1    19795\n",
      "                                                                                                 20240612_085243-02NK-1334ebc13752b362cdeef2fdd4b66604    19795\n",
      "                                                                                                 20240612_085248-V8CE-b3a5b8910b19a1589e7e2ac95c5a1681    19795\n",
      "                                                                                                 20240612_085252-LF35-09c30a291004abade2e995305a5e1c0e    19795\n",
      "                                                                                                 20240612_085255-A64D-ee4f8a434727eec178bed49efca3de53    13282\n",
      "                                                                                                 20240612_085300-I65V-df1c82337d12384b7590710cf48aad33    13282\n",
      "                                                                                                 20240612_085304-KH4H-4821ac270ae78b5459622926a7b24859    13282\n",
      "                                                                                                 20240612_085308-R99P-331dc6e24260264db283ac8577fca487    13282\n",
      "                                                                                                 20240612_085312-WEEX-366c357fc045fe32e0b8da48cd1262c5     4413\n",
      "                                                                                                 20240612_085316-TE96-7aec8e46d47aab95d130f73042d81270     4413\n",
      "                                                                                                 20240612_085320-PYL0-02717de01175c5b071fe8a22a58d606a     4413\n",
      "                                                                                                 20240612_085324-L3AL-7a3e5c51d2d67f407da55aade5162069     4413\n",
      "                                                                                                 20240612_085329-OQ7H-bc5e7903b8fadfa1b741743f94ec490a     6587\n",
      "                                                                                                 20240612_085333-0ULW-19e82408875e5dd6218133ee09aab975     6587\n",
      "                                                                                                 20240612_085337-5I16-63cd1c9a1e310f494443bc5ad2418720     6587\n",
      "                                                                                                 20240612_085341-AJD0-d4716d3b3842eecb4b9e19e45bdf43d1     6587\n",
      "                                                                                                 20240612_085345-CXO9-1c8e77fa92d9acd7ea96f15917907757     4725\n",
      "                                                                                                 20240612_085350-MJKP-463ce9712d732d6c0b468bfb9839c4fc     4725\n",
      "                                                                                                 20240612_085353-T9SS-5bb29184426a526029d8b206291928cd     4725\n",
      "                                                                                                 20240612_085358-KMM7-9b82ebfe755b0e482da1b94026cdd64b     4725\n",
      "                                                                                                 20240612_085402-J1CO-1dcc5b046c98f4c85e504e35b88c95bc     5594\n",
      "                                                                                                 20240612_085406-FOJF-d19cb50fd76824452172d02306330029     5594\n",
      "                                                                                                 20240612_085410-CYV2-d663c2c97c692237d13490b4666b245e     5594\n",
      "                                                                                                 20240612_085415-KRU6-51a6e4c4b55dfc732755be8ef1aff1ba     5594\n",
      "dtype: int64\n"
     ]
    }
   ],
   "source": [
    "inference_df = load_cal_inference_stats(\n",
    "    results_cfg=results_cfg,\n",
    "    load_cached=True,\n",
    ")"
   ]
  },
  {
   "cell_type": "code",
   "execution_count": 4,
   "metadata": {},
   "outputs": [],
   "source": [
    "# Next let's make our predictions into their corresponding volumes.\n",
    "slice_df = inference_df.groupby([\n",
    "    \"annotator\",\n",
    "    \"data_id\",\n",
    "    \"pretrained_seed\", \n",
    "    \"slice_idx\",\n",
    "    \"split\",\n",
    "    \"task\"\n",
    "])[[\"gt_volume\", \"soft_volume\", \"hard_volume\"]].mean().reset_index()"
   ]
  },
  {
   "cell_type": "code",
   "execution_count": 5,
   "metadata": {},
   "outputs": [
    {
     "data": {
      "text/html": [
       "<div>\n",
       "<style scoped>\n",
       "    .dataframe tbody tr th:only-of-type {\n",
       "        vertical-align: middle;\n",
       "    }\n",
       "\n",
       "    .dataframe tbody tr th {\n",
       "        vertical-align: top;\n",
       "    }\n",
       "\n",
       "    .dataframe thead th {\n",
       "        text-align: right;\n",
       "    }\n",
       "</style>\n",
       "<table border=\"1\" class=\"dataframe\">\n",
       "  <thead>\n",
       "    <tr style=\"text-align: right;\">\n",
       "      <th></th>\n",
       "      <th>annotator</th>\n",
       "      <th>data_id</th>\n",
       "      <th>pretrained_seed</th>\n",
       "      <th>slice_idx</th>\n",
       "      <th>split</th>\n",
       "      <th>task</th>\n",
       "      <th>gt_volume</th>\n",
       "      <th>soft_volume</th>\n",
       "      <th>hard_volume</th>\n",
       "    </tr>\n",
       "  </thead>\n",
       "  <tbody>\n",
       "    <tr>\n",
       "      <th>0</th>\n",
       "      <td>observer_o12</td>\n",
       "      <td>101</td>\n",
       "      <td>40</td>\n",
       "      <td>0</td>\n",
       "      <td>cal</td>\n",
       "      <td>Amsterdam</td>\n",
       "      <td>4.0</td>\n",
       "      <td>8.332066</td>\n",
       "      <td>6.0</td>\n",
       "    </tr>\n",
       "    <tr>\n",
       "      <th>1</th>\n",
       "      <td>observer_o12</td>\n",
       "      <td>101</td>\n",
       "      <td>40</td>\n",
       "      <td>1</td>\n",
       "      <td>cal</td>\n",
       "      <td>Amsterdam</td>\n",
       "      <td>4.0</td>\n",
       "      <td>4.088889</td>\n",
       "      <td>1.0</td>\n",
       "    </tr>\n",
       "    <tr>\n",
       "      <th>2</th>\n",
       "      <td>observer_o12</td>\n",
       "      <td>101</td>\n",
       "      <td>40</td>\n",
       "      <td>2</td>\n",
       "      <td>cal</td>\n",
       "      <td>Amsterdam</td>\n",
       "      <td>4.0</td>\n",
       "      <td>1.993716</td>\n",
       "      <td>0.0</td>\n",
       "    </tr>\n",
       "    <tr>\n",
       "      <th>3</th>\n",
       "      <td>observer_o12</td>\n",
       "      <td>101</td>\n",
       "      <td>40</td>\n",
       "      <td>3</td>\n",
       "      <td>cal</td>\n",
       "      <td>Amsterdam</td>\n",
       "      <td>2.0</td>\n",
       "      <td>4.903453</td>\n",
       "      <td>3.0</td>\n",
       "    </tr>\n",
       "    <tr>\n",
       "      <th>4</th>\n",
       "      <td>observer_o12</td>\n",
       "      <td>101</td>\n",
       "      <td>40</td>\n",
       "      <td>4</td>\n",
       "      <td>cal</td>\n",
       "      <td>Amsterdam</td>\n",
       "      <td>2.0</td>\n",
       "      <td>4.235747</td>\n",
       "      <td>2.0</td>\n",
       "    </tr>\n",
       "    <tr>\n",
       "      <th>...</th>\n",
       "      <td>...</td>\n",
       "      <td>...</td>\n",
       "      <td>...</td>\n",
       "      <td>...</td>\n",
       "      <td>...</td>\n",
       "      <td>...</td>\n",
       "      <td>...</td>\n",
       "      <td>...</td>\n",
       "      <td>...</td>\n",
       "    </tr>\n",
       "    <tr>\n",
       "      <th>16803</th>\n",
       "      <td>observer_o4</td>\n",
       "      <td>69</td>\n",
       "      <td>43</td>\n",
       "      <td>58</td>\n",
       "      <td>val</td>\n",
       "      <td>Singapore</td>\n",
       "      <td>139.0</td>\n",
       "      <td>268.495728</td>\n",
       "      <td>249.0</td>\n",
       "    </tr>\n",
       "    <tr>\n",
       "      <th>16804</th>\n",
       "      <td>observer_o4</td>\n",
       "      <td>69</td>\n",
       "      <td>43</td>\n",
       "      <td>59</td>\n",
       "      <td>val</td>\n",
       "      <td>Singapore</td>\n",
       "      <td>139.0</td>\n",
       "      <td>226.608490</td>\n",
       "      <td>209.0</td>\n",
       "    </tr>\n",
       "    <tr>\n",
       "      <th>16805</th>\n",
       "      <td>observer_o4</td>\n",
       "      <td>69</td>\n",
       "      <td>43</td>\n",
       "      <td>60</td>\n",
       "      <td>val</td>\n",
       "      <td>Singapore</td>\n",
       "      <td>176.0</td>\n",
       "      <td>200.179092</td>\n",
       "      <td>176.0</td>\n",
       "    </tr>\n",
       "    <tr>\n",
       "      <th>16806</th>\n",
       "      <td>observer_o4</td>\n",
       "      <td>69</td>\n",
       "      <td>43</td>\n",
       "      <td>61</td>\n",
       "      <td>val</td>\n",
       "      <td>Singapore</td>\n",
       "      <td>176.0</td>\n",
       "      <td>202.882385</td>\n",
       "      <td>177.0</td>\n",
       "    </tr>\n",
       "    <tr>\n",
       "      <th>16807</th>\n",
       "      <td>observer_o4</td>\n",
       "      <td>69</td>\n",
       "      <td>43</td>\n",
       "      <td>62</td>\n",
       "      <td>val</td>\n",
       "      <td>Singapore</td>\n",
       "      <td>176.0</td>\n",
       "      <td>184.796204</td>\n",
       "      <td>161.0</td>\n",
       "    </tr>\n",
       "  </tbody>\n",
       "</table>\n",
       "<p>16808 rows × 9 columns</p>\n",
       "</div>"
      ],
      "text/plain": [
       "          annotator data_id  pretrained_seed  slice_idx split       task  \\\n",
       "0      observer_o12     101               40          0   cal  Amsterdam   \n",
       "1      observer_o12     101               40          1   cal  Amsterdam   \n",
       "2      observer_o12     101               40          2   cal  Amsterdam   \n",
       "3      observer_o12     101               40          3   cal  Amsterdam   \n",
       "4      observer_o12     101               40          4   cal  Amsterdam   \n",
       "...             ...     ...              ...        ...   ...        ...   \n",
       "16803   observer_o4      69               43         58   val  Singapore   \n",
       "16804   observer_o4      69               43         59   val  Singapore   \n",
       "16805   observer_o4      69               43         60   val  Singapore   \n",
       "16806   observer_o4      69               43         61   val  Singapore   \n",
       "16807   observer_o4      69               43         62   val  Singapore   \n",
       "\n",
       "       gt_volume  soft_volume  hard_volume  \n",
       "0            4.0     8.332066          6.0  \n",
       "1            4.0     4.088889          1.0  \n",
       "2            4.0     1.993716          0.0  \n",
       "3            2.0     4.903453          3.0  \n",
       "4            2.0     4.235747          2.0  \n",
       "...          ...          ...          ...  \n",
       "16803      139.0   268.495728        249.0  \n",
       "16804      139.0   226.608490        209.0  \n",
       "16805      176.0   200.179092        176.0  \n",
       "16806      176.0   202.882385        177.0  \n",
       "16807      176.0   184.796204        161.0  \n",
       "\n",
       "[16808 rows x 9 columns]"
      ]
     },
     "execution_count": 5,
     "metadata": {},
     "output_type": "execute_result"
    }
   ],
   "source": [
    "slice_df"
   ]
  },
  {
   "cell_type": "code",
   "execution_count": 6,
   "metadata": {},
   "outputs": [
    {
     "data": {
      "text/html": [
       "<div>\n",
       "<style scoped>\n",
       "    .dataframe tbody tr th:only-of-type {\n",
       "        vertical-align: middle;\n",
       "    }\n",
       "\n",
       "    .dataframe tbody tr th {\n",
       "        vertical-align: top;\n",
       "    }\n",
       "\n",
       "    .dataframe thead th {\n",
       "        text-align: right;\n",
       "    }\n",
       "</style>\n",
       "<table border=\"1\" class=\"dataframe\">\n",
       "  <thead>\n",
       "    <tr style=\"text-align: right;\">\n",
       "      <th></th>\n",
       "      <th>annotator</th>\n",
       "      <th>data_id</th>\n",
       "      <th>pretrained_seed</th>\n",
       "      <th>slice_idx</th>\n",
       "      <th>split</th>\n",
       "      <th>task</th>\n",
       "      <th>gt_volume</th>\n",
       "      <th>soft_volume</th>\n",
       "      <th>hard_volume</th>\n",
       "    </tr>\n",
       "  </thead>\n",
       "  <tbody>\n",
       "    <tr>\n",
       "      <th>0</th>\n",
       "      <td>observer_o12</td>\n",
       "      <td>101</td>\n",
       "      <td>40</td>\n",
       "      <td>0</td>\n",
       "      <td>cal</td>\n",
       "      <td>Amsterdam</td>\n",
       "      <td>4.0</td>\n",
       "      <td>8.332066</td>\n",
       "      <td>6.0</td>\n",
       "    </tr>\n",
       "    <tr>\n",
       "      <th>10216</th>\n",
       "      <td>observer_o3</td>\n",
       "      <td>101</td>\n",
       "      <td>40</td>\n",
       "      <td>0</td>\n",
       "      <td>cal</td>\n",
       "      <td>Amsterdam</td>\n",
       "      <td>4.0</td>\n",
       "      <td>7.763233</td>\n",
       "      <td>2.0</td>\n",
       "    </tr>\n",
       "    <tr>\n",
       "      <th>13620</th>\n",
       "      <td>observer_o4</td>\n",
       "      <td>101</td>\n",
       "      <td>40</td>\n",
       "      <td>0</td>\n",
       "      <td>cal</td>\n",
       "      <td>Amsterdam</td>\n",
       "      <td>4.0</td>\n",
       "      <td>7.763233</td>\n",
       "      <td>2.0</td>\n",
       "    </tr>\n",
       "  </tbody>\n",
       "</table>\n",
       "</div>"
      ],
      "text/plain": [
       "          annotator data_id  pretrained_seed  slice_idx split       task  \\\n",
       "0      observer_o12     101               40          0   cal  Amsterdam   \n",
       "10216   observer_o3     101               40          0   cal  Amsterdam   \n",
       "13620   observer_o4     101               40          0   cal  Amsterdam   \n",
       "\n",
       "       gt_volume  soft_volume  hard_volume  \n",
       "0            4.0     8.332066          6.0  \n",
       "10216        4.0     7.763233          2.0  \n",
       "13620        4.0     7.763233          2.0  "
      ]
     },
     "execution_count": 6,
     "metadata": {},
     "output_type": "execute_result"
    }
   ],
   "source": [
    "slice_df.select(data_id='101', slice_idx=0, pretrained_seed=40)"
   ]
  },
  {
   "cell_type": "code",
   "execution_count": 7,
   "metadata": {},
   "outputs": [
    {
     "ename": "NameError",
     "evalue": "name 'volume_df' is not defined",
     "output_type": "error",
     "traceback": [
      "\u001b[0;31m---------------------------------------------------------------------------\u001b[0m",
      "\u001b[0;31mNameError\u001b[0m                                 Traceback (most recent call last)",
      "Cell \u001b[0;32mIn[7], line 2\u001b[0m\n\u001b[1;32m      1\u001b[0m \u001b[38;5;66;03m# Make two new columns, one for the soft volume error and one for the hard volume error.\u001b[39;00m\n\u001b[0;32m----> 2\u001b[0m volume_df[\u001b[38;5;124m'\u001b[39m\u001b[38;5;124msoft_volume_error\u001b[39m\u001b[38;5;124m'\u001b[39m] \u001b[38;5;241m=\u001b[39m \u001b[43mvolume_df\u001b[49m[\u001b[38;5;124m'\u001b[39m\u001b[38;5;124msoft_volume\u001b[39m\u001b[38;5;124m'\u001b[39m] \u001b[38;5;241m-\u001b[39m volume_df[\u001b[38;5;124m'\u001b[39m\u001b[38;5;124mgt_volume\u001b[39m\u001b[38;5;124m'\u001b[39m]\n\u001b[1;32m      3\u001b[0m volume_df[\u001b[38;5;124m'\u001b[39m\u001b[38;5;124mhard_volume_error\u001b[39m\u001b[38;5;124m'\u001b[39m] \u001b[38;5;241m=\u001b[39m volume_df[\u001b[38;5;124m'\u001b[39m\u001b[38;5;124mhard_volume\u001b[39m\u001b[38;5;124m'\u001b[39m] \u001b[38;5;241m-\u001b[39m volume_df[\u001b[38;5;124m'\u001b[39m\u001b[38;5;124mgt_volume\u001b[39m\u001b[38;5;124m'\u001b[39m]\n",
      "\u001b[0;31mNameError\u001b[0m: name 'volume_df' is not defined"
     ]
    }
   ],
   "source": [
    "# Make two new columns, one for the soft volume error and one for the hard volume error.\n",
    "volume_df['soft_volume_error'] = volume_df['soft_volume'] - volume_df['gt_volume']\n",
    "volume_df['hard_volume_error'] = volume_df['hard_volume'] - volume_df['gt_volume']"
   ]
  },
  {
   "cell_type": "code",
   "execution_count": null,
   "metadata": {},
   "outputs": [],
   "source": [
    "melted_volume_df = pd.melt(\n",
    "    volume_df,\n",
    "    id_vars=[\"annotator\", \"data_id\", \"pretrained_seed\", \"task\"], \n",
    "    value_vars=[\"gt_volume\", \"soft_volume\", \"hard_volume\"],\n",
    "    var_name=\"volume_type\",\n",
    "    value_name=\"volume\",\n",
    ")"
   ]
  },
  {
   "cell_type": "code",
   "execution_count": null,
   "metadata": {},
   "outputs": [],
   "source": [
    "melted_error_df = pd.melt(\n",
    "    volume_df,\n",
    "    id_vars=[\"annotator\", \"data_id\", \"pretrained_seed\", \"task\", \"gt_volume\", \"soft_volume\", \"hard_volume\"],\n",
    "    value_vars=[\"soft_volume_error\", \"hard_volume_error\"],\n",
    "    var_name=\"volume_type\",\n",
    "    value_name=\"error\",\n",
    ")"
   ]
  },
  {
   "cell_type": "code",
   "execution_count": null,
   "metadata": {},
   "outputs": [],
   "source": [
    "import numpy as np\n",
    "\n",
    "# Make some columns that are useful for plotting.\n",
    "melted_error_df['abs_error'] = melted_error_df['error'].abs()\n",
    "melted_error_df['log_abs_error'] = melted_error_df['error'].abs().apply(lambda x: np.log(x + 1))"
   ]
  },
  {
   "cell_type": "markdown",
   "metadata": {},
   "source": [
    "# Experiment 1: Looking at one annotator on Amsterdam, let's look at how the volumetric comparison looks like."
   ]
  },
  {
   "cell_type": "code",
   "execution_count": null,
   "metadata": {},
   "outputs": [],
   "source": [
    "exp_1_df = melted_error_df.select(annotator='observer_o12', task='Amsterdam')"
   ]
  },
  {
   "cell_type": "code",
   "execution_count": null,
   "metadata": {},
   "outputs": [],
   "source": [
    "g = sns.catplot(\n",
    "    exp_1_df,\n",
    "    x=\"data_id\",\n",
    "    y=\"error\",\n",
    "    hue=\"volume_type\",\n",
    "    aspect=3,\n",
    "    height=8,\n",
    "    sharey=False,\n",
    ")\n",
    "# For each subplot make a line at y = 0 to show the error.\n",
    "for ax in g.axes.flat:\n",
    "    ax.axhline(0, ls='--', color='red')\n",
    "\n",
    "# Adjust the layout\n",
    "plt.subplots_adjust(top=0.85)\n",
    "g.fig.suptitle('Soft/Hard Volumetric Error', fontsize=30)\n",
    "\n",
    "# Show the plot\n",
    "plt.show()"
   ]
  },
  {
   "cell_type": "code",
   "execution_count": null,
   "metadata": {},
   "outputs": [],
   "source": [
    "g = sns.catplot(\n",
    "    melted_volume_df.select(data_id='101'),\n",
    "    x=\"volume_type\",\n",
    "    y=\"volume\",\n",
    "    hue=\"volume_type\",\n",
    "    height=8,\n",
    "    sharey=False,\n",
    "    kind=\"box\"\n",
    ")\n",
    "# For each subplot make a line at y = 0 to show the error.\n",
    "for ax in g.axes.flat:\n",
    "    ax.axhline(0, ls='--', color='red')\n",
    "\n",
    "# Adjust the layout\n",
    "plt.subplots_adjust(top=0.85)\n",
    "g.fig.suptitle('Soft/Hard Volume', fontsize=30)\n",
    "\n",
    "# Show the plot\n",
    "plt.show()"
   ]
  },
  {
   "cell_type": "code",
   "execution_count": null,
   "metadata": {},
   "outputs": [],
   "source": [
    "g = sns.catplot(\n",
    "    exp_1_df,\n",
    "    x=\"data_id\",\n",
    "    y=\"log_abs_error\",\n",
    "    hue=\"volume_type\",\n",
    "    aspect=3,\n",
    "    height=8,\n",
    "    sharey=False,\n",
    ")\n",
    "# For each subplot make a line at y = 0 to show the error.\n",
    "for ax in g.axes.flat:\n",
    "    ax.axhline(0, ls='--', color='red')\n",
    "\n",
    "# Adjust the layout\n",
    "plt.subplots_adjust(top=0.85)\n",
    "g.fig.suptitle('Absolute Soft/Hard Volumetric Log Error', fontsize=30)\n",
    "\n",
    "# Show the plot\n",
    "plt.show()"
   ]
  },
  {
   "cell_type": "markdown",
   "metadata": {},
   "source": [
    "# Experiment 2: Let's look at the same thing but this time also for Singapore."
   ]
  },
  {
   "cell_type": "code",
   "execution_count": null,
   "metadata": {},
   "outputs": [],
   "source": [
    "exp_2_df = melted_error_df.select(annotator='observer_o12', task='Singapore')"
   ]
  },
  {
   "cell_type": "code",
   "execution_count": null,
   "metadata": {},
   "outputs": [],
   "source": [
    "g = sns.catplot(\n",
    "    exp_2_df,\n",
    "    x=\"data_id\",\n",
    "    y=\"error\",\n",
    "    hue=\"volume_type\",\n",
    "    aspect=3,\n",
    "    height=8,\n",
    "    sharey=False,\n",
    ")\n",
    "# For each subplot make a line at y = 0 to show the error.\n",
    "for ax in g.axes.flat:\n",
    "    ax.axhline(0, ls='--', color='red')\n",
    "\n",
    "# Adjust the layout\n",
    "plt.subplots_adjust(top=0.85)\n",
    "g.fig.suptitle('Singapore Soft/Hard Volumetric Error', fontsize=30)\n",
    "\n",
    "# Show the plot\n",
    "plt.show()"
   ]
  },
  {
   "cell_type": "code",
   "execution_count": null,
   "metadata": {},
   "outputs": [],
   "source": [
    "g = sns.catplot(\n",
    "    exp_2_df,\n",
    "    x=\"data_id\",\n",
    "    y=\"log_abs_error\",\n",
    "    hue=\"volume_type\",\n",
    "    aspect=3,\n",
    "    height=8,\n",
    "    sharey=False,\n",
    ")\n",
    "# For each subplot make a line at y = 0 to show the error.\n",
    "for ax in g.axes.flat:\n",
    "    ax.axhline(0, ls='--', color='red')\n",
    "\n",
    "# Adjust the layout\n",
    "plt.subplots_adjust(top=0.85)\n",
    "g.fig.suptitle('Singapore Absolute Soft/Hard Volumetric Log Error', fontsize=30)\n",
    "\n",
    "# Show the plot\n",
    "plt.show()"
   ]
  },
  {
   "cell_type": "markdown",
   "metadata": {},
   "source": [
    "# Experiment 3: The interesting thing about WMH is that we have multiple annotations per data_id (for some of the data_ids). Let's gather all of the data_ids that have all three annotators."
   ]
  },
  {
   "cell_type": "code",
   "execution_count": null,
   "metadata": {},
   "outputs": [],
   "source": [
    "# Get the subset of the dataframe for which the number of unique annotators for each data_id is 3\n",
    "\n",
    "# Step 1: Group by 'data_id' and count unique 'annotator' values\n",
    "unique_counts = melted_error_df.groupby('data_id')['annotator'].nunique()\n",
    "# Step 2: Filter 'data_id's that have exactly three unique 'annotator' values\n",
    "filtered_data_ids = unique_counts[unique_counts == 3].index\n",
    "# Step 3: Get the subset of rows with the filtered 'data_id's\n",
    "multianno_melted_error_df= melted_error_df[melted_error_df['data_id'].isin(filtered_data_ids)]"
   ]
  },
  {
   "cell_type": "code",
   "execution_count": null,
   "metadata": {},
   "outputs": [],
   "source": [
    "multianno_melted_error_df['data_id'].unique().shape[0]"
   ]
  },
  {
   "cell_type": "code",
   "execution_count": null,
   "metadata": {},
   "outputs": [],
   "source": [
    "multianno_melted_error_df.select(data_id='101', pretrained_seed=40)"
   ]
  }
 ],
 "metadata": {
  "kernelspec": {
   "display_name": "Python 3",
   "language": "python",
   "name": "python3"
  },
  "language_info": {
   "codemirror_mode": {
    "name": "ipython",
    "version": 3
   },
   "file_extension": ".py",
   "mimetype": "text/x-python",
   "name": "python",
   "nbconvert_exporter": "python",
   "pygments_lexer": "ipython3",
   "version": "3.9.16"
  },
  "orig_nbformat": 4
 },
 "nbformat": 4,
 "nbformat_minor": 2
}
