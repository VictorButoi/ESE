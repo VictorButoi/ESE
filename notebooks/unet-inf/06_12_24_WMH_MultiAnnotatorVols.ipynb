{
 "cells": [
  {
   "cell_type": "code",
   "execution_count": 1,
   "metadata": {},
   "outputs": [
    {
     "name": "stderr",
     "output_type": "stream",
     "text": [
      "/local/vbutoi/envs/UniverSegTF/lib/python3.9/site-packages/pydantic/_internal/_fields.py:149: UserWarning: Field \"model_outputs\" has conflict with protected namespace \"model_\".\n",
      "\n",
      "You may be able to resolve this warning by setting `model_config['protected_namespaces'] = ()`.\n",
      "  warnings.warn(\n"
     ]
    }
   ],
   "source": [
    "import sys\n",
    "sys.path.append('/storage/vbutoi/projects')\n",
    "sys.path.append('/storage/vbutoi/libraries')\n",
    "sys.path.append('/storage/vbutoi/projects/ESE')\n",
    "sys.path.append('/storage/vbutoi/projects/UniverSeg')\n",
    "\n",
    "import matplotlib.pyplot as plt\n",
    "import pandas as pd\n",
    "import seaborn as sns\n",
    "sns.set_style(\"darkgrid\")\n",
    "sns.set_context(\"talk\")\n",
    "\n",
    "import os \n",
    "os.environ['DATAPATH'] = ':'.join((\n",
    "       '/storage/vbutoi/datasets',\n",
    "))\n",
    "\n",
    "from ese.experiment.analysis.analyze_inf import load_cal_inference_stats\n",
    "# Results loader object does everything\n",
    "from ionpy.analysis import ResultsLoader\n",
    "from pathlib import Path\n",
    "root = Path(\"/storage/vbutoi/scratch/ESE\")\n",
    "rs = ResultsLoader()\n",
    "\n",
    "# For using code without restarting.\n",
    "%load_ext autoreload\n",
    "%autoreload 2\n",
    "# For using yaml configs.\n",
    "%load_ext yamlmagic"
   ]
  },
  {
   "cell_type": "code",
   "execution_count": 2,
   "metadata": {},
   "outputs": [
    {
     "data": {
      "application/javascript": "\n            require(\n                [\n                    \"notebook/js/codecell\",\n                    \"codemirror/mode/yaml/yaml\"\n                ],\n                function(cc){\n                    cc.CodeCell.options_default.highlight_modes.magic_yaml = {\n                        reg: [\"^%%yaml\"]\n                    }\n                }\n            );\n            ",
      "text/plain": [
       "<IPython.core.display.Javascript object>"
      ]
     },
     "metadata": {},
     "output_type": "display_data"
    }
   ],
   "source": [
    "%%yaml results_cfg \n",
    "\n",
    "log:\n",
    "    root: /storage/vbutoi/scratch/ESE/inference\n",
    "    inference_groups: \n",
    "        - '06_12_24_WMH_FullMultiAnnoVol'\n",
    "\n",
    "options:\n",
    "    add_dice_loss_rows: True\n",
    "    drop_nan_metric_rows: True \n",
    "    remove_shared_columns: False\n",
    "    equal_rows_per_cfg_assert: False "
   ]
  },
  {
   "cell_type": "code",
   "execution_count": 3,
   "metadata": {},
   "outputs": [
    {
     "name": "stdout",
     "output_type": "stream",
     "text": [
      "Dropping (datapoint, metric) pairs with NaN metric score. Dropped from 201696 -> 200776 rows.\n",
      "Warning: The number of rows in the image_info_df is not the same for all log sets. Got log.root                                                                                         log_set                                              \n",
      "/storage/vbutoi/scratch/ESE/inference/06_12_24_WMH_FullMultiAnnoVol/WMH_Individual_Uncalibrated  20240612_085239-WVBT-9dccca4ef8afec21bca192030f75d2f1    18267\n",
      "                                                                                                 20240612_085243-02NK-1334ebc13752b362cdeef2fdd4b66604    18267\n",
      "                                                                                                 20240612_085248-V8CE-b3a5b8910b19a1589e7e2ac95c5a1681    18267\n",
      "                                                                                                 20240612_085252-LF35-09c30a291004abade2e995305a5e1c0e    18267\n",
      "                                                                                                 20240612_085255-A64D-ee4f8a434727eec178bed49efca3de53    12256\n",
      "                                                                                                 20240612_085300-I65V-df1c82337d12384b7590710cf48aad33    12256\n",
      "                                                                                                 20240612_085304-KH4H-4821ac270ae78b5459622926a7b24859    12256\n",
      "                                                                                                 20240612_085308-R99P-331dc6e24260264db283ac8577fca487    12256\n",
      "                                                                                                 20240612_085312-WEEX-366c357fc045fe32e0b8da48cd1262c5     4072\n",
      "                                                                                                 20240612_085316-TE96-7aec8e46d47aab95d130f73042d81270     4072\n",
      "                                                                                                 20240612_085320-PYL0-02717de01175c5b071fe8a22a58d606a     4072\n",
      "                                                                                                 20240612_085324-L3AL-7a3e5c51d2d67f407da55aade5162069     4072\n",
      "                                                                                                 20240612_085329-OQ7H-bc5e7903b8fadfa1b741743f94ec490a     6077\n",
      "                                                                                                 20240612_085333-0ULW-19e82408875e5dd6218133ee09aab975     6077\n",
      "                                                                                                 20240612_085337-5I16-63cd1c9a1e310f494443bc5ad2418720     6077\n",
      "                                                                                                 20240612_085341-AJD0-d4716d3b3842eecb4b9e19e45bdf43d1     6077\n",
      "                                                                                                 20240612_085345-CXO9-1c8e77fa92d9acd7ea96f15917907757     4360\n",
      "                                                                                                 20240612_085350-MJKP-463ce9712d732d6c0b468bfb9839c4fc     4360\n",
      "                                                                                                 20240612_085353-T9SS-5bb29184426a526029d8b206291928cd     4360\n",
      "                                                                                                 20240612_085358-KMM7-9b82ebfe755b0e482da1b94026cdd64b     4360\n",
      "                                                                                                 20240612_085402-J1CO-1dcc5b046c98f4c85e504e35b88c95bc     5162\n",
      "                                                                                                 20240612_085406-FOJF-d19cb50fd76824452172d02306330029     5162\n",
      "                                                                                                 20240612_085410-CYV2-d663c2c97c692237d13490b4666b245e     5162\n",
      "                                                                                                 20240612_085415-KRU6-51a6e4c4b55dfc732755be8ef1aff1ba     5162\n",
      "dtype: int64.\n",
      "Finished loading inference stats.\n",
      "Log amounts: root                                                                                             log_set                                              \n",
      "/storage/vbutoi/scratch/ESE/inference/06_12_24_WMH_FullMultiAnnoVol/WMH_Individual_Uncalibrated  20240612_085239-WVBT-9dccca4ef8afec21bca192030f75d2f1    19795\n",
      "                                                                                                 20240612_085243-02NK-1334ebc13752b362cdeef2fdd4b66604    19795\n",
      "                                                                                                 20240612_085248-V8CE-b3a5b8910b19a1589e7e2ac95c5a1681    19795\n",
      "                                                                                                 20240612_085252-LF35-09c30a291004abade2e995305a5e1c0e    19795\n",
      "                                                                                                 20240612_085255-A64D-ee4f8a434727eec178bed49efca3de53    13282\n",
      "                                                                                                 20240612_085300-I65V-df1c82337d12384b7590710cf48aad33    13282\n",
      "                                                                                                 20240612_085304-KH4H-4821ac270ae78b5459622926a7b24859    13282\n",
      "                                                                                                 20240612_085308-R99P-331dc6e24260264db283ac8577fca487    13282\n",
      "                                                                                                 20240612_085312-WEEX-366c357fc045fe32e0b8da48cd1262c5     4413\n",
      "                                                                                                 20240612_085316-TE96-7aec8e46d47aab95d130f73042d81270     4413\n",
      "                                                                                                 20240612_085320-PYL0-02717de01175c5b071fe8a22a58d606a     4413\n",
      "                                                                                                 20240612_085324-L3AL-7a3e5c51d2d67f407da55aade5162069     4413\n",
      "                                                                                                 20240612_085329-OQ7H-bc5e7903b8fadfa1b741743f94ec490a     6587\n",
      "                                                                                                 20240612_085333-0ULW-19e82408875e5dd6218133ee09aab975     6587\n",
      "                                                                                                 20240612_085337-5I16-63cd1c9a1e310f494443bc5ad2418720     6587\n",
      "                                                                                                 20240612_085341-AJD0-d4716d3b3842eecb4b9e19e45bdf43d1     6587\n",
      "                                                                                                 20240612_085345-CXO9-1c8e77fa92d9acd7ea96f15917907757     4725\n",
      "                                                                                                 20240612_085350-MJKP-463ce9712d732d6c0b468bfb9839c4fc     4725\n",
      "                                                                                                 20240612_085353-T9SS-5bb29184426a526029d8b206291928cd     4725\n",
      "                                                                                                 20240612_085358-KMM7-9b82ebfe755b0e482da1b94026cdd64b     4725\n",
      "                                                                                                 20240612_085402-J1CO-1dcc5b046c98f4c85e504e35b88c95bc     5594\n",
      "                                                                                                 20240612_085406-FOJF-d19cb50fd76824452172d02306330029     5594\n",
      "                                                                                                 20240612_085410-CYV2-d663c2c97c692237d13490b4666b245e     5594\n",
      "                                                                                                 20240612_085415-KRU6-51a6e4c4b55dfc732755be8ef1aff1ba     5594\n",
      "dtype: int64\n"
     ]
    }
   ],
   "source": [
    "inference_df = load_cal_inference_stats(\n",
    "    results_cfg=results_cfg,\n",
    "    load_cached=False,\n",
    ")"
   ]
  },
  {
   "cell_type": "code",
   "execution_count": null,
   "metadata": {},
   "outputs": [],
   "source": [
    "volume_df = inference_df.groupby([\n",
    "    \"data_id\",\n",
    "    \"pretrained_seed\", \n",
    "])[\n",
    "    \"gt_volume\",\n",
    "    \"soft_volume\",\n",
    "    \"hard_volume\",\n",
    "].sum().reset_index()"
   ]
  },
  {
   "cell_type": "code",
   "execution_count": null,
   "metadata": {},
   "outputs": [],
   "source": [
    "# Make two new columns, one for the soft volume error and one for the hard volume error.\n",
    "volume_df['soft_volume_error'] = volume_df['soft_volume'] - volume_df['gt_volume']\n",
    "volume_df['hard_volume_error'] = volume_df['hard_volume'] - volume_df['gt_volume']"
   ]
  },
  {
   "cell_type": "markdown",
   "metadata": {},
   "source": [
    "## Let's see how good the soft-volume is at pure-volumetric prediction."
   ]
  },
  {
   "cell_type": "code",
   "execution_count": null,
   "metadata": {},
   "outputs": [],
   "source": [
    "# We need to melt our dataframe to plot it.\n",
    "measure_df = pd.melt(\n",
    "    volume_df,\n",
    "    id_vars=[\"data_id\", \"pretrained_seed\"],\n",
    "    value_vars=[\"gt_volume\", \"soft_volume\", \"hard_volume\"],\n",
    "    var_name=\"volume_type\",\n",
    "    value_name=\"volume\",\n",
    ")"
   ]
  },
  {
   "cell_type": "code",
   "execution_count": null,
   "metadata": {},
   "outputs": [],
   "source": [
    "g = sns.catplot(\n",
    "    measure_df,\n",
    "    x=\"data_id\",\n",
    "    y=\"volume\",\n",
    "    hue=\"volume_type\",\n",
    "    col_wrap=3,\n",
    "    aspect=1.5,\n",
    "    sharey=False\n",
    ")\n",
    "# We need a sup-title to explain what we are looking at.\n",
    "\n",
    "# Adjust the layout\n",
    "plt.subplots_adjust(top=0.85)\n",
    "g.fig.suptitle('Soft/Hard Volume Prediction by Calibrator', fontsize=30)\n",
    "\n",
    "# Show the plot\n",
    "plt.show()"
   ]
  },
  {
   "cell_type": "markdown",
   "metadata": {},
   "source": [
    "## Another way to look at this is the distribution of errors."
   ]
  },
  {
   "cell_type": "code",
   "execution_count": null,
   "metadata": {},
   "outputs": [],
   "source": [
    "error_df = pd.melt(\n",
    "    volume_df,\n",
    "    id_vars=[\"calibrator\", \"data_id\", \"pretrained_seed\"],\n",
    "    value_vars=[\"soft_volume_error\", \"hard_volume_error\"],\n",
    "    var_name=\"volume_type\",\n",
    "    value_name=\"error\",\n",
    ")"
   ]
  },
  {
   "cell_type": "code",
   "execution_count": null,
   "metadata": {},
   "outputs": [],
   "source": [
    "g = sns.catplot(\n",
    "    error_df,\n",
    "    x=\"calibrator\",\n",
    "    y=\"error\",\n",
    "    hue=\"volume_type\",\n",
    "    col=\"data_id\",\n",
    "    col_wrap=3,\n",
    "    aspect=1.5,\n",
    "    sharey=False,\n",
    ")\n",
    "# For each subplot make a line at y = 0 to show the error.\n",
    "for ax in g.axes.flat:\n",
    "    ax.axhline(0, ls='--', color='red')\n",
    "\n",
    "# Adjust the layout\n",
    "plt.subplots_adjust(top=0.85)\n",
    "g.fig.suptitle('Soft/Hard Volumetric Error by Calibrator', fontsize=30)\n",
    "\n",
    "# Show the plot\n",
    "plt.show()"
   ]
  }
 ],
 "metadata": {
  "kernelspec": {
   "display_name": "Python 3",
   "language": "python",
   "name": "python3"
  },
  "language_info": {
   "codemirror_mode": {
    "name": "ipython",
    "version": 3
   },
   "file_extension": ".py",
   "mimetype": "text/x-python",
   "name": "python",
   "nbconvert_exporter": "python",
   "pygments_lexer": "ipython3",
   "version": "3.9.16"
  },
  "orig_nbformat": 4
 },
 "nbformat": 4,
 "nbformat_minor": 2
}
