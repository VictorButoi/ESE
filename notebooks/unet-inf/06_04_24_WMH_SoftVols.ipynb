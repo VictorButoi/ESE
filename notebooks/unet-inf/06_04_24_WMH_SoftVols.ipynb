{
 "cells": [
  {
   "cell_type": "code",
   "execution_count": null,
   "metadata": {},
   "outputs": [],
   "source": [
    "import sys\n",
    "sys.path.append('/storage/vbutoi/projects')\n",
    "sys.path.append('/storage/vbutoi/libraries')\n",
    "sys.path.append('/storage/vbutoi/projects/ESE')\n",
    "sys.path.append('/storage/vbutoi/projects/UniverSeg')\n",
    "\n",
    "import matplotlib.pyplot as plt\n",
    "import pandas as pd\n",
    "import seaborn as sns\n",
    "sns.set_style(\"darkgrid\")\n",
    "sns.set_context(\"talk\")\n",
    "\n",
    "import os \n",
    "os.environ['DATAPATH'] = ':'.join((\n",
    "       '/storage/vbutoi/datasets',\n",
    "))\n",
    "\n",
    "from ese.experiment.analysis.analyze_inf import load_cal_inference_stats\n",
    "# Results loader object does everything\n",
    "from ionpy.analysis import ResultsLoader\n",
    "from pathlib import Path\n",
    "root = Path(\"/storage/vbutoi/scratch/ESE\")\n",
    "rs = ResultsLoader()\n",
    "\n",
    "# For using code without restarting.\n",
    "%load_ext autoreload\n",
    "%autoreload 2\n",
    "# For using yaml configs.\n",
    "%load_ext yamlmagic"
   ]
  },
  {
   "cell_type": "code",
   "execution_count": null,
   "metadata": {},
   "outputs": [],
   "source": [
    "%%yaml results_cfg \n",
    "\n",
    "log:\n",
    "    root: /storage/vbutoi/scratch/ESE/inference\n",
    "    inference_groups: \n",
    "        - '06_04_24_WMH_DifferenceExps'\n",
    "\n",
    "options:\n",
    "    add_dice_loss_rows: True\n",
    "    drop_nan_metric_rows: True \n",
    "    remove_shared_columns: False\n",
    "    equal_rows_per_cfg_assert: False "
   ]
  },
  {
   "cell_type": "code",
   "execution_count": null,
   "metadata": {},
   "outputs": [],
   "source": [
    "inference_df = load_cal_inference_stats(\n",
    "    results_cfg=results_cfg,\n",
    "    load_cached=False,\n",
    ")"
   ]
  },
  {
   "cell_type": "code",
   "execution_count": null,
   "metadata": {},
   "outputs": [],
   "source": [
    "# We want to compare how Dice relates to ECE, this means we need to pivot our dataframe\n",
    "inference_df_piv = inference_df.pivot(index=['exp_name', 'calibrator', 'split', 'dataset_name', 'data_id', 'pretrained_exp_root', 'pred_hash'], columns='image_metric', values='metric_score').reset_index()"
   ]
  },
  {
   "cell_type": "code",
   "execution_count": null,
   "metadata": {},
   "outputs": [],
   "source": [
    "inference_df_piv['calibrator'] = inference_df_piv['calibrator'].astype('category')\n",
    "inference_df_piv['calibrator'] = inference_df_piv['calibrator'].cat.reorder_categories([\n",
    "    'Uncalibrated',\n",
    "    'TempScaling',\n",
    "    'LTS',\n",
    "])\n",
    "\n",
    "inference_df_piv['split'] = inference_df_piv['split'].astype('category')\n",
    "inference_df_piv['split'] = inference_df_piv['split'].cat.reorder_categories([\n",
    "    'val',\n",
    "    'cal'\n",
    "])"
   ]
  },
  {
   "cell_type": "code",
   "execution_count": null,
   "metadata": {},
   "outputs": [],
   "source": [
    "sns.catplot(\n",
    "    data=inference_df_piv,\n",
    "    x='calibrator',\n",
    "    y='Dice',\n",
    "    kind='bar',\n",
    "    errorbar='sd',\n",
    "    col='split',\n",
    "    height=5,\n",
    "    aspect=2,\n",
    "    legend_out=False,\n",
    ")"
   ]
  },
  {
   "cell_type": "code",
   "execution_count": null,
   "metadata": {},
   "outputs": [],
   "source": [
    "sns.catplot(\n",
    "    data=inference_df_piv,\n",
    "    x='calibrator',\n",
    "    y='Image_ECE',\n",
    "    kind='bar',\n",
    "    errorbar='sd',\n",
    "    col='split',\n",
    "    height=5,\n",
    "    aspect=2,\n",
    "    legend_out=False,\n",
    ")"
   ]
  },
  {
   "cell_type": "code",
   "execution_count": null,
   "metadata": {},
   "outputs": [],
   "source": [
    "inference_df_piv.keys()"
   ]
  },
  {
   "cell_type": "code",
   "execution_count": null,
   "metadata": {},
   "outputs": [],
   "source": [
    "# Melt the dataframe\n",
    "inference_df_melted = pd.melt(inference_df, id_vars=['data_id', 'calibrator', 'pretrained_exp_root', 'split', 'pred_hash', 'dataset_name'], value_vars=['gt_volume', 'soft_volume', 'hard_volume'], var_name='Volume_Type', value_name='Volume')"
   ]
  },
  {
   "cell_type": "code",
   "execution_count": null,
   "metadata": {},
   "outputs": [],
   "source": [
    "sns.catplot(\n",
    "    data=inference_df_melted,\n",
    "    x='dataset_name',\n",
    "    y='Volume',\n",
    "    hue='Volume_Type',\n",
    "    kind='boxen',\n",
    "    col='split',\n",
    "    row='calibrator',\n",
    "    errorbar='sd',\n",
    "    height=5,\n",
    "    aspect=3,\n",
    "    legend_out=True,\n",
    ")\n"
   ]
  },
  {
   "cell_type": "code",
   "execution_count": null,
   "metadata": {},
   "outputs": [],
   "source": [
    "# Melt the dataframe\n",
    "inference_df_piv_melted = pd.melt(inference_df_piv, id_vars=['data_id', 'calibrator', 'pretrained_exp_root', 'split', 'pred_hash', 'dataset_name', 'Image_ECE'], value_vars=['SoftVolumeError', 'HardVolumeError'], var_name='Pred_Type', value_name='Measurement_Error')"
   ]
  },
  {
   "cell_type": "code",
   "execution_count": null,
   "metadata": {},
   "outputs": [],
   "source": [
    "sns.relplot(\n",
    "    data=inference_df_piv_melted,\n",
    "    x='Image_ECE',\n",
    "    y='Measurement_Error',\n",
    "    hue='calibrator',\n",
    "    col='split',\n",
    "    height=5,\n",
    "    alpha=0.8,\n",
    ")"
   ]
  },
  {
   "cell_type": "code",
   "execution_count": null,
   "metadata": {},
   "outputs": [],
   "source": [
    "# Create a FacetGrid with dataset_name as columns\n",
    "g = sns.FacetGrid(\n",
    "    inference_df_piv_melted, \n",
    "    col='split', \n",
    "    height=5, \n",
    "    aspect=1.5, \n",
    "    sharex=False, \n",
    "    sharey=False\n",
    ")\n",
    "\n",
    "# Map the KDE plot to the grid\n",
    "g.map(sns.kdeplot, 'Image_ECE', fill=True, alpha=0.5)\n",
    "\n",
    "# Add a legend\n",
    "g.add_legend()\n",
    "\n",
    "# Adjust the layout\n",
    "plt.subplots_adjust(top=0.9)\n",
    "g.fig.suptitle('KDE Plots of Image ECE')\n",
    "\n",
    "# Show the plot\n",
    "plt.show()"
   ]
  },
  {
   "cell_type": "code",
   "execution_count": null,
   "metadata": {},
   "outputs": [],
   "source": [
    "import numpy as np\n",
    "\n",
    "# Create a FacetGrid with dataset_name as columns\n",
    "g = sns.FacetGrid(\n",
    "    inference_df_piv_melted, \n",
    "    col='calibrator', \n",
    "    row='split',\n",
    "    hue='Pred_Type', \n",
    "    height=8, \n",
    "    aspect=1.2, \n",
    "    sharex=False, \n",
    "    sharey=False\n",
    ")\n",
    "\n",
    "def kde_with_mean(data, **kwargs):\n",
    "    sns.kdeplot(data, fill=True, alpha=0.5, **kwargs)\n",
    "    mean_val = np.mean(data)\n",
    "    plt.axvline(mean_val, linestyle='--', color=kwargs.get('color', 'k'))\n",
    "    plt.axvline(0, linestyle='--', color='black', linewidth=1.5)\n",
    "\n",
    "# Map the KDE plot to the grid\n",
    "g.map(kde_with_mean, 'Measurement_Error')\n",
    "\n",
    "# Add a legend\n",
    "g.add_legend()\n",
    "\n",
    "# Adjust the layout\n",
    "plt.subplots_adjust(top=0.9)\n",
    "g.fig.suptitle('KDE Plots of Measurement Error by Dataset and Prediction Type')\n",
    "\n",
    "# Show the plot\n",
    "plt.show()"
   ]
  }
 ],
 "metadata": {
  "kernelspec": {
   "display_name": "Python 3",
   "language": "python",
   "name": "python3"
  },
  "language_info": {
   "codemirror_mode": {
    "name": "ipython",
    "version": 3
   },
   "file_extension": ".py",
   "mimetype": "text/x-python",
   "name": "python",
   "nbconvert_exporter": "python",
   "pygments_lexer": "ipython3",
   "version": "3.9.16"
  },
  "orig_nbformat": 4
 },
 "nbformat": 4,
 "nbformat_minor": 2
}
