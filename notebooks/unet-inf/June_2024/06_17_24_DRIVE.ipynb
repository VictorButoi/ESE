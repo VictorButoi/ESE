{
 "cells": [
  {
   "cell_type": "code",
   "execution_count": null,
   "metadata": {},
   "outputs": [],
   "source": [
    "import sys\n",
    "sys.path.append('/storage/vbutoi/projects')\n",
    "sys.path.append('/storage/vbutoi/libraries')\n",
    "sys.path.append('/storage/vbutoi/projects/ESE')\n",
    "sys.path.append('/storage/vbutoi/projects/UniverSeg')\n",
    "\n",
    "import matplotlib.pyplot as plt\n",
    "import numpy as np\n",
    "import pandas as pd\n",
    "import seaborn as sns\n",
    "sns.set_style(\"darkgrid\")\n",
    "sns.set_context(\"talk\")\n",
    "\n",
    "import os \n",
    "os.environ['DATAPATH'] = ':'.join((\n",
    "       '/storage/vbutoi/datasets',\n",
    "))\n",
    "\n",
    "from ese.experiment.analysis.analyze_inf import load_cal_inference_stats\n",
    "# Results loader object does everything\n",
    "from ionpy.analysis import ResultsLoader\n",
    "from pathlib import Path\n",
    "root = Path(\"/storage/vbutoi/scratch/ESE\")\n",
    "rs = ResultsLoader()\n",
    "\n",
    "# For using code without restarting.\n",
    "%load_ext autoreload\n",
    "%autoreload 2\n",
    "# For using yaml configs.\n",
    "%load_ext yamlmagic"
   ]
  },
  {
   "cell_type": "code",
   "execution_count": null,
   "metadata": {},
   "outputs": [],
   "source": [
    "%%yaml results_cfg \n",
    "\n",
    "log:\n",
    "    root: /storage/vbutoi/scratch/ESE/inference\n",
    "    inference_groups: \n",
    "        - '06_17_24_EXPANDED_DRIVE_Hard'\n",
    "        - '06_17_24_EXPANDED_DRIVE_SVLS'\n",
    "\n",
    "options:\n",
    "    add_dice_loss_rows: True\n",
    "    drop_nan_metric_rows: True \n",
    "    remove_shared_columns: False\n",
    "    equal_rows_per_cfg_assert: False "
   ]
  },
  {
   "cell_type": "code",
   "execution_count": null,
   "metadata": {},
   "outputs": [],
   "source": [
    "inference_df = load_cal_inference_stats(\n",
    "    results_cfg=results_cfg,\n",
    "    load_cached=False,\n",
    ")"
   ]
  },
  {
   "cell_type": "code",
   "execution_count": null,
   "metadata": {},
   "outputs": [],
   "source": [
    "# For the purpose of this experiment, we only care about a few columns in particular:\n",
    "exp_columns = [\n",
    "    \"data_id\",\n",
    "    \"gt_volume\",\n",
    "    \"hard_volume\",\n",
    "    \"soft_volume\",\n",
    "    \"pretrained_seed\", \n",
    "    \"pretrained_exp_root\",\n",
    "    \"split\",\n",
    "]\n",
    "# Take these columns of the inference_df, drop other columns.\n",
    "volume_df = inference_df[exp_columns]\n",
    "# Remove the duplicate rows.\n",
    "volume_df = volume_df.drop_duplicates()"
   ]
  },
  {
   "cell_type": "code",
   "execution_count": null,
   "metadata": {},
   "outputs": [],
   "source": [
    "# Make two new columns, one for the soft volume error and one for the hard volume error.\n",
    "volume_df['soft_volume_error'] = volume_df['soft_volume'] - volume_df['gt_volume']\n",
    "volume_df['hard_volume_error'] = volume_df['hard_volume'] - volume_df['gt_volume']\n",
    "\n",
    "# Make the normalized metric that divides the error by the ground truth volume.\n",
    "volume_df['soft_norm_volume_error'] = volume_df['soft_volume_error'] / volume_df['gt_volume']\n",
    "volume_df['hard_norm_volume_error'] = volume_df['hard_volume_error'] / volume_df['gt_volume']"
   ]
  },
  {
   "cell_type": "markdown",
   "metadata": {},
   "source": [
    "# Library Funcs"
   ]
  },
  {
   "cell_type": "code",
   "execution_count": null,
   "metadata": {},
   "outputs": [],
   "source": [
    "def prepare_error_df(raw_df, groupby_keys):\n",
    "    # Make a clone of the volume df.\n",
    "    input_df = raw_df.copy()\n",
    "    # Melt the dataframe to have a single column for the error.\n",
    "    error_df = pd.melt(\n",
    "        input_df,\n",
    "        id_vars=groupby_keys,\n",
    "        value_vars=[\"soft_volume_error\", \"hard_volume_error\"],\n",
    "        var_name=\"volume_type\",\n",
    "        value_name=\"error\",\n",
    "    )\n",
    "    # Make some columns that are useful for plotting.\n",
    "    error_df['abs_error'] = error_df['error'].abs()\n",
    "    error_df['log_abs_error'] = error_df['error'].abs().apply(lambda x: np.log(x + 1))\n",
    "    # Return the melted dataframe.\n",
    "    return error_df\n",
    "\n",
    "\n",
    "def calibrator(pretrained_exp_root):\n",
    "    if \"SVLS\" in pretrained_exp_root:\n",
    "        return \"SVLS\"\n",
    "    else:\n",
    "        return \"Uncalibrated\"\n",
    "\n",
    "\n",
    "def process_volume_types(input_df):\n",
    "    # Make a clone of the input_df\n",
    "    df = input_df.copy()\n",
    "    # Drop all the rows where calibrator != Uncalibrated AND the volume_type is hard_volume_error.\n",
    "    df = df[~((df['calibrator'] != 'Uncalibrated') & (df['volume_type'] == 'hard_volume_error'))]\n",
    "    # Then we augment the volume_type with the calibrator name.\n",
    "    def volume_type(calibrator, volume_type):\n",
    "        if calibrator == \"Uncalibrated\":\n",
    "            return \"Uncalibrated \" + \" \".join(volume_type.split(\"_\")[:-1])\n",
    "        else:\n",
    "            return calibrator + \" soft_volume\"\n",
    "    df['volume_type'] = df.apply(lambda x: volume_type(x['calibrator'], x['volume_type']), axis=1)\n",
    "    # Finally, sort by data_id\n",
    "    df = df.sort_values(by=\"data_id\")\n",
    "    # Return the augmented dataframe.\n",
    "    return df"
   ]
  },
  {
   "cell_type": "code",
   "execution_count": null,
   "metadata": {},
   "outputs": [],
   "source": [
    "volume_df.augment(calibrator)\n",
    "# Make some columns that are useful for plotting.\n",
    "raw_melted_error_df = prepare_error_df(\n",
    "    volume_df, \n",
    "    groupby_keys=[\n",
    "        \"calibrator\",\n",
    "        \"data_id\", \n",
    "        \"pretrained_seed\", \n",
    "        \"gt_volume\", \n",
    "        \"soft_volume\", \n",
    "        \"hard_volume\",\n",
    "        \"split\",\n",
    "    ]\n",
    ")\n",
    "# Process the volume types.\n",
    "melted_error_df = process_volume_types(raw_melted_error_df)"
   ]
  },
  {
   "cell_type": "markdown",
   "metadata": {},
   "source": [
    "### First, we look at how we perform with standard difference on the Amsterdam hospital."
   ]
  },
  {
   "cell_type": "code",
   "execution_count": null,
   "metadata": {},
   "outputs": [],
   "source": [
    "g = sns.catplot(\n",
    "    melted_error_df,\n",
    "    x=\"data_id\",\n",
    "    y=\"abs_error\",\n",
    "    hue=\"volume_type\",\n",
    "    aspect=3,\n",
    "    height=6,\n",
    "    sharex=False,\n",
    "    sharey=False\n",
    ")\n",
    "# For each subplot make a line at y = 0 to show the error.\n",
    "for ax in g.axes.flat:\n",
    "    ax.axhline(0, ls='--', color='red')\n",
    "\n",
    "# Adjust the layout\n",
    "plt.subplots_adjust(top=0.85)\n",
    "g.fig.suptitle('Soft/Hard Volumetric Error', fontsize=30)\n",
    "\n",
    "# Show the plot\n",
    "plt.show()"
   ]
  },
  {
   "cell_type": "code",
   "execution_count": null,
   "metadata": {},
   "outputs": [],
   "source": [
    "# We want to calculate now the average (across seeds) of the the absolute error for each method.\n",
    "# That means first averaging within each seed, then averaging across seeds.\n",
    "# We group by the data_id and the volume_type.\n",
    "grouped = melted_error_df.groupby([\"pretrained_seed\", \"volume_type\"]).agg(\n",
    "    abs_error=(\"abs_error\", \"mean\"),\n",
    ").reset_index()"
   ]
  },
  {
   "cell_type": "code",
   "execution_count": null,
   "metadata": {},
   "outputs": [],
   "source": [
    "# make a table with each row being the volume type, and the column being the abs_error mean with standard deviation in another column.\n",
    "table = grouped.pivot_table(\n",
    "    values=\"abs_error\",\n",
    "    index=\"volume_type\",\n",
    "    columns=\"pretrained_seed\",\n",
    "    aggfunc=\"mean\",\n",
    ")\n",
    "# Average across the pretrained seeds to make an average column, and then make a stdv column.\n",
    "table['mean'] = table.mean(axis=1)\n",
    "table['stdv'] = table.std(axis=1)\n",
    "# We can drop all other columns that aren't mean and stdv\n",
    "table = table[['mean', 'stdv']]"
   ]
  },
  {
   "cell_type": "code",
   "execution_count": null,
   "metadata": {},
   "outputs": [],
   "source": [
    "table"
   ]
  }
 ],
 "metadata": {
  "kernelspec": {
   "display_name": "Python 3",
   "language": "python",
   "name": "python3"
  },
  "language_info": {
   "codemirror_mode": {
    "name": "ipython",
    "version": 3
   },
   "file_extension": ".py",
   "mimetype": "text/x-python",
   "name": "python",
   "nbconvert_exporter": "python",
   "pygments_lexer": "ipython3",
   "version": "3.9.16"
  },
  "orig_nbformat": 4
 },
 "nbformat": 4,
 "nbformat_minor": 2
}
