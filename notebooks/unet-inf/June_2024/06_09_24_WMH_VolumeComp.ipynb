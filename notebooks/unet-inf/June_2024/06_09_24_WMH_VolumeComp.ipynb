{
 "cells": [
  {
   "cell_type": "code",
   "execution_count": null,
   "metadata": {},
   "outputs": [],
   "source": [
    "import sys\n",
    "sys.path.append('/storage/vbutoi/projects')\n",
    "sys.path.append('/storage/vbutoi/libraries')\n",
    "sys.path.append('/storage/vbutoi/projects/ESE')\n",
    "sys.path.append('/storage/vbutoi/projects/UniverSeg')\n",
    "\n",
    "import matplotlib.pyplot as plt\n",
    "import pandas as pd\n",
    "import seaborn as sns\n",
    "sns.set_style(\"darkgrid\")\n",
    "sns.set_context(\"talk\")\n",
    "\n",
    "import os \n",
    "os.environ['DATAPATH'] = ':'.join((\n",
    "       '/storage/vbutoi/datasets',\n",
    "))\n",
    "\n",
    "from ese.experiment.analysis.analyze_inf import load_cal_inference_stats\n",
    "# Results loader object does everything\n",
    "from ionpy.analysis import ResultsLoader\n",
    "from pathlib import Path\n",
    "root = Path(\"/storage/vbutoi/scratch/ESE\")\n",
    "rs = ResultsLoader()\n",
    "\n",
    "# For using code without restarting.\n",
    "%load_ext autoreload\n",
    "%autoreload 2\n",
    "# For using yaml configs.\n",
    "%load_ext yamlmagic"
   ]
  },
  {
   "cell_type": "code",
   "execution_count": null,
   "metadata": {},
   "outputs": [],
   "source": [
    "%%yaml results_cfg \n",
    "\n",
    "log:\n",
    "    root: /storage/vbutoi/scratch/ESE/inference\n",
    "    inference_groups: \n",
    "        - '06_04_24_WMH_DifferenceExps'\n",
    "\n",
    "options:\n",
    "    add_dice_loss_rows: True\n",
    "    drop_nan_metric_rows: True \n",
    "    remove_shared_columns: False\n",
    "    equal_rows_per_cfg_assert: False "
   ]
  },
  {
   "cell_type": "code",
   "execution_count": null,
   "metadata": {},
   "outputs": [],
   "source": [
    "inference_df = load_cal_inference_stats(\n",
    "    results_cfg=results_cfg,\n",
    "    load_cached=False,\n",
    ")"
   ]
  },
  {
   "cell_type": "code",
   "execution_count": null,
   "metadata": {},
   "outputs": [],
   "source": [
    "# We are limiting ourselves to looking at the calibration split for now.\n",
    "inference_df = inference_df.select(split='cal').reset_index(drop=True)\n",
    "# Make the calibrator column a category so that we can plot in the order we like.\n",
    "inference_df['calibrator'] = inference_df['calibrator'].astype('category')\n",
    "inference_df['calibrator'] = inference_df['calibrator'].cat.reorder_categories([\n",
    "    'Uncalibrated',\n",
    "    'TempScaling',\n",
    "    'LTS',\n",
    "])"
   ]
  },
  {
   "cell_type": "code",
   "execution_count": null,
   "metadata": {},
   "outputs": [],
   "source": [
    "inference_df"
   ]
  },
  {
   "cell_type": "code",
   "execution_count": null,
   "metadata": {},
   "outputs": [],
   "source": [
    "volume_df = inference_df.groupby([\n",
    "    \"calibrator\",\n",
    "    \"data_id\",\n",
    "    \"pretrained_seed\", \n",
    "])[\n",
    "    \"gt_volume\",\n",
    "    \"soft_volume\",\n",
    "    \"hard_volume\",\n",
    "].sum().reset_index()"
   ]
  },
  {
   "cell_type": "code",
   "execution_count": null,
   "metadata": {},
   "outputs": [],
   "source": [
    "volume_df.head(10)"
   ]
  },
  {
   "cell_type": "code",
   "execution_count": null,
   "metadata": {},
   "outputs": [],
   "source": [
    "# Make two new columns, one for the soft volume error and one for the hard volume error.\n",
    "volume_df['soft_volume_error'] = volume_df['soft_volume'] - volume_df['gt_volume']\n",
    "volume_df['hard_volume_error'] = volume_df['hard_volume'] - volume_df['gt_volume']"
   ]
  },
  {
   "cell_type": "markdown",
   "metadata": {},
   "source": [
    "## Let's see how good the soft-volume is at pure-volumetric prediction."
   ]
  },
  {
   "cell_type": "code",
   "execution_count": null,
   "metadata": {},
   "outputs": [],
   "source": [
    "# We need to melt our dataframe to plot it.\n",
    "measure_df = pd.melt(\n",
    "    volume_df,\n",
    "    id_vars=[\"calibrator\", \"data_id\", \"pretrained_seed\"],\n",
    "    value_vars=[\"gt_volume\", \"soft_volume\", \"hard_volume\"],\n",
    "    var_name=\"volume_type\",\n",
    "    value_name=\"volume\",\n",
    ")"
   ]
  },
  {
   "cell_type": "code",
   "execution_count": null,
   "metadata": {},
   "outputs": [],
   "source": [
    "g = sns.catplot(\n",
    "    measure_df,\n",
    "    x=\"calibrator\",\n",
    "    y=\"volume\",\n",
    "    hue=\"volume_type\",\n",
    "    col=\"data_id\",\n",
    "    col_wrap=3,\n",
    "    aspect=1.5,\n",
    "    sharey=False\n",
    ")\n",
    "# We need a sup-title to explain what we are looking at.\n",
    "\n",
    "# Adjust the layout\n",
    "plt.subplots_adjust(top=0.85)\n",
    "g.fig.suptitle('Soft/Hard Volume Prediction by Calibrator', fontsize=30)\n",
    "\n",
    "# Show the plot\n",
    "plt.show()"
   ]
  },
  {
   "cell_type": "markdown",
   "metadata": {},
   "source": [
    "## Another way to look at this is the distribution of errors."
   ]
  },
  {
   "cell_type": "code",
   "execution_count": null,
   "metadata": {},
   "outputs": [],
   "source": [
    "error_df = pd.melt(\n",
    "    volume_df,\n",
    "    id_vars=[\"calibrator\", \"data_id\", \"pretrained_seed\"],\n",
    "    value_vars=[\"soft_volume_error\", \"hard_volume_error\"],\n",
    "    var_name=\"volume_type\",\n",
    "    value_name=\"error\",\n",
    ")"
   ]
  },
  {
   "cell_type": "code",
   "execution_count": null,
   "metadata": {},
   "outputs": [],
   "source": [
    "g = sns.catplot(\n",
    "    error_df,\n",
    "    x=\"calibrator\",\n",
    "    y=\"error\",\n",
    "    hue=\"volume_type\",\n",
    "    col=\"data_id\",\n",
    "    col_wrap=3,\n",
    "    aspect=1.5,\n",
    "    sharey=False,\n",
    ")\n",
    "# For each subplot make a line at y = 0 to show the error.\n",
    "for ax in g.axes.flat:\n",
    "    ax.axhline(0, ls='--', color='red')\n",
    "\n",
    "# Adjust the layout\n",
    "plt.subplots_adjust(top=0.85)\n",
    "g.fig.suptitle('Soft/Hard Volumetric Error by Calibrator', fontsize=30)\n",
    "\n",
    "# Show the plot\n",
    "plt.show()"
   ]
  }
 ],
 "metadata": {
  "kernelspec": {
   "display_name": "Python 3",
   "language": "python",
   "name": "python3"
  },
  "language_info": {
   "codemirror_mode": {
    "name": "ipython",
    "version": 3
   },
   "file_extension": ".py",
   "mimetype": "text/x-python",
   "name": "python",
   "nbconvert_exporter": "python",
   "pygments_lexer": "ipython3",
   "version": "3.9.16"
  },
  "orig_nbformat": 4
 },
 "nbformat": 4,
 "nbformat_minor": 2
}
