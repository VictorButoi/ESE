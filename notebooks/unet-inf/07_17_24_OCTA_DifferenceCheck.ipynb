{
 "cells": [
  {
   "cell_type": "code",
   "execution_count": null,
   "metadata": {},
   "outputs": [],
   "source": [
    "import sys\n",
    "sys.path.append('/storage/vbutoi/projects')\n",
    "sys.path.append('/storage/vbutoi/libraries')\n",
    "sys.path.append('/storage/vbutoi/projects/ESE')\n",
    "sys.path.append('/storage/vbutoi/projects/UniverSeg')\n",
    "\n",
    "import matplotlib.pyplot as plt\n",
    "import numpy as np\n",
    "import pandas as pd\n",
    "import seaborn as sns\n",
    "sns.set_style(\"darkgrid\")\n",
    "sns.set_context(\"talk\")\n",
    "\n",
    "import os \n",
    "os.environ['DATAPATH'] = ':'.join((\n",
    "       '/storage/vbutoi/datasets',\n",
    "))\n",
    "\n",
    "from ese.experiment.analysis.analyze_inf import load_cal_inference_stats\n",
    "# Results loader object does everything\n",
    "from ionpy.analysis import ResultsLoader\n",
    "from pathlib import Path\n",
    "root = Path(\"/storage/vbutoi/scratch/ESE\")\n",
    "rs = ResultsLoader()\n",
    "\n",
    "# For using code without restarting.\n",
    "%load_ext autoreload\n",
    "%autoreload 2\n",
    "# For using yaml configs.\n",
    "%load_ext yamlmagic"
   ]
  },
  {
   "cell_type": "code",
   "execution_count": null,
   "metadata": {},
   "outputs": [],
   "source": [
    "%%yaml results_cfg \n",
    "\n",
    "log:\n",
    "    root: /storage/vbutoi/scratch/ESE/inference\n",
    "    inference_groups: \n",
    "        - '07_10_24_OCTA_SmoothGT'\n",
    "\n",
    "options:\n",
    "    add_dice_loss_rows: True\n",
    "    drop_nan_metric_rows: True \n",
    "    remove_shared_columns: False\n",
    "    equal_rows_per_cfg_assert: False "
   ]
  },
  {
   "cell_type": "code",
   "execution_count": null,
   "metadata": {},
   "outputs": [],
   "source": [
    "inference_df = load_cal_inference_stats(\n",
    "    results_cfg=results_cfg,\n",
    "    load_cached=False,\n",
    ")"
   ]
  },
  {
   "cell_type": "code",
   "execution_count": null,
   "metadata": {},
   "outputs": [],
   "source": [
    "def loss_func(loss_func_class):\n",
    "    if loss_func_class == \"None\":\n",
    "        return 'Combo'\n",
    "    else:\n",
    "        return loss_func_class.split('.')[-1]\n",
    "\n",
    "inference_df.augment(loss_func)"
   ]
  },
  {
   "cell_type": "code",
   "execution_count": null,
   "metadata": {},
   "outputs": [],
   "source": [
    "# For the purpose of this experiment, we only care about a few columns in particular:\n",
    "exp_columns = [\n",
    "    \"data_id\",\n",
    "    \"loss_func\",\n",
    "    \"new_gt_proportion\", # This is after our resizing and blurring\n",
    "    \"gt_proportion\",\n",
    "    \"soft_proportion\",\n",
    "    \"hard_proportion\",\n",
    "    \"experiment_pretrained_seed\", \n",
    "    \"model_pretrained_exp_root\",\n",
    "    \"split\",\n",
    "]\n",
    "# Take these columns of the inference_df, drop other columns.\n",
    "exp_df = inference_df[exp_columns].drop_duplicates().reset_index(drop=True)"
   ]
  },
  {
   "cell_type": "code",
   "execution_count": null,
   "metadata": {},
   "outputs": [],
   "source": [
    "# Get number of examples we are evaluating on.\n",
    "len(exp_df['data_id'].unique())"
   ]
  },
  {
   "cell_type": "markdown",
   "metadata": {},
   "source": [
    "# Library Funcs"
   ]
  },
  {
   "cell_type": "code",
   "execution_count": null,
   "metadata": {},
   "outputs": [],
   "source": [
    "def prepare_proportion_df(raw_df, groupby_keys, value_vars, var_name, value_name):\n",
    "    # Make a clone of the proportion df.\n",
    "    input_df = raw_df.copy()\n",
    "    # Melt the dataframe to have a single column for the error.\n",
    "    return pd.melt(\n",
    "        input_df,\n",
    "        id_vars=groupby_keys,\n",
    "        value_vars=value_vars,\n",
    "        var_name=var_name,\n",
    "        value_name=value_name,\n",
    "    )\n",
    "\n",
    "def calibrator(model_pretrained_exp_root):\n",
    "    if \"SVLS\" in model_pretrained_exp_root:\n",
    "        return \"SVLS\"\n",
    "    else:\n",
    "        return \"Uncalibrated\"\n",
    "\n",
    "\n",
    "def process_method_names(input_df, value_name):\n",
    "    # Make a clone of the input_df\n",
    "    df = input_df.copy()\n",
    "    # Drop all the rows where calibrator != Uncalibrated AND the proportion_type is hard_proportion_error.\n",
    "    df = df[~((df['calibrator'] != 'Uncalibrated') & (df['proportion_type'] == f'hard {value_name}'))]\n",
    "    # Then we augment the proportion_type with the calibrator name.\n",
    "    def proportion_type(calibrator, loss_func, proportion_type):\n",
    "        if proportion_type in [\"new gt error\", \"new gt relative error\"]:\n",
    "            return \"New GT\"\n",
    "        elif calibrator == \"Uncalibrated\":\n",
    "            return \"Uncalibrated \" + proportion_type.split(\" \")[0] + f\" ({loss_func})\"\n",
    "        else:\n",
    "            return calibrator + \" soft\" + f\" ({loss_func})\"\n",
    "    # Finally, sort by data_id\n",
    "    df['proportion type'] = df.apply(lambda x: proportion_type(x['calibrator'], x['loss_func'], x['proportion_type']), axis=1)\n",
    "    df = df.sort_values(by=\"data_id\")\n",
    "    # Drop the duplicate rows and reset the index.\n",
    "    df = df.drop_duplicates().reset_index(drop=True)\n",
    "    # Return the augmented dataframe.\n",
    "    return df"
   ]
  },
  {
   "cell_type": "markdown",
   "metadata": {},
   "source": [
    "# First, let's look at absolute error."
   ]
  },
  {
   "cell_type": "code",
   "execution_count": null,
   "metadata": {},
   "outputs": [],
   "source": [
    "exp_df.augment(calibrator)\n",
    "# Make some columns that are useful for plotting.\n",
    "proportion_df = prepare_proportion_df(\n",
    "    exp_df, \n",
    "    groupby_keys=[\n",
    "        \"calibrator\",\n",
    "        \"loss_func\",\n",
    "        \"data_id\", \n",
    "        \"experiment_pretrained_seed\", \n",
    "        \"gt_proportion\",\n",
    "        \"split\"\n",
    "    ],\n",
    "    value_vars=[\"new_gt_proportion\", \"soft_proportion\", \"hard_proportion\"],\n",
    "    var_name=\"prop_type\",\n",
    "    value_name=\"proportion\"\n",
    ")\n",
    "# Delete duplicate rows, thought there shouldn't be any..\n",
    "proportion_df = proportion_df.drop_duplicates().reset_index(drop=True)\n",
    "\n",
    "# Process the method names.\n",
    "def total_method(calibrator, loss_func, prop_type):\n",
    "    return f\"{calibrator},{loss_func},{prop_type}\"\n",
    "proportion_df.augment(total_method)"
   ]
  },
  {
   "cell_type": "code",
   "execution_count": null,
   "metadata": {},
   "outputs": [],
   "source": [
    "proportion_df"
   ]
  },
  {
   "cell_type": "code",
   "execution_count": null,
   "metadata": {},
   "outputs": [],
   "source": [
    "# We want to keep two kinds of rows:\n",
    "# - where it's Uncalibrated, uses PixelCELoss, and hard_prop\n",
    "# - SVLS, uses PixelCELoss, and soft_prop\n",
    "proportion_df = proportion_df[proportion_df['total_method'].isin([\n",
    "    \"Uncalibrated,SoftDiceLoss,hard_proportion\",\n",
    "    \"SVLS,SoftDiceLoss,soft_proportion\",\n",
    "])].reset_index(drop=True).sort_values(by=\"gt_proportion\")"
   ]
  },
  {
   "cell_type": "code",
   "execution_count": null,
   "metadata": {},
   "outputs": [],
   "source": [
    "proportion_df"
   ]
  },
  {
   "cell_type": "code",
   "execution_count": null,
   "metadata": {},
   "outputs": [],
   "source": [
    "g = sns.relplot(\n",
    "    proportion_df, \n",
    "    x=\"data_id\",\n",
    "    y=\"proportion\",\n",
    "    hue=\"calibrator\",\n",
    "    kind=\"line\",\n",
    "    height=10,\n",
    "    aspect=1.5,\n",
    ")\n",
    "# We want to add, per x data_id a dot that represents the gt_proportion.\n",
    "for i, data_id in enumerate(proportion_df['data_id'].unique()):\n",
    "    plt.scatter(\n",
    "        [i],\n",
    "        [proportion_df[proportion_df['data_id'] == data_id]['gt_proportion'].iloc[0]],\n",
    "        color='magenta',\n",
    "        marker='*',\n",
    "        s=80,\n",
    "    )\n",
    "# Disable horizontal grid lines for every subplot\n",
    "for ax in g.axes.flat:\n",
    "    ax.xaxis.grid(False)\n",
    "    ax.set_xticks([]) # Turn off the x axis tickss\n",
    "# Finally, put a title on the plot saying the proportion type.\n",
    "plt.title(\"OCTA Predicted Proportion vs. GT Proportion (pink)\")\n",
    "plt.show()"
   ]
  },
  {
   "cell_type": "code",
   "execution_count": null,
   "metadata": {},
   "outputs": [],
   "source": [
    "g = sns.catplot(\n",
    "    proportion_df, \n",
    "    x=\"data_id\",\n",
    "    y=\"proportion\",\n",
    "    hue=\"calibrator\",\n",
    "    kind=\"box\",\n",
    "    height=10,\n",
    "    aspect=1.5,\n",
    "    boxprops={\n",
    "        \"edgecolor\":'dimgray',\n",
    "        \"linewidth\": 2\n",
    "    },\n",
    "    whiskerprops=dict(color='dimgray')  # Make whiskers gray\n",
    ")  \n",
    "# We want to add, per x data_id a dot that represents the gt_proportion.\n",
    "for i, data_id in enumerate(proportion_df['data_id'].unique()):\n",
    "    plt.scatter(\n",
    "        [i],\n",
    "        [proportion_df[proportion_df['data_id'] == data_id]['gt_proportion'].iloc[0]],\n",
    "        color='magenta',\n",
    "        marker='*',\n",
    "        s=80,\n",
    "    )\n",
    "# Disable horizontal grid lines for every subplot\n",
    "for ax in g.axes.flat:\n",
    "    ax.xaxis.grid(False)\n",
    "    ax.set_xticks([]) # Turn off the x axis tickss\n",
    "\n",
    "# Finally, put a title on the plot saying the proportion type.\n",
    "plt.title(\"OCTA Predicted Proportion vs. GT Proportion (pink)\")\n",
    "\n",
    "plt.show()"
   ]
  }
 ],
 "metadata": {
  "kernelspec": {
   "display_name": "UniverSegTF",
   "language": "python",
   "name": "universegtf"
  },
  "language_info": {
   "codemirror_mode": {
    "name": "ipython",
    "version": 3
   },
   "file_extension": ".py",
   "mimetype": "text/x-python",
   "name": "python",
   "nbconvert_exporter": "python",
   "pygments_lexer": "ipython3",
   "version": "3.9.16"
  },
  "orig_nbformat": 4
 },
 "nbformat": 4,
 "nbformat_minor": 2
}
