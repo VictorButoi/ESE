{
 "cells": [
  {
   "cell_type": "code",
   "execution_count": null,
   "metadata": {},
   "outputs": [],
   "source": [
    "import sys\n",
    "sys.path.append('/storage/vbutoi/projects')\n",
    "sys.path.append('/storage/vbutoi/libraries')\n",
    "sys.path.append('/storage/vbutoi/projects/ESE')\n",
    "sys.path.append('/storage/vbutoi/projects/UniverSeg')\n",
    "\n",
    "import matplotlib.pyplot as plt\n",
    "import numpy as np\n",
    "import pandas as pd\n",
    "import seaborn as sns\n",
    "sns.set_style(\"darkgrid\")\n",
    "sns.set_context(\"talk\")\n",
    "\n",
    "import os \n",
    "os.environ['DATAPATH'] = ':'.join((\n",
    "       '/storage/vbutoi/datasets',\n",
    "))\n",
    "\n",
    "from ese.experiment.analysis.analyze_inf import load_cal_inference_stats\n",
    "# Results loader object does everything\n",
    "from ionpy.analysis import ResultsLoader\n",
    "from pathlib import Path\n",
    "root = Path(\"/storage/vbutoi/scratch/ESE\")\n",
    "rs = ResultsLoader()\n",
    "\n",
    "# For using code without restarting.\n",
    "%load_ext autoreload\n",
    "%autoreload 2\n",
    "# For using yaml configs.\n",
    "%load_ext yamlmagic"
   ]
  },
  {
   "cell_type": "code",
   "execution_count": null,
   "metadata": {},
   "outputs": [],
   "source": [
    "%%yaml results_cfg \n",
    "\n",
    "log:\n",
    "    root: /storage/vbutoi/scratch/ESE/inference\n",
    "    inference_groups: \n",
    "        - '06_27_24_DRIVE_PropAnalysis'\n",
    "\n",
    "options:\n",
    "    add_dice_loss_rows: True\n",
    "    drop_nan_metric_rows: True \n",
    "    remove_shared_columns: False\n",
    "    equal_rows_per_cfg_assert: False "
   ]
  },
  {
   "cell_type": "code",
   "execution_count": null,
   "metadata": {},
   "outputs": [],
   "source": [
    "inference_df = load_cal_inference_stats(\n",
    "    results_cfg=results_cfg,\n",
    "    load_cached=False,\n",
    ")"
   ]
  },
  {
   "cell_type": "code",
   "execution_count": null,
   "metadata": {},
   "outputs": [],
   "source": [
    "def loss_func(loss_func_class):\n",
    "    if loss_func_class == \"None\":\n",
    "        return 'Combo'\n",
    "    else:\n",
    "        return loss_func_class.split('.')[-1]\n",
    "\n",
    "inference_df.augment(loss_func)"
   ]
  },
  {
   "cell_type": "code",
   "execution_count": null,
   "metadata": {},
   "outputs": [],
   "source": [
    "# For the purpose of this experiment, we only care about a few columns in particular:\n",
    "exp_columns = [\n",
    "    \"data_id\",\n",
    "    \"loss_func\",\n",
    "    \"gt_proportion\",\n",
    "    \"soft_proportion\",\n",
    "    \"hard_proportion\",\n",
    "    \"pretrained_seed\", \n",
    "    \"pretrained_exp_root\",\n",
    "    \"split\",\n",
    "]\n",
    "# Take these columns of the inference_df, drop other columns.\n",
    "exp_df = inference_df[exp_columns].drop_duplicates().reset_index(drop=True)"
   ]
  },
  {
   "cell_type": "code",
   "execution_count": null,
   "metadata": {},
   "outputs": [],
   "source": [
    "# Get number of examples we are evaluating on.\n",
    "len(exp_df['data_id'].unique())"
   ]
  },
  {
   "cell_type": "code",
   "execution_count": null,
   "metadata": {},
   "outputs": [],
   "source": [
    "# We need to rename 'proportion' to 'proportion' for the sake of the experiment.\n",
    "proportion_df = exp_df.rename(columns={\n",
    "    \"gt_proportion\": \"gt proportion\",\n",
    "    \"hard_proportion\": \"hard proportion\",\n",
    "    \"soft_proportion\": \"soft proportion\",\n",
    "})"
   ]
  },
  {
   "cell_type": "code",
   "execution_count": null,
   "metadata": {},
   "outputs": [],
   "source": [
    "# Make two new columns, one for the soft proportion error and one for the hard proportion error.\n",
    "proportion_df['soft error'] = (proportion_df['soft proportion'] - proportion_df['gt proportion'])\n",
    "proportion_df['hard error'] = (proportion_df['hard proportion'] - proportion_df['gt proportion'])\n",
    "# Make the normalized metric that divides the error by the ground truth proportion.\n",
    "proportion_df['soft relative error'] = proportion_df['soft error'] / proportion_df['gt proportion']\n",
    "proportion_df['hard relative error'] = proportion_df['hard error'] / proportion_df['gt proportion']"
   ]
  },
  {
   "cell_type": "code",
   "execution_count": null,
   "metadata": {},
   "outputs": [],
   "source": [
    "proportion_df"
   ]
  },
  {
   "cell_type": "code",
   "execution_count": null,
   "metadata": {},
   "outputs": [],
   "source": [
    "# Important for this experiment that we only consider the 'val' and 'cal' splits because we trained on the 'train' split.\n",
    "proportion_df['split'].unique()"
   ]
  },
  {
   "cell_type": "markdown",
   "metadata": {},
   "source": [
    "# Library Funcs"
   ]
  },
  {
   "cell_type": "code",
   "execution_count": null,
   "metadata": {},
   "outputs": [],
   "source": [
    "def prepare_error_df(raw_df, groupby_keys, value_vars, var_name, value_name):\n",
    "    # Make a clone of the proportion df.\n",
    "    input_df = raw_df.copy()\n",
    "    # Melt the dataframe to have a single column for the error.\n",
    "    error_df = pd.melt(\n",
    "        input_df,\n",
    "        id_vars=groupby_keys,\n",
    "        value_vars=value_vars,\n",
    "        var_name=var_name,\n",
    "        value_name=value_name,\n",
    "    )\n",
    "    # Make some columns that are useful for plotting.\n",
    "    error_df[f'absolute {value_name}'] = error_df[value_name].abs()\n",
    "    # Return the melted dataframe.\n",
    "    return error_df\n",
    "\n",
    "\n",
    "def calibrator(pretrained_exp_root):\n",
    "    if \"SVLS\" in pretrained_exp_root:\n",
    "        return \"SVLS\"\n",
    "    else:\n",
    "        return \"Uncalibrated\"\n",
    "\n",
    "\n",
    "def process_method_names(input_df, value_name):\n",
    "    # Make a clone of the input_df\n",
    "    df = input_df.copy()\n",
    "    # Drop all the rows where calibrator != Uncalibrated AND the proportion_type is hard_proportion_error.\n",
    "    df = df[~((df['calibrator'] != 'Uncalibrated') & (df['proportion_type'] == f'hard {value_name}'))]\n",
    "    # Then we augment the proportion_type with the calibrator name.\n",
    "    def proportion_type(calibrator, loss_func, proportion_type):\n",
    "        if calibrator == \"Uncalibrated\":\n",
    "            return \"Uncalibrated \" + proportion_type.split(\" \")[0] + f\" ({loss_func})\"\n",
    "        else:\n",
    "            return calibrator + \" soft\" + f\" ({loss_func})\"\n",
    "    # Finally, sort by data_id\n",
    "    df['proportion type'] = df.apply(lambda x: proportion_type(x['calibrator'], x['loss_func'], x['proportion_type']), axis=1)\n",
    "    df = df.sort_values(by=\"data_id\")\n",
    "    # Return the augmented dataframe.\n",
    "    return df"
   ]
  },
  {
   "cell_type": "markdown",
   "metadata": {},
   "source": [
    "# First, let's look at absolute error."
   ]
  },
  {
   "cell_type": "code",
   "execution_count": null,
   "metadata": {},
   "outputs": [],
   "source": [
    "proportion_df.augment(calibrator)\n",
    "# Make some columns that are useful for plotting.\n",
    "raw_melted_error_df = prepare_error_df(\n",
    "    proportion_df, \n",
    "    groupby_keys=[\n",
    "        \"calibrator\",\n",
    "        \"loss_func\",\n",
    "        \"data_id\", \n",
    "        \"pretrained_seed\", \n",
    "        \"gt proportion\", \n",
    "        \"soft proportion\", \n",
    "        \"hard proportion\",\n",
    "        \"split\",\n",
    "    ],\n",
    "    value_vars=[\"soft error\", \"hard error\"],\n",
    "    var_name=\"proportion_type\",\n",
    "    value_name=\"error\"\n",
    ")\n",
    "# Process the proportion types.\n",
    "melted_error_df = process_method_names(raw_melted_error_df, value_name=\"error\")"
   ]
  },
  {
   "cell_type": "code",
   "execution_count": null,
   "metadata": {},
   "outputs": [],
   "source": [
    "melted_error_df"
   ]
  },
  {
   "cell_type": "code",
   "execution_count": null,
   "metadata": {},
   "outputs": [],
   "source": [
    "melted_error_df['proportion type'].unique()"
   ]
  },
  {
   "cell_type": "code",
   "execution_count": null,
   "metadata": {},
   "outputs": [],
   "source": [
    "# Finally, we want to change the order that the methods appear in.\n",
    "melted_error_df['proportion type'] = melted_error_df['proportion type'].astype('category')\n",
    "melted_error_df['proportion type'] = melted_error_df['proportion type'].cat.reorder_categories([\n",
    "    'Uncalibrated hard (PixelCELoss)',\n",
    "    'Uncalibrated hard (SoftDiceLoss)',\n",
    "    'Uncalibrated hard (Combo)',\n",
    "    'Uncalibrated soft (PixelCELoss)',\n",
    "    'Uncalibrated soft (SoftDiceLoss)',\n",
    "    'Uncalibrated soft (Combo)',\n",
    "    'SVLS soft (PixelCELoss)',\n",
    "    'SVLS soft (SoftDiceLoss)',\n",
    "    'SVLS soft (Combo)',\n",
    "])\n",
    "\n",
    "# Custom palette dictionary\n",
    "custom_palette = {\n",
    "    'Uncalibrated hard (PixelCELoss)': 'blue',\n",
    "    'Uncalibrated hard (SoftDiceLoss)': 'royalblue',\n",
    "    'Uncalibrated hard (Combo)': 'lightsteelblue',\n",
    "    'Uncalibrated soft (PixelCELoss)': 'darkgreen',\n",
    "    'Uncalibrated soft (SoftDiceLoss)': 'mediumseagreen',\n",
    "    'Uncalibrated soft (Combo)': 'limegreen',\n",
    "    'SVLS soft (PixelCELoss)': 'darkgoldenrod',\n",
    "    'SVLS soft (SoftDiceLoss)': 'darkorange',\n",
    "    'SVLS soft (Combo)': 'sandybrown',\n",
    "}"
   ]
  },
  {
   "cell_type": "code",
   "execution_count": null,
   "metadata": {},
   "outputs": [],
   "source": [
    "# Create the catplot\n",
    "g = sns.catplot(\n",
    "    data=melted_error_df,      # Ensure you use the 'data' parameter correctly.\n",
    "    x=\"proportion type\",\n",
    "    y=\"absolute error\",\n",
    "    col=\"data_id\",\n",
    "    hue=\"proportion type\",\n",
    "    col_wrap=3,\n",
    "    sharex=False,\n",
    "    aspect=1.5,\n",
    "    palette=custom_palette\n",
    ")\n",
    "\n",
    "# For each subplot, add a line at y = 0 to show the error.\n",
    "for ax in g.axes.flat:\n",
    "    ax.axhline(0, ls='--', color='red')\n",
    "    ax.set_xticklabels([])\n",
    "\n",
    "# Adjust the layout\n",
    "plt.subplots_adjust(top=0.85)\n",
    "g.fig.suptitle('DRIVE Absolute Proportion Error', fontsize=30)\n",
    "\n",
    "# Add a legend\n",
    "g.add_legend(title='proportion Type')\n",
    "\n",
    "# Show the plot\n",
    "plt.show()"
   ]
  },
  {
   "cell_type": "code",
   "execution_count": null,
   "metadata": {},
   "outputs": [],
   "source": [
    "melted_error_df"
   ]
  },
  {
   "cell_type": "code",
   "execution_count": null,
   "metadata": {},
   "outputs": [],
   "source": [
    "# We want to calculate now the average (across seeds) of the the absolute error for each method.\n",
    "# That means first averaging within each seed, then averaging across seeds.\n",
    "# We group by the data_id and the proportion_type.\n",
    "error_per_seed = melted_error_df.groupby([\"pretrained_seed\", \"proportion type\"]).agg(\n",
    "    abs_error=(\"absolute error\", \"mean\"),\n",
    ").reset_index()\n",
    "# Rename abs_error to absolute error.\n",
    "error_per_seed = error_per_seed.rename(columns={\"abs_error\": \"absolute error\"})"
   ]
  },
  {
   "cell_type": "code",
   "execution_count": null,
   "metadata": {},
   "outputs": [],
   "source": [
    "# make a table with each row being the proportion type, and the column being the abs_error mean with standard deviation in another column.\n",
    "method_error_table = error_per_seed.pivot_table(\n",
    "    values=\"absolute error\",\n",
    "    index=\"proportion type\",\n",
    "    columns=\"pretrained_seed\",\n",
    "    aggfunc=\"mean\",\n",
    ")\n",
    "# Average across the pretrained seeds to make an average column, and then make a stdv column.\n",
    "method_error_table['mean'] = method_error_table.mean(axis=1)\n",
    "method_error_table['stdv'] = method_error_table.std(axis=1)\n",
    "# We can drop all other columns that aren't mean and stdv\n",
    "method_error_table = method_error_table[['mean', 'stdv']]"
   ]
  },
  {
   "cell_type": "code",
   "execution_count": null,
   "metadata": {},
   "outputs": [],
   "source": [
    "method_error_table.sort_values(by='mean')"
   ]
  },
  {
   "cell_type": "markdown",
   "metadata": {},
   "source": [
    "## Second, let's look at relative error."
   ]
  },
  {
   "cell_type": "code",
   "execution_count": null,
   "metadata": {},
   "outputs": [],
   "source": [
    "proportion_df.augment(calibrator)\n",
    "# Make some columns that are useful for plotting.\n",
    "raw_melted_relative_df = prepare_error_df(\n",
    "    proportion_df, \n",
    "    groupby_keys=[\n",
    "        \"calibrator\",\n",
    "        \"loss_func\",\n",
    "        \"data_id\", \n",
    "        \"pretrained_seed\", \n",
    "        \"gt proportion\", \n",
    "        \"soft proportion\", \n",
    "        \"hard proportion\",\n",
    "        \"split\",\n",
    "    ],\n",
    "    value_vars=[\"soft relative error\", \"hard relative error\"],\n",
    "    var_name=\"proportion_type\",\n",
    "    value_name=\"relative error\"\n",
    ")\n",
    "# Process the proportion types.\n",
    "melted_relative_df = process_method_names(raw_melted_relative_df, value_name=\"relative error\")"
   ]
  },
  {
   "cell_type": "code",
   "execution_count": null,
   "metadata": {},
   "outputs": [],
   "source": [
    "melted_relative_df['proportion type'].unique()"
   ]
  },
  {
   "cell_type": "code",
   "execution_count": null,
   "metadata": {},
   "outputs": [],
   "source": [
    "# Finally, we want to change the order that the methods appear in.\n",
    "melted_relative_df['proportion type'] = melted_relative_df['proportion type'].astype('category')\n",
    "melted_relative_df['proportion type'] = melted_relative_df['proportion type'].cat.reorder_categories([\n",
    "    'Uncalibrated hard (PixelCELoss)',\n",
    "    'Uncalibrated hard (SoftDiceLoss)',\n",
    "    'Uncalibrated hard (Combo)',\n",
    "    'Uncalibrated soft (PixelCELoss)',\n",
    "    'Uncalibrated soft (SoftDiceLoss)',\n",
    "    'Uncalibrated soft (Combo)',\n",
    "    'SVLS soft (PixelCELoss)',\n",
    "    'SVLS soft (SoftDiceLoss)',\n",
    "    'SVLS soft (Combo)',\n",
    "])"
   ]
  },
  {
   "cell_type": "code",
   "execution_count": null,
   "metadata": {},
   "outputs": [],
   "source": [
    "# Create the catplot\n",
    "g = sns.catplot(\n",
    "    data=melted_relative_df,      # Ensure you use the 'data' parameter correctly.\n",
    "    x=\"proportion type\",\n",
    "    y=\"absolute relative error\",\n",
    "    col=\"data_id\",\n",
    "    hue=\"proportion type\",\n",
    "    col_wrap=3,\n",
    "    sharex=False,\n",
    "    aspect=1.5,\n",
    "    palette=custom_palette\n",
    ")\n",
    "\n",
    "# For each subplot make a line at y = 0 to show the error.\n",
    "for ax in g.axes.flat:\n",
    "    ax.axhline(0.0, ls='--', color='red')\n",
    "    ax.set_xticklabels([])\n",
    "\n",
    "# Adjust the layout\n",
    "plt.subplots_adjust(top=0.85)\n",
    "g.fig.suptitle('DRIVE Relative Absolute Proportion Error', fontsize=30)\n",
    "\n",
    "# Add a legend\n",
    "g.add_legend(title='proportion Type')\n",
    "\n",
    "# Show the plot\n",
    "plt.show()"
   ]
  },
  {
   "cell_type": "code",
   "execution_count": null,
   "metadata": {},
   "outputs": [],
   "source": [
    "# We want to calculate now the average (across seeds) of the the absolute error for each method.\n",
    "# That means first averaging within each seed, then averaging across seeds.\n",
    "# We group by the data_id and the proportion_type.\n",
    "relative_per_seed = melted_relative_df.groupby([\"pretrained_seed\", \"proportion type\"]).agg(\n",
    "    abs_relative_error=(\"absolute relative error\", \"mean\"),\n",
    ").reset_index()\n",
    "# Rename abs_error to absolute error.\n",
    "relative_per_seed = relative_per_seed.rename(columns={\"abs_relative_error\": \"absolute relative error\"})"
   ]
  },
  {
   "cell_type": "code",
   "execution_count": null,
   "metadata": {},
   "outputs": [],
   "source": [
    "# make a table with each row being the proportion type, and the column being the abs_error mean with standard deviation in another column.\n",
    "method_relative_table = relative_per_seed.pivot_table(\n",
    "    values=\"absolute relative error\",\n",
    "    index=\"proportion type\",\n",
    "    columns=\"pretrained_seed\",\n",
    "    aggfunc=\"mean\",\n",
    ")\n",
    "# Average across the pretrained seeds to make an average column, and then make a stdv column.\n",
    "method_relative_table['mean'] = method_relative_table.mean(axis=1)\n",
    "method_relative_table['stdv'] = method_relative_table.std(axis=1)\n",
    "# We can drop all other columns that aren't mean and stdv\n",
    "method_relative_table = method_relative_table[['mean', 'stdv']]"
   ]
  },
  {
   "cell_type": "code",
   "execution_count": null,
   "metadata": {},
   "outputs": [],
   "source": [
    "method_relative_table.sort_values(by='mean')"
   ]
  },
  {
   "cell_type": "markdown",
   "metadata": {},
   "source": [
    "# Finally, we want to look at the Dice score and Image ECE of all three methods as we are arguing that Image ECE is what we should care about."
   ]
  },
  {
   "cell_type": "code",
   "execution_count": null,
   "metadata": {},
   "outputs": [],
   "source": [
    "inference_df"
   ]
  },
  {
   "cell_type": "code",
   "execution_count": null,
   "metadata": {},
   "outputs": [],
   "source": [
    "# Get the relevant columns for looking at the Dice score and Image ECE\n",
    "metric_cols = [\n",
    "    \"data_id\",\n",
    "    \"loss_func\",\n",
    "    \"pretrained_seed\",\n",
    "    \"pretrained_exp_root\",\n",
    "    \"split\",\n",
    "    \"image_metric\",\n",
    "    \"metric_score\"\n",
    "]\n",
    "# Take these columns of the inference_df, drop other columns and delete duplicate rows.\n",
    "metric_df = inference_df[metric_cols].drop_duplicates().reset_index(drop=True)\n",
    "metric_df.augment(calibrator)\n",
    "# Drop the 'pretrained_exp_root column\n",
    "metric_df = metric_df.drop(columns=[\"pretrained_exp_root\"])"
   ]
  },
  {
   "cell_type": "code",
   "execution_count": null,
   "metadata": {},
   "outputs": [],
   "source": [
    "def train_method(calibrator, loss_func):\n",
    "    return calibrator + f\" ({loss_func})\"\n",
    "\n",
    "metric_df.augment(train_method)"
   ]
  },
  {
   "cell_type": "code",
   "execution_count": null,
   "metadata": {},
   "outputs": [],
   "source": [
    "metric_df"
   ]
  },
  {
   "cell_type": "code",
   "execution_count": null,
   "metadata": {},
   "outputs": [],
   "source": [
    "# Groupby the pretrained_seed and image_metrics, and calibrator, and take the mean of the metric_score.\n",
    "metric_per_seed = metric_df.groupby([\"pretrained_seed\", \"loss_func\", \"image_metric\", \"train_method\"]).agg(\n",
    "    metric_score=(\"metric_score\", \"mean\"),\n",
    ").reset_index()\n",
    "# Finally, we want to change the order that the methods appear in.\n",
    "metric_per_seed['train_method'] = metric_per_seed['train_method'].astype('category')\n",
    "metric_per_seed['train_method'] = metric_per_seed['train_method'].cat.reorder_categories([\n",
    "    'Uncalibrated (PixelCELoss)',\n",
    "    'SVLS (PixelCELoss)',\n",
    "    'Uncalibrated (SoftDiceLoss)',\n",
    "    'SVLS (SoftDiceLoss)',\n",
    "    'Uncalibrated (Combo)',\n",
    "    'SVLS (Combo)',\n",
    "])"
   ]
  },
  {
   "cell_type": "code",
   "execution_count": null,
   "metadata": {},
   "outputs": [],
   "source": [
    "result = metric_per_seed.groupby(['train_method', 'image_metric']).agg(\n",
    "    mean_metric_score=('metric_score', 'mean'),\n",
    "    std_metric_score=('metric_score', 'std')\n",
    ").reset_index()\n",
    "\n",
    "# Pivot the table to have one row for each train_method\n",
    "result = result.pivot(\n",
    "    index='train_method', \n",
    "    columns='image_metric', \n",
    "    values=[\n",
    "        'mean_metric_score', \n",
    "        'std_metric_score'\n",
    "    ]\n",
    ")\n",
    "\n",
    "# Flatten the column multi-index\n",
    "result.columns = ['_'.join(col).strip() for col in result.columns.values]\n",
    "result = result.reset_index()"
   ]
  },
  {
   "cell_type": "code",
   "execution_count": null,
   "metadata": {},
   "outputs": [],
   "source": [
    "result"
   ]
  },
  {
   "cell_type": "code",
   "execution_count": null,
   "metadata": {},
   "outputs": [],
   "source": [
    "# Get all the of the columns that are 'calibrator' and have 'Dice_Loss' in them\n",
    "dice_cols = [col for col in result.columns if 'Dice Loss' in col or 'train_method' in col]\n",
    "dice_result = result[dice_cols]"
   ]
  },
  {
   "cell_type": "code",
   "execution_count": null,
   "metadata": {},
   "outputs": [],
   "source": [
    "dice_result.sort_values(by='mean_metric_score_Dice Loss')"
   ]
  },
  {
   "cell_type": "code",
   "execution_count": null,
   "metadata": {},
   "outputs": [],
   "source": [
    "# Get all the of the columns that are 'calibrator' and have 'Image_ECE' in them\n",
    "image_ece_cols = [col for col in result.columns if 'Image_ECE' in col or 'train_method' in col]\n",
    "ece_result = result[image_ece_cols]"
   ]
  },
  {
   "cell_type": "code",
   "execution_count": null,
   "metadata": {},
   "outputs": [],
   "source": [
    "ece_result.sort_values(by='mean_metric_score_Image_ECE')"
   ]
  }
 ],
 "metadata": {
  "kernelspec": {
   "display_name": "UniverSegTF",
   "language": "python",
   "name": "universegtf"
  },
  "language_info": {
   "codemirror_mode": {
    "name": "ipython",
    "version": 3
   },
   "file_extension": ".py",
   "mimetype": "text/x-python",
   "name": "python",
   "nbconvert_exporter": "python",
   "pygments_lexer": "ipython3",
   "version": "3.9.16"
  },
  "orig_nbformat": 4
 },
 "nbformat": 4,
 "nbformat_minor": 2
}
