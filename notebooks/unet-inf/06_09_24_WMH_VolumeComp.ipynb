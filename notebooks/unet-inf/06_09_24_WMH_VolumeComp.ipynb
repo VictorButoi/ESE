{
 "cells": [
  {
   "cell_type": "code",
   "execution_count": null,
   "metadata": {},
   "outputs": [],
   "source": [
    "import sys\n",
    "sys.path.append('/storage/vbutoi/projects')\n",
    "sys.path.append('/storage/vbutoi/libraries')\n",
    "sys.path.append('/storage/vbutoi/projects/ESE')\n",
    "sys.path.append('/storage/vbutoi/projects/UniverSeg')\n",
    "\n",
    "import matplotlib.pyplot as plt\n",
    "import pandas as pd\n",
    "import seaborn as sns\n",
    "sns.set_style(\"darkgrid\")\n",
    "sns.set_context(\"talk\")\n",
    "\n",
    "import os \n",
    "os.environ['DATAPATH'] = ':'.join((\n",
    "       '/storage/vbutoi/datasets',\n",
    "))\n",
    "\n",
    "from ese.experiment.analysis.analyze_inf import load_cal_inference_stats\n",
    "# Results loader object does everything\n",
    "from ionpy.analysis import ResultsLoader\n",
    "from pathlib import Path\n",
    "root = Path(\"/storage/vbutoi/scratch/ESE\")\n",
    "rs = ResultsLoader()\n",
    "\n",
    "# For using code without restarting.\n",
    "%load_ext autoreload\n",
    "%autoreload 2\n",
    "# For using yaml configs.\n",
    "%load_ext yamlmagic"
   ]
  },
  {
   "cell_type": "code",
   "execution_count": null,
   "metadata": {},
   "outputs": [],
   "source": [
    "%%yaml results_cfg \n",
    "\n",
    "log:\n",
    "    root: /storage/vbutoi/scratch/ESE/inference\n",
    "    inference_groups: \n",
    "        - '06_04_24_WMH_DifferenceExps'\n",
    "\n",
    "options:\n",
    "    add_dice_loss_rows: True\n",
    "    drop_nan_metric_rows: True \n",
    "    remove_shared_columns: False\n",
    "    equal_rows_per_cfg_assert: False "
   ]
  },
  {
   "cell_type": "code",
   "execution_count": null,
   "metadata": {},
   "outputs": [],
   "source": [
    "inference_df = load_cal_inference_stats(\n",
    "    results_cfg=results_cfg,\n",
    "    load_cached=False,\n",
    ")"
   ]
  },
  {
   "cell_type": "code",
   "execution_count": null,
   "metadata": {},
   "outputs": [],
   "source": [
    "# We are limiting ourselves to looking at the calibration split for now.\n",
    "inference_df = inference_df.select(split='cal')"
   ]
  },
  {
   "cell_type": "code",
   "execution_count": null,
   "metadata": {},
   "outputs": [],
   "source": [
    "# We want to compare how Dice relates to ECE, this means we need to pivot our dataframe\n",
    "inference_df_piv = inference_df.pivot(\n",
    "    index=[\n",
    "        \"calibrator\", \n",
    "        \"dataset_name\", \n",
    "        \"exp_name\", \n",
    "        \"data_id\",\n",
    "        \"joint_data_slice_id\",\n",
    "        \"pred_hash\",\n",
    "        \"pretrained_exp_root\", \n",
    "        \"split\", \n",
    "    ], \n",
    "    columns='image_metric', \n",
    "    values='metric_score'\n",
    ").reset_index()"
   ]
  },
  {
   "cell_type": "code",
   "execution_count": null,
   "metadata": {},
   "outputs": [],
   "source": [
    "inference_df_piv['calibrator'] = inference_df_piv['calibrator'].astype('category')\n",
    "inference_df_piv['calibrator'] = inference_df_piv['calibrator'].cat.reorder_categories([\n",
    "    'Uncalibrated',\n",
    "    'TempScaling',\n",
    "    'LTS',\n",
    "])\n",
    "\n",
    "# inference_df_piv['split'] = inference_df_piv['split'].astype('category')\n",
    "# inference_df_piv['split'] = inference_df_piv['split'].cat.reorder_categories([\n",
    "#     'val',\n",
    "#     'cal'\n",
    "# ])"
   ]
  },
  {
   "cell_type": "code",
   "execution_count": null,
   "metadata": {},
   "outputs": [],
   "source": [
    "# Melt the dataframe\n",
    "difference_df = pd.melt(\n",
    "    inference_df_piv, \n",
    "    id_vars=[\n",
    "        'data_id', \n",
    "        'calibrator', \n",
    "        'pretrained_exp_root', \n",
    "        'split', \n",
    "        'pred_hash',\n",
    "    ], \n",
    "    value_vars=[\n",
    "        'SoftVolumeError', \n",
    "        'HardVolumeError'\n",
    "    ], \n",
    "    var_name='Pred_Type', \n",
    "    value_name='Difference_Measurement_Error'\n",
    ")"
   ]
  },
  {
   "cell_type": "code",
   "execution_count": null,
   "metadata": {},
   "outputs": [],
   "source": [
    "# Create the boxplot\n",
    "g = sns.catplot(\n",
    "    x='calibrator',\n",
    "    y='Difference_Measurement_Error',\n",
    "    kind='box',\n",
    "    data=difference_df,\n",
    "    hue='Pred_Type',\n",
    "    palette=\"Set2\",       # Use a color palette\n",
    "    linewidth=2,          # Set the linewidth of the edge\n",
    "    showfliers=False,     # Do not show outliers\n",
    "    aspect=1.5,            # Adjust the aspect ratio\n",
    "    height=8,\n",
    "    showmeans=True,       # Show the mean\n",
    "    meanprops={\"marker\":\"o\", \"markerfacecolor\":\"yellow\", \"markeredgecolor\":\"black\", \"markersize\":\"8\"}\n",
    ")\n",
    "plt.title('Volume Differences Between Predictions')"
   ]
  },
  {
   "cell_type": "code",
   "execution_count": null,
   "metadata": {},
   "outputs": [],
   "source": [
    "# Create the boxplot\n",
    "g = sns.catplot(\n",
    "    x='data_id',\n",
    "    y='Difference_Measurement_Error',\n",
    "    row='calibrator',\n",
    "    hue='Pred_Type',\n",
    "    kind='box',\n",
    "    data=difference_df,\n",
    "    palette=\"Set2\",       # Use a color palette\n",
    "    linewidth=2,          # Set the linewidth of the edge\n",
    "    showfliers=False,     # Do not show outliers\n",
    "    aspect=1.5,            # Adjust the aspect ratio\n",
    "    height=8,\n",
    "    showmeans=True,       # Show the mean\n",
    "    meanprops={\"marker\":\"o\", \"markerfacecolor\":\"yellow\", \"markeredgecolor\":\"black\", \"markersize\":\"8\"}\n",
    ")\n",
    "plt.title('Volume Differences Between Predictions')"
   ]
  },
  {
   "cell_type": "code",
   "execution_count": null,
   "metadata": {},
   "outputs": [],
   "source": [
    "import numpy as np\n",
    "\n",
    "# Create a FacetGrid with dataset_name as columns\n",
    "g = sns.FacetGrid(\n",
    "    difference_df, \n",
    "    col='calibrator', \n",
    "    row='split',\n",
    "    hue='Pred_Type', \n",
    "    height=8, \n",
    "    aspect=1.2, \n",
    "    sharex=False, \n",
    "    sharey=False\n",
    ")\n",
    "\n",
    "def kde_with_mean(data, **kwargs):\n",
    "    sns.kdeplot(data, fill=True, alpha=0.5, **kwargs)\n",
    "    mean_val = np.mean(data)\n",
    "    plt.axvline(mean_val, linestyle='--', color=kwargs.get('color', 'k'))\n",
    "    plt.axvline(0, linestyle='--', color='black', linewidth=1.5)\n",
    "\n",
    "# Map the KDE plot to the grid\n",
    "g.map(kde_with_mean, 'Difference_Measurement_Error')\n",
    "\n",
    "# Add a legend\n",
    "g.add_legend()\n",
    "\n",
    "# Adjust the layout\n",
    "plt.subplots_adjust(top=0.85)\n",
    "g.fig.suptitle('KDE Plots of Difference Measurement Error by Split and Calibrator', fontsize=30)\n",
    "\n",
    "# Show the plot\n",
    "plt.show()"
   ]
  }
 ],
 "metadata": {
  "kernelspec": {
   "display_name": "Python 3",
   "language": "python",
   "name": "python3"
  },
  "language_info": {
   "codemirror_mode": {
    "name": "ipython",
    "version": 3
   },
   "file_extension": ".py",
   "mimetype": "text/x-python",
   "name": "python",
   "nbconvert_exporter": "python",
   "pygments_lexer": "ipython3",
   "version": "3.9.16"
  },
  "orig_nbformat": 4
 },
 "nbformat": 4,
 "nbformat_minor": 2
}
