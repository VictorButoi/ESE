{
 "cells": [
  {
   "cell_type": "code",
   "execution_count": null,
   "metadata": {},
   "outputs": [],
   "source": [
    "import sys\n",
    "sys.path.append('/storage/vbutoi/projects')\n",
    "sys.path.append('/storage/vbutoi/libraries')\n",
    "sys.path.append('/storage/vbutoi/projects/ESE')\n",
    "sys.path.append('/storage/vbutoi/projects/UniverSeg')\n",
    "\n",
    "import matplotlib.pyplot as plt\n",
    "import numpy as np\n",
    "import pandas as pd\n",
    "import seaborn as sns\n",
    "sns.set_style(\"darkgrid\")\n",
    "sns.set_context(\"talk\")\n",
    "\n",
    "import os \n",
    "os.environ['DATAPATH'] = ':'.join((\n",
    "       '/storage/vbutoi/datasets',\n",
    "))\n",
    "\n",
    "from ese.experiment.analysis.analyze_inf import load_cal_inference_stats\n",
    "# Results loader object does everything\n",
    "from ionpy.analysis import ResultsLoader\n",
    "from pathlib import Path\n",
    "root = Path(\"/storage/vbutoi/scratch/ESE\")\n",
    "rs = ResultsLoader()\n",
    "\n",
    "# For using code without restarting.\n",
    "%load_ext autoreload\n",
    "%autoreload 2\n",
    "# For using yaml configs.\n",
    "%load_ext yamlmagic"
   ]
  },
  {
   "cell_type": "code",
   "execution_count": null,
   "metadata": {},
   "outputs": [],
   "source": [
    "%%yaml results_cfg \n",
    "\n",
    "log:\n",
    "    root: /storage/vbutoi/scratch/ESE/inference\n",
    "    inference_groups: \n",
    "        - '06_19_24_WMH_Hard'\n",
    "        - '06_19_24_WMH_SVLS'\n",
    "\n",
    "options:\n",
    "    add_dice_loss_rows: True\n",
    "    drop_nan_metric_rows: True \n",
    "    remove_shared_columns: False\n",
    "    equal_rows_per_cfg_assert: False "
   ]
  },
  {
   "cell_type": "code",
   "execution_count": null,
   "metadata": {},
   "outputs": [],
   "source": [
    "inference_df = load_cal_inference_stats(\n",
    "    results_cfg=results_cfg,\n",
    "    load_cached=True,\n",
    ")"
   ]
  },
  {
   "cell_type": "code",
   "execution_count": null,
   "metadata": {},
   "outputs": [],
   "source": [
    "# For the purpose of this experiment, we only care about a few columns in particular:\n",
    "exp_columns = [\n",
    "    \"data_id\",\n",
    "    \"slice_idx\",\n",
    "    \"gt_volume\",\n",
    "    \"hard_volume\",\n",
    "    \"soft_volume\",\n",
    "    \"pretrained_seed\", \n",
    "    \"pretrained_exp_root\",\n",
    "    \"split\",\n",
    "    \"task\"\n",
    "]\n",
    "# Take these columns of the inference_df, drop other columns.\n",
    "raw_exp_df = inference_df[exp_columns]\n",
    "# For this experiment, we only want the entries from the 'Amsterdam' task that aren't from the training split.\n",
    "raw_exp_df = raw_exp_df[raw_exp_df['task'] == 'Singapore']\n",
    "# Finally, reset teh df.\n",
    "exp_df = raw_exp_df.drop_duplicates().reset_index(drop=True) "
   ]
  },
  {
   "cell_type": "code",
   "execution_count": null,
   "metadata": {},
   "outputs": [],
   "source": [
    "len(exp_df['data_id'].unique())"
   ]
  },
  {
   "cell_type": "code",
   "execution_count": null,
   "metadata": {},
   "outputs": [],
   "source": [
    "# Accumulate the volumes.\n",
    "volume_df = exp_df.groupby([\"data_id\", \"task\", \"pretrained_seed\", \"pretrained_exp_root\", \"split\"]).agg(\n",
    "    gt_volume=(\"gt_volume\", \"sum\"),\n",
    "    hard_volume=(\"hard_volume\", \"sum\"),\n",
    "    soft_volume=(\"soft_volume\", \"sum\"),\n",
    ").reset_index()\n",
    "# Rename the volume cols to be with a space instead of a underscore.\n",
    "volume_df = volume_df.rename(columns={\n",
    "    \"gt_volume\": \"gt volume\",\n",
    "    \"hard_volume\": \"hard volume\",\n",
    "    \"soft_volume\": \"soft volume\",\n",
    "})"
   ]
  },
  {
   "cell_type": "code",
   "execution_count": null,
   "metadata": {},
   "outputs": [],
   "source": [
    "# Make two new columns, one for the soft volume error and one for the hard volume error.\n",
    "volume_df['soft error'] = (volume_df['soft volume'] - volume_df['gt volume'])\n",
    "volume_df['hard error'] = (volume_df['hard volume'] - volume_df['gt volume'])\n",
    "# Make the normalized metric that divides the error by the ground truth volume.\n",
    "volume_df['soft relative error'] = volume_df['soft error'] / volume_df['gt volume']\n",
    "volume_df['hard relative error'] = volume_df['hard error'] / volume_df['gt volume']"
   ]
  },
  {
   "cell_type": "code",
   "execution_count": null,
   "metadata": {},
   "outputs": [],
   "source": [
    "volume_df"
   ]
  },
  {
   "cell_type": "markdown",
   "metadata": {},
   "source": [
    "# Library Funcs"
   ]
  },
  {
   "cell_type": "code",
   "execution_count": null,
   "metadata": {},
   "outputs": [],
   "source": [
    "def prepare_error_df(raw_df, groupby_keys, value_vars, var_name, value_name):\n",
    "    # Make a clone of the volume df.\n",
    "    input_df = raw_df.copy()\n",
    "    # Melt the dataframe to have a single column for the error.\n",
    "    error_df = pd.melt(\n",
    "        input_df,\n",
    "        id_vars=groupby_keys,\n",
    "        value_vars=value_vars,\n",
    "        var_name=var_name,\n",
    "        value_name=value_name,\n",
    "    )\n",
    "    # Make some columns that are useful for plotting.\n",
    "    error_df[f'absolute {value_name}'] = error_df[value_name].abs()\n",
    "    # Return the melted dataframe.\n",
    "    return error_df\n",
    "\n",
    "\n",
    "def calibrator(pretrained_exp_root):\n",
    "    if \"SVLS\" in pretrained_exp_root:\n",
    "        return \"SVLS\"\n",
    "    else:\n",
    "        return \"Uncalibrated\"\n",
    "\n",
    "\n",
    "def process_method_names(input_df, value_name):\n",
    "    # Make a clone of the input_df\n",
    "    df = input_df.copy()\n",
    "    # Drop all the rows where calibrator != Uncalibrated AND the volume_type is hard_volume_error.\n",
    "    df = df[~((df['calibrator'] != 'Uncalibrated') & (df['volume_type'] == f'hard {value_name}'))]\n",
    "    # Then we augment the volume_type with the calibrator name.\n",
    "    def volume_type(calibrator, volume_type):\n",
    "        if calibrator == \"Uncalibrated\":\n",
    "            return \"Uncalibrated \" + volume_type.split(\" \")[0]\n",
    "        else:\n",
    "            return calibrator + \" soft\"\n",
    "    df['volume type'] = df.apply(lambda x: volume_type(x['calibrator'], x['volume_type']), axis=1)\n",
    "    # Finally, sort by data_id\n",
    "    df = df.sort_values(by=\"data_id\")\n",
    "    # Return the augmented dataframe.\n",
    "    return df"
   ]
  },
  {
   "cell_type": "markdown",
   "metadata": {},
   "source": [
    "# First, let's look at absolute error."
   ]
  },
  {
   "cell_type": "code",
   "execution_count": null,
   "metadata": {},
   "outputs": [],
   "source": [
    "volume_df.augment(calibrator)\n",
    "# Make some columns that are useful for plotting.\n",
    "raw_melted_error_df = prepare_error_df(\n",
    "    volume_df, \n",
    "    groupby_keys=[\n",
    "        \"calibrator\",\n",
    "        \"data_id\", \n",
    "        \"pretrained_seed\", \n",
    "        \"gt volume\", \n",
    "        \"soft volume\", \n",
    "        \"hard volume\",\n",
    "        \"split\",\n",
    "    ],\n",
    "    value_vars=[\"soft error\", \"hard error\"],\n",
    "    var_name=\"volume_type\",\n",
    "    value_name=\"error\"\n",
    ")\n",
    "# Process the volume types.\n",
    "melted_error_df = process_method_names(raw_melted_error_df, value_name=\"error\")"
   ]
  },
  {
   "cell_type": "code",
   "execution_count": null,
   "metadata": {},
   "outputs": [],
   "source": [
    "melted_error_df['volume type'].unique()"
   ]
  },
  {
   "cell_type": "code",
   "execution_count": null,
   "metadata": {},
   "outputs": [],
   "source": [
    "# Finally, we want to change the order that the methods appear in.\n",
    "melted_error_df['volume type'] = melted_error_df['volume type'].astype('category')\n",
    "melted_error_df['volume type'] = melted_error_df['volume type'].cat.reorder_categories([\n",
    "    'Uncalibrated hard',\n",
    "    'Uncalibrated soft',\n",
    "    'SVLS soft',\n",
    "])\n",
    "\n",
    "# Custom palette dictionary\n",
    "custom_palette = {\n",
    "    'Uncalibrated hard': 'blue',\n",
    "    'Uncalibrated soft': 'limegreen',\n",
    "    'SVLS soft': 'darkorange'\n",
    "}"
   ]
  },
  {
   "cell_type": "code",
   "execution_count": null,
   "metadata": {},
   "outputs": [],
   "source": [
    "g = sns.catplot(\n",
    "    melted_error_df,\n",
    "    x=\"data_id\",\n",
    "    y=\"absolute error\",\n",
    "    hue=\"volume type\",\n",
    "    aspect=3,\n",
    "    height=7,\n",
    "    sharex=False,\n",
    "    sharey=False,\n",
    "    palette=custom_palette\n",
    ")\n",
    "# For each subplot make a line at y = 0 to show the error.\n",
    "for ax in g.axes.flat:\n",
    "    ax.axhline(0, ls='--', color='red')\n",
    "\n",
    "# Adjust the layout\n",
    "plt.subplots_adjust(top=0.85)\n",
    "g.fig.suptitle('Soft/Hard Volumetric Error', fontsize=30)\n",
    "\n",
    "# Show the plot\n",
    "plt.show()"
   ]
  },
  {
   "cell_type": "code",
   "execution_count": null,
   "metadata": {},
   "outputs": [],
   "source": [
    "melted_error_df"
   ]
  },
  {
   "cell_type": "code",
   "execution_count": null,
   "metadata": {},
   "outputs": [],
   "source": [
    "# We want to calculate now the average (across seeds) of the the absolute error for each method.\n",
    "# That means first averaging within each seed, then averaging across seeds.\n",
    "# We group by the data_id and the volume_type.\n",
    "error_per_seed = melted_error_df.groupby([\"pretrained_seed\", \"volume type\"]).agg(\n",
    "    abs_error=(\"absolute error\", \"mean\"),\n",
    ").reset_index()\n",
    "# Rename abs_error to absolute error.\n",
    "error_per_seed = error_per_seed.rename(columns={\"abs_error\": \"absolute error\"})"
   ]
  },
  {
   "cell_type": "code",
   "execution_count": null,
   "metadata": {},
   "outputs": [],
   "source": [
    "# make a table with each row being the volume type, and the column being the abs_error mean with standard deviation in another column.\n",
    "method_error_table = error_per_seed.pivot_table(\n",
    "    values=\"absolute error\",\n",
    "    index=\"volume type\",\n",
    "    columns=\"pretrained_seed\",\n",
    "    aggfunc=\"mean\",\n",
    ")\n",
    "# Average across the pretrained seeds to make an average column, and then make a stdv column.\n",
    "method_error_table['mean'] = method_error_table.mean(axis=1)\n",
    "method_error_table['stdv'] = method_error_table.std(axis=1)\n",
    "# We can drop all other columns that aren't mean and stdv\n",
    "method_error_table = method_error_table[['mean', 'stdv']]"
   ]
  },
  {
   "cell_type": "code",
   "execution_count": null,
   "metadata": {},
   "outputs": [],
   "source": [
    "method_error_table"
   ]
  },
  {
   "cell_type": "markdown",
   "metadata": {},
   "source": [
    "## Second, let's look at relative error."
   ]
  },
  {
   "cell_type": "code",
   "execution_count": null,
   "metadata": {},
   "outputs": [],
   "source": [
    "volume_df.augment(calibrator)\n",
    "# Make some columns that are useful for plotting.\n",
    "raw_melted_relative_df = prepare_error_df(\n",
    "    volume_df, \n",
    "    groupby_keys=[\n",
    "        \"calibrator\",\n",
    "        \"data_id\", \n",
    "        \"pretrained_seed\", \n",
    "        \"gt volume\", \n",
    "        \"soft volume\", \n",
    "        \"hard volume\",\n",
    "        \"split\",\n",
    "    ],\n",
    "    value_vars=[\"soft relative error\", \"hard relative error\"],\n",
    "    var_name=\"volume_type\",\n",
    "    value_name=\"relative error\"\n",
    ")\n",
    "# Process the volume types.\n",
    "melted_relative_df = process_method_names(raw_melted_relative_df, value_name=\"relative error\")"
   ]
  },
  {
   "cell_type": "code",
   "execution_count": null,
   "metadata": {},
   "outputs": [],
   "source": [
    "melted_relative_df['volume type'].unique()"
   ]
  },
  {
   "cell_type": "code",
   "execution_count": null,
   "metadata": {},
   "outputs": [],
   "source": [
    "# Finally, we want to change the order that the methods appear in.\n",
    "melted_relative_df['volume type'] = melted_relative_df['volume type'].astype('category')\n",
    "melted_relative_df['volume type'] = melted_relative_df['volume type'].cat.reorder_categories([\n",
    "    'Uncalibrated hard',\n",
    "    'Uncalibrated soft',\n",
    "    'SVLS soft',\n",
    "])\n",
    "\n",
    "# Custom palette dictionary\n",
    "custom_palette = {\n",
    "    'Uncalibrated hard': 'blue',\n",
    "    'Uncalibrated soft': 'limegreen',\n",
    "    'SVLS soft': 'darkorange'\n",
    "}"
   ]
  },
  {
   "cell_type": "code",
   "execution_count": null,
   "metadata": {},
   "outputs": [],
   "source": [
    "g = sns.catplot(\n",
    "    melted_relative_df,\n",
    "    x=\"data_id\",\n",
    "    y=\"absolute relative error\",\n",
    "    hue=\"volume type\",\n",
    "    aspect=3,\n",
    "    height=7,\n",
    "    sharex=False,\n",
    "    sharey=False,\n",
    "    palette=custom_palette\n",
    ")\n",
    "# For each subplot make a line at y = 0 to show the error.\n",
    "for ax in g.axes.flat:\n",
    "    ax.axhline(0.0, ls='--', color='red')\n",
    "\n",
    "# Adjust the layout\n",
    "plt.subplots_adjust(top=0.85)\n",
    "g.fig.suptitle('Soft/Hard Volumetric Relative Error', fontsize=30)\n",
    "\n",
    "# Show the plot\n",
    "plt.show()"
   ]
  },
  {
   "cell_type": "code",
   "execution_count": null,
   "metadata": {},
   "outputs": [],
   "source": [
    "# We want to calculate now the average (across seeds) of the the absolute error for each method.\n",
    "# That means first averaging within each seed, then averaging across seeds.\n",
    "# We group by the data_id and the volume_type.\n",
    "relative_per_seed = melted_relative_df.groupby([\"pretrained_seed\", \"volume type\"]).agg(\n",
    "    abs_relative_error=(\"absolute relative error\", \"mean\"),\n",
    ").reset_index()\n",
    "# Rename abs_error to absolute error.\n",
    "relative_per_seed = relative_per_seed.rename(columns={\"abs_relative_error\": \"absolute relative error\"})"
   ]
  },
  {
   "cell_type": "code",
   "execution_count": null,
   "metadata": {},
   "outputs": [],
   "source": [
    "# make a table with each row being the volume type, and the column being the abs_error mean with standard deviation in another column.\n",
    "method_relative_table = relative_per_seed.pivot_table(\n",
    "    values=\"absolute relative error\",\n",
    "    index=\"volume type\",\n",
    "    columns=\"pretrained_seed\",\n",
    "    aggfunc=\"mean\",\n",
    ")\n",
    "# Average across the pretrained seeds to make an average column, and then make a stdv column.\n",
    "method_relative_table['mean'] = method_relative_table.mean(axis=1)\n",
    "method_relative_table['stdv'] = method_relative_table.std(axis=1)\n",
    "# We can drop all other columns that aren't mean and stdv\n",
    "method_relative_table = method_relative_table[['mean', 'stdv']]"
   ]
  },
  {
   "cell_type": "code",
   "execution_count": null,
   "metadata": {},
   "outputs": [],
   "source": [
    "method_relative_table"
   ]
  },
  {
   "cell_type": "markdown",
   "metadata": {},
   "source": [
    "# Finally, we want to look at the Dice score and Image ECE of all three methods as we are arguing that Image ECE is what we should care about."
   ]
  },
  {
   "cell_type": "code",
   "execution_count": null,
   "metadata": {},
   "outputs": [],
   "source": [
    "# Get the relevant columns for looking at the Dice score and Image ECE\n",
    "metric_cols = [\n",
    "    \"data_id\",\n",
    "    \"slice_idx\",\n",
    "    \"pretrained_seed\",\n",
    "    \"pretrained_exp_root\",\n",
    "    \"split\",\n",
    "    \"task\",\n",
    "    \"image_metric\",\n",
    "    \"metric_score\"\n",
    "]\n",
    "# Take these columns of the inference_df, drop other columns.\n",
    "raw_metric_df = inference_df[metric_cols]\n",
    "raw_metric_df.augment(calibrator)\n",
    "# For this experiment, we only want the entries from the 'Amsterdam' task that aren't from the training split.\n",
    "raw_metric_df = raw_metric_df[raw_metric_df['task'] == 'Singapore']\n",
    "raw_metric_df = raw_metric_df.drop(columns=[\"pretrained_exp_root\"])\n",
    "# Finally, reset teh df.\n",
    "metric_df = raw_metric_df.drop_duplicates().reset_index(drop=True)"
   ]
  },
  {
   "cell_type": "code",
   "execution_count": null,
   "metadata": {},
   "outputs": [],
   "source": [
    "metric_df"
   ]
  },
  {
   "cell_type": "code",
   "execution_count": null,
   "metadata": {},
   "outputs": [],
   "source": [
    "# Groupby the pretrained_seed and image_metrics, and calibrator, and take the mean of the metric_score.\n",
    "metric_per_seed = metric_df.groupby([\"pretrained_seed\", \"image_metric\", \"calibrator\"]).agg(\n",
    "    metric_score=(\"metric_score\", \"mean\"),\n",
    ").reset_index()\n",
    "# Finally, we want to change the order that the methods appear in.\n",
    "metric_per_seed['calibrator'] = metric_per_seed['calibrator'].astype('category')\n",
    "metric_per_seed['calibrator'] = metric_per_seed['calibrator'].cat.reorder_categories([\n",
    "    'Uncalibrated',\n",
    "    'SVLS',\n",
    "])"
   ]
  },
  {
   "cell_type": "code",
   "execution_count": null,
   "metadata": {},
   "outputs": [],
   "source": [
    "metric_per_seed"
   ]
  },
  {
   "cell_type": "code",
   "execution_count": null,
   "metadata": {},
   "outputs": [],
   "source": [
    "result = metric_per_seed.groupby(['calibrator', 'image_metric']).agg(\n",
    "    mean_metric_score=('metric_score', 'mean'),\n",
    "    std_metric_score=('metric_score', 'std')\n",
    ").reset_index()\n",
    "\n",
    "# Pivot the table to have one row for each calibrator\n",
    "result = result.pivot(\n",
    "    index='calibrator', \n",
    "    columns='image_metric', \n",
    "    values=[\n",
    "        'mean_metric_score', \n",
    "        'std_metric_score'\n",
    "    ]\n",
    ")\n",
    "\n",
    "# Flatten the column multi-index\n",
    "result.columns = ['_'.join(col).strip() for col in result.columns.values]\n",
    "result = result.reset_index()"
   ]
  },
  {
   "cell_type": "code",
   "execution_count": null,
   "metadata": {},
   "outputs": [],
   "source": [
    "result"
   ]
  },
  {
   "cell_type": "code",
   "execution_count": null,
   "metadata": {},
   "outputs": [],
   "source": [
    "# Get all the of the columns that are 'calibrator' and have 'Dice_Loss' in them\n",
    "dice_cols = [col for col in result.columns if 'Dice Loss' in col or 'calibrator' in col]\n",
    "dice_result = result[dice_cols]"
   ]
  },
  {
   "cell_type": "code",
   "execution_count": null,
   "metadata": {},
   "outputs": [],
   "source": [
    "dice_result"
   ]
  },
  {
   "cell_type": "code",
   "execution_count": null,
   "metadata": {},
   "outputs": [],
   "source": [
    "# Get all the of the columns that are 'calibrator' and have 'Image_ECE' in them\n",
    "image_ece_cols = [col for col in result.columns if 'Image_ECE' in col or 'calibrator' in col]\n",
    "ece_result = result[image_ece_cols] "
   ]
  },
  {
   "cell_type": "code",
   "execution_count": null,
   "metadata": {},
   "outputs": [],
   "source": [
    "ece_result"
   ]
  }
 ],
 "metadata": {
  "kernelspec": {
   "display_name": "UniverSegTF",
   "language": "python",
   "name": "universegtf"
  },
  "language_info": {
   "codemirror_mode": {
    "name": "ipython",
    "version": 3
   },
   "file_extension": ".py",
   "mimetype": "text/x-python",
   "name": "python",
   "nbconvert_exporter": "python",
   "pygments_lexer": "ipython3",
   "version": "3.9.16"
  },
  "orig_nbformat": 4
 },
 "nbformat": 4,
 "nbformat_minor": 2
}
