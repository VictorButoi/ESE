{
 "cells": [
  {
   "cell_type": "code",
   "execution_count": null,
   "metadata": {},
   "outputs": [],
   "source": [
    "# Misc imports\n",
    "import sys\n",
    "sys.path.append('/storage/vbutoi/projects')\n",
    "sys.path.append('/storage/vbutoi/libraries')\n",
    "sys.path.append('/storage/vbutoi/projects/ESE')\n",
    "sys.path.append('/storage/vbutoi/projects/UniverSeg')\n",
    "import torch\n",
    "torch.set_printoptions(linewidth=200)\n",
    "import seaborn as sns\n",
    "sns.set_style(\"darkgrid\")\n",
    "import os \n",
    "os.environ['DATAPATH'] = ':'.join((\n",
    "       '/storage/vbutoi/datasets',\n",
    "       '/storage'\n",
    "))\n",
    "import yaml\n",
    "from pathlib import Path\n",
    "# Local imports\n",
    "from ese.scripts.utils import get_option_product\n",
    "from ese.experiment.analysis.run_inference import get_cal_stats\n",
    "from ese.experiment.analysis.analysis_utils.submit_utils import get_ese_inference_configs\n",
    "# Ionpy imports\n",
    "from ionpy.util import Config\n",
    "from ionpy.analysis import ResultsLoader\n",
    "\n",
    "# Define some useful paths.\n",
    "scratch_root = Path(\"/storage/vbutoi/scratch/ESE\")\n",
    "code_root = Path(\"/storage/vbutoi/projects/ESE\")\n",
    "rs = ResultsLoader()\n",
    "\n",
    "# For using code without restarting.\n",
    "%load_ext autoreload\n",
    "%autoreload 2\n",
    "# For using yaml configs.\n",
    "%load_ext yamlmagic"
   ]
  },
  {
   "cell_type": "code",
   "execution_count": null,
   "metadata": {},
   "outputs": [],
   "source": [
    "%%yaml inference_config\n",
    "\n",
    "\n",
    "experiment:\n",
    "    exp_root: '?'\n",
    "    seed: 40\n",
    "    threshold: 0.5 \n",
    "    max_ensemble_samples: 5\n",
    "\n",
    "log:\n",
    "    root: '?'\n",
    "    min_fg_pixels: 0 \n",
    "    log_interval: 10 \n",
    "    save_preds: False\n",
    "    log_image_stats: True \n",
    "    log_pixel_stats: False \n",
    "    gether_inference_stats: True\n",
    "    track_ensemble_member_scores: False \n",
    "    summary_compute_global_metrics: False \n",
    "\n",
    "dataloader:\n",
    "    batch_size: 1 \n",
    "    num_workers: 0\n",
    "    pin_memory: True "
   ]
  },
  {
   "cell_type": "code",
   "execution_count": null,
   "metadata": {},
   "outputs": [],
   "source": [
    "%%yaml calibration_cfg \n",
    "\n",
    "calibrator:\n",
    "    _name: '?'\n",
    "    normalize: False\n",
    "\n",
    "local_calibration:\n",
    "    num_prob_bins: 15\n",
    "    neighborhood_width: 3\n",
    "    square_diff: False \n",
    "\n",
    "global_calibration:\n",
    "    num_prob_bins: 15\n",
    "    num_classes: 2\n",
    "    neighborhood_width: 3\n",
    "    square_diff: False \n",
    "    loss_weights: None "
   ]
  },
  {
   "cell_type": "code",
   "execution_count": null,
   "metadata": {},
   "outputs": [],
   "source": [
    "%%yaml standard_model_cfg \n",
    "\n",
    "# For standard datasets\n",
    "#####################################\n",
    "data:\n",
    "    preload: False \n",
    "\n",
    "ensemble:\n",
    "    combine_fn: 'mean'\n",
    "    combine_quantity: 'probs'\n",
    "    normalize: False\n",
    "    num_members: 5\n",
    "\n",
    "model:\n",
    "    _type: \"standard\"\n",
    "    pretrained_exp_root : None\n",
    "    checkpoint: '?'\n",
    "    pretrained_select_metric: \"val-dice_score\"\n",
    "    pred_label: '?' "
   ]
  },
  {
   "cell_type": "code",
   "execution_count": null,
   "metadata": {},
   "outputs": [],
   "source": [
    "exp_name = '06_14_24_DRIVE_PilotAnalysis'\n",
    "group_dict = {\n",
    "    \"datasets\": [\n",
    "        \"DRIVE\"\n",
    "    ],\n",
    "    \"exp_group\": exp_name,\n",
    "    \"model_type\": \"standard\",\n",
    "    \"base_models_group\": \"/storage/vbutoi/scratch/ESE/training/06_14_24_DRIVE_Pilot\",\n",
    "    # \"calibrated_models_group\": \"/storage/vbutoi/scratch/ESE/calibration/06_12_24_WMH_CalibratedTrainSet\",\n",
    "    \"scratch_root\": \"/storage/vbutoi/scratch/ESE\",\n",
    "    \"inf_cfg_root\": \"/storage/vbutoi/projects/ESE/ese/experiment/configs/inference\",\n",
    "}"
   ]
  },
  {
   "cell_type": "markdown",
   "metadata": {},
   "source": [
    "## Gather Inference Options."
   ]
  },
  {
   "cell_type": "code",
   "execution_count": null,
   "metadata": {},
   "outputs": [],
   "source": [
    "%%yaml inference_config_opts\n",
    "\n",
    "calibrator:\n",
    "    - \"Uncalibrated\"\n",
    "    # - \"ImageBasedTS\"\n",
    "    # - \"LocalTS\"\n",
    "data.split: (\"val\", \"cal\")"
   ]
  },
  {
   "cell_type": "code",
   "execution_count": null,
   "metadata": {},
   "outputs": [],
   "source": [
    "# Load the inference cfg from local.\n",
    "##################################################\n",
    "inf_cfg_root = code_root / \"ese\" / \"experiment\" / \"configs\" / \"defaults\"\n",
    "\n",
    "##################################################\n",
    "with open(inf_cfg_root / \"Calibration_Metrics.yaml\", 'r') as file:\n",
    "    cal_metrics_cfg = yaml.safe_load(file)\n",
    "\n",
    "##################################################\n",
    "base_cfg = Config(inference_config).update([calibration_cfg, cal_metrics_cfg, standard_model_cfg])"
   ]
  },
  {
   "cell_type": "code",
   "execution_count": null,
   "metadata": {},
   "outputs": [],
   "source": [
    "# Get the configs for the different runs.\n",
    "inf_cfgs = get_ese_inference_configs(\n",
    "    group_dict=group_dict,\n",
    "    base_cfg=base_cfg,\n",
    "    inf_cfg_opts=inference_config_opts\n",
    ")"
   ]
  },
  {
   "cell_type": "code",
   "execution_count": null,
   "metadata": {},
   "outputs": [],
   "source": [
    "len(inf_cfgs)"
   ]
  },
  {
   "cell_type": "markdown",
   "metadata": {},
   "source": [
    "## Running Jobs"
   ]
  },
  {
   "cell_type": "code",
   "execution_count": null,
   "metadata": {},
   "outputs": [],
   "source": [
    "from ese.experiment.analysis.run_inference import get_cal_stats"
   ]
  },
  {
   "cell_type": "code",
   "execution_count": null,
   "metadata": {},
   "outputs": [],
   "source": [
    "from ese.experiment.experiment import run_ese_exp\n",
    "\n",
    "###### Run individual jobs\n",
    "run_ese_exp(\n",
    "    config=inf_cfgs[0], \n",
    "    job_func=get_cal_stats,\n",
    "    run_name='debug',\n",
    "    show_examples=True,\n",
    "    gpu='1',\n",
    ") "
   ]
  },
  {
   "cell_type": "code",
   "execution_count": null,
   "metadata": {},
   "outputs": [],
   "source": [
    "# from ese.experiment.experiment import submit_ese_exps \n",
    "\n",
    "# #### Run Batch Jobs\n",
    "# submit_ese_exps(\n",
    "#     config_list=inf_cfgs,\n",
    "#     job_func=get_cal_stats,\n",
    "#     available_gpus=['0', '1', '2', '3']\n",
    "# )"
   ]
  }
 ],
 "metadata": {
  "kernelspec": {
   "display_name": "Python 3",
   "language": "python",
   "name": "python3"
  },
  "language_info": {
   "codemirror_mode": {
    "name": "ipython",
    "version": 3
   },
   "file_extension": ".py",
   "mimetype": "text/x-python",
   "name": "python",
   "nbconvert_exporter": "python",
   "pygments_lexer": "ipython3",
   "version": "3.9.16"
  },
  "orig_nbformat": 4
 },
 "nbformat": 4,
 "nbformat_minor": 2
}
