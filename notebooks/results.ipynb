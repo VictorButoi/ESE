{
 "cells": [
  {
   "cell_type": "code",
   "execution_count": null,
   "id": "7885da88",
   "metadata": {},
   "outputs": [],
   "source": [
    "import sys\n",
    "sys.path.append(\"/storage/vbutoi/projects/\")\n",
    "sys.path.append(\"/storage/vbutoi/libraries/\")\n",
    "from ionpy.analysis import ResultsLoader\n",
    "import seaborn as sns\n",
    "import pandas as pd\n",
    "sns.set_context('talk')\n",
    "\n",
    "sns.set_style(\"darkgrid\")\n",
    "\n",
    "import os \n",
    "os.environ['DATAPATH'] = ':'.join((\n",
    "       '/storage',\n",
    "))\n",
    "\n",
    "# Results loader object does everything\n",
    "rs = ResultsLoader()\n",
    "root = \"/storage/vbutoi/scratch/ESE\""
   ]
  },
  {
   "cell_type": "code",
   "execution_count": null,
   "id": "0e101132",
   "metadata": {},
   "outputs": [],
   "source": [
    "cal_exp = '01_20_24_WMH_Balanced_Calibrators'\n",
    "\n",
    "path_list = [\n",
    "    f\"{root}/calibration/{cal_exp}/Individual_TempScaling\",\n",
    "    f\"{root}/calibration/{cal_exp}/Individual_VectorScaling\",\n",
    "    f\"{root}/calibration/{cal_exp}/Individual_DirichletScaling\",\n",
    "    f\"{root}/calibration/{cal_exp}/Individual_LTS\",\n",
    "    f\"{root}/calibration/{cal_exp}/Individual_NectarScaling\",\n",
    "]\n",
    "\n",
    "df_list = []\n",
    "for path in path_list:\n",
    "    dfc = rs.load_configs(\n",
    "        path,\n",
    "        properties=False,\n",
    "    )\n",
    "    df = rs.load_metrics(dfc)\n",
    "    df_list.append(df)"
   ]
  },
  {
   "cell_type": "code",
   "execution_count": null,
   "id": "d2a8445c",
   "metadata": {},
   "outputs": [],
   "source": [
    "df = pd.concat(df_list)"
   ]
  },
  {
   "cell_type": "code",
   "execution_count": null,
   "id": "03bb7d88",
   "metadata": {},
   "outputs": [],
   "source": [
    "def calibrator(model):\n",
    "    return model.split('.')[-1]\n",
    "\n",
    "df.augment(calibrator)"
   ]
  },
  {
   "cell_type": "code",
   "execution_count": null,
   "id": "6edb779c",
   "metadata": {},
   "outputs": [],
   "source": [
    "df.keys()"
   ]
  },
  {
   "cell_type": "code",
   "execution_count": null,
   "id": "42996829",
   "metadata": {},
   "outputs": [],
   "source": [
    "df.head()"
   ]
  },
  {
   "cell_type": "code",
   "execution_count": null,
   "id": "28aa10b8",
   "metadata": {},
   "outputs": [],
   "source": [
    "# def has_aug(augmentations):\n",
    "#     return not(augmentations == 'NaN')\n",
    "# def mode(slice_batch_size, batch_size, has_aug):\n",
    "#     return f\"slice_batch_size={slice_batch_size}, batch_size={batch_size}, has_aug={has_aug}\"\n",
    "# df.augment(has_aug)\n",
    "# df.augment(mode)\n",
    "\n",
    "g = sns.relplot(\n",
    "    data=df,\n",
    "    x='epoch',\n",
    "    y='ece_loss',\n",
    "    col='phase',\n",
    "    hue='calibrator',\n",
    "    kind='line',\n",
    "    height=12,\n",
    "    )\n",
    "\n",
    "# Set column spacing\n",
    "g.fig.subplots_adjust(wspace=0.05)\n",
    "# # Set the y-axis limits\n",
    "# g.set(ylim=(0.0002, 0.002))\n",
    "# g.set(ylim=(0.0, 0.25))"
   ]
  },
  {
   "cell_type": "code",
   "execution_count": null,
   "id": "d5198783",
   "metadata": {},
   "outputs": [],
   "source": [
    "g = sns.relplot(\n",
    "    data=df,\n",
    "    x='epoch',\n",
    "    y='elm_loss',\n",
    "    col='phase',\n",
    "    hue='calibrator',\n",
    "    kind='line',\n",
    "    height=12,\n",
    ")\n",
    "\n",
    "# Set column spacing\n",
    "g.fig.subplots_adjust(wspace=0.05)\n",
    "# # Set the y-axis limits\n",
    "# g.set(ylim=(0.0002, 0.002))\n",
    "# g.set(ylim=(0.0, 0.25))"
   ]
  }
 ],
 "metadata": {
  "kernelspec": {
   "display_name": "UniverSegTF",
   "language": "python",
   "name": "universegtf"
  },
  "language_info": {
   "codemirror_mode": {
    "name": "ipython",
    "version": 3
   },
   "file_extension": ".py",
   "mimetype": "text/x-python",
   "name": "python",
   "nbconvert_exporter": "python",
   "pygments_lexer": "ipython3",
   "version": "3.9.16"
  }
 },
 "nbformat": 4,
 "nbformat_minor": 5
}
