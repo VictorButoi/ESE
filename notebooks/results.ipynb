{
 "cells": [
  {
   "cell_type": "code",
   "execution_count": null,
   "id": "7885da88",
   "metadata": {},
   "outputs": [],
   "source": [
    "import sys\n",
    "sys.path.append(\"/storage/vbutoi/projects/\")\n",
    "sys.path.append(\"/storage/vbutoi/libraries/\")\n",
    "from ionpy.analysis import ResultsLoader\n",
    "import seaborn as sns\n",
    "import pandas as pd\n",
    "\n",
    "sns.set_style(\"darkgrid\")\n",
    "\n",
    "import os \n",
    "os.environ['DATAPATH'] = ':'.join((\n",
    "       '/storage',\n",
    "))\n",
    "\n",
    "# Results loader object does everything\n",
    "rs = ResultsLoader()\n",
    "root = \"/storage/vbutoi/scratch/ESE\""
   ]
  },
  {
   "cell_type": "code",
   "execution_count": null,
   "id": "0e101132",
   "metadata": {},
   "outputs": [],
   "source": [
    "path = f\"{root}/big_batch_size\"\n",
    "\n",
    "dfc = rs.load_configs(\n",
    "    path,\n",
    "    properties=False,\n",
    ")"
   ]
  },
  {
   "cell_type": "code",
   "execution_count": null,
   "id": "312291ec",
   "metadata": {},
   "outputs": [],
   "source": [
    "dfc.head()"
   ]
  },
  {
   "cell_type": "code",
   "execution_count": null,
   "id": "1cbb85b4",
   "metadata": {},
   "outputs": [],
   "source": [
    "dfc.unique_per_col()"
   ]
  },
  {
   "cell_type": "code",
   "execution_count": null,
   "id": "ed919086",
   "metadata": {},
   "outputs": [],
   "source": [
    "df = rs.load_metrics(dfc)"
   ]
  },
  {
   "cell_type": "code",
   "execution_count": null,
   "id": "9f613305",
   "metadata": {},
   "outputs": [],
   "source": [
    "df.head()"
   ]
  },
  {
   "cell_type": "code",
   "execution_count": null,
   "id": "28aa10b8",
   "metadata": {},
   "outputs": [],
   "source": [
    "def mode(slice_batch_size, batch_size, filters):\n",
    "    return f\"slice_batch_size={slice_batch_size}, batch_size={batch_size}, filters={filters}\"\n",
    "df.augment(mode)\n",
    "\n",
    "g = sns.relplot(\n",
    "    data=df,\n",
    "    x='epoch',\n",
    "    y='dice_score',\n",
    "    col='phase',\n",
    "    hue='mode',\n",
    "    kind='line',\n",
    "    height=12,\n",
    "    )\n",
    "\n",
    "# Set column spacing\n",
    "g.fig.subplots_adjust(wspace=0.05)\n",
    "g.set(ylim=(0, 1))"
   ]
  },
  {
   "cell_type": "code",
   "execution_count": null,
   "id": "a1dccdae",
   "metadata": {},
   "outputs": [],
   "source": [
    "g = sns.relplot(\n",
    "    data=df,\n",
    "    x='epoch',\n",
    "    y='dice_score',\n",
    "    col='phase',\n",
    "    hue='mode',\n",
    "    kind='line',\n",
    "    style='filters',\n",
    "    height=12,\n",
    "    )\n",
    "\n",
    "# Set column spacing\n",
    "g.fig.subplots_adjust(wspace=0.05)\n",
    "g.set(ylim=(0, 1))"
   ]
  },
  {
   "cell_type": "code",
   "execution_count": null,
   "id": "ad3d8a4c",
   "metadata": {},
   "outputs": [],
   "source": [
    "g = sns.relplot(\n",
    "    data=df.select(batch_size=1),\n",
    "    x='epoch',\n",
    "    y='dice_score',\n",
    "    col='phase',\n",
    "    hue='mode',\n",
    "    kind='line',\n",
    "    style='filters',\n",
    "    height=12,\n",
    "    )\n",
    "\n",
    "# Set column spacing\n",
    "g.fig.subplots_adjust(wspace=0.05)\n",
    "g.set(ylim=(0, 1))"
   ]
  },
  {
   "cell_type": "code",
   "execution_count": null,
   "id": "8db72014",
   "metadata": {},
   "outputs": [],
   "source": [
    "g = sns.relplot(\n",
    "    data=df.select(slice_batch_size=1),\n",
    "    x='epoch',\n",
    "    y='dice_score',\n",
    "    col='phase',\n",
    "    hue='mode',\n",
    "    kind='line',\n",
    "    style='filters',\n",
    "    height=12,\n",
    "    )\n",
    "\n",
    "# Set column spacing\n",
    "g.fig.subplots_adjust(wspace=0.05)\n",
    "g.set(ylim=(0, 1))"
   ]
  }
 ],
 "metadata": {
  "kernelspec": {
   "display_name": "UniverSegTF",
   "language": "python",
   "name": "universegtf"
  },
  "language_info": {
   "codemirror_mode": {
    "name": "ipython",
    "version": 3
   },
   "file_extension": ".py",
   "mimetype": "text/x-python",
   "name": "python",
   "nbconvert_exporter": "python",
   "pygments_lexer": "ipython3",
   "version": "3.9.16"
  }
 },
 "nbformat": 4,
 "nbformat_minor": 5
}
