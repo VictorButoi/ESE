{
 "cells": [
  {
   "cell_type": "code",
   "execution_count": null,
   "metadata": {},
   "outputs": [],
   "source": [
    "import sys\n",
    "sys.path.append('/storage/vbutoi/projects')\n",
    "sys.path.append('/storage/vbutoi/libraries')\n",
    "sys.path.append('/storage/vbutoi/projects/ESE')\n",
    "sys.path.append('/storage/vbutoi/projects/UniverSeg')\n",
    "\n",
    "import matplotlib.pyplot as plt\n",
    "import seaborn as sns\n",
    "sns.set_style(\"darkgrid\")\n",
    "\n",
    "import os \n",
    "os.environ['DATAPATH'] = ':'.join((\n",
    "       '/storage/vbutoi/datasets',\n",
    "))\n",
    "\n",
    "# Results loader object does everything\n",
    "from ionpy.analysis import ResultsLoader\n",
    "from pathlib import Path\n",
    "root = Path(\"/storage/vbutoi/scratch/ESE\")\n",
    "rs = ResultsLoader()\n",
    "\n",
    "# For using code without restarting.\n",
    "%load_ext autoreload\n",
    "%autoreload 2\n",
    "# For using yaml configs.\n",
    "%load_ext yamlmagic"
   ]
  },
  {
   "cell_type": "code",
   "execution_count": null,
   "metadata": {},
   "outputs": [],
   "source": [
    "%%yaml results_cfg \n",
    "\n",
    "log:\n",
    "    root: /storage/vbutoi/scratch/ESE/inference\n",
    "    inference_group: \"02_27_24_Shapes_BinaryTargetCal\"\n",
    "    \n",
    "calibration:\n",
    "    metric_cfg_file: \"/storage/vbutoi/projects/ESE/ese/experiment/configs/inference/Calibration_Metrics.yaml\"\n",
    "\n",
    "options:\n",
    "    load_pixel_meters: False \n",
    "    load_groupavg_metrics: False\n",
    "    remove_shared_columns: False\n",
    "    add_dice_loss_rows: True\n",
    "    drop_nan_metric_rows: True \n",
    "    add_baseline_rows: True \n",
    "    equal_rows_per_cfg_assert: False \n",
    "    # min_fg_pixels: 100"
   ]
  },
  {
   "cell_type": "code",
   "execution_count": null,
   "metadata": {},
   "outputs": [],
   "source": [
    "from ese.experiment.analysis.analyze_inf import load_cal_inference_stats\n",
    "\n",
    "image_info_df = load_cal_inference_stats(\n",
    "    results_cfg=results_cfg,\n",
    "    load_cached=True\n",
    ")"
   ]
  },
  {
   "cell_type": "code",
   "execution_count": null,
   "metadata": {},
   "outputs": [],
   "source": [
    "image_info_df['calibrator'].unique()"
   ]
  },
  {
   "cell_type": "markdown",
   "metadata": {},
   "source": [
    "## We are going to remove the case where there are very few pixels, cause unrealistic outliers."
   ]
  },
  {
   "cell_type": "code",
   "execution_count": null,
   "metadata": {},
   "outputs": [],
   "source": [
    "# Sort the image_info_df by method name, so everything appears nicely\n",
    "image_info_df = image_info_df.sort_values(by=['method_name', 'calibrator'])\n",
    "# Make sure that the model_class 'Uncalibrated' is first\n",
    "image_info_df['calibrator'] = image_info_df['calibrator'].astype('category')\n",
    "image_info_df['calibrator'] = image_info_df['calibrator'].cat.reorder_categories([\n",
    "    'Uncalibrated',\n",
    "    'Vanilla',\n",
    "    'TempScaling', \n",
    "    'VectorScaling', \n",
    "    'DirichletScaling',\n",
    "    'LTS', \n",
    "    'NectarScaling',\n",
    "    # 'Histogram_Binning (val)',\n",
    "    # 'Local_Histogram_Binning (val)',\n",
    "    # 'NECTAR_Binning (val)',\n",
    "    # 'Soft_NECTAR_Binning (val)',\n",
    "    # 'Histogram_Binning (cal)',\n",
    "    # 'Local_Histogram_Binning (cal)',\n",
    "    # 'NECTAR_Binning (cal)',\n",
    "    # 'Soft_NECTAR_Binning (cal)'\n",
    "])"
   ]
  },
  {
   "cell_type": "code",
   "execution_count": null,
   "metadata": {},
   "outputs": [],
   "source": [
    "image_info_df['method_name'].unique()"
   ]
  },
  {
   "cell_type": "code",
   "execution_count": null,
   "metadata": {},
   "outputs": [],
   "source": [
    "# Select only the rows corresponding to group methods\n",
    "image_info_df = image_info_df[image_info_df['model_type'] == 'group']\n",
    "\n",
    "image_info_df['method_name'] = image_info_df['method_name'].astype('category')\n",
    "image_info_df['method_name'] = image_info_df['method_name'].cat.reorder_categories([\n",
    "    'Average UNet',\n",
    "    # 'Ensemble (mean, logits)', \n",
    "    'Ensemble (mean, probs)', \n",
    "    'Ensemble (product, probs)', \n",
    "    # 'UNet (seed=40)', \n",
    "    # 'UNet (seed=41)', \n",
    "    # 'UNet (seed=42)', \n",
    "    # 'UNet (seed=43)', \n",
    "])\n",
    "\n",
    "image_info_df['split'] = image_info_df['split'].astype('category')\n",
    "image_info_df['split'] = image_info_df['split'].cat.reorder_categories([\n",
    "    # 'val',\n",
    "    'cal'\n",
    "])"
   ]
  },
  {
   "cell_type": "markdown",
   "metadata": {},
   "source": [
    "# Let's looks at the calibration scores of our models."
   ]
  },
  {
   "cell_type": "markdown",
   "metadata": {},
   "source": [
    "## ECE Metrics"
   ]
  },
  {
   "cell_type": "code",
   "execution_count": null,
   "metadata": {},
   "outputs": [],
   "source": [
    "g = sns.catplot(\n",
    "    data=image_info_df,\n",
    "    x=\"calibrator\",\n",
    "    y=\"ECE\",\n",
    "    hue=\"method_name\",\n",
    "    row=\"split\",\n",
    "    kind=\"bar\",\n",
    "    height=8,\n",
    "    aspect=3,\n",
    "    sharex=False\n",
    ")\n",
    "# Set column spacingj\n",
    "# Set the title of the plot\n",
    "# g.set(ylim=(0.0, 0.001))\n",
    "g.fig.suptitle(\"ECE by Calibration Method and Model Class\")\n",
    "# Move the title slightly up\n",
    "g.fig.subplots_adjust(top=0.9)"
   ]
  },
  {
   "cell_type": "code",
   "execution_count": null,
   "metadata": {},
   "outputs": [],
   "source": [
    "# g = sns.catplot(\n",
    "#     data=image_info_df,\n",
    "#     x=\"calibrator\",\n",
    "#     y=\"CW-ECE\",\n",
    "#     hue=\"method_name\",\n",
    "#     row=\"split\",\n",
    "#     kind=\"bar\",\n",
    "#     height=8,\n",
    "#     aspect=3,\n",
    "#     sharex=False\n",
    "# )\n",
    "# # Set column spacing\n",
    "# # # Set the y-axis limits\n",
    "# # g.set(ylim=(0.0, 0.001))\n",
    "# g.fig.suptitle(\"CW-ECE by Calibration Method and Model Class\")\n",
    "# # Move the title slightly up\n",
    "# g.fig.subplots_adjust(top=0.9)"
   ]
  },
  {
   "cell_type": "code",
   "execution_count": null,
   "metadata": {},
   "outputs": [],
   "source": [
    "# g = sns.catplot(\n",
    "#     data=image_info_df,\n",
    "#     x=\"calibrator\",\n",
    "#     y=\"Uniform-CW-ECE\",\n",
    "#     hue=\"method_name\",\n",
    "#     row=\"split\",\n",
    "#     kind=\"bar\",\n",
    "#     height=8,\n",
    "#     aspect=3,\n",
    "#     sharex=False\n",
    "# )\n",
    "# # Set column spacing\n",
    "# # # Set the y-axis limits\n",
    "# # g.set(ylim=(0.0, 0.001))\n",
    "# g.fig.suptitle(\"Uniform-CW-ECE by Calibration Method and Model Class\")\n",
    "# # Move the title slightly up\n",
    "# g.fig.subplots_adjust(top=0.9)"
   ]
  },
  {
   "cell_type": "code",
   "execution_count": null,
   "metadata": {},
   "outputs": [],
   "source": [
    "# g = sns.catplot(\n",
    "#     data=image_info_df,\n",
    "#     x=\"calibrator\",\n",
    "#     y=\"Edge-ECE\",\n",
    "#     hue=\"method_name\",\n",
    "#     row=\"split\",\n",
    "#     kind=\"bar\",\n",
    "#     height=8,\n",
    "#     aspect=3,\n",
    "#     sharex=False\n",
    "# )\n",
    "# # Set column spacing\n",
    "# # # Set the y-axis limits\n",
    "# # g.set(ylim=(0.0, 0.05))\n",
    "# g.fig.suptitle(\"Edge ECE by Calibration Method and Model Class\")\n",
    "# # Move the title slightly up\n",
    "# g.fig.subplots_adjust(top=0.9)"
   ]
  },
  {
   "cell_type": "code",
   "execution_count": null,
   "metadata": {},
   "outputs": [],
   "source": [
    "# g = sns.catplot(\n",
    "#     data=image_info_df,\n",
    "#     x=\"calibrator\",\n",
    "#     y=\"ECW-ECE\",\n",
    "#     hue=\"method_name\",\n",
    "#     row=\"split\",\n",
    "#     kind=\"bar\",\n",
    "#     height=8,\n",
    "#     aspect=3,\n",
    "#     sharex=False\n",
    "# )\n",
    "# # Set column spacing\n",
    "# # # Set the y-axis limits\n",
    "# # g.set(ylim=(0.0, 0.004))\n",
    "# g.fig.suptitle(\"Edge CW-ECE by Calibration Method and Model Class\")\n",
    "# # Move the title slightly up\n",
    "# g.fig.subplots_adjust(top=0.9)"
   ]
  },
  {
   "cell_type": "code",
   "execution_count": null,
   "metadata": {},
   "outputs": [],
   "source": [
    "# g = sns.catplot(\n",
    "#     data=image_info_df,\n",
    "#     x=\"calibrator\",\n",
    "#     y=\"Uniform-ECW-ECE\",\n",
    "#     hue=\"method_name\",\n",
    "#     row=\"split\",\n",
    "#     kind=\"bar\",\n",
    "#     height=8,\n",
    "#     aspect=3,\n",
    "#     sharex=False\n",
    "# )\n",
    "# # Set column spacing\n",
    "# # # Set the y-axis limits\n",
    "# # g.set(ylim=(0.0, 0.05))\n",
    "# g.fig.suptitle(\"Uniform ECW-ECE by Calibration Method and Model Class\")\n",
    "# # Move the title slightly up\n",
    "# g.fig.subplots_adjust(top=0.9)"
   ]
  },
  {
   "cell_type": "markdown",
   "metadata": {},
   "source": [
    "## ELM Metrics"
   ]
  },
  {
   "cell_type": "code",
   "execution_count": null,
   "metadata": {},
   "outputs": [],
   "source": [
    "# g = sns.catplot(\n",
    "#     data=image_info_df,\n",
    "#     x=\"calibrator\",\n",
    "#     y=\"ELM\",\n",
    "#     hue=\"method_name\",\n",
    "#     row=\"split\",\n",
    "#     kind=\"bar\",\n",
    "#     height=8,\n",
    "#     aspect=3,\n",
    "#     sharex=False\n",
    "# )\n",
    "# # Set column spacing\n",
    "# # # Set the y-axis limits\n",
    "# # g.set(ylim=(0.0, 0.001))\n",
    "# g.fig.suptitle(\"ELM by Calibration Method and Model Class\")\n",
    "# # Move the title slightly up\n",
    "# g.fig.subplots_adjust(top=0.9)"
   ]
  },
  {
   "cell_type": "code",
   "execution_count": null,
   "metadata": {},
   "outputs": [],
   "source": [
    "# g = sns.catplot(\n",
    "#     data=image_info_df,\n",
    "#     x=\"calibrator\",\n",
    "#     y=\"Edge-ELM\",\n",
    "#     hue=\"method_name\",\n",
    "#     row=\"split\",\n",
    "#     kind=\"bar\",\n",
    "#     height=8,\n",
    "#     aspect=3,\n",
    "#     sharex=False\n",
    "# )\n",
    "# # Set column spacing\n",
    "# # # Set the y-axis limits\n",
    "# # g.set(ylim=(0.0, 0.001))\n",
    "# g.fig.suptitle(\"Edge-ELM by Calibration Method and Model Class\")\n",
    "# # Move the title slightly up\n",
    "# g.fig.subplots_adjust(top=0.9)"
   ]
  },
  {
   "cell_type": "code",
   "execution_count": null,
   "metadata": {},
   "outputs": [],
   "source": [
    "# g = sns.catplot(\n",
    "#     data=image_info_df,\n",
    "#     x=\"calibrator\",\n",
    "#     y=\"Uniform-ELM\",\n",
    "#     hue=\"method_name\",\n",
    "#     row=\"split\",\n",
    "#     kind=\"bar\",\n",
    "#     height=8,\n",
    "#     aspect=3,\n",
    "#     sharex=False\n",
    "# )\n",
    "# # Set column spacing\n",
    "# # # Set the y-axis limits\n",
    "# # g.set(ylim=(0.0, 0.3))\n",
    "# g.fig.suptitle(\"Uniform-ELM by Calibration Method and Model Class\")\n",
    "# # Move the title slightly up\n",
    "# g.fig.subplots_adjust(top=0.9)"
   ]
  },
  {
   "cell_type": "code",
   "execution_count": null,
   "metadata": {},
   "outputs": [],
   "source": [
    "# g = sns.catplot(\n",
    "#     data=image_info_df,\n",
    "#     x=\"calibrator\",\n",
    "#     y=\"Uniform-Edge-ELM\",\n",
    "#     hue=\"method_name\",\n",
    "#     row=\"split\",\n",
    "#     kind=\"bar\",\n",
    "#     height=8,\n",
    "#     aspect=3,\n",
    "#     sharex=False\n",
    "# )\n",
    "# # Set column spacing\n",
    "# # # Set the y-axis limits\n",
    "# # g.set(ylim=(0.0, 0.3))\n",
    "# g.fig.suptitle(\"Uniform-Edge-ELM by Calibration Method and Model Class\")\n",
    "# # Move the title slightly up\n",
    "# g.fig.subplots_adjust(top=0.9)"
   ]
  },
  {
   "cell_type": "markdown",
   "metadata": {},
   "source": [
    "## Now we can look at the quality averages themselves, first looking slice-wise."
   ]
  },
  {
   "cell_type": "code",
   "execution_count": null,
   "metadata": {},
   "outputs": [],
   "source": [
    "image_info_df[\"image_metric\"].unique()"
   ]
  },
  {
   "cell_type": "code",
   "execution_count": null,
   "metadata": {},
   "outputs": [],
   "source": [
    "table_df = image_info_df.groupby([\"method_name\", \"calibrator\", \"image_metric\", \"ensemble\"])['metric_score'].mean().reset_index()\n",
    "dice_table = image_info_df[image_info_df[\"image_metric\"] == \"Dice\"]\n",
    "dice_loss_table = image_info_df[image_info_df[\"image_metric\"] == \"Dice Loss\"]\n",
    "hd95_table = image_info_df[image_info_df[\"image_metric\"] == \"HD95\"]\n",
    "boundaryiou_table = image_info_df[image_info_df[\"image_metric\"] == \"BoundaryIOU\"]\n",
    "# Variance dfs\n",
    "soft_var_table = image_info_df[image_info_df[\"image_metric\"] == \"Soft_Ens_VAR\"]\n",
    "hard_var_table = image_info_df[image_info_df[\"image_metric\"] == \"Hard_Ens_VAR\"]"
   ]
  },
  {
   "cell_type": "code",
   "execution_count": null,
   "metadata": {},
   "outputs": [],
   "source": [
    "# Load the pickled df corresponding to the upper-bound of the uncalibrated UNets\n",
    "from ese.experiment.analysis.analysis_utils.inference_utils import load_upperbound_df \n",
    "\n",
    "# Fill the column corresponding to slice_idx with string 'None'\n",
    "upperbound_df = load_upperbound_df(results_cfg['log'])"
   ]
  },
  {
   "cell_type": "code",
   "execution_count": null,
   "metadata": {},
   "outputs": [],
   "source": [
    "if upperbound_df is not None:\n",
    "    dice_ub_df = upperbound_df[upperbound_df[\"image_metric\"] == \"Dice\"]\n",
    "    dice_loss_ub_df = upperbound_df[upperbound_df[\"image_metric\"] == \"Dice Loss\"]\n",
    "    hd95_ub_df = upperbound_df[upperbound_df[\"image_metric\"] == \"HD95\"]\n",
    "    boundaryiou_df = upperbound_df[upperbound_df[\"image_metric\"] == \"BoundaryIOU\"]\n",
    "    # De Nan the dice_ub_df\n",
    "    dice_ub_df = dice_ub_df[dice_ub_df['metric_score'].notna()]\n",
    "    dice_loss_ub_df = dice_loss_ub_df[dice_loss_ub_df['metric_score'].notna()]\n",
    "    hd95_ub_df = hd95_ub_df[hd95_ub_df['metric_score'].notna()]\n",
    "    boundaryiou_df = boundaryiou_df[boundaryiou_df['metric_score'].notna()]"
   ]
  },
  {
   "cell_type": "code",
   "execution_count": null,
   "metadata": {},
   "outputs": [],
   "source": [
    "upperbound_df"
   ]
  },
  {
   "cell_type": "code",
   "execution_count": null,
   "metadata": {},
   "outputs": [],
   "source": [
    "from ese.experiment.analysis.analysis_utils.plot_utils import plot_upperbound_line\n",
    "\n",
    "num_calibrators = len(image_info_df['calibrator'].unique())"
   ]
  },
  {
   "cell_type": "code",
   "execution_count": null,
   "metadata": {},
   "outputs": [],
   "source": [
    "g = sns.catplot(\n",
    "    data=dice_table,\n",
    "    x=\"calibrator\",\n",
    "    y=\"metric_score\",\n",
    "    hue=\"method_name\",\n",
    "    row=\"split\",\n",
    "    kind=\"bar\",\n",
    "    height=8,\n",
    "    aspect=3,\n",
    "    sharex=False\n",
    ")\n",
    "if upperbound_df is not None:\n",
    "    plot_upperbound_line(\n",
    "        graph=g, \n",
    "        plot_df=dice_ub_df, \n",
    "        y=\"metric_score\", \n",
    "        num_calibrators=num_calibrators, \n",
    "        col=\"split\"\n",
    "    )\n",
    "# Set the title of the bar plot\n",
    "g.fig.suptitle(\"Dice for Different Calibration Methods\")\n",
    "# Give the title a bit of spacing from the plot\n",
    "g.fig.subplots_adjust(top=0.90)\n",
    "# Set the y axis to be between 0.5 and 1.0\n",
    "calibrators_width = num_calibrators - 1\n",
    "g.set(xlim=(-0.8, calibrators_width + 0.8))\n",
    "# g.set(ylim=(0.8, 1.0))"
   ]
  },
  {
   "cell_type": "code",
   "execution_count": null,
   "metadata": {},
   "outputs": [],
   "source": [
    "# g = sns.catplot(\n",
    "#     data=hd95_table,\n",
    "#     x=\"calibrator\",\n",
    "#     y=\"metric_score\",\n",
    "#     hue=\"method_name\",\n",
    "#     row=\"split\",\n",
    "#     kind=\"bar\",\n",
    "#     height=8,\n",
    "#     aspect=3\n",
    "# )\n",
    "# if upperbound_df is not None:\n",
    "#     plot_upperbound_line(\n",
    "#         graph=g, \n",
    "#         plot_df=hd95_ub_df, \n",
    "#         y=\"metric_score\", \n",
    "#         num_calibrators=num_calibrators, \n",
    "#         col=\"split\"\n",
    "#     )\n",
    "# # Set the title of the bar plot\n",
    "# g.fig.suptitle(\"Hausdorff Distance for Different Calibration Methods\")\n",
    "# # Give the title a bit of spacing from the plot\n",
    "# g.fig.subplots_adjust(top=0.90)\n",
    "# # Set the y axis to be between 0.5 and 1.0\n",
    "# calibrators_width = num_calibrators - 1\n",
    "# g.set(xlim=(-0.8, calibrators_width + 0.8))\n",
    "# # g.set(ylim=(3.0, 12))"
   ]
  },
  {
   "cell_type": "code",
   "execution_count": null,
   "metadata": {},
   "outputs": [],
   "source": [
    "g = sns.catplot(\n",
    "    data=boundaryiou_table,\n",
    "    x=\"calibrator\",\n",
    "    y=\"metric_score\",\n",
    "    hue=\"method_name\",\n",
    "    row=\"split\",\n",
    "    kind=\"bar\",\n",
    "    height=8,\n",
    "    aspect=3,\n",
    "    sharex=False\n",
    ")\n",
    "if upperbound_df is not None:\n",
    "    plot_upperbound_line(\n",
    "        graph=g, \n",
    "        plot_df=boundaryiou_df, \n",
    "        y=\"metric_score\", \n",
    "        num_calibrators=num_calibrators, \n",
    "        col=\"split\"\n",
    "    )\n",
    "# Set the title of the bar plot\n",
    "g.fig.suptitle(\"Boundary IoU for Different Calibration Methods\")\n",
    "# Give the title a bit of spacing from the plot\n",
    "g.fig.subplots_adjust(top=0.90)\n",
    "# Set the y axis to be between 0.5 and 1.0\n",
    "calibrators_width = num_calibrators - 1\n",
    "g.set(xlim=(-0.8, calibrators_width + 0.8))\n",
    "# g.set(ylim=(0.1, 0.3))"
   ]
  },
  {
   "cell_type": "code",
   "execution_count": null,
   "metadata": {},
   "outputs": [],
   "source": [
    "g = sns.catplot(\n",
    "    data=soft_var_table,\n",
    "    x=\"calibrator\",\n",
    "    y=\"metric_score\",\n",
    "    hue=\"method_name\",\n",
    "    row=\"split\",\n",
    "    kind=\"bar\",\n",
    "    height=8,\n",
    "    aspect=3,\n",
    "    sharex=False\n",
    ")\n",
    "# Set the title of the bar plot\n",
    "g.fig.suptitle(\"Soft-Variance for Different Calibration Methods\")\n",
    "# Give the title a bit of spacing from the plot\n",
    "g.fig.subplots_adjust(top=0.90)\n",
    "# Set the y axis to be between 0.5 and 1.0\n",
    "calibrators_width = num_calibrators - 1\n",
    "g.set(xlim=(-0.8, calibrators_width + 0.8))\n",
    "# g.set(ylim=(0.8, 1.0))"
   ]
  },
  {
   "cell_type": "code",
   "execution_count": null,
   "metadata": {},
   "outputs": [],
   "source": [
    "g = sns.catplot(\n",
    "    data=hard_var_table,\n",
    "    x=\"calibrator\",\n",
    "    y=\"metric_score\",\n",
    "    hue=\"method_name\",\n",
    "    row=\"split\",\n",
    "    kind=\"bar\",\n",
    "    height=8,\n",
    "    aspect=3,\n",
    "    sharex=False\n",
    ")\n",
    "# Set the title of the bar plot\n",
    "g.fig.suptitle(\"Hard-Variance for Different Calibration Methods\")\n",
    "# Give the title a bit of spacing from the plot\n",
    "g.fig.subplots_adjust(top=0.90)\n",
    "# Set the y axis to be between 0.5 and 1.0\n",
    "calibrators_width = num_calibrators - 1\n",
    "g.set(xlim=(-0.8, calibrators_width + 0.8))\n",
    "# g.set(ylim=(0.8, 1.0))"
   ]
  }
 ],
 "metadata": {
  "kernelspec": {
   "display_name": "UniverSegTF",
   "language": "python",
   "name": "universegtf"
  },
  "language_info": {
   "codemirror_mode": {
    "name": "ipython",
    "version": 3
   },
   "file_extension": ".py",
   "mimetype": "text/x-python",
   "name": "python",
   "nbconvert_exporter": "python",
   "pygments_lexer": "ipython3",
   "version": "3.9.16"
  },
  "orig_nbformat": 4
 },
 "nbformat": 4,
 "nbformat_minor": 2
}
