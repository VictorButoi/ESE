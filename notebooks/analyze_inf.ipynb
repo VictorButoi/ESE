{
 "cells": [
  {
   "cell_type": "code",
   "execution_count": null,
   "metadata": {},
   "outputs": [],
   "source": [
    "import sys\n",
    "sys.path.append('/storage/vbutoi/projects')\n",
    "sys.path.append('/storage/vbutoi/libraries')\n",
    "sys.path.append('/storage/vbutoi/projects/ESE')\n",
    "sys.path.append('/storage/vbutoi/projects/UniverSeg')\n",
    "\n",
    "import matplotlib.pyplot as plt\n",
    "import seaborn as sns\n",
    "sns.set_style(\"darkgrid\")\n",
    "sns.set_context(\"talk\")\n",
    "\n",
    "import os \n",
    "os.environ['DATAPATH'] = ':'.join((\n",
    "       '/storage/vbutoi/datasets',\n",
    "))\n",
    "\n",
    "# Results loader object does everything\n",
    "from ionpy.analysis import ResultsLoader\n",
    "from pathlib import Path\n",
    "root = Path(\"/storage/vbutoi/scratch/ESE\")\n",
    "rs = ResultsLoader()\n",
    "\n",
    "# For using code without restarting.\n",
    "%load_ext autoreload\n",
    "%autoreload 2\n",
    "# For using yaml configs.\n",
    "%load_ext yamlmagic"
   ]
  },
  {
   "cell_type": "code",
   "execution_count": null,
   "metadata": {},
   "outputs": [],
   "source": [
    "%%yaml results_cfg \n",
    "\n",
    "log:\n",
    "    root: /storage/vbutoi/scratch/ESE/inference\n",
    "    inference_groups: \n",
    "        # - \"03_27_24_RandomCircles_MassiveEnsemble_CE\"\n",
    "        # - \"03_28_24_RandomCircles_MassiveEnsemble_Dice\"\n",
    "        # - \"03_31_24_RandomCircles_MassiveEnsemble_Hausdorff\"\n",
    "        - \"03_31_24_RandomCircles_AdditionalData_MassiveEnsemble\"\n",
    "    \n",
    "# log_attributes:\n",
    "#     03_26_24_RandomCircles_MixedEnsembleStrategies:\n",
    "#         loss_func: \"CE\"\n",
    "\n",
    "calibration:\n",
    "    metric_cfg_file: \"/storage/vbutoi/projects/ESE/ese/experiment/configs/inference/Calibration_Metrics.yaml\"\n",
    "\n",
    "options:\n",
    "    add_baseline_rows: True  \n",
    "    load_pixel_meters: False \n",
    "    add_dice_loss_rows: True\n",
    "    drop_nan_metric_rows: True \n",
    "    load_groupavg_metrics: False\n",
    "    remove_shared_columns: False\n",
    "    equal_rows_per_cfg_assert: True "
   ]
  },
  {
   "cell_type": "code",
   "execution_count": null,
   "metadata": {},
   "outputs": [],
   "source": [
    "from ese.experiment.analysis.analyze_inf import load_cal_inference_stats\n",
    "\n",
    "image_info_df = load_cal_inference_stats(\n",
    "    results_cfg=results_cfg,\n",
    "    load_cached=False,\n",
    ")"
   ]
  },
  {
   "cell_type": "code",
   "execution_count": null,
   "metadata": {},
   "outputs": [],
   "source": [
    "image_info_df['calibrator'].unique()"
   ]
  },
  {
   "cell_type": "code",
   "execution_count": null,
   "metadata": {},
   "outputs": [],
   "source": [
    "# Sort the image_info_df by method name, so everything appears nicely\n",
    "image_info_df = image_info_df.sort_values(by=['method_name', 'calibrator'])\n",
    "# Make sure that the model_class 'Uncalibrated' is first\n",
    "image_info_df['calibrator'] = image_info_df['calibrator'].astype('category')\n",
    "image_info_df['calibrator'] = image_info_df['calibrator'].cat.reorder_categories([\n",
    "    'None',\n",
    "    'Uncalibrated',\n",
    "    # 'TempScaling', \n",
    "    # 'LTS'\n",
    "])"
   ]
  },
  {
   "cell_type": "code",
   "execution_count": null,
   "metadata": {},
   "outputs": [],
   "source": [
    "# Select only the rows corresponding to group methods\n",
    "image_info_df = image_info_df[image_info_df['model_type'] == 'group']"
   ]
  },
  {
   "cell_type": "code",
   "execution_count": null,
   "metadata": {},
   "outputs": [],
   "source": [
    "image_info_df['method_name'].unique()"
   ]
  },
  {
   "cell_type": "code",
   "execution_count": null,
   "metadata": {},
   "outputs": [],
   "source": [
    "image_info_df['method_name'] = image_info_df['method_name'].astype('category')\n",
    "image_info_df['method_name'] = image_info_df['method_name'].cat.reorder_categories([\n",
    "    'Average UNet',\n",
    "    'Ensemble (mean, probs)',\n",
    "    'Ensemble (max, probs)',\n",
    "])\n",
    "\n",
    "image_info_df['split'] = image_info_df['split'].astype('category')\n",
    "image_info_df['split'] = image_info_df['split'].cat.reorder_categories([\n",
    "    'val',\n",
    "    'cal'\n",
    "])"
   ]
  },
  {
   "cell_type": "markdown",
   "metadata": {},
   "source": [
    "## ECE Metrics"
   ]
  },
  {
   "cell_type": "code",
   "execution_count": null,
   "metadata": {},
   "outputs": [],
   "source": [
    "g = sns.relplot(\n",
    "    data=image_info_df,\n",
    "    x=\"num_ensemble_members\",\n",
    "    y=\"ECE\",\n",
    "    hue=\"calibrator\",\n",
    "    style=\"method_name\",\n",
    "    col=\"split\",\n",
    "    kind=\"line\",\n",
    "    height=9,\n",
    ")\n",
    "g.fig.suptitle(\"ECE by Calibration Method and Calibration Loss Function\", fontsize=25)\n",
    "g.set_xlabels(\"# Ensemble Members\")\n",
    "g.fig.subplots_adjust(top=0.85)\n",
    "g.set(xticks=[2, 4, 8, 16, 32])\n",
    "g.set(xlim=(2, 32))\n",
    "# Separate the columns slightly\n",
    "g.fig.subplots_adjust(wspace=0.07)"
   ]
  },
  {
   "cell_type": "code",
   "execution_count": null,
   "metadata": {},
   "outputs": [],
   "source": [
    "def group_by_config(in_df):\n",
    "    grouped_df = in_df.groupby([\n",
    "        'ensemble_hash',\n",
    "        'method_name',\n",
    "        'calibrator',\n",
    "        'split',\n",
    "        'num_ensemble_members',\n",
    "        'image_metric'\n",
    "    ])\n",
    "    # Mean over the metric_score columns\n",
    "    meaned_groups =  grouped_df.agg({'metric_score': 'mean'}).reset_index()\n",
    "    # Drop the NaN rows\n",
    "    grouped_cfg = meaned_groups.dropna().reset_index(drop=True)\n",
    "    return grouped_cfg"
   ]
  },
  {
   "cell_type": "code",
   "execution_count": null,
   "metadata": {},
   "outputs": [],
   "source": [
    "image_info_df['image_metric'].unique()"
   ]
  },
  {
   "cell_type": "code",
   "execution_count": null,
   "metadata": {},
   "outputs": [],
   "source": [
    "ece_metric_df = group_by_config(image_info_df[image_info_df['image_metric'] == 'Image_ECE'])\n",
    "\n",
    "g = sns.relplot(\n",
    "    data=ece_metric_df,\n",
    "    x=\"num_ensemble_members\",\n",
    "    y=\"metric_score\",\n",
    "    hue=\"calibrator\",\n",
    "    style=\"method_name\",\n",
    "    kind=\"line\",\n",
    "    col=\"split\",\n",
    "    height=9,\n",
    ")\n",
    "# Set the title of the bar plot\n",
    "g.fig.suptitle(\"Image-level ECE for Different Calibration Methods and \", fontsize=25)\n",
    "g.fig.subplots_adjust(top=0.85)\n",
    "# Separate the columns slightly\n",
    "g.fig.subplots_adjust(wspace=0.07)\n",
    "# Change the y axis label to say ECEkjkj\n",
    "g.set_ylabels(\"Image-level ECE\")\n",
    "g.set_xlabels(\"# Ensemble Members\")\n",
    "g.set(xticks=[2, 4, 8, 16, 32])\n",
    "g.set(xlim=(2, 32))"
   ]
  },
  {
   "cell_type": "code",
   "execution_count": null,
   "metadata": {},
   "outputs": [],
   "source": [
    "dice_metric_df = group_by_config(image_info_df[image_info_df['image_metric'] == 'Dice'])\n",
    "\n",
    "g = sns.relplot(\n",
    "    data=dice_metric_df,\n",
    "    x=\"num_ensemble_members\",\n",
    "    y=\"metric_score\",\n",
    "    hue=\"calibrator\",\n",
    "    style=\"method_name\",\n",
    "    kind=\"line\",\n",
    "    col=\"split\",\n",
    "    height=9,\n",
    ")\n",
    "# Set the title of the bar plot\n",
    "g.fig.suptitle(\"Dice for Different Calibration Methods\", fontsize=25)\n",
    "g.fig.subplots_adjust(top=0.85)\n",
    "# Separate the columns slightly\n",
    "g.fig.subplots_adjust(wspace=0.07)\n",
    "# Change the y axis label\n",
    "g.set_ylabels(\"Dice\")\n",
    "g.set_xlabels(\"# Ensemble Members\")\n",
    "g.set(xticks=[2, 4, 8, 16, 32])\n",
    "g.set(xlim=(2, 32))"
   ]
  },
  {
   "cell_type": "code",
   "execution_count": null,
   "metadata": {},
   "outputs": [],
   "source": [
    "hd_metric_df = group_by_config(image_info_df[image_info_df['image_metric'] == 'HD95'])\n",
    "\n",
    "g = sns.relplot(\n",
    "    data=hd_metric_df,\n",
    "    x=\"num_ensemble_members\",\n",
    "    y=\"metric_score\",\n",
    "    hue=\"calibrator\",\n",
    "    style=\"method_name\",\n",
    "    kind=\"line\",\n",
    "    col=\"split\",\n",
    "    height=9,\n",
    ")\n",
    "# Set the title of the bar plot\n",
    "g.fig.suptitle(\"HD95 for Different Calibration Methods\", fontsize=25)\n",
    "g.fig.subplots_adjust(top=0.85)\n",
    "# Separate the columns slightly\n",
    "g.fig.subplots_adjust(wspace=0.07)\n",
    "# Change the y axis label\n",
    "g.set_ylabels(\"HD95\")\n",
    "g.set_xlabels(\"# Ensemble Members\")\n",
    "g.set(xticks=[2, 4, 8, 16, 32])\n",
    "g.set(xlim=(2, 32))"
   ]
  },
  {
   "cell_type": "code",
   "execution_count": null,
   "metadata": {},
   "outputs": [],
   "source": [
    "boundary_metric_df = group_by_config(image_info_df[image_info_df['image_metric'] == 'BoundaryIOU'])\n",
    "\n",
    "g = sns.relplot(\n",
    "    data=boundary_metric_df,\n",
    "    x=\"num_ensemble_members\",\n",
    "    y=\"metric_score\",\n",
    "    hue=\"calibrator\",\n",
    "    style=\"method_name\",\n",
    "    kind=\"line\",\n",
    "    col=\"split\",\n",
    "    height=9,\n",
    ")\n",
    "# Set the title of the bar plot\n",
    "g.fig.suptitle(\"Boundary IoU for Different Calibration Methods\", fontsize=25)\n",
    "g.fig.subplots_adjust(top=0.85)\n",
    "# Separate the columns slightly\n",
    "g.fig.subplots_adjust(wspace=0.07)\n",
    "# Change the y axis label\n",
    "g.set_ylabels(\"Boundary IoU\")\n",
    "g.set_xlabels(\"# Ensemble Members\")\n",
    "g.set(xticks=[2, 4, 8, 16, 32])\n",
    "g.set(xlim=(2, 32))"
   ]
  },
  {
   "cell_type": "code",
   "execution_count": null,
   "metadata": {},
   "outputs": [],
   "source": [
    "boundary_metric_df = group_by_config(image_info_df[image_info_df['image_metric'] == 'Accuracy'])\n",
    "\n",
    "g = sns.relplot(\n",
    "    data=boundary_metric_df,\n",
    "    x=\"num_ensemble_members\",\n",
    "    y=\"metric_score\",\n",
    "    hue=\"calibrator\",\n",
    "    style=\"method_name\",\n",
    "    kind=\"line\",\n",
    "    col=\"split\",\n",
    "    height=9,\n",
    ")\n",
    "# Set the title of the bar plot\n",
    "g.fig.suptitle(\"Pixel-Accuracy for Different Calibration Methods\", fontsize=25)\n",
    "g.fig.subplots_adjust(top=0.85)\n",
    "# Separate the columns slightly\n",
    "g.fig.subplots_adjust(wspace=0.07)\n",
    "# Change the y axis label\n",
    "g.set_ylabels(\"Pixel-Accuracy\")\n",
    "g.set_xlabels(\"# Ensemble Members\")\n",
    "g.set(xticks=[2, 4, 8, 16, 32])\n",
    "g.set(xlim=(2, 32))"
   ]
  }
 ],
 "metadata": {
  "kernelspec": {
   "display_name": "Python 3",
   "language": "python",
   "name": "python3"
  },
  "language_info": {
   "codemirror_mode": {
    "name": "ipython",
    "version": 3
   },
   "file_extension": ".py",
   "mimetype": "text/x-python",
   "name": "python",
   "nbconvert_exporter": "python",
   "pygments_lexer": "ipython3",
   "version": "3.9.16"
  },
  "orig_nbformat": 4
 },
 "nbformat": 4,
 "nbformat_minor": 2
}
