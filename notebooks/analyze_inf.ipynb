{
 "cells": [
  {
   "cell_type": "code",
   "execution_count": 1,
   "metadata": {},
   "outputs": [],
   "source": [
    "import sys\n",
    "sys.path.append('/storage/vbutoi/projects')\n",
    "sys.path.append('/storage/vbutoi/libraries')\n",
    "sys.path.append('/storage/vbutoi/projects/ESE')\n",
    "sys.path.append('/storage/vbutoi/projects/UniverSeg')\n",
    "\n",
    "import matplotlib.pyplot as plt\n",
    "import seaborn as sns\n",
    "sns.set_style(\"darkgrid\")\n",
    "sns.set_context(\"talk\")\n",
    "\n",
    "import os \n",
    "os.environ['DATAPATH'] = ':'.join((\n",
    "       '/storage/vbutoi/datasets',\n",
    "))\n",
    "\n",
    "# Results loader object does everything\n",
    "from ionpy.analysis import ResultsLoader\n",
    "from pathlib import Path\n",
    "root = Path(\"/storage/vbutoi/scratch/ESE\")\n",
    "rs = ResultsLoader()\n",
    "\n",
    "# For using code without restarting.\n",
    "%load_ext autoreload\n",
    "%autoreload 2\n",
    "# For using yaml configs.\n",
    "%load_ext yamlmagic"
   ]
  },
  {
   "cell_type": "code",
   "execution_count": 2,
   "metadata": {},
   "outputs": [
    {
     "data": {
      "application/javascript": "\n            require(\n                [\n                    \"notebook/js/codecell\",\n                    \"codemirror/mode/yaml/yaml\"\n                ],\n                function(cc){\n                    cc.CodeCell.options_default.highlight_modes.magic_yaml = {\n                        reg: [\"^%%yaml\"]\n                    }\n                }\n            );\n            ",
      "text/plain": [
       "<IPython.core.display.Javascript object>"
      ]
     },
     "metadata": {},
     "output_type": "display_data"
    }
   ],
   "source": [
    "%%yaml results_cfg \n",
    "\n",
    "log:\n",
    "    root: /storage/vbutoi/scratch/ESE/inference\n",
    "    inference_groups: \n",
    "        - \"04_05_24_RandomShapes_Evaluation\"\n",
    "    \n",
    "# log_attributes:\n",
    "#     03_26_24_RandomCircles_MixedEnsembleStrategies:\n",
    "#         loss_func: \"CE\"\n",
    "\n",
    "calibration:\n",
    "    metric_cfg_file: \"/storage/vbutoi/projects/ESE/ese/experiment/configs/inference/Calibration_Metrics.yaml\"\n",
    "\n",
    "options:\n",
    "    add_baseline_rows: True  \n",
    "    load_pixel_meters: False \n",
    "    add_dice_loss_rows: True\n",
    "    drop_nan_metric_rows: True \n",
    "    load_groupavg_metrics: False\n",
    "    remove_shared_columns: False\n",
    "    equal_rows_per_cfg_assert: True "
   ]
  },
  {
   "cell_type": "code",
   "execution_count": 3,
   "metadata": {},
   "outputs": [
    {
     "name": "stderr",
     "output_type": "stream",
     "text": [
      "/storage/vbutoi/libraries/pylot/pandas/register.py:47: UserWarning: registration of accessor <class 'pylot.pandas.register.register_series_method.<locals>.inner.<locals>.AccessorMethod'> under name 'fillNA' for type <class 'pandas.core.series.Series'> is overriding a preexisting attribute with the same name.\n",
      "  register_series_accessor(method.__name__)(AccessorMethod)\n",
      "/storage/vbutoi/libraries/pylot/pandas/register.py:47: UserWarning: registration of accessor <class 'pylot.pandas.register.register_series_method.<locals>.inner.<locals>.AccessorMethod'> under name 'isNA' for type <class 'pandas.core.series.Series'> is overriding a preexisting attribute with the same name.\n",
      "  register_series_accessor(method.__name__)(AccessorMethod)\n",
      "/storage/vbutoi/libraries/pylot/pandas/register.py:47: UserWarning: registration of accessor <class 'pylot.pandas.register.register_series_method.<locals>.inner.<locals>.AccessorMethod'> under name 'notNA' for type <class 'pandas.core.series.Series'> is overriding a preexisting attribute with the same name.\n",
      "  register_series_accessor(method.__name__)(AccessorMethod)\n",
      "/storage/vbutoi/libraries/pylot/pandas/register.py:47: UserWarning: registration of accessor <class 'pylot.pandas.register.register_series_method.<locals>.inner.<locals>.AccessorMethod'> under name 'is_constant' for type <class 'pandas.core.series.Series'> is overriding a preexisting attribute with the same name.\n",
      "  register_series_accessor(method.__name__)(AccessorMethod)\n",
      "/storage/vbutoi/libraries/pylot/pandas/register.py:26: UserWarning: registration of accessor <class 'pylot.pandas.register.register_dataframe_method.<locals>.inner.<locals>.AccessorMethod'> under name 'drop_constant' for type <class 'pandas.core.frame.DataFrame'> is overriding a preexisting attribute with the same name.\n",
      "  register_dataframe_accessor(method.__name__)(AccessorMethod)\n",
      "/storage/vbutoi/libraries/pylot/pandas/register.py:26: UserWarning: registration of accessor <class 'pylot.pandas.register.register_dataframe_method.<locals>.inner.<locals>.AccessorMethod'> under name 'constants' for type <class 'pandas.core.frame.DataFrame'> is overriding a preexisting attribute with the same name.\n",
      "  register_dataframe_accessor(method.__name__)(AccessorMethod)\n",
      "/storage/vbutoi/libraries/pylot/pandas/register.py:26: UserWarning: registration of accessor <class 'pylot.pandas.register.register_dataframe_method.<locals>.inner.<locals>.AccessorMethod'> under name 'to_categories' for type <class 'pandas.core.frame.DataFrame'> is overriding a preexisting attribute with the same name.\n",
      "  register_dataframe_accessor(method.__name__)(AccessorMethod)\n",
      "/storage/vbutoi/libraries/pylot/pandas/register.py:26: UserWarning: registration of accessor <class 'pylot.pandas.register.register_dataframe_method.<locals>.inner.<locals>.AccessorMethod'> under name 'select' for type <class 'pandas.core.frame.DataFrame'> is overriding a preexisting attribute with the same name.\n",
      "  register_dataframe_accessor(method.__name__)(AccessorMethod)\n",
      "/storage/vbutoi/libraries/pylot/pandas/register.py:26: UserWarning: registration of accessor <class 'pylot.pandas.register.register_dataframe_method.<locals>.inner.<locals>.AccessorMethod'> under name 'augment' for type <class 'pandas.core.frame.DataFrame'> is overriding a preexisting attribute with the same name.\n",
      "  register_dataframe_accessor(method.__name__)(AccessorMethod)\n",
      "/storage/vbutoi/libraries/pylot/pandas/register.py:26: UserWarning: registration of accessor <class 'pylot.pandas.register.register_dataframe_method.<locals>.inner.<locals>.AccessorMethod'> under name 'broadcast' for type <class 'pandas.core.frame.DataFrame'> is overriding a preexisting attribute with the same name.\n",
      "  register_dataframe_accessor(method.__name__)(AccessorMethod)\n",
      "/storage/vbutoi/libraries/pylot/pandas/register.py:26: UserWarning: registration of accessor <class 'pylot.pandas.register.register_dataframe_method.<locals>.inner.<locals>.AccessorMethod'> under name 'unique_per_col' for type <class 'pandas.core.frame.DataFrame'> is overriding a preexisting attribute with the same name.\n",
      "  register_dataframe_accessor(method.__name__)(AccessorMethod)\n",
      "/storage/vbutoi/libraries/pylot/pandas/register.py:26: UserWarning: registration of accessor <class 'pylot.pandas.register.register_dataframe_method.<locals>.inner.<locals>.AccessorMethod'> under name 'constants_subset' for type <class 'pandas.core.frame.DataFrame'> is overriding a preexisting attribute with the same name.\n",
      "  register_dataframe_accessor(method.__name__)(AccessorMethod)\n",
      "/storage/vbutoi/libraries/pylot/pandas/register.py:26: UserWarning: registration of accessor <class 'pylot.pandas.register.register_dataframe_method.<locals>.inner.<locals>.AccessorMethod'> under name 'smooth' for type <class 'pandas.core.frame.DataFrame'> is overriding a preexisting attribute with the same name.\n",
      "  register_dataframe_accessor(method.__name__)(AccessorMethod)\n",
      "/storage/vbutoi/libraries/pylot/pandas/register.py:26: UserWarning: registration of accessor <class 'pylot.pandas.register.register_dataframe_method.<locals>.inner.<locals>.AccessorMethod'> under name 'augment_from_attrs' for type <class 'pandas.core.frame.DataFrame'> is overriding a preexisting attribute with the same name.\n",
      "  register_dataframe_accessor(method.__name__)(AccessorMethod)\n",
      "/storage/vbutoi/libraries/pylot/pandas/unix.py:12: UserWarning: registration of accessor <class 'pylot.pandas.unix.UnixAccessor'> under name 'unix' for type <class 'pandas.core.series.Series'> is overriding a preexisting attribute with the same name.\n",
      "  class UnixAccessor:\n",
      "/local/vbutoi/envs/UniverSegTF/lib/python3.9/site-packages/pydantic/_internal/_fields.py:149: UserWarning: Field \"model_outputs\" has conflict with protected namespace \"model_\".\n",
      "\n",
      "You may be able to resolve this warning by setting `model_config['protected_namespaces'] = ()`.\n",
      "  warnings.warn(\n"
     ]
    },
    {
     "ename": "KeyError",
     "evalue": "'metric_score'",
     "output_type": "error",
     "traceback": [
      "\u001b[0;31m---------------------------------------------------------------------------\u001b[0m",
      "\u001b[0;31mKeyError\u001b[0m                                  Traceback (most recent call last)",
      "File \u001b[0;32m~/envs/UniverSegTF/lib/python3.9/site-packages/pandas/core/indexes/base.py:3802\u001b[0m, in \u001b[0;36mIndex.get_loc\u001b[0;34m(self, key, method, tolerance)\u001b[0m\n\u001b[1;32m   3801\u001b[0m \u001b[38;5;28;01mtry\u001b[39;00m:\n\u001b[0;32m-> 3802\u001b[0m     \u001b[38;5;28;01mreturn\u001b[39;00m \u001b[38;5;28;43mself\u001b[39;49m\u001b[38;5;241;43m.\u001b[39;49m\u001b[43m_engine\u001b[49m\u001b[38;5;241;43m.\u001b[39;49m\u001b[43mget_loc\u001b[49m\u001b[43m(\u001b[49m\u001b[43mcasted_key\u001b[49m\u001b[43m)\u001b[49m\n\u001b[1;32m   3803\u001b[0m \u001b[38;5;28;01mexcept\u001b[39;00m \u001b[38;5;167;01mKeyError\u001b[39;00m \u001b[38;5;28;01mas\u001b[39;00m err:\n",
      "File \u001b[0;32m~/envs/UniverSegTF/lib/python3.9/site-packages/pandas/_libs/index.pyx:138\u001b[0m, in \u001b[0;36mpandas._libs.index.IndexEngine.get_loc\u001b[0;34m()\u001b[0m\n",
      "File \u001b[0;32m~/envs/UniverSegTF/lib/python3.9/site-packages/pandas/_libs/index.pyx:165\u001b[0m, in \u001b[0;36mpandas._libs.index.IndexEngine.get_loc\u001b[0;34m()\u001b[0m\n",
      "File \u001b[0;32mpandas/_libs/hashtable_class_helper.pxi:5745\u001b[0m, in \u001b[0;36mpandas._libs.hashtable.PyObjectHashTable.get_item\u001b[0;34m()\u001b[0m\n",
      "File \u001b[0;32mpandas/_libs/hashtable_class_helper.pxi:5753\u001b[0m, in \u001b[0;36mpandas._libs.hashtable.PyObjectHashTable.get_item\u001b[0;34m()\u001b[0m\n",
      "\u001b[0;31mKeyError\u001b[0m: 'metric_score'",
      "\nThe above exception was the direct cause of the following exception:\n",
      "\u001b[0;31mKeyError\u001b[0m                                  Traceback (most recent call last)",
      "Cell \u001b[0;32mIn[3], line 3\u001b[0m\n\u001b[1;32m      1\u001b[0m \u001b[38;5;28;01mfrom\u001b[39;00m \u001b[38;5;21;01mese\u001b[39;00m\u001b[38;5;21;01m.\u001b[39;00m\u001b[38;5;21;01mexperiment\u001b[39;00m\u001b[38;5;21;01m.\u001b[39;00m\u001b[38;5;21;01manalysis\u001b[39;00m\u001b[38;5;21;01m.\u001b[39;00m\u001b[38;5;21;01manalyze_inf\u001b[39;00m \u001b[38;5;28;01mimport\u001b[39;00m load_cal_inference_stats\n\u001b[0;32m----> 3\u001b[0m image_info_df \u001b[38;5;241m=\u001b[39m \u001b[43mload_cal_inference_stats\u001b[49m\u001b[43m(\u001b[49m\n\u001b[1;32m      4\u001b[0m \u001b[43m    \u001b[49m\u001b[43mresults_cfg\u001b[49m\u001b[38;5;241;43m=\u001b[39;49m\u001b[43mresults_cfg\u001b[49m\u001b[43m,\u001b[49m\n\u001b[1;32m      5\u001b[0m \u001b[43m    \u001b[49m\u001b[43mload_cached\u001b[49m\u001b[38;5;241;43m=\u001b[39;49m\u001b[38;5;28;43;01mFalse\u001b[39;49;00m\u001b[43m,\u001b[49m\n\u001b[1;32m      6\u001b[0m \u001b[43m)\u001b[49m\n",
      "File \u001b[0;32m~/envs/UniverSegTF/lib/python3.9/site-packages/pydantic/deprecated/decorator.py:55\u001b[0m, in \u001b[0;36mvalidate_arguments.<locals>.validate.<locals>.wrapper_function\u001b[0;34m(*args, **kwargs)\u001b[0m\n\u001b[1;32m     53\u001b[0m \u001b[38;5;129m@wraps\u001b[39m(_func)\n\u001b[1;32m     54\u001b[0m \u001b[38;5;28;01mdef\u001b[39;00m \u001b[38;5;21mwrapper_function\u001b[39m(\u001b[38;5;241m*\u001b[39margs: Any, \u001b[38;5;241m*\u001b[39m\u001b[38;5;241m*\u001b[39mkwargs: Any) \u001b[38;5;241m-\u001b[39m\u001b[38;5;241m>\u001b[39m Any:\n\u001b[0;32m---> 55\u001b[0m     \u001b[38;5;28;01mreturn\u001b[39;00m \u001b[43mvd\u001b[49m\u001b[38;5;241;43m.\u001b[39;49m\u001b[43mcall\u001b[49m\u001b[43m(\u001b[49m\u001b[38;5;241;43m*\u001b[39;49m\u001b[43margs\u001b[49m\u001b[43m,\u001b[49m\u001b[43m \u001b[49m\u001b[38;5;241;43m*\u001b[39;49m\u001b[38;5;241;43m*\u001b[39;49m\u001b[43mkwargs\u001b[49m\u001b[43m)\u001b[49m\n",
      "File \u001b[0;32m~/envs/UniverSegTF/lib/python3.9/site-packages/pydantic/deprecated/decorator.py:150\u001b[0m, in \u001b[0;36mValidatedFunction.call\u001b[0;34m(self, *args, **kwargs)\u001b[0m\n\u001b[1;32m    148\u001b[0m \u001b[38;5;28;01mdef\u001b[39;00m \u001b[38;5;21mcall\u001b[39m(\u001b[38;5;28mself\u001b[39m, \u001b[38;5;241m*\u001b[39margs: Any, \u001b[38;5;241m*\u001b[39m\u001b[38;5;241m*\u001b[39mkwargs: Any) \u001b[38;5;241m-\u001b[39m\u001b[38;5;241m>\u001b[39m Any:\n\u001b[1;32m    149\u001b[0m     m \u001b[38;5;241m=\u001b[39m \u001b[38;5;28mself\u001b[39m\u001b[38;5;241m.\u001b[39minit_model_instance(\u001b[38;5;241m*\u001b[39margs, \u001b[38;5;241m*\u001b[39m\u001b[38;5;241m*\u001b[39mkwargs)\n\u001b[0;32m--> 150\u001b[0m     \u001b[38;5;28;01mreturn\u001b[39;00m \u001b[38;5;28;43mself\u001b[39;49m\u001b[38;5;241;43m.\u001b[39;49m\u001b[43mexecute\u001b[49m\u001b[43m(\u001b[49m\u001b[43mm\u001b[49m\u001b[43m)\u001b[49m\n",
      "File \u001b[0;32m~/envs/UniverSegTF/lib/python3.9/site-packages/pydantic/deprecated/decorator.py:222\u001b[0m, in \u001b[0;36mValidatedFunction.execute\u001b[0;34m(self, m)\u001b[0m\n\u001b[1;32m    220\u001b[0m     \u001b[38;5;28;01mreturn\u001b[39;00m \u001b[38;5;28mself\u001b[39m\u001b[38;5;241m.\u001b[39mraw_function(\u001b[38;5;241m*\u001b[39margs_, \u001b[38;5;241m*\u001b[39m\u001b[38;5;241m*\u001b[39mkwargs, \u001b[38;5;241m*\u001b[39m\u001b[38;5;241m*\u001b[39mvar_kwargs)\n\u001b[1;32m    221\u001b[0m \u001b[38;5;28;01melse\u001b[39;00m:\n\u001b[0;32m--> 222\u001b[0m     \u001b[38;5;28;01mreturn\u001b[39;00m \u001b[38;5;28;43mself\u001b[39;49m\u001b[38;5;241;43m.\u001b[39;49m\u001b[43mraw_function\u001b[49m\u001b[43m(\u001b[49m\u001b[38;5;241;43m*\u001b[39;49m\u001b[38;5;241;43m*\u001b[39;49m\u001b[43md\u001b[49m\u001b[43m,\u001b[49m\u001b[43m \u001b[49m\u001b[38;5;241;43m*\u001b[39;49m\u001b[38;5;241;43m*\u001b[39;49m\u001b[43mvar_kwargs\u001b[49m\u001b[43m)\u001b[49m\n",
      "File \u001b[0;32m/storage/vbutoi/projects/ESE/ese/experiment/analysis/analyze_inf.py:202\u001b[0m, in \u001b[0;36mload_cal_inference_stats\u001b[0;34m(results_cfg, load_cached)\u001b[0m\n\u001b[1;32m    200\u001b[0m original_row_amount \u001b[38;5;241m=\u001b[39m \u001b[38;5;28mlen\u001b[39m(inference_df)\n\u001b[1;32m    201\u001b[0m \u001b[38;5;66;03m# Get the triples of (data_idx, slice_idx, metric_name) where metric_score is NaN.\u001b[39;00m\n\u001b[0;32m--> 202\u001b[0m unique_nan_triples \u001b[38;5;241m=\u001b[39m inference_df[\u001b[43minference_df\u001b[49m\u001b[43m[\u001b[49m\u001b[38;5;124;43m'\u001b[39;49m\u001b[38;5;124;43mmetric_score\u001b[39;49m\u001b[38;5;124;43m'\u001b[39;49m\u001b[43m]\u001b[49m\u001b[38;5;241m.\u001b[39misna()][[\u001b[38;5;124m'\u001b[39m\u001b[38;5;124mdata_id\u001b[39m\u001b[38;5;124m'\u001b[39m, \u001b[38;5;124m'\u001b[39m\u001b[38;5;124mslice_idx\u001b[39m\u001b[38;5;124m'\u001b[39m, \u001b[38;5;124m'\u001b[39m\u001b[38;5;124mimage_metric\u001b[39m\u001b[38;5;124m'\u001b[39m]]\u001b[38;5;241m.\u001b[39mdrop_duplicates()\n\u001b[1;32m    203\u001b[0m \u001b[38;5;66;03m# Drop the rows which match the triples.\u001b[39;00m\n\u001b[1;32m    204\u001b[0m \u001b[38;5;28;01mfor\u001b[39;00m _, row \u001b[38;5;129;01min\u001b[39;00m unique_nan_triples\u001b[38;5;241m.\u001b[39miterrows():\n",
      "File \u001b[0;32m~/envs/UniverSegTF/lib/python3.9/site-packages/pandas/core/frame.py:3807\u001b[0m, in \u001b[0;36mDataFrame.__getitem__\u001b[0;34m(self, key)\u001b[0m\n\u001b[1;32m   3805\u001b[0m \u001b[38;5;28;01mif\u001b[39;00m \u001b[38;5;28mself\u001b[39m\u001b[38;5;241m.\u001b[39mcolumns\u001b[38;5;241m.\u001b[39mnlevels \u001b[38;5;241m>\u001b[39m \u001b[38;5;241m1\u001b[39m:\n\u001b[1;32m   3806\u001b[0m     \u001b[38;5;28;01mreturn\u001b[39;00m \u001b[38;5;28mself\u001b[39m\u001b[38;5;241m.\u001b[39m_getitem_multilevel(key)\n\u001b[0;32m-> 3807\u001b[0m indexer \u001b[38;5;241m=\u001b[39m \u001b[38;5;28;43mself\u001b[39;49m\u001b[38;5;241;43m.\u001b[39;49m\u001b[43mcolumns\u001b[49m\u001b[38;5;241;43m.\u001b[39;49m\u001b[43mget_loc\u001b[49m\u001b[43m(\u001b[49m\u001b[43mkey\u001b[49m\u001b[43m)\u001b[49m\n\u001b[1;32m   3808\u001b[0m \u001b[38;5;28;01mif\u001b[39;00m is_integer(indexer):\n\u001b[1;32m   3809\u001b[0m     indexer \u001b[38;5;241m=\u001b[39m [indexer]\n",
      "File \u001b[0;32m~/envs/UniverSegTF/lib/python3.9/site-packages/pandas/core/indexes/base.py:3804\u001b[0m, in \u001b[0;36mIndex.get_loc\u001b[0;34m(self, key, method, tolerance)\u001b[0m\n\u001b[1;32m   3802\u001b[0m     \u001b[38;5;28;01mreturn\u001b[39;00m \u001b[38;5;28mself\u001b[39m\u001b[38;5;241m.\u001b[39m_engine\u001b[38;5;241m.\u001b[39mget_loc(casted_key)\n\u001b[1;32m   3803\u001b[0m \u001b[38;5;28;01mexcept\u001b[39;00m \u001b[38;5;167;01mKeyError\u001b[39;00m \u001b[38;5;28;01mas\u001b[39;00m err:\n\u001b[0;32m-> 3804\u001b[0m     \u001b[38;5;28;01mraise\u001b[39;00m \u001b[38;5;167;01mKeyError\u001b[39;00m(key) \u001b[38;5;28;01mfrom\u001b[39;00m \u001b[38;5;21;01merr\u001b[39;00m\n\u001b[1;32m   3805\u001b[0m \u001b[38;5;28;01mexcept\u001b[39;00m \u001b[38;5;167;01mTypeError\u001b[39;00m:\n\u001b[1;32m   3806\u001b[0m     \u001b[38;5;66;03m# If we have a listlike key, _check_indexing_error will raise\u001b[39;00m\n\u001b[1;32m   3807\u001b[0m     \u001b[38;5;66;03m#  InvalidIndexError. Otherwise we fall through and re-raise\u001b[39;00m\n\u001b[1;32m   3808\u001b[0m     \u001b[38;5;66;03m#  the TypeError.\u001b[39;00m\n\u001b[1;32m   3809\u001b[0m     \u001b[38;5;28mself\u001b[39m\u001b[38;5;241m.\u001b[39m_check_indexing_error(key)\n",
      "\u001b[0;31mKeyError\u001b[0m: 'metric_score'"
     ]
    }
   ],
   "source": [
    "from ese.experiment.analysis.analyze_inf import load_cal_inference_stats\n",
    "\n",
    "image_info_df = load_cal_inference_stats(\n",
    "    results_cfg=results_cfg,\n",
    "    load_cached=False,\n",
    ")"
   ]
  },
  {
   "cell_type": "code",
   "execution_count": null,
   "metadata": {},
   "outputs": [],
   "source": [
    "image_info_df['calibrator'].unique()"
   ]
  },
  {
   "cell_type": "code",
   "execution_count": null,
   "metadata": {},
   "outputs": [],
   "source": [
    "# Sort the image_info_df by method name, so everything appears nicely\n",
    "image_info_df = image_info_df.sort_values(by=['method_name', 'calibrator'])\n",
    "# Make sure that the model_class 'Uncalibrated' is first\n",
    "image_info_df['calibrator'] = image_info_df['calibrator'].astype('category')\n",
    "image_info_df['calibrator'] = image_info_df['calibrator'].cat.reorder_categories([\n",
    "    'None',\n",
    "    'Uncalibrated',\n",
    "    # 'TempScaling', \n",
    "    # 'LTS'\n",
    "])"
   ]
  },
  {
   "cell_type": "code",
   "execution_count": null,
   "metadata": {},
   "outputs": [],
   "source": [
    "# Select only the rows corresponding to group methods\n",
    "image_info_df = image_info_df[image_info_df['model_type'] == 'group']"
   ]
  },
  {
   "cell_type": "code",
   "execution_count": null,
   "metadata": {},
   "outputs": [],
   "source": [
    "image_info_df['method_name'].unique()"
   ]
  },
  {
   "cell_type": "code",
   "execution_count": null,
   "metadata": {},
   "outputs": [],
   "source": [
    "image_info_df['method_name'] = image_info_df['method_name'].astype('category')\n",
    "image_info_df['method_name'] = image_info_df['method_name'].cat.reorder_categories([\n",
    "    'Average UNet',\n",
    "    'Ensemble (mean, probs)',\n",
    "    'Ensemble (max, probs)',\n",
    "])\n",
    "\n",
    "image_info_df['split'] = image_info_df['split'].astype('category')\n",
    "image_info_df['split'] = image_info_df['split'].cat.reorder_categories([\n",
    "    'val',\n",
    "    'cal'\n",
    "])"
   ]
  },
  {
   "cell_type": "markdown",
   "metadata": {},
   "source": [
    "## ECE Metrics"
   ]
  },
  {
   "cell_type": "code",
   "execution_count": null,
   "metadata": {},
   "outputs": [],
   "source": [
    "g = sns.relplot(\n",
    "    data=image_info_df,\n",
    "    x=\"num_ensemble_members\",\n",
    "    y=\"ECE\",\n",
    "    hue=\"calibrator\",\n",
    "    style=\"method_name\",\n",
    "    col=\"split\",\n",
    "    kind=\"line\",\n",
    "    height=9,\n",
    ")\n",
    "g.fig.suptitle(\"ECE by Calibration Method and Calibration Loss Function\", fontsize=25)\n",
    "g.set_xlabels(\"# Ensemble Members\")\n",
    "g.fig.subplots_adjust(top=0.85)\n",
    "g.set(xticks=[2, 4, 8, 16, 32])\n",
    "g.set(xlim=(2, 32))\n",
    "# Separate the columns slightly\n",
    "g.fig.subplots_adjust(wspace=0.07)"
   ]
  },
  {
   "cell_type": "code",
   "execution_count": null,
   "metadata": {},
   "outputs": [],
   "source": [
    "def group_by_config(in_df):\n",
    "    grouped_df = in_df.groupby([\n",
    "        'ensemble_hash',\n",
    "        'method_name',\n",
    "        'calibrator',\n",
    "        'split',\n",
    "        'num_ensemble_members',\n",
    "        'image_metric'\n",
    "    ])\n",
    "    # Mean over the metric_score columns\n",
    "    meaned_groups =  grouped_df.agg({'metric_score': 'mean'}).reset_index()\n",
    "    # Drop the NaN rows\n",
    "    grouped_cfg = meaned_groups.dropna().reset_index(drop=True)\n",
    "    return grouped_cfg"
   ]
  },
  {
   "cell_type": "code",
   "execution_count": null,
   "metadata": {},
   "outputs": [],
   "source": [
    "image_info_df['image_metric'].unique()"
   ]
  },
  {
   "cell_type": "code",
   "execution_count": null,
   "metadata": {},
   "outputs": [],
   "source": [
    "ece_metric_df = group_by_config(image_info_df[image_info_df['image_metric'] == 'Image_ECE'])\n",
    "\n",
    "g = sns.relplot(\n",
    "    data=ece_metric_df,\n",
    "    x=\"num_ensemble_members\",\n",
    "    y=\"metric_score\",\n",
    "    hue=\"calibrator\",\n",
    "    style=\"method_name\",\n",
    "    kind=\"line\",\n",
    "    col=\"split\",\n",
    "    height=9,\n",
    ")\n",
    "# Set the title of the bar plot\n",
    "g.fig.suptitle(\"Image-level ECE for Different Calibration Methods and \", fontsize=25)\n",
    "g.fig.subplots_adjust(top=0.85)\n",
    "# Separate the columns slightly\n",
    "g.fig.subplots_adjust(wspace=0.07)\n",
    "# Change the y axis label to say ECEkjkj\n",
    "g.set_ylabels(\"Image-level ECE\")\n",
    "g.set_xlabels(\"# Ensemble Members\")\n",
    "g.set(xticks=[2, 4, 8, 16, 32])\n",
    "g.set(xlim=(2, 32))"
   ]
  },
  {
   "cell_type": "code",
   "execution_count": null,
   "metadata": {},
   "outputs": [],
   "source": [
    "dice_metric_df = group_by_config(image_info_df[image_info_df['image_metric'] == 'Dice'])\n",
    "\n",
    "g = sns.relplot(\n",
    "    data=dice_metric_df,\n",
    "    x=\"num_ensemble_members\",\n",
    "    y=\"metric_score\",\n",
    "    hue=\"calibrator\",\n",
    "    style=\"method_name\",\n",
    "    kind=\"line\",\n",
    "    col=\"split\",\n",
    "    height=9,\n",
    ")\n",
    "# Set the title of the bar plot\n",
    "g.fig.suptitle(\"Dice for Different Calibration Methods\", fontsize=25)\n",
    "g.fig.subplots_adjust(top=0.85)\n",
    "# Separate the columns slightly\n",
    "g.fig.subplots_adjust(wspace=0.07)\n",
    "# Change the y axis label\n",
    "g.set_ylabels(\"Dice\")\n",
    "g.set_xlabels(\"# Ensemble Members\")\n",
    "g.set(xticks=[2, 4, 8, 16, 32])\n",
    "g.set(xlim=(2, 32))"
   ]
  },
  {
   "cell_type": "code",
   "execution_count": null,
   "metadata": {},
   "outputs": [],
   "source": [
    "hd_metric_df = group_by_config(image_info_df[image_info_df['image_metric'] == 'HD95'])\n",
    "\n",
    "g = sns.relplot(\n",
    "    data=hd_metric_df,\n",
    "    x=\"num_ensemble_members\",\n",
    "    y=\"metric_score\",\n",
    "    hue=\"calibrator\",\n",
    "    style=\"method_name\",\n",
    "    kind=\"line\",\n",
    "    col=\"split\",\n",
    "    height=9,\n",
    ")\n",
    "# Set the title of the bar plot\n",
    "g.fig.suptitle(\"HD95 for Different Calibration Methods\", fontsize=25)\n",
    "g.fig.subplots_adjust(top=0.85)\n",
    "# Separate the columns slightly\n",
    "g.fig.subplots_adjust(wspace=0.07)\n",
    "# Change the y axis label\n",
    "g.set_ylabels(\"HD95\")\n",
    "g.set_xlabels(\"# Ensemble Members\")\n",
    "g.set(xticks=[2, 4, 8, 16, 32])\n",
    "g.set(xlim=(2, 32))"
   ]
  },
  {
   "cell_type": "code",
   "execution_count": null,
   "metadata": {},
   "outputs": [],
   "source": [
    "boundary_metric_df = group_by_config(image_info_df[image_info_df['image_metric'] == 'BoundaryIOU'])\n",
    "\n",
    "g = sns.relplot(\n",
    "    data=boundary_metric_df,\n",
    "    x=\"num_ensemble_members\",\n",
    "    y=\"metric_score\",\n",
    "    hue=\"calibrator\",\n",
    "    style=\"method_name\",\n",
    "    kind=\"line\",\n",
    "    col=\"split\",\n",
    "    height=9,\n",
    ")\n",
    "# Set the title of the bar plot\n",
    "g.fig.suptitle(\"Boundary IoU for Different Calibration Methods\", fontsize=25)\n",
    "g.fig.subplots_adjust(top=0.85)\n",
    "# Separate the columns slightly\n",
    "g.fig.subplots_adjust(wspace=0.07)\n",
    "# Change the y axis label\n",
    "g.set_ylabels(\"Boundary IoU\")\n",
    "g.set_xlabels(\"# Ensemble Members\")\n",
    "g.set(xticks=[2, 4, 8, 16, 32])\n",
    "g.set(xlim=(2, 32))"
   ]
  },
  {
   "cell_type": "code",
   "execution_count": null,
   "metadata": {},
   "outputs": [],
   "source": [
    "boundary_metric_df = group_by_config(image_info_df[image_info_df['image_metric'] == 'Accuracy'])\n",
    "\n",
    "g = sns.relplot(\n",
    "    data=boundary_metric_df,\n",
    "    x=\"num_ensemble_members\",\n",
    "    y=\"metric_score\",\n",
    "    hue=\"calibrator\",\n",
    "    style=\"method_name\",\n",
    "    kind=\"line\",\n",
    "    col=\"split\",\n",
    "    height=9,\n",
    ")\n",
    "# Set the title of the bar plot\n",
    "g.fig.suptitle(\"Pixel-Accuracy for Different Calibration Methods\", fontsize=25)\n",
    "g.fig.subplots_adjust(top=0.85)\n",
    "# Separate the columns slightly\n",
    "g.fig.subplots_adjust(wspace=0.07)\n",
    "# Change the y axis label\n",
    "g.set_ylabels(\"Pixel-Accuracy\")\n",
    "g.set_xlabels(\"# Ensemble Members\")\n",
    "g.set(xticks=[2, 4, 8, 16, 32])\n",
    "g.set(xlim=(2, 32))"
   ]
  }
 ],
 "metadata": {
  "kernelspec": {
   "display_name": "Python 3",
   "language": "python",
   "name": "python3"
  },
  "language_info": {
   "codemirror_mode": {
    "name": "ipython",
    "version": 3
   },
   "file_extension": ".py",
   "mimetype": "text/x-python",
   "name": "python",
   "nbconvert_exporter": "python",
   "pygments_lexer": "ipython3",
   "version": "3.9.16"
  },
  "orig_nbformat": 4
 },
 "nbformat": 4,
 "nbformat_minor": 2
}
