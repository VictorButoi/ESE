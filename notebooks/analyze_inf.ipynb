{
 "cells": [
  {
   "cell_type": "code",
   "execution_count": null,
   "metadata": {},
   "outputs": [],
   "source": [
    "import sys\n",
    "sys.path.append('/storage/vbutoi/projects')\n",
    "sys.path.append('/storage/vbutoi/libraries')\n",
    "sys.path.append('/storage/vbutoi/projects/ESE')\n",
    "sys.path.append('/storage/vbutoi/projects/UniverSeg')\n",
    "\n",
    "import matplotlib.pyplot as plt\n",
    "import seaborn as sns\n",
    "sns.set_style(\"darkgrid\")\n",
    "\n",
    "import os \n",
    "os.environ['DATAPATH'] = ':'.join((\n",
    "       '/storage/vbutoi/datasets',\n",
    "))\n",
    "\n",
    "# Results loader object does everything\n",
    "from ionpy.analysis import ResultsLoader\n",
    "from pathlib import Path\n",
    "root = Path(\"/storage/vbutoi/scratch/ESE\")\n",
    "rs = ResultsLoader()\n",
    "\n",
    "# For using code without restarting.\n",
    "%load_ext autoreload\n",
    "%autoreload \n",
    "# For using yaml configs.\n",
    "%load_ext yamlmagic"
   ]
  },
  {
   "cell_type": "code",
   "execution_count": null,
   "metadata": {},
   "outputs": [],
   "source": [
    "%%yaml results_cfg \n",
    "\n",
    "# EXPERIMENT SETS:\n",
    "# - WMH Calibration (no weighting): 01_18_24_All_Metrics\n",
    "# - WMH Only Foreground Loss: 01_21_24_Foreground_Calibrators\n",
    "# - WMH Balanced Loss: 01_21_24_Balanced_CE_Calibrators\n",
    "# - CityScapes Calibration: 01_27_24_CityScapes_Analysis\n",
    "\n",
    "log:\n",
    "    root: /storage/vbutoi/scratch/ESE/inference\n",
    "    load_pixel_meters: True \n",
    "    remove_shared_columns: False\n",
    "    drop_nan_metric_rows: True \n",
    "    # min_fg_pixels: 100\n",
    "    # inference_groups:\n",
    "    #     - \"01_27_24_CityScapes_Analysis\"\n",
    "    inference_paths:\n",
    "        - 01_27_24_CityScapes_Analysis/CityScapes_Individual_Uncalibrated\n",
    "    \n",
    "calibration:\n",
    "    num_bins: 15\n",
    "    square_diff: False \n",
    "    neighborhood_width: 3\n",
    "\n",
    "cal_metrics:\n",
    "    - ECE:\n",
    "        _fn: ese.experiment.metrics.ece.ece_loss\n",
    "    # - CW_ECE:\n",
    "    #     _fn: ese.experiment.metrics.ece.cw_ece_loss\n",
    "    # - Edge_ECE:\n",
    "    #     _fn: ese.experiment.metrics.ece.edge_ece_loss\n",
    "    # - ELM:\n",
    "    #     _fn: ese.experiment.metrics.elm.elm_loss\n",
    "    # - Foreground_ECE:\n",
    "    #     _fn: ese.experiment.metrics.ece.ece_loss\n",
    "    #     ignore_index: 0\n",
    "    # - Foreground_CW_ECE:\n",
    "    #     _fn: ese.experiment.metrics.ece.cw_ece_loss\n",
    "    #     ignore_index: 0\n",
    "    # - Foreground_Edge_ECE:\n",
    "    #     _fn: ese.experiment.metrics.ece.edge_ece_loss\n",
    "    #     ignore_index: 0       \n",
    "    # - Foreground_ELM:\n",
    "    #     _fn: ese.experiment.metrics.elm.elm_loss\n",
    "    #     ignore_index: 0"
   ]
  },
  {
   "cell_type": "code",
   "execution_count": null,
   "metadata": {},
   "outputs": [],
   "source": [
    "from ese.experiment.analysis.inference import load_cal_inference_stats\n",
    "\n",
    "image_info_df = load_cal_inference_stats(\n",
    "    results_cfg=results_cfg\n",
    ")"
   ]
  },
  {
   "cell_type": "code",
   "execution_count": null,
   "metadata": {},
   "outputs": [],
   "source": [
    "image_info_df['calibrator'].unique()"
   ]
  },
  {
   "cell_type": "markdown",
   "metadata": {},
   "source": [
    "## We are going to remove the case where there are very few pixels, cause unrealistic outliers."
   ]
  },
  {
   "cell_type": "code",
   "execution_count": null,
   "metadata": {},
   "outputs": [],
   "source": [
    "# Sort the image_info_df by method name, so everything appears nicely\n",
    "image_info_df = image_info_df.sort_values(by=['method_name', 'calibrator'])\n",
    "# Make sure that the model_class 'Uncalibrated' is first\n",
    "image_info_df['calibrator'] = image_info_df['calibrator'].astype('category')\n",
    "image_info_df['calibrator'] = image_info_df['calibrator'].cat.reorder_categories([\n",
    "    'Uncalibrated',\n",
    "    'Vanilla',\n",
    "    'Temperature_Scaling', \n",
    "    'Vector_Scaling', \n",
    "    'LTS', \n",
    "    'NECTAR_Scaling'\n",
    "])"
   ]
  },
  {
   "cell_type": "code",
   "execution_count": null,
   "metadata": {},
   "outputs": [],
   "source": [
    "# Select only the rows corresponding to group methods\n",
    "image_info_df = image_info_df[image_info_df['model_type'] == 'group']\n",
    "# group_methods_df = image_info_df\n",
    "\n",
    "image_info_df['method_name'] = image_info_df['method_name'].astype('category')\n",
    "image_info_df['method_name'] = image_info_df['method_name'].cat.reorder_categories([\n",
    "    'Average UNet',\n",
    "    'Ensemble (mean, logits)', \n",
    "    'Ensemble (mean, probs)', \n",
    "    'Ensemble (product, probs)', \n",
    "    # 'UNet (seed=40)', \n",
    "    # 'UNet (seed=41)', \n",
    "    # 'UNet (seed=42)', \n",
    "    # 'UNet (seed=43)', \n",
    "    ])"
   ]
  },
  {
   "cell_type": "markdown",
   "metadata": {},
   "source": [
    "## Let's looks at the calibration scores of our models."
   ]
  },
  {
   "cell_type": "code",
   "execution_count": null,
   "metadata": {},
   "outputs": [],
   "source": [
    "g = sns.catplot(\n",
    "    data=image_info_df,\n",
    "    x=\"calibrator\",\n",
    "    y=\"ECE\",\n",
    "    hue=\"method_name\",\n",
    "    kind=\"bar\",\n",
    "    height=6,\n",
    "    aspect=2\n",
    ")\n",
    "# Set column spacingj\n",
    "g.fig.subplots_adjust(wspace=0.5)\n",
    "# # Set the y-axis limits\n",
    "# g.set(ylim=(0.0, 0.25))\n",
    "# Set the title of the plot\n",
    "g.fig.suptitle(\"ECE by Calibration Method and Model Class\")\n",
    "# Move the title slightly up\n",
    "g.fig.subplots_adjust(top=0.9)"
   ]
  },
  {
   "cell_type": "code",
   "execution_count": null,
   "metadata": {},
   "outputs": [],
   "source": [
    "g = sns.catplot(\n",
    "    data=image_info_df,\n",
    "    x=\"calibrator\",\n",
    "    y=\"Foreground_ECE\",\n",
    "    hue=\"method_name\",\n",
    "    kind=\"bar\",\n",
    "    height=6,\n",
    "    aspect=2\n",
    ")\n",
    "# Set column spacing\n",
    "# # Set the y-axis limits\n",
    "# g.set(ylim=(0.0, 0.25))\n",
    "# Set the title of the plot\n",
    "g.fig.suptitle(\"Foreground ECE by Calibration Method and Model Class\")\n",
    "# Move the title slightly up\n",
    "g.fig.subplots_adjust(top=0.9)"
   ]
  },
  {
   "cell_type": "code",
   "execution_count": null,
   "metadata": {},
   "outputs": [],
   "source": [
    "g = sns.catplot(\n",
    "    data=image_info_df,\n",
    "    x=\"calibrator\",\n",
    "    y=\"CW_ECE\",\n",
    "    hue=\"method_name\",\n",
    "    kind=\"bar\",\n",
    "    height=6,\n",
    "    aspect=2\n",
    ")\n",
    "# Set column spacing\n",
    "# # Set the y-axis limits\n",
    "# g.set(ylim=(0.0, 0.25))\n",
    "g.fig.suptitle(\"CW ECE by Calibration Method and Model Class\")\n",
    "# Move the title slightly up\n",
    "g.fig.subplots_adjust(top=0.9)"
   ]
  },
  {
   "cell_type": "code",
   "execution_count": null,
   "metadata": {},
   "outputs": [],
   "source": [
    "g = sns.catplot(\n",
    "    data=image_info_df,\n",
    "    x=\"calibrator\",\n",
    "    y=\"Edge_ECE\",\n",
    "    hue=\"method_name\",\n",
    "    kind=\"bar\",\n",
    "    height=6,\n",
    "    aspect=2\n",
    ")\n",
    "# Set column spacing\n",
    "# # Set the y-axis limits\n",
    "# g.set(ylim=(0.0, 0.25))\n",
    "g.fig.suptitle(\"Edge ECE by Calibration Method and Model Class\")\n",
    "# Move the title slightly up\n",
    "g.fig.subplots_adjust(top=0.9)"
   ]
  },
  {
   "cell_type": "code",
   "execution_count": null,
   "metadata": {},
   "outputs": [],
   "source": [
    "g = sns.catplot(\n",
    "    data=image_info_df,\n",
    "    x=\"calibrator\",\n",
    "    y=\"ELM\",\n",
    "    hue=\"method_name\",\n",
    "    kind=\"bar\",\n",
    "    height=6,\n",
    "    aspect=2\n",
    ")\n",
    "# Set column spacing\n",
    "# # Set the y-axis limits\n",
    "# g.set(ylim=(0.0, 0.25))\n",
    "g.fig.suptitle(\"ELM by Calibration Method and Model Class\")\n",
    "# Move the title slightly up\n",
    "g.fig.subplots_adjust(top=0.9)"
   ]
  },
  {
   "cell_type": "markdown",
   "metadata": {},
   "source": [
    "## Now we can look at the quality averages themselves, first looking slice-wise."
   ]
  },
  {
   "cell_type": "code",
   "execution_count": null,
   "metadata": {},
   "outputs": [],
   "source": [
    "table_df = image_info_df.groupby([\"method_name\", \"calibrator\", \"image_metric\", \"ensemble\"])['metric_score'].mean().reset_index()\n",
    "dice_table = image_info_df[image_info_df[\"image_metric\"] == \"Dice\"]\n",
    "hd95_table = image_info_df[image_info_df[\"image_metric\"] == \"HD95\"]\n",
    "# Sort these by method name so they are consistent in the figures\n",
    "dice_table = dice_table.sort_values(by=['method_name'])\n",
    "hd95_table = hd95_table.sort_values(by=['method_name'])"
   ]
  },
  {
   "cell_type": "code",
   "execution_count": null,
   "metadata": {},
   "outputs": [],
   "source": [
    "# # and remove the calibrators Vector_Scaling and Dirichlet_Scaling\n",
    "# filtered_dice_table = dice_table[(dice_table[\"calibrator\"] != \"Vector_Scaling\")]\n",
    "# filtered_dice_table = filtered_dice_table[(filtered_dice_table[\"calibrator\"] != \"Dirichlet_Scaling\")]\n",
    "\n",
    "# filtered_hd95_table = hd95_table[(hd95_table[\"calibrator\"] != \"Vector_Scaling\")]\n",
    "# filtered_hd95_table = filtered_hd95_table[(filtered_hd95_table[\"calibrator\"] != \"Dirichlet_Scaling\")]"
   ]
  },
  {
   "cell_type": "code",
   "execution_count": null,
   "metadata": {},
   "outputs": [],
   "source": [
    "g = sns.catplot(\n",
    "    data=dice_table,\n",
    "    x=\"calibrator\",\n",
    "    y=\"metric_score\",\n",
    "    hue=\"method_name\",\n",
    "    kind=\"bar\",\n",
    "    height=6,\n",
    "    aspect=2\n",
    ")\n",
    "# Set the title of the bar plot\n",
    "g.fig.suptitle(\"Dice Score for Different Calibration Methods (Per Slice)\")\n",
    "# Give the title a bit of spacing from the plot\n",
    "g.fig.subplots_adjust(top=0.90)\n",
    "# Set the y axis to be between 0.5 and 1.0\n",
    "g.set(ylim=(0.7, 0.8))"
   ]
  },
  {
   "cell_type": "code",
   "execution_count": null,
   "metadata": {},
   "outputs": [],
   "source": [
    "g = sns.catplot(\n",
    "    data=hd95_table,\n",
    "    x=\"calibrator\",\n",
    "    y=\"metric_score\",\n",
    "    hue=\"method_name\",\n",
    "    kind=\"bar\",\n",
    "    height=6,\n",
    "    aspect=2\n",
    ")\n",
    "# Set the title of the bar plot\n",
    "g.fig.suptitle(\"Hausdorff Distance for Different Calibration Methods (Per Slice)\")\n",
    "# Give the title a bit of spacing from the plot\n",
    "g.fig.subplots_adjust(top=0.90)\n",
    "# Set the y axis to be between 4 and 8\n",
    "g.set(ylim=(4, 9))"
   ]
  },
  {
   "cell_type": "markdown",
   "metadata": {},
   "source": [
    "## Now we want to consider these averaged within subjects."
   ]
  },
  {
   "cell_type": "code",
   "execution_count": null,
   "metadata": {},
   "outputs": [],
   "source": [
    "# subj_image_info_df = image_info_df.groupby([\"method_name\", \"model_class\", \"qual_metric\", \"ensemble\", \"data_id\"])['qual_score'].mean().reset_index()\n",
    "\n",
    "# subject_dice_table = subj_image_info_df[subj_image_info_df[\"qual_metric\"] == \"Dice\"]\n",
    "# subject_hd95_table = subj_image_info_df[subj_image_info_df[\"qual_metric\"] == \"HD95\"]\n",
    "# # sort these by method name so they are consistent in the tables\n",
    "# subject_dice_table = subject_dice_table.sort_values(by=['method_name'])\n",
    "# subject_hd95_table = subject_hd95_table.sort_values(by=['method_name'])"
   ]
  },
  {
   "cell_type": "code",
   "execution_count": null,
   "metadata": {},
   "outputs": [],
   "source": [
    "# g = sns.catplot(\n",
    "#     data=subject_hd95_table,\n",
    "#     x=\"model_class\",\n",
    "#     y=\"qual_score\",\n",
    "#     hue=\"method_name\",\n",
    "#     kind=\"bar\",\n",
    "#     height=4,\n",
    "#     aspect=2\n",
    "# )\n",
    "# # Set the title of the bar plot\n",
    "# g.fig.suptitle(\"Hausdorff Distance for Different Calibration Methods (Per Subject)\")\n",
    "# # Give the title a bit of spacing from the plot\n",
    "# g.fig.subplots_adjust(top=0.90)\n",
    "# # Set the y axis to be between 4 and 8\n",
    "# g.set(ylim=(4, 14))"
   ]
  },
  {
   "cell_type": "code",
   "execution_count": null,
   "metadata": {},
   "outputs": [],
   "source": [
    "# g = sns.catplot(\n",
    "#     data=subject_dice_table,\n",
    "#     x=\"model_class\",\n",
    "#     y=\"qual_score\",\n",
    "#     hue=\"method_name\",\n",
    "#     kind=\"bar\",\n",
    "#     height=4,\n",
    "#     aspect=2\n",
    "# )\n",
    "# # Set the title of the bar plot\n",
    "# g.fig.suptitle(\"Dice Score for Different Calibration Methods (Per Subject)\")\n",
    "# # Give the title a bit of spacing from the plot\n",
    "# g.fig.subplots_adjust(top=0.90)\n",
    "# # Set the y axis to be between 0.5 and 1.0\n",
    "# g.set(ylim=(0.6, 0.9))"
   ]
  },
  {
   "cell_type": "markdown",
   "metadata": {},
   "source": [
    "## Make some tables to show these relationships in"
   ]
  },
  {
   "cell_type": "code",
   "execution_count": null,
   "metadata": {},
   "outputs": [],
   "source": [
    "# # Custom formatting function to display 3 significant digits\n",
    "# def format_sigfigs(x, num_sigfigs):\n",
    "#     if isinstance(x, (int, float)):\n",
    "#         format_str = '{:.' + str(num_sigfigs) + 'g}'\n",
    "#         return format_str.format(x)  # Using format to display in scientific notation with specified significant digits\n",
    "#     else:\n",
    "#         return x  # Return the value as is if it's not numeric\n",
    "\n",
    "# # Applying the formatting function to the pivot table\n",
    "# formatted_dice_table = dice_table.applymap(format_sigfigs, num_sigfigs=3)\n",
    "# # Applying the formatting function to the pivot table\n",
    "# formatted_hd95_table = hd95_table.applymap(format_sigfigs, num_sigfigs=4)"
   ]
  },
  {
   "cell_type": "code",
   "execution_count": null,
   "metadata": {},
   "outputs": [],
   "source": [
    "# formatted_dice_table.pivot(index='method_name', columns='model_class', values='qual_score')"
   ]
  },
  {
   "cell_type": "code",
   "execution_count": null,
   "metadata": {},
   "outputs": [],
   "source": [
    "# formatted_hd95_table.pivot(index='method_name', columns='model_class', values='qual_score')"
   ]
  },
  {
   "cell_type": "markdown",
   "metadata": {},
   "source": [
    "## Let's look first at the distribution of errors per configuration."
   ]
  },
  {
   "cell_type": "code",
   "execution_count": null,
   "metadata": {},
   "outputs": [],
   "source": [
    "# from ese.experiment.analysis.plot_utils import build_ensemble_vs_individual_cmap"
   ]
  },
  {
   "cell_type": "code",
   "execution_count": null,
   "metadata": {},
   "outputs": [],
   "source": [
    "# dice_image_df = image_info_df[image_info_df['qual_metric'] == 'Dice']\n",
    "# # Use seaborn to create KDE plot for each configuration\n",
    "# g = sns.displot(\n",
    "#     data=dice_image_df.sort_values('configuration'), \n",
    "#     x='qual_score', \n",
    "#     hue='configuration', \n",
    "#     kind='kde',\n",
    "#     palette=build_ensemble_vs_individual_cmap(dice_image_df),\n",
    "#     alpha=0.8\n",
    "#     )"
   ]
  },
  {
   "cell_type": "code",
   "execution_count": null,
   "metadata": {},
   "outputs": [],
   "source": [
    "# dice_image_subject_df = dice_image_df.groupby(['configuration', 'data_id'])['qual_score'].mean().reset_index()\n",
    "# g = sns.displot(\n",
    "#     data=dice_image_subject_df.sort_values('configuration'), \n",
    "#     x='qual_score', \n",
    "#     hue='configuration', \n",
    "#     kind='kde',\n",
    "#     palette=build_ensemble_vs_individual_cmap(dice_image_df),\n",
    "#     alpha=0.8\n",
    "#     )"
   ]
  }
 ],
 "metadata": {
  "kernelspec": {
   "display_name": "UniverSegTF",
   "language": "python",
   "name": "universegtf"
  },
  "language_info": {
   "codemirror_mode": {
    "name": "ipython",
    "version": 3
   },
   "file_extension": ".py",
   "mimetype": "text/x-python",
   "name": "python",
   "nbconvert_exporter": "python",
   "pygments_lexer": "ipython3",
   "version": "3.9.16"
  },
  "orig_nbformat": 4
 },
 "nbformat": 4,
 "nbformat_minor": 2
}
