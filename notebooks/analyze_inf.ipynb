{
 "cells": [
  {
   "cell_type": "code",
   "execution_count": 1,
   "metadata": {},
   "outputs": [],
   "source": [
    "import sys\n",
    "sys.path.append('/storage/vbutoi/projects')\n",
    "sys.path.append('/storage/vbutoi/libraries')\n",
    "sys.path.append('/storage/vbutoi/projects/ESE')\n",
    "sys.path.append('/storage/vbutoi/projects/UniverSeg')\n",
    "\n",
    "import matplotlib.pyplot as plt\n",
    "import seaborn as sns\n",
    "sns.set_style(\"darkgrid\")\n",
    "sns.set_context(\"talk\")\n",
    "\n",
    "import os \n",
    "os.environ['DATAPATH'] = ':'.join((\n",
    "       '/storage/vbutoi/datasets',\n",
    "))\n",
    "\n",
    "# Results loader object does everything\n",
    "from ionpy.analysis import ResultsLoader\n",
    "from pathlib import Path\n",
    "root = Path(\"/storage/vbutoi/scratch/ESE\")\n",
    "rs = ResultsLoader()\n",
    "\n",
    "# For using code without restarting.\n",
    "%load_ext autoreload\n",
    "%autoreload 2\n",
    "# For using yaml configs.\n",
    "%load_ext yamlmagic"
   ]
  },
  {
   "cell_type": "code",
   "execution_count": 2,
   "metadata": {},
   "outputs": [
    {
     "data": {
      "application/javascript": "\n            require(\n                [\n                    \"notebook/js/codecell\",\n                    \"codemirror/mode/yaml/yaml\"\n                ],\n                function(cc){\n                    cc.CodeCell.options_default.highlight_modes.magic_yaml = {\n                        reg: [\"^%%yaml\"]\n                    }\n                }\n            );\n            ",
      "text/plain": [
       "<IPython.core.display.Javascript object>"
      ]
     },
     "metadata": {},
     "output_type": "display_data"
    }
   ],
   "source": [
    "%%yaml results_cfg \n",
    "\n",
    "log:\n",
    "    root: /storage/vbutoi/scratch/ESE/inference\n",
    "    inference_groups: \n",
    "        - \"03_15_24_RandomCircles_Expanded_VES\"\n",
    "    \n",
    "log_attributes:\n",
    "    03_15_24_RandomCircles_Expanded_VES:\n",
    "        loss_func: \"CE\"\n",
    "    03_20_24_RandomCircles_Dice_VES:\n",
    "        loss_func: \"Dice\"\n",
    "\n",
    "calibration:\n",
    "    metric_cfg_file: \"/storage/vbutoi/projects/ESE/ese/experiment/configs/inference/Calibration_Metrics.yaml\"\n",
    "\n",
    "options:\n",
    "    add_baseline_rows: False  \n",
    "    load_pixel_meters: False \n",
    "    add_dice_loss_rows: True\n",
    "    drop_nan_metric_rows: True \n",
    "    load_groupavg_metrics: False\n",
    "    remove_shared_columns: False\n",
    "    equal_rows_per_cfg_assert: True "
   ]
  },
  {
   "cell_type": "code",
   "execution_count": 3,
   "metadata": {},
   "outputs": [
    {
     "name": "stderr",
     "output_type": "stream",
     "text": [
      "/local/vbutoi/envs/UniverSegTF/lib/python3.9/site-packages/pydantic/_internal/_fields.py:149: UserWarning: Field \"model_outputs\" has conflict with protected namespace \"model_\".\n",
      "\n",
      "You may be able to resolve this warning by setting `model_config['protected_namespaces'] = ()`.\n",
      "  warnings.warn(\n"
     ]
    },
    {
     "name": "stdout",
     "output_type": "stream",
     "text": [
      "Finished loading inference stats.\n",
      "Log amounts: log.root                                                                                                  log_set                                              \n",
      "/storage/vbutoi/scratch/ESE/inference/03_15_24_RandomCircles_Expanded_VES/Shapes_Ensemble_LTS             20240315_161231-2CDJ-a788359552a51dce87e2d71910abae22    1620\n",
      "                                                                                                          20240315_161234-6Q5H-5c2893c2d9f05d3f181dd78df4b163ea    1620\n",
      "                                                                                                          20240315_161237-JJOU-310722af69728f5488a70575c0fa7b37    1620\n",
      "                                                                                                          20240315_161241-8144-9ee0926fffe111e18061cfe21e8dc475    1620\n",
      "                                                                                                          20240315_161244-ZV8O-f3546d793e1fa32122dce0a7ff0fe8c8    1620\n",
      "                                                                                                                                                                   ... \n",
      "/storage/vbutoi/scratch/ESE/inference/03_15_24_RandomCircles_Expanded_VES/Shapes_Individual_Uncalibrated  20240315_155238-ID26-959be023e701bdd0470efc5c20afdb69    1620\n",
      "                                                                                                          20240315_155242-S5PI-4a75d9d45fc856c501d945670b9300de    1620\n",
      "                                                                                                          20240315_155245-KDAC-85a523f16b6056bcb2ad02adb84d1036    1620\n",
      "                                                                                                          20240315_155250-7GW0-c3a6a71c5379708ca43f09d4c4ae8852    1620\n",
      "                                                                                                          20240315_155253-8057-04ec57eee463eb02965c17d3698b57e5    1620\n",
      "Length: 110, dtype: int64\n"
     ]
    }
   ],
   "source": [
    "from ese.experiment.analysis.analyze_inf import load_cal_inference_stats\n",
    "\n",
    "image_info_df = load_cal_inference_stats(\n",
    "    results_cfg=results_cfg,\n",
    "    load_cached=True,\n",
    ")"
   ]
  },
  {
   "cell_type": "code",
   "execution_count": 4,
   "metadata": {},
   "outputs": [],
   "source": [
    "# Sort the image_info_df by method name, so everything appears nicely\n",
    "image_info_df = image_info_df.sort_values(by=['method_name', 'calibrator'])\n",
    "# Make sure that the model_class 'Uncalibrated' is first\n",
    "image_info_df['calibrator'] = image_info_df['calibrator'].astype('category')\n",
    "image_info_df['calibrator'] = image_info_df['calibrator'].cat.reorder_categories([\n",
    "    'Uncalibrated',\n",
    "    'TempScaling', \n",
    "    'LTS'\n",
    "])"
   ]
  },
  {
   "cell_type": "code",
   "execution_count": 5,
   "metadata": {},
   "outputs": [],
   "source": [
    "# Select only the rows corresponding to group methods\n",
    "image_info_df = image_info_df[image_info_df['model_type'] == 'group']"
   ]
  },
  {
   "cell_type": "code",
   "execution_count": 6,
   "metadata": {},
   "outputs": [
    {
     "data": {
      "text/plain": [
       "array(['Ensemble (mean, probs)'], dtype=object)"
      ]
     },
     "execution_count": 6,
     "metadata": {},
     "output_type": "execute_result"
    }
   ],
   "source": [
    "image_info_df['method_name'].unique()"
   ]
  },
  {
   "cell_type": "code",
   "execution_count": 7,
   "metadata": {},
   "outputs": [
    {
     "ename": "ValueError",
     "evalue": "items in new_categories are not the same as in old categories",
     "output_type": "error",
     "traceback": [
      "\u001b[0;31m---------------------------------------------------------------------------\u001b[0m",
      "\u001b[0;31mValueError\u001b[0m                                Traceback (most recent call last)",
      "Cell \u001b[0;32mIn[7], line 2\u001b[0m\n\u001b[1;32m      1\u001b[0m image_info_df[\u001b[38;5;124m'\u001b[39m\u001b[38;5;124mmethod_name\u001b[39m\u001b[38;5;124m'\u001b[39m] \u001b[38;5;241m=\u001b[39m image_info_df[\u001b[38;5;124m'\u001b[39m\u001b[38;5;124mmethod_name\u001b[39m\u001b[38;5;124m'\u001b[39m]\u001b[38;5;241m.\u001b[39mastype(\u001b[38;5;124m'\u001b[39m\u001b[38;5;124mcategory\u001b[39m\u001b[38;5;124m'\u001b[39m)\n\u001b[0;32m----> 2\u001b[0m image_info_df[\u001b[38;5;124m'\u001b[39m\u001b[38;5;124mmethod_name\u001b[39m\u001b[38;5;124m'\u001b[39m] \u001b[38;5;241m=\u001b[39m \u001b[43mimage_info_df\u001b[49m\u001b[43m[\u001b[49m\u001b[38;5;124;43m'\u001b[39;49m\u001b[38;5;124;43mmethod_name\u001b[39;49m\u001b[38;5;124;43m'\u001b[39;49m\u001b[43m]\u001b[49m\u001b[38;5;241;43m.\u001b[39;49m\u001b[43mcat\u001b[49m\u001b[38;5;241;43m.\u001b[39;49m\u001b[43mreorder_categories\u001b[49m\u001b[43m(\u001b[49m\u001b[43m[\u001b[49m\n\u001b[1;32m      3\u001b[0m \u001b[43m    \u001b[49m\u001b[38;5;124;43m'\u001b[39;49m\u001b[38;5;124;43mAverage UNet\u001b[39;49m\u001b[38;5;124;43m'\u001b[39;49m\u001b[43m,\u001b[49m\n\u001b[1;32m      4\u001b[0m \u001b[43m    \u001b[49m\u001b[38;5;124;43m'\u001b[39;49m\u001b[38;5;124;43mEnsemble (mean, probs)\u001b[39;49m\u001b[38;5;124;43m'\u001b[39;49m\u001b[43m,\u001b[49m\n\u001b[1;32m      5\u001b[0m \u001b[43m]\u001b[49m\u001b[43m)\u001b[49m\n\u001b[1;32m      7\u001b[0m image_info_df[\u001b[38;5;124m'\u001b[39m\u001b[38;5;124msplit\u001b[39m\u001b[38;5;124m'\u001b[39m] \u001b[38;5;241m=\u001b[39m image_info_df[\u001b[38;5;124m'\u001b[39m\u001b[38;5;124msplit\u001b[39m\u001b[38;5;124m'\u001b[39m]\u001b[38;5;241m.\u001b[39mastype(\u001b[38;5;124m'\u001b[39m\u001b[38;5;124mcategory\u001b[39m\u001b[38;5;124m'\u001b[39m)\n\u001b[1;32m      8\u001b[0m image_info_df[\u001b[38;5;124m'\u001b[39m\u001b[38;5;124msplit\u001b[39m\u001b[38;5;124m'\u001b[39m] \u001b[38;5;241m=\u001b[39m image_info_df[\u001b[38;5;124m'\u001b[39m\u001b[38;5;124msplit\u001b[39m\u001b[38;5;124m'\u001b[39m]\u001b[38;5;241m.\u001b[39mcat\u001b[38;5;241m.\u001b[39mreorder_categories([\n\u001b[1;32m      9\u001b[0m     \u001b[38;5;124m'\u001b[39m\u001b[38;5;124mval\u001b[39m\u001b[38;5;124m'\u001b[39m,\n\u001b[1;32m     10\u001b[0m     \u001b[38;5;124m'\u001b[39m\u001b[38;5;124mcal\u001b[39m\u001b[38;5;124m'\u001b[39m\n\u001b[1;32m     11\u001b[0m ])\n",
      "File \u001b[0;32m~/envs/UniverSegTF/lib/python3.9/site-packages/pandas/core/accessor.py:94\u001b[0m, in \u001b[0;36mPandasDelegate._add_delegate_accessors.<locals>._create_delegator_method.<locals>.f\u001b[0;34m(self, *args, **kwargs)\u001b[0m\n\u001b[1;32m     93\u001b[0m \u001b[38;5;28;01mdef\u001b[39;00m \u001b[38;5;21mf\u001b[39m(\u001b[38;5;28mself\u001b[39m, \u001b[38;5;241m*\u001b[39margs, \u001b[38;5;241m*\u001b[39m\u001b[38;5;241m*\u001b[39mkwargs):\n\u001b[0;32m---> 94\u001b[0m     \u001b[38;5;28;01mreturn\u001b[39;00m \u001b[38;5;28;43mself\u001b[39;49m\u001b[38;5;241;43m.\u001b[39;49m\u001b[43m_delegate_method\u001b[49m\u001b[43m(\u001b[49m\u001b[43mname\u001b[49m\u001b[43m,\u001b[49m\u001b[43m \u001b[49m\u001b[38;5;241;43m*\u001b[39;49m\u001b[43margs\u001b[49m\u001b[43m,\u001b[49m\u001b[43m \u001b[49m\u001b[38;5;241;43m*\u001b[39;49m\u001b[38;5;241;43m*\u001b[39;49m\u001b[43mkwargs\u001b[49m\u001b[43m)\u001b[49m\n",
      "File \u001b[0;32m~/envs/UniverSegTF/lib/python3.9/site-packages/pandas/core/arrays/categorical.py:2879\u001b[0m, in \u001b[0;36mCategoricalAccessor._delegate_method\u001b[0;34m(self, name, *args, **kwargs)\u001b[0m\n\u001b[1;32m   2876\u001b[0m \u001b[38;5;28;01mfrom\u001b[39;00m \u001b[38;5;21;01mpandas\u001b[39;00m \u001b[38;5;28;01mimport\u001b[39;00m Series\n\u001b[1;32m   2878\u001b[0m method \u001b[38;5;241m=\u001b[39m \u001b[38;5;28mgetattr\u001b[39m(\u001b[38;5;28mself\u001b[39m\u001b[38;5;241m.\u001b[39m_parent, name)\n\u001b[0;32m-> 2879\u001b[0m res \u001b[38;5;241m=\u001b[39m \u001b[43mmethod\u001b[49m\u001b[43m(\u001b[49m\u001b[38;5;241;43m*\u001b[39;49m\u001b[43margs\u001b[49m\u001b[43m,\u001b[49m\u001b[43m \u001b[49m\u001b[38;5;241;43m*\u001b[39;49m\u001b[38;5;241;43m*\u001b[39;49m\u001b[43mkwargs\u001b[49m\u001b[43m)\u001b[49m\n\u001b[1;32m   2880\u001b[0m \u001b[38;5;28;01mif\u001b[39;00m res \u001b[38;5;129;01mis\u001b[39;00m \u001b[38;5;129;01mnot\u001b[39;00m \u001b[38;5;28;01mNone\u001b[39;00m:\n\u001b[1;32m   2881\u001b[0m     \u001b[38;5;28;01mreturn\u001b[39;00m Series(res, index\u001b[38;5;241m=\u001b[39m\u001b[38;5;28mself\u001b[39m\u001b[38;5;241m.\u001b[39m_index, name\u001b[38;5;241m=\u001b[39m\u001b[38;5;28mself\u001b[39m\u001b[38;5;241m.\u001b[39m_name)\n",
      "File \u001b[0;32m~/envs/UniverSegTF/lib/python3.9/site-packages/pandas/core/arrays/categorical.py:1199\u001b[0m, in \u001b[0;36mCategorical.reorder_categories\u001b[0;34m(self, new_categories, ordered, inplace)\u001b[0m\n\u001b[1;32m   1197\u001b[0m inplace \u001b[38;5;241m=\u001b[39m validate_bool_kwarg(inplace, \u001b[38;5;124m\"\u001b[39m\u001b[38;5;124minplace\u001b[39m\u001b[38;5;124m\"\u001b[39m)\n\u001b[1;32m   1198\u001b[0m \u001b[38;5;28;01mif\u001b[39;00m \u001b[38;5;28mset\u001b[39m(\u001b[38;5;28mself\u001b[39m\u001b[38;5;241m.\u001b[39mdtype\u001b[38;5;241m.\u001b[39mcategories) \u001b[38;5;241m!=\u001b[39m \u001b[38;5;28mset\u001b[39m(new_categories):\n\u001b[0;32m-> 1199\u001b[0m     \u001b[38;5;28;01mraise\u001b[39;00m \u001b[38;5;167;01mValueError\u001b[39;00m(\n\u001b[1;32m   1200\u001b[0m         \u001b[38;5;124m\"\u001b[39m\u001b[38;5;124mitems in new_categories are not the same as in old categories\u001b[39m\u001b[38;5;124m\"\u001b[39m\n\u001b[1;32m   1201\u001b[0m     )\n\u001b[1;32m   1203\u001b[0m \u001b[38;5;28;01mwith\u001b[39;00m catch_warnings():\n\u001b[1;32m   1204\u001b[0m     simplefilter(\u001b[38;5;124m\"\u001b[39m\u001b[38;5;124mignore\u001b[39m\u001b[38;5;124m\"\u001b[39m)\n",
      "\u001b[0;31mValueError\u001b[0m: items in new_categories are not the same as in old categories"
     ]
    }
   ],
   "source": [
    "image_info_df['method_name'] = image_info_df['method_name'].astype('category')\n",
    "image_info_df['method_name'] = image_info_df['method_name'].cat.reorder_categories([\n",
    "    'Average UNet',\n",
    "    'Ensemble (mean, probs)',\n",
    "])\n",
    "\n",
    "image_info_df['split'] = image_info_df['split'].astype('category')\n",
    "image_info_df['split'] = image_info_df['split'].cat.reorder_categories([\n",
    "    'val',\n",
    "    'cal'\n",
    "])"
   ]
  },
  {
   "cell_type": "markdown",
   "metadata": {},
   "source": [
    "# Let's looks at the calibration scores of our models."
   ]
  },
  {
   "cell_type": "markdown",
   "metadata": {},
   "source": [
    "## ECE Metrics"
   ]
  },
  {
   "cell_type": "code",
   "execution_count": null,
   "metadata": {},
   "outputs": [],
   "source": [
    "g = sns.relplot(\n",
    "    data=image_info_df,\n",
    "    x=\"num_ensemble_members\",\n",
    "    y=\"ECE\",\n",
    "    hue=\"calibrator\",\n",
    "    style=\"loss_func\",\n",
    "    col=\"split\",\n",
    "    kind=\"line\",\n",
    "    height=8,\n",
    ")\n",
    "g.fig.suptitle(\"ECE by Calibration Method and Calibration Loss Function\", fontsize=25)\n",
    "g.set_xlabels(\"# Ensemble Members\")\n",
    "g.fig.subplots_adjust(top=0.85)\n",
    "g.set(ylim=(0.0, 0.03))"
   ]
  },
  {
   "cell_type": "code",
   "execution_count": null,
   "metadata": {},
   "outputs": [],
   "source": [
    "def group_by_config(in_df):\n",
    "    grouped_df = in_df.groupby([\n",
    "        'ensemble_hash',\n",
    "        'method_name',\n",
    "        'loss_func',\n",
    "        'calibrator',\n",
    "        'split',\n",
    "        'num_ensemble_members',\n",
    "        'image_metric'\n",
    "    ])\n",
    "    # Mean over the metric_score columns\n",
    "    meaned_groups =  grouped_df.agg({'metric_score': 'mean'}).reset_index()\n",
    "    # Drop the NaN rows\n",
    "    grouped_cfg = meaned_groups.dropna().reset_index(drop=True)\n",
    "    return grouped_cfg"
   ]
  },
  {
   "cell_type": "code",
   "execution_count": null,
   "metadata": {},
   "outputs": [],
   "source": [
    "image_info_df['image_metric'].unique()"
   ]
  },
  {
   "cell_type": "code",
   "execution_count": null,
   "metadata": {},
   "outputs": [],
   "source": [
    "ece_metric_df = group_by_config(image_info_df[image_info_df['image_metric'] == 'Image_ECE'])\n",
    "\n",
    "g = sns.relplot(\n",
    "    data=ece_metric_df,\n",
    "    x=\"num_ensemble_members\",\n",
    "    y=\"metric_score\",\n",
    "    hue=\"calibrator\",\n",
    "    style=\"loss_func\",\n",
    "    kind=\"line\",\n",
    "    col=\"split\",\n",
    "    height=8,\n",
    ")\n",
    "# Set the title of the bar plot\n",
    "g.fig.suptitle(\"Image-level ECE for Different Calibration Methods and \", fontsize=25)\n",
    "# Give the title a bit of spacing from the plot\n",
    "g.fig.subplots_adjust(top=0.85)\n",
    "g.set(ylim=(0.0, 0.03))\n",
    "# Set the y axis to be between 0.5 and 1.0\n",
    "# calibrators_width = num_calibrators - 1\n",
    "# Change the y axis label to say ECEkjkj\n",
    "g.set_ylabels(\"Image-level ECE\")\n",
    "g.set_xlabels(\"# Ensemble Members\")\n",
    "# Set the x ticks as 2, 4, 8, 12, 16\n",
    "g.set(xticks=[2, 4, 8, 12, 16])"
   ]
  },
  {
   "cell_type": "code",
   "execution_count": null,
   "metadata": {},
   "outputs": [],
   "source": [
    "dice_metric_df = group_by_config(image_info_df[image_info_df['image_metric'] == 'Dice'])\n",
    "\n",
    "g = sns.relplot(\n",
    "    data=dice_metric_df,\n",
    "    x=\"num_ensemble_members\",\n",
    "    y=\"metric_score\",\n",
    "    hue=\"calibrator\",\n",
    "    style=\"loss_func\",\n",
    "    kind=\"line\",\n",
    "    col=\"split\",\n",
    "    height=8,\n",
    ")\n",
    "# Set the title of the bar plot\n",
    "g.fig.suptitle(\"Dice for Different Calibration Methods\", fontsize=25)\n",
    "# Give the title a bit of spacing from the plot\n",
    "g.fig.subplots_adjust(top=0.85)\n",
    "# Change the y axis label\n",
    "g.set_ylabels(\"Dice\")\n",
    "g.set_xlabels(\"# Ensemble Members\")\n",
    "# Set the x ticks as 2, 4, 8, 12, 16\n",
    "g.set(xticks=[2, 4, 8, 12, 16])"
   ]
  },
  {
   "cell_type": "code",
   "execution_count": null,
   "metadata": {},
   "outputs": [],
   "source": [
    "hd_metric_df = group_by_config(image_info_df[image_info_df['image_metric'] == 'HD95'])\n",
    "\n",
    "g = sns.relplot(\n",
    "    data=hd_metric_df,\n",
    "    x=\"num_ensemble_members\",\n",
    "    y=\"metric_score\",\n",
    "    hue=\"calibrator\",\n",
    "    style=\"loss_func\",\n",
    "    kind=\"line\",\n",
    "    col=\"split\",\n",
    "    height=8,\n",
    ")\n",
    "# Set the title of the bar plot\n",
    "g.fig.suptitle(\"HD95 for Different Calibration Methods\", fontsize=25)\n",
    "# Give the title a bit of spacing from the plot\n",
    "g.fig.subplots_adjust(top=0.85)\n",
    "# Change the y axis label\n",
    "g.set_ylabels(\"HD95\")\n",
    "g.set_xlabels(\"# Ensemble Members\")\n",
    "# Set the x ticks as 2, 4, 8, 12, 16\n",
    "g.set(xticks=[2, 4, 8, 12, 16])"
   ]
  },
  {
   "cell_type": "code",
   "execution_count": null,
   "metadata": {},
   "outputs": [],
   "source": [
    "boundary_metric_df = group_by_config(image_info_df[image_info_df['image_metric'] == 'BoundaryIOU'])\n",
    "\n",
    "g = sns.relplot(\n",
    "    data=boundary_metric_df,\n",
    "    x=\"num_ensemble_members\",\n",
    "    y=\"metric_score\",\n",
    "    hue=\"calibrator\",\n",
    "    style=\"loss_func\",\n",
    "    kind=\"line\",\n",
    "    col=\"split\",\n",
    "    height=8,\n",
    ")\n",
    "# Set the title of the bar plot\n",
    "g.fig.suptitle(\"Boundary IoU for Different Calibration Methods\", fontsize=25)\n",
    "# Give the title a bit of spacing from the plot\n",
    "g.fig.subplots_adjust(top=0.85)\n",
    "# Change the y axis label\n",
    "g.set_ylabels(\"Boundary IoU\")\n",
    "g.set_xlabels(\"# Ensemble Members\")\n",
    "# Set the x ticks as 2, 4, 8, 12, 16\n",
    "g.set(xticks=[2, 4, 8, 12, 16])"
   ]
  },
  {
   "cell_type": "code",
   "execution_count": null,
   "metadata": {},
   "outputs": [],
   "source": [
    "boundary_metric_df = group_by_config(image_info_df[image_info_df['image_metric'] == 'Accuracy'])\n",
    "\n",
    "g = sns.relplot(\n",
    "    data=boundary_metric_df,\n",
    "    x=\"num_ensemble_members\",\n",
    "    y=\"metric_score\",\n",
    "    hue=\"calibrator\",\n",
    "    style=\"loss_func\",\n",
    "    kind=\"line\",\n",
    "    col=\"split\",\n",
    "    height=8,\n",
    ")\n",
    "# Set the title of the bar plot\n",
    "g.fig.suptitle(\"Pixel-Accuracy for Different Calibration Methods\", fontsize=25)\n",
    "# Give the title a bit of spacing from the plot\n",
    "g.fig.subplots_adjust(top=0.85)\n",
    "# Change the y axis label\n",
    "g.set_ylabels(\"Pixel-Accuracy\")\n",
    "g.set_xlabels(\"# Ensemble Members\")\n",
    "# Set the x ticks as 2, 4, 8, 12, 16\n",
    "g.set(xticks=[2, 4, 8, 12, 16])"
   ]
  },
  {
   "cell_type": "code",
   "execution_count": null,
   "metadata": {},
   "outputs": [],
   "source": [
    "boundary_metric_df = group_by_config(image_info_df[image_info_df['image_metric'] == 'Recall'])\n",
    "\n",
    "g = sns.relplot(\n",
    "    data=boundary_metric_df,\n",
    "    x=\"num_ensemble_members\",\n",
    "    y=\"metric_score\",\n",
    "    hue=\"calibrator\",\n",
    "    style=\"loss_func\",\n",
    "    kind=\"line\",\n",
    "    col=\"split\",\n",
    "    height=8,\n",
    ")\n",
    "# Set the title of the bar plot\n",
    "g.fig.suptitle(\"Recall for Different Calibration Methods\", fontsize=25)\n",
    "# Give the title a bit of spacing from the plot\n",
    "g.fig.subplots_adjust(top=0.85)\n",
    "# Change the y axis label\n",
    "g.set_ylabels(\"Recall\")\n",
    "g.set_xlabels(\"# Ensemble Members\")\n",
    "# Set the x ticks as 2, 4, 8, 12, 16\n",
    "g.set(xticks=[2, 4, 8, 12, 16])"
   ]
  },
  {
   "cell_type": "code",
   "execution_count": null,
   "metadata": {},
   "outputs": [],
   "source": [
    "boundary_metric_df = group_by_config(image_info_df[image_info_df['image_metric'] == 'Precision'])\n",
    "\n",
    "g = sns.relplot(\n",
    "    data=boundary_metric_df,\n",
    "    x=\"num_ensemble_members\",\n",
    "    y=\"metric_score\",\n",
    "    hue=\"calibrator\",\n",
    "    style=\"loss_func\",\n",
    "    kind=\"line\",\n",
    "    col=\"split\",\n",
    "    height=8,\n",
    ")\n",
    "# Set the title of the bar plot\n",
    "g.fig.suptitle(\"Precision for Different Calibration Methods\", fontsize=25)\n",
    "g.fig.subplots_adjust(top=0.85)\n",
    "# Change the y axis label\n",
    "g.set_ylabels(\"Precision\")\n",
    "g.set_xlabels(\"# Ensemble Members\")\n",
    "# Set the x ticks as 2, 4, 8, 12, 16\n",
    "g.set(xticks=[2, 4, 8, 12, 16])"
   ]
  }
 ],
 "metadata": {
  "kernelspec": {
   "display_name": "UniverSegTF",
   "language": "python",
   "name": "universegtf"
  },
  "language_info": {
   "codemirror_mode": {
    "name": "ipython",
    "version": 3
   },
   "file_extension": ".py",
   "mimetype": "text/x-python",
   "name": "python",
   "nbconvert_exporter": "python",
   "pygments_lexer": "ipython3",
   "version": "3.9.16"
  },
  "orig_nbformat": 4
 },
 "nbformat": 4,
 "nbformat_minor": 2
}
