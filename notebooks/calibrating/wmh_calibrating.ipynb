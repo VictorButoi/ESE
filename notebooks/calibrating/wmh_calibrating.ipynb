{
 "cells": [
  {
   "cell_type": "code",
   "execution_count": 1,
   "metadata": {},
   "outputs": [],
   "source": [
    "import sys\n",
    "sys.path.append('/storage/vbutoi/projects')\n",
    "sys.path.append('/storage/vbutoi/libraries')\n",
    "sys.path.append('/storage/vbutoi/projects/ESE')\n",
    "sys.path.append('/storage/vbutoi/projects/UniverSeg')\n",
    "import torch\n",
    "torch.set_printoptions(linewidth=200)\n",
    "import seaborn as sns\n",
    "sns.set_style(\"darkgrid\")\n",
    "\n",
    "import os \n",
    "os.environ['DATAPATH'] = ':'.join((\n",
    "       '/storage/vbutoi/datasets',\n",
    "))\n",
    "\n",
    "# Results loader object does everything\n",
    "from ionpy.analysis import ResultsLoader\n",
    "from pathlib import Path\n",
    "root = Path(\"/storage/vbutoi/scratch/ESE\")\n",
    "rs = ResultsLoader()\n",
    "\n",
    "# For using code without restarting.\n",
    "%load_ext autoreload\n",
    "%autoreload \n",
    "# For using yaml configs.\n",
    "%load_ext yamlmagic"
   ]
  },
  {
   "cell_type": "code",
   "execution_count": 2,
   "metadata": {},
   "outputs": [
    {
     "data": {
      "application/javascript": "\n            require(\n                [\n                    \"notebook/js/codecell\",\n                    \"codemirror/mode/yaml/yaml\"\n                ],\n                function(cc){\n                    cc.CodeCell.options_default.highlight_modes.magic_yaml = {\n                        reg: [\"^%%yaml\"]\n                    }\n                }\n            );\n            ",
      "text/plain": [
       "<IPython.core.display.Javascript object>"
      ]
     },
     "metadata": {},
     "output_type": "display_data"
    }
   ],
   "source": [
    "%%yaml calibration_config\n",
    "\n",
    "experiment:\n",
    "  seed: 42\n",
    "    \n",
    "dataloader:\n",
    "  batch_size: 1 \n",
    "  num_workers: 1\n",
    "  pin_memory: False \n",
    "\n",
    "optim: \n",
    "  _class: torch.optim.Adam\n",
    "  lr: 3.0e-4\n",
    "  weight_decay: 0.0 \n",
    "\n",
    "train:\n",
    "  epochs: 1000 \n",
    "  eval_freq: 10 \n",
    "  pretrained_dir: /storage/vbutoi/scratch/ESE/training/10_23_23_Dense_WMH \n",
    "\n",
    "log:\n",
    "  checkpoint_freq: 5 \n",
    "  root: '?'\n",
    "  metrics:\n",
    "    ece:\n",
    "      _fn: ese.experiment.metrics.ECE\n",
    "      from_logits: True\n",
    "      batch_reduction: 'mean' \n",
    "    elm:\n",
    "      _fn: ese.experment.metrics.ELM\n",
    "      from_logits: True\n",
    "      batch_reduction: 'mean' \n",
    "\n",
    "loss_func: \n",
    "  _class: ionpy.loss.PixelCELoss \n",
    "  from_logits: False\n",
    "  batch_reduction: 'mean' "
   ]
  },
  {
   "cell_type": "code",
   "execution_count": 3,
   "metadata": {},
   "outputs": [
    {
     "data": {
      "application/javascript": "\n            require(\n                [\n                    \"notebook/js/codecell\",\n                    \"codemirror/mode/yaml/yaml\"\n                ],\n                function(cc){\n                    cc.CodeCell.options_default.highlight_modes.magic_yaml = {\n                        reg: [\"^%%yaml\"]\n                    }\n                }\n            );\n            ",
      "text/plain": [
       "<IPython.core.display.Javascript object>"
      ]
     },
     "metadata": {},
     "output_type": "display_data"
    }
   ],
   "source": [
    "%%yaml calibrator_model_cfg  \n",
    "\n",
    "# model:\n",
    "#   _class: ese.experiment.models.calibrators.Temperature_Scaling\n",
    "\n",
    "# model:\n",
    "#   _class: ese.experiment.models.calibrators.Vector_Scaling\n",
    "#   num_classes: 2\n",
    "\n",
    "# model:\n",
    "#   _class: ese.experiment.models.calibrators.Dirichlet_Scaling\n",
    "#   num_classes: 2\n",
    "\n",
    "# model:\n",
    "#   _class: ese.experiment.models.calibrators.LTS\n",
    "#   num_classes: 2\n",
    "#   image_channels: 1\n",
    "\n",
    "# model:\n",
    "#   _class: ese.experiment.models.calibrators.Meta_Scaling\n",
    "#   num_classes: 2\n",
    "\n",
    "# model:\n",
    "#   _class: ese.experiment.models.calibrators.Selective_Scaling\n",
    "#   num_classes: 2\n"
   ]
  },
  {
   "cell_type": "code",
   "execution_count": 4,
   "metadata": {},
   "outputs": [
    {
     "data": {
      "application/javascript": "\n            require(\n                [\n                    \"notebook/js/codecell\",\n                    \"codemirror/mode/yaml/yaml\"\n                ],\n                function(cc){\n                    cc.CodeCell.options_default.highlight_modes.magic_yaml = {\n                        reg: [\"^%%yaml\"]\n                    }\n                }\n            );\n            ",
      "text/plain": [
       "<IPython.core.display.Javascript object>"
      ]
     },
     "metadata": {},
     "output_type": "display_data"
    }
   ],
   "source": [
    "%%yaml callbacks_cfg\n",
    "\n",
    "callbacks:\n",
    "  step:\n",
    "    - ese.experiment.callbacks.ShowPredictions\n",
    "  epoch:\n",
    "    - ese.experiment.callbacks.WandbLogger\n",
    "    - ionpy.callbacks.ETA\n",
    "    - ionpy.callbacks.JobProgress\n",
    "    - ionpy.callbacks.TerminateOnNaN\n",
    "    - ionpy.callbacks.PrintLogged\n",
    "    - ionpy.callbacks.ModelCheckpoint:\n",
    "        monitor: ece \n",
    "        phase: val"
   ]
  },
  {
   "cell_type": "code",
   "execution_count": 5,
   "metadata": {},
   "outputs": [],
   "source": [
    "# Setup direcrtories\n",
    "calibration_root = '/storage/vbutoi/scratch/ESE/calibration'\n",
    "\n",
    "# WMH CONFIG\n",
    "exp_name = '12_15_23_WMH_Calibrating'\n",
    "\n",
    "# Setup the root.\n",
    "exp_root = f'{calibration_root}/{exp_name}'\n",
    "\n",
    "# Create the ablation options\n",
    "option_set = [\n",
    "    {\n",
    "        'log.root': [exp_root],\n",
    "    },\n",
    "]"
   ]
  },
  {
   "cell_type": "code",
   "execution_count": 6,
   "metadata": {},
   "outputs": [
    {
     "ename": "AttributeError",
     "evalue": "'NoneType' object has no attribute 'items'",
     "output_type": "error",
     "traceback": [
      "\u001b[0;31m---------------------------------------------------------------------------\u001b[0m",
      "\u001b[0;31mAttributeError\u001b[0m                            Traceback (most recent call last)",
      "Cell \u001b[0;32mIn[6], line 5\u001b[0m\n\u001b[1;32m      2\u001b[0m \u001b[38;5;28;01mfrom\u001b[39;00m \u001b[38;5;21;01mionpy\u001b[39;00m\u001b[38;5;21;01m.\u001b[39;00m\u001b[38;5;21;01mutil\u001b[39;00m \u001b[38;5;28;01mimport\u001b[39;00m Config\n\u001b[1;32m      4\u001b[0m \u001b[38;5;66;03m# Assemble base config\u001b[39;00m\n\u001b[0;32m----> 5\u001b[0m base_cfg \u001b[38;5;241m=\u001b[39m \u001b[43mConfig\u001b[49m\u001b[43m(\u001b[49m\u001b[43mcalibration_config\u001b[49m\u001b[43m)\u001b[49m\u001b[38;5;241;43m.\u001b[39;49m\u001b[43mupdate\u001b[49m\u001b[43m(\u001b[49m\u001b[43m[\u001b[49m\u001b[43mcalibrator_model_cfg\u001b[49m\u001b[43m,\u001b[49m\u001b[43m \u001b[49m\u001b[43mcallbacks_cfg\u001b[49m\u001b[43m]\u001b[49m\u001b[43m)\u001b[49m\n\u001b[1;32m      7\u001b[0m \u001b[38;5;66;03m# Get the configs\u001b[39;00m\n\u001b[1;32m      8\u001b[0m cfgs \u001b[38;5;241m=\u001b[39m get_option_product(exp_name, option_set, base_cfg)\n",
      "File \u001b[0;32m/storage/vbutoi/projects/ionpy/util/more_functools.py:58\u001b[0m, in \u001b[0;36mnewobj.<locals>.inner\u001b[0;34m(self, *args, **kwargs)\u001b[0m\n\u001b[1;32m     56\u001b[0m obj \u001b[38;5;241m=\u001b[39m \u001b[38;5;28mself\u001b[39m\u001b[38;5;241m.\u001b[39m\u001b[38;5;18m__class__\u001b[39m\u001b[38;5;241m.\u001b[39m\u001b[38;5;21m__new__\u001b[39m(\u001b[38;5;28mself\u001b[39m\u001b[38;5;241m.\u001b[39m\u001b[38;5;18m__class__\u001b[39m)\n\u001b[1;32m     57\u001b[0m obj\u001b[38;5;241m.\u001b[39m\u001b[38;5;18m__dict__\u001b[39m \u001b[38;5;241m=\u001b[39m copy\u001b[38;5;241m.\u001b[39mdeepcopy(\u001b[38;5;28mself\u001b[39m\u001b[38;5;241m.\u001b[39m\u001b[38;5;18m__dict__\u001b[39m)\n\u001b[0;32m---> 58\u001b[0m \u001b[43mmethod\u001b[49m\u001b[43m(\u001b[49m\u001b[43mobj\u001b[49m\u001b[43m,\u001b[49m\u001b[43m \u001b[49m\u001b[38;5;241;43m*\u001b[39;49m\u001b[43margs\u001b[49m\u001b[43m,\u001b[49m\u001b[43m \u001b[49m\u001b[38;5;241;43m*\u001b[39;49m\u001b[38;5;241;43m*\u001b[39;49m\u001b[43mkwargs\u001b[49m\u001b[43m)\u001b[49m\n\u001b[1;32m     59\u001b[0m \u001b[38;5;28;01mreturn\u001b[39;00m obj\n",
      "File \u001b[0;32m/storage/vbutoi/projects/ionpy/util/config.py:301\u001b[0m, in \u001b[0;36mConfig.update\u001b[0;34m(self, others)\u001b[0m\n\u001b[1;32m    299\u001b[0m \u001b[38;5;28;01melse\u001b[39;00m:\n\u001b[1;32m    300\u001b[0m     \u001b[38;5;28;01mfor\u001b[39;00m other \u001b[38;5;129;01min\u001b[39;00m others:\n\u001b[0;32m--> 301\u001b[0m         \u001b[43mitem\u001b[49m\u001b[38;5;241;43m.\u001b[39;49m\u001b[43mupdate\u001b[49m\u001b[43m(\u001b[49m\u001b[43mother\u001b[49m\u001b[43m)\u001b[49m\n\u001b[1;32m    302\u001b[0m \u001b[38;5;28;01mreturn\u001b[39;00m item\n",
      "File \u001b[0;32m/storage/vbutoi/projects/ionpy/util/config.py:218\u001b[0m, in \u001b[0;36mHDict.update\u001b[0;34m(self, other)\u001b[0m\n\u001b[1;32m    216\u001b[0m \u001b[38;5;28;01mif\u001b[39;00m \u001b[38;5;28misinstance\u001b[39m(other, HDict):\n\u001b[1;32m    217\u001b[0m     other \u001b[38;5;241m=\u001b[39m other\u001b[38;5;241m.\u001b[39m_data\n\u001b[0;32m--> 218\u001b[0m \u001b[38;5;28;01mreturn\u001b[39;00m deepupdate(\u001b[38;5;28mself\u001b[39m\u001b[38;5;241m.\u001b[39m_data, \u001b[43mHDict\u001b[49m\u001b[38;5;241;43m.\u001b[39;49m\u001b[43mfrom_flat\u001b[49m\u001b[43m(\u001b[49m\u001b[43mother\u001b[49m\u001b[43m,\u001b[49m\u001b[43m \u001b[49m\u001b[43msep\u001b[49m\u001b[38;5;241;43m=\u001b[39;49m\u001b[38;5;28;43mself\u001b[39;49m\u001b[38;5;241;43m.\u001b[39;49m\u001b[43m_sep\u001b[49m\u001b[43m)\u001b[49m)\n",
      "File \u001b[0;32m/storage/vbutoi/projects/ionpy/util/config.py:238\u001b[0m, in \u001b[0;36mHDict.from_flat\u001b[0;34m(cls, flat_dict, sep)\u001b[0m\n\u001b[1;32m    236\u001b[0m \u001b[38;5;129m@classmethod\u001b[39m\n\u001b[1;32m    237\u001b[0m \u001b[38;5;28;01mdef\u001b[39;00m \u001b[38;5;21mfrom_flat\u001b[39m(\u001b[38;5;28mcls\u001b[39m, flat_dict, sep\u001b[38;5;241m=\u001b[39m\u001b[38;5;124m\"\u001b[39m\u001b[38;5;124m.\u001b[39m\u001b[38;5;124m\"\u001b[39m) \u001b[38;5;241m-\u001b[39m\u001b[38;5;241m>\u001b[39m \u001b[38;5;124m\"\u001b[39m\u001b[38;5;124mHDict\u001b[39m\u001b[38;5;124m\"\u001b[39m:\n\u001b[0;32m--> 238\u001b[0m     \u001b[38;5;28;01mreturn\u001b[39;00m \u001b[38;5;28mcls\u001b[39m(\u001b[43munflatten\u001b[49m\u001b[43m(\u001b[49m\u001b[43mflat_dict\u001b[49m\u001b[43m,\u001b[49m\u001b[43m \u001b[49m\u001b[43msep\u001b[49m\u001b[38;5;241;43m=\u001b[39;49m\u001b[43msep\u001b[49m\u001b[43m)\u001b[49m)\n",
      "File \u001b[0;32m/storage/vbutoi/projects/ionpy/util/config.py:62\u001b[0m, in \u001b[0;36munflatten\u001b[0;34m(flat_dict, sep)\u001b[0m\n\u001b[1;32m     60\u001b[0m \u001b[38;5;28;01mdef\u001b[39;00m \u001b[38;5;21munflatten\u001b[39m(flat_dict, sep\u001b[38;5;241m=\u001b[39m\u001b[38;5;28;01mNone\u001b[39;00m):\n\u001b[1;32m     61\u001b[0m     nested_dict \u001b[38;5;241m=\u001b[39m {}\n\u001b[0;32m---> 62\u001b[0m     \u001b[38;5;28;01mfor\u001b[39;00m k, v \u001b[38;5;129;01min\u001b[39;00m \u001b[43mflat_dict\u001b[49m\u001b[38;5;241;43m.\u001b[39;49m\u001b[43mitems\u001b[49m():\n\u001b[1;32m     63\u001b[0m         set_nested(nested_dict, k, v, sep\u001b[38;5;241m=\u001b[39msep)\n\u001b[1;32m     64\u001b[0m     \u001b[38;5;28;01mreturn\u001b[39;00m nested_dict\n",
      "\u001b[0;31mAttributeError\u001b[0m: 'NoneType' object has no attribute 'items'"
     ]
    }
   ],
   "source": [
    "from ese.scripts.utils import get_option_product\n",
    "from ionpy.util import Config\n",
    "\n",
    "# Assemble base config\n",
    "base_cfg = Config(calibration_config).update([calibrator_model_cfg, callbacks_cfg])\n",
    "\n",
    "# Get the configs\n",
    "cfgs = get_option_product(exp_name, option_set, base_cfg)"
   ]
  },
  {
   "cell_type": "code",
   "execution_count": null,
   "metadata": {},
   "outputs": [],
   "source": [
    "len(cfgs)"
   ]
  },
  {
   "cell_type": "markdown",
   "metadata": {},
   "source": [
    "## Running Jobs"
   ]
  },
  {
   "cell_type": "code",
   "execution_count": null,
   "metadata": {},
   "outputs": [],
   "source": [
    "from ese.experiment.experiment import run_ese_exp, PostHocExperiment\n",
    "\n",
    "run_ese_exp(\n",
    "    config=cfgs[0], \n",
    "    experiment_class=PostHocExperiment,\n",
    "    gpu='3',\n",
    "    run_name='debug',\n",
    "    show_examples=False,\n",
    "    wandb=False\n",
    ")"
   ]
  },
  {
   "cell_type": "code",
   "execution_count": null,
   "metadata": {},
   "outputs": [],
   "source": [
    "# # FOR SUBMISSION\n",
    "# from ese.experiment.experiment import submit_ese_exps \n",
    "\n",
    "# submit_ese_exps(\n",
    "#     exp_root=exp_root,\n",
    "#     experiment_class=PosthocExperiment,\n",
    "#     config_list=cfgs,\n",
    "#     available_gpus=['0'],\n",
    "#     wandb=True\n",
    "# )"
   ]
  }
 ],
 "metadata": {
  "kernelspec": {
   "display_name": "UniverSegTF",
   "language": "python",
   "name": "universegtf"
  },
  "language_info": {
   "codemirror_mode": {
    "name": "ipython",
    "version": 3
   },
   "file_extension": ".py",
   "mimetype": "text/x-python",
   "name": "python",
   "nbconvert_exporter": "python",
   "pygments_lexer": "ipython3",
   "version": "3.9.16"
  },
  "orig_nbformat": 4
 },
 "nbformat": 4,
 "nbformat_minor": 2
}
