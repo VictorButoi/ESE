{
 "cells": [
  {
   "cell_type": "code",
   "execution_count": 1,
   "metadata": {},
   "outputs": [],
   "source": [
    "# This notebook is all about really crunnching when we have an image what we would 'like' to be\n",
    "# called calibrated and not. Basically, what averages will we be happy with, and which will we not.\n",
    "from ese.experiment.metrics.calibration.pixelwise import ECE\n",
    "import torch\n",
    "import matplotlib.pyplot as plt"
   ]
  },
  {
   "cell_type": "code",
   "execution_count": 10,
   "metadata": {},
   "outputs": [
    {
     "data": {
      "text/plain": [
       "Text(0.5, 1.0, 'Ground Truth')"
      ]
     },
     "execution_count": 10,
     "metadata": {},
     "output_type": "execute_result"
    },
    {
     "data": {
      "image/png": "[encoded data removed]",
      "text/plain": [
       "<Figure size 432x288 with 1 Axes>"
      ]
     },
     "metadata": {
      "needs_background": "light"
     },
     "output_type": "display_data"
    }
   ],
   "source": [
    "# let's make the ground truth, which is a 10x10 tensor with a white square in the middle\n",
    "# we will slice off the right side of the square to make our contradiction.\n",
    "ground_truth = torch.zeros(10, 10)\n",
    "ground_truth[3:7, 3:7] = 1\n",
    "ground_truth[3:7, 6] = 0\n",
    "ground_truth[3, 4:7] = 0\n",
    "\n",
    "plt.imshow(ground_truth, cmap='gray')  \n",
    "plt.title('Ground Truth')"
   ]
  },
  {
   "cell_type": "markdown",
   "metadata": {},
   "source": [
    "## Example 1: Bad half-boundary."
   ]
  },
  {
   "cell_type": "code",
   "execution_count": 9,
   "metadata": {},
   "outputs": [
    {
     "data": {
      "text/plain": [
       "Text(0.5, 1.0, 'Confidence Map')"
      ]
     },
     "execution_count": 9,
     "metadata": {},
     "output_type": "execute_result"
    },
    {
     "data": {
      "image/png": "[encoded data removed]",
      "text/plain": [
       "<Figure size 432x288 with 2 Axes>"
      ]
     },
     "metadata": {
      "needs_background": "light"
     },
     "output_type": "display_data"
    }
   ],
   "source": [
    "# Let's now make some predictions that we want to break the ECE metric.\n",
    "# The way we do this is by making predictions in the same bin have wildly different accuracies.\n",
    "# First we make a confidence map where the boundary of the square is 0.6 and the middle is 0.1\n",
    "# and the rest if 0\n",
    "chann_conf_map = torch.zeros((2, 10, 10))\n",
    "# Set the background to be 1 everywhere outside of the square\n",
    "chann_conf_map[0, :, :] = 1.0\n",
    "chann_conf_map[0, 3:7, 3:7] = 0.0\n",
    "# Set the square to be 0.5 at the boundaries and 1 in the middle.\n",
    "chann_conf_map[1, 3:7, 3:7] = 0.5\n",
    "chann_conf_map[1, 4:6, 4:6] = 1.0\n",
    "# Get the argmax\n",
    "conf_map = torch.max(chann_conf_map, dim=0).values\n",
    "\n",
    "plt.imshow(conf_map, vmin=0, vmax=1, cmap='gray')\n",
    "plt.colorbar(label=\"Confidence\")\n",
    "plt.title(\"Confidence Map\")"
   ]
  },
  {
   "cell_type": "code",
   "execution_count": 11,
   "metadata": {},
   "outputs": [
    {
     "data": {
      "text/plain": [
       "Text(0.5, 1.0, 'Prediction Map')"
      ]
     },
     "execution_count": 11,
     "metadata": {},
     "output_type": "execute_result"
    },
    {
     "data": {
      "image/png": "[encoded data removed]",
      "text/plain": [
       "<Figure size 432x288 with 1 Axes>"
      ]
     },
     "metadata": {
      "needs_background": "light"
     },
     "output_type": "display_data"
    }
   ],
   "source": [
    "# Now we adversarily make our pred predict exactly half of the 0.5 area correctly (the top left) and the other half incorrectly (the bottom right).\n",
    "pred_map = torch.argmax(chann_conf_map, dim=0)\n",
    "\n",
    "plt.imshow(pred_map, cmap='gray')\n",
    "plt.title(\"Prediction Map\")"
   ]
  },
  {
   "cell_type": "code",
   "execution_count": 5,
   "metadata": {},
   "outputs": [
    {
     "name": "stdout",
     "output_type": "stream",
     "text": [
      "ECE:  0.0\n"
     ]
    }
   ],
   "source": [
    "# Paradoxically, this will have an ECE of 0!\n",
    "cal_err = ECE(\n",
    "    num_bins=10,\n",
    "    pred_map=pred_map,\n",
    "    conf_map=conf_map,\n",
    "    label_map=ground_truth\n",
    ")[\"cal_score\"]\n",
    "print(\"ECE: \", cal_err)"
   ]
  },
  {
   "cell_type": "markdown",
   "metadata": {},
   "source": [
    "## Example 2: More extreme version of 1. "
   ]
  },
  {
   "cell_type": "code",
   "execution_count": 6,
   "metadata": {},
   "outputs": [
    {
     "data": {
      "text/plain": [
       "(-0.5, 9.5, 9.5, -0.5)"
      ]
     },
     "execution_count": 6,
     "metadata": {},
     "output_type": "execute_result"
    },
    {
     "data": {
      "image/png": "[encoded data removed]",
      "text/plain": [
       "<Figure size 432x288 with 1 Axes>"
      ]
     },
     "metadata": {
      "needs_background": "light"
     },
     "output_type": "display_data"
    }
   ],
   "source": [
    "# Let's now make some predictions that we want to break the ECE metric.\n",
    "# The way we do this is by making predictions in the same bin have wildly different accuracies.\n",
    "# First we make a confidence map where the boundary of the square is 0.6 and the middle is 0.1\n",
    "# and the rest if 0\n",
    "conf_map2 = torch.ones(10, 10)\n",
    "conf_map2[3:7, 3:7] = 0.5\n",
    "conf_map2[4:6, 4:6] = 0.8\n",
    "\n",
    "plt.imshow(conf_map2, cmap='gray')\n",
    "plt.axis('off')"
   ]
  }
 ],
 "metadata": {
  "kernelspec": {
   "display_name": "UniverSegTF",
   "language": "python",
   "name": "universegtf"
  },
  "language_info": {
   "codemirror_mode": {
    "name": "ipython",
    "version": 3
   },
   "file_extension": ".py",
   "mimetype": "text/x-python",
   "name": "python",
   "nbconvert_exporter": "python",
   "pygments_lexer": "ipython3",
   "version": "3.9.16"
  }
 },
 "nbformat": 4,
 "nbformat_minor": 2
}
