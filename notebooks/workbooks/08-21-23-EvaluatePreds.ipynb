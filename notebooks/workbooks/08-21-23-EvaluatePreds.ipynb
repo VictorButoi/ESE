{
 "cells": [
  {
   "cell_type": "code",
   "execution_count": null,
   "metadata": {},
   "outputs": [],
   "source": [
    "import sys\n",
    "sys.path.append('/storage/vbutoi/projects')\n",
    "sys.path.append('/storage/vbutoi/libraries')\n",
    "sys.path.append('/storage/vbutoi/projects/ESE')\n",
    "sys.path.append('/storage/vbutoi/projects/UniverSeg')\n",
    "\n",
    "import ionpy\n",
    "from ionpy.analysis import ResultsLoader\n",
    "from ese.experiment.experiment import CalibrationExperiment\n",
    "import seaborn as sns\n",
    "import pandas as pd\n",
    "\n",
    "import os \n",
    "os.environ['DATAPATH'] = ':'.join((\n",
    "       '/storage/vbutoi/datasets',\n",
    "))\n",
    "os.environ[\"CUDA_VISIBLE_DEVICES\"] = '3' \n",
    "\n",
    "%load_ext yamlmagic\n",
    "%load_ext autoreload\n",
    "%autoreload 2"
   ]
  },
  {
   "cell_type": "code",
   "execution_count": null,
   "metadata": {},
   "outputs": [],
   "source": [
    "# Results loader object does everything\n",
    "rs = ResultsLoader()\n",
    "root = \"/storage/vbutoi/scratch/ESE\""
   ]
  },
  {
   "cell_type": "code",
   "execution_count": null,
   "metadata": {},
   "outputs": [],
   "source": [
    "path = f\"{root}/WMH_aug_runs\"\n",
    "\n",
    "dfc = rs.load_configs(\n",
    "    path,\n",
    "    properties=False,\n",
    ")\n",
    "\n",
    "df = rs.load_metrics(dfc)"
   ]
  },
  {
   "cell_type": "code",
   "execution_count": null,
   "metadata": {},
   "outputs": [],
   "source": [
    "best_exp = rs.get_experiment(\n",
    "    df=df,\n",
    "    exp_class=CalibrationExperiment,\n",
    "    metric=\"val-dice_score\",\n",
    "    checkpoint=\"max-val-dice_score\",\n",
    "    device=\"cuda\"\n",
    ")"
   ]
  },
  {
   "cell_type": "code",
   "execution_count": null,
   "metadata": {},
   "outputs": [],
   "source": [
    "%%yaml dataset_cfg \n",
    "\n",
    "_class: ese.experiment.datasets.WMH\n",
    "annotator: observer_o12\n",
    "axis: 0\n",
    "split: val\n",
    "num_slices: 1\n",
    "slicing: midslice \n",
    "task: Amsterdam \n",
    "version: 0.2"
   ]
  },
  {
   "cell_type": "code",
   "execution_count": null,
   "metadata": {},
   "outputs": [],
   "source": [
    "from ionpy.experiment.util import absolute_import\n",
    "from torch.utils.data import DataLoader\n",
    "from ionpy.util.torchutils import to_device\n",
    "import torch\n",
    "from tqdm.notebook import tqdm\n",
    "\n",
    "def get_dataset_perf(exp, dataset_config):\n",
    "    data_cfg = dataset_config.to_dict()\n",
    "    dataset_cls = absolute_import(data_cfg.pop(\"_class\"))\n",
    "    Dataset = dataset_cls(**data_cfg)\n",
    "    dataloader = DataLoader(Dataset, batch_size=1, shuffle=False, drop_last=False)\n",
    "\n",
    "    items = []\n",
    "    with torch.no_grad():\n",
    "        for batch_idx, batch in tqdm(enumerate(dataloader)):\n",
    "            x, y = to_device(batch, exp.device)\n",
    "            yhat = exp.model(x)\n",
    "            loss = exp.loss_func(yhat, y)\n",
    "            items.append({\n",
    "                \"subj\": batch_idx,\n",
    "                \"x\": x.cpu().numpy(),\n",
    "                \"y\": y.cpu().numpy(),\n",
    "                \"yhat\": yhat.detach().cpu().numpy(),\n",
    "                \"loss\": loss.item()\n",
    "            })\n",
    "    return items"
   ]
  },
  {
   "cell_type": "code",
   "execution_count": null,
   "metadata": {},
   "outputs": [],
   "source": [
    "from ionpy.util import Config\n",
    "#from ese.experiment.analysis import get_dataset_perf\n",
    "\n",
    "# val_perf is a dict where each item is the subj id\n",
    "# with the y, ypred, yloss, ydice\n",
    "val_perf = get_dataset_perf(\n",
    "    exp=best_exp, \n",
    "    dataset_config=Config(dataset_cfg)\n",
    "    )"
   ]
  }
 ],
 "metadata": {
  "kernelspec": {
   "display_name": "UniverSegTF",
   "language": "python",
   "name": "universegtf"
  },
  "language_info": {
   "codemirror_mode": {
    "name": "ipython",
    "version": 3
   },
   "file_extension": ".py",
   "mimetype": "text/x-python",
   "name": "python",
   "nbconvert_exporter": "python",
   "pygments_lexer": "ipython3",
   "version": "3.9.16"
  },
  "orig_nbformat": 4
 },
 "nbformat": 4,
 "nbformat_minor": 2
}
