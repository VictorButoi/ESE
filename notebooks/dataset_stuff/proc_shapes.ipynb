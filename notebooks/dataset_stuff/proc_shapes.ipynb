{
 "cells": [
  {
   "cell_type": "code",
   "execution_count": null,
   "metadata": {},
   "outputs": [],
   "source": [
    "import pathlib\n",
    "import sys\n",
    "sys.path.append(\"/storage/vbutoi/projects/ESE\")\n",
    "sys.path.append(\"/storage/vbutoi/projects\")\n",
    "sys.path.append(\"/storage/vbutoi/libraries\")\n",
    "\n",
    "%load_ext autoreload\n",
    "%autoreload 2\n",
    "\n",
    "%load_ext yamlmagic"
   ]
  },
  {
   "cell_type": "code",
   "execution_count": null,
   "metadata": {},
   "outputs": [],
   "source": [
    "%%yaml shapes_thunder_cfg\n",
    "\n",
    "log: \n",
    "    dst_dir: \"/storage/vbutoi/datasets/Shapes/thunder_shapes\"\n",
    "    version: 0.1\n",
    "    seed: 42\n",
    "    num_subplits: 5\n",
    "\n",
    "synth_cfg:\n",
    "    gen_opts:\n",
    "        # Controls the number of images to generate.\n",
    "        num_to_gen: 30 \n",
    "        # Controls the number of images to generate.\n",
    "        img_res: \n",
    "            - 256 \n",
    "            - 256\n",
    "        # Controls the number of \"regions\" in the image, each is a label.\n",
    "        num_labels_range: \n",
    "            - 10 \n",
    "            - 10 \n",
    "        # Controls the relative size of the regions in the image. Big = Bigger regions\n",
    "        shapes_im_scales: \n",
    "            - 50 \n",
    "        # Unclear what this does.\n",
    "        shapes_warp_scales: \n",
    "            - 16 \n",
    "            - 32 \n",
    "            - 64 \n",
    "            - 128\n",
    "        warp_res: \n",
    "            - 8 \n",
    "            - 16 \n",
    "            - 32 \n",
    "            - 64\n",
    "\n",
    "    augmentations:\n",
    "        shapes_im_max_std_range: \n",
    "            - 2 \n",
    "            - 2 \n",
    "        shapes_warp_max_std_range: \n",
    "            - 8.0 \n",
    "            - 8.0\n",
    "        std_min_range: \n",
    "            - 0.1 \n",
    "            - 0.1\n",
    "        std_max_range: \n",
    "            - 0.2\n",
    "            - 0.2 \n",
    "        lab_int_interimage_std_range: \n",
    "            - 0.1\n",
    "            - 0.1\n",
    "        warp_std_range:\n",
    "            - 8 \n",
    "            - 8 \n",
    "        bias_res_range: \n",
    "            - 32 \n",
    "            - 32 \n",
    "        bias_std_range: \n",
    "            - 0.1 \n",
    "            - 0.1\n",
    "        blur_std_range: \n",
    "            - 0.5 \n",
    "            - 0.5"
   ]
  },
  {
   "cell_type": "code",
   "execution_count": null,
   "metadata": {},
   "outputs": [],
   "source": [
    "from ese.experiment.datasets.utils import thunderify_Shapes\n",
    "from ionpy.util import Config\n",
    "\n",
    "thunderify_Shapes(Config(shapes_thunder_cfg))"
   ]
  },
  {
   "cell_type": "code",
   "execution_count": null,
   "metadata": {},
   "outputs": [],
   "source": [
    "# from ionpy.slite.submit import submit_jobs\n",
    "# from ionpy.util import Config\n",
    "# from ese.experiment.datasets.utils import thunderify_Shapes\n",
    "\n",
    "# submit_jobs(\n",
    "#     project=\"ESE\",\n",
    "#     exp_name=\"02_21_24_Thunder_Shapes\",\n",
    "#     config_list=[Config(shapes_thunder_cfg)], \n",
    "#     job_func=thunderify_Shapes\n",
    "# )"
   ]
  }
 ],
 "metadata": {
  "kernelspec": {
   "display_name": "UniverSegTF",
   "language": "python",
   "name": "universegtf"
  },
  "language_info": {
   "codemirror_mode": {
    "name": "ipython",
    "version": 3
   },
   "file_extension": ".py",
   "mimetype": "text/x-python",
   "name": "python",
   "nbconvert_exporter": "python",
   "pygments_lexer": "ipython3",
   "version": "3.9.16"
  },
  "orig_nbformat": 4
 },
 "nbformat": 4,
 "nbformat_minor": 2
}
