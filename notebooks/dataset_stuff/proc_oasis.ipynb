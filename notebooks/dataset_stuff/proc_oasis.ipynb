{
 "cells": [
  {
   "cell_type": "code",
   "execution_count": 1,
   "metadata": {},
   "outputs": [],
   "source": [
    "import sys\n",
    "sys.path.append(\"/storage/vbutoi/projects/ESE\")\n",
    "sys.path.append(\"/storage/vbutoi/projects\")\n",
    "sys.path.append(\"/storage/vbutoi/libraries\")\n",
    "\n",
    "%load_ext autoreload\n",
    "%autoreload 2\n",
    "\n",
    "%load_ext yamlmagic"
   ]
  },
  {
   "cell_type": "code",
   "execution_count": 2,
   "metadata": {},
   "outputs": [],
   "source": [
    "# %%yaml oasis_proc_config\n",
    "\n",
    "# data_root: \"/storage/vbutoi/datasets/OASIS\"\n",
    "# version: 0.1\n",
    "# show_examples: False \n",
    "# save: True "
   ]
  },
  {
   "cell_type": "code",
   "execution_count": 3,
   "metadata": {},
   "outputs": [],
   "source": [
    "# from ese.experiment.datasets.utils import proc_OASIS\n",
    "# from ionpy.util import Config\n",
    "\n",
    "# proc_OASIS(Config(oasis_proc_config))"
   ]
  },
  {
   "cell_type": "code",
   "execution_count": 4,
   "metadata": {},
   "outputs": [],
   "source": [
    "# from ionpy.slite.submit import submit_jobs\n",
    "# from ionpy.util import Config\n",
    "# from ese.experiment.datasets.utils import proc_OASIS\n",
    "\n",
    "# submit_jobs(\n",
    "#     project=\"ESE\",\n",
    "#     exp_name=\"10_14_23_Proc_OASIS\",\n",
    "#     config_list=[Config(oasis_proc_config)], \n",
    "#     job_func=proc_OASIS\n",
    "#     )"
   ]
  },
  {
   "cell_type": "code",
   "execution_count": 5,
   "metadata": {},
   "outputs": [
    {
     "data": {
      "application/javascript": "\n            require(\n                [\n                    \"notebook/js/codecell\",\n                    \"codemirror/mode/yaml/yaml\"\n                ],\n                function(cc){\n                    cc.CodeCell.options_default.highlight_modes.magic_yaml = {\n                        reg: [\"^%%yaml\"]\n                    }\n                }\n            );\n            ",
      "text/plain": [
       "<IPython.core.display.Javascript object>"
      ]
     },
     "metadata": {},
     "output_type": "display_data"
    }
   ],
   "source": [
    "%%yaml oasis_thunder_cfg\n",
    "\n",
    "proc_root: \"/storage/vbutoi/datasets/OASIS/processed\"\n",
    "dst_dir: \"/storage/vbutoi/datasets/OASIS/thunder_oasis\"\n",
    "show_examples: False \n",
    "version: 0.1"
   ]
  },
  {
   "cell_type": "code",
   "execution_count": 6,
   "metadata": {},
   "outputs": [],
   "source": [
    "# from ese.experiment.datasets.utils import thunderify_OASIS\n",
    "# from ionpy.util import Config\n",
    "\n",
    "# thunderify_OASIS(Config(oasis_thunder_cfg))"
   ]
  },
  {
   "cell_type": "code",
   "execution_count": 7,
   "metadata": {},
   "outputs": [
    {
     "name": "stdout",
     "output_type": "stream",
     "text": [
      "Initalized SliteRunner\n"
     ]
    },
    {
     "name": "stdout",
     "output_type": "stream",
     "text": [
      "Submitted job id: 435140.\n"
     ]
    }
   ],
   "source": [
    "from ionpy.slite.submit import submit_jobs\n",
    "from ionpy.util import Config\n",
    "from ese.experiment.datasets.utils import thunderify_OASIS \n",
    "\n",
    "submit_jobs(\n",
    "    project=\"ESE\",\n",
    "    exp_name=\"10_15_23_Thunder_OASIS\",\n",
    "    config_list=[Config(oasis_thunder_cfg)], \n",
    "    job_func=thunderify_OASIS\n",
    "    )"
   ]
  }
 ],
 "metadata": {
  "kernelspec": {
   "display_name": "UniverSegTF",
   "language": "python",
   "name": "universegtf"
  },
  "language_info": {
   "codemirror_mode": {
    "name": "ipython",
    "version": 3
   },
   "file_extension": ".py",
   "mimetype": "text/x-python",
   "name": "python",
   "nbconvert_exporter": "python",
   "pygments_lexer": "ipython3",
   "version": "3.9.16"
  },
  "orig_nbformat": 4
 },
 "nbformat": 4,
 "nbformat_minor": 2
}
