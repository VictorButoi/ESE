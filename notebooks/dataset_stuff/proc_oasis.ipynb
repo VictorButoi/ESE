{
 "cells": [
  {
   "cell_type": "code",
   "execution_count": 1,
   "metadata": {},
   "outputs": [],
   "source": [
    "import pathlib\n",
    "import sys\n",
    "sys.path.append(\"/storage/vbutoi/projects/ESE\")\n",
    "sys.path.append(\"/storage/vbutoi/projects\")\n",
    "sys.path.append(\"/storage/vbutoi/libraries\")\n",
    "\n",
    "%load_ext autoreload\n",
    "%autoreload 2\n",
    "\n",
    "%load_ext yamlmagic"
   ]
  },
  {
   "cell_type": "code",
   "execution_count": 2,
   "metadata": {},
   "outputs": [
    {
     "data": {
      "application/javascript": "\n            require(\n                [\n                    \"notebook/js/codecell\",\n                    \"codemirror/mode/yaml/yaml\"\n                ],\n                function(cc){\n                    cc.CodeCell.options_default.highlight_modes.magic_yaml = {\n                        reg: [\"^%%yaml\"]\n                    }\n                }\n            );\n            ",
      "text/plain": [
       "<IPython.core.display.Javascript object>"
      ]
     },
     "metadata": {},
     "output_type": "display_data"
    }
   ],
   "source": [
    "%%yaml oasis_proc_config\n",
    "\n",
    "data_root: \"/storage/vbutoi/datasets/OASIS\"\n",
    "version: 0.1\n",
    "show_examples: True \n",
    "save: False "
   ]
  },
  {
   "cell_type": "code",
   "execution_count": 3,
   "metadata": {},
   "outputs": [
    {
     "ename": "NameError",
     "evalue": "name 'data_dirs' is not defined",
     "output_type": "error",
     "traceback": [
      "\u001b[0;31m---------------------------------------------------------------------------\u001b[0m",
      "\u001b[0;31mNameError\u001b[0m                                 Traceback (most recent call last)",
      "\u001b[1;32m/storage/vbutoi/projects/ESE/notebooks/dataset_stuff/proc_oasis.ipynb Cell 3\u001b[0m line \u001b[0;36m4\n\u001b[1;32m      <a href='vscode-notebook-cell://ssh-remote%2Bmars/storage/vbutoi/projects/ESE/notebooks/dataset_stuff/proc_oasis.ipynb#W2sdnNjb2RlLXJlbW90ZQ%3D%3D?line=0'>1</a>\u001b[0m \u001b[39mfrom\u001b[39;00m \u001b[39mese\u001b[39;00m\u001b[39m.\u001b[39;00m\u001b[39mexperiment\u001b[39;00m\u001b[39m.\u001b[39;00m\u001b[39mdatasets\u001b[39;00m\u001b[39m.\u001b[39;00m\u001b[39mutils\u001b[39;00m \u001b[39mimport\u001b[39;00m proc_OASIS\n\u001b[1;32m      <a href='vscode-notebook-cell://ssh-remote%2Bmars/storage/vbutoi/projects/ESE/notebooks/dataset_stuff/proc_oasis.ipynb#W2sdnNjb2RlLXJlbW90ZQ%3D%3D?line=1'>2</a>\u001b[0m \u001b[39mfrom\u001b[39;00m \u001b[39mionpy\u001b[39;00m\u001b[39m.\u001b[39;00m\u001b[39mutil\u001b[39;00m \u001b[39mimport\u001b[39;00m Config\n\u001b[0;32m----> <a href='vscode-notebook-cell://ssh-remote%2Bmars/storage/vbutoi/projects/ESE/notebooks/dataset_stuff/proc_oasis.ipynb#W2sdnNjb2RlLXJlbW90ZQ%3D%3D?line=3'>4</a>\u001b[0m proc_OASIS(Config(oasis_proc_config))\n",
      "File \u001b[0;32m/storage/vbutoi/projects/ESE/ese/experiment/datasets/utils/build_oasis.py:97\u001b[0m, in \u001b[0;36mproc_OASIS\u001b[0;34m(cfg)\u001b[0m\n\u001b[1;32m     95\u001b[0m proc_root \u001b[39m=\u001b[39m pathlib\u001b[39m.\u001b[39mPath(\u001b[39mf\u001b[39m\u001b[39m\"\u001b[39m\u001b[39m/storage/vbutoi/datasets/WMH/processed/\u001b[39m\u001b[39m{\u001b[39;00mcfg[\u001b[39m'\u001b[39m\u001b[39mversion\u001b[39m\u001b[39m'\u001b[39m]\u001b[39m}\u001b[39;00m\u001b[39m\"\u001b[39m) \n\u001b[1;32m     96\u001b[0m \u001b[39m# This is where we will save the processed data\u001b[39;00m\n\u001b[0;32m---> 97\u001b[0m \u001b[39mfor\u001b[39;00m ud \u001b[39min\u001b[39;00m data_dirs:\n\u001b[1;32m     98\u001b[0m     \u001b[39m# Get the datacenter\u001b[39;00m\n\u001b[1;32m     99\u001b[0m     split_args \u001b[39m=\u001b[39m \u001b[39mstr\u001b[39m(ud)\u001b[39m.\u001b[39msplit(\u001b[39m\"\u001b[39m\u001b[39m/\u001b[39m\u001b[39m\"\u001b[39m)\n\u001b[1;32m    100\u001b[0m     datacenter \u001b[39m=\u001b[39m split_args[\u001b[39m-\u001b[39m\u001b[39m2\u001b[39m]\n",
      "\u001b[0;31mNameError\u001b[0m: name 'data_dirs' is not defined"
     ]
    }
   ],
   "source": [
    "from ese.experiment.datasets.utils import proc_OASIS\n",
    "from ionpy.util import Config\n",
    "\n",
    "proc_OASIS(Config(oasis_proc_config))"
   ]
  },
  {
   "cell_type": "code",
   "execution_count": null,
   "metadata": {},
   "outputs": [],
   "source": [
    "# from ionpy.slite.submit import submit_jobs\n",
    "# from ionpy.util import Config\n",
    "# from ese.experiment.datasets.utils import proc_CityScapes\n",
    "\n",
    "# submit_jobs(\n",
    "#     project=\"ESE\",\n",
    "#     exp_name=\"10_11_23_Proc_CityScapes\",\n",
    "#     config_list=[Config(cityscapes_config)], \n",
    "#     job_func=proc_CityScapes\n",
    "#     )"
   ]
  },
  {
   "cell_type": "code",
   "execution_count": null,
   "metadata": {},
   "outputs": [],
   "source": [
    "# %%yaml cityscapes_thunder_cfg\n",
    "\n",
    "# proc_root: \"/storage/vbutoi/datasets/CityScapes/processed\"\n",
    "# dst_dir: \"/storage/vbutoi/datasets/CityScapes/thunder_cityscapes\"\n",
    "# version: 0.1"
   ]
  },
  {
   "cell_type": "code",
   "execution_count": null,
   "metadata": {},
   "outputs": [],
   "source": [
    "# from ese.experiment.datasets.utils import thunderify_CityScapes\n",
    "# from ionpy.util import Config\n",
    "\n",
    "# thunderify_CityScapes(Config(cityscapes_thunder_cfg))"
   ]
  },
  {
   "cell_type": "code",
   "execution_count": null,
   "metadata": {},
   "outputs": [],
   "source": [
    "# from ionpy.slite.submit import submit_jobs\n",
    "# from ionpy.util import Config\n",
    "# from ese.experiment.datasets.utils import thunderify_CityScapes \n",
    "\n",
    "# submit_jobs(\n",
    "#     project=\"ESE\",\n",
    "#     exp_name=\"10_11_23_Thunder_CityScapes\",\n",
    "#     config_list=[Config(cityscapes_thunder_cfg)], \n",
    "#     job_func=thunderify_CityScapes\n",
    "#     )"
   ]
  }
 ],
 "metadata": {
  "kernelspec": {
   "display_name": "UniverSegTF",
   "language": "python",
   "name": "universegtf"
  },
  "language_info": {
   "codemirror_mode": {
    "name": "ipython",
    "version": 3
   },
   "file_extension": ".py",
   "mimetype": "text/x-python",
   "name": "python",
   "nbconvert_exporter": "python",
   "pygments_lexer": "ipython3",
   "version": "3.9.16"
  },
  "orig_nbformat": 4
 },
 "nbformat": 4,
 "nbformat_minor": 2
}
