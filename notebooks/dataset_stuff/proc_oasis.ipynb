{
 "cells": [
  {
   "cell_type": "code",
   "execution_count": null,
   "metadata": {},
   "outputs": [],
   "source": [
    "import sys\n",
    "sys.path.append(\"/storage/vbutoi/projects/ESE\")\n",
    "sys.path.append(\"/storage/vbutoi/projects\")\n",
    "sys.path.append(\"/storage/vbutoi/libraries\")\n",
    "\n",
    "%load_ext autoreload\n",
    "%autoreload 2\n",
    "\n",
    "%load_ext yamlmagic"
   ]
  },
  {
   "cell_type": "code",
   "execution_count": null,
   "metadata": {},
   "outputs": [],
   "source": [
    "# %%yaml oasis_proc_config\n",
    "\n",
    "# data_root: \"/storage/vbutoi/datasets/OASIS\"\n",
    "# version: 0.1\n",
    "# show_examples: False \n",
    "# save: True "
   ]
  },
  {
   "cell_type": "code",
   "execution_count": null,
   "metadata": {},
   "outputs": [],
   "source": [
    "# from ese.experiment.datasets.utils import proc_OASIS\n",
    "# from ionpy.util import Config\n",
    "\n",
    "# proc_OASIS(Config(oasis_proc_config))"
   ]
  },
  {
   "cell_type": "code",
   "execution_count": null,
   "metadata": {},
   "outputs": [],
   "source": [
    "# from ionpy.slite.submit import submit_jobs\n",
    "# from ionpy.util import Config\n",
    "# from ese.experiment.datasets.utils import proc_OASIS\n",
    "\n",
    "# submit_jobs(\n",
    "#     project=\"ESE\",\n",
    "#     exp_name=\"10_14_23_Proc_OASIS\",\n",
    "#     config_list=[Config(oasis_proc_config)], \n",
    "#     job_func=proc_OASIS\n",
    "#     )"
   ]
  },
  {
   "cell_type": "code",
   "execution_count": null,
   "metadata": {},
   "outputs": [],
   "source": [
    "%%yaml oasis_thunder_cfg\n",
    "\n",
    "proc_root: \"/storage/vbutoi/datasets/OASIS/processed\"\n",
    "dst_dir: \"/storage/vbutoi/datasets/OASIS/thunder_oasis\"\n",
    "show_examples: False \n",
    "proc_version: 0.1\n",
    "out_version: 0.2"
   ]
  },
  {
   "cell_type": "code",
   "execution_count": null,
   "metadata": {},
   "outputs": [],
   "source": [
    "# from ese.experiment.datasets.utils import thunderify_OASIS\n",
    "# from ionpy.util import Config\n",
    "\n",
    "# thunderify_OASIS(Config(oasis_thunder_cfg))"
   ]
  },
  {
   "cell_type": "code",
   "execution_count": null,
   "metadata": {},
   "outputs": [],
   "source": [
    "from ionpy.util import Config\n",
    "from ionpy.slite.submit import submit_jobs\n",
    "from ese.experiment.datasets.utils import thunderify_OASIS \n",
    "\n",
    "submit_jobs(\n",
    "    exp_root=\"/storage/vbutoi/scratch/ESE/debug/01_11_24_Thunder_OASIS\",\n",
    "    job_func=thunderify_OASIS,\n",
    "    config_list=[Config(oasis_thunder_cfg)],\n",
    "    available_gpus=['0']\n",
    ")"
   ]
  }
 ],
 "metadata": {
  "kernelspec": {
   "display_name": "UniverSegTF",
   "language": "python",
   "name": "universegtf"
  },
  "language_info": {
   "codemirror_mode": {
    "name": "ipython",
    "version": 3
   },
   "file_extension": ".py",
   "mimetype": "text/x-python",
   "name": "python",
   "nbconvert_exporter": "python",
   "pygments_lexer": "ipython3",
   "version": "3.9.16"
  },
  "orig_nbformat": 4
 },
 "nbformat": 4,
 "nbformat_minor": 2
}
