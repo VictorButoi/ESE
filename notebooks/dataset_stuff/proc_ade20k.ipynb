{
 "cells": [
  {
   "cell_type": "code",
   "execution_count": null,
   "metadata": {},
   "outputs": [],
   "source": [
    "import pathlib\n",
    "import sys\n",
    "sys.path.append(\"/storage/vbutoi/projects/ESE\")\n",
    "sys.path.append(\"/storage/vbutoi/projects\")\n",
    "sys.path.append(\"/storage/vbutoi/libraries\")\n",
    "\n",
    "%load_ext autoreload\n",
    "%autoreload 2\n",
    "\n",
    "%load_ext yamlmagic"
   ]
  },
  {
   "cell_type": "code",
   "execution_count": null,
   "metadata": {},
   "outputs": [],
   "source": [
    "# %%yaml ade_proc_config\n",
    "\n",
    "# data_root: \"/storage/vbutoi/datasets/ADE20K\"\n",
    "# version: 0.1\n",
    "# show_examples: True\n",
    "# save: False "
   ]
  },
  {
   "cell_type": "code",
   "execution_count": null,
   "metadata": {},
   "outputs": [],
   "source": [
    "# from ese.experiment.datasets.utils import proc_ADE20K\n",
    "# from ionpy.util import Config\n",
    "\n",
    "# proc_ADE20K(Config(ade_proc_config))"
   ]
  },
  {
   "cell_type": "code",
   "execution_count": null,
   "metadata": {},
   "outputs": [],
   "source": [
    "# from ionpy.slite.submit import submit_jobs\n",
    "# from ionpy.util import Config\n",
    "# from ese.experiment.datasets.utils import proc_ADE20K\n",
    "\n",
    "# submit_jobs(\n",
    "#     project=\"ESE\",\n",
    "#     exp_name=\"10_11_23_Proc_ADE20K\",\n",
    "#     config_list=[Config(ade_proc_config)], \n",
    "#     job_func=proc_ADE20K,\n",
    "#     )"
   ]
  },
  {
   "cell_type": "code",
   "execution_count": null,
   "metadata": {},
   "outputs": [],
   "source": [
    "%%yaml ade_thunder_cfg\n",
    "\n",
    "data_root: \"/storage/vbutoi/datasets/ADE20K\"\n",
    "dst_dir: \"/storage/vbutoi/datasets/ADE20K/thunder_ade20k\"\n",
    "version: 0.1"
   ]
  },
  {
   "cell_type": "code",
   "execution_count": null,
   "metadata": {},
   "outputs": [],
   "source": [
    "# from ese.experiment.datasets.utils import thunderify_ADE20K\n",
    "# from ionpy.util import Config\n",
    "\n",
    "# thunderify_ADE20K(Config(ade_thunder_cfg))"
   ]
  },
  {
   "cell_type": "code",
   "execution_count": null,
   "metadata": {},
   "outputs": [],
   "source": [
    "from ionpy.slite.submit import submit_jobs\n",
    "from ionpy.util import Config\n",
    "from ese.experiment.datasets.utils import thunderify_ADE20K\n",
    "\n",
    "submit_jobs(\n",
    "    project=\"ESE\",\n",
    "    exp_name=\"10_11_23_Thunder_ADE20K\",\n",
    "    config_list=[Config(ade_thunder_cfg)], \n",
    "    job_func=thunderify_ADE20K,\n",
    "    )"
   ]
  }
 ],
 "metadata": {
  "kernelspec": {
   "display_name": "UniverSegTF",
   "language": "python",
   "name": "universegtf"
  },
  "language_info": {
   "codemirror_mode": {
    "name": "ipython",
    "version": 3
   },
   "file_extension": ".py",
   "mimetype": "text/x-python",
   "name": "python",
   "nbconvert_exporter": "python",
   "pygments_lexer": "ipython3",
   "version": "3.9.16"
  },
  "orig_nbformat": 4
 },
 "nbformat": 4,
 "nbformat_minor": 2
}
